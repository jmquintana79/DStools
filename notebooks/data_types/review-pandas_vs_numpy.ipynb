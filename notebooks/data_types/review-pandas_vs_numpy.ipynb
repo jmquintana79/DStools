{
 "cells": [
  {
   "cell_type": "markdown",
   "metadata": {},
   "source": [
    "# Review: Pandas DF vs Numpy Arrays / Structured Arrays"
   ]
  },
  {
   "cell_type": "code",
   "execution_count": 1,
   "metadata": {},
   "outputs": [],
   "source": [
    "import numpy as np\n",
    "import pandas as pd\n",
    "import sys\n",
    "from numpy.lib.recfunctions import unstructured_to_structured"
   ]
  },
  {
   "cell_type": "markdown",
   "metadata": {},
   "source": [
    "### functions"
   ]
  },
  {
   "cell_type": "code",
   "execution_count": 44,
   "metadata": {},
   "outputs": [],
   "source": [
    "def get_size(variable):\n",
    "    if isinstance(variable, pd.DataFrame):\n",
    "        size = sys.getsizeof(variable)\n",
    "    else:\n",
    "        size = variable.nbytes\n",
    "    if size > 1_000_000:\n",
    "        size = size / 1_000_000\n",
    "        units = 'Megabytes'\n",
    "    elif size > 1_000:\n",
    "        size = size / 1_000\n",
    "        units = 'Kilobytes'\n",
    "    else:\n",
    "        units = 'Bytes'\n",
    "    print(f\"{size} {units} and shape {variable.shape}.\")\n",
    "\n",
    "\n",
    "def to_structured(arr, dtype):\n",
    "    return unstructured_to_structured(arr, dtype=dtype)\n",
    "    "
   ]
  },
  {
   "cell_type": "markdown",
   "metadata": {},
   "source": [
    "### review"
   ]
  },
  {
   "cell_type": "code",
   "execution_count": 45,
   "metadata": {},
   "outputs": [],
   "source": [
    "example_size = (10_000_000, 3)"
   ]
  },
  {
   "cell_type": "code",
   "execution_count": 46,
   "metadata": {},
   "outputs": [
    {
     "name": "stdout",
     "output_type": "stream",
     "text": [
      "240.0 Megabytes and shape (10000000, 3).\n"
     ]
    }
   ],
   "source": [
    "# Numpy Array large data example\n",
    "a_data = np.ones(example_size)\n",
    "get_size(a_data)"
   ]
  },
  {
   "cell_type": "code",
   "execution_count": 47,
   "metadata": {},
   "outputs": [
    {
     "name": "stdout",
     "output_type": "stream",
     "text": [
      "240.0 Megabytes and shape (10000000,).\n"
     ]
    }
   ],
   "source": [
    "# Structured Array\n",
    "sa_data = to_structured(a_data, np.dtype([('c1', np.float64), ('c2', np.float64), ('c3', np.float64)]))\n",
    "get_size(sa_data)"
   ]
  },
  {
   "cell_type": "code",
   "execution_count": 48,
   "metadata": {},
   "outputs": [
    {
     "name": "stdout",
     "output_type": "stream",
     "text": [
      "240.000152 Megabytes and shape (10000000, 3).\n"
     ]
    }
   ],
   "source": [
    "# Pandas\n",
    "df = pd.DataFrame(a_data, columns = [\"c1\", \"c2\", \"c3\"])\n",
    "get_size(df)"
   ]
  },
  {
   "cell_type": "markdown",
   "metadata": {},
   "source": [
    "### save"
   ]
  },
  {
   "cell_type": "code",
   "execution_count": 7,
   "metadata": {},
   "outputs": [],
   "source": [
    "np.save(\"file\", a_data)"
   ]
  },
  {
   "cell_type": "code",
   "execution_count": 10,
   "metadata": {},
   "outputs": [],
   "source": [
    "np.save(\"file2\", sa_data)"
   ]
  },
  {
   "cell_type": "code",
   "execution_count": 8,
   "metadata": {},
   "outputs": [],
   "source": [
    "np.savetxt(\"file.csv\", a_data, delimiter=\",\")"
   ]
  },
  {
   "cell_type": "code",
   "execution_count": 9,
   "metadata": {},
   "outputs": [],
   "source": [
    "df.to_csv(\"file2.csv\")"
   ]
  },
  {
   "cell_type": "markdown",
   "metadata": {},
   "source": [
    "### load"
   ]
  },
  {
   "cell_type": "code",
   "execution_count": 20,
   "metadata": {},
   "outputs": [
    {
     "name": "stdout",
     "output_type": "stream",
     "text": [
      "240.00012 Megabytes and shape (10000000, 3).\n"
     ]
    }
   ],
   "source": [
    "a_data2 = np.load(\"file.npy\")\n",
    "get_size(a_data2)"
   ]
  },
  {
   "cell_type": "code",
   "execution_count": 21,
   "metadata": {},
   "outputs": [
    {
     "name": "stdout",
     "output_type": "stream",
     "text": [
      "240.000104 Megabytes and shape (10000000,).\n"
     ]
    }
   ],
   "source": [
    "sa_data2 = np.load(\"file2.npy\")\n",
    "get_size(sa_data2)"
   ]
  },
  {
   "cell_type": "code",
   "execution_count": 25,
   "metadata": {},
   "outputs": [
    {
     "data": {
      "text/plain": [
       "array([[1., 1., 1.],\n",
       "       [1., 1., 1.],\n",
       "       [1., 1., 1.],\n",
       "       ...,\n",
       "       [1., 1., 1.],\n",
       "       [1., 1., 1.],\n",
       "       [1., 1., 1.]])"
      ]
     },
     "execution_count": 25,
     "metadata": {},
     "output_type": "execute_result"
    }
   ],
   "source": [
    "np.genfromtxt(\"file.csv\", delimiter=',')"
   ]
  },
  {
   "cell_type": "code",
   "execution_count": 26,
   "metadata": {},
   "outputs": [],
   "source": [
    "df2 = pd.read_csv(\"file2.csv\")"
   ]
  },
  {
   "cell_type": "markdown",
   "metadata": {},
   "source": [
    "### operations / sum"
   ]
  },
  {
   "cell_type": "code",
   "execution_count": 29,
   "metadata": {},
   "outputs": [
    {
     "data": {
      "text/plain": [
       "10000000.0"
      ]
     },
     "execution_count": 29,
     "metadata": {},
     "output_type": "execute_result"
    }
   ],
   "source": [
    "a_data[:,0].sum()"
   ]
  },
  {
   "cell_type": "code",
   "execution_count": 30,
   "metadata": {},
   "outputs": [
    {
     "data": {
      "text/plain": [
       "10000000.0"
      ]
     },
     "execution_count": 30,
     "metadata": {},
     "output_type": "execute_result"
    }
   ],
   "source": [
    "sa_data[\"c1\"].sum()"
   ]
  },
  {
   "cell_type": "code",
   "execution_count": 31,
   "metadata": {},
   "outputs": [
    {
     "data": {
      "text/plain": [
       "10000000.0"
      ]
     },
     "execution_count": 31,
     "metadata": {},
     "output_type": "execute_result"
    }
   ],
   "source": [
    "df[\"c1\"].sum()"
   ]
  },
  {
   "cell_type": "markdown",
   "metadata": {},
   "source": [
    "### downgrade dtypes"
   ]
  },
  {
   "cell_type": "code",
   "execution_count": 59,
   "metadata": {},
   "outputs": [
    {
     "name": "stdout",
     "output_type": "stream",
     "text": [
      "60.000152 Megabytes and shape (10000000, 3).\n"
     ]
    }
   ],
   "source": [
    "for c in df.columns:\n",
    "    df[c] = df[c].astype(np.float16)\n",
    "get_size(df)"
   ]
  },
  {
   "cell_type": "code",
   "execution_count": 60,
   "metadata": {},
   "outputs": [
    {
     "data": {
      "text/plain": [
       "c1    float16\n",
       "c2    float16\n",
       "c3    float16\n",
       "dtype: object"
      ]
     },
     "execution_count": 60,
     "metadata": {},
     "output_type": "execute_result"
    }
   ],
   "source": [
    "df.dtypes"
   ]
  },
  {
   "cell_type": "code",
   "execution_count": 62,
   "metadata": {},
   "outputs": [],
   "source": [
    "df.to_csv(\"file3.csv\")"
   ]
  },
  {
   "cell_type": "markdown",
   "metadata": {},
   "source": [
    "### save Pandas DF as Structured Array npz"
   ]
  },
  {
   "cell_type": "code",
   "execution_count": 75,
   "metadata": {},
   "outputs": [],
   "source": [
    "records = df.to_records(index=False)\n",
    "data = np.array(records, dtype = records.dtype.descr)\n",
    "np.save(\"file3\", data)"
   ]
  },
  {
   "cell_type": "markdown",
   "metadata": {},
   "source": [
    "```\n",
    "-rw-r--r--   1 juan  staff   715M Oct 15 00:19 file.csv\n",
    "-rw-r--r--   1 juan  staff   229M Oct 15 00:18 file.npy\n",
    "-rw-r--r--   1 juan  staff   190M Oct 15 00:19 file2.csv\n",
    "-rw-r--r--   1 juan  staff   229M Oct 15 00:19 file2.npy\n",
    "-rw-r--r--   1 juan  staff   190M Oct 15 00:19 file3.csv\n",
    "-rw-r--r--   1 juan  staff    57M Oct 15 01:23 file3.npy\n",
    "```"
   ]
  },
  {
   "cell_type": "code",
   "execution_count": 79,
   "metadata": {},
   "outputs": [
    {
     "name": "stdout",
     "output_type": "stream",
     "text": [
      "60.000152 Megabytes and shape (10000000, 3).\n"
     ]
    }
   ],
   "source": [
    "df3 = pd.DataFrame(np.load(\"file3.npy\"))\n",
    "get_size(df3)"
   ]
  },
  {
   "cell_type": "markdown",
   "metadata": {},
   "source": [
    "# Conclusions\n",
    "\n",
    "- Para el uso normal usar Pandas tiene mas funcionalidades utiles que Numpy donde se destaca el GroupBy.\n",
    "- Para datasets smaller el mejor performance es de Numpy pero no por mucho. Para datasets lagers es al contrario.\n",
    "- Para guardar grandes cantidades de informacion, lo mejor es usar npy/npz (Numpy format). Para no perder header, se puede usar Structured Numpy arrays."
   ]
  }
 ],
 "metadata": {
  "kernelspec": {
   "display_name": "analysis",
   "language": "python",
   "name": "analysis"
  },
  "language_info": {
   "codemirror_mode": {
    "name": "ipython",
    "version": 3
   },
   "file_extension": ".py",
   "mimetype": "text/x-python",
   "name": "python",
   "nbconvert_exporter": "python",
   "pygments_lexer": "ipython3",
   "version": "3.7.0"
  },
  "orig_nbformat": 4
 },
 "nbformat": 4,
 "nbformat_minor": 2
}
