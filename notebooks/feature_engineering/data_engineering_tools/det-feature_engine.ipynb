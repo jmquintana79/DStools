{
 "cells": [
  {
   "cell_type": "markdown",
   "id": "423a3c64-a333-4225-b1f6-ac1bb7cbbbfc",
   "metadata": {},
   "source": [
    "# Data Engineering Tools (DET): Feature-Engine"
   ]
  },
  {
   "cell_type": "code",
   "execution_count": 126,
   "id": "f6a7c719-afee-4c13-9bb4-1b79e1052edf",
   "metadata": {},
   "outputs": [],
   "source": [
    "%matplotlib inline\n",
    "import warnings\n",
    "warnings.filterwarnings('ignore')\n",
    "from datetime import datetime\n",
    "import numpy as np\n",
    "import pandas as pd\n",
    "pd.options.display.max_rows = 999\n",
    "pd.options.display.max_columns = 99\n",
    "import matplotlib.pyplot as plt\n",
    "# library\n"
   ]
  },
  {
   "cell_type": "markdown",
   "id": "1d093865-bb48-4b60-bbc2-9689ee2f88fa",
   "metadata": {},
   "source": [
    "# LOAD DATA"
   ]
  },
  {
   "cell_type": "code",
   "execution_count": 127,
   "id": "92219dab-2686-4cbf-848d-0ad0f4d6e8f2",
   "metadata": {},
   "outputs": [
    {
     "data": {
      "text/plain": [
       "(1460, 81)"
      ]
     },
     "execution_count": 127,
     "metadata": {},
     "output_type": "execute_result"
    }
   ],
   "source": [
    "from sklearn.datasets import fetch_openml\n",
    "dataset = fetch_openml(name=\"house_prices\", as_frame=True)\n",
    "col_y = dataset[\"target_names\"]\n",
    "col_x = dataset[\"feature_names\"]\n",
    "data = dataset[\"frame\"]\n",
    "data.shape"
   ]
  },
  {
   "cell_type": "code",
   "execution_count": 128,
   "id": "35ba97a8-4d1b-4d8e-9938-e58f288b6d5f",
   "metadata": {},
   "outputs": [
    {
     "name": "stdout",
     "output_type": "stream",
     "text": [
      "<class 'pandas.core.frame.DataFrame'>\n",
      "RangeIndex: 1460 entries, 0 to 1459\n",
      "Data columns (total 81 columns):\n",
      " #   Column         Non-Null Count  Dtype  \n",
      "---  ------         --------------  -----  \n",
      " 0   Id             1460 non-null   float64\n",
      " 1   MSSubClass     1460 non-null   float64\n",
      " 2   MSZoning       1460 non-null   object \n",
      " 3   LotFrontage    1201 non-null   float64\n",
      " 4   LotArea        1460 non-null   float64\n",
      " 5   Street         1460 non-null   object \n",
      " 6   Alley          91 non-null     object \n",
      " 7   LotShape       1460 non-null   object \n",
      " 8   LandContour    1460 non-null   object \n",
      " 9   Utilities      1460 non-null   object \n",
      " 10  LotConfig      1460 non-null   object \n",
      " 11  LandSlope      1460 non-null   object \n",
      " 12  Neighborhood   1460 non-null   object \n",
      " 13  Condition1     1460 non-null   object \n",
      " 14  Condition2     1460 non-null   object \n",
      " 15  BldgType       1460 non-null   object \n",
      " 16  HouseStyle     1460 non-null   object \n",
      " 17  OverallQual    1460 non-null   float64\n",
      " 18  OverallCond    1460 non-null   float64\n",
      " 19  YearBuilt      1460 non-null   float64\n",
      " 20  YearRemodAdd   1460 non-null   float64\n",
      " 21  RoofStyle      1460 non-null   object \n",
      " 22  RoofMatl       1460 non-null   object \n",
      " 23  Exterior1st    1460 non-null   object \n",
      " 24  Exterior2nd    1460 non-null   object \n",
      " 25  MasVnrType     1452 non-null   object \n",
      " 26  MasVnrArea     1452 non-null   float64\n",
      " 27  ExterQual      1460 non-null   object \n",
      " 28  ExterCond      1460 non-null   object \n",
      " 29  Foundation     1460 non-null   object \n",
      " 30  BsmtQual       1423 non-null   object \n",
      " 31  BsmtCond       1423 non-null   object \n",
      " 32  BsmtExposure   1422 non-null   object \n",
      " 33  BsmtFinType1   1423 non-null   object \n",
      " 34  BsmtFinSF1     1460 non-null   float64\n",
      " 35  BsmtFinType2   1422 non-null   object \n",
      " 36  BsmtFinSF2     1460 non-null   float64\n",
      " 37  BsmtUnfSF      1460 non-null   float64\n",
      " 38  TotalBsmtSF    1460 non-null   float64\n",
      " 39  Heating        1460 non-null   object \n",
      " 40  HeatingQC      1460 non-null   object \n",
      " 41  CentralAir     1460 non-null   object \n",
      " 42  Electrical     1459 non-null   object \n",
      " 43  1stFlrSF       1460 non-null   float64\n",
      " 44  2ndFlrSF       1460 non-null   float64\n",
      " 45  LowQualFinSF   1460 non-null   float64\n",
      " 46  GrLivArea      1460 non-null   float64\n",
      " 47  BsmtFullBath   1460 non-null   float64\n",
      " 48  BsmtHalfBath   1460 non-null   float64\n",
      " 49  FullBath       1460 non-null   float64\n",
      " 50  HalfBath       1460 non-null   float64\n",
      " 51  BedroomAbvGr   1460 non-null   float64\n",
      " 52  KitchenAbvGr   1460 non-null   float64\n",
      " 53  KitchenQual    1460 non-null   object \n",
      " 54  TotRmsAbvGrd   1460 non-null   float64\n",
      " 55  Functional     1460 non-null   object \n",
      " 56  Fireplaces     1460 non-null   float64\n",
      " 57  FireplaceQu    770 non-null    object \n",
      " 58  GarageType     1379 non-null   object \n",
      " 59  GarageYrBlt    1379 non-null   float64\n",
      " 60  GarageFinish   1379 non-null   object \n",
      " 61  GarageCars     1460 non-null   float64\n",
      " 62  GarageArea     1460 non-null   float64\n",
      " 63  GarageQual     1379 non-null   object \n",
      " 64  GarageCond     1379 non-null   object \n",
      " 65  PavedDrive     1460 non-null   object \n",
      " 66  WoodDeckSF     1460 non-null   float64\n",
      " 67  OpenPorchSF    1460 non-null   float64\n",
      " 68  EnclosedPorch  1460 non-null   float64\n",
      " 69  3SsnPorch      1460 non-null   float64\n",
      " 70  ScreenPorch    1460 non-null   float64\n",
      " 71  PoolArea       1460 non-null   float64\n",
      " 72  PoolQC         7 non-null      object \n",
      " 73  Fence          281 non-null    object \n",
      " 74  MiscFeature    54 non-null     object \n",
      " 75  MiscVal        1460 non-null   float64\n",
      " 76  MoSold         1460 non-null   float64\n",
      " 77  YrSold         1460 non-null   float64\n",
      " 78  SaleType       1460 non-null   object \n",
      " 79  SaleCondition  1460 non-null   object \n",
      " 80  SalePrice      1460 non-null   float64\n",
      "dtypes: float64(38), object(43)\n",
      "memory usage: 924.0+ KB\n"
     ]
    }
   ],
   "source": [
    "data.info()"
   ]
  },
  {
   "cell_type": "markdown",
   "id": "3c927a7b-5b72-4991-ac5b-313d4d5cc7da",
   "metadata": {},
   "source": [
    "# LIBRARY"
   ]
  },
  {
   "cell_type": "markdown",
   "id": "1f38f79e-e8b9-4177-8ab3-a1c208702102",
   "metadata": {},
   "source": [
    "## [IMPUTATION](https://feature-engine.readthedocs.io/en/1.3.x/user_guide/imputation/index.html)"
   ]
  },
  {
   "cell_type": "code",
   "execution_count": 129,
   "id": "b5e3d5a6-8eaa-46d9-8633-782c4ebf07ea",
   "metadata": {},
   "outputs": [],
   "source": [
    "# imputers\n",
    "from feature_engine.imputation import MeanMedianImputer\n",
    "from feature_engine.imputation import ArbitraryNumberImputer\n",
    "from feature_engine.imputation import EndTailImputer\n",
    "from feature_engine.imputation import CategoricalImputer\n",
    "from feature_engine.imputation import RandomSampleImputer\n",
    "# add indicator\n",
    "from feature_engine.imputation import AddMissingIndicator\n",
    "# drop records\n",
    "from feature_engine.imputation import DropMissingData"
   ]
  },
  {
   "cell_type": "markdown",
   "id": "84f8dd2d-a945-4bb0-91bb-3fc049e25ffb",
   "metadata": {},
   "source": [
    "### numerical imputation"
   ]
  },
  {
   "cell_type": "code",
   "execution_count": 158,
   "id": "484dc49f-db7f-4403-8665-0ae800864c6f",
   "metadata": {},
   "outputs": [],
   "source": [
    "# selected variable\n",
    "var_sel = 'LotFrontage'"
   ]
  },
  {
   "cell_type": "code",
   "execution_count": 159,
   "id": "a4995181-6a33-4ac1-bcc4-8d8d6ad7896d",
   "metadata": {},
   "outputs": [],
   "source": [
    "# set up the Mean/Median Imputer (only numerical)\n",
    "median_imputer = MeanMedianImputer(\n",
    "                   imputation_method='median',\n",
    "                   variables=[var_sel]\n",
    "                   )\n",
    "\n",
    "# set up the Arbitrary Number (number selected by user) Imputer (only numerical)\n",
    "arbitrary_imputer = ArbitraryNumberImputer(\n",
    "    arbitrary_number=-99,\n",
    "    variables=[var_sel],\n",
    "    )\n",
    "\"\"\"\n",
    "# also possible\n",
    "arbitrary_imputer = ArbitraryNumberImputer(\n",
    "        imputer_dict = {'varA' : 1, 'varB': 99}\n",
    "        )\n",
    "\"\"\"\n",
    "\n",
    "# set up the End Tail Imputer (only numerical)\n",
    "tail_imputer = EndTailImputer(imputation_method='gaussian',\n",
    "                          tail='right',\n",
    "                          fold=3, # 3 times mean + (right) standard deviation\n",
    "                          variables=[var_sel])\n",
    "\n",
    "# set up the Categorical Imputer (numerical and categorical)\n",
    "cat_imputer = CategoricalImputer(variables=[var_sel], imputation_method = 'frequent', ignore_format = True)\n",
    "\n",
    "# set up the Random Sample Imputer (numerical and categorical)\n",
    "random_imputer = RandomSampleImputer(\n",
    "        random_state=[var_sel],\n",
    "        seed='observation',\n",
    "        seeding_method='add'\n",
    "    )"
   ]
  },
  {
   "cell_type": "code",
   "execution_count": 160,
   "id": "50facbff-9a59-4c8f-b050-a0218086f5b9",
   "metadata": {},
   "outputs": [],
   "source": [
    "# copy\n",
    "dfnum= data[[var_sel]].copy()\n",
    "# fit / transform\n",
    "dfnum['median_imputer'] = median_imputer.fit_transform(data)[var_sel].values\n",
    "dfnum['arbitrary_imputer'] = arbitrary_imputer.fit_transform(data)[var_sel].values\n",
    "dfnum['tail_imputer'] = tail_imputer.fit_transform(data)[var_sel].values\n",
    "dfnum['cat_imputer'] = cat_imputer.fit_transform(data)[var_sel].values\n",
    "dfnum['random_imputer'] = random_imputer.fit_transform(data)[var_sel].values"
   ]
  },
  {
   "cell_type": "code",
   "execution_count": 161,
   "id": "f6a1efc0-cb18-40c2-82c6-f2f18a77db1c",
   "metadata": {},
   "outputs": [
    {
     "data": {
      "text/plain": [
       "<AxesSubplot:ylabel='Density'>"
      ]
     },
     "execution_count": 161,
     "metadata": {},
     "output_type": "execute_result"
    },
    {
     "data": {
      "image/png": "[encoded data removed]",
      "text/plain": [
       "<Figure size 432x288 with 1 Axes>"
      ]
     },
     "metadata": {
      "needs_background": "light"
     },
     "output_type": "display_data"
    }
   ],
   "source": [
    "dfnum.plot(kind = \"kde\")"
   ]
  },
  {
   "cell_type": "markdown",
   "id": "225cbaf6-2cd5-4623-b9e7-2c3eb30de128",
   "metadata": {},
   "source": [
    "### categorical"
   ]
  },
  {
   "cell_type": "code",
   "execution_count": 179,
   "id": "0e31f7a0-b199-4c8f-b251-d2707a593ccc",
   "metadata": {},
   "outputs": [],
   "source": [
    "# selected variable\n",
    "var_sel = 'Alley' #'MasVnrType'"
   ]
  },
  {
   "cell_type": "code",
   "execution_count": 180,
   "id": "8fb2e20e-dcef-4763-bf7a-ee26ba377e82",
   "metadata": {},
   "outputs": [],
   "source": [
    "# set up the Categorical Imputer (numerical and categorical)\n",
    "cat_imputer = CategoricalImputer(variables=[var_sel], imputation_method = 'frequent')\n",
    "\n",
    "# set up the Random Sample Imputer (numerical and categorical)\n",
    "random_imputer = RandomSampleImputer(\n",
    "        variables=[var_sel],\n",
    "        random_state=1,\n",
    "        #random_state=[var_sel], \n",
    "        #seed='observation',\n",
    "        #seeding_method='add'\n",
    "    )"
   ]
  },
  {
   "cell_type": "code",
   "execution_count": 181,
   "id": "ccd33d3e-ca13-4a2c-b75a-66dc2486a3b5",
   "metadata": {},
   "outputs": [],
   "source": [
    "# copy\n",
    "dfcat= data[[var_sel]].copy()\n",
    "# fit / transform\n",
    "dfcat['cat_imputer'] = cat_imputer.fit_transform(data)[var_sel].values\n",
    "dfcat['random_imputer'] = random_imputer.fit_transform(data)[var_sel].values"
   ]
  },
  {
   "cell_type": "code",
   "execution_count": 182,
   "id": "601c2ac2-d87b-484f-ad12-5386efc3e450",
   "metadata": {},
   "outputs": [
    {
     "data": {
      "text/html": [
       "<div>\n",
       "<style scoped>\n",
       "    .dataframe tbody tr th:only-of-type {\n",
       "        vertical-align: middle;\n",
       "    }\n",
       "\n",
       "    .dataframe tbody tr th {\n",
       "        vertical-align: top;\n",
       "    }\n",
       "\n",
       "    .dataframe thead th {\n",
       "        text-align: right;\n",
       "    }\n",
       "</style>\n",
       "<table border=\"1\" class=\"dataframe\">\n",
       "  <thead>\n",
       "    <tr style=\"text-align: right;\">\n",
       "      <th></th>\n",
       "      <th>Alley</th>\n",
       "      <th>cat_imputer</th>\n",
       "      <th>random_imputer</th>\n",
       "    </tr>\n",
       "  </thead>\n",
       "  <tbody>\n",
       "    <tr>\n",
       "      <th>0</th>\n",
       "      <td>None</td>\n",
       "      <td>Grvl</td>\n",
       "      <td>Pave</td>\n",
       "    </tr>\n",
       "    <tr>\n",
       "      <th>1</th>\n",
       "      <td>None</td>\n",
       "      <td>Grvl</td>\n",
       "      <td>Grvl</td>\n",
       "    </tr>\n",
       "    <tr>\n",
       "      <th>2</th>\n",
       "      <td>None</td>\n",
       "      <td>Grvl</td>\n",
       "      <td>Grvl</td>\n",
       "    </tr>\n",
       "    <tr>\n",
       "      <th>3</th>\n",
       "      <td>None</td>\n",
       "      <td>Grvl</td>\n",
       "      <td>Grvl</td>\n",
       "    </tr>\n",
       "    <tr>\n",
       "      <th>4</th>\n",
       "      <td>None</td>\n",
       "      <td>Grvl</td>\n",
       "      <td>Grvl</td>\n",
       "    </tr>\n",
       "    <tr>\n",
       "      <th>...</th>\n",
       "      <td>...</td>\n",
       "      <td>...</td>\n",
       "      <td>...</td>\n",
       "    </tr>\n",
       "    <tr>\n",
       "      <th>1455</th>\n",
       "      <td>None</td>\n",
       "      <td>Grvl</td>\n",
       "      <td>Pave</td>\n",
       "    </tr>\n",
       "    <tr>\n",
       "      <th>1456</th>\n",
       "      <td>None</td>\n",
       "      <td>Grvl</td>\n",
       "      <td>Pave</td>\n",
       "    </tr>\n",
       "    <tr>\n",
       "      <th>1457</th>\n",
       "      <td>None</td>\n",
       "      <td>Grvl</td>\n",
       "      <td>Grvl</td>\n",
       "    </tr>\n",
       "    <tr>\n",
       "      <th>1458</th>\n",
       "      <td>None</td>\n",
       "      <td>Grvl</td>\n",
       "      <td>Grvl</td>\n",
       "    </tr>\n",
       "    <tr>\n",
       "      <th>1459</th>\n",
       "      <td>None</td>\n",
       "      <td>Grvl</td>\n",
       "      <td>Pave</td>\n",
       "    </tr>\n",
       "  </tbody>\n",
       "</table>\n",
       "<p>1369 rows × 3 columns</p>\n",
       "</div>"
      ],
      "text/plain": [
       "     Alley cat_imputer random_imputer\n",
       "0     None        Grvl           Pave\n",
       "1     None        Grvl           Grvl\n",
       "2     None        Grvl           Grvl\n",
       "3     None        Grvl           Grvl\n",
       "4     None        Grvl           Grvl\n",
       "...    ...         ...            ...\n",
       "1455  None        Grvl           Pave\n",
       "1456  None        Grvl           Pave\n",
       "1457  None        Grvl           Grvl\n",
       "1458  None        Grvl           Grvl\n",
       "1459  None        Grvl           Pave\n",
       "\n",
       "[1369 rows x 3 columns]"
      ]
     },
     "execution_count": 182,
     "metadata": {},
     "output_type": "execute_result"
    }
   ],
   "source": [
    "dfcat[dfcat[var_sel].isnull()]"
   ]
  },
  {
   "cell_type": "code",
   "execution_count": 193,
   "id": "af2b4f6c-7001-492f-8051-a54d5932b5e7",
   "metadata": {},
   "outputs": [
    {
     "data": {
      "image/png": "[encoded data removed]",
      "text/plain": [
       "<Figure size 1080x360 with 3 Axes>"
      ]
     },
     "metadata": {
      "needs_background": "light"
     },
     "output_type": "display_data"
    }
   ],
   "source": [
    "fig, (ax1, ax2, ax3) = plt.subplots(ncols=3, figsize = (15,5))\n",
    "dfcat[var_sel].value_counts().plot.bar(ax = ax1)\n",
    "dfcat[\"cat_imputer\"].value_counts().plot.bar(ax = ax2)\n",
    "dfcat[\"random_imputer\"].value_counts().plot.bar(ax = ax3)\n",
    "plt.show()"
   ]
  },
  {
   "cell_type": "markdown",
   "id": "770a2909-9bed-492e-95b7-9c3dcd4b9e21",
   "metadata": {},
   "source": [
    "### add indicator"
   ]
  },
  {
   "cell_type": "code",
   "execution_count": 194,
   "id": "83bf9474-4838-46a2-b507-fb995e7422cd",
   "metadata": {},
   "outputs": [],
   "source": [
    "# selected variable\n",
    "var_sel = 'LotFrontage'"
   ]
  },
  {
   "cell_type": "code",
   "execution_count": 195,
   "id": "b315edfa-9e88-4e9c-9dd1-eba1a3405aea",
   "metadata": {},
   "outputs": [
    {
     "data": {
      "text/html": [
       "<div>\n",
       "<style scoped>\n",
       "    .dataframe tbody tr th:only-of-type {\n",
       "        vertical-align: middle;\n",
       "    }\n",
       "\n",
       "    .dataframe tbody tr th {\n",
       "        vertical-align: top;\n",
       "    }\n",
       "\n",
       "    .dataframe thead th {\n",
       "        text-align: right;\n",
       "    }\n",
       "</style>\n",
       "<table border=\"1\" class=\"dataframe\">\n",
       "  <thead>\n",
       "    <tr style=\"text-align: right;\">\n",
       "      <th></th>\n",
       "      <th>LotFrontage</th>\n",
       "      <th>LotFrontage_na</th>\n",
       "    </tr>\n",
       "  </thead>\n",
       "  <tbody>\n",
       "    <tr>\n",
       "      <th>7</th>\n",
       "      <td>NaN</td>\n",
       "      <td>1</td>\n",
       "    </tr>\n",
       "    <tr>\n",
       "      <th>12</th>\n",
       "      <td>NaN</td>\n",
       "      <td>1</td>\n",
       "    </tr>\n",
       "    <tr>\n",
       "      <th>14</th>\n",
       "      <td>NaN</td>\n",
       "      <td>1</td>\n",
       "    </tr>\n",
       "    <tr>\n",
       "      <th>16</th>\n",
       "      <td>NaN</td>\n",
       "      <td>1</td>\n",
       "    </tr>\n",
       "    <tr>\n",
       "      <th>24</th>\n",
       "      <td>NaN</td>\n",
       "      <td>1</td>\n",
       "    </tr>\n",
       "  </tbody>\n",
       "</table>\n",
       "</div>"
      ],
      "text/plain": [
       "    LotFrontage  LotFrontage_na\n",
       "7           NaN               1\n",
       "12          NaN               1\n",
       "14          NaN               1\n",
       "16          NaN               1\n",
       "24          NaN               1"
      ]
     },
     "execution_count": 195,
     "metadata": {},
     "output_type": "execute_result"
    }
   ],
   "source": [
    "# set up the Add Missing Indicator (a new column XXX_na) (numerical and categorical)\n",
    "addBinary_imputer = AddMissingIndicator(\n",
    "variables=[var_sel],\n",
    ")\n",
    "# fit / transform\n",
    "temp = addBinary_imputer.fit_transform(data)[[var_sel, f'{var_sel}_na']]\n",
    "temp[temp[var_sel].isnull()].head()"
   ]
  },
  {
   "cell_type": "markdown",
   "id": "6fde7b13-6cd9-4378-abb8-70dff8c22997",
   "metadata": {},
   "source": [
    "### remove records with missing values"
   ]
  },
  {
   "cell_type": "code",
   "execution_count": 196,
   "id": "4980f341-0e66-4a33-9c34-45ca15b2d6d8",
   "metadata": {},
   "outputs": [],
   "source": [
    "# selected variable\n",
    "var_sel = 'LotFrontage'"
   ]
  },
  {
   "cell_type": "code",
   "execution_count": 197,
   "id": "74ce25a9-35ed-42ad-803b-46fb327334a7",
   "metadata": {},
   "outputs": [
    {
     "data": {
      "text/plain": [
       "((1460, 1), (1201, 1))"
      ]
     },
     "execution_count": 197,
     "metadata": {},
     "output_type": "execute_result"
    }
   ],
   "source": [
    "# set up the Drop Missing Data (numerical and categorical)\n",
    "missingdata_imputer = DropMissingData(variables=[var_sel])\n",
    "# fit / transform\n",
    "temp = data[[var_sel]].copy()\n",
    "temp_r = missingdata_imputer.fit_transform(temp)\n",
    "temp.shape, temp_r.shape"
   ]
  },
  {
   "cell_type": "code",
   "execution_count": null,
   "id": "c143f509-6539-4e62-a98d-a34de6e4bc96",
   "metadata": {},
   "outputs": [],
   "source": []
  },
  {
   "cell_type": "code",
   "execution_count": null,
   "id": "5cfe4a8e-37fb-4c35-95a5-8d61a7253195",
   "metadata": {},
   "outputs": [],
   "source": []
  }
 ],
 "metadata": {
  "kernelspec": {
   "display_name": "det",
   "language": "python",
   "name": "det"
  },
  "language_info": {
   "codemirror_mode": {
    "name": "ipython",
    "version": 3
   },
   "file_extension": ".py",
   "mimetype": "text/x-python",
   "name": "python",
   "nbconvert_exporter": "python",
   "pygments_lexer": "ipython3",
   "version": "3.7.13"
  }
 },
 "nbformat": 4,
 "nbformat_minor": 5
}
