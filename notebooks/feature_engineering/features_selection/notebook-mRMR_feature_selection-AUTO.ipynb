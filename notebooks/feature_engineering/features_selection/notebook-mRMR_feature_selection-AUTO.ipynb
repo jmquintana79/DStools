{
 "cells": [
  {
   "cell_type": "markdown",
   "id": "9a7e412f-48aa-47ae-9d5d-3e99ff00578e",
   "metadata": {},
   "source": [
    "# Feature selection: mRMR\n",
    "\n",
    "Methods:\n",
    "\n",
    "- FCQ:\n",
    "    - Relevance: F Statistic\n",
    "    - Redundance: Correlation\n",
    "    - Scheme: Quotient (Relevance / Redundancy)\n",
    "\n",
    "- RFRQ:\n",
    "    - Relevance: Random Forests\n",
    "    - Redundance: RDC\n",
    "    - Scheme: Quotient (Relevance / Redundancy)"
   ]
  },
  {
   "cell_type": "code",
   "execution_count": 3,
   "id": "c55db446-53e9-4ce7-b994-9e42743aee85",
   "metadata": {},
   "outputs": [],
   "source": [
    "%%capture\n",
    "!pip install mrmr_selection"
   ]
  },
  {
   "cell_type": "code",
   "execution_count": 17,
   "id": "f39044b6-2b75-4d1d-8da2-61ac6bc50975",
   "metadata": {},
   "outputs": [],
   "source": [
    "import numpy as np\n",
    "import pandas as pd\n",
    "from sklearn.datasets import make_classification\n",
    "from mrmr import mrmr_classif"
   ]
  },
  {
   "cell_type": "markdown",
   "id": "aa08d630-e319-467f-80cb-d075e1ed011b",
   "metadata": {},
   "source": [
    "### functions"
   ]
  },
  {
   "cell_type": "code",
   "execution_count": 18,
   "id": "a0eb4ce8-2267-41d4-b907-fcc04fdc0ca6",
   "metadata": {},
   "outputs": [],
   "source": [
    "# get the dataset\n",
    "def get_dataset():\n",
    "    X, y = make_classification(n_samples=1000, n_features=10, n_informative=5, n_redundant=5, random_state=1)\n",
    "    X = pd.DataFrame(X)\n",
    "    y = pd.Series(y)\n",
    "    return X, y"
   ]
  },
  {
   "cell_type": "markdown",
   "id": "9e2553cb-4b98-4c5e-ac97-646caf538418",
   "metadata": {},
   "source": [
    "### dataset"
   ]
  },
  {
   "cell_type": "code",
   "execution_count": 19,
   "id": "2d63dacd-6612-4221-9357-3fbb7896c753",
   "metadata": {},
   "outputs": [
    {
     "data": {
      "text/plain": [
       "((1000, 10), (1000,))"
      ]
     },
     "execution_count": 19,
     "metadata": {},
     "output_type": "execute_result"
    }
   ],
   "source": [
    "X, y = get_dataset()\n",
    "X.shape, y.shape"
   ]
  },
  {
   "cell_type": "markdown",
   "id": "3c1d224d-041d-497e-b8a3-07e3f3943cf8",
   "metadata": {},
   "source": [
    "## FCQ method"
   ]
  },
  {
   "cell_type": "code",
   "execution_count": 27,
   "id": "2edbbe86-69c9-4a8b-9f04-55f763a0a0f7",
   "metadata": {},
   "outputs": [
    {
     "name": "stderr",
     "output_type": "stream",
     "text": [
      "100%|███████████████████████████████████████████████████████████████████████████████████| 10/10 [00:03<00:00,  3.27it/s]\n"
     ]
    }
   ],
   "source": [
    "# select top 10 features using mRMR\n",
    "selected_features, relevance, redundancy = mrmr_classif(X=X, y=y, K=10, relevance = 'f', return_scores = True)"
   ]
  },
  {
   "cell_type": "code",
   "execution_count": 28,
   "id": "cc139bf2-8bc4-4a23-a1cd-5fb74106e570",
   "metadata": {},
   "outputs": [
    {
     "data": {
      "text/plain": [
       "[3, 4, 6, 1, 5, 0, 7, 2, 9, 8]"
      ]
     },
     "execution_count": 28,
     "metadata": {},
     "output_type": "execute_result"
    }
   ],
   "source": [
    "selected_features"
   ]
  },
  {
   "cell_type": "code",
   "execution_count": 29,
   "id": "5647a1ea-53cd-40da-abed-f9b2b6030ded",
   "metadata": {},
   "outputs": [
    {
     "data": {
      "text/plain": [
       "0    125.715162\n",
       "1    154.172145\n",
       "2     54.616046\n",
       "3    312.812205\n",
       "4     39.352654\n",
       "5    114.387310\n",
       "6    127.497806\n",
       "7     83.382797\n",
       "8      0.002038\n",
       "9      3.152534\n",
       "dtype: float64"
      ]
     },
     "execution_count": 29,
     "metadata": {},
     "output_type": "execute_result"
    }
   ],
   "source": [
    "relevance"
   ]
  },
  {
   "cell_type": "code",
   "execution_count": 31,
   "id": "9c37d847-6463-4034-9b16-0b6c45e93ee4",
   "metadata": {},
   "outputs": [
    {
     "data": {
      "text/plain": [
       "0    0.266799\n",
       "1    0.088716\n",
       "2    0.220181\n",
       "3    0.001000\n",
       "4    0.002245\n",
       "5    0.148896\n",
       "6    0.054311\n",
       "7    0.241350\n",
       "8    0.297391\n",
       "9    0.316921\n",
       "dtype: float64"
      ]
     },
     "execution_count": 31,
     "metadata": {},
     "output_type": "execute_result"
    }
   ],
   "source": [
    "redundancy.mean(axis = 1)"
   ]
  },
  {
   "cell_type": "code",
   "execution_count": null,
   "id": "77723d89-7d55-4d2e-a1fc-a7ef97426b3b",
   "metadata": {},
   "outputs": [],
   "source": []
  }
 ],
 "metadata": {
  "kernelspec": {
   "display_name": "analysis",
   "language": "python",
   "name": "analysis"
  },
  "language_info": {
   "codemirror_mode": {
    "name": "ipython",
    "version": 3
   },
   "file_extension": ".py",
   "mimetype": "text/x-python",
   "name": "python",
   "nbconvert_exporter": "python",
   "pygments_lexer": "ipython3",
   "version": "3.7.0"
  }
 },
 "nbformat": 4,
 "nbformat_minor": 5
}
