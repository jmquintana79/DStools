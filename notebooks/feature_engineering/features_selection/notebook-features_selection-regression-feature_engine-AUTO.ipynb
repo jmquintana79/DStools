{
 "cells": [
  {
   "cell_type": "markdown",
   "id": "dd3d4f6f-e488-402d-ba05-c1ab29bcc0e3",
   "metadata": {},
   "source": [
    "# Features Selection for Regression with *Feature-Engine*"
   ]
  },
  {
   "cell_type": "code",
   "execution_count": 90,
   "id": "6b63a921-4dce-4d14-821b-7fd29246150d",
   "metadata": {},
   "outputs": [],
   "source": [
    "%matplotlib inline\n",
    "import warnings\n",
    "warnings.filterwarnings('ignore')\n",
    "from datetime import datetime\n",
    "import numpy as np\n",
    "import pandas as pd\n",
    "pd.options.display.max_rows = 999\n",
    "pd.options.display.max_columns = 99\n",
    "import matplotlib.pyplot as plt"
   ]
  },
  {
   "cell_type": "markdown",
   "id": "5ca40ab2-4c6f-4b07-b4c9-67b83c6761a3",
   "metadata": {},
   "source": [
    "# LOAD DATA"
   ]
  },
  {
   "cell_type": "code",
   "execution_count": 143,
   "id": "2fb7cba6-943c-4e4f-9e8b-a13184396dda",
   "metadata": {},
   "outputs": [
    {
     "data": {
      "text/plain": [
       "(1460, 81)"
      ]
     },
     "execution_count": 158,
     "metadata": {},
     "output_type": "execute_result"
    }
   ],
   "source": [
    "from sklearn.datasets import fetch_openml\n",
    "dataset = fetch_openml(name=\"house_prices\", as_frame=True)\n",
    "col_y = dataset[\"target_names\"]\n",
    "cols_x = dataset[\"feature_names\"]\n",
    "data = dataset[\"frame\"]\n",
    "data.shape"
   ]
  },
  {
   "cell_type": "markdown",
   "id": "a15e0c93-706b-4c53-bb27-51ef71138ee1",
   "metadata": {},
   "source": [
    "## DATA PREPARATION"
   ]
  },
  {
   "cell_type": "code",
   "execution_count": 144,
   "id": "5bf59de0-3a2b-4b2f-b632-7d8d1aff7449",
   "metadata": {},
   "outputs": [],
   "source": [
    "# missing values imputation\n",
    "from feature_engine.imputation import MeanMedianImputer\n",
    "from feature_engine.imputation import CategoricalImputer\n",
    "from feature_engine.imputation import DropMissingData\n",
    "# categorical variables enconding\n",
    "from feature_engine.encoding import OrdinalEncoder"
   ]
  },
  {
   "cell_type": "code",
   "execution_count": 145,
   "id": "8f46b212-e429-44e3-bce5-a577ae0130c1",
   "metadata": {},
   "outputs": [],
   "source": [
    "# remove columns with to much NaN values\n",
    "cols_drop = list(data.columns[(data.isnull().sum() / len(data) > 0.5).values])\n",
    "data.drop(cols_drop, axis = 1, inplace = True)"
   ]
  },
  {
   "cell_type": "code",
   "execution_count": 146,
   "id": "7512b9b2-a7a4-4840-ae21-14576c39f3f1",
   "metadata": {},
   "outputs": [
    {
     "name": "stdout",
     "output_type": "stream",
     "text": [
      "38 39 0\n"
     ]
    }
   ],
   "source": [
    "# columns names collection by type of variable\n",
    "cols_num = data.select_dtypes(include=['float64']).columns.tolist()                                       \n",
    "cols_cat = data.select_dtypes(include=['object', 'category', 'bool']).columns.tolist()         \n",
    "cols_int = data.select_dtypes(include=['int64']).columns.tolist()\n",
    "cols_x = [c for c in cols_num + cols_cat]\n",
    "print(len(cols_num), len(cols_cat), len(cols_int))"
   ]
  },
  {
   "cell_type": "code",
   "execution_count": 147,
   "id": "a03741d9-3a51-48fc-8189-0a169761ea7b",
   "metadata": {},
   "outputs": [],
   "source": [
    "# missing values imputation: numerical\n",
    "median_imputer = MeanMedianImputer(\n",
    "                   imputation_method='median',\n",
    "                   variables=cols_num\n",
    "                   )\n",
    "data = median_imputer.fit_transform(data)\n",
    "# missing values imputation: categorical\n",
    "imputer = CategoricalImputer(variables=cols_cat)\n",
    "data = imputer.fit_transform(data)"
   ]
  },
  {
   "cell_type": "code",
   "execution_count": 148,
   "id": "5b37da39-26d5-4b13-96fb-b2ebd562e98a",
   "metadata": {},
   "outputs": [],
   "source": [
    "# categorical variables enconding\n",
    "from feature_engine.encoding import OrdinalEncoder\n",
    "encoder = OrdinalEncoder(encoding_method='arbitrary', variables=cols_cat)\n",
    "# fit the encoder\n",
    "data_encoded = encoder.fit_transform(data, data[col_y])"
   ]
  },
  {
   "cell_type": "markdown",
   "id": "27992a76-6112-41a1-84b6-b26a2482f0b2",
   "metadata": {},
   "source": [
    "# [FEATURES SELECTION](https://feature-engine.readthedocs.io/en/1.3.x/user_guide/selection/index.html)"
   ]
  },
  {
   "cell_type": "code",
   "execution_count": 149,
   "id": "df2715ca-2eee-433f-8ccd-7de30093f78e",
   "metadata": {},
   "outputs": [],
   "source": [
    "# selection based on feature characteristics\n",
    "from feature_engine.selection import DropConstantFeatures\n",
    "from feature_engine.selection import DropDuplicateFeatures\n",
    "from feature_engine.selection import SmartCorrelatedSelection\n",
    "from feature_engine.selection import DropHighPSIFeatures\n",
    "# selection based on model performance\n",
    "from feature_engine.selection import SelectBySingleFeaturePerformance\n",
    "from feature_engine.selection import SelectByTargetMeanPerformance\n",
    "from feature_engine.selection import RecursiveFeatureElimination"
   ]
  },
  {
   "cell_type": "markdown",
   "id": "810e710f-c596-4363-8440-531d5a38b3f4",
   "metadata": {},
   "source": [
    "### based on feature characteristics"
   ]
  },
  {
   "cell_type": "code",
   "execution_count": 150,
   "id": "57dc501a-7417-4da8-8501-feeaa6c84b8a",
   "metadata": {},
   "outputs": [
    {
     "name": "stdout",
     "output_type": "stream",
     "text": [
      "['LowQualFinSF', '3SsnPorch', 'PoolArea', 'Street', 'Utilities', 'Condition2', 'RoofMatl']\n"
     ]
    }
   ],
   "source": [
    "# DropConstantFeatures (Allows Categorical variables, Allows NA)\n",
    "fcte = DropConstantFeatures(tol=0.98, variables = cols_x, missing_values = 'ignore')\n",
    "fcte.fit(data)\n",
    "print(list(fcte.features_to_drop_))"
   ]
  },
  {
   "cell_type": "code",
   "execution_count": 151,
   "id": "9942ccae-e374-4803-9d4e-83aed844039d",
   "metadata": {},
   "outputs": [
    {
     "name": "stdout",
     "output_type": "stream",
     "text": [
      "pearson ['1stFlrSF', 'TotRmsAbvGrd', 'GarageCars'] [{'TotalBsmtSF', '1stFlrSF'}, {'TotRmsAbvGrd', 'GrLivArea'}, {'GarageArea', 'GarageCars'}]\n",
      "spearman ['OverallQual', '1stFlrSF', 'TotRmsAbvGrd', 'GarageYrBlt', 'GarageCars'] [{'OverallQual', 'SalePrice'}, {'GarageYrBlt', 'YearBuilt'}, {'TotalBsmtSF', '1stFlrSF'}, {'TotRmsAbvGrd', 'GrLivArea'}, {'GarageArea', 'GarageCars'}]\n"
     ]
    }
   ],
   "source": [
    "# SmartCorrelatedSelection (NOT Allows Categorical variables, Allows NA)\n",
    "fcorr1 = SmartCorrelatedSelection(variables=cols_num, method='pearson', threshold=0.8, missing_values=\"ignore\", selection_method=\"variance\")\n",
    "fcorr2 = SmartCorrelatedSelection(variables=cols_num, method='kendall', threshold=0.8, missing_values=\"ignore\", selection_method=\"variance\")\n",
    "fcorr3 = SmartCorrelatedSelection(variables=cols_num, method='spearman', threshold=0.8, missing_values=\"ignore\", selection_method=\"variance\")\n",
    "fcorr1.fit(data)\n",
    "fcorr2.fit(data)\n",
    "fcorr3.fit(data)\n",
    "if len(fcorr1.features_to_drop_):\n",
    "    print('pearson',fcorr1.features_to_drop_,fcorr1.correlated_feature_sets_)\n",
    "if len(fcorr2.features_to_drop_):\n",
    "    print('kendall',fcorr2.features_to_drop_, fcorr2.correlated_feature_sets_)\n",
    "if len(fcorr3.features_to_drop_):\n",
    "    print('spearman',fcorr3.features_to_drop_, fcorr3.correlated_feature_sets_)"
   ]
  },
  {
   "cell_type": "code",
   "execution_count": 152,
   "id": "37f471bc-6fbb-4c60-9a84-d776dd0b47b1",
   "metadata": {},
   "outputs": [
    {
     "name": "stdout",
     "output_type": "stream",
     "text": [
      "['LowQualFinSF', '3SsnPorch', 'PoolArea', 'Street', 'Utilities', 'Condition2', 'RoofMatl']\n"
     ]
    }
   ],
   "source": [
    "# DropHighPSIFeatures (NOT Allows Categorical variables, Allows NA)\n",
    "cat_ref_col = \"MSZoning\"\n",
    "fpsi = DropHighPSIFeatures(variables = cols_num, split_col=cat_ref_col, split_distinct=True, missing_values=\"ignore\")\n",
    "fpsi.fit(data)\n",
    "print(list(fcte.features_to_drop_))"
   ]
  },
  {
   "cell_type": "code",
   "execution_count": 153,
   "id": "65137f03-4c3e-4e40-ae65-6ba8a8ca464e",
   "metadata": {},
   "outputs": [
    {
     "data": {
      "text/plain": [
       "<AxesSubplot:xlabel='SalePrice', ylabel='Proportion'>"
      ]
     },
     "execution_count": 168,
     "metadata": {},
     "output_type": "execute_result"
    },
    {
     "data": {
      "image/png": "[encoded data removed]",
      "text/plain": [
       "<Figure size 432x288 with 1 Axes>"
      ]
     },
     "metadata": {
      "needs_background": "light"
     },
     "output_type": "display_data"
    }
   ],
   "source": [
    "import seaborn as sns\n",
    "sns.ecdfplot(data=data, x=col_y[0], hue=cat_ref_col)"
   ]
  },
  {
   "cell_type": "markdown",
   "id": "29d2e3a0-406a-49b3-a5d9-e901ce63d9ba",
   "metadata": {},
   "source": [
    "### selection based on model performance"
   ]
  },
  {
   "cell_type": "code",
   "execution_count": 154,
   "id": "3896c3a9-52a3-4ecf-8d1b-b13ba8898d99",
   "metadata": {},
   "outputs": [
    {
     "name": "stdout",
     "output_type": "stream",
     "text": [
      "['Id', 'MSSubClass', 'OverallCond', 'BsmtFinSF2', 'LowQualFinSF', 'BsmtHalfBath', '3SsnPorch', 'ScreenPorch', 'PoolArea', 'MiscVal', 'MoSold', 'YrSold']\n",
      "['Id', 'MSSubClass', 'LotArea', 'OverallCond', 'YearBuilt', 'YearRemodAdd', 'BsmtFinSF2', 'LowQualFinSF', 'BsmtHalfBath', 'BedroomAbvGr', 'KitchenAbvGr', 'EnclosedPorch', '3SsnPorch', 'ScreenPorch', 'PoolArea', 'MiscVal', 'MoSold', 'YrSold']\n"
     ]
    }
   ],
   "source": [
    "# SelectBySingleFeaturePerformance (NOT Allows Categorical variables, NOT Allows NA)\n",
    "from sklearn.linear_model import LinearRegression, HuberRegressor\n",
    "fsel1 = SelectBySingleFeaturePerformance(estimator=LinearRegression(), scoring=\"r2\", cv=5, threshold=0.01, variables = cols_num)\n",
    "fsel2 = SelectBySingleFeaturePerformance(estimator=HuberRegressor(), scoring=\"r2\", cv=5, threshold=0.01, variables = cols_num)\n",
    "fsel1.fit(data, data[col_y])\n",
    "fsel2.fit(data, data[col_y])\n",
    "print(fsel1.features_to_drop_)\n",
    "print(fsel2.features_to_drop_)"
   ]
  },
  {
   "cell_type": "code",
   "execution_count": 155,
   "id": "7d3286d5-fbcc-493e-a9dc-ca6ba7f50c02",
   "metadata": {},
   "outputs": [
    {
     "name": "stdout",
     "output_type": "stream",
     "text": [
      "['Id', 'MSSubClass', 'LotFrontage', 'OverallCond', 'BsmtFinSF2', 'BsmtUnfSF', '2ndFlrSF', 'LowQualFinSF', 'BsmtFullBath', 'BsmtHalfBath', 'HalfBath', 'BedroomAbvGr', 'KitchenAbvGr', 'Fireplaces', 'WoodDeckSF', 'OpenPorchSF', 'EnclosedPorch', '3SsnPorch', 'ScreenPorch', 'PoolArea', 'MiscVal', 'MoSold', 'YrSold', 'MSZoning', 'Street', 'LotShape', 'LandContour', 'LotConfig', 'LandSlope', 'BldgType', 'HouseStyle', 'BsmtExposure', 'BsmtFinType2', 'CentralAir', 'GarageQual', 'GarageCond', 'PavedDrive', 'SaleType', 'SaleCondition']\n",
      "['LotArea', 'OverallQual', 'YearBuilt', 'YearRemodAdd', 'MasVnrArea', 'BsmtFinSF1', 'TotalBsmtSF', '1stFlrSF', 'GrLivArea', 'FullBath', 'TotRmsAbvGrd', 'GarageYrBlt', 'GarageCars', 'GarageArea', 'SalePrice']\n",
      "['Utilities', 'Neighborhood', 'Condition1', 'Condition2', 'RoofStyle', 'RoofMatl', 'Exterior1st', 'Exterior2nd', 'MasVnrType', 'ExterQual', 'ExterCond', 'Foundation', 'BsmtQual', 'BsmtCond', 'BsmtFinType1', 'Heating', 'HeatingQC', 'Electrical', 'KitchenQual', 'Functional', 'FireplaceQu', 'GarageType', 'GarageFinish']\n"
     ]
    }
   ],
   "source": [
    "# SelectByTargetMeanPerformance (Allows Categorical variables, NOT Allows NA)\n",
    "selcat = SelectByTargetMeanPerformance(\n",
    "    variables=cols_x,\n",
    "    scoring=\"r2\", #\"roc_auc\",\n",
    "    threshold= None, # If the threshold if left to None, it selects features which performance is bigger than the mean performance of all features.\n",
    "    #threshold=0.01, \n",
    "    bins=5,\n",
    "    strategy=\"equal_frequency\",\n",
    "    cv=3,\n",
    "    regression=True)\n",
    "selcat.fit(data, data[col_y])\n",
    "print(selcat.features_to_drop_)\n",
    "print([c for c in cols_num if not c in list(selcat.features_to_drop_)])\n",
    "print([c for c in cols_cat if not c in list(selcat.features_to_drop_)])"
   ]
  },
  {
   "cell_type": "code",
   "execution_count": 175,
   "id": "d10adfaa-9614-4ef7-b0b3-523959aa2b2e",
   "metadata": {},
   "outputs": [
    {
     "ename": "ValueError",
     "evalue": "All features have been removed. Try reducing the threshold.",
     "output_type": "error",
     "traceback": [
      "\u001b[0;31m---------------------------------------------------------------------------\u001b[0m",
      "\u001b[0;31mValueError\u001b[0m                                Traceback (most recent call last)",
      "\u001b[0;32m/var/folders/vk/s0y7mtzs23vgwd0s7jck3c_80000gn/T/ipykernel_1354/2930595504.py\u001b[0m in \u001b[0;36m<module>\u001b[0;34m\u001b[0m\n\u001b[1;32m      3\u001b[0m \u001b[0;32mfrom\u001b[0m \u001b[0msklearn\u001b[0m\u001b[0;34m.\u001b[0m\u001b[0mensemble\u001b[0m \u001b[0;32mimport\u001b[0m \u001b[0mRandomForestRegressor\u001b[0m\u001b[0;34m\u001b[0m\u001b[0m\n\u001b[1;32m      4\u001b[0m \u001b[0mtr2\u001b[0m \u001b[0;34m=\u001b[0m \u001b[0mRecursiveFeatureElimination\u001b[0m\u001b[0;34m(\u001b[0m\u001b[0mestimator\u001b[0m\u001b[0;34m=\u001b[0m\u001b[0mRandomForestRegressor\u001b[0m\u001b[0;34m(\u001b[0m\u001b[0;34m)\u001b[0m\u001b[0;34m,\u001b[0m \u001b[0mscoring\u001b[0m\u001b[0;34m=\u001b[0m\u001b[0;34m\"r2\"\u001b[0m\u001b[0;34m,\u001b[0m \u001b[0mcv\u001b[0m\u001b[0;34m=\u001b[0m\u001b[0;36m3\u001b[0m\u001b[0;34m,\u001b[0m \u001b[0mvariables\u001b[0m \u001b[0;34m=\u001b[0m \u001b[0mcols_x\u001b[0m\u001b[0;34m,\u001b[0m \u001b[0mthreshold\u001b[0m \u001b[0;34m=\u001b[0m \u001b[0;36m0.01\u001b[0m\u001b[0;34m)\u001b[0m\u001b[0;34m\u001b[0m\u001b[0m\n\u001b[0;32m----> 5\u001b[0;31m \u001b[0mtr2\u001b[0m\u001b[0;34m.\u001b[0m\u001b[0mfit\u001b[0m\u001b[0;34m(\u001b[0m\u001b[0mdata_encoded\u001b[0m\u001b[0;34m,\u001b[0m \u001b[0mdata_encoded\u001b[0m\u001b[0;34m[\u001b[0m\u001b[0mcol_y\u001b[0m\u001b[0;34m]\u001b[0m\u001b[0;34m)\u001b[0m\u001b[0;34m\u001b[0m\u001b[0m\n\u001b[0m\u001b[1;32m      6\u001b[0m \u001b[0mprint\u001b[0m\u001b[0;34m(\u001b[0m\u001b[0mtr2\u001b[0m\u001b[0;34m.\u001b[0m\u001b[0mfeatures_to_drop_\u001b[0m\u001b[0;34m,\u001b[0m\u001b[0;34m[\u001b[0m\u001b[0mc\u001b[0m \u001b[0;32mfor\u001b[0m \u001b[0mc\u001b[0m \u001b[0;32min\u001b[0m \u001b[0mcols_x\u001b[0m \u001b[0;32mif\u001b[0m \u001b[0;32mnot\u001b[0m \u001b[0mc\u001b[0m \u001b[0;32min\u001b[0m \u001b[0mlist\u001b[0m\u001b[0;34m(\u001b[0m\u001b[0mtr2\u001b[0m\u001b[0;34m.\u001b[0m\u001b[0mfeatures_to_drop_\u001b[0m\u001b[0;34m)\u001b[0m\u001b[0;34m]\u001b[0m\u001b[0;34m)\u001b[0m\u001b[0;34m\u001b[0m\u001b[0m\n",
      "\u001b[0;32m~/miniconda3/envs/analysis/lib/python3.7/site-packages/feature_engine/selection/recursive_feature_elimination.py\u001b[0m in \u001b[0;36mfit\u001b[0;34m(self, X, y)\u001b[0m\n\u001b[1;32m    168\u001b[0m                 \u001b[0;32mif\u001b[0m \u001b[0mX_tmp\u001b[0m\u001b[0;34m.\u001b[0m\u001b[0mempty\u001b[0m \u001b[0;32mis\u001b[0m \u001b[0;32mTrue\u001b[0m\u001b[0;34m:\u001b[0m\u001b[0;34m\u001b[0m\u001b[0m\n\u001b[1;32m    169\u001b[0m                     raise ValueError(\n\u001b[0;32m--> 170\u001b[0;31m                         \u001b[0;34m\"All features have been removed. Try reducing the threshold.\"\u001b[0m\u001b[0;34m\u001b[0m\u001b[0m\n\u001b[0m\u001b[1;32m    171\u001b[0m                     )\n\u001b[1;32m    172\u001b[0m \u001b[0;34m\u001b[0m\u001b[0m\n",
      "\u001b[0;31mValueError\u001b[0m: All features have been removed. Try reducing the threshold."
     ]
    }
   ],
   "source": [
    "# RecursiveFeatureElimination (RFE) (NOT Allows Categorical variables, NOT Allows NA)\n",
    "# NOTE: Using as estimator a tree based algorithm, it is possible categorical variables previously ordinally encoded\n",
    "from sklearn.ensemble import RandomForestRegressor\n",
    "tr2 = RecursiveFeatureElimination(estimator=RandomForestRegressor(), scoring=\"r2\", cv=3, variables = cols_x, threshold = 0.01)\n",
    "tr2.fit(data_encoded, data_encoded[col_y])\n",
    "print(tr2.features_to_drop_,[c for c in cols_x if not c in list(tr2.features_to_drop_)])"
   ]
  },
  {
   "cell_type": "code",
   "execution_count": 181,
   "id": "6576724d-b08b-44d6-938a-844d9fb98778",
   "metadata": {},
   "outputs": [
    {
     "ename": "ValueError",
     "evalue": "All features have been removed. Try reducing the threshold.",
     "output_type": "error",
     "traceback": [
      "\u001b[0;31m---------------------------------------------------------------------------\u001b[0m",
      "\u001b[0;31mValueError\u001b[0m                                Traceback (most recent call last)",
      "\u001b[0;32m/var/folders/vk/s0y7mtzs23vgwd0s7jck3c_80000gn/T/ipykernel_1354/883950903.py\u001b[0m in \u001b[0;36m<module>\u001b[0;34m\u001b[0m\n\u001b[1;32m      3\u001b[0m \u001b[0;32mfrom\u001b[0m \u001b[0msklearn\u001b[0m\u001b[0;34m.\u001b[0m\u001b[0mlinear_model\u001b[0m \u001b[0;32mimport\u001b[0m \u001b[0mLinearRegression\u001b[0m\u001b[0;34m\u001b[0m\u001b[0m\n\u001b[1;32m      4\u001b[0m \u001b[0mtr1\u001b[0m \u001b[0;34m=\u001b[0m \u001b[0mRecursiveFeatureElimination\u001b[0m\u001b[0;34m(\u001b[0m\u001b[0mestimator\u001b[0m\u001b[0;34m=\u001b[0m\u001b[0mLinearRegression\u001b[0m\u001b[0;34m(\u001b[0m\u001b[0;34m)\u001b[0m\u001b[0;34m,\u001b[0m \u001b[0mscoring\u001b[0m\u001b[0;34m=\u001b[0m\u001b[0;34m\"r2\"\u001b[0m\u001b[0;34m,\u001b[0m \u001b[0mcv\u001b[0m\u001b[0;34m=\u001b[0m\u001b[0;36m3\u001b[0m\u001b[0;34m,\u001b[0m \u001b[0mvariables\u001b[0m \u001b[0;34m=\u001b[0m \u001b[0mcols_num\u001b[0m\u001b[0;34m,\u001b[0m \u001b[0mthreshold\u001b[0m \u001b[0;34m=\u001b[0m \u001b[0;36m0.01\u001b[0m\u001b[0;34m)\u001b[0m\u001b[0;34m\u001b[0m\u001b[0m\n\u001b[0;32m----> 5\u001b[0;31m \u001b[0mtr1\u001b[0m\u001b[0;34m.\u001b[0m\u001b[0mfit\u001b[0m\u001b[0;34m(\u001b[0m\u001b[0mdata\u001b[0m\u001b[0;34m,\u001b[0m \u001b[0mdata\u001b[0m\u001b[0;34m[\u001b[0m\u001b[0mcol_y\u001b[0m\u001b[0;34m]\u001b[0m\u001b[0;34m)\u001b[0m\u001b[0;34m\u001b[0m\u001b[0m\n\u001b[0m\u001b[1;32m      6\u001b[0m \u001b[0mprint\u001b[0m\u001b[0;34m(\u001b[0m\u001b[0mtr1\u001b[0m\u001b[0;34m.\u001b[0m\u001b[0mfeatures_to_drop_\u001b[0m\u001b[0;34m,\u001b[0m\u001b[0;34m[\u001b[0m\u001b[0mc\u001b[0m \u001b[0;32mfor\u001b[0m \u001b[0mc\u001b[0m \u001b[0;32min\u001b[0m \u001b[0mcols_x\u001b[0m \u001b[0;32mif\u001b[0m \u001b[0;32mnot\u001b[0m \u001b[0mc\u001b[0m \u001b[0;32min\u001b[0m \u001b[0mlist\u001b[0m\u001b[0;34m(\u001b[0m\u001b[0mtr1\u001b[0m\u001b[0;34m.\u001b[0m\u001b[0mfeatures_to_drop_\u001b[0m\u001b[0;34m)\u001b[0m\u001b[0;34m]\u001b[0m\u001b[0;34m)\u001b[0m\u001b[0;34m\u001b[0m\u001b[0m\n",
      "\u001b[0;32m~/miniconda3/envs/analysis/lib/python3.7/site-packages/feature_engine/selection/recursive_feature_elimination.py\u001b[0m in \u001b[0;36mfit\u001b[0;34m(self, X, y)\u001b[0m\n\u001b[1;32m    168\u001b[0m                 \u001b[0;32mif\u001b[0m \u001b[0mX_tmp\u001b[0m\u001b[0;34m.\u001b[0m\u001b[0mempty\u001b[0m \u001b[0;32mis\u001b[0m \u001b[0;32mTrue\u001b[0m\u001b[0;34m:\u001b[0m\u001b[0;34m\u001b[0m\u001b[0m\n\u001b[1;32m    169\u001b[0m                     raise ValueError(\n\u001b[0;32m--> 170\u001b[0;31m                         \u001b[0;34m\"All features have been removed. Try reducing the threshold.\"\u001b[0m\u001b[0;34m\u001b[0m\u001b[0m\n\u001b[0m\u001b[1;32m    171\u001b[0m                     )\n\u001b[1;32m    172\u001b[0m \u001b[0;34m\u001b[0m\u001b[0m\n",
      "\u001b[0;31mValueError\u001b[0m: All features have been removed. Try reducing the threshold."
     ]
    }
   ],
   "source": [
    "# RecursiveFeatureElimination (RFE) (NOT Allows Categorical variables, NOT Allows NA)\n",
    "# NOTE: Using as estimator a tree based algorithm, it is possible categorical variables previously ordinally encoded\n",
    "from sklearn.linear_model import LinearRegression\n",
    "tr1 = RecursiveFeatureElimination(estimator=LinearRegression(), scoring=\"r2\", cv=3, variables = cols_num, threshold = 0.01)\n",
    "tr1.fit(data, data[col_y])\n",
    "print(tr1.features_to_drop_,[c for c in cols_x if not c in list(tr1.features_to_drop_)])"
   ]
  },
  {
   "cell_type": "code",
   "execution_count": null,
   "id": "79115132-2fc7-481b-b1c9-425c858af225",
   "metadata": {},
   "outputs": [],
   "source": []
  }
 ],
 "metadata": {
  "kernelspec": {
   "display_name": "analysis",
   "language": "python",
   "name": "analysis"
  },
  "language_info": {
   "codemirror_mode": {
    "name": "ipython",
    "version": 3
   },
   "file_extension": ".py",
   "mimetype": "text/x-python",
   "name": "python",
   "nbconvert_exporter": "python",
   "pygments_lexer": "ipython3",
   "version": "3.7.0"
  }
 },
 "nbformat": 4,
 "nbformat_minor": 5
}
