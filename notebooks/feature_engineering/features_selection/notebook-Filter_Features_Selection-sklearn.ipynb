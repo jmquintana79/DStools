{
 "cells": [
  {
   "cell_type": "markdown",
   "metadata": {},
   "source": [
    "# Filter Features Selection (with Scikit Learn)\n",
    "\n",
    "Feature selection is the process of reducing the number of input variables when developing a predictive model.\n",
    "\n",
    "There are many different types of feature selection algorithms, although they can broadly be grouped into two main types:\n",
    "\n",
    "- **Wrapper Feature Selection**: Search for well-performing subsets of features.\n",
    "- **Filter Feature Selection**: Select subsets of features based on their relationship with the target.\n",
    "\n",
    "In present notebook is will be shown the second one group of methods.\n",
    "\n",
    "Filter feature selection methods use statistical techniques to evaluate the relationship between each input variable and the target variable, and these scores are used as the basis to choose (filter) those input variables that will be used in the model.\n",
    "\n",
    "#### References:\n",
    "- [Feature Selection with Stochastic Optimization Algorithms](https://machinelearningmastery.com/feature-selection-with-optimization/)\n",
    "- [How to Choose a Feature Selection Method For Machine Learning](https://machinelearningmastery.com/feature-selection-with-real-and-categorical-data/)"
   ]
  },
  {
   "cell_type": "code",
   "execution_count": 18,
   "metadata": {},
   "outputs": [],
   "source": [
    "%matplotlib inline\n",
    "import sys\n",
    "sys.path.append('../../')  \n",
    "from tools.reader import csv2df as reader, get_dcol\n",
    "from preprocessing.preparation import full as preprocess\n",
    "from preprocessing.scalers import normalization\n",
    "from tools.columns import num2cal\n",
    "from models.metrics import metrics_regression\n",
    "import pandas as pd\n",
    "import numpy as np\n",
    "from sklearn.model_selection import train_test_split\n",
    "import copy\n",
    "from datasets import solar"
   ]
  },
  {
   "cell_type": "markdown",
   "metadata": {},
   "source": [
    "### arguments"
   ]
  },
  {
   "cell_type": "code",
   "execution_count": 19,
   "metadata": {},
   "outputs": [],
   "source": [
    "ncv = 5\n",
    "njobs = -1\n",
    "delcols = ['hforecast', 'year', 'month', 'diffAPCP267', 'diffDSWRF267']"
   ]
  },
  {
   "cell_type": "markdown",
   "metadata": {},
   "source": [
    "### load data"
   ]
  },
  {
   "cell_type": "code",
   "execution_count": 20,
   "metadata": {},
   "outputs": [
    {
     "name": "stdout",
     "output_type": "stream",
     "text": [
      "Load data..\n",
      "Period: 2013-01-01 10:00:00 - 2015-12-31 23:00:00\n",
      "<class 'pandas.core.frame.DataFrame'>\n",
      "DatetimeIndex: 26029 entries, 2013-01-01 10:00:00 to 2015-12-31 23:00:00\n",
      "Data columns (total 22 columns):\n",
      "VGRD267       26029 non-null float64\n",
      "UGRD267       26029 non-null float64\n",
      "LCDC267       26029 non-null float64\n",
      "MCDC267       26029 non-null float64\n",
      "HCDC267       26029 non-null float64\n",
      "TCDC267       26029 non-null float64\n",
      "PRES267       26029 non-null float64\n",
      "RH267         26029 non-null float64\n",
      "TMP267        26029 non-null float64\n",
      "APCP267       26029 non-null float64\n",
      "HWS267        26029 non-null float64\n",
      "cLCDC267      26029 non-null int64\n",
      "cMCDC267      26029 non-null int64\n",
      "cHCDC267      26029 non-null int64\n",
      "cTCDC267      26029 non-null int64\n",
      "logAPCP267    26029 non-null float64\n",
      "cAPCP267      26029 non-null category\n",
      "hour          26029 non-null int64\n",
      "doy           26029 non-null int64\n",
      "y             26029 non-null float64\n",
      "cy            26029 non-null int64\n",
      "DSWRF267      26029 non-null float64\n",
      "dtypes: category(1), float64(14), int64(7)\n",
      "memory usage: 4.4 MB\n"
     ]
    }
   ],
   "source": [
    "data, dcol = solar.load()\n",
    "# filter columns\n",
    "data.drop(delcols, axis=1, inplace=True)\n",
    "dcol = get_dcol(data,ltarget = ['y', 'cy'])\n",
    "# display\n",
    "print('Period: %s - %s'%(data.index.tolist()[0], data.index.tolist()[-1]))\n",
    "data.info()"
   ]
  },
  {
   "cell_type": "markdown",
   "metadata": {},
   "source": [
    "## NEW INTERVAL FEATURES"
   ]
  },
  {
   "cell_type": "markdown",
   "metadata": {},
   "source": [
    "### calculate rate of cloud cover"
   ]
  },
  {
   "cell_type": "code",
   "execution_count": 21,
   "metadata": {},
   "outputs": [],
   "source": [
    "def add_cc_rate(data:'df', svar:str, svart:str)->'df':\n",
    "    if 'r%s'%svar in list(data.columns):\n",
    "        pass\n",
    "    else:\n",
    "        data['r%s'%svar] = data[[svar, svart]].apply(lambda x: 0. if x[1]==0. else x[0] / x[1], axis = 1)\n",
    "    return data\n",
    "data = add_cc_rate(data, 'LCDC267', 'TCDC267')\n",
    "data = add_cc_rate(data, 'MCDC267', 'TCDC267')\n",
    "data = add_cc_rate(data, 'HCDC267', 'TCDC267')"
   ]
  },
  {
   "cell_type": "markdown",
   "metadata": {},
   "source": [
    "### calculate differences with doy average (per hour)"
   ]
  },
  {
   "cell_type": "code",
   "execution_count": 22,
   "metadata": {},
   "outputs": [],
   "source": [
    "def add_doy_diff(data:'df', svar:str)->'df':\n",
    "    # validation\n",
    "    if 'd%s'%svar in list(data.columns):\n",
    "        return data\n",
    "    # initialize\n",
    "    dfaux = pd.DataFrame()\n",
    "    hours = sorted(data.hour.unique())\n",
    "    for ii,ihour in enumerate(hours):\n",
    "        # collect data\n",
    "        idata = data[data.hour==ihour][['doy',svar]]\n",
    "        # calculate doy average\n",
    "        dfavg = idata[['doy',svar]].groupby('doy').mean().reset_index()\n",
    "        favg = lambda x: dfavg[dfavg.doy == x][svar].values[0]\n",
    "        # calculate diff\n",
    "        idata['D%s'%svar] = idata[['doy',svar]].apply(lambda x: x[1] - favg(x[0]),axis = 1)\n",
    "        # append\n",
    "        if ii ==0:\n",
    "            dfaux = idata[['D%s'%svar]].copy()\n",
    "        else:\n",
    "            dfaux = dfaux.append(idata[['D%s'%svar]])\n",
    "        # clean\n",
    "        del(idata)\n",
    "    # sort by index\n",
    "    dfaux.sort_index(inplace = True)\n",
    "    # drop nan\n",
    "    dfaux.dropna(inplace = True)\n",
    "    # concat with the original df and return\n",
    "    return  pd.concat([data, dfaux], axis = 1)\n",
    "data = add_doy_diff(data,'TMP267')\n",
    "data = add_doy_diff(data,'RH267')"
   ]
  },
  {
   "cell_type": "markdown",
   "metadata": {},
   "source": [
    "### calculate differences with previous day (per hour)"
   ]
  },
  {
   "cell_type": "code",
   "execution_count": 23,
   "metadata": {},
   "outputs": [],
   "source": [
    "def add_hourly_diff(data:'df', svar:str)->'df':\n",
    "    # validation\n",
    "    if 'd%s'%svar in list(data.columns):\n",
    "        return data\n",
    "    # initialize\n",
    "    dfaux = pd.DataFrame()\n",
    "    # loop of hours\n",
    "    hours = sorted(data.hour.unique())\n",
    "    for ii,ihour in enumerate(hours):\n",
    "        # collect data\n",
    "        idata = data[data.hour==ihour][[svar]]\n",
    "        # calculate diff\n",
    "        idata['d%s'%svar] = idata[[svar]].diff()\n",
    "        # append\n",
    "        if ii ==0:\n",
    "            dfaux = idata[['d%s'%svar]].copy()\n",
    "        else:\n",
    "            dfaux = dfaux.append(idata[['d%s'%svar]])\n",
    "        # clean\n",
    "        del(idata)\n",
    "    # sort by index\n",
    "    dfaux.sort_index(inplace = True)\n",
    "    # drop nan\n",
    "    dfaux.dropna(inplace = True)\n",
    "    # concat with the original df and return\n",
    "    return  pd.concat([data, dfaux], axis = 1)\n",
    "# launch\n",
    "data = add_hourly_diff(data,'TMP267')\n",
    "data = add_hourly_diff(data,'RH267')"
   ]
  },
  {
   "cell_type": "code",
   "execution_count": 27,
   "metadata": {},
   "outputs": [],
   "source": [
    "# drop nan values\n",
    "data.dropna(inplace = True)\n",
    "# update dcol\n",
    "dcol = get_dcol(data,ltarget = ['y', 'cy'])"
   ]
  },
  {
   "cell_type": "markdown",
   "metadata": {},
   "source": [
    "## pre-processing"
   ]
  },
  {
   "cell_type": "code",
   "execution_count": 29,
   "metadata": {},
   "outputs": [],
   "source": [
    "# get list of column names\n",
    "lcolx = dcol['lx']\n",
    "lcolx_cat = dcol['lc_cat'].copy()\n",
    "lcolx_num = lcolx.copy()\n",
    "for ic in lcolx_cat:\n",
    "    lcolx_num.remove(ic)"
   ]
  },
  {
   "cell_type": "code",
   "execution_count": 30,
   "metadata": {},
   "outputs": [],
   "source": [
    "# y pre-processing\n",
    "scaler = normalization.Scaler()\n",
    "y = scaler.fit_transform(data[['y']]).ravel()\n",
    "cy = data['cy'].values\n",
    "#y = transformer(data['y']).ravel()"
   ]
  },
  {
   "cell_type": "code",
   "execution_count": 31,
   "metadata": {},
   "outputs": [],
   "source": [
    "# X pre-processing\n",
    "X = preprocess(data[lcolx_num + lcolx_cat])\n",
    "# new columns\n",
    "lcolx_new = lcolx_num + pd.get_dummies(data[lcolx_cat], prefix_sep='_', drop_first=True).columns.tolist()\n",
    "\n",
    "# create samples\n",
    "X_train, X_test, y_train, y_test =\\\n",
    "    train_test_split(X, y, test_size=0.3, random_state=0)\n",
    "X_train, X_test, cy_train, cy_test =\\\n",
    "    train_test_split(X, cy, test_size=0.3, random_state=0, stratify=cy)"
   ]
  },
  {
   "cell_type": "markdown",
   "metadata": {},
   "source": [
    "### Linear relationship X-y: Pearson Correlation"
   ]
  },
  {
   "cell_type": "code",
   "execution_count": 32,
   "metadata": {},
   "outputs": [
    {
     "name": "stdout",
     "output_type": "stream",
     "text": [
      "Linear Correlation X-y:\n"
     ]
    },
    {
     "data": {
      "text/plain": [
       "y                     1.000000\n",
       "cy                    0.979088\n",
       "DSWRF267              0.774453\n",
       "TMP267                0.160927\n",
       "VGRD267               0.092388\n",
       "cAPCP267_soft rain    0.080655\n",
       "dTMP267               0.041366\n",
       "DTMP267               0.032370\n",
       "PRES267               0.007038\n",
       "hour                 -0.032450\n",
       "UGRD267              -0.038897\n",
       "doy                  -0.052526\n",
       "rLCDC267             -0.074132\n",
       "HWS267               -0.093843\n",
       "rHCDC267             -0.095703\n",
       "APCP267              -0.102673\n",
       "cAPCP267_rain        -0.118346\n",
       "dRH267               -0.121887\n",
       "logAPCP267           -0.123222\n",
       "cLCDC267             -0.132287\n",
       "LCDC267              -0.133272\n",
       "DRH267               -0.156054\n",
       "cHCDC267             -0.169190\n",
       "HCDC267              -0.170353\n",
       "cTCDC267             -0.231951\n",
       "TCDC267              -0.233302\n",
       "rMCDC267             -0.263497\n",
       "cMCDC267             -0.270095\n",
       "MCDC267              -0.273216\n",
       "RH267                -0.344913\n",
       "Name: y, dtype: float64"
      ]
     },
     "execution_count": 32,
     "metadata": {},
     "output_type": "execute_result"
    }
   ],
   "source": [
    "# lineal\n",
    "corr_matrix = pd.get_dummies(data,columns = lcolx_cat, drop_first = True).corr()\n",
    "print('Linear Correlation X-y:')\n",
    "corr_matrix[\"y\"].sort_values(ascending=False)"
   ]
  },
  {
   "cell_type": "markdown",
   "metadata": {},
   "source": [
    "### Linear relationship (F-test) vs Non-Linear relationship (Mutual Information) X-y: \n",
    "\n",
    "- Reference: [\"Comparison of F-test and mutual information\"](http://scikit-learn.org/stable/auto_examples/feature_selection/plot_f_test_vs_mi.html#sphx-glr-auto-examples-feature-selection-plot-f-test-vs-mi-py)"
   ]
  },
  {
   "cell_type": "code",
   "execution_count": 33,
   "metadata": {},
   "outputs": [],
   "source": [
    "from sklearn.feature_selection import f_regression, mutual_info_regression\n",
    "# calculate F-Test\n",
    "f_test, _ = f_regression(X, y)\n",
    "f_test /= np.max(f_test)\n",
    "# calculate Mutual Information\n",
    "mi = mutual_info_regression(X, y)\n",
    "mi /= np.max(mi)\n",
    "# store\n",
    "lr = list()\n",
    "for i in range(X.shape[1]):\n",
    "    lr.append([lcolx_new[i],f_test[i], mi[i]])\n",
    "dfrelation = pd.DataFrame(np.array(lr), columns = ['feature','FTest','MI']).set_index('feature')\n",
    "dfrelation['FTest'] = dfrelation['FTest'].astype(float) \n",
    "dfrelation['MI'] = dfrelation['MI'].astype(float) "
   ]
  },
  {
   "cell_type": "code",
   "execution_count": 34,
   "metadata": {},
   "outputs": [
    {
     "name": "stdout",
     "output_type": "stream",
     "text": [
      "SORTED by F-Test:\n"
     ]
    },
    {
     "data": {
      "text/html": [
       "<div>\n",
       "<style scoped>\n",
       "    .dataframe tbody tr th:only-of-type {\n",
       "        vertical-align: middle;\n",
       "    }\n",
       "\n",
       "    .dataframe tbody tr th {\n",
       "        vertical-align: top;\n",
       "    }\n",
       "\n",
       "    .dataframe thead th {\n",
       "        text-align: right;\n",
       "    }\n",
       "</style>\n",
       "<table border=\"1\" class=\"dataframe\">\n",
       "  <thead>\n",
       "    <tr style=\"text-align: right;\">\n",
       "      <th></th>\n",
       "      <th>FTest</th>\n",
       "      <th>MI</th>\n",
       "    </tr>\n",
       "    <tr>\n",
       "      <th>feature</th>\n",
       "      <th></th>\n",
       "      <th></th>\n",
       "    </tr>\n",
       "  </thead>\n",
       "  <tbody>\n",
       "    <tr>\n",
       "      <th>DSWRF267</th>\n",
       "      <td>1.000000</td>\n",
       "      <td>0.814212</td>\n",
       "    </tr>\n",
       "    <tr>\n",
       "      <th>RH267</th>\n",
       "      <td>0.090102</td>\n",
       "      <td>0.113682</td>\n",
       "    </tr>\n",
       "    <tr>\n",
       "      <th>MCDC267</th>\n",
       "      <td>0.053829</td>\n",
       "      <td>0.081431</td>\n",
       "    </tr>\n",
       "    <tr>\n",
       "      <th>cMCDC267</th>\n",
       "      <td>0.052510</td>\n",
       "      <td>0.074812</td>\n",
       "    </tr>\n",
       "    <tr>\n",
       "      <th>rMCDC267</th>\n",
       "      <td>0.049787</td>\n",
       "      <td>0.059613</td>\n",
       "    </tr>\n",
       "    <tr>\n",
       "      <th>TCDC267</th>\n",
       "      <td>0.038411</td>\n",
       "      <td>0.071302</td>\n",
       "    </tr>\n",
       "    <tr>\n",
       "      <th>cTCDC267</th>\n",
       "      <td>0.037942</td>\n",
       "      <td>0.063670</td>\n",
       "    </tr>\n",
       "    <tr>\n",
       "      <th>HCDC267</th>\n",
       "      <td>0.019944</td>\n",
       "      <td>0.039602</td>\n",
       "    </tr>\n",
       "    <tr>\n",
       "      <th>cHCDC267</th>\n",
       "      <td>0.019664</td>\n",
       "      <td>0.035878</td>\n",
       "    </tr>\n",
       "    <tr>\n",
       "      <th>TMP267</th>\n",
       "      <td>0.017740</td>\n",
       "      <td>0.066818</td>\n",
       "    </tr>\n",
       "    <tr>\n",
       "      <th>DRH267</th>\n",
       "      <td>0.016656</td>\n",
       "      <td>0.031555</td>\n",
       "    </tr>\n",
       "    <tr>\n",
       "      <th>LCDC267</th>\n",
       "      <td>0.012066</td>\n",
       "      <td>0.032756</td>\n",
       "    </tr>\n",
       "    <tr>\n",
       "      <th>cLCDC267</th>\n",
       "      <td>0.011885</td>\n",
       "      <td>0.031625</td>\n",
       "    </tr>\n",
       "    <tr>\n",
       "      <th>logAPCP267</th>\n",
       "      <td>0.010288</td>\n",
       "      <td>0.046929</td>\n",
       "    </tr>\n",
       "    <tr>\n",
       "      <th>dRH267</th>\n",
       "      <td>0.010063</td>\n",
       "      <td>0.017459</td>\n",
       "    </tr>\n",
       "    <tr>\n",
       "      <th>cAPCP267_rain</th>\n",
       "      <td>0.009479</td>\n",
       "      <td>0.017748</td>\n",
       "    </tr>\n",
       "    <tr>\n",
       "      <th>APCP267</th>\n",
       "      <td>0.007109</td>\n",
       "      <td>0.038056</td>\n",
       "    </tr>\n",
       "    <tr>\n",
       "      <th>rHCDC267</th>\n",
       "      <td>0.006168</td>\n",
       "      <td>0.045681</td>\n",
       "    </tr>\n",
       "    <tr>\n",
       "      <th>HWS267</th>\n",
       "      <td>0.005929</td>\n",
       "      <td>0.011977</td>\n",
       "    </tr>\n",
       "    <tr>\n",
       "      <th>VGRD267</th>\n",
       "      <td>0.005745</td>\n",
       "      <td>0.028921</td>\n",
       "    </tr>\n",
       "    <tr>\n",
       "      <th>cAPCP267_soft rain</th>\n",
       "      <td>0.004369</td>\n",
       "      <td>0.010544</td>\n",
       "    </tr>\n",
       "    <tr>\n",
       "      <th>rLCDC267</th>\n",
       "      <td>0.003687</td>\n",
       "      <td>0.028212</td>\n",
       "    </tr>\n",
       "    <tr>\n",
       "      <th>doy</th>\n",
       "      <td>0.001846</td>\n",
       "      <td>0.069378</td>\n",
       "    </tr>\n",
       "    <tr>\n",
       "      <th>dTMP267</th>\n",
       "      <td>0.001144</td>\n",
       "      <td>0.009049</td>\n",
       "    </tr>\n",
       "    <tr>\n",
       "      <th>UGRD267</th>\n",
       "      <td>0.001011</td>\n",
       "      <td>0.018247</td>\n",
       "    </tr>\n",
       "    <tr>\n",
       "      <th>hour</th>\n",
       "      <td>0.000703</td>\n",
       "      <td>1.000000</td>\n",
       "    </tr>\n",
       "    <tr>\n",
       "      <th>DTMP267</th>\n",
       "      <td>0.000700</td>\n",
       "      <td>0.004039</td>\n",
       "    </tr>\n",
       "    <tr>\n",
       "      <th>PRES267</th>\n",
       "      <td>0.000033</td>\n",
       "      <td>0.006706</td>\n",
       "    </tr>\n",
       "  </tbody>\n",
       "</table>\n",
       "</div>"
      ],
      "text/plain": [
       "                       FTest        MI\n",
       "feature                               \n",
       "DSWRF267            1.000000  0.814212\n",
       "RH267               0.090102  0.113682\n",
       "MCDC267             0.053829  0.081431\n",
       "cMCDC267            0.052510  0.074812\n",
       "rMCDC267            0.049787  0.059613\n",
       "TCDC267             0.038411  0.071302\n",
       "cTCDC267            0.037942  0.063670\n",
       "HCDC267             0.019944  0.039602\n",
       "cHCDC267            0.019664  0.035878\n",
       "TMP267              0.017740  0.066818\n",
       "DRH267              0.016656  0.031555\n",
       "LCDC267             0.012066  0.032756\n",
       "cLCDC267            0.011885  0.031625\n",
       "logAPCP267          0.010288  0.046929\n",
       "dRH267              0.010063  0.017459\n",
       "cAPCP267_rain       0.009479  0.017748\n",
       "APCP267             0.007109  0.038056\n",
       "rHCDC267            0.006168  0.045681\n",
       "HWS267              0.005929  0.011977\n",
       "VGRD267             0.005745  0.028921\n",
       "cAPCP267_soft rain  0.004369  0.010544\n",
       "rLCDC267            0.003687  0.028212\n",
       "doy                 0.001846  0.069378\n",
       "dTMP267             0.001144  0.009049\n",
       "UGRD267             0.001011  0.018247\n",
       "hour                0.000703  1.000000\n",
       "DTMP267             0.000700  0.004039\n",
       "PRES267             0.000033  0.006706"
      ]
     },
     "execution_count": 34,
     "metadata": {},
     "output_type": "execute_result"
    }
   ],
   "source": [
    "print('SORTED by F-Test:')\n",
    "dfrelation.sort_values(['FTest'], ascending=[0])"
   ]
  },
  {
   "cell_type": "code",
   "execution_count": 35,
   "metadata": {},
   "outputs": [
    {
     "name": "stdout",
     "output_type": "stream",
     "text": [
      "SORTED by MI:\n"
     ]
    },
    {
     "data": {
      "text/html": [
       "<div>\n",
       "<style scoped>\n",
       "    .dataframe tbody tr th:only-of-type {\n",
       "        vertical-align: middle;\n",
       "    }\n",
       "\n",
       "    .dataframe tbody tr th {\n",
       "        vertical-align: top;\n",
       "    }\n",
       "\n",
       "    .dataframe thead th {\n",
       "        text-align: right;\n",
       "    }\n",
       "</style>\n",
       "<table border=\"1\" class=\"dataframe\">\n",
       "  <thead>\n",
       "    <tr style=\"text-align: right;\">\n",
       "      <th></th>\n",
       "      <th>FTest</th>\n",
       "      <th>MI</th>\n",
       "    </tr>\n",
       "    <tr>\n",
       "      <th>feature</th>\n",
       "      <th></th>\n",
       "      <th></th>\n",
       "    </tr>\n",
       "  </thead>\n",
       "  <tbody>\n",
       "    <tr>\n",
       "      <th>hour</th>\n",
       "      <td>0.000703</td>\n",
       "      <td>1.000000</td>\n",
       "    </tr>\n",
       "    <tr>\n",
       "      <th>DSWRF267</th>\n",
       "      <td>1.000000</td>\n",
       "      <td>0.814212</td>\n",
       "    </tr>\n",
       "    <tr>\n",
       "      <th>RH267</th>\n",
       "      <td>0.090102</td>\n",
       "      <td>0.113682</td>\n",
       "    </tr>\n",
       "    <tr>\n",
       "      <th>MCDC267</th>\n",
       "      <td>0.053829</td>\n",
       "      <td>0.081431</td>\n",
       "    </tr>\n",
       "    <tr>\n",
       "      <th>cMCDC267</th>\n",
       "      <td>0.052510</td>\n",
       "      <td>0.074812</td>\n",
       "    </tr>\n",
       "    <tr>\n",
       "      <th>TCDC267</th>\n",
       "      <td>0.038411</td>\n",
       "      <td>0.071302</td>\n",
       "    </tr>\n",
       "    <tr>\n",
       "      <th>doy</th>\n",
       "      <td>0.001846</td>\n",
       "      <td>0.069378</td>\n",
       "    </tr>\n",
       "    <tr>\n",
       "      <th>TMP267</th>\n",
       "      <td>0.017740</td>\n",
       "      <td>0.066818</td>\n",
       "    </tr>\n",
       "    <tr>\n",
       "      <th>cTCDC267</th>\n",
       "      <td>0.037942</td>\n",
       "      <td>0.063670</td>\n",
       "    </tr>\n",
       "    <tr>\n",
       "      <th>rMCDC267</th>\n",
       "      <td>0.049787</td>\n",
       "      <td>0.059613</td>\n",
       "    </tr>\n",
       "    <tr>\n",
       "      <th>logAPCP267</th>\n",
       "      <td>0.010288</td>\n",
       "      <td>0.046929</td>\n",
       "    </tr>\n",
       "    <tr>\n",
       "      <th>rHCDC267</th>\n",
       "      <td>0.006168</td>\n",
       "      <td>0.045681</td>\n",
       "    </tr>\n",
       "    <tr>\n",
       "      <th>HCDC267</th>\n",
       "      <td>0.019944</td>\n",
       "      <td>0.039602</td>\n",
       "    </tr>\n",
       "    <tr>\n",
       "      <th>APCP267</th>\n",
       "      <td>0.007109</td>\n",
       "      <td>0.038056</td>\n",
       "    </tr>\n",
       "    <tr>\n",
       "      <th>cHCDC267</th>\n",
       "      <td>0.019664</td>\n",
       "      <td>0.035878</td>\n",
       "    </tr>\n",
       "    <tr>\n",
       "      <th>LCDC267</th>\n",
       "      <td>0.012066</td>\n",
       "      <td>0.032756</td>\n",
       "    </tr>\n",
       "    <tr>\n",
       "      <th>cLCDC267</th>\n",
       "      <td>0.011885</td>\n",
       "      <td>0.031625</td>\n",
       "    </tr>\n",
       "    <tr>\n",
       "      <th>DRH267</th>\n",
       "      <td>0.016656</td>\n",
       "      <td>0.031555</td>\n",
       "    </tr>\n",
       "    <tr>\n",
       "      <th>VGRD267</th>\n",
       "      <td>0.005745</td>\n",
       "      <td>0.028921</td>\n",
       "    </tr>\n",
       "    <tr>\n",
       "      <th>rLCDC267</th>\n",
       "      <td>0.003687</td>\n",
       "      <td>0.028212</td>\n",
       "    </tr>\n",
       "    <tr>\n",
       "      <th>UGRD267</th>\n",
       "      <td>0.001011</td>\n",
       "      <td>0.018247</td>\n",
       "    </tr>\n",
       "    <tr>\n",
       "      <th>cAPCP267_rain</th>\n",
       "      <td>0.009479</td>\n",
       "      <td>0.017748</td>\n",
       "    </tr>\n",
       "    <tr>\n",
       "      <th>dRH267</th>\n",
       "      <td>0.010063</td>\n",
       "      <td>0.017459</td>\n",
       "    </tr>\n",
       "    <tr>\n",
       "      <th>HWS267</th>\n",
       "      <td>0.005929</td>\n",
       "      <td>0.011977</td>\n",
       "    </tr>\n",
       "    <tr>\n",
       "      <th>cAPCP267_soft rain</th>\n",
       "      <td>0.004369</td>\n",
       "      <td>0.010544</td>\n",
       "    </tr>\n",
       "    <tr>\n",
       "      <th>dTMP267</th>\n",
       "      <td>0.001144</td>\n",
       "      <td>0.009049</td>\n",
       "    </tr>\n",
       "    <tr>\n",
       "      <th>PRES267</th>\n",
       "      <td>0.000033</td>\n",
       "      <td>0.006706</td>\n",
       "    </tr>\n",
       "    <tr>\n",
       "      <th>DTMP267</th>\n",
       "      <td>0.000700</td>\n",
       "      <td>0.004039</td>\n",
       "    </tr>\n",
       "  </tbody>\n",
       "</table>\n",
       "</div>"
      ],
      "text/plain": [
       "                       FTest        MI\n",
       "feature                               \n",
       "hour                0.000703  1.000000\n",
       "DSWRF267            1.000000  0.814212\n",
       "RH267               0.090102  0.113682\n",
       "MCDC267             0.053829  0.081431\n",
       "cMCDC267            0.052510  0.074812\n",
       "TCDC267             0.038411  0.071302\n",
       "doy                 0.001846  0.069378\n",
       "TMP267              0.017740  0.066818\n",
       "cTCDC267            0.037942  0.063670\n",
       "rMCDC267            0.049787  0.059613\n",
       "logAPCP267          0.010288  0.046929\n",
       "rHCDC267            0.006168  0.045681\n",
       "HCDC267             0.019944  0.039602\n",
       "APCP267             0.007109  0.038056\n",
       "cHCDC267            0.019664  0.035878\n",
       "LCDC267             0.012066  0.032756\n",
       "cLCDC267            0.011885  0.031625\n",
       "DRH267              0.016656  0.031555\n",
       "VGRD267             0.005745  0.028921\n",
       "rLCDC267            0.003687  0.028212\n",
       "UGRD267             0.001011  0.018247\n",
       "cAPCP267_rain       0.009479  0.017748\n",
       "dRH267              0.010063  0.017459\n",
       "HWS267              0.005929  0.011977\n",
       "cAPCP267_soft rain  0.004369  0.010544\n",
       "dTMP267             0.001144  0.009049\n",
       "PRES267             0.000033  0.006706\n",
       "DTMP267             0.000700  0.004039"
      ]
     },
     "execution_count": 35,
     "metadata": {},
     "output_type": "execute_result"
    }
   ],
   "source": [
    "print('SORTED by MI:')\n",
    "dfrelation.sort_values(['MI'], ascending=[0])"
   ]
  },
  {
   "cell_type": "markdown",
   "metadata": {},
   "source": [
    "### Linear relationship X(with crossed values)-y"
   ]
  },
  {
   "cell_type": "code",
   "execution_count": 36,
   "metadata": {},
   "outputs": [],
   "source": [
    "lcolx_num_selection = ['RH267','hour','DSWRF267','MCDC267','TMP267']"
   ]
  },
  {
   "cell_type": "code",
   "execution_count": 37,
   "metadata": {},
   "outputs": [],
   "source": [
    "## get polynomial features\n",
    "from sklearn.preprocessing import PolynomialFeatures\n",
    "poly = PolynomialFeatures(degree=2, interaction_only=False, include_bias=True)\n",
    "apoly = poly.fit_transform(data[lcolx_num_selection])\n",
    "\n",
    "## get features names\n",
    "lcol_polyaux = poly.get_feature_names()\n",
    "dcolx_num = dict()\n",
    "for ii, ic in enumerate(lcolx_num_selection):\n",
    "    if ic!='bias':\n",
    "        dcolx_num['x%s'%ii] = ic"
   ]
  },
  {
   "cell_type": "code",
   "execution_count": 38,
   "metadata": {},
   "outputs": [],
   "source": [
    "# rename crossed columns\n",
    "shead = ';'.join(lcol_polyaux)\n",
    "for k,v in dcolx_num.items():\n",
    "    shead = shead.replace(k,v)\n",
    "lhead = shead.split(';')"
   ]
  },
  {
   "cell_type": "code",
   "execution_count": 39,
   "metadata": {},
   "outputs": [
    {
     "data": {
      "text/plain": [
       "y                   1.000000\n",
       "cy                  0.979088\n",
       "DSWRF267            0.774453\n",
       "RH267 DSWRF267      0.703149\n",
       "DSWRF267^2          0.701270\n",
       "hour DSWRF267       0.668463\n",
       "DSWRF267 TMP267     0.641797\n",
       "TMP267^2            0.182492\n",
       "TMP267              0.160927\n",
       "DSWRF267 MCDC267    0.084244\n",
       "hour TMP267         0.053346\n",
       "RH267 TMP267       -0.014825\n",
       "hour               -0.032450\n",
       "RH267 hour         -0.138915\n",
       "hour^2             -0.196121\n",
       "hour MCDC267       -0.224311\n",
       "MCDC267 TMP267     -0.225101\n",
       "MCDC267^2          -0.233390\n",
       "RH267 MCDC267      -0.271709\n",
       "MCDC267            -0.273216\n",
       "RH267^2            -0.342005\n",
       "RH267              -0.344913\n",
       "1                        NaN\n",
       "Name: y, dtype: float64"
      ]
     },
     "execution_count": 39,
     "metadata": {},
     "output_type": "execute_result"
    }
   ],
   "source": [
    "## store in df and concat with y\n",
    "DATAP = pd.DataFrame(np.c_[apoly,data[dcol['ly']]], columns = lhead + dcol['ly'])\n",
    "\n",
    "# lineal\n",
    "corr_matrix = DATAP.corr()\n",
    "corr_matrix[\"y\"].sort_values(ascending=False)"
   ]
  },
  {
   "cell_type": "markdown",
   "metadata": {},
   "source": [
    "### add interesting crossed columns as features"
   ]
  },
  {
   "cell_type": "code",
   "execution_count": 40,
   "metadata": {},
   "outputs": [],
   "source": [
    "# select cross features to be add\n",
    "lcol_select = ['TMP267^2']\n",
    "# add cross interested features\n",
    "data_extra = data[lcolx_num].copy()\n",
    "lcolx_new = lcolx_num + lcol_select\n",
    "for ic in lcol_select:\n",
    "    data_extra[ic] = DATAP[ic].values\n",
    "data_extra = pd.concat([data_extra, data[lcolx_cat]], axis=1)"
   ]
  },
  {
   "cell_type": "code",
   "execution_count": 41,
   "metadata": {},
   "outputs": [],
   "source": [
    "# X pre-processing\n",
    "X = preprocess(data_extra)\n",
    "# new columns\n",
    "lcolx_new = lcolx_new + pd.get_dummies(data[lcolx_cat], prefix_sep='_', drop_first=True).columns.tolist()\n",
    "# create samples\n",
    "X_train, X_test, y_train, y_test =\\\n",
    "    train_test_split(X, y, test_size=0.3, random_state=0)\n",
    "X_train, X_test, cy_train, cy_test =\\\n",
    "    train_test_split(X, cy, test_size=0.3, random_state=0, stratify=cy)"
   ]
  },
  {
   "cell_type": "markdown",
   "metadata": {},
   "source": [
    "## ElasticNet (Regression)"
   ]
  },
  {
   "cell_type": "code",
   "execution_count": 23,
   "metadata": {},
   "outputs": [
    {
     "name": "stdout",
     "output_type": "stream",
     "text": [
      "- Optimal alpha: 4.50949563\n",
      "- Optimal l1_ratio: 0.001\n",
      "- Number of iterations 2\n"
     ]
    },
    {
     "data": {
      "image/png": "[encoded data removed]",
      "text/plain": [
       "<matplotlib.figure.Figure at 0x7f68281b7ef0>"
      ]
     },
     "metadata": {
      "needs_background": "light"
     },
     "output_type": "display_data"
    }
   ],
   "source": [
    "from sklearn.linear_model import ElasticNetCV\n",
    "\n",
    "# regressor: ElasticNetCV (for tuning hyperparameters)\n",
    "estimatorcv = ElasticNetCV(l1_ratio=[.0001, .001 , .1, .5, .7, .9, .95, 1], eps=0.001, n_alphas=100, fit_intercept=True, \n",
    "                        normalize=False, precompute='auto', max_iter=5000, tol=0.0001, cv=ncv, \n",
    "                        copy_X=True, verbose=0, n_jobs=njobs, positive=False, random_state=None, selection='cyclic')\n",
    "estimatorcv.fit(X_train, y_train)\n",
    "print('- Optimal alpha: %.8f'%estimatorcv.alpha_)\n",
    "print('- Optimal l1_ratio: %.3f'%estimatorcv.l1_ratio_)\n",
    "print('- Number of iterations %d'%estimatorcv.n_iter_)\n",
    "# plot features importance\n",
    "import matplotlib.pyplot as plt\n",
    "dfw = pd.DataFrame(np.c_[lcolx_new,np.array(estimatorcv.coef_)], columns = ['colname','weights']).sort_values(['weights'], ascending=[0]).set_index('colname')\n",
    "dfw['weights'] = dfw['weights'].astype('float')\n",
    "dfw.plot(kind='bar',title='ElasticNetCV: Features Importance')\n",
    "plt.show()"
   ]
  },
  {
   "cell_type": "markdown",
   "metadata": {},
   "source": [
    "## Sequential feature selection algorithms (Classification)"
   ]
  },
  {
   "cell_type": "code",
   "execution_count": 24,
   "metadata": {},
   "outputs": [],
   "source": [
    "from sklearn.base import clone\n",
    "from itertools import combinations\n",
    "import numpy as np\n",
    "from sklearn.metrics import accuracy_score\n",
    "from sklearn.model_selection import train_test_split\n",
    "\n",
    "\n",
    "class SBS():\n",
    "    def __init__(self, estimator, k_features, scoring=accuracy_score,\n",
    "                 test_size=0.25, random_state=1):\n",
    "        self.scoring = scoring\n",
    "        self.estimator = clone(estimator)\n",
    "        self.k_features = k_features\n",
    "        self.test_size = test_size\n",
    "        self.random_state = random_state\n",
    "\n",
    "    def fit(self, X, y):\n",
    "        \n",
    "        X_train, X_test, y_train, y_test = \\\n",
    "            train_test_split(X, y, test_size=self.test_size,\n",
    "                             random_state=self.random_state)\n",
    "\n",
    "        dim = X_train.shape[1]\n",
    "        self.indices_ = tuple(range(dim))\n",
    "        self.subsets_ = [self.indices_]\n",
    "        score = self._calc_score(X_train, y_train, \n",
    "                                 X_test, y_test, self.indices_)\n",
    "        self.scores_ = [score]\n",
    "\n",
    "        while dim > self.k_features:\n",
    "            scores = []\n",
    "            subsets = []\n",
    "\n",
    "            for p in combinations(self.indices_, r=dim - 1):\n",
    "                score = self._calc_score(X_train, y_train, \n",
    "                                         X_test, y_test, p)\n",
    "                scores.append(score)\n",
    "                subsets.append(p)\n",
    "\n",
    "            best = np.argmax(scores)\n",
    "            self.indices_ = subsets[best]\n",
    "            self.subsets_.append(self.indices_)\n",
    "            dim -= 1\n",
    "\n",
    "            self.scores_.append(scores[best])\n",
    "        self.k_score_ = self.scores_[-1]\n",
    "\n",
    "        return self\n",
    "\n",
    "    def transform(self, X):\n",
    "        return X[:, self.indices_]\n",
    "\n",
    "    def _calc_score(self, X_train, y_train, X_test, y_test, indices):\n",
    "        self.estimator.fit(X_train[:, indices], y_train)\n",
    "        y_pred = self.estimator.predict(X_test[:, indices])\n",
    "        score = self.scoring(y_test, y_pred)\n",
    "        return score"
   ]
  },
  {
   "cell_type": "code",
   "execution_count": 25,
   "metadata": {},
   "outputs": [
    {
     "data": {
      "image/png": "[encoded data removed]",
      "text/plain": [
       "<matplotlib.figure.Figure at 0x7f681bf663c8>"
      ]
     },
     "metadata": {
      "needs_background": "light"
     },
     "output_type": "display_data"
    }
   ],
   "source": [
    "import matplotlib.pyplot as plt\n",
    "from sklearn.neighbors import KNeighborsClassifier\n",
    "\n",
    "knn = KNeighborsClassifier(n_neighbors=5)\n",
    "\n",
    "# selecting features\n",
    "sbs = SBS(knn, k_features=1)\n",
    "sbs.fit(X, cy)\n",
    "\n",
    "# plotting performance of feature subsets\n",
    "k_feat = [len(k) for k in sbs.subsets_]\n",
    "\n",
    "plt.plot(k_feat, sbs.scores_, marker='o')\n",
    "#plt.ylim([0.7, 1.02])\n",
    "plt.ylabel('Accuracy')\n",
    "plt.xlabel('Number of features')\n",
    "plt.grid()\n",
    "plt.tight_layout()\n",
    "plt.show()"
   ]
  },
  {
   "cell_type": "code",
   "execution_count": 36,
   "metadata": {},
   "outputs": [
    {
     "name": "stdout",
     "output_type": "stream",
     "text": [
      "['APCP267' 'cLCDC267' 'cMCDC267' 'cHCDC267' 'hour' 'DSWRF267'\n",
      " 'diffDSWRF267' 'TMP267^2']\n"
     ]
    }
   ],
   "source": [
    "k3 = list(sbs.subsets_[17])\n",
    "print(np.array(lcolx_new)[:][k3])"
   ]
  },
  {
   "cell_type": "code",
   "execution_count": 37,
   "metadata": {},
   "outputs": [
    {
     "name": "stdout",
     "output_type": "stream",
     "text": [
      "Training accuracy: 0.870307354555\n",
      "Test accuracy: 0.81546933026\n"
     ]
    }
   ],
   "source": [
    "knn.fit(X_train, cy_train)\n",
    "print('Training accuracy:', knn.score(X_train, cy_train))\n",
    "print('Test accuracy:', knn.score(X_test, cy_test))"
   ]
  },
  {
   "cell_type": "code",
   "execution_count": 38,
   "metadata": {},
   "outputs": [
    {
     "name": "stdout",
     "output_type": "stream",
     "text": [
      "Training accuracy: 0.883973655324\n",
      "Test accuracy: 0.843001664746\n"
     ]
    }
   ],
   "source": [
    "knn.fit(X_train[:, k3], cy_train)\n",
    "print('Training accuracy:', knn.score(X_train[:, k3], cy_train))\n",
    "print('Test accuracy:', knn.score(X_test[:, k3], cy_test))"
   ]
  },
  {
   "cell_type": "markdown",
   "metadata": {},
   "source": [
    "## Assessing feature importance with Random Forests (Classification)"
   ]
  },
  {
   "cell_type": "code",
   "execution_count": 29,
   "metadata": {},
   "outputs": [
    {
     "name": "stdout",
     "output_type": "stream",
     "text": [
      " 1) DSWRF267                       0.236651\n",
      " 2) diffDSWRF267                   0.145866\n",
      " 3) hour                           0.136532\n",
      " 4) RH267                          0.048972\n",
      " 5) doy                            0.040186\n",
      " 6) TMP267                         0.036925\n",
      " 7) TMP267^2                       0.035975\n",
      " 8) VGRD267                        0.032252\n",
      " 9) UGRD267                        0.030333\n",
      "10) HWS267                         0.030253\n",
      "11) MCDC267                        0.029993\n",
      "12) PRES267                        0.029366\n",
      "13) TCDC267                        0.027972\n",
      "14) HCDC267                        0.019885\n",
      "15) logAPCP267                     0.016373\n",
      "16) APCP267                        0.016369\n",
      "17) cMCDC267                       0.015884\n",
      "18) LCDC267                        0.013888\n",
      "19) cTCDC267                       0.012816\n",
      "20) diffAPCP267                    0.012225\n",
      "21) cHCDC267                       0.009720\n",
      "22) diffAPCP267 diffDSWRF267       0.009170\n",
      "23) cLCDC267                       0.006728\n",
      "24) cAPCP267_soft rain             0.003485\n",
      "25) cAPCP267_rain                  0.002181\n"
     ]
    },
    {
     "data": {
      "image/png": "[encoded data removed]",
      "text/plain": [
       "<matplotlib.figure.Figure at 0x7f681b989128>"
      ]
     },
     "metadata": {
      "needs_background": "light"
     },
     "output_type": "display_data"
    }
   ],
   "source": [
    "from sklearn.ensemble import RandomForestClassifier\n",
    "\n",
    "feat_labels = np.array(lcolx_new)\n",
    "\n",
    "forest = RandomForestClassifier(n_estimators=500,\n",
    "                                random_state=1, n_jobs = -1)\n",
    "\n",
    "forest.fit(X_train, cy_train)\n",
    "importances = forest.feature_importances_\n",
    "\n",
    "indices = np.argsort(importances)[::-1]\n",
    "\n",
    "for f in range(X_train.shape[1]):\n",
    "    print(\"%2d) %-*s %f\" % (f + 1, 30, \n",
    "                            feat_labels[indices[f]], \n",
    "                            importances[indices[f]]))\n",
    "\n",
    "plt.title('Feature Importance')\n",
    "plt.bar(range(X_train.shape[1]), \n",
    "        importances[indices],\n",
    "        align='center')\n",
    "\n",
    "plt.xticks(range(X_train.shape[1]), \n",
    "           feat_labels[indices], rotation=90)\n",
    "plt.xlim([-1, X_train.shape[1]])\n",
    "plt.tight_layout()\n",
    "#plt.savefig('images/04_09.png', dpi=300)\n",
    "plt.show()"
   ]
  },
  {
   "cell_type": "markdown",
   "metadata": {},
   "source": [
    "## Assessing feature importance with Random Forests (Regression)"
   ]
  },
  {
   "cell_type": "code",
   "execution_count": 30,
   "metadata": {},
   "outputs": [
    {
     "name": "stdout",
     "output_type": "stream",
     "text": [
      " 1) UGRD267                        0.096483\n",
      " 2) PRES267                        0.092988\n",
      " 3) RH267                          0.092021\n",
      " 4) HWS267                         0.080209\n",
      " 5) VGRD267                        0.078939\n",
      " 6) doy                            0.060041\n",
      " 7) diffDSWRF267                   0.054890\n",
      " 8) TMP267                         0.049010\n",
      " 9) TMP267^2                       0.048455\n",
      "10) TCDC267                        0.042350\n",
      "11) DSWRF267                       0.041459\n",
      "12) hour                           0.041222\n",
      "13) MCDC267                        0.037438\n",
      "14) HCDC267                        0.035620\n",
      "15) LCDC267                        0.031323\n",
      "16) diffAPCP267                    0.028401\n",
      "17) logAPCP267                     0.021117\n",
      "18) APCP267                        0.020842\n",
      "19) diffAPCP267 diffDSWRF267       0.015033\n",
      "20) cHCDC267                       0.007193\n",
      "21) cTCDC267                       0.007137\n",
      "22) cMCDC267                       0.006212\n",
      "23) cLCDC267                       0.005770\n",
      "24) cAPCP267_soft rain             0.004494\n",
      "25) cAPCP267_rain                  0.001354\n"
     ]
    },
    {
     "data": {
      "image/png": "[encoded data removed]",
      "text/plain": [
       "<matplotlib.figure.Figure at 0x7f681a984208>"
      ]
     },
     "metadata": {
      "needs_background": "light"
     },
     "output_type": "display_data"
    }
   ],
   "source": [
    "from sklearn.ensemble import RandomForestRegressor\n",
    "\n",
    "feat_labels = np.array(lcolx_new)\n",
    "\n",
    "forest = RandomForestRegressor(n_estimators=500,\n",
    "                                random_state=1, n_jobs = -1)\n",
    "\n",
    "forest.fit(X_train, y_train)\n",
    "importances = forest.feature_importances_\n",
    "\n",
    "indices = np.argsort(importances)[::-1]\n",
    "\n",
    "for f in range(X_train.shape[1]):\n",
    "    print(\"%2d) %-*s %f\" % (f + 1, 30, \n",
    "                            feat_labels[indices[f]], \n",
    "                            importances[indices[f]]))\n",
    "\n",
    "plt.title('Feature Importance')\n",
    "plt.bar(range(X_train.shape[1]), \n",
    "        importances[indices],\n",
    "        align='center')\n",
    "\n",
    "plt.xticks(range(X_train.shape[1]), \n",
    "           feat_labels[indices], rotation=90)\n",
    "plt.xlim([-1, X_train.shape[1]])\n",
    "plt.tight_layout()\n",
    "#plt.savefig('images/04_09.png', dpi=300)\n",
    "plt.show()"
   ]
  },
  {
   "cell_type": "markdown",
   "metadata": {},
   "source": [
    "## Using theBuilt-in XGBoost Feature Importance Plot (Classification)"
   ]
  },
  {
   "cell_type": "code",
   "execution_count": 31,
   "metadata": {},
   "outputs": [
    {
     "data": {
      "image/png": "[encoded data removed]",
      "text/plain": [
       "<matplotlib.figure.Figure at 0x7f681a93bef0>"
      ]
     },
     "metadata": {
      "needs_background": "light"
     },
     "output_type": "display_data"
    },
    {
     "name": "stdout",
     "output_type": "stream",
     "text": [
      "                     colname            importance\n",
      "id                                                \n",
      "16                      hour     0.286432147026062\n",
      "18                  DSWRF267   0.18198134005069733\n",
      "20              diffDSWRF267   0.10983488708734512\n",
      "17                       doy    0.0839913859963417\n",
      "3                    MCDC267  0.056712131947278976\n",
      "8                     TMP267   0.05276381969451904\n",
      "4                    HCDC267  0.050610192120075226\n",
      "5                    TCDC267   0.03840631619095802\n",
      "6                    PRES267   0.03230438008904457\n",
      "7                      RH267  0.027638191357254982\n",
      "0                    VGRD267   0.02153625339269638\n",
      "1                    UGRD267  0.017587939277291298\n",
      "10                    HWS267  0.015075377188622952\n",
      "19               diffAPCP267  0.008973438292741776\n",
      "9                    APCP267  0.006460875738412142\n",
      "22  diffAPCP267 diffDSWRF267  0.005384063348174095\n",
      "2                    LCDC267  0.004307250492274761\n",
      "23             cAPCP267_rain                   0.0\n",
      "21                  TMP267^2                   0.0\n",
      "12                  cMCDC267                   0.0\n",
      "15                logAPCP267                   0.0\n",
      "14                  cTCDC267                   0.0\n",
      "13                  cHCDC267                   0.0\n",
      "11                  cLCDC267                   0.0\n",
      "24        cAPCP267_soft rain                   0.0\n"
     ]
    }
   ],
   "source": [
    "from xgboost import XGBClassifier\n",
    "from xgboost import plot_importance\n",
    "from matplotlib import pyplot\n",
    "# fit model no training data\n",
    "model = XGBClassifier()\n",
    "model.fit(X_train, cy_train)\n",
    "# plot feature importance\n",
    "plot_importance(model)\n",
    "pyplot.show()\n",
    "# importance df\n",
    "dfimportance = pd.DataFrame(np.c_[np.arange(len(lcolx_new)),np.array(lcolx_new),model.feature_importances_],columns=['id','colname','importance']).set_index('id').sort_values(['importance'], ascending=[0])\n",
    "print(dfimportance)"
   ]
  },
  {
   "cell_type": "code",
   "execution_count": 32,
   "metadata": {},
   "outputs": [
    {
     "name": "stdout",
     "output_type": "stream",
     "text": [
      "Training accuracy: 0.866190998902\n",
      "Test accuracy: 0.850172877449\n"
     ]
    }
   ],
   "source": [
    "model.fit(X_train, cy_train)\n",
    "print('Training accuracy:', model.score(X_train, cy_train))\n",
    "print('Test accuracy:', model.score(X_test, cy_test))"
   ]
  },
  {
   "cell_type": "code",
   "execution_count": 33,
   "metadata": {},
   "outputs": [
    {
     "data": {
      "text/plain": [
       "<matplotlib.axes._subplots.AxesSubplot at 0x7f681b06e470>"
      ]
     },
     "execution_count": 33,
     "metadata": {},
     "output_type": "execute_result"
    },
    {
     "data": {
      "image/png": "[encoded data removed]",
      "text/plain": [
       "<matplotlib.figure.Figure at 0x7f681b098470>"
      ]
     },
     "metadata": {
      "needs_background": "light"
     },
     "output_type": "display_data"
    }
   ],
   "source": [
    "## LEARNING CURVE\n",
    "lindex = [int(i) for i in dfimportance.index.tolist()]\n",
    "lacc_train = list()\n",
    "lacc_test = list()\n",
    "for ii in list(range(1,len(lindex)+1,1)):\n",
    "    model.fit(X_train[:,lindex[:ii]], cy_train)\n",
    "    lacc_train.append(model.score(X_train[:,lindex[:ii]], cy_train))\n",
    "    lacc_test.append(model.score(X_test[:,lindex[:ii]], cy_test))\n",
    "dfacc = pd.DataFrame(list(zip(list(range(1,len(lindex)+1,1)), lacc_train, lacc_test)), columns = ['num_feat','acc_train','acc_test']).set_index('num_feat')\n",
    "dfacc.plot(title=\"Learning Curve\")"
   ]
  },
  {
   "cell_type": "markdown",
   "metadata": {},
   "source": [
    "## Using theBuilt-in XGBoost Feature Importance Plot (Regression)"
   ]
  },
  {
   "cell_type": "code",
   "execution_count": 34,
   "metadata": {},
   "outputs": [
    {
     "data": {
      "image/png": "[encoded data removed]",
      "text/plain": [
       "<matplotlib.figure.Figure at 0x7f681be7c940>"
      ]
     },
     "metadata": {
      "needs_background": "light"
     },
     "output_type": "display_data"
    },
    {
     "name": "stdout",
     "output_type": "stream",
     "text": [
      "                     colname             importance\n",
      "id                                                 \n",
      "1                    UGRD267    0.14132104814052582\n",
      "7                      RH267    0.09984639286994934\n",
      "0                    VGRD267    0.08602150529623032\n",
      "20              diffDSWRF267    0.08448540419340134\n",
      "8                     TMP267    0.07680491358041763\n",
      "6                    PRES267    0.07526881992816925\n",
      "10                    HWS267   0.058371737599372864\n",
      "17                       doy     0.0552995391190052\n",
      "19               diffAPCP267     0.0476190485060215\n",
      "9                    APCP267    0.04147465527057648\n",
      "22  diffAPCP267 diffDSWRF267   0.036866359412670135\n",
      "4                    HCDC267   0.032258063554763794\n",
      "18                  DSWRF267   0.030721966177225113\n",
      "2                    LCDC267   0.030721966177225113\n",
      "21                  TMP267^2   0.029185868799686432\n",
      "16                      hour   0.029185868799686432\n",
      "3                    MCDC267    0.02304147556424141\n",
      "5                    TCDC267   0.019969278946518898\n",
      "24        cAPCP267_soft rain  0.0015360983088612556\n",
      "15                logAPCP267                    0.0\n",
      "14                  cTCDC267                    0.0\n",
      "13                  cHCDC267                    0.0\n",
      "11                  cLCDC267                    0.0\n",
      "23             cAPCP267_rain                    0.0\n",
      "12                  cMCDC267                    0.0\n"
     ]
    }
   ],
   "source": [
    "from xgboost import XGBRegressor\n",
    "from xgboost import plot_importance\n",
    "from matplotlib import pyplot\n",
    "# fit model no training data\n",
    "model = XGBRegressor()\n",
    "model.fit(X_train, y_train)\n",
    "# plot feature importance\n",
    "plot_importance(model)\n",
    "pyplot.show()\n",
    "# importance df\n",
    "dfimportance = pd.DataFrame(np.c_[np.arange(len(lcolx_new)),np.array(lcolx_new),model.feature_importances_],columns=['id','colname','importance']).set_index('id').sort_values(['importance'], ascending=[0])\n",
    "print(dfimportance)"
   ]
  },
  {
   "cell_type": "code",
   "execution_count": 35,
   "metadata": {},
   "outputs": [
    {
     "data": {
      "text/plain": [
       "<matplotlib.axes._subplots.AxesSubplot at 0x7f681a873d30>"
      ]
     },
     "execution_count": 35,
     "metadata": {},
     "output_type": "execute_result"
    },
    {
     "data": {
      "image/png": "[encoded data removed]",
      "text/plain": [
       "<matplotlib.figure.Figure at 0x7f681a984160>"
      ]
     },
     "metadata": {
      "needs_background": "light"
     },
     "output_type": "display_data"
    }
   ],
   "source": [
    "## LEARNING CURVE\n",
    "lindex = [int(i) for i in dfimportance.index.tolist()]\n",
    "lacc_train = list()\n",
    "lacc_test = list()\n",
    "for ii in list(range(1,len(lindex)+1,1)):\n",
    "    model.fit(X_train[:,lindex[:ii]], y_train)\n",
    "    lacc_train.append(model.score(X_train[:,lindex[:ii]], y_train))\n",
    "    lacc_test.append(model.score(X_test[:,lindex[:ii]], y_test))\n",
    "dfacc = pd.DataFrame(list(zip(list(range(1,len(lindex)+1,1)), lacc_train, lacc_test)), columns = ['num_feat','acc_train','acc_test']).set_index('num_feat')\n",
    "dfacc.plot(title=\"Learning Curve\")"
   ]
  },
  {
   "cell_type": "code",
   "execution_count": null,
   "metadata": {},
   "outputs": [],
   "source": []
  }
 ],
 "metadata": {
  "kernelspec": {
   "display_name": "Python 3 (ipykernel)",
   "language": "python",
   "name": "python3"
  },
  "language_info": {
   "codemirror_mode": {
    "name": "ipython",
    "version": 3
   },
   "file_extension": ".py",
   "mimetype": "text/x-python",
   "name": "python",
   "nbconvert_exporter": "python",
   "pygments_lexer": "ipython3",
   "version": "3.7.0"
  }
 },
 "nbformat": 4,
 "nbformat_minor": 4
}
