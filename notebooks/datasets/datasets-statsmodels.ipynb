{
 "cells": [
  {
   "cell_type": "markdown",
   "metadata": {},
   "source": [
    "# Datasets from StatsModels library"
   ]
  },
  {
   "cell_type": "code",
   "execution_count": 2,
   "metadata": {},
   "outputs": [],
   "source": [
    "import warnings\n",
    "warnings.filterwarnings('ignore')\n",
    "import statsmodels.api as sm"
   ]
  },
  {
   "cell_type": "code",
   "execution_count": 3,
   "metadata": {},
   "outputs": [
    {
     "data": {
      "text/plain": [
       "['__builtins__',\n",
       " '__cached__',\n",
       " '__doc__',\n",
       " '__file__',\n",
       " '__loader__',\n",
       " '__name__',\n",
       " '__package__',\n",
       " '__path__',\n",
       " '__spec__',\n",
       " 'anes96',\n",
       " 'cancer',\n",
       " 'ccard',\n",
       " 'check_internet',\n",
       " 'china_smoking',\n",
       " 'clear_data_home',\n",
       " 'co2',\n",
       " 'committee',\n",
       " 'copper',\n",
       " 'cpunish',\n",
       " 'elnino',\n",
       " 'engel',\n",
       " 'fair',\n",
       " 'fertility',\n",
       " 'get_data_home',\n",
       " 'get_rdataset',\n",
       " 'grunfeld',\n",
       " 'heart',\n",
       " 'interest_inflation',\n",
       " 'longley',\n",
       " 'macrodata',\n",
       " 'modechoice',\n",
       " 'nile',\n",
       " 'randhie',\n",
       " 'scotland',\n",
       " 'spector',\n",
       " 'stackloss',\n",
       " 'star98',\n",
       " 'statecrime',\n",
       " 'strikes',\n",
       " 'sunspots',\n",
       " 'utils',\n",
       " 'webuse']"
      ]
     },
     "execution_count": 3,
     "metadata": {},
     "output_type": "execute_result"
    }
   ],
   "source": [
    "dir(sm.datasets)"
   ]
  },
  {
   "cell_type": "markdown",
   "metadata": {},
   "source": [
    "## House Prices"
   ]
  },
  {
   "cell_type": "code",
   "execution_count": 33,
   "metadata": {},
   "outputs": [
    {
     "data": {
      "text/plain": [
       "(546, 12)"
      ]
     },
     "execution_count": 33,
     "metadata": {},
     "output_type": "execute_result"
    }
   ],
   "source": [
    "df = sm.datasets.get_rdataset(dataname=\"HousePrices\", package=\"AER\", cache=True).data\n",
    "df.shape"
   ]
  },
  {
   "cell_type": "code",
   "execution_count": 34,
   "metadata": {},
   "outputs": [
    {
     "name": "stdout",
     "output_type": "stream",
     "text": [
      "<class 'pandas.core.frame.DataFrame'>\n",
      "RangeIndex: 546 entries, 0 to 545\n",
      "Data columns (total 12 columns):\n",
      " #   Column      Non-Null Count  Dtype  \n",
      "---  ------      --------------  -----  \n",
      " 0   price       546 non-null    float64\n",
      " 1   lotsize     546 non-null    int64  \n",
      " 2   bedrooms    546 non-null    int64  \n",
      " 3   bathrooms   546 non-null    int64  \n",
      " 4   stories     546 non-null    int64  \n",
      " 5   driveway    546 non-null    object \n",
      " 6   recreation  546 non-null    object \n",
      " 7   fullbase    546 non-null    object \n",
      " 8   gasheat     546 non-null    object \n",
      " 9   aircon      546 non-null    object \n",
      " 10  garage      546 non-null    int64  \n",
      " 11  prefer      546 non-null    object \n",
      "dtypes: float64(1), int64(5), object(6)\n",
      "memory usage: 51.3+ KB\n"
     ]
    }
   ],
   "source": [
    "df.info()"
   ]
  },
  {
   "cell_type": "markdown",
   "metadata": {},
   "source": [
    "## Sunspots"
   ]
  },
  {
   "cell_type": "code",
   "execution_count": 18,
   "metadata": {},
   "outputs": [
    {
     "data": {
      "text/plain": [
       "(309, 2)"
      ]
     },
     "execution_count": 18,
     "metadata": {},
     "output_type": "execute_result"
    }
   ],
   "source": [
    "df = sm.datasets.sunspots.load_pandas().data\n",
    "df.shape"
   ]
  },
  {
   "cell_type": "code",
   "execution_count": 19,
   "metadata": {},
   "outputs": [
    {
     "name": "stdout",
     "output_type": "stream",
     "text": [
      "<class 'pandas.core.frame.DataFrame'>\n",
      "RangeIndex: 309 entries, 0 to 308\n",
      "Data columns (total 2 columns):\n",
      " #   Column       Non-Null Count  Dtype  \n",
      "---  ------       --------------  -----  \n",
      " 0   YEAR         309 non-null    float64\n",
      " 1   SUNACTIVITY  309 non-null    float64\n",
      "dtypes: float64(2)\n",
      "memory usage: 5.0 KB\n"
     ]
    }
   ],
   "source": [
    "df.info()"
   ]
  },
  {
   "cell_type": "markdown",
   "metadata": {},
   "source": [
    "## Interest Inflaction"
   ]
  },
  {
   "cell_type": "code",
   "execution_count": 21,
   "metadata": {},
   "outputs": [
    {
     "data": {
      "text/plain": [
       "(107, 4)"
      ]
     },
     "execution_count": 21,
     "metadata": {},
     "output_type": "execute_result"
    }
   ],
   "source": [
    "df = sm.datasets.interest_inflation.load_pandas().data\n",
    "df.shape"
   ]
  },
  {
   "cell_type": "code",
   "execution_count": 23,
   "metadata": {},
   "outputs": [
    {
     "name": "stdout",
     "output_type": "stream",
     "text": [
      "<class 'pandas.core.frame.DataFrame'>\n",
      "RangeIndex: 107 entries, 0 to 106\n",
      "Data columns (total 4 columns):\n",
      " #   Column   Non-Null Count  Dtype  \n",
      "---  ------   --------------  -----  \n",
      " 0   year     107 non-null    float64\n",
      " 1   quarter  107 non-null    float64\n",
      " 2   Dp       107 non-null    float64\n",
      " 3   R        107 non-null    float64\n",
      "dtypes: float64(4)\n",
      "memory usage: 3.5 KB\n"
     ]
    }
   ],
   "source": [
    "df.info()"
   ]
  },
  {
   "cell_type": "markdown",
   "metadata": {},
   "source": [
    "## El Niño"
   ]
  },
  {
   "cell_type": "code",
   "execution_count": 24,
   "metadata": {},
   "outputs": [
    {
     "data": {
      "text/plain": [
       "(61, 13)"
      ]
     },
     "execution_count": 24,
     "metadata": {},
     "output_type": "execute_result"
    }
   ],
   "source": [
    "df = sm.datasets.elnino.load_pandas().data\n",
    "df.shape"
   ]
  },
  {
   "cell_type": "code",
   "execution_count": 25,
   "metadata": {},
   "outputs": [
    {
     "name": "stdout",
     "output_type": "stream",
     "text": [
      "<class 'pandas.core.frame.DataFrame'>\n",
      "RangeIndex: 61 entries, 0 to 60\n",
      "Data columns (total 13 columns):\n",
      " #   Column  Non-Null Count  Dtype  \n",
      "---  ------  --------------  -----  \n",
      " 0   YEAR    61 non-null     float64\n",
      " 1   JAN     61 non-null     float64\n",
      " 2   FEB     61 non-null     float64\n",
      " 3   MAR     61 non-null     float64\n",
      " 4   APR     61 non-null     float64\n",
      " 5   MAY     61 non-null     float64\n",
      " 6   JUN     61 non-null     float64\n",
      " 7   JUL     61 non-null     float64\n",
      " 8   AUG     61 non-null     float64\n",
      " 9   SEP     61 non-null     float64\n",
      " 10  OCT     61 non-null     float64\n",
      " 11  NOV     61 non-null     float64\n",
      " 12  DEC     61 non-null     float64\n",
      "dtypes: float64(13)\n",
      "memory usage: 6.3 KB\n"
     ]
    }
   ],
   "source": [
    "df.info()"
   ]
  },
  {
   "cell_type": "markdown",
   "metadata": {},
   "source": [
    "## Fertility"
   ]
  },
  {
   "cell_type": "code",
   "execution_count": 27,
   "metadata": {},
   "outputs": [
    {
     "data": {
      "text/plain": [
       "(219, 58)"
      ]
     },
     "execution_count": 27,
     "metadata": {},
     "output_type": "execute_result"
    }
   ],
   "source": [
    "df = sm.datasets.fertility.load_pandas().data\n",
    "df.shape"
   ]
  },
  {
   "cell_type": "code",
   "execution_count": 28,
   "metadata": {},
   "outputs": [
    {
     "name": "stdout",
     "output_type": "stream",
     "text": [
      "<class 'pandas.core.frame.DataFrame'>\n",
      "RangeIndex: 219 entries, 0 to 218\n",
      "Data columns (total 58 columns):\n",
      " #   Column          Non-Null Count  Dtype  \n",
      "---  ------          --------------  -----  \n",
      " 0   Country Name    219 non-null    object \n",
      " 1   Country Code    219 non-null    object \n",
      " 2   Indicator Name  219 non-null    object \n",
      " 3   Indicator Code  219 non-null    object \n",
      " 4   1960            194 non-null    float64\n",
      " 5   1961            195 non-null    float64\n",
      " 6   1962            194 non-null    float64\n",
      " 7   1963            193 non-null    float64\n",
      " 8   1964            194 non-null    float64\n",
      " 9   1965            194 non-null    float64\n",
      " 10  1966            194 non-null    float64\n",
      " 11  1967            194 non-null    float64\n",
      " 12  1968            194 non-null    float64\n",
      " 13  1969            194 non-null    float64\n",
      " 14  1970            194 non-null    float64\n",
      " 15  1971            195 non-null    float64\n",
      " 16  1972            196 non-null    float64\n",
      " 17  1973            194 non-null    float64\n",
      " 18  1974            194 non-null    float64\n",
      " 19  1975            194 non-null    float64\n",
      " 20  1976            194 non-null    float64\n",
      " 21  1977            194 non-null    float64\n",
      " 22  1978            194 non-null    float64\n",
      " 23  1979            194 non-null    float64\n",
      " 24  1980            194 non-null    float64\n",
      " 25  1981            196 non-null    float64\n",
      " 26  1982            199 non-null    float64\n",
      " 27  1983            196 non-null    float64\n",
      " 28  1984            196 non-null    float64\n",
      " 29  1985            196 non-null    float64\n",
      " 30  1986            196 non-null    float64\n",
      " 31  1987            200 non-null    float64\n",
      " 32  1988            196 non-null    float64\n",
      " 33  1989            196 non-null    float64\n",
      " 34  1990            199 non-null    float64\n",
      " 35  1991            199 non-null    float64\n",
      " 36  1992            201 non-null    float64\n",
      " 37  1993            198 non-null    float64\n",
      " 38  1994            199 non-null    float64\n",
      " 39  1995            201 non-null    float64\n",
      " 40  1996            198 non-null    float64\n",
      " 41  1997            202 non-null    float64\n",
      " 42  1998            199 non-null    float64\n",
      " 43  1999            200 non-null    float64\n",
      " 44  2000            202 non-null    float64\n",
      " 45  2001            201 non-null    float64\n",
      " 46  2002            204 non-null    float64\n",
      " 47  2003            202 non-null    float64\n",
      " 48  2004            201 non-null    float64\n",
      " 49  2005            203 non-null    float64\n",
      " 50  2006            205 non-null    float64\n",
      " 51  2007            206 non-null    float64\n",
      " 52  2008            205 non-null    float64\n",
      " 53  2009            205 non-null    float64\n",
      " 54  2010            204 non-null    float64\n",
      " 55  2011            202 non-null    float64\n",
      " 56  2012            0 non-null      float64\n",
      " 57  2013            0 non-null      float64\n",
      "dtypes: float64(54), object(4)\n",
      "memory usage: 99.4+ KB\n"
     ]
    }
   ],
   "source": [
    "df.info()"
   ]
  },
  {
   "cell_type": "code",
   "execution_count": null,
   "metadata": {},
   "outputs": [],
   "source": []
  }
 ],
 "metadata": {
  "kernelspec": {
   "display_name": "analysis",
   "language": "python",
   "name": "analysis"
  },
  "language_info": {
   "codemirror_mode": {
    "name": "ipython",
    "version": 3
   },
   "file_extension": ".py",
   "mimetype": "text/x-python",
   "name": "python",
   "nbconvert_exporter": "python",
   "pygments_lexer": "ipython3",
   "version": "3.7.0"
  }
 },
 "nbformat": 4,
 "nbformat_minor": 4
}
