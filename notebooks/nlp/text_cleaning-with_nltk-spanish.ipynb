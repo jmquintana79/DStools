{
 "cells": [
  {
   "cell_type": "markdown",
   "id": "binding-meeting",
   "metadata": {},
   "source": [
    "# Text Cleaning: English\n",
    "\n",
    "### References:\n",
    "- https://towardsdatascience.com/cleaning-text-data-with-python-b69b47b97b76\n",
    "- https://www.geeksforgeeks.org/python-efficient-text-data-cleaning/"
   ]
  },
  {
   "cell_type": "code",
   "execution_count": 1,
   "id": "spread-purchase",
   "metadata": {},
   "outputs": [],
   "source": [
    "import nltk\n",
    "from nltk.corpus import stopwords \n",
    "import re  \n",
    "import itertools \n",
    "import string  "
   ]
  },
  {
   "cell_type": "markdown",
   "id": "loved-junior",
   "metadata": {},
   "source": [
    "### data"
   ]
  },
  {
   "cell_type": "code",
   "execution_count": 2,
   "id": "realistic-shoot",
   "metadata": {},
   "outputs": [],
   "source": [
    "text = \"\"\"\n",
    "Últimamente, puede que hayas oído hablar del famoso científico de datos o data scientist por su nombre en inglés, una ocupación que está teniendo gran éxito y que se considera un trabajo de ensueño. ¿Por qué se solicita? ¿Y por qué las empresas están dispuestas a pagar sumas vertiginosas por este tipo de trabajo? Trataré de responder a esta y otras preguntas en este artículo.\n",
    "\n",
    "El papel del científico de datos es ahora una carrera muy exitosa, ya que tiene un poder enorme y constante en casi todos los mercados principalmente por dos razones:\n",
    "\n",
    "    Un número cada vez mayor de empresas de nueva creación se dedican a la inteligencia artificial y al aprendizaje automático (machine learning)\n",
    "    La correcta gestión y análisis de los datos de la empresa y del mercado garantiza una ventaja competitiva clave.\n",
    "\n",
    "¿Ha pensado también en comenzar una carrera como data scientist? Estas son algunas de las razones que te convencerán de actuar.\n",
    "AndroidPIT 16 9 shutterstock 680929729\n",
    "La recopilación y el análisis de datos es una de las primeras cosas que hay que hacer / / © NextPit\n",
    "Reducir la tasa de mortalidad empresarial\n",
    "\n",
    "De hecho, gran parte de la mortalidad empresarial se debe a que los que entran en el mercado no tienen ni idea de lo que están haciendo. Piensa que, en promedio, por cada empresa que nace, mueren tres. Esto se debe a una serie de razones, entre las que se incluye el hecho de que nadie recopila, cataloga, analiza o interpreta los datos de mercado. Pero no sólo eso: además de no hacerlo antes de entrar en el mercado, las empresas ignoran estas operaciones fundamentales incluso en el curso de la actividad empresarial.\n",
    "\n",
    "Las compañías tienen la oportunidad de recopilar datos desde cualquier lugar, principalmente de sus clientes, una fuente inagotable de información en constante cambio. Sin embargo, según un informe de seguridad de datos de 2018 de Gemalto, hasta un 65% de las compañías encuestadas dijeron que no podían analizar o categorizar los datos. Peor aún, el 89% conoce los beneficios potenciales del análisis de datos, pero no tiene idea de cómo hacerlo.\n",
    "\n",
    "    Fuga de datos masiva: 2.200 millones de nombres de usuarios y contraseñas en la red\n",
    "\n",
    "data scientist analyst\n",
    "El 65% de las empresas no tienen idea de cómo utilizar los datos. / © Gemalto\n",
    "\n",
    "Sólo esta primera razón debería ser lo suficientemente ética como para convencerte de que te conviertas en un científico de datos.\n",
    "Aprovecha las nuevas normativas de gestión de datos\n",
    "\n",
    "Si vives en la Unión Europea, es posible que hayas oído hablar del nuevo reglamento de protección de datos que entró en vigor en mayo de 2018, el llamado GDPR. Este reglamento establece que las empresas que operan en Europa (incluidas las de fuera de Europa) están obligadas a gestionar los datos de los usuarios de forma diferente, informándoles de qué datos se están registrando y cómo. Además, la UE obliga a las empresas a eliminar dichos datos cuando los usuarios los soliciten.\n",
    "\n",
    "    La UE aprueba la controvertida Directiva de derechos de autor\n",
    "\n",
    "GDPR 2018\n",
    "Los científicos de datos son útiles a la hora de implementar nuevas regulaciones de uso de datos. / © Vector Plus Image/Shutterstock\n",
    "\n",
    "Como he dicho antes, esta legislación no se aplica, por ejemplo, a las empresas que operan en los Estados Unidos, pero yo esperaría a cantar victoria, porque California emitirá un reglamento similar para 2020, el llamado ACFA. Como resultado, estas regulaciones aumentan la dependencia de las empresas de los expertos en datos debido a la necesidad de análisis en tiempo real y almacenamiento responsable de datos. Además, en la sociedad actual, es comprensible que la gente sea más cautelosa a la hora de renunciar a los datos que en el pasado, por lo que se necesita la ayuda de personas con más experiencia.\n",
    "Una carrera en continua evolución\n",
    "\n",
    "Las carreras sin potencial de crecimiento permanecen estancadas, apenas evolucionan, hasta que se vuelven irrelevantes para la sociedad. Por el contrario, este trabajo ofrece amplias oportunidades de evolución ya en la próxima década. Dado que la solicitud de empleo no muestra signos de ralentización, ésta es sin duda otra buena noticia para aquellos que desean entrar en el campo de la ciencia de la información.\n",
    "\n",
    "    Con el 5G nuestra privacidad puede estar en riesgo (más de lo que ya lo está)\n",
    "\n",
    "AI robot 08\n",
    "El trabajo del científico de datos evoluciona de año en año. / © metamorworks/Shutterstock\n",
    "\n",
    "Un cambio que probablemente surgirá pronto es que el título de científico de datos será más específico. De hecho, en la actualidad es posible encontrar científicos de datos en diferentes sociedades, pero no es necesariamente el caso que hagan lo mismo. Por lo tanto, hay que especializarse, ya que sus cualificaciones y sus carreras serán cada vez más específicas.\n",
    "Habilidades requeridas en todas partes\n",
    "\n",
    "Según los últimos datos de Almalaurea, el 94% de los licenciados en informática han obtenido un empleo con un salario neto de 1.489 euros. Este es ciertamente otro factor que indica que la carrera de científico de datos es capaz de que consigas un trabajo antes que estudiando otras áreas. Más específicamente, su demanda ha aumentado significativamente en un 256% desde 2013, por lo que es obvio cómo las empresas tienden a reconocer el valor de los científicos de datos y necesariamente lo necesitan.\n",
    "deal 04\n",
    "La oferta de trabajo como científico de datos registró un aumento del 256% / © Shutterstock\n",
    "El aumento del número de datos diarios\n",
    "\n",
    "La gente genera datos todos los días y lo más probable es que lo haga sin pensarlo ni por un segundo. Analizando los datos actuales y futuros, hay que tener claro que 5.000 millones de consumidores interactúan con los datos diariamente, una cifra destinada a alcanzar los 6.000 millones para 2025, tres cuartas partes de la población mundial. Además, la cantidad de datos en el mundo en 2018 ascendía a 33 zettabytes, pero las proyecciones muestran un aumento a 133 zettabytes para 2025.\n",
    "\n",
    "    ¡Pillados! Facebook comparte datos con Microsoft, Amazon, Spotify y Co.\n",
    "\n",
    "Inside IBM Cloud Dallas\n",
    "Se espera que el número de datos en circulación aumente exponencialmente en unos pocos años. / © IBM\n",
    "\n",
    "En resumen, la producción de datos está en aumento y los científicos de datos estarán a la vanguardia para ayudar a las empresas a utilizarlos eficazmente.\n",
    "Salario más alto y alta probabilidad de ascenso profesional\n",
    "\n",
    "LinkedIn nombró recientemente al científico de datos como la carrera más prometedora de 2019. Una de las razones por las que obtuvo el primer lugar es que el salario promedio es de $1,300,000 al año. El estudio de LinkedIn también examinó la probabilidad de que la gente pudiera obtener ascensos y la puntuación fue de nueve de cada diez. Por supuesto, como en cualquier industria, el científico de datos también debe mostrar iniciativa y aprovechar las oportunidades para sobresalir, pero las conclusiones de LinkedIn sugieren que las empresas tienen la intención de mantener al científico de datos a largo plazo.\n",
    "deal 10\n",
    "El científico de datos es uno de los trabajos más rentables del momento. / © NextPit\n",
    "\n",
    "Por otra parte, si las empresas no vieran a los científicos de datos como recursos aplicables a su competitividad y prosperidad futuras, probablemente nunca les ofrecerían promoción.\"\"\""
   ]
  },
  {
   "cell_type": "markdown",
   "id": "judicial-albuquerque",
   "metadata": {},
   "source": [
    "## CLEANING"
   ]
  },
  {
   "cell_type": "markdown",
   "id": "buried-bryan",
   "metadata": {},
   "source": [
    "### Removing URLs, Hashtags and Styles"
   ]
  },
  {
   "cell_type": "code",
   "execution_count": 3,
   "id": "auburn-adolescent",
   "metadata": {},
   "outputs": [],
   "source": [
    "# remove hyperlinks \n",
    "text = re.sub(r'https?:\\/\\/.\\S+', \"\", text) \n",
    "  \n",
    "# remove hashtags \n",
    "# only removing the hash # sign from the word \n",
    "text = re.sub(r'#', '', text) \n",
    "  \n",
    "# remove old style retweet text \"RT\" \n",
    "text = re.sub(r'^RT[\\s]+', '', text) "
   ]
  },
  {
   "cell_type": "markdown",
   "id": "infrared-washington",
   "metadata": {},
   "source": [
    "### Split attached words"
   ]
  },
  {
   "cell_type": "code",
   "execution_count": 4,
   "id": "automotive-lobby",
   "metadata": {},
   "outputs": [],
   "source": [
    "#separate the words \n",
    "text = \" \".join([s for s in re.split(\"([A-Z][a-z]+[^A-Z]*)\",text) if s]) "
   ]
  },
  {
   "cell_type": "markdown",
   "id": "personal-observer",
   "metadata": {},
   "source": [
    "### Convert to lower case"
   ]
  },
  {
   "cell_type": "code",
   "execution_count": 5,
   "id": "binary-berlin",
   "metadata": {},
   "outputs": [],
   "source": [
    "#convert to lower case \n",
    "text=text.lower() "
   ]
  },
  {
   "cell_type": "markdown",
   "id": "alike-alabama",
   "metadata": {},
   "source": [
    "### Standardizing"
   ]
  },
  {
   "cell_type": "code",
   "execution_count": 6,
   "id": "weird-morris",
   "metadata": {},
   "outputs": [],
   "source": [
    "#One letter in a word should not be present more than twice in continuation \n",
    "text = ''.join(''.join(s)[:2] for _, s in itertools.groupby(text)) "
   ]
  },
  {
   "cell_type": "markdown",
   "id": "pointed-quilt",
   "metadata": {},
   "source": [
    "### Remove Stopwords"
   ]
  },
  {
   "cell_type": "code",
   "execution_count": 7,
   "id": "timely-tennessee",
   "metadata": {},
   "outputs": [
    {
     "name": "stderr",
     "output_type": "stream",
     "text": [
      "[nltk_data] Downloading package stopwords to /home/jmq/nltk_data...\n",
      "[nltk_data]   Package stopwords is already up-to-date!\n"
     ]
    }
   ],
   "source": [
    "#download the stopwords from nltk using \n",
    "nltk.download('stopwords') \n",
    "  \n",
    "#import english stopwords list from nltk \n",
    "stopwords_eng = stopwords.words('spanish')  \n",
    "  \n",
    "text_tokens=text.split() \n",
    "text_list=[] \n",
    "#remove stopwords \n",
    "for word in text_tokens: \n",
    "    if word not in stopwords_eng: \n",
    "        text_list.append(word) "
   ]
  },
  {
   "cell_type": "code",
   "execution_count": 10,
   "id": "going-playing",
   "metadata": {},
   "outputs": [],
   "source": [
    "stopwords = ['©','¿']\n",
    "stopwords += []\n",
    "\n",
    "def removeStopwords(wordlist, stopwords):\n",
    "    return [w for w in wordlist if w not in stopwords]\n",
    "\n",
    "text_list = removeStopwords(text_list, stopwords)"
   ]
  },
  {
   "cell_type": "markdown",
   "id": "opening-portfolio",
   "metadata": {},
   "source": [
    "### Remove Punctuations"
   ]
  },
  {
   "cell_type": "code",
   "execution_count": 11,
   "id": "enormous-scotland",
   "metadata": {},
   "outputs": [],
   "source": [
    "#for string operations        \n",
    "clean_text=[] \n",
    "#remove punctuations \n",
    "for word in text_list: \n",
    "    if word not in string.punctuation: \n",
    "        clean_text.append(word.rstrip().lstrip()) "
   ]
  },
  {
   "cell_type": "markdown",
   "id": "human-dairy",
   "metadata": {},
   "source": [
    "## COUNTING WORDS\n",
    "> Instalation: pip install collections-extended"
   ]
  },
  {
   "cell_type": "code",
   "execution_count": 12,
   "id": "portable-value",
   "metadata": {},
   "outputs": [
    {
     "data": {
      "text/plain": [
       "[('datos', 37),\n",
       " ('empresas', 12),\n",
       " ('científico', 11),\n",
       " ('trabajo', 5),\n",
       " ('carrera', 5),\n",
       " ('datos.', 5),\n",
       " ('científicos', 5),\n",
       " ('cada', 4),\n",
       " ('análisis', 4),\n",
       " ('shutterstock', 4),\n",
       " ('aumento', 4),\n",
       " ('data', 3),\n",
       " ('número', 3),\n",
       " ('pit', 3),\n",
       " ('debe', 3),\n",
       " ('idea', 3),\n",
       " ('2018', 3),\n",
       " ('cómo', 3),\n",
       " ('millones', 3),\n",
       " ('usuarios', 3),\n",
       " ('reglamento', 3),\n",
       " ('además,', 3),\n",
       " ('gente', 3),\n",
       " ('salario', 3),\n",
       " ('linked', 3),\n",
       " ('in', 3),\n",
       " ('puede', 2),\n",
       " ('oído', 2),\n",
       " ('hablar', 2),\n",
       " ('scientist', 2)]"
      ]
     },
     "execution_count": 12,
     "metadata": {},
     "output_type": "execute_result"
    }
   ],
   "source": [
    "from collections import Counter\n",
    "\n",
    "count_each_word = Counter(clean_text)\n",
    "count_each_word.most_common(30)"
   ]
  },
  {
   "cell_type": "code",
   "execution_count": null,
   "id": "thermal-liquid",
   "metadata": {},
   "outputs": [],
   "source": []
  }
 ],
 "metadata": {
  "kernelspec": {
   "display_name": "nlp",
   "language": "python",
   "name": "nlp"
  },
  "language_info": {
   "codemirror_mode": {
    "name": "ipython",
    "version": 3
   },
   "file_extension": ".py",
   "mimetype": "text/x-python",
   "name": "python",
   "nbconvert_exporter": "python",
   "pygments_lexer": "ipython3",
   "version": "3.7.0"
  }
 },
 "nbformat": 4,
 "nbformat_minor": 5
}
