{
 "cells": [
  {
   "cell_type": "markdown",
   "id": "9cf46d94",
   "metadata": {},
   "source": [
    "# Language dectection: langdetect library\n",
    "\n",
    "*langdetect* supports 55 languages out of the box ([ISO 639-1 codes](https://en.wikipedia.org/wiki/List_of_ISO_639-1_codes)):\n",
    "```\n",
    "af, ar, bg, bn, ca, cs, cy, da, de, el, en, es, et, fa, fi, fr, gu, he,\n",
    "hi, hr, hu, id, it, ja, kn, ko, lt, lv, mk, ml, mr, ne, nl, no, pa, pl,\n",
    "pt, ro, ru, sk, sl, so, sq, sv, sw, ta, te, th, tl, tr, uk, ur, vi, zh-cn, zh-tw\n",
    "```\n",
    "\n",
    "### Sources\n",
    "\n",
    "- [langdetect](https://pypi.org/project/langdetect/)"
   ]
  },
  {
   "cell_type": "raw",
   "id": "c69a2368",
   "metadata": {},
   "source": [
    "!pip3 install langdetect"
   ]
  },
  {
   "cell_type": "markdown",
   "id": "0907cb6a",
   "metadata": {},
   "source": [
    "## single language detection"
   ]
  },
  {
   "cell_type": "code",
   "execution_count": 1,
   "id": "38702947",
   "metadata": {},
   "outputs": [
    {
     "data": {
      "text/plain": [
       "'en'"
      ]
     },
     "execution_count": 1,
     "metadata": {},
     "output_type": "execute_result"
    }
   ],
   "source": [
    "from langdetect import detect\n",
    "detect(\"War doesn't show who's right, just who's left.\")"
   ]
  },
  {
   "cell_type": "code",
   "execution_count": 2,
   "id": "a9093c4e",
   "metadata": {},
   "outputs": [
    {
     "data": {
      "text/plain": [
       "'es'"
      ]
     },
     "execution_count": 2,
     "metadata": {},
     "output_type": "execute_result"
    }
   ],
   "source": [
    "from langdetect import detect\n",
    "detect(\"Me llamo Juan y me gustaria aprender mas.\")"
   ]
  },
  {
   "cell_type": "markdown",
   "id": "2ae91424",
   "metadata": {},
   "source": [
    "## multilanguage detection"
   ]
  },
  {
   "cell_type": "code",
   "execution_count": 6,
   "id": "ac5d6ca9",
   "metadata": {},
   "outputs": [
    {
     "data": {
      "text/plain": [
       "[es:0.8571410621039605, en:0.14285727685632058]"
      ]
     },
     "execution_count": 6,
     "metadata": {},
     "output_type": "execute_result"
    }
   ],
   "source": [
    ">>> from langdetect import detect_langs\n",
    "detect_langs(\"Me llamo Juan y me gustaria aprender mas. Who are you?.\")"
   ]
  },
  {
   "cell_type": "code",
   "execution_count": null,
   "id": "ef88e264",
   "metadata": {},
   "outputs": [],
   "source": []
  }
 ],
 "metadata": {
  "kernelspec": {
   "display_name": "nlp",
   "language": "python",
   "name": "nlp"
  },
  "language_info": {
   "codemirror_mode": {
    "name": "ipython",
    "version": 3
   },
   "file_extension": ".py",
   "mimetype": "text/x-python",
   "name": "python",
   "nbconvert_exporter": "python",
   "pygments_lexer": "ipython3",
   "version": "3.7.0"
  }
 },
 "nbformat": 4,
 "nbformat_minor": 5
}
