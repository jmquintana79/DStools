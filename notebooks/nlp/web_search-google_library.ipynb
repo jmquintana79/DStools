{
 "cells": [
  {
   "cell_type": "markdown",
   "id": "a80793a0",
   "metadata": {},
   "source": [
    "# Google Search with google library\n",
    "\n",
    "### Sources\n",
    "- geeksforgeeks: [Performing Google Search using Python code](https://www.geeksforgeeks.org/performing-google-search-using-python-code/)"
   ]
  },
  {
   "cell_type": "code",
   "execution_count": 7,
   "id": "1e525198",
   "metadata": {},
   "outputs": [
    {
     "name": "stdout",
     "output_type": "stream",
     "text": [
      "https://fundacionendesa.org/es/educacion/endesa-educa/recursos/que-es-la-energia\n",
      "https://es.wikipedia.org/wiki/Energ%C3%ADa\n",
      "https://es.wikipedia.org/wiki/Trabajo_(f%C3%ADsica)\n",
      "https://es.wikipedia.org/wiki/Conservaci%C3%B3n_de_la_energ%C3%ADa\n",
      "https://es.wikipedia.org/wiki/Energ%C3%ADa_en_reposo\n",
      "https://es.wikipedia.org/wiki/Energ%C3%ADa_de_Gibbs\n",
      "https://energia.gob.es/\n",
      "https://www.energia.ie/home\n",
      "https://energyonline.energia.ie/\n",
      "https://www.energia.ie/why_energia\n",
      "https://extra.energia.ie/\n",
      "https://www.energia.ie/business/products-and-services/energia-generation\n",
      "https://www.foronuclear.org/descubre-la-energia-nuclear/preguntas-y-respuestas/sobre-distintas-fuentes-de-energia/que-es-la-energia/\n",
      "https://www.expansion.com/empresas/energia.html\n",
      "https://www.acciona.com/es/energias-renovables/\n",
      "https://www.elperiodico.com/es/internacional/20211112/macron-presidente-verde-ama-energia-12839520\n",
      "https://www.motorpasion.com/futuro-movimiento/debate-energia-nuclear-francia-apuesta-centrales-espana-se-mantiene\n",
      "https://www.publico.es/internacional/frontera-bielorrusa-migracion-energia-crisis-frontera-bielorrusa-airea-flaquezas-ue.html\n",
      "https://elpais.com/noticias/energia/\n",
      "https://cincodias.elpais.com/tag/energia/a\n"
     ]
    }
   ],
   "source": [
    "try:\n",
    "    from googlesearch import search\n",
    "except ImportError:\n",
    "    print(\"No module named 'google' found\")\n",
    "# to search\n",
    "query = \"energia\"\n",
    " \n",
    "for j in search(query, num=20, stop=20, pause=2):\n",
    "    print(j)"
   ]
  },
  {
   "cell_type": "code",
   "execution_count": 2,
   "id": "bd972e51",
   "metadata": {},
   "outputs": [
    {
     "name": "stdout",
     "output_type": "stream",
     "text": [
      "Help on function search in module googlesearch:\n",
      "\n",
      "search(query, tld='com', lang='en', tbs='0', safe='off', num=10, start=0, stop=None, pause=2.0, country='', extra_params=None, user_agent=None, verify_ssl=True)\n",
      "    Search the given query string using Google.\n",
      "    \n",
      "    :param str query: Query string. Must NOT be url-encoded.\n",
      "    :param str tld: Top level domain.\n",
      "    :param str lang: Language.\n",
      "    :param str tbs: Time limits (i.e \"qdr:h\" => last hour,\n",
      "        \"qdr:d\" => last 24 hours, \"qdr:m\" => last month).\n",
      "    :param str safe: Safe search.\n",
      "    :param int num: Number of results per page.\n",
      "    :param int start: First result to retrieve.\n",
      "    :param int stop: Last result to retrieve.\n",
      "        Use None to keep searching forever.\n",
      "    :param float pause: Lapse to wait between HTTP requests.\n",
      "        A lapse too long will make the search slow, but a lapse too short may\n",
      "        cause Google to block your IP. Your mileage may vary!\n",
      "    :param str country: Country or region to focus the search on. Similar to\n",
      "        changing the TLD, but does not yield exactly the same results.\n",
      "        Only Google knows why...\n",
      "    :param dict extra_params: A dictionary of extra HTTP GET\n",
      "        parameters, which must be URL encoded. For example if you don't want\n",
      "        Google to filter similar results you can set the extra_params to\n",
      "        {'filter': '0'} which will append '&filter=0' to every query.\n",
      "    :param str user_agent: User agent for the HTTP requests.\n",
      "        Use None for the default.\n",
      "    :param bool verify_ssl: Verify the SSL certificate to prevent\n",
      "        traffic interception attacks. Defaults to True.\n",
      "    \n",
      "    :rtype: generator of str\n",
      "    :return: Generator (iterator) that yields found URLs.\n",
      "        If the stop parameter is None the iterator will loop forever.\n",
      "\n"
     ]
    }
   ],
   "source": [
    "help(search)"
   ]
  },
  {
   "cell_type": "code",
   "execution_count": null,
   "id": "894a9d53",
   "metadata": {},
   "outputs": [],
   "source": []
  }
 ],
 "metadata": {
  "kernelspec": {
   "display_name": "nlp",
   "language": "python",
   "name": "nlp"
  },
  "language_info": {
   "codemirror_mode": {
    "name": "ipython",
    "version": 3
   },
   "file_extension": ".py",
   "mimetype": "text/x-python",
   "name": "python",
   "nbconvert_exporter": "python",
   "pygments_lexer": "ipython3",
   "version": "3.7.0"
  }
 },
 "nbformat": 4,
 "nbformat_minor": 5
}
