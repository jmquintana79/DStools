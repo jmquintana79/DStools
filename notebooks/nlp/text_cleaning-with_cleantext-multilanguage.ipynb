{
 "cells": [
  {
   "cell_type": "markdown",
   "id": "c0ce5520",
   "metadata": {},
   "source": [
    "# NLP tools: clean-text library\n",
    "\n",
    "### Sources\n",
    "\n",
    "- [cleantext](https://pypi.org/project/cleantext/)"
   ]
  },
  {
   "cell_type": "raw",
   "id": "c48d63cd",
   "metadata": {},
   "source": [
    "!pip3 install cleantext"
   ]
  },
  {
   "cell_type": "code",
   "execution_count": 1,
   "id": "42fa2254",
   "metadata": {},
   "outputs": [],
   "source": [
    "import cleantext"
   ]
  },
  {
   "cell_type": "markdown",
   "id": "d691dbf9",
   "metadata": {},
   "source": [
    "## available languages"
   ]
  },
  {
   "cell_type": "code",
   "execution_count": 2,
   "id": "2c73a538",
   "metadata": {},
   "outputs": [
    {
     "name": "stdout",
     "output_type": "stream",
     "text": [
      "['arabic', 'azerbaijani', 'danish', 'dutch', 'english', 'finnish', 'french', 'german', 'greek', 'hungarian', 'indonesian', 'italian', 'kazakh', 'nepali', 'norwegian', 'portuguese', 'romanian', 'russian', 'slovene', 'spanish', 'swedish', 'tajik', 'turkish']\n"
     ]
    }
   ],
   "source": [
    "from nltk.corpus import stopwords\n",
    "print(stopwords.fileids())"
   ]
  },
  {
   "cell_type": "markdown",
   "id": "d8810e3e",
   "metadata": {},
   "source": [
    "## cleaning in English"
   ]
  },
  {
   "cell_type": "code",
   "execution_count": 3,
   "id": "4da0c6fb",
   "metadata": {},
   "outputs": [
    {
     "data": {
      "text/plain": [
       "'sampl text clean'"
      ]
     },
     "execution_count": 3,
     "metadata": {},
     "output_type": "execute_result"
    }
   ],
   "source": [
    "# clean totally\n",
    "text = 'This is A s$ample !!!! tExt3% to   cleaN566556+2+59*/133'\n",
    "cleantext.clean(text, all=True) "
   ]
  },
  {
   "cell_type": "code",
   "execution_count": 4,
   "id": "60381303",
   "metadata": {},
   "outputs": [
    {
     "data": {
      "text/plain": [
       "'this is a sample  text to clean'"
      ]
     },
     "execution_count": 4,
     "metadata": {},
     "output_type": "execute_result"
    }
   ],
   "source": [
    "# custom cleaning\n",
    "text = 'This is A s$ample !!!! tExt3% to   cleaN566556+2+59*/133'\n",
    "cleantext.clean(text, \n",
    "                all= False, # Execute all cleaning operations\n",
    "                extra_spaces=True ,  # Remove extra white spaces \n",
    "                stemming=False , # Stem the words\n",
    "                stopwords=False ,# Remove stop words\n",
    "                lowercase=True ,# Convert to lowercase\n",
    "                numbers=True ,# Remove all digits \n",
    "                punct=True ,# Remove all punctuations\n",
    "                stp_lang='english')  # Language for stop words"
   ]
  },
  {
   "cell_type": "code",
   "execution_count": 5,
   "id": "aef01f4d",
   "metadata": {},
   "outputs": [
    {
     "name": "stdout",
     "output_type": "stream",
     "text": [
      "Help on function clean in module cleantext.cleantext:\n",
      "\n",
      "clean(text, all=False, extra_spaces=False, stemming=False, stopwords=False, lowercase=False, numbers=False, punct=False, stp_lang='english')\n",
      "\n"
     ]
    }
   ],
   "source": [
    "help(cleantext.clean)"
   ]
  },
  {
   "cell_type": "markdown",
   "id": "c36657ea",
   "metadata": {},
   "source": [
    "## cleaning in Spanish"
   ]
  },
  {
   "cell_type": "code",
   "execution_count": 6,
   "id": "71c5e716",
   "metadata": {},
   "outputs": [
    {
     "data": {
      "text/plain": [
       "'en las matemáticas la distancia entre dos puntos del espacio euclídeo equivale a la longitud del segmento de la recta que los une expresado numéricamente en espacios más complejos como los definidos en la geometría no euclidiana el «camino más corto» entre dos puntos es un segmento recto con curvatura llamada geodésica'"
      ]
     },
     "execution_count": 6,
     "metadata": {},
     "output_type": "execute_result"
    }
   ],
   "source": [
    "text = \"En las matemáticas, la distancia entre dos puntos del espacio euclídeo equivale a la longitud del segmento de la recta que los une, expresado numéricamente. En espacios más complejos, como los definidos en la geometría no euclidiana, el «camino más corto» entre dos puntos es un segmento recto con curvatura llamada geodésica.\"\n",
    "cleantext.clean(text, \n",
    "                all= False, # Execute all cleaning operations\n",
    "                extra_spaces=True ,  # Remove extra white spaces \n",
    "                stemming=False , # Stem the words\n",
    "                stopwords=False ,# Remove stop words\n",
    "                lowercase=True ,# Convert to lowercase\n",
    "                numbers=True ,# Remove all digits \n",
    "                punct=True ,# Remove all punctuations\n",
    "                stp_lang='spanish')  # Language for stop words"
   ]
  },
  {
   "cell_type": "code",
   "execution_count": null,
   "id": "e87c43bf",
   "metadata": {},
   "outputs": [],
   "source": []
  }
 ],
 "metadata": {
  "kernelspec": {
   "display_name": "nlp",
   "language": "python",
   "name": "nlp"
  },
  "language_info": {
   "codemirror_mode": {
    "name": "ipython",
    "version": 3
   },
   "file_extension": ".py",
   "mimetype": "text/x-python",
   "name": "python",
   "nbconvert_exporter": "python",
   "pygments_lexer": "ipython3",
   "version": "3.7.0"
  }
 },
 "nbformat": 4,
 "nbformat_minor": 5
}
