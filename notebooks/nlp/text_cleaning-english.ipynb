{
 "cells": [
  {
   "cell_type": "markdown",
   "id": "varied-indie",
   "metadata": {},
   "source": [
    "# Text Cleaning: English\n",
    "\n",
    "### References:\n",
    "- https://towardsdatascience.com/cleaning-text-data-with-python-b69b47b97b76\n",
    "- https://www.geeksforgeeks.org/python-efficient-text-data-cleaning/"
   ]
  },
  {
   "cell_type": "code",
   "execution_count": 1,
   "id": "republican-range",
   "metadata": {},
   "outputs": [],
   "source": [
    "import nltk\n",
    "from nltk.corpus import stopwords \n",
    "import re  \n",
    "import itertools \n",
    "import string  "
   ]
  },
  {
   "cell_type": "markdown",
   "id": "received-chuck",
   "metadata": {},
   "source": [
    "### data"
   ]
  },
  {
   "cell_type": "code",
   "execution_count": 2,
   "id": "diverse-church",
   "metadata": {},
   "outputs": [],
   "source": [
    "text = \"\"\"\n",
    "For four years in a row, data scientist has been named the number one job in the U.S. by Glassdoor. What’s more, the U.S. Bureau of Labor Statistics reports that the demand for data science skills will drive a 27.9 percent rise in employment in the field through 2026. Not only is there a huge demand, but there is also a noticeable shortage of qualified data scientists.\n",
    "\n",
    "Daniel Gutierrez, managing editor of insideBIGDATA, told Forbes, “The word on the street is there’s definitely a shortage of people who can do data science.” If you have a passion for computers, math, and discovering answers through data analysis, then earning an advanced degree in data science or data analytics might be your next step.\n",
    "What is Data Science?\n",
    "\n",
    "Martin Schedlbauer, PhD and data science professor at Northeastern University, says that data science is used by “computing professionals who have the skills for collecting, shaping, storing, managing, and analyzing data [as an] important resource for organizations to allow for data-driven decision making.” Almost every interaction with technology includes data—your Amazon purchases, Facebook feed, Netflix recommendations, and even the facial recognition required to sign in to your phone.\n",
    "\n",
    "Amazon is a prime example of just how helpful data collection can be for the average shopper. Amazon’s data sets remember what you’ve purchased, what you’ve paid, and what you’ve searched. This allows Amazon to customize its subsequent homepage views to fit your needs. For example, if you search camping gear, baby items, and groceries, Amazon will not spam you with ads or product recommendations for geriatric vitamins. Instead, you are going to see items that may actually benefit you, such as a compact camping high chair for infants.\n",
    "\n",
    "Learn More: Data Analytics vs. Data Science: A Breakdown\n",
    "\n",
    "Similarly, data science can be useful for reminding you of habitual purchases. If you order diapers every month, for example, you might see a strategically placed coupon or deal around the same time each month. This use of data is meant to act as a trigger, prompting you to think, “I just remembered I need to buy diapers, and I should buy them now because they are on sale.”\n",
    "\n",
    "Data science benefits both companies and consumers alike. McKinsey Global Institute found that big data can increase a retailer’s profit margin by 60 percent, and “services enabled by personal-location data can allow consumers to capture $600 billion in economic surplus,” meaning they are able to purchase a good or service for less than they were expecting. For example, if you budgeted $7,500 to purchase a jacuzzi and then found the exact model you wanted for $6,000, your economic surplus would be $1,500. Data science can simultaneously increase retailer profitability and save consumers money, which is a win-win for a healthy economy.\n",
    "Data Science Is Helping the Future\n",
    "\n",
    "Data science enables retailers to influence our purchasing habits, but the importance of gathering data extends much further.\n",
    "\n",
    "Data science can improve public health through wearable trackers that motivate individuals to adopt healthier habits and can alert people to potentially critical health issues. Data can also improve diagnostic accuracy, accelerate finding cures for specific diseases, or even stop the spread of a virus. When the Ebola virus outbreak hit West Africa in 2014, scientists were able to track the spread of the disease and predict the areas most vulnerable to the illness. This data helped health officials get in front of the outbreak and prevent it from becoming a worldwide epidemic.\n",
    "\n",
    "Data science has critical applications across most industries. For example, data is used by farmers for efficient food growth and delivery, by food suppliers to cut down on food waste, and by nonprofit organizations to boost fundraising efforts and predict funding needs.\n",
    "\n",
    "In a 2015 speech, Economist and Freakonomics author Steven Levitt said that CEOs know they are missing out on the importance of Big Data, but they do not have the right teams in place to perform the skills. He says, “I really do believe still that the combination of collaborations with firms’ big data and randomization […] is absolutely going to be at the center of what economics is and what other social sciences are going forward.”\n",
    "\n",
    "Pursuing a career in data science is a smart move, not just because it is trendy and pays well, but because data very well may be the pivot point on which the entire economy turns.\n",
    "In-Demand Data Science Careers\n",
    "\n",
    "Data science experts are needed in virtually every job sector—not just in technology. In fact, the five biggest tech companies—Google, Amazon, Apple, Microsoft, and Facebook—only employ one half of one percent of U.S. employees. However—in order to break into these high-paying, in-demand roles—an advanced education is generally required.\n",
    "\n",
    "“Data scientists are highly educated–88 percent have at least a master’s degree and 46 percent have PhDs–and while there are notable exceptions, a very strong educational background is usually required to develop the depth of knowledge necessary to be a data scientist,” reports KDnuggets, a leading site on Big Data.\n",
    "\n",
    "Here are some of the leading data science careers you can break into with an advanced degree.\n",
    "1. Data Scientist\n",
    "\n",
    "Average Salary: $139,840\n",
    "\n",
    "Typical Job Requirements: Find, clean, and organize data for companies. Data scientists will need to be able to analyze large amounts of complex raw and processed information to find patterns that will benefit an organization and help drive strategic business decisions. Compared to data analysts, data scientists are much more technical.\n",
    "\n",
    "Learn more: What Does a Data Scientist Do?\n",
    "2. Machine Learning Engineer\n",
    "\n",
    "Average Salary: $114,826\n",
    "\n",
    "Typical Job Requirements: Machine learning engineers create data funnels and deliver software solutions. They typically need strong statistics and programming skills, as well as a knowledge of software engineering. In addition to designing and building machine learning systems, they are also responsible for running tests and experiments to monitor the performance and functionality of such systems.\n",
    "3. Machine Learning Scientist\n",
    "\n",
    "Average Salary: $114,121\n",
    "\n",
    "Typical Job Requirements: Research new data approaches and algorithms to be used in adaptive systems including supervised, unsupervised, and deep learning techniques. Machine learning scientists often go by titles like Research Scientist or Research Engineer.\n",
    "4. Applications Architect\n",
    "\n",
    "Average Salary: $113,757\n",
    "\n",
    "Typical Job Requirements: Track the behavior of applications used within a business and how they interact with each other and with users. Applications architects are focused on designing the architecture of applications as well, including building components like user interface and infrastructure.\n",
    "5. Enterprise Architect\n",
    "\n",
    "Average Salary: $110,663\n",
    "\n",
    "Typical Job Requirements: An enterprise architect is responsible for aligning an organization’s strategy with the technology needed to execute its objectives. To do so, they must have a complete understanding of the business and its technology needs in order to design the systems architecture required to meet those needs.\n",
    "6. Data Architect\n",
    "\n",
    "Average Salary: $108,278\n",
    "\n",
    "Typical Job Requirements: Ensure data solutions are built for performance and design analytics applications for multiple platforms. In addition to creating new database systems, data architects often find ways to improve the performance and functionality of existing systems, as well as working to provide access to database administrators and analysts.\n",
    "7. Infrastructure Architect\n",
    "\n",
    "Average Salary: $107,309\n",
    "\n",
    "Typical Job Requirements: Oversee that all business systems are working optimally and can support the development of new technologies and system requirements. A similar job title is Cloud Infrastructure Architect, which oversees a company’s cloud computing strategy.\n",
    "8. Data Engineer\n",
    "\n",
    "Average Salary: $102,864\n",
    "\n",
    "Typical Job Requirements: Perform batch processing or real-time processing on gathered and stored data. Data engineers are also responsible for building and maintaining data pipelines which create a robust and interconnected data ecosystem within an organization, making information accessible for data scientists.\n",
    "9. Business Intelligence (BI) Developer\n",
    "\n",
    "Average Salary: $81,514\n",
    "\n",
    "Typical Job Requirements: BI developers design and develop strategies to assist business users in quickly finding the information they need to make better business decisions. Extremely data-savvy, they use BI tools or develop custom BI analytic applications to facilitate the end-users’ understanding of their systems.\n",
    "10. Statistician\n",
    "\n",
    "Average Salary: $76,884\n",
    "\n",
    "Typical Job Requirements: Statisticians work to collect, analyze, and interpret data in order to identify trends and relationships which can be used to inform organizational decision-making. Additionally, the daily responsibilities of statisticians often include design data collection processes, communicating findings to stakeholders, and advising organizational strategy.\n",
    "\n",
    "Learn More: What Do Statisticians Do?\n",
    "11. Data Analyst\n",
    "\n",
    "Average Salary: $62, 453\n",
    "\n",
    "Typical Job Requirements: Transform and manipulate large data sets to suit the desired analysis for companies. For many companies, this role can also include tracking web analytics and analyzing A/B testing. Data analysts also aid in the decision-making process by preparing reports for organizational leaders which effectively communicate trends and insights gleaned from their analysis.\n",
    "\n",
    "Learn More: What Does a Data Analyst Do?\n",
    "Data Scientists Are in Constant Demand\n",
    "\n",
    "Schedlbauer concludes that while some data science work will likely be automated within the next 10 years, “there is a clear need for professionals who understand a business need, can devise a data-oriented solution, and then implement that solution.”\n",
    "\n",
    "Data science experts are needed in almost every field, from government security to dating apps. Millions of businesses and government departments rely on big data to succeed and better serve their customers. Data science careers are in high demand and this trend will not be slowing down any time soon, if ever.\n",
    "\n",
    "If you want to break into the field of data science, there are a number of ways you can prepare yourself to take on these challenging yet exciting roles. Perhaps most importantly, you will need to impress future employers by demonstrating your expertise and previous work experience. One such way you can build those skills and experience is to pursue an advanced degree program in your area of interest.\n",
    "\n",
    "Northeastern University, for example, offers master’s degree programs in both data science and data analytics which are designed to develop the skills that employers are seeking. Both programs also provide students with the opportunity to participate in co-ops and experiential learning experiences, allowing them to build hands-on experience prior to graduating. Once you have considered factors like your personal background, interests, and career aspirations, you will be able to determine which degree program is right for you and take the next step towards achieving your goals.\n",
    "\"\"\""
   ]
  },
  {
   "cell_type": "markdown",
   "id": "senior-knock",
   "metadata": {},
   "source": [
    "## CLEANING"
   ]
  },
  {
   "cell_type": "markdown",
   "id": "ordinary-mineral",
   "metadata": {},
   "source": [
    "### Removing URLs, Hashtags and Styles"
   ]
  },
  {
   "cell_type": "code",
   "execution_count": 3,
   "id": "vital-geography",
   "metadata": {},
   "outputs": [],
   "source": [
    "# remove hyperlinks \n",
    "text = re.sub(r'https?:\\/\\/.\\S+', \"\", text) \n",
    "  \n",
    "# remove hashtags \n",
    "# only removing the hash # sign from the word \n",
    "text = re.sub(r'#', '', text) \n",
    "  \n",
    "# remove old style retweet text \"RT\" \n",
    "text = re.sub(r'^RT[\\s]+', '', text) "
   ]
  },
  {
   "cell_type": "markdown",
   "id": "stupid-floor",
   "metadata": {},
   "source": [
    "### Contraction Replacement (English)"
   ]
  },
  {
   "cell_type": "code",
   "execution_count": 4,
   "id": "massive-prediction",
   "metadata": {},
   "outputs": [],
   "source": [
    "#dictionary consisting of the contraction and the actual value \n",
    "Apos_dict={\"'s\":\" is\",\"n't\":\" not\",\"'m\":\" am\",\"'ll\":\" will\", \n",
    "           \"'d\":\" would\",\"'ve\":\" have\",\"'re\":\" are\"} \n",
    "  \n",
    "#replace the contractions \n",
    "for key,value in Apos_dict.items(): \n",
    "    if key in text: \n",
    "        text=text.replace(key,value) "
   ]
  },
  {
   "cell_type": "markdown",
   "id": "eleven-symphony",
   "metadata": {},
   "source": [
    "### Split attached words"
   ]
  },
  {
   "cell_type": "code",
   "execution_count": 5,
   "id": "valued-california",
   "metadata": {},
   "outputs": [],
   "source": [
    "#separate the words \n",
    "text = \" \".join([s for s in re.split(\"([A-Z][a-z]+[^A-Z]*)\",text) if s]) "
   ]
  },
  {
   "cell_type": "markdown",
   "id": "twelve-quick",
   "metadata": {},
   "source": [
    "### Convert to lower case"
   ]
  },
  {
   "cell_type": "code",
   "execution_count": 6,
   "id": "focused-cancellation",
   "metadata": {},
   "outputs": [],
   "source": [
    "#convert to lower case \n",
    "text=text.lower() "
   ]
  },
  {
   "cell_type": "markdown",
   "id": "interracial-happening",
   "metadata": {},
   "source": [
    "### Slang lookup (English)"
   ]
  },
  {
   "cell_type": "code",
   "execution_count": 7,
   "id": "rapid-indian",
   "metadata": {},
   "outputs": [],
   "source": [
    "#open the fle slang.txt \n",
    "file=open(\"slang.txt\",\"r\") \n",
    "slang=file.read() \n",
    "  \n",
    "#seperating each line present in the file \n",
    "slang=slang.split('\\n') \n",
    "  \n",
    "text_tokens=text.split() \n",
    "slang_word=[] \n",
    "meaning=[] \n",
    "  \n",
    "#store the slang words and meanings in different lists \n",
    "for line in slang: \n",
    "    temp=line.split(\"=\") \n",
    "    slang_word.append(temp[0]) \n",
    "    meaning.append(temp[-1]) \n",
    "\n",
    "#replace the slang word with meaning \n",
    "for i,word in enumerate(text_tokens): \n",
    "    if word in slang_word: \n",
    "        idx=slang_word.index(word) \n",
    "        text_tokens[i]=meaning[idx] \n",
    "          \n",
    "text=\" \".join(text_tokens) "
   ]
  },
  {
   "cell_type": "markdown",
   "id": "insured-portuguese",
   "metadata": {},
   "source": [
    "### Standardizing"
   ]
  },
  {
   "cell_type": "code",
   "execution_count": 8,
   "id": "graduate-adolescent",
   "metadata": {},
   "outputs": [],
   "source": [
    "#One letter in a word should not be present more than twice in continuation \n",
    "text = ''.join(''.join(s)[:2] for _, s in itertools.groupby(text)) "
   ]
  },
  {
   "cell_type": "markdown",
   "id": "thrown-ability",
   "metadata": {},
   "source": [
    "### Remove Stopwords"
   ]
  },
  {
   "cell_type": "code",
   "execution_count": 9,
   "id": "efficient-field",
   "metadata": {},
   "outputs": [
    {
     "name": "stderr",
     "output_type": "stream",
     "text": [
      "[nltk_data] Error loading stopwords: <urlopen error [Errno -3]\n",
      "[nltk_data]     Temporary failure in name resolution>\n"
     ]
    }
   ],
   "source": [
    "#download the stopwords from nltk using \n",
    "nltk.download('stopwords') \n",
    "  \n",
    "#import english stopwords list from nltk \n",
    "stopwords_eng = stopwords.words('english')  \n",
    "  \n",
    "text_tokens=text.split() \n",
    "text_list=[] \n",
    "#remove stopwords \n",
    "for word in text_tokens: \n",
    "    if word not in stopwords_eng: \n",
    "        text_list.append(word) "
   ]
  },
  {
   "cell_type": "code",
   "execution_count": 15,
   "id": "covered-mercury",
   "metadata": {},
   "outputs": [],
   "source": [
    "stopwords = ['a', 'about', 'above', 'across', 'after', 'afterwards']\n",
    "stopwords += ['again', 'against', 'all', 'almost', 'alone', 'along']\n",
    "stopwords += ['already', 'also', 'although', 'always', 'am', 'among']\n",
    "stopwords += ['amongst', 'amoungst', 'amount', 'an', 'and', 'another']\n",
    "stopwords += ['any', 'anyhow', 'anyone', 'anything', 'anyway', 'anywhere']\n",
    "stopwords += ['are', 'around', 'as', 'at', 'back', 'be', 'became']\n",
    "stopwords += ['because', 'become', 'becomes', 'becoming', 'been']\n",
    "stopwords += ['before', 'beforehand', 'behind', 'being', 'below']\n",
    "stopwords += ['beside', 'besides', 'between', 'beyond', 'bill', 'both']\n",
    "stopwords += ['bottom', 'but', 'by', 'call', 'can', 'cannot', 'cant']\n",
    "stopwords += ['co', 'computer', 'con', 'could', 'couldnt', 'cry', 'de']\n",
    "stopwords += ['describe', 'detail', 'did', 'do', 'done', 'down', 'due']\n",
    "stopwords += ['during', 'each', 'eg', 'eight', 'either', 'eleven', 'else']\n",
    "stopwords += ['elsewhere', 'empty', 'enough', 'etc', 'even', 'ever']\n",
    "stopwords += ['every', 'everyone', 'everything', 'everywhere', 'except']\n",
    "stopwords += ['few', 'fifteen', 'fifty', 'fill', 'find', 'fire', 'first']\n",
    "stopwords += ['five', 'for', 'former', 'formerly', 'forty', 'found']\n",
    "stopwords += ['four', 'from', 'front', 'full', 'further', 'get', 'give']\n",
    "stopwords += ['go', 'had', 'has', 'hasnt', 'have', 'he', 'hence', 'her']\n",
    "stopwords += ['here', 'hereafter', 'hereby', 'herein', 'hereupon', 'hers']\n",
    "stopwords += ['herself', 'him', 'himself', 'his', 'how', 'however']\n",
    "stopwords += ['hundred', 'i', 'ie', 'if', 'in', 'inc', 'indeed']\n",
    "stopwords += ['interest', 'into', 'is', 'it', 'its', 'itself', 'keep']\n",
    "stopwords += ['last', 'latter', 'latterly', 'least', 'less', 'ltd', 'made']\n",
    "stopwords += ['many', 'may', 'me', 'meanwhile', 'might', 'mill', 'mine']\n",
    "stopwords += ['more', 'moreover', 'most', 'mostly', 'move', 'much']\n",
    "stopwords += ['must', 'my', 'myself', 'name', 'namely', 'neither', 'never']\n",
    "stopwords += ['nevertheless', 'next', 'nine', 'no', 'nobody', 'none']\n",
    "stopwords += ['noone', 'nor', 'not', 'nothing', 'now', 'nowhere', 'of']\n",
    "stopwords += ['off', 'often', 'on','once', 'one', 'only', 'onto', 'or']\n",
    "stopwords += ['other', 'others', 'otherwise', 'our', 'ours', 'ourselves']\n",
    "stopwords += ['out', 'over', 'own', 'part', 'per', 'perhaps', 'please']\n",
    "stopwords += ['put', 'rather', 're', 's', 'same', 'see', 'seem', 'seemed']\n",
    "stopwords += ['seeming', 'seems', 'serious', 'several', 'she', 'should']\n",
    "stopwords += ['show', 'side', 'since', 'sincere', 'six', 'sixty', 'so']\n",
    "stopwords += ['some', 'somehow', 'someone', 'something', 'sometime']\n",
    "stopwords += ['sometimes', 'somewhere', 'still', 'such', 'system', 'take']\n",
    "stopwords += ['ten', 'than', 'that', 'the', 'their', 'them', 'themselves']\n",
    "stopwords += ['then', 'thence', 'there', 'thereafter', 'thereby']\n",
    "stopwords += ['therefore', 'therein', 'thereupon', 'these', 'they']\n",
    "stopwords += ['thick', 'thin', 'third', 'this', 'those', 'though', 'three']\n",
    "stopwords += ['three', 'through', 'throughout', 'thru', 'thus', 'to']\n",
    "stopwords += ['together', 'too', 'top', 'toward', 'towards', 'twelve']\n",
    "stopwords += ['twenty', 'two', 'un', 'under', 'until', 'up', 'upon']\n",
    "stopwords += ['us', 'very', 'via', 'was', 'we', 'well', 'were', 'what']\n",
    "stopwords += ['whatever', 'when', 'whence', 'whenever', 'where']\n",
    "stopwords += ['whereafter', 'whereas', 'whereby', 'wherein', 'whereupon']\n",
    "stopwords += ['wherever', 'whether', 'which', 'while', 'whither', 'who']\n",
    "stopwords += ['whoever', 'whole', 'whom', 'whose', 'why', 'will', 'with']\n",
    "stopwords += ['within', 'without', 'would', 'yet', 'you', 'your']\n",
    "stopwords += ['yours', 'yourself', 'yourselves']\n",
    "\n",
    "def removeStopwords(wordlist, stopwords):\n",
    "    return [w for w in wordlist if w not in stopwords]\n",
    "\n",
    "text_list = removeStopwords(text_list, stopwords)"
   ]
  },
  {
   "cell_type": "markdown",
   "id": "simple-refrigerator",
   "metadata": {},
   "source": [
    "### Remove Punctuations"
   ]
  },
  {
   "cell_type": "code",
   "execution_count": 16,
   "id": "careful-multiple",
   "metadata": {},
   "outputs": [],
   "source": [
    "#for string operations        \n",
    "clean_text=[] \n",
    "#remove punctuations \n",
    "for word in text_list: \n",
    "    if word not in string.punctuation: \n",
    "        clean_text.append(word) "
   ]
  },
  {
   "cell_type": "markdown",
   "id": "applicable-postcard",
   "metadata": {},
   "source": [
    "## COUNTING WORDS\n",
    "> Instalation: pip install collections-extended"
   ]
  },
  {
   "cell_type": "code",
   "execution_count": 17,
   "id": "separated-neighborhood",
   "metadata": {},
   "outputs": [
    {
     "data": {
      "text/plain": [
       "[('data', 67),\n",
       " ('science', 19),\n",
       " ('job', 14),\n",
       " ('average', 12),\n",
       " ('salary:', 11),\n",
       " ('typical', 11),\n",
       " ('requirements:', 11),\n",
       " ('business', 8),\n",
       " ('applications', 7),\n",
       " ('learning', 7),\n",
       " ('need', 6),\n",
       " ('scientists', 6),\n",
       " ('scientist', 5),\n",
       " ('degree', 5),\n",
       " ('analytics', 5),\n",
       " ('used', 5),\n",
       " ('example,', 5),\n",
       " ('big', 5),\n",
       " ('machine', 5),\n",
       " ('architect', 5),\n",
       " ('demand', 4),\n",
       " ('skills', 4),\n",
       " ('percent', 4),\n",
       " ('“', 4),\n",
       " ('advanced', 4),\n",
       " ('amazon', 4),\n",
       " ('learn', 4),\n",
       " ('more:', 4),\n",
       " ('order', 4),\n",
       " ('able', 4)]"
      ]
     },
     "execution_count": 17,
     "metadata": {},
     "output_type": "execute_result"
    }
   ],
   "source": [
    "from collections import Counter\n",
    "\n",
    "count_each_word = Counter(clean_text)\n",
    "count_each_word.most_common(30)"
   ]
  },
  {
   "cell_type": "code",
   "execution_count": null,
   "id": "dried-wrapping",
   "metadata": {},
   "outputs": [],
   "source": []
  }
 ],
 "metadata": {
  "kernelspec": {
   "display_name": "nlp",
   "language": "python",
   "name": "nlp"
  },
  "language_info": {
   "codemirror_mode": {
    "name": "ipython",
    "version": 3
   },
   "file_extension": ".py",
   "mimetype": "text/x-python",
   "name": "python",
   "nbconvert_exporter": "python",
   "pygments_lexer": "ipython3",
   "version": "3.7.0"
  }
 },
 "nbformat": 4,
 "nbformat_minor": 5
}
