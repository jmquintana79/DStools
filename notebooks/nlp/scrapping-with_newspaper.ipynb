{
 "cells": [
  {
   "cell_type": "markdown",
   "id": "d34d6ae7",
   "metadata": {},
   "source": [
    "# Scrapping with *newspaper* library\n",
    "\n",
    "Esta libreria va a ser muy util solo para extrear informacion de articulos / entradas de blogs, etc. Para otro tipo de websites me temo que no es muy util.\n",
    "\n",
    "### Sources\n",
    "\n",
    "- Homepage [newspaper](https://github.com/codelucas/newspaper/)."
   ]
  },
  {
   "cell_type": "markdown",
   "id": "ae9ddc95",
   "metadata": {},
   "source": [
    "## Article from url in English"
   ]
  },
  {
   "cell_type": "code",
   "execution_count": 35,
   "id": "f87b25b0",
   "metadata": {},
   "outputs": [],
   "source": [
    "from newspaper import Article\n",
    "\n",
    "# url\n",
    "url = 'http://fox13now.com/2013/12/30/new-year-new-laws-obamacare-pot-guns-and-drones/'\n",
    "# build article object\n",
    "article = Article(url, language='en')\n",
    "# download\n",
    "article.download()\n"
   ]
  },
  {
   "cell_type": "code",
   "execution_count": 39,
   "id": "c76c776d",
   "metadata": {},
   "outputs": [
    {
     "name": "stdout",
     "output_type": "stream",
     "text": [
      "http://fox13now.com/2013/12/30/new-year-new-laws-obamacare-pot-guns-and-drones/\n",
      "http://fox13now.com\n",
      "New Year, new laws: Obamacare, pot, guns and drones\n",
      "[]\n",
      "2013-12-30 00:00:00\n",
      "By Leigh Ann Caldwell  WASHINGTON (CNN) — Not everyone subscribes to a New Year’s resolution, but Americans will be required to follow new laws in 2014.  Some 40,000 measures taking effect range from sweeping, national mandates under Obamacare to marijuana legalization in Colorado, drone prohibition in Illinois and transgender protections in California.  Although many new laws are controversial, they made it through legislatures, public referendum or city councils and represent the shifting composition of American beliefs.  Federal: Health care, of course, and vending machines  The biggest and most politically charged change comes at the federal level with the imposition of a new fee for those adults without health insurance.  For 2014, the penalty is either $95 per adult or 1% of family income, whichever results in a larger fine.  The Obamacare, of Affordable Care Act, mandate also requires that insurers cover immunizations and some preventive care.  Additionally, millions of poor Americans will receive Medicaid benefits starting January 1.  Thousands of companies will have to provide calorie counts for products sold in vending machines.  Local: Guns, family leave and shark fins  Connecticut: While no national legislation was approved to tighten gun laws a year after the Newtown school shooting, Connecticut is implementing a final round of changes to its books: All assault weapons and large capacity magazines must be registered.  Oregon: Family leave in Oregon has been expanded to allow eligible employees two weeks of paid leave to handle the death of a family member.  California: Homeless youth are eligible to receive food stamps. The previous law had a minimum wage requirement.  Delaware: Delaware is the latest in a growing number of states where residents can no longer possess, sell or distribute shark fins, which is considered a delicacy in some East Asian cuisine.  Illinois and drones  Illinois: passed two laws limiting the use of drones. One prohibits them from interfering with hunters and fisherman. The measure passed after the group People for the Ethical Treatment of Animals said it would use drones to monitor hunters. PETA said it aims through its “air angels” effort to protect against “cruel” and “illegal” hunting.  Also in Illinois, another law prohibits the use of drones for law enforcement without a warrant.  Gender and voting identity  California: Students can use bathrooms and join school athletic teams “consistent with their gender identity,” even if it’s different than their gender at birth.  Arkansas: The state becomes the latest state requiring voters show a picture ID at the voting booth.  Minimum wage and former felon employment  Workers in 13 states and four cities will see increases to the minimum wage.  While most amount to less than 15 cents per hour, workers in places like New Jersey, and Connecticut.  New Jersey residents voted to raise the state’s minimum wage by $1 to $8.25 per hour. And in Connecticut, lawmakers voted to raise it between 25 and 75 cents to $8.70. The wage would go up to $8 in Rhode Island and New York.  California is also raising its minimum wage to $9 per hour, but workers must wait until July to see the addition.  Rhode Island: It is the latest state to prohibit employers from requiring job applicants to signify if they have a criminal record on a job application.  Social media and pot  Oregon: Employers and schools can’t require a job or student applicant to provide passwords to social media accounts.  Colorado: Marijuana becomes legal in the state for buyers over 21 at a licensed retail dispensary.  (Sourcing: much of this list was obtained from the National Conference of State Legislatures).\n"
     ]
    }
   ],
   "source": [
    "# parse\n",
    "article.parse()\n",
    "# url\n",
    "print(article.url)\n",
    "# source url\n",
    "print(article.source_url)\n",
    "# title\n",
    "print(article.title)\n",
    "# get authors\n",
    "print(article.authors)\n",
    "# publish date\n",
    "print(article.publish_date)\n",
    "# text\n",
    "print(article.text.replace('\\n',' '))"
   ]
  },
  {
   "cell_type": "code",
   "execution_count": 19,
   "id": "243cbf5e",
   "metadata": {},
   "outputs": [
    {
     "name": "stdout",
     "output_type": "stream",
     "text": [
      "keywords: ['latest', 'drones', 'state', 'law', 'family', 'minimum', 'national', 'obamacare', 'guns', 'leave', 'states', 'laws', 'wage', 'pot']\n",
      "Oregon: Family leave in Oregon has been expanded to allow eligible employees two weeks of paid leave to handle the death of a family member.Arkansas: The state becomes the latest state requiring voters show a picture ID at the voting booth.Minimum wage and former felon employmentWorkers in 13 states and four cities will see increases to the minimum wage.New Jersey residents voted to raise the state’s minimum wage by $1 to $8.25 per hour.California is also raising its minimum wage to $9 per hour, but workers must wait until July to see the addition.\n"
     ]
    }
   ],
   "source": [
    "# nlp\n",
    "article.nlp()\n",
    "# keywords\n",
    "print('keywords:', article.keywords)\n",
    "# summary\n",
    "print(article.summary.replace('\\n',''))"
   ]
  },
  {
   "cell_type": "markdown",
   "id": "a963ad4e",
   "metadata": {},
   "source": [
    "## Article from url in Spanish"
   ]
  },
  {
   "cell_type": "code",
   "execution_count": 54,
   "id": "44ddd135",
   "metadata": {},
   "outputs": [],
   "source": [
    "from newspaper import Article\n",
    "\n",
    "# url\n",
    "url = 'https://elpais.com/sociedad/2021-11-12/las-restricciones-mas-severas-vuelven-a-europa-confinamiento-para-no-vacunados-toque-de-queda-y-cierre-de-hosteleria.html'\n",
    "# build article object\n",
    "article = Article(url, language='es')\n",
    "# download\n",
    "article.download()"
   ]
  },
  {
   "cell_type": "code",
   "execution_count": 55,
   "id": "4604ddd1",
   "metadata": {},
   "outputs": [
    {
     "name": "stdout",
     "output_type": "stream",
     "text": [
      "https://elpais.com/sociedad/2021-11-12/las-restricciones-mas-severas-vuelven-a-europa-confinamiento-para-no-vacunados-toque-de-queda-y-cierre-de-hosteleria.html\n",
      "https://elpais.com\n",
      "Las restricciones más severas vuelven a Europa: confinamiento para no vacunados, toque de queda y cierre de hostelería\n",
      "['Elena G. Sevillano']\n",
      "2021-11-12 00:00:00\n",
      "El nuevo embate del coronavirus en Europa está obligando a recuperar restricciones que pocos creían que volverían a ver tras las campañas de vacunación. El virus no solo no ha desaparecido, sino que unos cuantos países del centro y el este de Europa padecen en este segundo otoño de covid-19 su peor ola desde el comienzo de la crisis. Las incidencias elevadas se están registrando sobre todo en territorios con bajas tasas de vacunación, de ahí que las autoridades alemanas hayan bautizado el fenómeno que azota a media Europa como la “pandemia de los no vacunados”. El virólogo estrella de este país, Christian Drosten, asegura en su podcast semanal que habrá que discutir la introducción de medidas “que esperábamos haber podido dejar atrás”.  Algunos países ya lo han hecho o están a punto. Toques de queda nocturnos para no vacunados, cierre de bares y restaurantes y la palabra más temida: confinamiento, en este caso para los que se resisten a inmunizarse. Los servicios de salud de muchos Estados están al límite o ya sobrepasados, como ocurre en Rumanía y Bulgaria, donde las muertes diarias por la enfermedad superan a las registradas en las olas precedentes. Ambos países tienen a la gran mayoría de su población todavía sin vacunar. El epidemiólogo alemán Hajo Zeeb, del Instituto Leibniz, cree que a Europa le ha pillado el otoño desprevenida, con tasas de vacunación muy mejorables que se suman “a la llegada del frío y la consiguiente mayor actividad en interiores y la relajación de las medidas de protección en la vida pública y privada”.  Alemania lleva días batiendo el récord de nuevos casos diarios de coronavirus de toda la pandemia. El jueves registró 50.000 positivos, una cifra inédita que asusta a las autoridades porque crece muy rápido y día a día se va traduciendo en la llegada de nuevos pacientes a las unidades de cuidados intensivos del país. El mayor hospital de Berlín, la Charité, ha anunciado que suspende todas las cirugías programadas. La canciller en funciones, Angela Merkel, y su ministro de Sanidad, Jens Spahn, se reunirán la semana que viene con los Estados federados para pactar medidas, pero muchos ya están volviendo a imponer restricciones por su cuenta. En Sajonia, por ejemplo, ya no sirve enseñar un test negativo para entrar a un bar o un restaurante, como hasta ahora. Solo aceptan vacunados y recuperados. Berlín lo impone el próximo lunes.  Por primera vez se discute en un país poco dado a imponer obligaciones a sus ciudadanos que determinados colectivos, como los cuidadores y los sanitarios, deban tener la vacunación en regla para poder trabajar. El Gobierno ha aprobado volver a ofrecer gratis test de antígenos. Dejó de hacerlo para incentivar la vacunación. “Nos esperan semanas y meses difíciles”, ha dicho este viernes Lothar Wieler, presidente del Instituto Robert Koch de enfermedades infecciosas.  Un hombre se realiza una prueba de covid-19 en un centro instalado al efecto en la ciudad alemana de Duisburg, este viernes. INA FASSBENDER (AFP)  En los Países Bajos, el primer ministro en funciones, Mark Rutte, ha presentado este viernes nuevas normas que regirán durante las tres próximas semanas para contener el aumento de contagios, informa Isabel Ferrer. “Tenemos un mensaje muy molesto con muchas medidas drásticas”, ha dicho Rutte. “El virus está por todas partes y debe ser combatirlo en todas partes”. El Gobierno ha decidido recuperar la distancia de seguridad de 1,5 metros entre las personas. También se adelanta a las ocho de la tarde el horario de cierre de la hostelería. Las tiendas que no se consideran esenciales, como los grandes almacenes, cerrarán a las 18.00. Los encuentros deportivos se celebrarán sin público, incluido el partido de clasificación del Mundial de Fútbol, que enfrentará el próximo martes a Países Bajos y Noruega. Además, se urge a la ciudadanía a trabajar desde casa lo más posible, y a no recibir más de cuatro huéspedes a la vez.  El ministerio de Sanidad acelera, por otra parte, la administración de la dosis de refuerzo de la vacuna contra el coronavirus: los mayores de 80 años la recibirán a partir de la próxima semana y seguirá la franja de población entre 60 y 80. También será administrada al personal sanitario que trabaja en hospitales, y residencias de ancianos y dependientes. Hugo de Jonge, ministro de Sanidad, ha admitido que la nueva batería de medidas “generará grandes discusiones, podemos discrepar pero es importante que la sanidad siga accesible para todos”. El Gobierno quiere facilitar que las empresas admitan solo a los empleados vacunados o curados. Para que solo con el test negativo no sea suficiente, se precisa una modificación legal, así como la aprobación del Parlamento, y ello se decidirá en el plazo de unas tres semanas. El ministro ha subrayado que la nueva forma de abordar el pase Covid “no equivale o forzar la vacunación”.  Más información Últimas noticias del coronavirus, en directo  Las medidas, anunciadas tras largas deliberaciones, intentan contener el aumento de los contagios en el país, que supera los 16.000 por segundo día consecutivo. El récord anterior fue de 13.000 casos positivos en una jornada y se registró en diciembre de 2020. Aunque las nuevas normas mantienen abiertos cines, teatros y escuelas –con clases de hasta 75 alumnos– suponen un cambio claro de rumbo ya que el Ejecutivo pensaba que con cerca del 85% de la población vacunada no haría falta recurrir a un cierre parcial.  También Austria se encamina hacia medidas mucho más drásticas para frenar la galopante ola de contagios, muy superior a la del invierno pasado. El canciller, el conservador Alexander Schallenberg, ha anunciado que este fin de semana puede autorizar el confinamiento de las personas no vacunadas o curadas de la covid-19, una medida que requerirá negociar con los gobiernos de las nueve regiones austriacas y un debate en el Parlamento.  Schallenberg se refirió al “vergonzoso” porcentaje de vacunación en el país, que alcanza al 65% de la población (de un total de 8,9 millones) y es uno de los más bajos de Europa occidental. Alemania (67,4% de vacunados) ha vuelto a colocar a Austria, con la que tiene casi 800 kilómetros de frontera y mucho trasiego de trabajadores de un lado a otro, en la lista de países de riesgo, lo que obliga a a los no vacunados a hacer cuarentena al entrar al país.  El confinamiento de los no vacunados, que solo podrían salir a trabajar, comprar o dar un paseo, ya está previsto para Alta Austria, la región más rezagada en la vacunación, a partir del próximo lunes, aunque aún no se conocen detalles de cómo se pretende controlar a esa parte de la población, informa Sara Velert. A finales de octubre, Austria aprobó un plan de cinco fases que apunta directamente a los no vacunados. A partir de un determinado umbral de casos y de ocupación hospitalaria, estos no podrán acudir a ningún lugar público. En la quinta fase, si se supera el 30% de ocupación en las UCI del país, tendrán prohibido salir de casa salvo excepciones.  Además, desde este lunes bares, restaurantes, peluquerías y centros de estética exigen en todo el país estar vacunado o recuperado (ya no sirven los test negativos) para acceder a los establecimientos. Eso sí ha animado a los austriacos. Los medios locales informan de que este fin de semana los centros de vacunación han registrado colas que no se veían en meses. Los diarios alemanes hablan del Schnitzelpanik, un juego de palabras chistoso sobre el miedo a no poder entrar a un restaurante a degustar el plato típico austríaco. El Gobierno se plantea incluso obligar a los empleados no vacunados a presentar PCR negativas para poder acudir a su puesto de trabajo. Los hospitales empiezan a verse afectados. Las autoridades de la Baja Austria, al noroeste del país, llevan días cancelando toda la actividad quirúrgica no urgente por falta de camas.  El Gobierno húngaro reintrodujo medidas el 1 de noviembre. Para usar el transporte público vuelve a ser necesario llevar mascarilla y los hospitales restringen de nuevo las visitas. Las autoridades están presionando para mejorar el porcentaje de vacunados por la vía del puesto de trabajo. Los empleadores pueden exigir la inmunización a sus trabajadores. Si se niegan, los dan de baja sin sueldo. Y pasado un año, si siguen sin vacunarse y la medida de emergencia sigue en vigor, perderían su puesto.  Rumania ha instaurado el toque de queda de ocho de la tarde a cinco de la madrugada para las personas sin vacunar, y obliga a presentar el pasaporte covid para acceder a prácticamente todos los lugares públicos cerrados. Los no vacunados tiene prohibido entrar a establecimientos no esenciales, y bares, restaurantes y tiendas deben cerrar obligatoriamente antes de las 21.00, informa Raúl Sánchez Costa. Las autoridades también han dado dos semanas de vacaciones a los niños para tratar de reducir el número de contagios. El país tiene al 65% de la población sin vacunar y un sistema sanitario muy frágil, con instalaciones obsoletas y falta de personal. Apenas dedica el 6% de su PIB a sostenerlo, el porcentaje más bajo de la Unión Europea. Las cifras de fallecidos (463 el martes pasado, pero ha registrado picos de casi 600) son las más altas de la pandemia.  La situación más complicada se vive en Bulgaria, el país más pobre de la Unión Europea. Su tercera ola está siendo la peor, con 200 muertes diarias de media en una población de casi siete millones de habitantes. Los expertos creen que la crisis política que atraviesa el país, sin Gobierno hace meses, está afectando a la gestión de la crisis del coronavirus. Los búlgaros votan el 14 de noviembre a su parlamento por tercera vez en un año. El país balcánico tiene además la peor tasa de vacunación de la UE. Apenas el 23% de la población tiene la pauta completa. Esta semana el país ha pedido ayuda a la UE al activar el mecanismo de protección civil para recibir equipamiento: necesita oxígeno, respiradores y camas.  Las cifras de Eslovaquia (5,5 millones de habitantes), con uno de los peores porcentajes de población vacunada, han obligado a su Gobierno a tomar medidas más contundentes que nadie esperaba volver a ver en Europa. Desde el lunes pasado en la mitad del país –en las regiones con los contagios desbocados– los hoteles, bares y restaurantes están cerrados. Lo mismo ocurre con gimnasios, saunas y spas. Las mascarillas son obligatorias en los interiores pero también en el exterior y no se permite que más de 100 personas (todas vacunadas) se reúnan en un mismo lugar. Los científicos que asesoran al Gobierno están pidiendo limitar los movimientos de los no vacunados.  También en los países nórdicos le empiezan a ver las orejas al lobo. Dinamarca decidió a principios de septiembre inaugurar la nueva normalidad y eliminar todas las restricciones. Ahora, al inicio de su tercera ola, tiene que volver a aplicarlas. Desde este viernes, es necesario de nuevo el pasaporte covid en bares, restaurantes, discotecas y todos los eventos multitudinarios. También los empresarios podrán pedir prueba de vacunación, curación o test negativo a sus empleados.\n"
     ]
    }
   ],
   "source": [
    "# parse\n",
    "article.parse()\n",
    "# url\n",
    "print(article.url)\n",
    "# source url\n",
    "print(article.source_url)\n",
    "# title\n",
    "print(article.title)\n",
    "# get authors\n",
    "print(article.authors)\n",
    "# publish date\n",
    "print(article.publish_date)\n",
    "# text\n",
    "print(article.text.replace('\\n',' '))"
   ]
  },
  {
   "cell_type": "code",
   "execution_count": 56,
   "id": "1dbb3007",
   "metadata": {},
   "outputs": [
    {
     "name": "stdout",
     "output_type": "stream",
     "text": [
      "keywords: ['vuelven', 'país', 'población', 'gobierno', 'países', 'hostelería', 'vacunación', 'toque', 'severas', 'todas', 'vacunados', 'cierre', 'test', 'restricciones', 'medidas', 'confinamiento', 'queda', 'europa']\n",
      "El nuevo embate del coronavirus en Europa está obligando a recuperar restricciones que pocos creían que volverían a ver tras las campañas de vacunación.Toques de queda nocturnos para no vacunados, cierre de bares y restaurantes y la palabra más temida: confinamiento, en este caso para los que se resisten a inmunizarse.En Sajonia, por ejemplo, ya no sirve enseñar un test negativo para entrar a un bar o un restaurante, como hasta ahora.También se adelanta a las ocho de la tarde el horario de cierre de la hostelería.Los científicos que asesoran al Gobierno están pidiendo limitar los movimientos de los no vacunados.\n"
     ]
    }
   ],
   "source": [
    "# nlp\n",
    "article.nlp()\n",
    "# keywords\n",
    "print('keywords:', article.keywords)\n",
    "# summary\n",
    "print(article.summary.replace('\\n',''))"
   ]
  },
  {
   "cell_type": "markdown",
   "id": "45ed08e2",
   "metadata": {},
   "source": [
    "## Newspaper from url in Spanish"
   ]
  },
  {
   "cell_type": "code",
   "execution_count": 46,
   "id": "4ba2172a",
   "metadata": {},
   "outputs": [
    {
     "name": "stdout",
     "output_type": "stream",
     "text": [
      "Articles:\n",
      "https://elpais.com/escaparate/2021-11-12/los-mejores-burletes-para-puertas-y-ventanas.html#?rel=lom#?rel=lom\n",
      "URLs:\n",
      "https://elpais.com\n",
      "https://elpais.com/mamas-papas\n",
      "https://descuentos.elpais.com\n",
      "https://elpais.com/television\n",
      "https://elpais.com/tecnologia\n"
     ]
    }
   ],
   "source": [
    "import newspaper\n",
    "\n",
    "# build paper object\n",
    "paper = newspaper.build('https://elpais.com', language='es')\n",
    "\n",
    "# get articles\n",
    "print('Articles:')\n",
    "for article in paper.articles[:5]:\n",
    "    print(article.url)\n",
    "# get urls\n",
    "print('URLs:')\n",
    "for category in paper.category_urls()[:5]:\n",
    "    print(category)"
   ]
  },
  {
   "cell_type": "markdown",
   "id": "7065f85a",
   "metadata": {},
   "source": [
    "## Company homepage as newspaper from url in Spanish\n",
    "\n",
    "> No muy bueno."
   ]
  },
  {
   "cell_type": "code",
   "execution_count": 50,
   "id": "05a2b8b0",
   "metadata": {},
   "outputs": [
    {
     "name": "stdout",
     "output_type": "stream",
     "text": [
      "URLs:\n",
      "https://www.endesa.com/es\n",
      "https://www.endesa.com/es\n",
      "https://www.endesa.com/ca\n",
      "https://www.endesa.com\n",
      "https://www.endesa.com/en\n"
     ]
    }
   ],
   "source": [
    "import newspaper\n",
    "\n",
    "# build paper object\n",
    "paper = newspaper.build(\"https://www.endesa.com/\", language='es' )\n",
    "\n",
    "# get urls\n",
    "print('URLs:')\n",
    "for category in paper.category_urls()[:]:\n",
    "    print(category)\n",
    "    "
   ]
  },
  {
   "cell_type": "markdown",
   "id": "099c1d6f",
   "metadata": {},
   "source": [
    "## Company url as article from ulr in Spanish\n",
    "\n",
    "> No muy bueno."
   ]
  },
  {
   "cell_type": "code",
   "execution_count": 68,
   "id": "15757aa5",
   "metadata": {},
   "outputs": [],
   "source": [
    "from newspaper import Article\n",
    "\n",
    "# url\n",
    "url = \"https://www.endesa.com/es/talento/ofertas-de-empleo?category=spain%7C\"\n",
    "url = \"https://www.endesa.com/\"\n",
    "# build article object\n",
    "article = Article(url, language='es')\n",
    "# download\n",
    "article.download()"
   ]
  },
  {
   "cell_type": "code",
   "execution_count": 69,
   "id": "e150b8d1",
   "metadata": {},
   "outputs": [
    {
     "name": "stdout",
     "output_type": "stream",
     "text": [
      "https://www.endesa.com/\n",
      "https://www.endesa.com\n",
      "Endesa\n",
      "[]\n",
      "None\n",
      "icono ir atrás volver atrás en la navegación icono número 50 ir a producto Tempo Happy 50 Horas icono calendario ir a producto Tempo Happy Día icono empresas ir al segmento de empresas icono de gas ir a catálogo de productos de gas icono sol naciente ir al producto Tempo Verde-Energía Renovable icono hogar ir al segmento de hogares icono 24 horas ir a producto One Luz icono electricidad ir al catálogo de productos de Luz icono electricidad y gas ir al catálogo de productos Luz + Gas icono luna ir al producto One luz Nocturna icono llave inglesa ir a averías y reparaciones icono sol ir al producto Tempo Solar icono reloj ir a los productos Tempo Happy icono reloj 2 horas ir al producto Tempo Happy 2 Horas icono 24 horas ir al producto One Luz icono número 50 ir al producto Tempo Happy 50 Horas icono tendido eléctrico Media Tensión Ver catálogo de productos con consumo eléctrico de 36.000 a 360.000 €/año icono tendido eléctrico Alta Tensión Ver catálogo de productos con consumo eléctrico más de 360.000 €/año icono empresa ir al segmento de empresas icono calendario ir al producto Tempo Happy Día icono Administradores de Fincas ir al segmento de Administradores de Fincas icono DarkSite icono DarkSite icono bombilla ver catálogo de productos con consumo eléctrico menos de 6.000 €/año icono de electricidad y gas ir al catálogo de Productos Luz + Gas icono electricidad ir al catálogo de productos de electricidad icono email contacto de correo electrónico icono fax contacto de fax icono de gas Baja Presión ver catálogo de productos de gas con consumo de menos de 6.000 €/año icono de gas Alta Presión ver catálogo de productos de gas con consumo de 6.000 a 240.000 €/año icono de gas Media Presión ver catálogo de productos de gas con consumo de más de 240.000 €/año icono de gas ir al catálogo de productos de gas icono de Enel ir a la sitio web de enel icono de calentador servicio de mantenimiento del calentador icono mantenimiento del calentador ir al servicio de mantenimiento OKGas Calentador icono hogar ir al segmento de hogares icono olla de presión olla de presión icono llave inglesa ir a averías y reparaciones icono tendido eléctrico Media Tensión ver catálogo de productos de electricidad con consumo de 6.000 a 36.000 €/año icono luna ir al producto One Luz Nocturna icono esfera ir a sitio web personal icono teléfono contacto telefónico icono sol naciente Ir al producto Tempo Verde-Energía Renovable icono panel solar ir a energía solar fotovoltaica icono reloj ir a productos Tempo Happy icono manito solida con pulgar hacia abajo seleccionada la reacción \"No me gusta\" icono manito con pulgar hacia abajo seleccionar la reacción \"No me gusta\" icono manito negra con pulgar hacia arriba seleccionada la reacción \"Me gusta\" icono manito con pulgar hacia arriba seleccionar la reacción \"Me gusta\"\n"
     ]
    }
   ],
   "source": [
    "# parse\n",
    "article.parse()\n",
    "# url\n",
    "print(article.url)\n",
    "# source url\n",
    "print(article.source_url)\n",
    "# title\n",
    "print(article.title)\n",
    "# get authors\n",
    "print(article.authors)\n",
    "# publish date\n",
    "print(article.publish_date)\n",
    "# text\n",
    "print(article.text.replace('\\n',' '))"
   ]
  },
  {
   "cell_type": "code",
   "execution_count": 70,
   "id": "5f34bb7a",
   "metadata": {},
   "outputs": [
    {
     "name": "stdout",
     "output_type": "stream",
     "text": [
      "keywords: ['productos', 'ir', 'ver', 'catálogo', 'luz', 'gas', 'icono', 'tempo', 'endesa', 'happy', 'producto']\n",
      "icono ir atrás volver atrás en la navegación icono número 50 ir a producto Tempo Happy 50 Horas icono calendario ir a producto Tempo Happy Día icono empresas ir al segmento de empresas icono de gas ir a catálogo de productos de gas icono sol naciente ir al producto Tempo Verde-Energía Renovable icono hogar ir al segmento de hogares icono 24 horas ir a producto One Luz icono electricidad ir al catálogo de productos de Luz icono electricidad y gas ir al catálogo de productos Luz + Gas icono luna ir al producto One luz Nocturna icono llave inglesa ir a averías y reparaciones icono sol ir al producto Tempo Solar icono reloj ir a los productos Tempo Happy icono reloj 2 horas ir al producto Tempo Happy 2 Horas icono 24 horas ir al producto One Luz icono número 50 ir al producto Tempo Happy 50 Horas icono tendido eléctrico Media Tensión Ver catálogo de productos con consumo eléctrico de 36.000 a 360.000 €/año icono tendido eléctrico Alta Tensión Ver catálogo de productos con consumo eléctrico más de 360.000 €/año icono empresa ir al segmento de empresas icono calendario ir al producto Tempo Happy Día icono Administradores de Fincas ir al segmento de Administradores de Fincas icono DarkSite icono DarkSite icono bombilla ver catálogo de productos con consumo eléctrico menos de 6.000 €/año icono de electricidad y gas ir al catálogo de Productos Luz + Gas icono electricidad ir al catálogo de productos de electricidad icono email contacto de correo electrónico icono fax contacto de fax icono de gas Baja Presión ver catálogo de productos de gas con consumo de menos de 6.000 €/año icono de gas Alta Presión ver catálogo de productos de gas con consumo de 6.000 a 240.000 €/año icono de gas Media Presión ver catálogo de productos de gas con consumo de más de 240.000 €/año icono de gas ir al catálogo de productos de gas icono de Enel ir a la sitio web de enel icono de calentador servicio de mantenimiento del calentador icono mantenimiento del calentador ir al servicio de mantenimiento OKGas Calentador icono hogar ir al segmento de hogares icono olla de presión olla de presión icono llave inglesa ir a averías y reparaciones icono tendido eléctrico Media Tensión ver catálogo de productos de electricidad con consumo de 6.000 a 36.000 €/año icono luna ir al producto One Luz Nocturna icono esfera ir a sitio web personal icono teléfono contacto telefónico icono sol naciente Ir al producto Tempo Verde-Energía Renovable icono panel solar ir a energía solar fotovoltaica icono reloj ir a productos Tempo Happy icono manito solida con pulgar hacia abajo seleccionada la reacción \"No me gusta\" icono manito con pulgar hacia abajo seleccionar la reacción \"No me gusta\" icono manito negra con pulgar hacia arriba seleccionada la reacción \"Me gusta\" icono manito con pulgar hacia arriba seleccionar la reacción \"Me gusta\"\n"
     ]
    }
   ],
   "source": [
    "# nlp\n",
    "article.nlp()\n",
    "# keywords\n",
    "print('keywords:', article.keywords)\n",
    "# summary\n",
    "print(article.summary.replace('\\n',''))"
   ]
  }
 ],
 "metadata": {
  "kernelspec": {
   "display_name": "nlp",
   "language": "python",
   "name": "nlp"
  },
  "language_info": {
   "codemirror_mode": {
    "name": "ipython",
    "version": 3
   },
   "file_extension": ".py",
   "mimetype": "text/x-python",
   "name": "python",
   "nbconvert_exporter": "python",
   "pygments_lexer": "ipython3",
   "version": "3.7.0"
  }
 },
 "nbformat": 4,
 "nbformat_minor": 5
}
