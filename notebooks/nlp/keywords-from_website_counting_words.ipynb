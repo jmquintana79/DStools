{
 "cells": [
  {
   "cell_type": "markdown",
   "id": "c0ce5520",
   "metadata": {},
   "source": [
    "# Extract Keywords from a website: counting words"
   ]
  },
  {
   "cell_type": "code",
   "execution_count": 4,
   "id": "a766349c",
   "metadata": {},
   "outputs": [],
   "source": [
    "from langdetect import detect\n",
    "from newspaper import Article\n",
    "import string\n",
    "import unidecode\n",
    "from collections import Counter\n",
    "import cleantext"
   ]
  },
  {
   "cell_type": "code",
   "execution_count": 5,
   "id": "e96ec531",
   "metadata": {},
   "outputs": [],
   "source": [
    "## remove accents\n",
    "def remove_accents(s:str)->str:\n",
    "    s = unidecode.unidecode(s.lower())\n",
    "    return s"
   ]
  },
  {
   "cell_type": "code",
   "execution_count": 6,
   "id": "5756d178",
   "metadata": {},
   "outputs": [
    {
     "data": {
      "text/plain": [
       "'distancia sistema coordenadas cartesianas matemáticas distancia euclidiana euclídea distancia ordinaria dos puntos espacio euclídeo deduce partir teorema pitágoras ejemplo espacio bidimensional distancia euclidiana dos puntos p  p   coordenadas cartesianas x     x     respectivamente d  p   p     x  − x       −    displaystyle deppsqrt xxyy definición  editar  general distancia euclidiana puntos p   p   p   …  p n  displaystyle pppdots pn q   q   q   …  q n  displaystyle qqqdots qn  espacio euclídeo ndimensional define d  p  q    p  − q      p  − q     ⋯   p n − q n    ∑ i   n  p i − q i    displaystyle depqsqrt pqpqcdots pnqnsqrt sum inpiqi nótese definición depende existencia coordenadas cartesianas variedad diferenciable  r n  ⋅  displaystyle mathbb r ncdot   aunque espacio euclídeo pueden definirse sistemas coordenadas generales siempre posible definir conjunto global coordenadas cartesianas diferencia superficie curva sólo existen localmente distancia euclidiana dos conjuntos  editar  dados dos conjuntos s s r n displaystyle mathbb r n define distancia s s mínimo conjunto formado distancias punto s punto s ejemplo cálculo distancia euclidiana  editar  explica continuación método calcular distancia dos subvariedades lineales afines r n displaystyle mathbb r n s              s         tomaremos matriz m cuyas filas directores s s último diferencia sendos puntos s s                     realiza eliminación gaussiana filas matriz m·mt                 fila restamos fila fila  restamos fila recuerda final dividir                  fila  sumamos fila fila  restamos fila  recuerda final dividir                  fila  restamos fila  recuerda final dividir                  distancia s s raíz cuadrada  dividido ·· ds s    ⋅  ⋅     displaystyle sqrt  over cdot cdot sqrt  over  google play store puede ver app distancia subvariedades lineales afines aplica método cualquier par subvariedades r n displaystyle mathbb r n véase  editar  referencias  editar  bibliografía  editar'"
      ]
     },
     "execution_count": 6,
     "metadata": {},
     "output_type": "execute_result"
    }
   ],
   "source": [
    "# url\n",
    "url = 'https://es.wikipedia.org/wiki/Distancia_euclidiana'\n",
    "# build article object\n",
    "article = Article(url)\n",
    "# download\n",
    "article.download()\n",
    "# parse\n",
    "article.parse()\n",
    "# get text\n",
    "text = article.text.replace('\\n',' ').replace('\\t',' ')\n",
    "# language detection\n",
    "lang = detect(text)\n",
    "# language name conversion\n",
    "dconverter = {'es':'spanish', 'en':'english'}\n",
    "language = dconverter[lang]\n",
    "# text cleaning\n",
    "text_cleaned = cleantext.clean(text, \n",
    "                all= False, # Execute all cleaning operations\n",
    "                extra_spaces=True ,  # Remove extra white spaces \n",
    "                stemming=False , # Stem the words\n",
    "                stopwords=True ,# Remove stop words\n",
    "                lowercase=True ,# Convert to lowercase\n",
    "                numbers=True ,# Remove all digits \n",
    "                punct=True ,# Remove all punctuations\n",
    "                stp_lang=language)  # Language for stop words\n",
    "text_cleaned"
   ]
  },
  {
   "cell_type": "markdown",
   "id": "fb497fbb",
   "metadata": {},
   "source": [
    "### get most frequent words"
   ]
  },
  {
   "cell_type": "code",
   "execution_count": 7,
   "id": "d7033af8",
   "metadata": {},
   "outputs": [],
   "source": [
    "# final text cleaning       \n",
    "clean_text=[] \n",
    "#remove punctuations \n",
    "for word in text_cleaned.split(' '): \n",
    "    if word not in string.punctuation and len(word)>1 and detect(word) == lang: \n",
    "        clean_text.append(remove_accents(word)) "
   ]
  },
  {
   "cell_type": "code",
   "execution_count": 8,
   "id": "ab953ffb",
   "metadata": {},
   "outputs": [
    {
     "data": {
      "text/plain": [
       "[('cartesianas', 4),\n",
       " ('espacio', 4),\n",
       " ('subvariedades', 3),\n",
       " ('recuerda', 3),\n",
       " ('definicion', 2),\n",
       " ('conjunto', 2),\n",
       " ('conjuntos', 2),\n",
       " ('matematicas', 1),\n",
       " ('deduce', 1),\n",
       " ('respectivamente', 1),\n",
       " ('existencia', 1),\n",
       " ('diferenciable', 1),\n",
       " ('pueden', 1),\n",
       " ('posible', 1),\n",
       " ('superficie', 1),\n",
       " ('localmente', 1),\n",
       " ('calculo', 1),\n",
       " ('explica', 1),\n",
       " ('continuacion', 1),\n",
       " ('cuyas', 1),\n",
       " ('directores', 1),\n",
       " ('ultimo', 1),\n",
       " ('eliminacion', 1),\n",
       " ('cuadrada', 1),\n",
       " ('puede', 1),\n",
       " ('cualquier', 1),\n",
       " ('referencias', 1),\n",
       " ('bibliografia', 1)]"
      ]
     },
     "execution_count": 8,
     "metadata": {},
     "output_type": "execute_result"
    }
   ],
   "source": [
    "count_each_word = Counter(clean_text)\n",
    "count_each_word.most_common(30)"
   ]
  },
  {
   "cell_type": "markdown",
   "id": "ffe781e8",
   "metadata": {},
   "source": [
    "### get keywords with newspaper"
   ]
  },
  {
   "cell_type": "code",
   "execution_count": 9,
   "id": "00475f06",
   "metadata": {},
   "outputs": [
    {
     "name": "stdout",
     "output_type": "stream",
     "text": [
      "keywords: ['q', 's', 'r', 'displaystyle', '0', 'wikipedia', '1', 'distancia', 'n', 'enciclopedia', 'libre', 'p', '2']\n",
      "Distancia en un sistema de coordenadas cartesianas.En matemáticas, la distancia euclidiana o euclídea, es la distancia \"ordinaria\" entre dos puntos de un espacio euclídeo, la cual se deduce a partir del teorema de Pitágoras.Por ejemplo, en un espacio bidimensional, la distancia euclidiana entre dos puntos P 1 y P 2 , de coordenadas cartesianas (x 1 , y 1 ) y (x 2 , y 2 ) respectivamente, es:d E ( P 1 , P 2 ) = ( x 2 − x 1 ) 2 + ( y 2 − y 1 ) 2 {\\displaystyle d_{E}(P_{1},P_{2})={\\sqrt {(x_{2}-x_{1})^{2}+(y_{2}-y_{1})^{2}}}}Definición [ editar ]En general, la distancia euclidiana entre los puntos P = ( p 1 , p 2 , … , p n ) {\\displaystyle P=(p_{1},p_{2},\\dots ,p_{n})\\,} y Q = ( q 1 , q 2 , … , q n ) {\\displaystyle Q=(q_{1},q_{2},\\dots ,q_{n})\\,} , del espacio euclídeo n-dimensional, se define como:d E ( P , Q ) = ( p 1 − q 1 ) 2 + ( p 2 − q 2 ) 2 + ⋯ + ( p n − q n ) 2 = ∑ i = 1 n ( p i − q i ) 2 .Nótese que esta definición depende de la existencia de coordenadas cartesianas sobre la variedad diferenciable ( R n , ⋅ ) {\\displaystyle (\\mathbb {R} ^{n},\\cdot )} , aunque en un espacio euclídeo pueden definirse sistemas de coordenadas más generales, siempre es posible definir un conjunto global de coordenadas cartesianas (a diferencia de una superficie curva donde sólo existen localmente).Distancia euclidiana entre dos conjuntos [ editar ]Dados dos conjuntos S y S' de R n {\\displaystyle \\mathbb {R} ^{n}} se define la distancia entre S y S' como el mínimo del conjunto formado por las distancias de un punto de S a un punto de S'.\n"
     ]
    }
   ],
   "source": [
    "# build article object\n",
    "article = Article(url, language = lang)\n",
    "# download\n",
    "article.download()\n",
    "# parse\n",
    "article.parse()\n",
    "# nlp\n",
    "article.nlp()\n",
    "# keywords\n",
    "print('keywords:', article.keywords)\n",
    "# summary\n",
    "print(article.summary.replace('\\n',''))"
   ]
  },
  {
   "cell_type": "code",
   "execution_count": null,
   "id": "25fe2c72",
   "metadata": {},
   "outputs": [],
   "source": []
  },
  {
   "cell_type": "code",
   "execution_count": null,
   "id": "25c43ee9",
   "metadata": {},
   "outputs": [],
   "source": []
  },
  {
   "cell_type": "code",
   "execution_count": null,
   "id": "4fc5cb40",
   "metadata": {},
   "outputs": [],
   "source": []
  }
 ],
 "metadata": {
  "kernelspec": {
   "display_name": "nlp",
   "language": "python",
   "name": "nlp"
  },
  "language_info": {
   "codemirror_mode": {
    "name": "ipython",
    "version": 3
   },
   "file_extension": ".py",
   "mimetype": "text/x-python",
   "name": "python",
   "nbconvert_exporter": "python",
   "pygments_lexer": "ipython3",
   "version": "3.7.0"
  }
 },
 "nbformat": 4,
 "nbformat_minor": 5
}
