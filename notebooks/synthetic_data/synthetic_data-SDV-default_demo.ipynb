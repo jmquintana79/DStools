{
 "cells": [
  {
   "cell_type": "markdown",
   "id": "b4d19afd-dd12-49f4-9506-071c8a7b319e",
   "metadata": {},
   "source": [
    "# Synthetic Data with SDV (default demo)\n",
    "\n",
    "### Reference\n",
    "\n",
    "- [Github Homepage SDV](https://github.com/sdv-dev/SDV)"
   ]
  },
  {
   "cell_type": "raw",
   "id": "f34f53fa-0fe6-435f-abf7-fa7ddf8485da",
   "metadata": {},
   "source": [
    "%%capture\n",
    "!pip install sdv"
   ]
  },
  {
   "cell_type": "code",
   "execution_count": 40,
   "id": "c7aad37c-053a-4db4-86c2-ecceae6f7088",
   "metadata": {},
   "outputs": [],
   "source": [
    "from sdv import load_demo\n",
    "from sdv import SDV\n",
    "import pandas as pd\n",
    "import matplotlib.pyplot as plt"
   ]
  },
  {
   "cell_type": "markdown",
   "id": "51fb18ba-1e59-4ef6-80a8-5f0a3714a612",
   "metadata": {},
   "source": [
    "# load example data"
   ]
  },
  {
   "cell_type": "code",
   "execution_count": 3,
   "id": "f4d47004-a3a0-49ba-bffb-eb45a4823572",
   "metadata": {},
   "outputs": [],
   "source": [
    "# load\n",
    "metadata, tables = load_demo(metadata=True)"
   ]
  },
  {
   "cell_type": "markdown",
   "id": "7593f593-063e-46f4-a9f4-cf2f3cf9e285",
   "metadata": {},
   "source": [
    "### data tables"
   ]
  },
  {
   "cell_type": "code",
   "execution_count": 4,
   "id": "c5c8e9d8-4958-496d-9f44-b05438dea4e1",
   "metadata": {},
   "outputs": [
    {
     "name": "stdout",
     "output_type": "stream",
     "text": [
      "TABLES:\n",
      "type: <class 'dict'>\n",
      "available tables: dict_keys(['users', 'sessions', 'transactions'])\n",
      "shape table \"users\": (10, 4)\n",
      "shape table \"sessions\": (10, 5)\n",
      "shape table \"transactions\": (10, 5)\n"
     ]
    }
   ],
   "source": [
    "# display tables\n",
    "print('TABLES:')\n",
    "print(f'type: {type(tables)}')\n",
    "print(f'available tables: {tables.keys()}')\n",
    "for stable in tables.keys():\n",
    "    print(f'shape table \"{stable}\": {tables[stable].shape}')"
   ]
  },
  {
   "cell_type": "markdown",
   "id": "aec28078-e065-40d8-bceb-9aaaf92bb1b7",
   "metadata": {},
   "source": [
    "### metadata\n",
    "\n",
    "A Metadata object with all the information that SDV needs to know about the dataset.\n",
    "For more details about how to build the Metadata for your own dataset, please refer to the Working with [Metadata tutorial](https://sdv.dev/SDV/user_guides/relational/relational_metadata.html)."
   ]
  },
  {
   "cell_type": "code",
   "execution_count": 5,
   "id": "07aab810-2e35-47a5-abd0-d50d1274cc2b",
   "metadata": {},
   "outputs": [
    {
     "name": "stdout",
     "output_type": "stream",
     "text": [
      "METADATA:\n",
      "type: <class 'sdv.metadata.dataset.Metadata'>\n"
     ]
    },
    {
     "data": {
      "text/plain": [
       "Metadata\n",
       "  root_path: .\n",
       "  tables: ['users', 'sessions', 'transactions']\n",
       "  relationships:\n",
       "    sessions.user_id -> users.user_id\n",
       "    transactions.session_id -> sessions.session_id"
      ]
     },
     "metadata": {},
     "output_type": "display_data"
    }
   ],
   "source": [
    "# display tables\n",
    "print('METADATA:')\n",
    "print(f'type: {type(metadata)}')\n",
    "display(metadata)"
   ]
  },
  {
   "cell_type": "markdown",
   "id": "06de5284-a8c1-4039-9dbd-95d427e39416",
   "metadata": {},
   "source": [
    "# DATA SYNTHETIC MODEL"
   ]
  },
  {
   "cell_type": "markdown",
   "id": "89e3f675-8391-46e8-b575-1607906526b7",
   "metadata": {},
   "source": [
    "## training"
   ]
  },
  {
   "cell_type": "code",
   "execution_count": 6,
   "id": "624e3e97-da69-4638-b702-0efdbdff223c",
   "metadata": {},
   "outputs": [],
   "source": [
    "# initialize\n",
    "sdv = SDV()\n",
    "# fit\n",
    "sdv.fit(metadata, tables)"
   ]
  },
  {
   "cell_type": "markdown",
   "id": "3d2eb461-ce12-4036-9729-1455b289e44c",
   "metadata": {},
   "source": [
    "### save / load the trained model"
   ]
  },
  {
   "cell_type": "raw",
   "id": "fa0319a5-5df6-4f09-8bee-dd380813f8c3",
   "metadata": {},
   "source": [
    "sdv.save('sdv.pkl')\n",
    "sdv = SDV.load('sdv.pkl')"
   ]
  },
  {
   "cell_type": "markdown",
   "id": "03168831-21df-43a7-885b-84e0ee598ef3",
   "metadata": {},
   "source": [
    "## SAMPLE: same size with synthetic data"
   ]
  },
  {
   "cell_type": "code",
   "execution_count": 7,
   "id": "eb99d656-086a-47b0-ab40-c9ed2ab60a13",
   "metadata": {},
   "outputs": [],
   "source": [
    "# get a sample\n",
    "samples1 = sdv.sample()"
   ]
  },
  {
   "cell_type": "code",
   "execution_count": 8,
   "id": "4565b318-36d7-4c5b-85c7-10d139c2d194",
   "metadata": {},
   "outputs": [
    {
     "name": "stdout",
     "output_type": "stream",
     "text": [
      "SAMPLES:\n",
      "type: <class 'dict'>\n",
      "available tables: dict_keys(['users', 'sessions', 'transactions'])\n",
      "shape table \"users\": (10, 4)\n",
      "shape table \"sessions\": (10, 5)\n",
      "shape table \"transactions\": (10, 5)\n"
     ]
    }
   ],
   "source": [
    "# display tables\n",
    "print('SAMPLES:')\n",
    "print(f'type: {type(samples1)}')\n",
    "print(f'available tables: {samples1.keys()}')\n",
    "for stable in samples1.keys():\n",
    "    print(f'shape table \"{stable}\": {samples1[stable].shape}')"
   ]
  },
  {
   "cell_type": "markdown",
   "id": "9d4557b5-d069-4cd9-8047-40963775302c",
   "metadata": {},
   "source": [
    "## SAMPLE: bigger size with synthetic data"
   ]
  },
  {
   "cell_type": "code",
   "execution_count": 9,
   "id": "9c4a262c-63aa-46a6-b256-e853b422e4e6",
   "metadata": {},
   "outputs": [],
   "source": [
    "# get a sample\n",
    "samples2 = sdv.sample(num_rows = 1000)"
   ]
  },
  {
   "cell_type": "code",
   "execution_count": 10,
   "id": "c3759d45-c4b9-468c-ace7-59462376ae49",
   "metadata": {},
   "outputs": [
    {
     "name": "stdout",
     "output_type": "stream",
     "text": [
      "SAMPLES:\n",
      "type: <class 'dict'>\n",
      "available tables: dict_keys(['users', 'sessions', 'transactions'])\n",
      "shape table \"users\": (1000, 4)\n",
      "shape table \"sessions\": (1000, 5)\n",
      "shape table \"transactions\": (1000, 5)\n"
     ]
    }
   ],
   "source": [
    "# display tables\n",
    "print('SAMPLES:')\n",
    "print(f'type: {type(samples2)}')\n",
    "print(f'available tables: {samples2.keys()}')\n",
    "for stable in samples2.keys():\n",
    "    print(f'shape table \"{stable}\": {samples2[stable].shape}')"
   ]
  },
  {
   "cell_type": "markdown",
   "id": "afb72103-a376-4d0a-b501-c7e00e6c2e67",
   "metadata": {},
   "source": [
    "# VALIDATION"
   ]
  },
  {
   "cell_type": "code",
   "execution_count": 18,
   "id": "82077ee0-fcb1-4881-870e-cefa3c5767b7",
   "metadata": {},
   "outputs": [],
   "source": [
    "# collect data\n",
    "name = 'users'\n",
    "dfu1 = tables[name]\n",
    "dfu2 = samples1[name]\n",
    "dfu3 = samples2[name]\n",
    "cols = [c for c in dfu1.columns.tolist() if not 'id' in c]"
   ]
  },
  {
   "cell_type": "code",
   "execution_count": 36,
   "id": "8aab73fa-1dc2-4d94-b226-bc729c7d60d9",
   "metadata": {},
   "outputs": [
    {
     "data": {
      "text/html": [
       "<div>\n",
       "<style scoped>\n",
       "    .dataframe tbody tr th:only-of-type {\n",
       "        vertical-align: middle;\n",
       "    }\n",
       "\n",
       "    .dataframe tbody tr th {\n",
       "        vertical-align: top;\n",
       "    }\n",
       "\n",
       "    .dataframe thead th {\n",
       "        text-align: right;\n",
       "    }\n",
       "</style>\n",
       "<table border=\"1\" class=\"dataframe\">\n",
       "  <thead>\n",
       "    <tr style=\"text-align: right;\">\n",
       "      <th></th>\n",
       "      <th>original</th>\n",
       "      <th>synthetic</th>\n",
       "      <th>sythentic_bigger</th>\n",
       "    </tr>\n",
       "  </thead>\n",
       "  <tbody>\n",
       "    <tr>\n",
       "      <th>UK</th>\n",
       "      <td>0.3</td>\n",
       "      <td>0.1</td>\n",
       "      <td>0.234</td>\n",
       "    </tr>\n",
       "    <tr>\n",
       "      <th>ES</th>\n",
       "      <td>0.2</td>\n",
       "      <td>0.2</td>\n",
       "      <td>0.257</td>\n",
       "    </tr>\n",
       "    <tr>\n",
       "      <th>US</th>\n",
       "      <td>0.2</td>\n",
       "      <td>0.4</td>\n",
       "      <td>0.268</td>\n",
       "    </tr>\n",
       "    <tr>\n",
       "      <th>FR</th>\n",
       "      <td>0.1</td>\n",
       "      <td>0.1</td>\n",
       "      <td>0.101</td>\n",
       "    </tr>\n",
       "    <tr>\n",
       "      <th>BG</th>\n",
       "      <td>0.1</td>\n",
       "      <td>0.1</td>\n",
       "      <td>0.066</td>\n",
       "    </tr>\n",
       "    <tr>\n",
       "      <th>DE</th>\n",
       "      <td>0.1</td>\n",
       "      <td>0.1</td>\n",
       "      <td>0.074</td>\n",
       "    </tr>\n",
       "  </tbody>\n",
       "</table>\n",
       "</div>"
      ],
      "text/plain": [
       "    original  synthetic  sythentic_bigger\n",
       "UK       0.3        0.1             0.234\n",
       "ES       0.2        0.2             0.257\n",
       "US       0.2        0.4             0.268\n",
       "FR       0.1        0.1             0.101\n",
       "BG       0.1        0.1             0.066\n",
       "DE       0.1        0.1             0.074"
      ]
     },
     "execution_count": 36,
     "metadata": {},
     "output_type": "execute_result"
    }
   ],
   "source": [
    "c = 'country'\n",
    "comp = pd.concat([dfu1[c].value_counts(normalize = True, dropna = False), dfu2[c].value_counts(normalize = True, dropna = False), dfu3[c].value_counts(normalize = True, dropna = False)], axis = 1)\n",
    "comp.columns = ['original', 'synthetic', 'sythentic_bigger']\n",
    "comp"
   ]
  },
  {
   "cell_type": "code",
   "execution_count": 37,
   "id": "81b4252e-2510-4aef-98e1-08671ce3e70c",
   "metadata": {},
   "outputs": [
    {
     "data": {
      "text/html": [
       "<div>\n",
       "<style scoped>\n",
       "    .dataframe tbody tr th:only-of-type {\n",
       "        vertical-align: middle;\n",
       "    }\n",
       "\n",
       "    .dataframe tbody tr th {\n",
       "        vertical-align: top;\n",
       "    }\n",
       "\n",
       "    .dataframe thead th {\n",
       "        text-align: right;\n",
       "    }\n",
       "</style>\n",
       "<table border=\"1\" class=\"dataframe\">\n",
       "  <thead>\n",
       "    <tr style=\"text-align: right;\">\n",
       "      <th></th>\n",
       "      <th>original</th>\n",
       "      <th>synthetic</th>\n",
       "      <th>sythentic_bigger</th>\n",
       "    </tr>\n",
       "  </thead>\n",
       "  <tbody>\n",
       "    <tr>\n",
       "      <th>F</th>\n",
       "      <td>0.4</td>\n",
       "      <td>0.4</td>\n",
       "      <td>0.329</td>\n",
       "    </tr>\n",
       "    <tr>\n",
       "      <th>M</th>\n",
       "      <td>0.3</td>\n",
       "      <td>0.3</td>\n",
       "      <td>0.441</td>\n",
       "    </tr>\n",
       "    <tr>\n",
       "      <th>NaN</th>\n",
       "      <td>0.3</td>\n",
       "      <td>0.3</td>\n",
       "      <td>0.230</td>\n",
       "    </tr>\n",
       "  </tbody>\n",
       "</table>\n",
       "</div>"
      ],
      "text/plain": [
       "     original  synthetic  sythentic_bigger\n",
       "F         0.4        0.4             0.329\n",
       "M         0.3        0.3             0.441\n",
       "NaN       0.3        0.3             0.230"
      ]
     },
     "execution_count": 37,
     "metadata": {},
     "output_type": "execute_result"
    }
   ],
   "source": [
    "c = 'gender'\n",
    "comp = pd.concat([dfu1[c].value_counts(normalize = True, dropna = False), dfu2[c].value_counts(normalize = True, dropna = False), dfu3[c].value_counts(normalize = True, dropna = False)], axis = 1)\n",
    "comp.columns = ['original', 'synthetic', 'sythentic_bigger']\n",
    "comp"
   ]
  },
  {
   "cell_type": "code",
   "execution_count": 43,
   "id": "ecbc32d3-aede-4f21-b604-b9a604124cab",
   "metadata": {},
   "outputs": [
    {
     "data": {
      "image/png": "[encoded data removed]",
      "text/plain": [
       "<Figure size 1080x360 with 3 Axes>"
      ]
     },
     "metadata": {
      "needs_background": "light"
     },
     "output_type": "display_data"
    }
   ],
   "source": [
    "c = 'age'\n",
    "fig, (ax1, ax2, ax3) = plt.subplots(ncols = 3, figsize = (15,5))\n",
    "dfu1[c].plot(kind = 'hist', ax = ax1)\n",
    "dfu2[c].plot(kind = 'hist', ax = ax2)\n",
    "dfu3[c].plot(kind = 'hist', ax = ax3)\n",
    "plt.show()"
   ]
  },
  {
   "cell_type": "code",
   "execution_count": null,
   "id": "ac68243a-7dac-4847-a628-0e268cfb2bb9",
   "metadata": {},
   "outputs": [],
   "source": []
  }
 ],
 "metadata": {
  "kernelspec": {
   "display_name": "analysis",
   "language": "python",
   "name": "analysis"
  },
  "language_info": {
   "codemirror_mode": {
    "name": "ipython",
    "version": 3
   },
   "file_extension": ".py",
   "mimetype": "text/x-python",
   "name": "python",
   "nbconvert_exporter": "python",
   "pygments_lexer": "ipython3",
   "version": "3.7.0"
  }
 },
 "nbformat": 4,
 "nbformat_minor": 5
}
