{
 "cells": [
  {
   "cell_type": "markdown",
   "metadata": {},
   "source": [
    "# Review - Library AutoClean\n",
    "\n",
    "Me parece una opcion ideal para rapidos data cleaning para Data Analysis. No obstante, **echo de menos la posibilidad de incluirlo en un pipeline de un proyecto ML, es decir, un fit / transform.** \n",
    "\n",
    "Por tanto, esta libreria **solo es util para**:\n",
    "- la fase del **conocimiento del dato**. \n",
    "- la fase de **desarrollo de algoritmos ML**, para hacer pruebas rapidas pudiendo centrarse mas en la modelizacion que en la limpieza del dato. \n",
    "\n",
    "### References\n",
    "\n",
    "- [PyPi: py-AutoClean 1.1.3](https://pypi.org/project/py-AutoClean/)\n",
    "- [GitHub: AutoClean](https://github.com/elisemercury/AutoClean)\n"
   ]
  },
  {
   "cell_type": "markdown",
   "metadata": {},
   "source": [
    "![image](parameters.png \"AutoClean arguments\")"
   ]
  },
  {
   "cell_type": "code",
   "execution_count": 30,
   "metadata": {},
   "outputs": [],
   "source": [
    "import seaborn as sns\n",
    "from AutoClean import AutoClean"
   ]
  },
  {
   "cell_type": "markdown",
   "metadata": {},
   "source": [
    "### load data"
   ]
  },
  {
   "cell_type": "code",
   "execution_count": 31,
   "metadata": {},
   "outputs": [
    {
     "name": "stdout",
     "output_type": "stream",
     "text": [
      "(6433, 14)\n"
     ]
    },
    {
     "data": {
      "text/html": [
       "<div>\n",
       "<style scoped>\n",
       "    .dataframe tbody tr th:only-of-type {\n",
       "        vertical-align: middle;\n",
       "    }\n",
       "\n",
       "    .dataframe tbody tr th {\n",
       "        vertical-align: top;\n",
       "    }\n",
       "\n",
       "    .dataframe thead th {\n",
       "        text-align: right;\n",
       "    }\n",
       "</style>\n",
       "<table border=\"1\" class=\"dataframe\">\n",
       "  <thead>\n",
       "    <tr style=\"text-align: right;\">\n",
       "      <th></th>\n",
       "      <th>pickup</th>\n",
       "      <th>dropoff</th>\n",
       "      <th>passengers</th>\n",
       "      <th>distance</th>\n",
       "      <th>fare</th>\n",
       "      <th>tip</th>\n",
       "      <th>tolls</th>\n",
       "      <th>total</th>\n",
       "      <th>color</th>\n",
       "      <th>payment</th>\n",
       "      <th>pickup_zone</th>\n",
       "      <th>dropoff_zone</th>\n",
       "      <th>pickup_borough</th>\n",
       "      <th>dropoff_borough</th>\n",
       "    </tr>\n",
       "  </thead>\n",
       "  <tbody>\n",
       "    <tr>\n",
       "      <th>0</th>\n",
       "      <td>2019-03-23 20:21:09</td>\n",
       "      <td>2019-03-23 20:27:24</td>\n",
       "      <td>1</td>\n",
       "      <td>1.60</td>\n",
       "      <td>7.0</td>\n",
       "      <td>2.15</td>\n",
       "      <td>0.0</td>\n",
       "      <td>12.95</td>\n",
       "      <td>yellow</td>\n",
       "      <td>credit card</td>\n",
       "      <td>Lenox Hill West</td>\n",
       "      <td>UN/Turtle Bay South</td>\n",
       "      <td>Manhattan</td>\n",
       "      <td>Manhattan</td>\n",
       "    </tr>\n",
       "    <tr>\n",
       "      <th>1</th>\n",
       "      <td>2019-03-04 16:11:55</td>\n",
       "      <td>2019-03-04 16:19:00</td>\n",
       "      <td>1</td>\n",
       "      <td>0.79</td>\n",
       "      <td>5.0</td>\n",
       "      <td>0.00</td>\n",
       "      <td>0.0</td>\n",
       "      <td>9.30</td>\n",
       "      <td>yellow</td>\n",
       "      <td>cash</td>\n",
       "      <td>Upper West Side South</td>\n",
       "      <td>Upper West Side South</td>\n",
       "      <td>Manhattan</td>\n",
       "      <td>Manhattan</td>\n",
       "    </tr>\n",
       "    <tr>\n",
       "      <th>2</th>\n",
       "      <td>2019-03-27 17:53:01</td>\n",
       "      <td>2019-03-27 18:00:25</td>\n",
       "      <td>1</td>\n",
       "      <td>1.37</td>\n",
       "      <td>7.5</td>\n",
       "      <td>2.36</td>\n",
       "      <td>0.0</td>\n",
       "      <td>14.16</td>\n",
       "      <td>yellow</td>\n",
       "      <td>credit card</td>\n",
       "      <td>Alphabet City</td>\n",
       "      <td>West Village</td>\n",
       "      <td>Manhattan</td>\n",
       "      <td>Manhattan</td>\n",
       "    </tr>\n",
       "    <tr>\n",
       "      <th>3</th>\n",
       "      <td>2019-03-10 01:23:59</td>\n",
       "      <td>2019-03-10 01:49:51</td>\n",
       "      <td>1</td>\n",
       "      <td>7.70</td>\n",
       "      <td>27.0</td>\n",
       "      <td>6.15</td>\n",
       "      <td>0.0</td>\n",
       "      <td>36.95</td>\n",
       "      <td>yellow</td>\n",
       "      <td>credit card</td>\n",
       "      <td>Hudson Sq</td>\n",
       "      <td>Yorkville West</td>\n",
       "      <td>Manhattan</td>\n",
       "      <td>Manhattan</td>\n",
       "    </tr>\n",
       "    <tr>\n",
       "      <th>4</th>\n",
       "      <td>2019-03-30 13:27:42</td>\n",
       "      <td>2019-03-30 13:37:14</td>\n",
       "      <td>3</td>\n",
       "      <td>2.16</td>\n",
       "      <td>9.0</td>\n",
       "      <td>1.10</td>\n",
       "      <td>0.0</td>\n",
       "      <td>13.40</td>\n",
       "      <td>yellow</td>\n",
       "      <td>credit card</td>\n",
       "      <td>Midtown East</td>\n",
       "      <td>Yorkville West</td>\n",
       "      <td>Manhattan</td>\n",
       "      <td>Manhattan</td>\n",
       "    </tr>\n",
       "  </tbody>\n",
       "</table>\n",
       "</div>"
      ],
      "text/plain": [
       "               pickup             dropoff  passengers  distance  fare   tip  \\\n",
       "0 2019-03-23 20:21:09 2019-03-23 20:27:24           1      1.60   7.0  2.15   \n",
       "1 2019-03-04 16:11:55 2019-03-04 16:19:00           1      0.79   5.0  0.00   \n",
       "2 2019-03-27 17:53:01 2019-03-27 18:00:25           1      1.37   7.5  2.36   \n",
       "3 2019-03-10 01:23:59 2019-03-10 01:49:51           1      7.70  27.0  6.15   \n",
       "4 2019-03-30 13:27:42 2019-03-30 13:37:14           3      2.16   9.0  1.10   \n",
       "\n",
       "   tolls  total   color      payment            pickup_zone  \\\n",
       "0    0.0  12.95  yellow  credit card        Lenox Hill West   \n",
       "1    0.0   9.30  yellow         cash  Upper West Side South   \n",
       "2    0.0  14.16  yellow  credit card          Alphabet City   \n",
       "3    0.0  36.95  yellow  credit card              Hudson Sq   \n",
       "4    0.0  13.40  yellow  credit card           Midtown East   \n",
       "\n",
       "            dropoff_zone pickup_borough dropoff_borough  \n",
       "0    UN/Turtle Bay South      Manhattan       Manhattan  \n",
       "1  Upper West Side South      Manhattan       Manhattan  \n",
       "2           West Village      Manhattan       Manhattan  \n",
       "3         Yorkville West      Manhattan       Manhattan  \n",
       "4         Yorkville West      Manhattan       Manhattan  "
      ]
     },
     "execution_count": 31,
     "metadata": {},
     "output_type": "execute_result"
    }
   ],
   "source": [
    "df = sns.load_dataset(\"taxis\")\n",
    "print(df.shape)\n",
    "df.head()"
   ]
  },
  {
   "cell_type": "code",
   "execution_count": 32,
   "metadata": {},
   "outputs": [
    {
     "data": {
      "text/plain": [
       "pickup              0\n",
       "dropoff             0\n",
       "passengers          0\n",
       "distance            0\n",
       "fare                0\n",
       "tip                 0\n",
       "tolls               0\n",
       "total               0\n",
       "color               0\n",
       "payment            44\n",
       "pickup_zone        26\n",
       "dropoff_zone       45\n",
       "pickup_borough     26\n",
       "dropoff_borough    45\n",
       "dtype: int64"
      ]
     },
     "execution_count": 32,
     "metadata": {},
     "output_type": "execute_result"
    }
   ],
   "source": [
    "df.isnull().sum()"
   ]
  },
  {
   "cell_type": "markdown",
   "metadata": {},
   "source": [
    "# Data Cleaning\n",
    "\n",
    "### Pipeline Attributes\n",
    "```\n",
    " 'count_missing',\n",
    " 'duplicates',\n",
    " 'encode_categ',\n",
    " 'extract_datetime',\n",
    " 'missing_categ',\n",
    " 'missing_num',\n",
    " 'mode',\n",
    " 'outlier_param',\n",
    " 'outliers',\n",
    " 'output'\n",
    "```"
   ]
  },
  {
   "cell_type": "markdown",
   "metadata": {},
   "source": [
    "### auto (full)"
   ]
  },
  {
   "cell_type": "code",
   "execution_count": 33,
   "metadata": {},
   "outputs": [
    {
     "name": "stdout",
     "output_type": "stream",
     "text": [
      "AutoClean process completed in 3.054068 seconds\n",
      "Logfile saved to: /Users/juan/Workspace/projects/utilsDS/notebooks/data_cleaning/autoclean.log\n"
     ]
    }
   ],
   "source": [
    "pipeline = AutoClean(df)"
   ]
  },
  {
   "cell_type": "code",
   "execution_count": 34,
   "metadata": {},
   "outputs": [
    {
     "data": {
      "text/plain": [
       "pickup                           0\n",
       "dropoff                          0\n",
       "passengers                       0\n",
       "distance                         0\n",
       "fare                             0\n",
       "tip                              0\n",
       "tolls                            0\n",
       "total                            0\n",
       "color                            0\n",
       "payment                          0\n",
       "pickup_zone                      0\n",
       "dropoff_zone                     0\n",
       "pickup_borough                   0\n",
       "dropoff_borough                  0\n",
       "Day                              0\n",
       "Month                            0\n",
       "Year                             0\n",
       "Hour                             0\n",
       "Minute                           0\n",
       "Sec                              0\n",
       "payment_cash                     0\n",
       "payment_credit card              0\n",
       "color_green                      0\n",
       "color_yellow                     0\n",
       "dropoff_borough_Bronx            0\n",
       "dropoff_borough_Brooklyn         0\n",
       "dropoff_borough_Manhattan        0\n",
       "dropoff_borough_Queens           0\n",
       "dropoff_borough_Staten Island    0\n",
       "pickup_borough_Bronx             0\n",
       "pickup_borough_Brooklyn          0\n",
       "pickup_borough_Manhattan         0\n",
       "pickup_borough_Queens            0\n",
       "dtype: int64"
      ]
     },
     "execution_count": 34,
     "metadata": {},
     "output_type": "execute_result"
    }
   ],
   "source": [
    "pipeline.output.isnull().sum()"
   ]
  },
  {
   "cell_type": "markdown",
   "metadata": {},
   "source": [
    "### manual settings"
   ]
  },
  {
   "cell_type": "code",
   "execution_count": 35,
   "metadata": {},
   "outputs": [
    {
     "name": "stderr",
     "output_type": "stream",
     "text": [
      "04-11-2023 11:56:21.02 - INFO - Started validation of input parameters...\n",
      "04-11-2023 11:56:21.02 - INFO - Completed validation of input parameters\n",
      "04-11-2023 11:56:21.03 - INFO - Started handling of duplicates... Method: \"AUTO\"\n",
      "04-11-2023 11:56:21.04 - DEBUG - 0 missing values found\n",
      "04-11-2023 11:56:21.04 - INFO - Completed handling of duplicates in 0.013371 seconds\n",
      "04-11-2023 11:56:21.05 - INFO - Started handling of missing values...\n",
      "04-11-2023 11:56:21.05 - INFO - Found a total of 186 missing value(s)\n",
      "04-11-2023 11:56:21.05 - INFO - Started handling of CATEGORICAL missing values... Method: \"KNN\"\n",
      "04-11-2023 11:56:21.08 - DEBUG - KNN imputation of 44 value(s) succeeded for feature \"payment\"\n",
      "04-11-2023 11:56:21.10 - DEBUG - KNN imputation of 26 value(s) succeeded for feature \"pickup_zone\"\n",
      "04-11-2023 11:56:21.12 - DEBUG - KNN imputation of 45 value(s) succeeded for feature \"dropoff_zone\"\n",
      "04-11-2023 11:56:21.14 - DEBUG - KNN imputation of 26 value(s) succeeded for feature \"pickup_borough\"\n",
      "04-11-2023 11:56:21.15 - DEBUG - KNN imputation of 45 value(s) succeeded for feature \"dropoff_borough\"\n",
      "04-11-2023 11:56:21.15 - INFO - Completed handling of missing values in 0.10871 seconds\n",
      "04-11-2023 11:56:21.16 - INFO - Started handling of outliers... Method: \"DELETE\"\n",
      "04-11-2023 11:56:21.95 - DEBUG - Deletion of 540 outliers succeeded for feature \"passengers\"\n",
      "04-11-2023 11:56:22.76 - DEBUG - Deletion of 676 outliers succeeded for feature \"distance\"\n",
      "04-11-2023 11:56:22.91 - DEBUG - Deletion of 160 outliers succeeded for feature \"fare\"\n",
      "04-11-2023 11:56:22.93 - DEBUG - Deletion of 9 outliers succeeded for feature \"tip\"\n",
      "04-11-2023 11:56:22.94 - DEBUG - Deletion of 11 outliers succeeded for feature \"tolls\"\n",
      "04-11-2023 11:56:23.00 - DEBUG - Deletion of 56 outliers succeeded for feature \"total\"\n",
      "04-11-2023 11:56:23.00 - INFO - Completed handling of outliers in 1.846144 seconds\n",
      "04-11-2023 11:56:23.01 - INFO - Skipped datetime feature conversion\n",
      "04-11-2023 11:56:23.01 - INFO - Skipped encoding of categorical features\n",
      "04-11-2023 11:56:23.01 - INFO - Started feature type conversion...\n",
      "04-11-2023 11:56:23.01 - DEBUG - Conversion to type INT succeeded for feature \"passengers\"\n",
      "04-11-2023 11:56:23.02 - DEBUG - Conversion to type FLOAT succeeded for feature \"distance\"\n",
      "04-11-2023 11:56:23.03 - DEBUG - Conversion to type FLOAT succeeded for feature \"fare\"\n",
      "04-11-2023 11:56:23.04 - DEBUG - Conversion to type FLOAT succeeded for feature \"tip\"\n",
      "04-11-2023 11:56:23.04 - DEBUG - Conversion to type INT succeeded for feature \"tolls\"\n",
      "04-11-2023 11:56:23.05 - DEBUG - Conversion to type FLOAT succeeded for feature \"total\"\n",
      "04-11-2023 11:56:23.05 - INFO - Completed feature type conversion for 6 feature(s) in 0.040305 seconds\n",
      "04-11-2023 11:56:23.05 - INFO - AutoClean process completed in 2.053144 seconds\n"
     ]
    },
    {
     "name": "stdout",
     "output_type": "stream",
     "text": [
      "Logfile saved to: /Users/juan/Workspace/projects/utilsDS/notebooks/data_cleaning/autoclean.log\n"
     ]
    }
   ],
   "source": [
    "ppm = AutoClean(df, mode='manual', duplicates='auto', missing_num=False, missing_categ='knn', \n",
    "          encode_categ=False, extract_datetime=False, outliers='delete', outlier_param=1.5, \n",
    "          logfile=True, verbose=True)"
   ]
  },
  {
   "cell_type": "code",
   "execution_count": 40,
   "metadata": {},
   "outputs": [
    {
     "data": {
      "text/plain": [
       "((4981, 14), 186)"
      ]
     },
     "execution_count": 40,
     "metadata": {},
     "output_type": "execute_result"
    }
   ],
   "source": [
    "ppm.output.shape, ppm.count_missing"
   ]
  },
  {
   "cell_type": "code",
   "execution_count": 37,
   "metadata": {},
   "outputs": [
    {
     "data": {
      "text/plain": [
       "pickup             0\n",
       "dropoff            0\n",
       "passengers         0\n",
       "distance           0\n",
       "fare               0\n",
       "tip                0\n",
       "tolls              0\n",
       "total              0\n",
       "color              0\n",
       "payment            0\n",
       "pickup_zone        0\n",
       "dropoff_zone       0\n",
       "pickup_borough     0\n",
       "dropoff_borough    0\n",
       "dtype: int64"
      ]
     },
     "execution_count": 37,
     "metadata": {},
     "output_type": "execute_result"
    }
   ],
   "source": [
    "ppm.output.isnull().sum()"
   ]
  }
 ],
 "metadata": {
  "kernelspec": {
   "display_name": "base",
   "language": "python",
   "name": "python3"
  },
  "language_info": {
   "codemirror_mode": {
    "name": "ipython",
    "version": 3
   },
   "file_extension": ".py",
   "mimetype": "text/x-python",
   "name": "python",
   "nbconvert_exporter": "python",
   "pygments_lexer": "ipython3",
   "version": "3.9.18"
  }
 },
 "nbformat": 4,
 "nbformat_minor": 2
}
