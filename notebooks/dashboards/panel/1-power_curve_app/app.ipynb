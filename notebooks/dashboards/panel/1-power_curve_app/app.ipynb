{
 "cells": [
  {
   "cell_type": "markdown",
   "metadata": {},
   "source": [
    "# Power Curve App\n",
    "\n",
    "It’ll be served the app with:\n",
    "```\n",
    "panel serve app.ipynb --autoreload\n",
    "```\n",
    "Now, open the app in your browser at **http://localhost:5006/app**.\n",
    "\n",
    "### References\n",
    "\n",
    "- https://coderzcolumn.com/tutorials/data-science/basic-dashboard-using-panel\n"
   ]
  },
  {
   "cell_type": "code",
   "execution_count": 1,
   "metadata": {},
   "outputs": [],
   "source": [
    "import os\n",
    "import hvplot.pandas\n",
    "import numpy as np\n",
    "import pandas as pd\n",
    "import panel as pn\n",
    "from datetime import datetime, date\n",
    "\n",
    "PRIMARY_COLOR = \"#0072B5\"\n",
    "SECONDARY_COLOR = \"#B54300\"\n",
    "FOLDER_DATA= (\n",
    "    \"/Users/juan/Workspace/data/datasets/dashboards\"\n",
    ")"
   ]
  },
  {
   "cell_type": "code",
   "execution_count": null,
   "metadata": {},
   "outputs": [],
   "source": [
    "pn.extension(design=\"material\", sizing_mode=\"stretch_width\")"
   ]
  },
  {
   "cell_type": "code",
   "execution_count": null,
   "metadata": {},
   "outputs": [],
   "source": [
    "#@pn.cache\n",
    "def load_data(FOLDER_DATA, folder_option):\n",
    "    folder = os.path.join(FOLDER_DATA, folder_option)\n",
    "    files = [file for file in os.listdir(folder) if \".csv\" in file]\n",
    "    df = pd.DataFrame()\n",
    "    for file in files:\n",
    "        path = os.path.join(folder, file)\n",
    "        df = pd.concat([df, pd.read_csv(path)], axis = 0)\n",
    "    return df.dropna()"
   ]
  },
  {
   "cell_type": "code",
   "execution_count": null,
   "metadata": {},
   "outputs": [],
   "source": [
    "def date_to_datetime(dt):\n",
    "    return datetime(dt.year, dt.month, dt.day, 0, 0, 0)\n",
    "\n",
    "def transform_data(data):\n",
    "    data.set_index(\"Time\", inplace = True)\n",
    "    data.WindSpeed = data.WindSpeed.astype(float) \n",
    "    data.Power = data.Power.astype(float) \n",
    "    data.index = pd.to_datetime(data.index)\n",
    "    return data\n",
    "\n",
    "\n",
    "def get_plot(FOLDER_DATA, folder_option, date_range, date_start, date_end, variable =\"Power\"):\n",
    "    data = load_data(FOLDER_DATA, folder_option)\n",
    "    data = transform_data(data)\n",
    "    dti = date_to_datetime(np.max([date_range[0], date_start]))   \n",
    "    dtf = date_to_datetime(np.min([date_range[1], date_end]))\n",
    "    data = data[(data.index>=dti) & (data.index<=dtf)]\n",
    "    return data[variable].hvplot(\n",
    "        height=300, legend=False, color=PRIMARY_COLOR\n",
    "    )# * highlight.hvplot.scatter(color=SECONDARY_COLOR, padding=0.1, legend=False)\n",
    "\n",
    "\n",
    "def get_scatter(FOLDER_DATA, folder_option, date_range, date_start, date_end):\n",
    "    data = load_data(FOLDER_DATA, folder_option)\n",
    "    data = transform_data(data)\n",
    "    dti = date_to_datetime(np.max([date_range[0], date_start]))   \n",
    "    dtf = date_to_datetime(np.min([date_range[1], date_end]))\n",
    "    data_filtered = data[(data.index>=dti) & (data.index<=dtf)]\n",
    "    return data.hvplot.scatter(x='WindSpeed', y='Power',\n",
    "        color=PRIMARY_COLOR, padding=0.1, legend=False, alpha = .5\n",
    "        )* data_filtered.hvplot.scatter(x='WindSpeed', y='Power', color=SECONDARY_COLOR, padding=0.1, legend=False)\n"
   ]
  },
  {
   "cell_type": "code",
   "execution_count": null,
   "metadata": {},
   "outputs": [],
   "source": [
    "# collect folder data options\n",
    "data_options = [folder for folder in os.listdir(FOLDER_DATA) if folder != '.DS_Store']\n",
    "# widget data option selection\n",
    "folder_option_widget = pn.widgets.Select(name=\"Folder Option\", value=data_options[0], options=list(data_options))\n",
    "\n",
    "min_date = date(2014, 10, 1)\n",
    "max_date = date(2016, 1, 1)\n",
    "date_range_slider = pn.widgets.DateRangeSlider(\n",
    "    name='Date Range Slider',\n",
    "    start=min_date, end=date(2016, 1, 1),\n",
    "    value=(min_date, date(2016, 1, 1)),\n",
    "    step=2\n",
    ")\n",
    "\n",
    "start_date_picker = pn.widgets.DatePicker(name='Start Date Picker', value=min_date)\n",
    "end_date_picker = pn.widgets.DatePicker(name='End Date Picker', value=max_date)"
   ]
  },
  {
   "cell_type": "code",
   "execution_count": null,
   "metadata": {},
   "outputs": [],
   "source": [
    "widgets = pn.Column(folder_option_widget, start_date_picker, end_date_picker, sizing_mode=\"fixed\", width=300)\n",
    "#slider = pn.Row(date_range_slider.controls(jslink=False), date_range_slider)\n",
    "#slider = pn.Column(date_range_slider)\n",
    "\n",
    "bound_plot_1 = pn.bind(\n",
    "    get_plot, FOLDER_DATA=FOLDER_DATA, folder_option=folder_option_widget, date_range = date_range_slider, \n",
    "    date_start=start_date_picker, date_end=end_date_picker, variable=\"WindSpeed\"\n",
    ")\n",
    "bound_plot_2 = pn.bind(\n",
    "    get_plot, FOLDER_DATA=FOLDER_DATA, folder_option=folder_option_widget, date_range = date_range_slider, \n",
    "    date_start=start_date_picker, date_end=end_date_picker, variable=\"Power\"\n",
    ")\n",
    "bound_plot_3 = pn.bind(\n",
    "    get_scatter, FOLDER_DATA=FOLDER_DATA, folder_option=folder_option_widget, date_range = date_range_slider,\n",
    "    date_start=start_date_picker, date_end=end_date_picker\n",
    ")\n",
    "\n",
    "pn.Column(widgets, date_range_slider, bound_plot_1, bound_plot_2, bound_plot_3)\n"
   ]
  },
  {
   "cell_type": "code",
   "execution_count": null,
   "metadata": {},
   "outputs": [],
   "source": [
    "pn.template.MaterialTemplate(\n",
    "    site=\"Panel\",\n",
    "    title=\"Prueba App\",\n",
    "    sidebar=[folder_option_widget, start_date_picker, end_date_picker],\n",
    "    main=[date_range_slider, bound_plot_1, bound_plot_2, bound_plot_3],\n",
    ").servable();"
   ]
  },
  {
   "cell_type": "code",
   "execution_count": null,
   "metadata": {},
   "outputs": [],
   "source": []
  }
 ],
 "metadata": {
  "kernelspec": {
   "display_name": "dashboard",
   "language": "python",
   "name": "python3"
  },
  "language_info": {
   "codemirror_mode": {
    "name": "ipython",
    "version": 3
   },
   "file_extension": ".py",
   "mimetype": "text/x-python",
   "name": "python",
   "nbconvert_exporter": "python",
   "pygments_lexer": "ipython3",
   "version": "3.9.19"
  }
 },
 "nbformat": 4,
 "nbformat_minor": 2
}
