{
 "cells": [
  {
   "cell_type": "markdown",
   "id": "1b13a876-4342-4070-bd06-8718d78cdf19",
   "metadata": {},
   "source": [
    "# Factor Analysis (FA)\n",
    "\n",
    "#### References\n",
    "\n",
    "- [Exploratory Factor Analysis](https://www.earthinversion.com/geophysics/exploratory-factor-analysis/)\n",
    "- [Factor Analysis](https://www.datasklr.com/principal-component-analysis-and-factor-analysis/factor-analysis)"
   ]
  },
  {
   "cell_type": "code",
   "execution_count": 1,
   "id": "b4619dae-f607-457e-bd15-c4fb5786d240",
   "metadata": {},
   "outputs": [],
   "source": [
    "%%capture\n",
    "!pip install factor_analyzer"
   ]
  },
  {
   "cell_type": "code",
   "execution_count": 4,
   "id": "5249827d-a0a3-4fb3-a17d-c17d87a2a924",
   "metadata": {},
   "outputs": [],
   "source": [
    "%matplotlib inline\n",
    "import pandas as pd\n",
    "import matplotlib.pyplot as plt\n",
    "import numpy as np\n",
    "from sklearn.decomposition import FactorAnalysis\n",
    "from sklearn.preprocessing import StandardScaler\n",
    "\n",
    "from factor_analyzer import FactorAnalyzer\n",
    "from factor_analyzer.factor_analyzer import calculate_bartlett_sphericity\n",
    "from factor_analyzer.factor_analyzer import calculate_kmo\n",
    "\n",
    "from sklearn import datasets"
   ]
  },
  {
   "cell_type": "markdown",
   "id": "1f540696-db33-4467-890c-fd42eba4a08e",
   "metadata": {},
   "source": [
    "## Iris dataset"
   ]
  },
  {
   "cell_type": "code",
   "execution_count": 9,
   "id": "6221587d-23a3-4b3d-abf9-d15eb0caea0c",
   "metadata": {},
   "outputs": [
    {
     "data": {
      "text/plain": [
       "((150, 4), (150, 4), (150,))"
      ]
     },
     "execution_count": 9,
     "metadata": {},
     "output_type": "execute_result"
    }
   ],
   "source": [
    "# load data\n",
    "X, y = datasets.load_iris(return_X_y=True)\n",
    "X = pd.DataFrame(data=X, columns=['Sepal length', 'Sepal width', 'Petal length', 'Petal width'])\n",
    "y = pd.Series(y).map({0: 'Setosa', 1: 'Versicolor', 2: 'Virginica'})\n",
    "# Standardizing the features\n",
    "X_scaled = pd.DataFrame(StandardScaler().fit_transform(X), columns = X.columns)\n",
    "# display\n",
    "X_scaled.shape, X.shape, y.shape"
   ]
  },
  {
   "cell_type": "markdown",
   "id": "87c0b5e7-3e52-41dd-90b7-d348ca035d8a",
   "metadata": {},
   "source": [
    "## Adequacy Test\n",
    "\n",
    "Before we perform factor analysis, we need to evaluate the “factorability” of our dataset. Factorability means “can we find the factors in the dataset?”. \n",
    "\n",
    "There are two methods to check the factorability:\n",
    "\n",
    "- Bartlett’s Test\n",
    "- Kaiser-Meyer-Olkin Test"
   ]
  },
  {
   "cell_type": "markdown",
   "id": "98893961-263b-4006-8efb-d0f2566ea872",
   "metadata": {},
   "source": [
    "### Bartlett’s Test\n",
    "\n",
    "Bartlett’s test of sphericity checks whether or not the observed variables intercorrelate at all using the observed correlation matrix against the identity matrix. If the test found statistically insignificant, we should not employ a factor analysis."
   ]
  },
  {
   "cell_type": "code",
   "execution_count": 10,
   "id": "086e0a25-61a7-44f7-b891-7810fd92a503",
   "metadata": {},
   "outputs": [
    {
     "data": {
      "text/plain": [
       "(710.8879087307147, 2.7265151921758875e-150)"
      ]
     },
     "execution_count": 10,
     "metadata": {},
     "output_type": "execute_result"
    }
   ],
   "source": [
    "chi_square_value,p_value=calculate_bartlett_sphericity(X_scaled)\n",
    "chi_square_value, p_value"
   ]
  },
  {
   "cell_type": "markdown",
   "id": "1fbb7a22-fe3e-468b-ba46-3e7c01001245",
   "metadata": {},
   "source": [
    "### Kaiser-Meyer-Olkin (KMO) Test\n",
    "\n",
    "It is a statistic that indicates the proportion of variance in our variables that might be caused by underlying factors. High values (close to 1.0) generally indicate that a factor analysis may be useful with our data. If the value is less than 0.50, the results of the factor analysis probably won’t be very useful."
   ]
  },
  {
   "cell_type": "code",
   "execution_count": 13,
   "id": "3f4f28d5-a368-4d8e-be44-e42bb5615eae",
   "metadata": {},
   "outputs": [
    {
     "data": {
      "text/plain": [
       "0.5367519348790604"
      ]
     },
     "execution_count": 13,
     "metadata": {},
     "output_type": "execute_result"
    }
   ],
   "source": [
    "kmo_all,kmo_model=calculate_kmo(X_scaled)\n",
    "kmo_model"
   ]
  },
  {
   "cell_type": "markdown",
   "id": "a0b6837d-4feb-4c52-b282-58610a5d61d7",
   "metadata": {},
   "source": [
    "## Number of factors selection\n",
    "\n",
    "The eigenvalue is a good criterion for determining the number of factors. Generally, an eigenvalue greater than 1 will be considered as selection criteria for the feature."
   ]
  },
  {
   "cell_type": "code",
   "execution_count": 18,
   "id": "853ed900-54ac-4e33-aa02-55282b36cae0",
   "metadata": {},
   "outputs": [
    {
     "data": {
      "text/plain": [
       "array([2.91849782, 0.91403047, 0.14675688, 0.02071484])"
      ]
     },
     "execution_count": 18,
     "metadata": {},
     "output_type": "execute_result"
    }
   ],
   "source": [
    "#EXPLORATORY FACTOR ANALYSIS\n",
    "fa = FactorAnalyzer(X_scaled.shape[1], rotation=None)\n",
    "fa.fit(X_scaled)\n",
    "#GET EIGENVALUES\n",
    "ev, cfef = fa.get_eigenvalues()\n",
    "ev"
   ]
  },
  {
   "cell_type": "code",
   "execution_count": 21,
   "id": "9be91dd5-e644-4a3f-8514-39b7fbf58558",
   "metadata": {},
   "outputs": [
    {
     "data": {
      "image/png": "[encoded data removed]",
      "text/plain": [
       "<Figure size 432x288 with 1 Axes>"
      ]
     },
     "metadata": {
      "needs_background": "light"
     },
     "output_type": "display_data"
    }
   ],
   "source": [
    "# SCREEPLOT (need pyplot)\n",
    "plt.scatter(range(1,X_scaled.shape[1]+1),ev)\n",
    "plt.plot(range(1,X_scaled.shape[1]+1),ev)\n",
    "plt.title('Scree Plot')\n",
    "plt.xlabel('Factors')\n",
    "plt.ylabel('Eigenvalue')\n",
    "plt.axhline(y=1,c='red')\n",
    "plt.grid()\n",
    "plt.show()"
   ]
  },
  {
   "cell_type": "markdown",
   "id": "d8906ada-2b46-4341-b601-ef0447e579d1",
   "metadata": {},
   "source": [
    "## Factor Analysis"
   ]
  },
  {
   "cell_type": "code",
   "execution_count": 35,
   "id": "2d7a7501-b636-4c06-adb0-d2491685887f",
   "metadata": {},
   "outputs": [
    {
     "data": {
      "text/plain": [
       "FactorAnalyzer(n_factors=2, rotation='varimax', rotation_kwargs={})"
      ]
     },
     "execution_count": 35,
     "metadata": {},
     "output_type": "execute_result"
    }
   ],
   "source": [
    "# Create factor analysis object and perform factor analysis\n",
    "num_factors = 2\n",
    "fa = FactorAnalyzer(num_factors, rotation=\"varimax\", method='minres', use_smc=True)\n",
    "fa.fit(X_scaled)"
   ]
  },
  {
   "cell_type": "markdown",
   "id": "669ad589-d447-4b9c-87e4-cffb12cae8cf",
   "metadata": {},
   "source": [
    "#### factor loadings\n",
    "The factor loading is a matrix which shows the relationship of each variable to the underlying factor. It shows the correlation coefficient for the observed variable and factor. It shows the variance explained by the observed variables (source)."
   ]
  },
  {
   "cell_type": "code",
   "execution_count": 36,
   "id": "2648a8bc-149c-414f-8822-c509e706d6a4",
   "metadata": {},
   "outputs": [
    {
     "data": {
      "text/html": [
       "<style  type=\"text/css\" >\n",
       "#T_2e8b5178_0ba0_11ed_8207_acde48001122row0_col0{\n",
       "            background-color:  #dae319;\n",
       "            color:  #000000;\n",
       "        }#T_2e8b5178_0ba0_11ed_8207_acde48001122row0_col1{\n",
       "            background-color:  #3d4e8a;\n",
       "            color:  #f1f1f1;\n",
       "        }#T_2e8b5178_0ba0_11ed_8207_acde48001122row1_col0,#T_2e8b5178_0ba0_11ed_8207_acde48001122row2_col1{\n",
       "            background-color:  #440154;\n",
       "            color:  #f1f1f1;\n",
       "        }#T_2e8b5178_0ba0_11ed_8207_acde48001122row1_col1,#T_2e8b5178_0ba0_11ed_8207_acde48001122row2_col0{\n",
       "            background-color:  #fde725;\n",
       "            color:  #000000;\n",
       "        }#T_2e8b5178_0ba0_11ed_8207_acde48001122row3_col0{\n",
       "            background-color:  #e7e419;\n",
       "            color:  #000000;\n",
       "        }#T_2e8b5178_0ba0_11ed_8207_acde48001122row3_col1{\n",
       "            background-color:  #471063;\n",
       "            color:  #f1f1f1;\n",
       "        }</style><table id=\"T_2e8b5178_0ba0_11ed_8207_acde48001122\" ><thead>    <tr>        <th class=\"blank level0\" ></th>        <th class=\"col_heading level0 col0\" >Factor 1</th>        <th class=\"col_heading level0 col1\" >Factor 2</th>    </tr></thead><tbody>\n",
       "                <tr>\n",
       "                        <th id=\"T_2e8b5178_0ba0_11ed_8207_acde48001122level0_row0\" class=\"row_heading level0 row0\" >Sepal length</th>\n",
       "                        <td id=\"T_2e8b5178_0ba0_11ed_8207_acde48001122row0_col0\" class=\"data row0 col0\" >0.901205</td>\n",
       "                        <td id=\"T_2e8b5178_0ba0_11ed_8207_acde48001122row0_col1\" class=\"data row0 col1\" >0.017890</td>\n",
       "            </tr>\n",
       "            <tr>\n",
       "                        <th id=\"T_2e8b5178_0ba0_11ed_8207_acde48001122level0_row1\" class=\"row_heading level0 row1\" >Sepal width</th>\n",
       "                        <td id=\"T_2e8b5178_0ba0_11ed_8207_acde48001122row1_col0\" class=\"data row1 col0\" >-0.150413</td>\n",
       "                        <td id=\"T_2e8b5178_0ba0_11ed_8207_acde48001122row1_col1\" class=\"data row1 col1\" >0.986195</td>\n",
       "            </tr>\n",
       "            <tr>\n",
       "                        <th id=\"T_2e8b5178_0ba0_11ed_8207_acde48001122level0_row2\" class=\"row_heading level0 row2\" >Petal length</th>\n",
       "                        <td id=\"T_2e8b5178_0ba0_11ed_8207_acde48001122row2_col0\" class=\"data row2 col0\" >0.964153</td>\n",
       "                        <td id=\"T_2e8b5178_0ba0_11ed_8207_acde48001122row2_col1\" class=\"data row2 col1\" >-0.284619</td>\n",
       "            </tr>\n",
       "            <tr>\n",
       "                        <th id=\"T_2e8b5178_0ba0_11ed_8207_acde48001122level0_row3\" class=\"row_heading level0 row3\" >Petal width</th>\n",
       "                        <td id=\"T_2e8b5178_0ba0_11ed_8207_acde48001122row3_col0\" class=\"data row3 col0\" >0.921401</td>\n",
       "                        <td id=\"T_2e8b5178_0ba0_11ed_8207_acde48001122row3_col1\" class=\"data row3 col1\" >-0.233245</td>\n",
       "            </tr>\n",
       "    </tbody></table>"
      ],
      "text/plain": [
       "<pandas.io.formats.style.Styler at 0x7fc1247077b8>"
      ]
     },
     "execution_count": 36,
     "metadata": {},
     "output_type": "execute_result"
    }
   ],
   "source": [
    "loadings = pd.DataFrame(fa.loadings_, columns=[f'Factor {i}' for i in range(1,num_factors+1)], index=X_scaled.columns)\n",
    "loadings.style.background_gradient(cmap='viridis')"
   ]
  },
  {
   "cell_type": "markdown",
   "id": "cc6ca5bf-9ae9-4e36-b650-a859a818ee69",
   "metadata": {},
   "source": [
    "#### variance for each factor"
   ]
  },
  {
   "cell_type": "code",
   "execution_count": 40,
   "id": "d8817e19-24e8-4f32-b300-6e4ab106d7d8",
   "metadata": {},
   "outputs": [
    {
     "data": {
      "text/html": [
       "<div>\n",
       "<style scoped>\n",
       "    .dataframe tbody tr th:only-of-type {\n",
       "        vertical-align: middle;\n",
       "    }\n",
       "\n",
       "    .dataframe tbody tr th {\n",
       "        vertical-align: top;\n",
       "    }\n",
       "\n",
       "    .dataframe thead th {\n",
       "        text-align: right;\n",
       "    }\n",
       "</style>\n",
       "<table border=\"1\" class=\"dataframe\">\n",
       "  <thead>\n",
       "    <tr style=\"text-align: right;\">\n",
       "      <th></th>\n",
       "      <th>Factor 1</th>\n",
       "      <th>Factor 2</th>\n",
       "    </tr>\n",
       "  </thead>\n",
       "  <tbody>\n",
       "    <tr>\n",
       "      <th>SS Loadings</th>\n",
       "      <td>2.613367</td>\n",
       "      <td>1.108312</td>\n",
       "    </tr>\n",
       "    <tr>\n",
       "      <th>Porportion var</th>\n",
       "      <td>0.653342</td>\n",
       "      <td>0.277078</td>\n",
       "    </tr>\n",
       "    <tr>\n",
       "      <th>Cumulative var</th>\n",
       "      <td>0.653342</td>\n",
       "      <td>0.930420</td>\n",
       "    </tr>\n",
       "  </tbody>\n",
       "</table>\n",
       "</div>"
      ],
      "text/plain": [
       "                Factor 1  Factor 2\n",
       "SS Loadings     2.613367  1.108312\n",
       "Porportion var  0.653342  0.277078\n",
       "Cumulative var  0.653342  0.930420"
      ]
     },
     "execution_count": 40,
     "metadata": {},
     "output_type": "execute_result"
    }
   ],
   "source": [
    "fa_variances = pd.DataFrame(fa.get_factor_variance(), columns = [f'Factor {i}' for i in range(1,num_factors+1)], index = [\"SS Loadings\", \"Porportion var\", \"Cumulative var\"])\n",
    "fa_variances"
   ]
  },
  {
   "cell_type": "code",
   "execution_count": 44,
   "id": "59cd1f8f-f158-48d9-9a94-5db54e07fe69",
   "metadata": {},
   "outputs": [
    {
     "name": "stdout",
     "output_type": "stream",
     "text": [
      "Total cumulative variance explained by the all factors = 93.04199356626795%\n"
     ]
    }
   ],
   "source": [
    "print(f\"Total cumulative variance explained by the all factors = {fa.get_factor_variance()[2][-1] * 100.}%\")"
   ]
  },
  {
   "cell_type": "markdown",
   "id": "464a8690-b72f-4fe6-a3df-180da238437d",
   "metadata": {},
   "source": [
    "#### Conclusiones\n",
    "\n",
    "- Segun el primer factor, sepal length y petal guardan mucha informacion en comun mientras que sepal width va por libre.\n",
    "- El analisis explica gran parte de la variabilidad de los datos (93%)."
   ]
  },
  {
   "cell_type": "code",
   "execution_count": null,
   "id": "278c334a-b9fa-4705-b705-120cd3b6bac9",
   "metadata": {},
   "outputs": [],
   "source": []
  }
 ],
 "metadata": {
  "kernelspec": {
   "display_name": "analysis",
   "language": "python",
   "name": "analysis"
  },
  "language_info": {
   "codemirror_mode": {
    "name": "ipython",
    "version": 3
   },
   "file_extension": ".py",
   "mimetype": "text/x-python",
   "name": "python",
   "nbconvert_exporter": "python",
   "pygments_lexer": "ipython3",
   "version": "3.7.0"
  }
 },
 "nbformat": 4,
 "nbformat_minor": 5
}
