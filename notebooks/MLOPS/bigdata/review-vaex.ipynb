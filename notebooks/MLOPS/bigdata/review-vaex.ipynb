{
 "cells": [
  {
   "cell_type": "markdown",
   "id": "60e99fc0",
   "metadata": {},
   "source": [
    "# VAEX: review\n",
    "\n",
    "Vaex is a high performance Python library for lazy Out-of-Core DataFrames (similar to Pandas), to visualize and explore big tabular datasets. \n",
    "\n",
    "### References:\n",
    "\n",
    "- [x] [Github](https://github.com/vaexio/vaex)\n",
    "- [ ] [Vaex API Documentation](https://vaex.io/docs/api.html)\n",
    "- [x] [Documentation: NY taxi dataset](https://vaex.io/docs/datasets.html)\n",
    "- [x] [Vaex introduction in 11 minutes](https://vaex.readthedocs.io/en/latest/tutorial.html)\n",
    "- [ ] [8 incredibly powerful Vaex features you might have not known about](https://vaex.io/blog/8-incredibly-powerful-Vaex-features-you-might-have-not-known-about)"
   ]
  },
  {
   "cell_type": "code",
   "execution_count": 1,
   "id": "309bc38d",
   "metadata": {},
   "outputs": [
    {
     "data": {
      "text/plain": [
       "{'vaex': '4.17.0',\n",
       " 'vaex-core': '4.17.1',\n",
       " 'vaex-viz': '0.5.4',\n",
       " 'vaex-hdf5': '0.14.1',\n",
       " 'vaex-server': '0.9.0',\n",
       " 'vaex-astro': '0.9.3',\n",
       " 'vaex-jupyter': '0.8.2',\n",
       " 'vaex-ml': '0.18.3'}"
      ]
     },
     "execution_count": 1,
     "metadata": {},
     "output_type": "execute_result"
    }
   ],
   "source": [
    "%matplotlib inline\n",
    "import os\n",
    "import vaex\n",
    "import warnings; warnings.filterwarnings(\"ignore\")\n",
    "import time\n",
    "vaex.__version__"
   ]
  },
  {
   "cell_type": "markdown",
   "id": "8a095dff",
   "metadata": {},
   "source": [
    "# load big data file"
   ]
  },
  {
   "cell_type": "code",
   "execution_count": 2,
   "id": "f74ac002",
   "metadata": {},
   "outputs": [
    {
     "name": "stdout",
     "output_type": "stream",
     "text": [
      "time: 6.472127914428711 seconds\n",
      "number of rows: 183,821,926\n",
      "number of columns: 29\n",
      "<class 'vaex.dataframe.DataFrameLocal'>\n"
     ]
    }
   ],
   "source": [
    "# load remote data\n",
    "start = time.time()\n",
    "df = vaex.open('s3://vaex/airline/us_airline_data_1988_2018.hdf5?anon=true')\n",
    "end = time.time()\n",
    "print('time: {} seconds'.format(end - start))\n",
    "# dimenssions\n",
    "print(f'number of rows: {df.shape[0]:,}')\n",
    "print(f'number of columns: {df.shape[1]}')\n",
    "# object type confirmation\n",
    "print(type(df))"
   ]
  },
  {
   "cell_type": "code",
   "execution_count": 3,
   "id": "be336a98",
   "metadata": {},
   "outputs": [
    {
     "data": {
      "text/html": [
       "<style>.vaex-description pre {\n",
       "          max-width : 450px;\n",
       "          white-space : nowrap;\n",
       "          overflow : hidden;\n",
       "          text-overflow: ellipsis;\n",
       "        }\n",
       "\n",
       "        .vex-description pre:hover {\n",
       "          max-width : initial;\n",
       "          white-space: pre;\n",
       "        }</style>"
      ],
      "text/plain": [
       "<IPython.core.display.HTML object>"
      ]
     },
     "metadata": {},
     "output_type": "display_data"
    },
    {
     "data": {
      "text/html": [
       "<div><h2>us_airline_data_1988_2018</h2> <b>rows</b>: 183,821,926</div><h2>Columns:</h2><table class='table-striped'><thead><tr><th>column</th><th>type</th><th>unit</th><th>description</th><th>expression</th></tr></thead><tr><td>Year</td><td>int16</td><td></td><td ><pre></pre></td><td></td></tr><tr><td>Month</td><td>int8</td><td></td><td ><pre></pre></td><td></td></tr><tr><td>DayOfMonth</td><td>int16</td><td></td><td ><pre></pre></td><td></td></tr><tr><td>DayOfWeek</td><td>int8</td><td></td><td ><pre></pre></td><td></td></tr><tr><td>UniqueCarrier</td><td>str</td><td></td><td ><pre></pre></td><td></td></tr><tr><td>TailNum</td><td>str</td><td></td><td ><pre></pre></td><td></td></tr><tr><td>FlightNum</td><td>int16</td><td></td><td ><pre></pre></td><td></td></tr><tr><td>Origin</td><td>str</td><td></td><td ><pre></pre></td><td></td></tr><tr><td>Dest</td><td>str</td><td></td><td ><pre></pre></td><td></td></tr><tr><td>CRSDepTime</td><td>int16</td><td></td><td ><pre></pre></td><td></td></tr><tr><td>DepTime</td><td>int16</td><td></td><td ><pre></pre></td><td></td></tr><tr><td>DepDelay</td><td>int16</td><td></td><td ><pre></pre></td><td></td></tr><tr><td>TaxiOut</td><td>int16</td><td></td><td ><pre></pre></td><td></td></tr><tr><td>TaxiIn</td><td>int16</td><td></td><td ><pre></pre></td><td></td></tr><tr><td>CRSArrTime</td><td>int16</td><td></td><td ><pre></pre></td><td></td></tr><tr><td>ArrTime</td><td>int16</td><td></td><td ><pre></pre></td><td></td></tr><tr><td>ArrDelay</td><td>int16</td><td></td><td ><pre></pre></td><td></td></tr><tr><td>Cancelled</td><td>int8</td><td></td><td ><pre></pre></td><td></td></tr><tr><td>CancellationCode</td><td>str</td><td></td><td ><pre></pre></td><td></td></tr><tr><td>Diverted</td><td>int8</td><td></td><td ><pre></pre></td><td></td></tr><tr><td>CRSElapsedTime</td><td>int16</td><td></td><td ><pre></pre></td><td></td></tr><tr><td>ActualElapsedTime</td><td>int16</td><td></td><td ><pre></pre></td><td></td></tr><tr><td>AirTime</td><td>int16</td><td></td><td ><pre></pre></td><td></td></tr><tr><td>Distance</td><td>int16</td><td></td><td ><pre></pre></td><td></td></tr><tr><td>CarrierDelay</td><td>int16</td><td></td><td ><pre></pre></td><td></td></tr><tr><td>WeatherDelay</td><td>int16</td><td></td><td ><pre></pre></td><td></td></tr><tr><td>NASDelay</td><td>int16</td><td></td><td ><pre></pre></td><td></td></tr><tr><td>SecurityDelay</td><td>int16</td><td></td><td ><pre></pre></td><td></td></tr><tr><td>LateAircraftDelay</td><td>int16</td><td></td><td ><pre></pre></td><td></td></tr></table><h2>Data:</h2><table>\n",
       "<thead>\n",
       "<tr><th>#                                      </th><th>Year  </th><th>Month  </th><th>DayOfMonth  </th><th>DayOfWeek  </th><th>UniqueCarrier  </th><th>TailNum  </th><th>FlightNum  </th><th>Origin  </th><th>Dest  </th><th>CRSDepTime  </th><th>DepTime  </th><th>DepDelay  </th><th>TaxiOut  </th><th>TaxiIn  </th><th>CRSArrTime  </th><th>ArrTime  </th><th>ArrDelay  </th><th>Cancelled  </th><th>CancellationCode  </th><th>Diverted  </th><th>CRSElapsedTime  </th><th>ActualElapsedTime  </th><th>AirTime  </th><th>Distance  </th><th>CarrierDelay  </th><th>WeatherDelay  </th><th>NASDelay  </th><th>SecurityDelay  </th><th>LateAircraftDelay  </th></tr>\n",
       "</thead>\n",
       "<tbody>\n",
       "<tr><td><i style='opacity: 0.6'>0</i>          </td><td>1988  </td><td>1      </td><td>8           </td><td>5          </td><td>PI             </td><td>None     </td><td>930        </td><td>BGM     </td><td>ITH   </td><td>1525        </td><td>1532     </td><td>7         </td><td>--       </td><td>--      </td><td>1545        </td><td>1555     </td><td>10        </td><td>0          </td><td>None              </td><td>0         </td><td>20              </td><td>23                 </td><td>--       </td><td>32        </td><td>--            </td><td>--            </td><td>--        </td><td>--             </td><td>--                 </td></tr>\n",
       "<tr><td><i style='opacity: 0.6'>1</i>          </td><td>1988  </td><td>1      </td><td>9           </td><td>6          </td><td>PI             </td><td>None     </td><td>930        </td><td>BGM     </td><td>ITH   </td><td>1525        </td><td>1522     </td><td>-3        </td><td>--       </td><td>--      </td><td>1545        </td><td>1535     </td><td>-10       </td><td>0          </td><td>None              </td><td>0         </td><td>20              </td><td>13                 </td><td>--       </td><td>32        </td><td>--            </td><td>--            </td><td>--        </td><td>--             </td><td>--                 </td></tr>\n",
       "<tr><td><i style='opacity: 0.6'>2</i>          </td><td>1988  </td><td>1      </td><td>10          </td><td>7          </td><td>PI             </td><td>None     </td><td>930        </td><td>BGM     </td><td>ITH   </td><td>1525        </td><td>1522     </td><td>-3        </td><td>--       </td><td>--      </td><td>1545        </td><td>1534     </td><td>-11       </td><td>0          </td><td>None              </td><td>0         </td><td>20              </td><td>12                 </td><td>--       </td><td>32        </td><td>--            </td><td>--            </td><td>--        </td><td>--             </td><td>--                 </td></tr>\n",
       "<tr><td><i style='opacity: 0.6'>3</i>          </td><td>1988  </td><td>1      </td><td>11          </td><td>1          </td><td>PI             </td><td>None     </td><td>930        </td><td>BGM     </td><td>ITH   </td><td>1525        </td><td>--       </td><td>--        </td><td>--       </td><td>--      </td><td>1545        </td><td>--       </td><td>--        </td><td>1          </td><td>None              </td><td>0         </td><td>20              </td><td>--                 </td><td>--       </td><td>32        </td><td>--            </td><td>--            </td><td>--        </td><td>--             </td><td>--                 </td></tr>\n",
       "<tr><td><i style='opacity: 0.6'>4</i>          </td><td>1988  </td><td>1      </td><td>12          </td><td>2          </td><td>PI             </td><td>None     </td><td>930        </td><td>BGM     </td><td>ITH   </td><td>1525        </td><td>1524     </td><td>-1        </td><td>--       </td><td>--      </td><td>1545        </td><td>1540     </td><td>-5        </td><td>0          </td><td>None              </td><td>0         </td><td>20              </td><td>16                 </td><td>--       </td><td>32        </td><td>--            </td><td>--            </td><td>--        </td><td>--             </td><td>--                 </td></tr>\n",
       "<tr><td>...                                    </td><td>...   </td><td>...    </td><td>...         </td><td>...        </td><td>...            </td><td>...      </td><td>...        </td><td>...     </td><td>...   </td><td>...         </td><td>...      </td><td>...       </td><td>...      </td><td>...     </td><td>...         </td><td>...      </td><td>...       </td><td>...        </td><td>...               </td><td>...       </td><td>...             </td><td>...                </td><td>...      </td><td>...       </td><td>...           </td><td>...           </td><td>...       </td><td>...            </td><td>...                </td></tr>\n",
       "<tr><td><i style='opacity: 0.6'>183,821,921</i></td><td>2018  </td><td>12     </td><td>27          </td><td>4          </td><td>DL             </td><td>N705TW   </td><td>864        </td><td>JFK     </td><td>SLC   </td><td>935         </td><td>929      </td><td>-6        </td><td>28       </td><td>9       </td><td>1311        </td><td>1230     </td><td>-41       </td><td>0          </td><td>None              </td><td>0         </td><td>336             </td><td>301                </td><td>264      </td><td>1990      </td><td>--            </td><td>--            </td><td>--        </td><td>--             </td><td>--                 </td></tr>\n",
       "<tr><td><i style='opacity: 0.6'>183,821,922</i></td><td>2018  </td><td>12     </td><td>27          </td><td>4          </td><td>DL             </td><td>N336NB   </td><td>865        </td><td>MSP     </td><td>SLC   </td><td>1035        </td><td>1030     </td><td>-5        </td><td>14       </td><td>10      </td><td>1240        </td><td>1214     </td><td>-26       </td><td>0          </td><td>None              </td><td>0         </td><td>185             </td><td>164                </td><td>140      </td><td>991       </td><td>--            </td><td>--            </td><td>--        </td><td>--             </td><td>--                 </td></tr>\n",
       "<tr><td><i style='opacity: 0.6'>183,821,923</i></td><td>2018  </td><td>12     </td><td>27          </td><td>4          </td><td>DL             </td><td>N945DN   </td><td>866        </td><td>DEN     </td><td>MSP   </td><td>1054        </td><td>1100     </td><td>6         </td><td>10       </td><td>5       </td><td>1353        </td><td>1350     </td><td>-3        </td><td>0          </td><td>None              </td><td>0         </td><td>119             </td><td>110                </td><td>95       </td><td>680       </td><td>--            </td><td>--            </td><td>--        </td><td>--             </td><td>--                 </td></tr>\n",
       "<tr><td><i style='opacity: 0.6'>183,821,924</i></td><td>2018  </td><td>12     </td><td>27          </td><td>4          </td><td>DL             </td><td>N945DN   </td><td>866        </td><td>MSP     </td><td>DEN   </td><td>850         </td><td>850      </td><td>0         </td><td>15       </td><td>8       </td><td>1010        </td><td>951      </td><td>-19       </td><td>0          </td><td>None              </td><td>0         </td><td>140             </td><td>121                </td><td>98       </td><td>680       </td><td>--            </td><td>--            </td><td>--        </td><td>--             </td><td>--                 </td></tr>\n",
       "<tr><td><i style='opacity: 0.6'>183,821,925</i></td><td>2018  </td><td>12     </td><td>27          </td><td>4          </td><td>DL             </td><td>N901DE   </td><td>867        </td><td>ATL     </td><td>SYR   </td><td>1455        </td><td>1500     </td><td>5         </td><td>19       </td><td>3       </td><td>1703        </td><td>1703     </td><td>0         </td><td>0          </td><td>None              </td><td>0         </td><td>128             </td><td>123                </td><td>101      </td><td>794       </td><td>--            </td><td>--            </td><td>--        </td><td>--             </td><td>--                 </td></tr>\n",
       "</tbody>\n",
       "</table>"
      ],
      "text/plain": [
       "<IPython.core.display.HTML object>"
      ]
     },
     "metadata": {},
     "output_type": "display_data"
    }
   ],
   "source": [
    "# get basic information\n",
    "df.info()"
   ]
  },
  {
   "cell_type": "markdown",
   "id": "14f527a3",
   "metadata": {},
   "source": [
    "# load iris file"
   ]
  },
  {
   "cell_type": "code",
   "execution_count": 4,
   "id": "356838df",
   "metadata": {},
   "outputs": [
    {
     "data": {
      "text/plain": [
       "['iris_dataset.parquet', 'iris_dataset.csv']"
      ]
     },
     "execution_count": 4,
     "metadata": {},
     "output_type": "execute_result"
    }
   ],
   "source": [
    "folder_data = '../../../data'\n",
    "os.listdir(folder_data)"
   ]
  },
  {
   "cell_type": "markdown",
   "id": "76eeef3f",
   "metadata": {},
   "source": [
    "## csv"
   ]
  },
  {
   "cell_type": "code",
   "execution_count": 5,
   "id": "b1532b27",
   "metadata": {},
   "outputs": [
    {
     "name": "stdout",
     "output_type": "stream",
     "text": [
      "time: 0.03244209289550781 seconds\n",
      "number of rows: 150\n",
      "number of columns: 5\n",
      "<class 'vaex.dataframe.DataFrameLocal'>\n"
     ]
    }
   ],
   "source": [
    "start = time.time()\n",
    "df = vaex.open(os.path.join(folder_data, 'iris_dataset.csv'))\n",
    "end = time.time()\n",
    "print('time: {} seconds'.format(end - start))\n",
    "# dimenssions\n",
    "print(f'number of rows: {df.shape[0]:,}')\n",
    "print(f'number of columns: {df.shape[1]}')\n",
    "# object type confirmation\n",
    "print(type(df))\n",
    "\n"
   ]
  },
  {
   "cell_type": "markdown",
   "id": "c79e3b52",
   "metadata": {},
   "source": [
    "## parquet"
   ]
  },
  {
   "cell_type": "code",
   "execution_count": 6,
   "id": "4863aa29",
   "metadata": {},
   "outputs": [
    {
     "name": "stdout",
     "output_type": "stream",
     "text": [
      "time: 0.048711299896240234 seconds\n",
      "number of rows: 150\n",
      "number of columns: 5\n",
      "<class 'vaex.dataframe.DataFrameLocal'>\n"
     ]
    }
   ],
   "source": [
    "start = time.time()\n",
    "df = vaex.open(os.path.join(folder_data, 'iris_dataset.parquet'))\n",
    "end = time.time()\n",
    "print('time: {} seconds'.format(end - start))\n",
    "# dimenssions\n",
    "print(f'number of rows: {df.shape[0]:,}')\n",
    "print(f'number of columns: {df.shape[1]}')\n",
    "# object type confirmation\n",
    "print(type(df))"
   ]
  },
  {
   "cell_type": "code",
   "execution_count": 7,
   "id": "00c22c3c",
   "metadata": {},
   "outputs": [
    {
     "data": {
      "text/html": [
       "<style>.vaex-description pre {\n",
       "          max-width : 450px;\n",
       "          white-space : nowrap;\n",
       "          overflow : hidden;\n",
       "          text-overflow: ellipsis;\n",
       "        }\n",
       "\n",
       "        .vex-description pre:hover {\n",
       "          max-width : initial;\n",
       "          white-space: pre;\n",
       "        }</style>"
      ],
      "text/plain": [
       "<IPython.core.display.HTML object>"
      ]
     },
     "metadata": {},
     "output_type": "display_data"
    },
    {
     "data": {
      "text/html": [
       "<div><h2>no-name</h2> <b>rows</b>: 150</div><h2>Columns:</h2><table class='table-striped'><thead><tr><th>column</th><th>type</th><th>unit</th><th>description</th><th>expression</th></tr></thead><tr><td>sepal.length</td><td>float64</td><td></td><td ><pre></pre></td><td></td></tr><tr><td>sepal.width</td><td>float64</td><td></td><td ><pre></pre></td><td></td></tr><tr><td>petal.length</td><td>float64</td><td></td><td ><pre></pre></td><td></td></tr><tr><td>petal.width</td><td>float64</td><td></td><td ><pre></pre></td><td></td></tr><tr><td>variety</td><td>str</td><td></td><td ><pre></pre></td><td></td></tr></table><h2>Data:</h2><table>\n",
       "<thead>\n",
       "<tr><th>#                              </th><th>sepal.length  </th><th>sepal.width  </th><th>petal.length  </th><th>petal.width  </th><th>variety  </th></tr>\n",
       "</thead>\n",
       "<tbody>\n",
       "<tr><td><i style='opacity: 0.6'>0</i>  </td><td>5.1           </td><td>3.5          </td><td>1.4           </td><td>0.2          </td><td>Setosa   </td></tr>\n",
       "<tr><td><i style='opacity: 0.6'>1</i>  </td><td>4.9           </td><td>3.0          </td><td>1.4           </td><td>0.2          </td><td>Setosa   </td></tr>\n",
       "<tr><td><i style='opacity: 0.6'>2</i>  </td><td>4.7           </td><td>3.2          </td><td>1.3           </td><td>0.2          </td><td>Setosa   </td></tr>\n",
       "<tr><td><i style='opacity: 0.6'>3</i>  </td><td>4.6           </td><td>3.1          </td><td>1.5           </td><td>0.2          </td><td>Setosa   </td></tr>\n",
       "<tr><td><i style='opacity: 0.6'>4</i>  </td><td>5.0           </td><td>3.6          </td><td>1.4           </td><td>0.2          </td><td>Setosa   </td></tr>\n",
       "<tr><td>...                            </td><td>...           </td><td>...          </td><td>...           </td><td>...          </td><td>...      </td></tr>\n",
       "<tr><td><i style='opacity: 0.6'>145</i></td><td>6.7           </td><td>3.0          </td><td>5.2           </td><td>2.3          </td><td>Virginica</td></tr>\n",
       "<tr><td><i style='opacity: 0.6'>146</i></td><td>6.3           </td><td>2.5          </td><td>5.0           </td><td>1.9          </td><td>Virginica</td></tr>\n",
       "<tr><td><i style='opacity: 0.6'>147</i></td><td>6.5           </td><td>3.0          </td><td>5.2           </td><td>2.0          </td><td>Virginica</td></tr>\n",
       "<tr><td><i style='opacity: 0.6'>148</i></td><td>6.2           </td><td>3.4          </td><td>5.4           </td><td>2.3          </td><td>Virginica</td></tr>\n",
       "<tr><td><i style='opacity: 0.6'>149</i></td><td>5.9           </td><td>3.0          </td><td>5.1           </td><td>1.8          </td><td>Virginica</td></tr>\n",
       "</tbody>\n",
       "</table>"
      ],
      "text/plain": [
       "<IPython.core.display.HTML object>"
      ]
     },
     "metadata": {},
     "output_type": "display_data"
    }
   ],
   "source": [
    "df.info()"
   ]
  },
  {
   "cell_type": "code",
   "execution_count": 8,
   "id": "7b891e67",
   "metadata": {},
   "outputs": [
    {
     "data": {
      "text/html": [
       "<table>\n",
       "<thead>\n",
       "<tr><th>#                            </th><th style=\"text-align: right;\">  sepal.length</th><th style=\"text-align: right;\">  sepal.width</th><th style=\"text-align: right;\">  petal.length</th><th style=\"text-align: right;\">  petal.width</th><th>variety  </th></tr>\n",
       "</thead>\n",
       "<tbody>\n",
       "<tr><td><i style='opacity: 0.6'>0</i></td><td style=\"text-align: right;\">           5.1</td><td style=\"text-align: right;\">          3.5</td><td style=\"text-align: right;\">           1.4</td><td style=\"text-align: right;\">          0.2</td><td>Setosa   </td></tr>\n",
       "<tr><td><i style='opacity: 0.6'>1</i></td><td style=\"text-align: right;\">           4.9</td><td style=\"text-align: right;\">          3  </td><td style=\"text-align: right;\">           1.4</td><td style=\"text-align: right;\">          0.2</td><td>Setosa   </td></tr>\n",
       "<tr><td><i style='opacity: 0.6'>2</i></td><td style=\"text-align: right;\">           4.7</td><td style=\"text-align: right;\">          3.2</td><td style=\"text-align: right;\">           1.3</td><td style=\"text-align: right;\">          0.2</td><td>Setosa   </td></tr>\n",
       "<tr><td><i style='opacity: 0.6'>3</i></td><td style=\"text-align: right;\">           4.6</td><td style=\"text-align: right;\">          3.1</td><td style=\"text-align: right;\">           1.5</td><td style=\"text-align: right;\">          0.2</td><td>Setosa   </td></tr>\n",
       "<tr><td><i style='opacity: 0.6'>4</i></td><td style=\"text-align: right;\">           5  </td><td style=\"text-align: right;\">          3.6</td><td style=\"text-align: right;\">           1.4</td><td style=\"text-align: right;\">          0.2</td><td>Setosa   </td></tr>\n",
       "<tr><td><i style='opacity: 0.6'>5</i></td><td style=\"text-align: right;\">           5.4</td><td style=\"text-align: right;\">          3.9</td><td style=\"text-align: right;\">           1.7</td><td style=\"text-align: right;\">          0.4</td><td>Setosa   </td></tr>\n",
       "<tr><td><i style='opacity: 0.6'>6</i></td><td style=\"text-align: right;\">           4.6</td><td style=\"text-align: right;\">          3.4</td><td style=\"text-align: right;\">           1.4</td><td style=\"text-align: right;\">          0.3</td><td>Setosa   </td></tr>\n",
       "<tr><td><i style='opacity: 0.6'>7</i></td><td style=\"text-align: right;\">           5  </td><td style=\"text-align: right;\">          3.4</td><td style=\"text-align: right;\">           1.5</td><td style=\"text-align: right;\">          0.2</td><td>Setosa   </td></tr>\n",
       "<tr><td><i style='opacity: 0.6'>8</i></td><td style=\"text-align: right;\">           4.4</td><td style=\"text-align: right;\">          2.9</td><td style=\"text-align: right;\">           1.4</td><td style=\"text-align: right;\">          0.2</td><td>Setosa   </td></tr>\n",
       "<tr><td><i style='opacity: 0.6'>9</i></td><td style=\"text-align: right;\">           4.9</td><td style=\"text-align: right;\">          3.1</td><td style=\"text-align: right;\">           1.5</td><td style=\"text-align: right;\">          0.1</td><td>Setosa   </td></tr>\n",
       "</tbody>\n",
       "</table>"
      ],
      "text/plain": [
       "  #    sepal.length    sepal.width    petal.length    petal.width  variety\n",
       "  0             5.1            3.5             1.4            0.2  Setosa\n",
       "  1             4.9            3               1.4            0.2  Setosa\n",
       "  2             4.7            3.2             1.3            0.2  Setosa\n",
       "  3             4.6            3.1             1.5            0.2  Setosa\n",
       "  4             5              3.6             1.4            0.2  Setosa\n",
       "  5             5.4            3.9             1.7            0.4  Setosa\n",
       "  6             4.6            3.4             1.4            0.3  Setosa\n",
       "  7             5              3.4             1.5            0.2  Setosa\n",
       "  8             4.4            2.9             1.4            0.2  Setosa\n",
       "  9             4.9            3.1             1.5            0.1  Setosa"
      ]
     },
     "execution_count": 8,
     "metadata": {},
     "output_type": "execute_result"
    }
   ],
   "source": [
    "df.head()"
   ]
  },
  {
   "cell_type": "code",
   "execution_count": 9,
   "id": "f9401176",
   "metadata": {},
   "outputs": [
    {
     "data": {
      "text/html": [
       "<table>\n",
       "<thead>\n",
       "<tr><th>#                            </th><th style=\"text-align: right;\">  sepal.length</th><th style=\"text-align: right;\">  sepal.width</th><th style=\"text-align: right;\">  petal.length</th><th style=\"text-align: right;\">  petal.width</th><th>variety  </th></tr>\n",
       "</thead>\n",
       "<tbody>\n",
       "<tr><td><i style='opacity: 0.6'>0</i></td><td style=\"text-align: right;\">           6.7</td><td style=\"text-align: right;\">          3.1</td><td style=\"text-align: right;\">           5.6</td><td style=\"text-align: right;\">          2.4</td><td>Virginica</td></tr>\n",
       "<tr><td><i style='opacity: 0.6'>1</i></td><td style=\"text-align: right;\">           6.9</td><td style=\"text-align: right;\">          3.1</td><td style=\"text-align: right;\">           5.1</td><td style=\"text-align: right;\">          2.3</td><td>Virginica</td></tr>\n",
       "<tr><td><i style='opacity: 0.6'>2</i></td><td style=\"text-align: right;\">           5.8</td><td style=\"text-align: right;\">          2.7</td><td style=\"text-align: right;\">           5.1</td><td style=\"text-align: right;\">          1.9</td><td>Virginica</td></tr>\n",
       "<tr><td><i style='opacity: 0.6'>3</i></td><td style=\"text-align: right;\">           6.8</td><td style=\"text-align: right;\">          3.2</td><td style=\"text-align: right;\">           5.9</td><td style=\"text-align: right;\">          2.3</td><td>Virginica</td></tr>\n",
       "<tr><td><i style='opacity: 0.6'>4</i></td><td style=\"text-align: right;\">           6.7</td><td style=\"text-align: right;\">          3.3</td><td style=\"text-align: right;\">           5.7</td><td style=\"text-align: right;\">          2.5</td><td>Virginica</td></tr>\n",
       "<tr><td><i style='opacity: 0.6'>5</i></td><td style=\"text-align: right;\">           6.7</td><td style=\"text-align: right;\">          3  </td><td style=\"text-align: right;\">           5.2</td><td style=\"text-align: right;\">          2.3</td><td>Virginica</td></tr>\n",
       "<tr><td><i style='opacity: 0.6'>6</i></td><td style=\"text-align: right;\">           6.3</td><td style=\"text-align: right;\">          2.5</td><td style=\"text-align: right;\">           5  </td><td style=\"text-align: right;\">          1.9</td><td>Virginica</td></tr>\n",
       "<tr><td><i style='opacity: 0.6'>7</i></td><td style=\"text-align: right;\">           6.5</td><td style=\"text-align: right;\">          3  </td><td style=\"text-align: right;\">           5.2</td><td style=\"text-align: right;\">          2  </td><td>Virginica</td></tr>\n",
       "<tr><td><i style='opacity: 0.6'>8</i></td><td style=\"text-align: right;\">           6.2</td><td style=\"text-align: right;\">          3.4</td><td style=\"text-align: right;\">           5.4</td><td style=\"text-align: right;\">          2.3</td><td>Virginica</td></tr>\n",
       "<tr><td><i style='opacity: 0.6'>9</i></td><td style=\"text-align: right;\">           5.9</td><td style=\"text-align: right;\">          3  </td><td style=\"text-align: right;\">           5.1</td><td style=\"text-align: right;\">          1.8</td><td>Virginica</td></tr>\n",
       "</tbody>\n",
       "</table>"
      ],
      "text/plain": [
       "  #    sepal.length    sepal.width    petal.length    petal.width  variety\n",
       "  0             6.7            3.1             5.6            2.4  Virginica\n",
       "  1             6.9            3.1             5.1            2.3  Virginica\n",
       "  2             5.8            2.7             5.1            1.9  Virginica\n",
       "  3             6.8            3.2             5.9            2.3  Virginica\n",
       "  4             6.7            3.3             5.7            2.5  Virginica\n",
       "  5             6.7            3               5.2            2.3  Virginica\n",
       "  6             6.3            2.5             5              1.9  Virginica\n",
       "  7             6.5            3               5.2            2    Virginica\n",
       "  8             6.2            3.4             5.4            2.3  Virginica\n",
       "  9             5.9            3               5.1            1.8  Virginica"
      ]
     },
     "execution_count": 9,
     "metadata": {},
     "output_type": "execute_result"
    }
   ],
   "source": [
    "df.tail()"
   ]
  },
  {
   "cell_type": "markdown",
   "id": "e590567c",
   "metadata": {},
   "source": [
    "# dataframe conversion"
   ]
  },
  {
   "cell_type": "code",
   "execution_count": 10,
   "id": "dea1bb1a",
   "metadata": {},
   "outputs": [
    {
     "data": {
      "text/plain": [
       "pandas.core.frame.DataFrame"
      ]
     },
     "execution_count": 10,
     "metadata": {},
     "output_type": "execute_result"
    }
   ],
   "source": [
    "df_pandas = df.head(5).to_pandas_df()\n",
    "type(df_pandas)"
   ]
  },
  {
   "cell_type": "markdown",
   "id": "ccd9b58f",
   "metadata": {},
   "source": [
    "# dataframe description"
   ]
  },
  {
   "cell_type": "code",
   "execution_count": 11,
   "id": "fbaefd6d",
   "metadata": {},
   "outputs": [
    {
     "data": {
      "text/html": [
       "<div>\n",
       "<style scoped>\n",
       "    .dataframe tbody tr th:only-of-type {\n",
       "        vertical-align: middle;\n",
       "    }\n",
       "\n",
       "    .dataframe tbody tr th {\n",
       "        vertical-align: top;\n",
       "    }\n",
       "\n",
       "    .dataframe thead th {\n",
       "        text-align: right;\n",
       "    }\n",
       "</style>\n",
       "<table border=\"1\" class=\"dataframe\">\n",
       "  <thead>\n",
       "    <tr style=\"text-align: right;\">\n",
       "      <th></th>\n",
       "      <th>sepal.length</th>\n",
       "      <th>sepal.width</th>\n",
       "      <th>petal.length</th>\n",
       "      <th>petal.width</th>\n",
       "      <th>variety</th>\n",
       "    </tr>\n",
       "  </thead>\n",
       "  <tbody>\n",
       "    <tr>\n",
       "      <th>data_type</th>\n",
       "      <td>float64</td>\n",
       "      <td>float64</td>\n",
       "      <td>float64</td>\n",
       "      <td>float64</td>\n",
       "      <td>string</td>\n",
       "    </tr>\n",
       "    <tr>\n",
       "      <th>count</th>\n",
       "      <td>150</td>\n",
       "      <td>150</td>\n",
       "      <td>150</td>\n",
       "      <td>150</td>\n",
       "      <td>150</td>\n",
       "    </tr>\n",
       "    <tr>\n",
       "      <th>NA</th>\n",
       "      <td>0</td>\n",
       "      <td>0</td>\n",
       "      <td>0</td>\n",
       "      <td>0</td>\n",
       "      <td>0</td>\n",
       "    </tr>\n",
       "    <tr>\n",
       "      <th>mean</th>\n",
       "      <td>5.843333333333335</td>\n",
       "      <td>3.057333333333334</td>\n",
       "      <td>3.7580000000000027</td>\n",
       "      <td>1.199333333333334</td>\n",
       "      <td>--</td>\n",
       "    </tr>\n",
       "    <tr>\n",
       "      <th>std</th>\n",
       "      <td>0.825301</td>\n",
       "      <td>0.434411</td>\n",
       "      <td>1.759404</td>\n",
       "      <td>0.759693</td>\n",
       "      <td>--</td>\n",
       "    </tr>\n",
       "    <tr>\n",
       "      <th>min</th>\n",
       "      <td>4.3</td>\n",
       "      <td>2.0</td>\n",
       "      <td>1.0</td>\n",
       "      <td>0.1</td>\n",
       "      <td>--</td>\n",
       "    </tr>\n",
       "    <tr>\n",
       "      <th>max</th>\n",
       "      <td>7.9</td>\n",
       "      <td>4.4</td>\n",
       "      <td>6.9</td>\n",
       "      <td>2.5</td>\n",
       "      <td>--</td>\n",
       "    </tr>\n",
       "  </tbody>\n",
       "</table>\n",
       "</div>"
      ],
      "text/plain": [
       "                sepal.length        sepal.width        petal.length  \\\n",
       "data_type            float64            float64             float64   \n",
       "count                    150                150                 150   \n",
       "NA                         0                  0                   0   \n",
       "mean       5.843333333333335  3.057333333333334  3.7580000000000027   \n",
       "std                 0.825301           0.434411            1.759404   \n",
       "min                      4.3                2.0                 1.0   \n",
       "max                      7.9                4.4                 6.9   \n",
       "\n",
       "                 petal.width variety  \n",
       "data_type            float64  string  \n",
       "count                    150     150  \n",
       "NA                         0       0  \n",
       "mean       1.199333333333334      --  \n",
       "std                 0.759693      --  \n",
       "min                      0.1      --  \n",
       "max                      2.5      --  "
      ]
     },
     "execution_count": 11,
     "metadata": {},
     "output_type": "execute_result"
    }
   ],
   "source": [
    "df.describe()"
   ]
  },
  {
   "cell_type": "code",
   "execution_count": 12,
   "id": "9b5adbcf",
   "metadata": {},
   "outputs": [
    {
     "data": {
      "text/plain": [
       "['sepal.length', 'sepal.width', 'petal.length', 'petal.width', 'variety']"
      ]
     },
     "execution_count": 12,
     "metadata": {},
     "output_type": "execute_result"
    }
   ],
   "source": [
    "df.to_pandas_df().columns.tolist()"
   ]
  },
  {
   "cell_type": "code",
   "execution_count": 13,
   "id": "240a657d",
   "metadata": {},
   "outputs": [
    {
     "data": {
      "text/plain": [
       "<pyarrow.lib.DoubleArray object at 0x7faf455fcf40>\n",
       "[\n",
       "  5.1,\n",
       "  4.9,\n",
       "  4.7,\n",
       "  4.6,\n",
       "  5,\n",
       "  5.4,\n",
       "  4.6,\n",
       "  5,\n",
       "  4.4,\n",
       "  4.9,\n",
       "  ...\n",
       "  6.7,\n",
       "  6.9,\n",
       "  5.8,\n",
       "  6.8,\n",
       "  6.7,\n",
       "  6.7,\n",
       "  6.3,\n",
       "  6.5,\n",
       "  6.2,\n",
       "  5.9\n",
       "]"
      ]
     },
     "execution_count": 13,
     "metadata": {},
     "output_type": "execute_result"
    }
   ],
   "source": [
    "df[\"sepal.length\"].values"
   ]
  },
  {
   "cell_type": "code",
   "execution_count": 22,
   "id": "14675f5b",
   "metadata": {},
   "outputs": [
    {
     "data": {
      "text/plain": [
       "['Virginica', 'Versicolor', 'Setosa']"
      ]
     },
     "execution_count": 22,
     "metadata": {},
     "output_type": "execute_result"
    }
   ],
   "source": [
    "df.variety.unique()"
   ]
  },
  {
   "cell_type": "markdown",
   "id": "0dd91184",
   "metadata": {},
   "source": [
    "# data sampling"
   ]
  },
  {
   "cell_type": "code",
   "execution_count": 14,
   "id": "7a2280a7",
   "metadata": {},
   "outputs": [
    {
     "data": {
      "text/html": [
       "<table>\n",
       "<thead>\n",
       "<tr><th>#                             </th><th>sepal.length  </th><th>sepal.width  </th><th>petal.length  </th><th>petal.width  </th><th>variety  </th></tr>\n",
       "</thead>\n",
       "<tbody>\n",
       "<tr><td><i style='opacity: 0.6'>0</i> </td><td>5.1           </td><td>3.5          </td><td>1.4           </td><td>0.2          </td><td>Setosa   </td></tr>\n",
       "<tr><td><i style='opacity: 0.6'>1</i> </td><td>4.9           </td><td>3.0          </td><td>1.4           </td><td>0.2          </td><td>Setosa   </td></tr>\n",
       "<tr><td><i style='opacity: 0.6'>2</i> </td><td>4.7           </td><td>3.2          </td><td>1.3           </td><td>0.2          </td><td>Setosa   </td></tr>\n",
       "<tr><td><i style='opacity: 0.6'>3</i> </td><td>4.6           </td><td>3.1          </td><td>1.5           </td><td>0.2          </td><td>Setosa   </td></tr>\n",
       "<tr><td><i style='opacity: 0.6'>4</i> </td><td>5.0           </td><td>3.6          </td><td>1.4           </td><td>0.2          </td><td>Setosa   </td></tr>\n",
       "<tr><td>...                           </td><td>...           </td><td>...          </td><td>...           </td><td>...          </td><td>...      </td></tr>\n",
       "<tr><td><i style='opacity: 0.6'>45</i></td><td>4.8           </td><td>3.0          </td><td>1.4           </td><td>0.3          </td><td>Setosa   </td></tr>\n",
       "<tr><td><i style='opacity: 0.6'>46</i></td><td>5.1           </td><td>3.8          </td><td>1.6           </td><td>0.2          </td><td>Setosa   </td></tr>\n",
       "<tr><td><i style='opacity: 0.6'>47</i></td><td>4.6           </td><td>3.2          </td><td>1.4           </td><td>0.2          </td><td>Setosa   </td></tr>\n",
       "<tr><td><i style='opacity: 0.6'>48</i></td><td>5.3           </td><td>3.7          </td><td>1.5           </td><td>0.2          </td><td>Setosa   </td></tr>\n",
       "<tr><td><i style='opacity: 0.6'>49</i></td><td>5.0           </td><td>3.3          </td><td>1.4           </td><td>0.2          </td><td>Setosa   </td></tr>\n",
       "</tbody>\n",
       "</table>"
      ],
      "text/plain": [
       "#    sepal.length    sepal.width    petal.length    petal.width    variety\n",
       "0    5.1             3.5            1.4             0.2            Setosa\n",
       "1    4.9             3.0            1.4             0.2            Setosa\n",
       "2    4.7             3.2            1.3             0.2            Setosa\n",
       "3    4.6             3.1            1.5             0.2            Setosa\n",
       "4    5.0             3.6            1.4             0.2            Setosa\n",
       "...  ...             ...            ...             ...            ...\n",
       "45   4.8             3.0            1.4             0.3            Setosa\n",
       "46   5.1             3.8            1.6             0.2            Setosa\n",
       "47   4.6             3.2            1.4             0.2            Setosa\n",
       "48   5.3             3.7            1.5             0.2            Setosa\n",
       "49   5.0             3.3            1.4             0.2            Setosa"
      ]
     },
     "execution_count": 14,
     "metadata": {},
     "output_type": "execute_result"
    }
   ],
   "source": [
    "df[df.variety == \"Setosa\"]"
   ]
  },
  {
   "cell_type": "code",
   "execution_count": 21,
   "id": "b0cff8a6",
   "metadata": {},
   "outputs": [
    {
     "data": {
      "text/html": [
       "<table>\n",
       "<thead>\n",
       "<tr><th>#                             </th><th>sepal.length  </th><th>sepal.width  </th><th>petal.length  </th><th>petal.width  </th><th>variety  </th></tr>\n",
       "</thead>\n",
       "<tbody>\n",
       "<tr><td><i style='opacity: 0.6'>0</i> </td><td>5.1           </td><td>3.5          </td><td>1.4           </td><td>0.2          </td><td>Setosa   </td></tr>\n",
       "<tr><td><i style='opacity: 0.6'>1</i> </td><td>4.9           </td><td>3.0          </td><td>1.4           </td><td>0.2          </td><td>Setosa   </td></tr>\n",
       "<tr><td><i style='opacity: 0.6'>2</i> </td><td>4.7           </td><td>3.2          </td><td>1.3           </td><td>0.2          </td><td>Setosa   </td></tr>\n",
       "<tr><td><i style='opacity: 0.6'>3</i> </td><td>4.6           </td><td>3.1          </td><td>1.5           </td><td>0.2          </td><td>Setosa   </td></tr>\n",
       "<tr><td><i style='opacity: 0.6'>4</i> </td><td>5.0           </td><td>3.6          </td><td>1.4           </td><td>0.2          </td><td>Setosa   </td></tr>\n",
       "<tr><td>...                           </td><td>...           </td><td>...          </td><td>...           </td><td>...          </td><td>...      </td></tr>\n",
       "<tr><td><i style='opacity: 0.6'>95</i></td><td>6.7           </td><td>3.0          </td><td>5.2           </td><td>2.3          </td><td>Virginica</td></tr>\n",
       "<tr><td><i style='opacity: 0.6'>96</i></td><td>6.3           </td><td>2.5          </td><td>5.0           </td><td>1.9          </td><td>Virginica</td></tr>\n",
       "<tr><td><i style='opacity: 0.6'>97</i></td><td>6.5           </td><td>3.0          </td><td>5.2           </td><td>2.0          </td><td>Virginica</td></tr>\n",
       "<tr><td><i style='opacity: 0.6'>98</i></td><td>6.2           </td><td>3.4          </td><td>5.4           </td><td>2.3          </td><td>Virginica</td></tr>\n",
       "<tr><td><i style='opacity: 0.6'>99</i></td><td>5.9           </td><td>3.0          </td><td>5.1           </td><td>1.8          </td><td>Virginica</td></tr>\n",
       "</tbody>\n",
       "</table>"
      ],
      "text/plain": [
       "#    sepal.length    sepal.width    petal.length    petal.width    variety\n",
       "0    5.1             3.5            1.4             0.2            Setosa\n",
       "1    4.9             3.0            1.4             0.2            Setosa\n",
       "2    4.7             3.2            1.3             0.2            Setosa\n",
       "3    4.6             3.1            1.5             0.2            Setosa\n",
       "4    5.0             3.6            1.4             0.2            Setosa\n",
       "...  ...             ...            ...             ...            ...\n",
       "95   6.7             3.0            5.2             2.3            Virginica\n",
       "96   6.3             2.5            5.0             1.9            Virginica\n",
       "97   6.5             3.0            5.2             2.0            Virginica\n",
       "98   6.2             3.4            5.4             2.3            Virginica\n",
       "99   5.9             3.0            5.1             1.8            Virginica"
      ]
     },
     "execution_count": 21,
     "metadata": {},
     "output_type": "execute_result"
    }
   ],
   "source": [
    "df[df.variety.isin([\"Setosa\", \"Virginica\"])]"
   ]
  },
  {
   "cell_type": "code",
   "execution_count": 32,
   "id": "b2880881",
   "metadata": {},
   "outputs": [
    {
     "data": {
      "text/html": [
       "<table>\n",
       "<thead>\n",
       "<tr><th>#                             </th><th>sepal.length  </th><th>sepal.width  </th><th>petal.length  </th><th>petal.width  </th><th>variety  </th></tr>\n",
       "</thead>\n",
       "<tbody>\n",
       "<tr><td><i style='opacity: 0.6'>0</i> </td><td>5.0           </td><td>3.6          </td><td>1.4           </td><td>0.2          </td><td>Setosa   </td></tr>\n",
       "<tr><td><i style='opacity: 0.6'>1</i> </td><td>5.4           </td><td>3.9          </td><td>1.7           </td><td>0.4          </td><td>Setosa   </td></tr>\n",
       "<tr><td><i style='opacity: 0.6'>2</i> </td><td>5.4           </td><td>3.7          </td><td>1.5           </td><td>0.2          </td><td>Setosa   </td></tr>\n",
       "<tr><td><i style='opacity: 0.6'>3</i> </td><td>5.8           </td><td>4.0          </td><td>1.2           </td><td>0.2          </td><td>Setosa   </td></tr>\n",
       "<tr><td><i style='opacity: 0.6'>4</i> </td><td>5.7           </td><td>4.4          </td><td>1.5           </td><td>0.4          </td><td>Setosa   </td></tr>\n",
       "<tr><td>...                           </td><td>...           </td><td>...          </td><td>...           </td><td>...          </td><td>...      </td></tr>\n",
       "<tr><td><i style='opacity: 0.6'>14</i></td><td>5.1           </td><td>3.8          </td><td>1.6           </td><td>0.2          </td><td>Setosa   </td></tr>\n",
       "<tr><td><i style='opacity: 0.6'>15</i></td><td>5.3           </td><td>3.7          </td><td>1.5           </td><td>0.2          </td><td>Setosa   </td></tr>\n",
       "<tr><td><i style='opacity: 0.6'>16</i></td><td>7.2           </td><td>3.6          </td><td>6.1           </td><td>2.5          </td><td>Virginica</td></tr>\n",
       "<tr><td><i style='opacity: 0.6'>17</i></td><td>7.7           </td><td>3.8          </td><td>6.7           </td><td>2.2          </td><td>Virginica</td></tr>\n",
       "<tr><td><i style='opacity: 0.6'>18</i></td><td>7.9           </td><td>3.8          </td><td>6.4           </td><td>2.0          </td><td>Virginica</td></tr>\n",
       "</tbody>\n",
       "</table>"
      ],
      "text/plain": [
       "#    sepal.length    sepal.width    petal.length    petal.width    variety\n",
       "0    5.0             3.6            1.4             0.2            Setosa\n",
       "1    5.4             3.9            1.7             0.4            Setosa\n",
       "2    5.4             3.7            1.5             0.2            Setosa\n",
       "3    5.8             4.0            1.2             0.2            Setosa\n",
       "4    5.7             4.4            1.5             0.4            Setosa\n",
       "...  ...             ...            ...             ...            ...\n",
       "14   5.1             3.8            1.6             0.2            Setosa\n",
       "15   5.3             3.7            1.5             0.2            Setosa\n",
       "16   7.2             3.6            6.1             2.5            Virginica\n",
       "17   7.7             3.8            6.7             2.2            Virginica\n",
       "18   7.9             3.8            6.4             2.0            Virginica"
      ]
     },
     "execution_count": 32,
     "metadata": {},
     "output_type": "execute_result"
    }
   ],
   "source": [
    "df[df[\"sepal.width\"] > 3.5]"
   ]
  },
  {
   "cell_type": "markdown",
   "id": "f8140ac8",
   "metadata": {},
   "source": [
    "### Selections and filtering¶\n",
    "\n",
    "Vaex can be efficient when exploring subsets of the data, for instance to remove outliers or to inspect only a part of the data. Instead of making copies, Vaex internally keeps track which rows are selected."
   ]
  },
  {
   "cell_type": "code",
   "execution_count": 40,
   "id": "28dd6d48",
   "metadata": {},
   "outputs": [
    {
     "data": {
      "text/plain": [
       "<pyarrow.lib.DoubleArray object at 0x7faf480c3640>\n",
       "[\n",
       "  3.6,\n",
       "  3.9,\n",
       "  3.7,\n",
       "  4,\n",
       "  4.4,\n",
       "  3.9,\n",
       "  3.8,\n",
       "  3.8,\n",
       "  3.7,\n",
       "  3.6,\n",
       "  4.1,\n",
       "  4.2,\n",
       "  3.6,\n",
       "  3.8,\n",
       "  3.8,\n",
       "  3.7,\n",
       "  3.6,\n",
       "  3.8,\n",
       "  3.8\n",
       "]"
      ]
     },
     "execution_count": 40,
     "metadata": {},
     "output_type": "execute_result"
    }
   ],
   "source": [
    "df.select(df[\"sepal.width\"] > 3.5)\n",
    "df.evaluate(df[\"sepal.width\"], selection=True)"
   ]
  },
  {
   "cell_type": "code",
   "execution_count": 54,
   "id": "f49abe0c",
   "metadata": {},
   "outputs": [
    {
     "data": {
      "text/plain": [
       "<pyarrow.lib.DoubleArray object at 0x7faf2c488760>\n",
       "[\n",
       "  3.6,\n",
       "  3.9,\n",
       "  3.7,\n",
       "  4,\n",
       "  4.4,\n",
       "  3.9,\n",
       "  3.8,\n",
       "  3.8,\n",
       "  3.7,\n",
       "  3.6,\n",
       "  4.1,\n",
       "  4.2,\n",
       "  3.6,\n",
       "  3.8,\n",
       "  3.8,\n",
       "  3.7,\n",
       "  3.6,\n",
       "  3.8,\n",
       "  3.8\n",
       "]"
      ]
     },
     "execution_count": 54,
     "metadata": {},
     "output_type": "execute_result"
    }
   ],
   "source": [
    "df.evaluate(df['sepal.width'], selection=df[\"sepal.width\"] > 3.5)"
   ]
  },
  {
   "cell_type": "markdown",
   "id": "aa2050a5",
   "metadata": {},
   "source": [
    "# statistics"
   ]
  },
  {
   "cell_type": "code",
   "execution_count": 45,
   "id": "30c0e874",
   "metadata": {},
   "outputs": [
    {
     "data": {
      "text/plain": [
       "(array(3.05733333), array(3.83157895), mean(df['sepal.width']))"
      ]
     },
     "execution_count": 45,
     "metadata": {},
     "output_type": "execute_result"
    }
   ],
   "source": [
    "df.mean(df[\"sepal.width\"]), df.mean(df[\"sepal.width\"], selection=True)"
   ]
  },
  {
   "cell_type": "markdown",
   "id": "8a588147",
   "metadata": {},
   "source": [
    "# plots"
   ]
  },
  {
   "cell_type": "markdown",
   "id": "1a5cd8f1",
   "metadata": {},
   "source": [
    "## histogram"
   ]
  },
  {
   "cell_type": "code",
   "execution_count": 51,
   "id": "4005028c",
   "metadata": {},
   "outputs": [
    {
     "data": {
      "text/plain": [
       "[<matplotlib.lines.Line2D at 0x7faf2d51d7c0>]"
      ]
     },
     "execution_count": 51,
     "metadata": {},
     "output_type": "execute_result"
    },
    {
     "data": {
      "image/png": "[encoded data removed]",
      "text/plain": [
       "<Figure size 640x480 with 1 Axes>"
      ]
     },
     "metadata": {},
     "output_type": "display_data"
    }
   ],
   "source": [
    "df.viz.histogram(df['sepal.width'])\n",
    "df.viz.histogram(df['petal.width'])"
   ]
  },
  {
   "cell_type": "code",
   "execution_count": 28,
   "id": "b7a986dc",
   "metadata": {},
   "outputs": [
    {
     "data": {
      "text/plain": [
       "<matplotlib.collections.PathCollection at 0x7faf47e66eb0>"
      ]
     },
     "execution_count": 28,
     "metadata": {},
     "output_type": "execute_result"
    },
    {
     "data": {
      "image/png": "[encoded data removed]",
      "text/plain": [
       "<Figure size 640x480 with 1 Axes>"
      ]
     },
     "metadata": {},
     "output_type": "display_data"
    }
   ],
   "source": [
    "df.viz.scatter(df['sepal.width'], df['sepal.length'])"
   ]
  },
  {
   "cell_type": "code",
   "execution_count": 49,
   "id": "c4f11074",
   "metadata": {},
   "outputs": [
    {
     "data": {
      "text/plain": [
       "<matplotlib.image.AxesImage at 0x7faf2cb42220>"
      ]
     },
     "execution_count": 49,
     "metadata": {},
     "output_type": "execute_result"
    },
    {
     "data": {
      "image/png": "[encoded data removed]",
      "text/plain": [
       "<Figure size 640x480 with 2 Axes>"
      ]
     },
     "metadata": {},
     "output_type": "display_data"
    }
   ],
   "source": [
    "df.viz.heatmap(df['sepal.width'], df['sepal.length'], what=vaex.stat.mean(df['petal.length'])**2)"
   ]
  },
  {
   "cell_type": "code",
   "execution_count": 50,
   "id": "d0a374cf",
   "metadata": {},
   "outputs": [
    {
     "data": {
      "image/png": "[encoded data removed]",
      "text/plain": [
       "<Figure size 640x480 with 1 Axes>"
      ]
     },
     "metadata": {},
     "output_type": "display_data"
    }
   ],
   "source": [
    "df.viz.scatter(df['sepal.width'], df['sepal.length'], selection=df['petal.width'] < 0.6, c=\"red\", alpha=0.5, s=4)\n",
    "df.viz.scatter(df['sepal.width'], df['sepal.length'], selection=df['petal.width'] > 0.6, c=\"green\", alpha=0.5, s=4);"
   ]
  },
  {
   "cell_type": "code",
   "execution_count": 53,
   "id": "d00f193a",
   "metadata": {},
   "outputs": [
    {
     "data": {
      "image/png": "[encoded data removed]",
      "text/plain": [
       "<Figure size 640x480 with 1 Axes>"
      ]
     },
     "metadata": {},
     "output_type": "display_data"
    }
   ],
   "source": [
    "import matplotlib.pyplot as plt\n",
    "x = df.evaluate(df['sepal.width'], selection=df['petal.width'] > 0.6)\n",
    "y = df.evaluate(df['sepal.length'], selection=df['petal.width'] > 0.6)\n",
    "plt.scatter(x, y, c=\"red\", alpha=0.5, s=4);"
   ]
  },
  {
   "cell_type": "code",
   "execution_count": 57,
   "id": "b8f80f43",
   "metadata": {},
   "outputs": [
    {
     "data": {
      "image/png": "[encoded data removed]",
      "text/plain": [
       "<Figure size 1400x700 with 2 Axes>"
      ]
     },
     "metadata": {},
     "output_type": "display_data"
    }
   ],
   "source": [
    "import matplotlib.pyplot as plt\n",
    "fig, (ax1, ax2) = plt.subplots(1, 2, figsize=(14,7))\n",
    "plt.sca(ax1)\n",
    "df.viz.histogram(df['sepal.width'])\n",
    "ax1.set_title('sepal.width')\n",
    "plt.sca(ax2)\n",
    "df.viz.histogram(df['petal.width'])\n",
    "ax2.set_title('petal.width')\n",
    "plt.show()"
   ]
  },
  {
   "cell_type": "code",
   "execution_count": null,
   "id": "23cae316",
   "metadata": {},
   "outputs": [],
   "source": []
  }
 ],
 "metadata": {
  "kernelspec": {
   "display_name": "bigdata",
   "language": "python",
   "name": "python3"
  },
  "language_info": {
   "codemirror_mode": {
    "name": "ipython",
    "version": 3
   },
   "file_extension": ".py",
   "mimetype": "text/x-python",
   "name": "python",
   "nbconvert_exporter": "python",
   "pygments_lexer": "ipython3",
   "version": "3.9.0"
  }
 },
 "nbformat": 4,
 "nbformat_minor": 5
}
