{
 "cells": [
  {
   "cell_type": "markdown",
   "metadata": {},
   "source": [
    "# Error handling with decorator\n",
    "\n",
    "Mi intencion es mejorar un decorator que ya tengo desarrollado y que aveces uso para que sea usable no solo en funciones \n",
    "\"secundarias\" sino que en programas principales. Para este segundo caso, el script no debe pararse bruscamente con un *error raising* sino que deberia terminar de \"manera mas pacifica\"."
   ]
  },
  {
   "cell_type": "markdown",
   "metadata": {},
   "source": [
    "### decorator"
   ]
  },
  {
   "cell_type": "code",
   "execution_count": 25,
   "metadata": {},
   "outputs": [],
   "source": [
    "from functools import wraps\n",
    "import logging\n",
    " \n",
    "## decorator: handle errors (no impact on help() function)\n",
    "def error(with_raise:bool = True):\n",
    "    \"\"\"\n",
    "    Decorator to handle errors without impact on help() function\n",
    "    and with the possibility to choise between raise and error\n",
    "    or just print a message and return a None.\n",
    "\n",
    "    with_raise -- With or without raising an error (default, True).\n",
    "    return -- The main function or None or raise and error.\n",
    "    \"\"\"\n",
    "    def _validait(func):\n",
    "        @wraps(func)\n",
    "        def _handle_error(*args, **kwargs):\n",
    "            try:\n",
    "                return func(*args, **kwargs)\n",
    "            except Exception as e:\n",
    "                descr = 'Function \"%s()\": %s'%(func.__name__,str(e))\n",
    "                if with_raise:\n",
    "                    logging.error(descr, exc_info=True)\n",
    "                    raise \n",
    "                else:\n",
    "                    logging.error(descr, exc_info=False)\n",
    "                return None\n",
    "        return _handle_error\n",
    "    return _validait"
   ]
  },
  {
   "cell_type": "markdown",
   "metadata": {},
   "source": [
    "### testing with examples"
   ]
  },
  {
   "cell_type": "code",
   "execution_count": 22,
   "metadata": {},
   "outputs": [
    {
     "name": "stderr",
     "output_type": "stream",
     "text": [
      "ERROR:root:Function \"secondary()\": could not convert string to float: 'hola'\n",
      "Traceback (most recent call last):\n",
      "  File \"/var/folders/vk/s0y7mtzs23vgwd0s7jck3c_80000gn/T/ipykernel_1901/1606152615.py\", line 18, in _handle_error\n",
      "    return func(*args, **kwargs)\n",
      "  File \"/var/folders/vk/s0y7mtzs23vgwd0s7jck3c_80000gn/T/ipykernel_1901/1189198188.py\", line 3, in secondary\n",
      "    _ = float(\"hola\")\n",
      "ValueError: could not convert string to float: 'hola'\n",
      "ERROR:root:Function \"main()\": could not convert string to float: 'hola'\n"
     ]
    },
    {
     "data": {
      "text/plain": [
       "True"
      ]
     },
     "execution_count": 22,
     "metadata": {},
     "output_type": "execute_result"
    }
   ],
   "source": [
    "@error(with_raise = True)\n",
    "def secondary():\n",
    "    _ = float(\"hola\")\n",
    "\n",
    "\n",
    "@error(with_raise = False)\n",
    "def main():\n",
    "    \"\"\" This is a main function for testing.\"\"\"\n",
    "    #_ = 1. / 0.\n",
    "    secondary()\n",
    "\n",
    "    return \"Juan\"\n",
    "\n",
    "result = main()\n",
    "result is None"
   ]
  },
  {
   "cell_type": "code",
   "execution_count": 23,
   "metadata": {},
   "outputs": [
    {
     "name": "stdout",
     "output_type": "stream",
     "text": [
      "Help on function error in module __main__:\n",
      "\n",
      "error(with_raise: bool = True)\n",
      "    Decorator to handle errors without impact on help() function\n",
      "    and with the possibility to choise between raise and error\n",
      "    or just print a message and return a None.\n",
      "    \n",
      "    with_raise -- With or without raising an error (default, True).\n",
      "    return -- The main function or None or raise and error.\n",
      "\n"
     ]
    }
   ],
   "source": [
    "help(error)"
   ]
  },
  {
   "cell_type": "code",
   "execution_count": 24,
   "metadata": {},
   "outputs": [
    {
     "name": "stderr",
     "output_type": "stream",
     "text": [
      "ERROR:root:Function \"secondary()\": could not convert string to float: 'hola'\n",
      "Traceback (most recent call last):\n",
      "  File \"/var/folders/vk/s0y7mtzs23vgwd0s7jck3c_80000gn/T/ipykernel_1901/1606152615.py\", line 18, in _handle_error\n",
      "    return func(*args, **kwargs)\n",
      "  File \"/var/folders/vk/s0y7mtzs23vgwd0s7jck3c_80000gn/T/ipykernel_1901/1189198188.py\", line 3, in secondary\n",
      "    _ = float(\"hola\")\n",
      "ValueError: could not convert string to float: 'hola'\n"
     ]
    },
    {
     "ename": "ValueError",
     "evalue": "could not convert string to float: 'hola'",
     "output_type": "error",
     "traceback": [
      "\u001b[0;31m---------------------------------------------------------------------------\u001b[0m",
      "\u001b[0;31mValueError\u001b[0m                                Traceback (most recent call last)",
      "\u001b[0;32m/var/folders/vk/s0y7mtzs23vgwd0s7jck3c_80000gn/T/ipykernel_1901/728622954.py\u001b[0m in \u001b[0;36m<module>\u001b[0;34m\u001b[0m\n\u001b[0;32m----> 1\u001b[0;31m \u001b[0msecondary\u001b[0m\u001b[0;34m(\u001b[0m\u001b[0;34m)\u001b[0m\u001b[0;34m\u001b[0m\u001b[0m\n\u001b[0m",
      "\u001b[0;32m/var/folders/vk/s0y7mtzs23vgwd0s7jck3c_80000gn/T/ipykernel_1901/1606152615.py\u001b[0m in \u001b[0;36m_handle_error\u001b[0;34m(*args, **kwargs)\u001b[0m\n\u001b[1;32m     16\u001b[0m         \u001b[0;32mdef\u001b[0m \u001b[0m_handle_error\u001b[0m\u001b[0;34m(\u001b[0m\u001b[0;34m*\u001b[0m\u001b[0margs\u001b[0m\u001b[0;34m,\u001b[0m \u001b[0;34m**\u001b[0m\u001b[0mkwargs\u001b[0m\u001b[0;34m)\u001b[0m\u001b[0;34m:\u001b[0m\u001b[0;34m\u001b[0m\u001b[0m\n\u001b[1;32m     17\u001b[0m             \u001b[0;32mtry\u001b[0m\u001b[0;34m:\u001b[0m\u001b[0;34m\u001b[0m\u001b[0m\n\u001b[0;32m---> 18\u001b[0;31m                 \u001b[0;32mreturn\u001b[0m \u001b[0mfunc\u001b[0m\u001b[0;34m(\u001b[0m\u001b[0;34m*\u001b[0m\u001b[0margs\u001b[0m\u001b[0;34m,\u001b[0m \u001b[0;34m**\u001b[0m\u001b[0mkwargs\u001b[0m\u001b[0;34m)\u001b[0m\u001b[0;34m\u001b[0m\u001b[0m\n\u001b[0m\u001b[1;32m     19\u001b[0m             \u001b[0;32mexcept\u001b[0m \u001b[0mException\u001b[0m \u001b[0;32mas\u001b[0m \u001b[0me\u001b[0m\u001b[0;34m:\u001b[0m\u001b[0;34m\u001b[0m\u001b[0m\n\u001b[1;32m     20\u001b[0m                 \u001b[0mdescr\u001b[0m \u001b[0;34m=\u001b[0m \u001b[0;34m'Function \"%s()\": %s'\u001b[0m\u001b[0;34m%\u001b[0m\u001b[0;34m(\u001b[0m\u001b[0mfunc\u001b[0m\u001b[0;34m.\u001b[0m\u001b[0m__name__\u001b[0m\u001b[0;34m,\u001b[0m\u001b[0mstr\u001b[0m\u001b[0;34m(\u001b[0m\u001b[0me\u001b[0m\u001b[0;34m)\u001b[0m\u001b[0;34m)\u001b[0m\u001b[0;34m\u001b[0m\u001b[0m\n",
      "\u001b[0;32m/var/folders/vk/s0y7mtzs23vgwd0s7jck3c_80000gn/T/ipykernel_1901/1189198188.py\u001b[0m in \u001b[0;36msecondary\u001b[0;34m()\u001b[0m\n\u001b[1;32m      1\u001b[0m \u001b[0;34m@\u001b[0m\u001b[0merror\u001b[0m\u001b[0;34m(\u001b[0m\u001b[0mwith_raise\u001b[0m \u001b[0;34m=\u001b[0m \u001b[0;32mTrue\u001b[0m\u001b[0;34m)\u001b[0m\u001b[0;34m\u001b[0m\u001b[0m\n\u001b[1;32m      2\u001b[0m \u001b[0;32mdef\u001b[0m \u001b[0msecondary\u001b[0m\u001b[0;34m(\u001b[0m\u001b[0;34m)\u001b[0m\u001b[0;34m:\u001b[0m\u001b[0;34m\u001b[0m\u001b[0m\n\u001b[0;32m----> 3\u001b[0;31m     \u001b[0m_\u001b[0m \u001b[0;34m=\u001b[0m \u001b[0mfloat\u001b[0m\u001b[0;34m(\u001b[0m\u001b[0;34m\"hola\"\u001b[0m\u001b[0;34m)\u001b[0m\u001b[0;34m\u001b[0m\u001b[0m\n\u001b[0m\u001b[1;32m      4\u001b[0m \u001b[0;34m\u001b[0m\u001b[0m\n\u001b[1;32m      5\u001b[0m \u001b[0;34m\u001b[0m\u001b[0m\n",
      "\u001b[0;31mValueError\u001b[0m: could not convert string to float: 'hola'"
     ]
    }
   ],
   "source": [
    "secondary()"
   ]
  },
  {
   "cell_type": "code",
   "execution_count": null,
   "metadata": {},
   "outputs": [],
   "source": []
  },
  {
   "cell_type": "code",
   "execution_count": null,
   "metadata": {},
   "outputs": [],
   "source": []
  }
 ],
 "metadata": {
  "kernelspec": {
   "display_name": "analysis",
   "language": "python",
   "name": "analysis"
  },
  "language_info": {
   "codemirror_mode": {
    "name": "ipython",
    "version": 3
   },
   "file_extension": ".py",
   "mimetype": "text/x-python",
   "name": "python",
   "nbconvert_exporter": "python",
   "pygments_lexer": "ipython3",
   "version": "3.7.0"
  },
  "orig_nbformat": 4
 },
 "nbformat": 4,
 "nbformat_minor": 2
}
