{
 "cells": [
  {
   "cell_type": "markdown",
   "metadata": {},
   "source": [
    "# Classess Programming"
   ]
  },
  {
   "cell_type": "markdown",
   "metadata": {},
   "source": [
    "### inheritance"
   ]
  },
  {
   "cell_type": "markdown",
   "metadata": {},
   "source": [
    "En el ejemplo de abajo no es posible heredar dos clases Module en Main dado que se hace un lio con los atributos. En el caso de una clase heredada, no hay problema e inclusio desde Main puedes acceder, no solo a los metodos de ModuleA, tambien a sus atributos. "
   ]
  },
  {
   "cell_type": "code",
   "execution_count": 20,
   "metadata": {},
   "outputs": [
    {
     "name": "stdout",
     "output_type": "stream",
     "text": [
      "5\n",
      "6\n",
      "hola\n"
     ]
    },
    {
     "data": {
      "text/plain": [
       "6"
      ]
     },
     "execution_count": 20,
     "metadata": {},
     "output_type": "execute_result"
    }
   ],
   "source": [
    "class ModuleA():\n",
    "    def __init__(self):\n",
    "        self.a_module_a = 6\n",
    "\n",
    "    def m_module_a(self):\n",
    "        print(self.a_module_a)\n",
    "        print(\"hola\")\n",
    "\n",
    "\n",
    "class Main(ModuleA):\n",
    "    def __init__(self):\n",
    "        self.a_main = 5\n",
    "        super(Main, self).__init__()\n",
    "\n",
    "    def m_main(self):\n",
    "        print(self.a_main)\n",
    "\n",
    "\n",
    "om = Main()\n",
    "om.m_main()\n",
    "om.m_module_a()\n",
    "om.a_module_a"
   ]
  },
  {
   "cell_type": "markdown",
   "metadata": {},
   "source": [
    "En el ejemplo de abajo en cambio si es posible heredar dos clases Module en la Main dado que no tienen atributos. Por tanto, la clase Main puede ser subdivida en subclases Module dado que incluso desde un metodo de Main puedes llamar a un metodo de una clase Module, eso si, sacrificando los atributos del constructor: solo en una de las clases MOdule puedes tener atributos, si hay en las dos clases, se hace un lio. En cambio los atributos de clase (fuera del init) si que funcionan habiendo en ambas dos clases Module."
   ]
  },
  {
   "cell_type": "code",
   "execution_count": 38,
   "metadata": {},
   "outputs": [
    {
     "name": "stdout",
     "output_type": "stream",
     "text": [
      "5\n",
      "hola 34\n",
      "hola 99\n",
      "mixed\n",
      "adios 66\n"
     ]
    },
    {
     "data": {
      "text/plain": [
       "('pepe A', 'pepe B', 'pepe A2')"
      ]
     },
     "execution_count": 38,
     "metadata": {},
     "output_type": "execute_result"
    }
   ],
   "source": [
    "class ModuleA():\n",
    "    a_module_a = \"pepe A\"\n",
    "    def __init__(self):\n",
    "        self.a_module_a2 = \"pepe A2\"\n",
    "\n",
    "    def m_module_a(self, varA):\n",
    "        print(\"hola\", varA)\n",
    "\n",
    "\n",
    "class ModuleB():\n",
    "    a_module_b = \"pepe B\"\n",
    "    #def __init__(self):\n",
    "    #    self.a_module_b2 = \"pepe b2\"\n",
    "\n",
    "    def m_module_b(self, varB):\n",
    "        print(\"adios\", varB)\n",
    "\n",
    "\n",
    "class Main(ModuleA, ModuleB):\n",
    "    def __init__(self):\n",
    "        self.a_main = 5\n",
    "        super(Main, self).__init__()\n",
    "    \n",
    "    def m_main(self):\n",
    "        print(self.a_main)\n",
    "\n",
    "    def m_mixed(self, varM):\n",
    "        print(\"mixed\")\n",
    "        self.m_module_b(varM)\n",
    "\n",
    "\n",
    "om = Main()\n",
    "om.m_main()\n",
    "om.m_module_a(34)\n",
    "om.m_module_a(99)\n",
    "om.m_mixed(66)\n",
    "om.a_module_a, om.a_module_b, om.a_module_a2\n"
   ]
  },
  {
   "cell_type": "markdown",
   "metadata": {},
   "source": [
    "El ejemplo de abajo es el mas completo en el sentido de que desde Main tienes acceso a todo de las clases Module (atributos, atributos de clase y metodos)."
   ]
  },
  {
   "cell_type": "code",
   "execution_count": 40,
   "metadata": {},
   "outputs": [
    {
     "name": "stdout",
     "output_type": "stream",
     "text": [
      "5\n",
      "hola 34\n",
      "hola 99\n",
      "mixed\n",
      "adios 66\n"
     ]
    },
    {
     "data": {
      "text/plain": [
       "('pepe A', 'pepe B', 'pepe A2', 'pepe b2')"
      ]
     },
     "execution_count": 40,
     "metadata": {},
     "output_type": "execute_result"
    }
   ],
   "source": [
    "class ModuleA():\n",
    "    a_module_a = \"pepe A\"\n",
    "    def __init__(self):\n",
    "        self.a_module_a2 = \"pepe A2\"\n",
    "\n",
    "    def m_module_a(self, varA):\n",
    "        print(\"hola\", varA)\n",
    "\n",
    "\n",
    "class ModuleB():\n",
    "    a_module_b = \"pepe B\"\n",
    "    def __init__(self):\n",
    "        self.a_module_b2 = \"pepe b2\"\n",
    "\n",
    "    def m_module_b(self, varB):\n",
    "        print(\"adios\", varB)\n",
    "\n",
    "\n",
    "class Main(ModuleA, ModuleB):\n",
    "    def __init__(self):\n",
    "        self.a_main = 5\n",
    "        ModuleA.__init__(self)\n",
    "        ModuleB.__init__(self)\n",
    "\n",
    "    def m_main(self):\n",
    "        print(self.a_main)\n",
    "\n",
    "    def m_mixed(self, varM):\n",
    "        print(\"mixed\")\n",
    "        self.m_module_b(varM)\n",
    "\n",
    "\n",
    "om = Main()\n",
    "om.m_main()\n",
    "om.m_module_a(34)\n",
    "om.m_module_a(99)\n",
    "om.m_mixed(66)\n",
    "om.a_module_a, om.a_module_b, om.a_module_a2, om.a_module_b2"
   ]
  },
  {
   "cell_type": "markdown",
   "metadata": {},
   "source": [
    "El de abajo es el mismo caso de arriba pero con argumentos en el constructor. De esta manera, incluso se puede pasar argumentos de la clase Main a las clases Module."
   ]
  },
  {
   "cell_type": "code",
   "execution_count": 41,
   "metadata": {},
   "outputs": [
    {
     "name": "stdout",
     "output_type": "stream",
     "text": [
      "5\n",
      "hola 34\n",
      "hola 99\n",
      "mixed\n",
      "adios 66\n",
      "pepe A pepe B pepe A2 pepe b2\n",
      "helo wolrd\n"
     ]
    }
   ],
   "source": [
    "class ModuleA():\n",
    "    a_module_a = \"pepe A\"\n",
    "    def __init__(self, argA):\n",
    "        self.a_module_a2 = \"pepe A2\"\n",
    "        self.argA = argA\n",
    "\n",
    "    def m_module_a(self, varA):\n",
    "        print(\"hola\", varA)\n",
    "\n",
    "\n",
    "class ModuleB():\n",
    "    a_module_b = \"pepe B\"\n",
    "    def __init__(self, argB):\n",
    "        self.a_module_b2 = \"pepe b2\"\n",
    "        self.argB = argB\n",
    "\n",
    "    def m_module_b(self, varB):\n",
    "        print(\"adios\", varB)\n",
    "\n",
    "\n",
    "class Main(ModuleA, ModuleB):\n",
    "    def __init__(self, argM1, argM2):\n",
    "        self.a_main = 5\n",
    "        ModuleA.__init__(self, argM1)\n",
    "        ModuleB.__init__(self, argM2)\n",
    "\n",
    "    def m_main(self):\n",
    "        print(self.a_main)\n",
    "\n",
    "    def m_mixed(self, varM):\n",
    "        print(\"mixed\")\n",
    "        self.m_module_b(varM)\n",
    "\n",
    "\n",
    "om = Main(\"helo\", \"wolrd\")\n",
    "om.m_main()\n",
    "om.m_module_a(34)\n",
    "om.m_module_a(99)\n",
    "om.m_mixed(66)\n",
    "print(om.a_module_a, om.a_module_b, om.a_module_a2, om.a_module_b2)\n",
    "print(om.argA, om.argB)"
   ]
  },
  {
   "cell_type": "code",
   "execution_count": null,
   "metadata": {},
   "outputs": [],
   "source": []
  }
 ],
 "metadata": {
  "kernelspec": {
   "display_name": "analysis",
   "language": "python",
   "name": "python3"
  },
  "language_info": {
   "codemirror_mode": {
    "name": "ipython",
    "version": 3
   },
   "file_extension": ".py",
   "mimetype": "text/x-python",
   "name": "python",
   "nbconvert_exporter": "python",
   "pygments_lexer": "ipython3",
   "version": "3.7.0"
  }
 },
 "nbformat": 4,
 "nbformat_minor": 2
}
