{
 "cells": [
  {
   "cell_type": "markdown",
   "id": "60e99fc0",
   "metadata": {},
   "source": [
    "# VAEX: overview\n",
    "\n",
    "Vaex is a high performance Python library for lazy Out-of-Core DataFrames (similar to Pandas), to visualize and explore big tabular datasets. \n",
    "\n",
    "### References:\n",
    "\n",
    "- [Github](https://github.com/vaexio/vaex)\n",
    "- [Documentation: NY taxi dataset](https://vaex.io/docs/datasets.html)"
   ]
  },
  {
   "cell_type": "code",
   "execution_count": 1,
   "id": "309bc38d",
   "metadata": {},
   "outputs": [],
   "source": [
    "%matplotlib inline\n",
    "import vaex\n",
    "import warnings; warnings.filterwarnings(\"ignore\")\n",
    "import time"
   ]
  },
  {
   "cell_type": "code",
   "execution_count": 2,
   "id": "f74ac002",
   "metadata": {},
   "outputs": [
    {
     "name": "stdout",
     "output_type": "stream",
     "text": [
      "time: 13.633032321929932 seconds\n",
      "number of rows: 146,112,991\n",
      "number of columns: 18\n"
     ]
    }
   ],
   "source": [
    "# load remote data\n",
    "start = time.time()\n",
    "df = vaex.open('s3://vaex/taxi/yellow_taxi_2015_f32s.hdf5?anon=true')\n",
    "end = time.time()\n",
    "print('time: {} seconds'.format(end - start))\n",
    "# dimenssions\n",
    "print(f'number of rows: {df.shape[0]:,}')\n",
    "print(f'number of columns: {df.shape[1]}')"
   ]
  },
  {
   "cell_type": "code",
   "execution_count": 3,
   "id": "be336a98",
   "metadata": {},
   "outputs": [
    {
     "data": {
      "text/html": [
       "<style>.vaex-description pre {\n",
       "          max-width : 450px;\n",
       "          white-space : nowrap;\n",
       "          overflow : hidden;\n",
       "          text-overflow: ellipsis;\n",
       "        }\n",
       "\n",
       "        .vex-description pre:hover {\n",
       "          max-width : initial;\n",
       "          white-space: pre;\n",
       "        }</style>"
      ],
      "text/plain": [
       "<IPython.core.display.HTML object>"
      ]
     },
     "metadata": {},
     "output_type": "display_data"
    },
    {
     "data": {
      "text/html": [
       "<div><h2>yellow_taxi_2015_f32s</h2> <b>rows</b>: 146,112,991</div><h2>Columns:</h2><table class='table-striped'><thead><tr><th>column</th><th>type</th><th>unit</th><th>description</th><th>expression</th></tr></thead><tr><td>vendor_id</td><td>str</td><td></td><td ><pre></pre></td><td></td></tr><tr><td>pickup_datetime</td><td>datetime64[ns]</td><td></td><td ><pre></pre></td><td></td></tr><tr><td>dropoff_datetime</td><td>datetime64[ns]</td><td></td><td ><pre></pre></td><td></td></tr><tr><td>passenger_count</td><td>int64</td><td></td><td ><pre></pre></td><td></td></tr><tr><td>payment_type</td><td>str</td><td></td><td ><pre></pre></td><td></td></tr><tr><td>trip_distance</td><td>float32</td><td></td><td ><pre></pre></td><td></td></tr><tr><td>pickup_longitude</td><td>float32</td><td></td><td ><pre></pre></td><td></td></tr><tr><td>pickup_latitude</td><td>float32</td><td></td><td ><pre></pre></td><td></td></tr><tr><td>rate_code</td><td>float32</td><td></td><td ><pre></pre></td><td></td></tr><tr><td>store_and_fwd_flag</td><td>float32</td><td></td><td ><pre></pre></td><td></td></tr><tr><td>dropoff_longitude</td><td>float32</td><td></td><td ><pre></pre></td><td></td></tr><tr><td>dropoff_latitude</td><td>float32</td><td></td><td ><pre></pre></td><td></td></tr><tr><td>fare_amount</td><td>float32</td><td></td><td ><pre></pre></td><td></td></tr><tr><td>surcharge</td><td>float32</td><td></td><td ><pre></pre></td><td></td></tr><tr><td>mta_tax</td><td>float32</td><td></td><td ><pre></pre></td><td></td></tr><tr><td>tip_amount</td><td>float32</td><td></td><td ><pre></pre></td><td></td></tr><tr><td>tolls_amount</td><td>float32</td><td></td><td ><pre></pre></td><td></td></tr><tr><td>total_amount</td><td>float32</td><td></td><td ><pre></pre></td><td></td></tr></table><h2>Data:</h2><table>\n",
       "<thead>\n",
       "<tr><th>#                                      </th><th>vendor_id  </th><th>pickup_datetime              </th><th>dropoff_datetime             </th><th>passenger_count  </th><th>payment_type  </th><th>trip_distance  </th><th>pickup_longitude  </th><th>pickup_latitude  </th><th>rate_code  </th><th>store_and_fwd_flag  </th><th>dropoff_longitude  </th><th>dropoff_latitude  </th><th>fare_amount  </th><th>surcharge  </th><th>mta_tax  </th><th>tip_amount  </th><th>tolls_amount  </th><th>total_amount  </th></tr>\n",
       "</thead>\n",
       "<tbody>\n",
       "<tr><td><i style='opacity: 0.6'>0</i>          </td><td>VTS        </td><td>2014-12-16 02:26:00.000000000</td><td>2014-12-16 02:28:00.000000000</td><td>1                </td><td>CSH           </td><td>1.09           </td><td>-73.986725        </td><td>40.75642         </td><td>1.0        </td><td>nan                 </td><td>-73.99646          </td><td>40.742893         </td><td>5.0          </td><td>0.5        </td><td>0.5      </td><td>0.0         </td><td>0.0           </td><td>6.0           </td></tr>\n",
       "<tr><td><i style='opacity: 0.6'>1</i>          </td><td>VTS        </td><td>2014-12-15 18:23:00.000000000</td><td>2014-12-15 18:58:00.000000000</td><td>2                </td><td>              </td><td>6.28           </td><td>-74.00419         </td><td>40.72119         </td><td>1.0        </td><td>nan                 </td><td>-73.97             </td><td>nan               </td><td>nan          </td><td>nan        </td><td>nan      </td><td>nan         </td><td>nan           </td><td>nan           </td></tr>\n",
       "<tr><td><i style='opacity: 0.6'>2</i>          </td><td>VTS        </td><td>2015-01-15 19:05:39.000000000</td><td>2015-01-15 19:23:42.000000000</td><td>1                </td><td>1             </td><td>1.59           </td><td>-73.9939          </td><td>40.75011         </td><td>1.0        </td><td>0.0                 </td><td>-73.974785         </td><td>40.750618         </td><td>12.0         </td><td>1.0        </td><td>0.5      </td><td>3.25        </td><td>0.0           </td><td>17.05         </td></tr>\n",
       "<tr><td><i style='opacity: 0.6'>3</i>          </td><td>CMT        </td><td>2015-01-10 20:33:38.000000000</td><td>2015-01-10 20:53:28.000000000</td><td>1                </td><td>1             </td><td>3.3            </td><td>-74.00165         </td><td>40.724243        </td><td>1.0        </td><td>0.0                 </td><td>-73.994415         </td><td>40.75911          </td><td>14.5         </td><td>0.5        </td><td>0.5      </td><td>2.0         </td><td>0.0           </td><td>17.8          </td></tr>\n",
       "<tr><td><i style='opacity: 0.6'>4</i>          </td><td>CMT        </td><td>2015-01-10 20:33:38.000000000</td><td>2015-01-10 20:43:41.000000000</td><td>1                </td><td>2             </td><td>1.8            </td><td>-73.96334         </td><td>40.802788        </td><td>1.0        </td><td>0.0                 </td><td>-73.95182          </td><td>40.824413         </td><td>9.5          </td><td>0.5        </td><td>0.5      </td><td>0.0         </td><td>0.0           </td><td>10.8          </td></tr>\n",
       "<tr><td>...                                    </td><td>...        </td><td>...                          </td><td>...                          </td><td>...              </td><td>...           </td><td>...            </td><td>...               </td><td>...              </td><td>...        </td><td>...                 </td><td>...                </td><td>...               </td><td>...          </td><td>...        </td><td>...      </td><td>...         </td><td>...           </td><td>...           </td></tr>\n",
       "<tr><td><i style='opacity: 0.6'>146,112,986</i></td><td>VTS        </td><td>2015-12-31 23:59:56.000000000</td><td>2016-01-01 00:08:18.000000000</td><td>5                </td><td>1             </td><td>1.2            </td><td>-73.99381         </td><td>40.72087         </td><td>1.0        </td><td>0.0                 </td><td>-73.98621          </td><td>40.72247          </td><td>7.5          </td><td>0.5        </td><td>0.5      </td><td>1.76        </td><td>0.0           </td><td>10.56         </td></tr>\n",
       "<tr><td><i style='opacity: 0.6'>146,112,987</i></td><td>CMT        </td><td>2015-12-31 23:59:58.000000000</td><td>2016-01-01 00:05:19.000000000</td><td>2                </td><td>2             </td><td>2.0            </td><td>-73.96527         </td><td>40.76028         </td><td>1.0        </td><td>0.0                 </td><td>-73.939514         </td><td>40.752388         </td><td>7.5          </td><td>0.5        </td><td>0.5      </td><td>0.0         </td><td>0.0           </td><td>8.8           </td></tr>\n",
       "<tr><td><i style='opacity: 0.6'>146,112,988</i></td><td>CMT        </td><td>2015-12-31 23:59:59.000000000</td><td>2016-01-01 00:12:55.000000000</td><td>2                </td><td>2             </td><td>3.8            </td><td>-73.9873          </td><td>40.73908         </td><td>1.0        </td><td>0.0                 </td><td>-73.98867          </td><td>40.6933           </td><td>13.5         </td><td>0.5        </td><td>0.5      </td><td>0.0         </td><td>0.0           </td><td>14.8          </td></tr>\n",
       "<tr><td><i style='opacity: 0.6'>146,112,989</i></td><td>VTS        </td><td>2015-12-31 23:59:59.000000000</td><td>2016-01-01 00:10:26.000000000</td><td>1                </td><td>2             </td><td>1.96           </td><td>-73.99756         </td><td>40.725693        </td><td>1.0        </td><td>0.0                 </td><td>-74.01712          </td><td>40.705322         </td><td>8.5          </td><td>0.5        </td><td>0.5      </td><td>0.0         </td><td>0.0           </td><td>9.8           </td></tr>\n",
       "<tr><td><i style='opacity: 0.6'>146,112,990</i></td><td>VTS        </td><td>2015-12-31 23:59:59.000000000</td><td>2016-01-01 00:21:30.000000000</td><td>1                </td><td>1             </td><td>1.06           </td><td>-73.9844          </td><td>40.767258        </td><td>1.0        </td><td>0.0                 </td><td>-73.99098          </td><td>40.76057          </td><td>13.5         </td><td>0.5        </td><td>0.5      </td><td>2.96        </td><td>0.0           </td><td>17.76         </td></tr>\n",
       "</tbody>\n",
       "</table>"
      ],
      "text/plain": [
       "<IPython.core.display.HTML object>"
      ]
     },
     "metadata": {},
     "output_type": "display_data"
    }
   ],
   "source": [
    "# get basic information\n",
    "df.info()"
   ]
  }
 ],
 "metadata": {
  "kernelspec": {
   "display_name": "vaex",
   "language": "python",
   "name": "vaex"
  },
  "language_info": {
   "codemirror_mode": {
    "name": "ipython",
    "version": 3
   },
   "file_extension": ".py",
   "mimetype": "text/x-python",
   "name": "python",
   "nbconvert_exporter": "python",
   "pygments_lexer": "ipython3",
   "version": "3.7.0"
  }
 },
 "nbformat": 4,
 "nbformat_minor": 5
}
