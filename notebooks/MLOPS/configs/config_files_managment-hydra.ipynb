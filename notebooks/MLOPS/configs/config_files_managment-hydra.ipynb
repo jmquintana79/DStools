{
 "cells": [
  {
   "cell_type": "markdown",
   "metadata": {},
   "source": [
    "# Config files managment - *hydra*\n",
    "\n",
    "> From notebook/script without output logging.\n",
    "\n",
    "### References\n",
    "\n",
    "- [Docs - Getting starting](https://hydra.cc/docs/1.3/intro/) \n",
    "- [Tools for best python practices](https://khuyentran1401.github.io/Efficient_Python_tricks_and_tools_for_data_scientists/Chapter5/best_python_practice_tools.html)"
   ]
  },
  {
   "cell_type": "markdown",
   "metadata": {},
   "source": [
    "### Load config file"
   ]
  },
  {
   "cell_type": "code",
   "execution_count": 1,
   "metadata": {},
   "outputs": [
    {
     "name": "stdout",
     "output_type": "stream",
     "text": [
      "Process data1\n",
      "Drop features: ['iid', 'id', 'idg', 'wave']\n",
      "Folder input: folder/input\n",
      "Folder output: folder/output\n"
     ]
    }
   ],
   "source": [
    "from hydra import compose, initialize\n",
    "\n",
    "with initialize(version_base=None, config_path=\".\"):\n",
    "    config = compose(config_name=\"config\")\n",
    "\n",
    "print(f'Process {config.data}')\n",
    "print(f'Drop features: {config.variables.drop_features}')\n",
    "print(f'Folder input: {config.folders.input}')\n",
    "print(f'Folder output: {config.folders.output}')"
   ]
  },
  {
   "cell_type": "markdown",
   "metadata": {},
   "source": [
    "### Load config experiments\n",
    "\n",
    "> Reference: https://hydra.cc/docs/patterns/configuring_experiments/"
   ]
  },
  {
   "cell_type": "code",
   "execution_count": 7,
   "metadata": {},
   "outputs": [
    {
     "name": "stdout",
     "output_type": "stream",
     "text": [
      "Experiment name: es mi experimento 1\n",
      "Environemt name: esto es desarrollo\n"
     ]
    }
   ],
   "source": [
    "from hydra import compose, initialize\n",
    "\n",
    "with initialize(version_base=None, config_path=\"conf\"):\n",
    "    config = compose(config_name=\"config\")\n",
    "\n",
    "print(f'Experiment name: {config.experiment.name}')\n",
    "print(f'Environemt name: {config.environment.name}')"
   ]
  },
  {
   "cell_type": "code",
   "execution_count": null,
   "metadata": {},
   "outputs": [],
   "source": []
  }
 ],
 "metadata": {
  "kernelspec": {
   "display_name": "analysis",
   "language": "python",
   "name": "python3"
  },
  "language_info": {
   "codemirror_mode": {
    "name": "ipython",
    "version": 3
   },
   "file_extension": ".py",
   "mimetype": "text/x-python",
   "name": "python",
   "nbconvert_exporter": "python",
   "pygments_lexer": "ipython3",
   "version": "3.7.0"
  }
 },
 "nbformat": 4,
 "nbformat_minor": 2
}
