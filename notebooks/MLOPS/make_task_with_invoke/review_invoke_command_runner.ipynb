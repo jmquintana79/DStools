{
 "cells": [
  {
   "cell_type": "markdown",
   "metadata": {},
   "source": [
    "# Review *Invoke* : Command Runner\n",
    "\n",
    "En la librería `invoke`, el método `run` es utilizado para ejecutar comandos en la línea de comandos desde un script de Python. Los argumentos más importantes de este método son:\n",
    "\n",
    "1. **command**: (requerido) Es el comando que se va a ejecutar como una cadena de texto.\n",
    "   \n",
    "2. **hide**: (opcional) Puede ser un booleano o una lista de streams (`'stdout'`, `'stderr'` o `'both'`). Controla si la salida del comando se oculta o no. Si se establece en `True`, oculta toda la salida.\n",
    "\n",
    "3. **pty**: (opcional) Es un booleano. Indica si se debe utilizar un pseudo terminal para ejecutar el comando, lo que puede ser necesario para comandos interactivos como `sudo`.\n",
    "\n",
    "4. **echo**: (opcional) Es un booleano. Si es `True`, imprime el comando antes de ejecutarlo.\n",
    "\n",
    "5. **warn**: (opcional) Es un booleano. Si es `True`, no se lanza una excepción si el comando retorna un código de salida distinto de 0, lo que permite manejar errores manualmente.\n",
    "\n",
    "6. **env**: (opcional) Es un diccionario. Permite especificar variables de entorno que se usarán durante la ejecución del comando.\n",
    "\n",
    "7. **timeout**: (opcional) Es un número que especifica el tiempo máximo, en segundos, para que el comando se ejecute antes de ser terminado.\n",
    "\n",
    "8. **encoding**: (opcional) Especifica la codificación de los datos de salida.\n",
    "\n",
    "9. **in_stream**, **out_stream**, **err_stream**: (opcionales) Pueden ser usados para redirigir los flujos de entrada, salida o error estándar del proceso.\n"
   ]
  },
  {
   "cell_type": "code",
   "execution_count": 26,
   "metadata": {},
   "outputs": [
    {
     "name": "stdout",
     "output_type": "stream",
     "text": [
      "{'COMMAND_MODE': 'unix2003', 'CONDA_DEFAULT_ENV': 'analysis', 'CONDA_EXE': '/Users/juan/miniconda3/bin/conda', 'CONDA_PREFIX': '/Users/juan/miniconda3/envs/analysis', 'CONDA_PROMPT_MODIFIER': '(analysis) ', 'CONDA_PYTHON_EXE': '/Users/juan/miniconda3/bin/python', 'CONDA_SHLVL': '2', 'DISPLAY': '/private/tmp/com.apple.launchd.TAd4mgl1fA/org.macosforge.xquartz:0', 'HOME': '/Users/juan', 'LOCAL_GIT_DIRECTORY': '/Applications/GitHub Desktop.app/Contents/Resources/app/git', 'LOGNAME': 'juan', 'MallocNanoZone': '0', 'ORIGINAL_XDG_CURRENT_DESKTOP': 'undefined', 'PATH': '/Users/juan/miniconda3/envs/analysis/bin:/usr/local/sbin:/usr/local/opt/python/libexec/bin:/usr/local/bin:/System/Cryptexes/App/usr/bin:/usr/bin:/bin:/usr/sbin:/sbin:/opt/X11/bin:/var/run/com.apple.security.cryptexd/codex.system/bootstrap/usr/local/bin:/var/run/com.apple.security.cryptexd/codex.system/bootstrap/usr/bin:/var/run/com.apple.security.cryptexd/codex.system/bootstrap/usr/appleinternal/bin:/Users/juan/miniconda3/envs/analysis/bin:/Users/juan/miniconda3/condabin:/usr/local/sbin:/usr/local/opt/python/libexec/bin', 'PWD': '/', 'SHELL': '/bin/bash', 'SHLVL': '4', 'SSH_AUTH_SOCK': '/private/tmp/com.apple.launchd.RTBTivf6lA/Listeners', 'TMPDIR': '/var/folders/vk/s0y7mtzs23vgwd0s7jck3c_80000gn/T/', 'USER': 'juan', 'VSCODE_AMD_ENTRYPOINT': 'vs/workbench/api/node/extensionHostProcess', 'VSCODE_CODE_CACHE_PATH': '/Users/juan/Library/Application Support/Code/CachedData/af28b32d7e553898b2a91af498b1fb666fdebe0c', 'VSCODE_CRASH_REPORTER_PROCESS_TYPE': 'extensionHost', 'VSCODE_CWD': '/', 'VSCODE_HANDLES_UNCAUGHT_ERRORS': 'true', 'VSCODE_IPC_HOOK': '/Users/juan/Library/Application Support/Code/1.85-main.sock', 'VSCODE_NLS_CONFIG': '{\"locale\":\"en-gb\",\"osLocale\":\"en-es\",\"availableLanguages\":{},\"_languagePackSupport\":true}', 'VSCODE_PID': '740', 'XPC_FLAGS': '0x0', 'XPC_SERVICE_NAME': '0', '_': '/usr/local/opt/python/libexec/bin/python', '__CFBundleIdentifier': 'com.microsoft.VSCode', '__CF_USER_TEXT_ENCODING': '0x1F5:0x0:0x0', 'ELECTRON_RUN_AS_NODE': '1', 'VSCODE_L10N_BUNDLE_LOCATION': '', 'PYTHONUNBUFFERED': '1', 'PYTHONIOENCODING': 'utf-8', '_CE_CONDA': '', 'CONDA_PREFIX_1': '/Users/juan/miniconda3', 'CONDA_ROOT': '/Users/juan/miniconda3', '_CE_M': '', 'LC_CTYPE': 'UTF-8', 'PYDEVD_IPYTHON_COMPATIBLE_DEBUGGING': '1', 'PYDEVD_USE_FRAME_EVAL': 'NO', 'TERM': 'xterm-color', 'CLICOLOR': '1', 'PAGER': 'cat', 'GIT_PAGER': 'cat', 'MPLBACKEND': 'module://matplotlib_inline.backend_inline'}\n",
      "/bin/bash echo 'hello world!!!'\n",
      "True False\n",
      "hello world!!!\n",
      "\n"
     ]
    }
   ],
   "source": [
    "from invoke import run\n",
    "\n",
    "cmd = \"echo 'hello world!!!'\"\n",
    "result = run(cmd, \n",
    "             hide=True, \n",
    "             warn=True, \n",
    "             timeout = 60 # seconds\n",
    "             )\n",
    "\n",
    "print(result.env)\n",
    "print(result.shell, result.command)\n",
    "print(result.ok, result.failed)\n",
    "print(result.stdout.splitlines()[-1])\n",
    "print(result.stderr)"
   ]
  }
 ],
 "metadata": {
  "kernelspec": {
   "display_name": "analysis",
   "language": "python",
   "name": "python3"
  },
  "language_info": {
   "codemirror_mode": {
    "name": "ipython",
    "version": 3
   },
   "file_extension": ".py",
   "mimetype": "text/x-python",
   "name": "python",
   "nbconvert_exporter": "python",
   "pygments_lexer": "ipython3",
   "version": "3.7.0"
  }
 },
 "nbformat": 4,
 "nbformat_minor": 2
}
