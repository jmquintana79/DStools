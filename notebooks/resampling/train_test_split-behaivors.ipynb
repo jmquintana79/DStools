{
 "cells": [
  {
   "cell_type": "markdown",
   "id": "079397ea-4643-4ba7-ae9f-686400436f04",
   "metadata": {},
   "source": [
    "# Train-Test Splitting: Behaivor\n",
    "\n",
    "- Non Suffle\n",
    "- Suffle\n",
    "- Suffle + Stratify"
   ]
  },
  {
   "cell_type": "code",
   "execution_count": 9,
   "id": "2ae34275-20df-410e-8313-bfa318dda09d",
   "metadata": {},
   "outputs": [],
   "source": [
    "%matplotlib inline\n",
    "import matplotlib.pyplot as plt\n",
    "import pandas as pd\n",
    "import numpy as np\n",
    "from sklearn import datasets\n",
    "from sklearn.model_selection import train_test_split"
   ]
  },
  {
   "cell_type": "markdown",
   "id": "3f1d7894-1c8c-47d6-8aa6-04ce645a350d",
   "metadata": {},
   "source": [
    "## load data"
   ]
  },
  {
   "cell_type": "code",
   "execution_count": 7,
   "id": "22c7ef81-7ba6-4f3f-9ee2-d4c7522965b3",
   "metadata": {},
   "outputs": [
    {
     "data": {
      "text/plain": [
       "((150, 4),\n",
       " (150,),\n",
       " (array(['Setosa', 'Versicolor', 'Virginica'], dtype=object),\n",
       "  array([50, 50, 50])))"
      ]
     },
     "execution_count": 7,
     "metadata": {},
     "output_type": "execute_result"
    }
   ],
   "source": [
    "X, y = datasets.load_iris(return_X_y=True)\n",
    "X = pd.DataFrame(data=X, columns=['Sepal length', 'Sepal width', 'Petal length', 'Petal width'])\n",
    "y = pd.Series(y).map({0: 'Setosa', 1: 'Versicolor', 2: 'Virginica'})\n",
    "X.shape, y.shape, np.unique(y, return_counts=True)"
   ]
  },
  {
   "cell_type": "markdown",
   "id": "c5f04309-ec1a-4097-a35a-38d5954368d1",
   "metadata": {},
   "source": [
    "### train test split: Non Random"
   ]
  },
  {
   "cell_type": "code",
   "execution_count": 18,
   "id": "ae2e9ab1-94d0-4715-9682-0c91828f4353",
   "metadata": {},
   "outputs": [],
   "source": [
    "X_train, X_test, y_train, y_test = train_test_split(X, y, test_size=0.33, shuffle = False)"
   ]
  },
  {
   "cell_type": "code",
   "execution_count": 19,
   "id": "f2f4c7cb-ca9f-4446-85a7-4534611a6078",
   "metadata": {},
   "outputs": [
    {
     "name": "stdout",
     "output_type": "stream",
     "text": [
      "(100,) (50,)\n"
     ]
    }
   ],
   "source": [
    "print(y_train.shape, y_test.shape)"
   ]
  },
  {
   "cell_type": "code",
   "execution_count": 20,
   "id": "d89a0f06-b265-400d-9850-fb8fa09846d7",
   "metadata": {},
   "outputs": [
    {
     "data": {
      "text/plain": [
       "(Int64Index([ 0,  1,  2,  3,  4,  5,  6,  7,  8,  9, 10, 11, 12, 13, 14, 15, 16,\n",
       "             17, 18, 19, 20, 21, 22, 23, 24, 25, 26, 27, 28, 29, 30, 31, 32, 33,\n",
       "             34, 35, 36, 37, 38, 39, 40, 41, 42, 43, 44, 45, 46, 47, 48, 49, 50,\n",
       "             51, 52, 53, 54, 55, 56, 57, 58, 59, 60, 61, 62, 63, 64, 65, 66, 67,\n",
       "             68, 69, 70, 71, 72, 73, 74, 75, 76, 77, 78, 79, 80, 81, 82, 83, 84,\n",
       "             85, 86, 87, 88, 89, 90, 91, 92, 93, 94, 95, 96, 97, 98, 99],\n",
       "            dtype='int64'),\n",
       " Int64Index([100, 101, 102, 103, 104, 105, 106, 107, 108, 109, 110, 111, 112,\n",
       "             113, 114, 115, 116, 117, 118, 119, 120, 121, 122, 123, 124, 125,\n",
       "             126, 127, 128, 129, 130, 131, 132, 133, 134, 135, 136, 137, 138,\n",
       "             139, 140, 141, 142, 143, 144, 145, 146, 147, 148, 149],\n",
       "            dtype='int64'))"
      ]
     },
     "execution_count": 20,
     "metadata": {},
     "output_type": "execute_result"
    }
   ],
   "source": [
    "y_train.index, y_test.index"
   ]
  },
  {
   "cell_type": "code",
   "execution_count": 21,
   "id": "c953887f-2da4-42d8-b6a0-bc4619f12987",
   "metadata": {},
   "outputs": [
    {
     "data": {
      "text/plain": [
       "((array(['Setosa', 'Versicolor'], dtype=object), array([50, 50])),\n",
       " (array(['Virginica'], dtype=object), array([50])))"
      ]
     },
     "execution_count": 21,
     "metadata": {},
     "output_type": "execute_result"
    }
   ],
   "source": [
    "np.unique(y_train, return_counts=True), np.unique(y_test, return_counts=True)"
   ]
  },
  {
   "cell_type": "markdown",
   "id": "63889667-451a-4e77-a585-1d53c7ac4555",
   "metadata": {
    "tags": []
   },
   "source": [
    "### train test split: Random"
   ]
  },
  {
   "cell_type": "code",
   "execution_count": 10,
   "id": "6c8caa28-b177-40b5-9f77-a5b5f4d5e7ef",
   "metadata": {},
   "outputs": [],
   "source": [
    "X_train, X_test, y_train, y_test = train_test_split(X, y, test_size=0.33, random_state=42, shuffle = True)"
   ]
  },
  {
   "cell_type": "code",
   "execution_count": 14,
   "id": "913a4717-1bdc-4c13-85ff-800b316813e8",
   "metadata": {},
   "outputs": [
    {
     "name": "stdout",
     "output_type": "stream",
     "text": [
      "(100,) (50,)\n"
     ]
    }
   ],
   "source": [
    "print(y_train.shape, y_test.shape)"
   ]
  },
  {
   "cell_type": "code",
   "execution_count": 15,
   "id": "5ce1784d-8cbb-4137-9433-acd5b8bb9c21",
   "metadata": {},
   "outputs": [
    {
     "data": {
      "text/plain": [
       "(Int64Index([ 96, 105,  66,   0, 122,  67,  28,  40,  44,  60, 123,  24,  25,\n",
       "              23,  94,  39,  95, 117,  47,  97, 113,  33, 138, 101,  62,  84,\n",
       "             148,  53,   5,  93, 111,  49,  35,  80,  77,  34, 114,   7,  43,\n",
       "              70,  98, 120,  83, 134, 135,  89,   8,  13, 119, 125,   3,  17,\n",
       "              38,  72, 136,   6, 112, 100,   2,  63,  54, 126,  50, 115,  46,\n",
       "             139,  61, 147,  79,  59,  91,  41,  58,  90,  48,  88, 107, 124,\n",
       "              21,  57, 144, 129,  37, 140,   1,  52, 130, 103,  99, 116,  87,\n",
       "              74, 121, 149,  20,  71, 106,  14,  92, 102],\n",
       "            dtype='int64'),\n",
       " Int64Index([ 73,  18, 118,  78,  76,  31,  64, 141,  68,  82, 110,  12,  36,\n",
       "               9,  19,  56, 104,  69,  55, 132,  29, 127,  26, 128, 131, 145,\n",
       "             108, 143,  45,  30,  22,  15,  65,  11,  42, 146,  51,  27,   4,\n",
       "              32, 142,  85,  86,  16,  10,  81, 133, 137,  75, 109],\n",
       "            dtype='int64'))"
      ]
     },
     "execution_count": 15,
     "metadata": {},
     "output_type": "execute_result"
    }
   ],
   "source": [
    "y_train.index, y_test.index"
   ]
  },
  {
   "cell_type": "code",
   "execution_count": 17,
   "id": "3b980597-1690-4f50-881d-b0e067df280b",
   "metadata": {},
   "outputs": [
    {
     "data": {
      "text/plain": [
       "((array(['Setosa', 'Versicolor', 'Virginica'], dtype=object),\n",
       "  array([31, 35, 34])),\n",
       " (array(['Setosa', 'Versicolor', 'Virginica'], dtype=object),\n",
       "  array([19, 15, 16])))"
      ]
     },
     "execution_count": 17,
     "metadata": {},
     "output_type": "execute_result"
    }
   ],
   "source": [
    "np.unique(y_train, return_counts=True), np.unique(y_test, return_counts=True)"
   ]
  },
  {
   "cell_type": "markdown",
   "id": "33266953-bf62-4134-b81d-a9b39f1d7165",
   "metadata": {
    "tags": []
   },
   "source": [
    "### train test split: Random (mandatory) + Stratify"
   ]
  },
  {
   "cell_type": "code",
   "execution_count": 25,
   "id": "ec4f41c8-d110-40a9-911a-25061c99d099",
   "metadata": {},
   "outputs": [],
   "source": [
    "X_train, X_test, y_train, y_test = train_test_split(X, y, test_size=0.33, random_state=42, shuffle = True, stratify = y)"
   ]
  },
  {
   "cell_type": "code",
   "execution_count": 26,
   "id": "3c8628c4-d1dc-4db4-a330-5b63362bff34",
   "metadata": {},
   "outputs": [
    {
     "name": "stdout",
     "output_type": "stream",
     "text": [
      "(100,) (50,)\n"
     ]
    }
   ],
   "source": [
    "print(y_train.shape, y_test.shape)"
   ]
  },
  {
   "cell_type": "code",
   "execution_count": 27,
   "id": "bd5572bc-6ce8-4504-ba63-515520b2943c",
   "metadata": {},
   "outputs": [
    {
     "data": {
      "text/plain": [
       "(Int64Index([136,  17, 142,  59,   6,  32,  15, 137,  30,  34,  54,   9,  98,\n",
       "              62, 128, 149,  33,   4, 102,  44, 114,  48,  24, 131,  37,  58,\n",
       "             126,  89,  13,  90,  12, 144,  80, 135,  97,  25, 113,  19, 115,\n",
       "              29,  64,  79,  16, 139,  81,  75,  36, 101,  70, 117,  40,  92,\n",
       "               8, 100,  74,  71,  83,  73,  87,  65, 121,  76, 130, 123,  26,\n",
       "             110,  82,  52, 112,   3, 118, 129, 105,  46, 119,  11,  43, 109,\n",
       "             103, 146,  27,  50, 120, 125,  31,  72,  91,  68,  95,  61,   0,\n",
       "             124,  94, 143,   5,  49,  86,  45,  60,  47],\n",
       "            dtype='int64'),\n",
       " Int64Index([133,  56,   7,  67, 107,  57,  55,  18,  66,  53,  42,  14,  23,\n",
       "              39,  10, 132, 138,  69, 122,  99, 147,  88,   2, 116,  22, 104,\n",
       "             140,  35,  20, 148, 111, 141,  21,  84,  28,  41, 145,  96,  77,\n",
       "              85,  63,  93,  38,   1, 134,  78, 108, 106,  51, 127],\n",
       "            dtype='int64'))"
      ]
     },
     "execution_count": 27,
     "metadata": {},
     "output_type": "execute_result"
    }
   ],
   "source": [
    "y_train.index, y_test.index"
   ]
  },
  {
   "cell_type": "code",
   "execution_count": 29,
   "id": "64188579-71cf-4513-a480-26f6445fcf20",
   "metadata": {},
   "outputs": [
    {
     "data": {
      "text/plain": [
       "((array(['Setosa', 'Versicolor', 'Virginica'], dtype=object),\n",
       "  array([34, 33, 33])),\n",
       " (array(['Setosa', 'Versicolor', 'Virginica'], dtype=object),\n",
       "  array([16, 17, 17])))"
      ]
     },
     "execution_count": 29,
     "metadata": {},
     "output_type": "execute_result"
    }
   ],
   "source": [
    "np.unique(y_train, return_counts=True), np.unique(y_test, return_counts=True)"
   ]
  },
  {
   "cell_type": "code",
   "execution_count": null,
   "id": "6557f030-c6bb-45a2-9a7c-87fe45e69cdb",
   "metadata": {},
   "outputs": [],
   "source": []
  }
 ],
 "metadata": {
  "kernelspec": {
   "display_name": "analysis",
   "language": "python",
   "name": "analysis"
  },
  "language_info": {
   "codemirror_mode": {
    "name": "ipython",
    "version": 3
   },
   "file_extension": ".py",
   "mimetype": "text/x-python",
   "name": "python",
   "nbconvert_exporter": "python",
   "pygments_lexer": "ipython3",
   "version": "3.7.0"
  }
 },
 "nbformat": 4,
 "nbformat_minor": 5
}
