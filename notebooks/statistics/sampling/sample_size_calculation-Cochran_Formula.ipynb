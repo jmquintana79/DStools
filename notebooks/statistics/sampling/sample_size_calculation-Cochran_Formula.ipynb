{
 "cells": [
  {
   "cell_type": "markdown",
   "metadata": {},
   "source": [
    "# Sample size calculation: Cochran’s Formula\n",
    "\n",
    "> Big data problems [are] actually small data problems, once you have the right subset/sample/summary. Inventing numbers on the spot, I’d say 90% of big data problems fall into this category.\n",
    "\n",
    "Even if you don’t have huge data sets, you usually run into issues where even a fast computer will process too slowly in memory (especially if you’re using R or Python). It will go even slower if you’re processing data remotely.\n",
    "\n",
    "In the cases where pulling down data takes longer than running regressions on it, you’ll need to sample.\n",
    "\n",
    "But how big a sample is big enough? As I’ve been working through a couple of rounds of sampling lately, I’ve found that there’s no standard rule of thumb, either in the data science community or in specific industries like healthcare and finance. The answer is, as always, “It depends.”.\n",
    "\n",
    "A sample size is a part of the population chosen for a survey or experiment. For example, you might take a survey of dog owner’s brand preferences. You won’t want to survey all the millions of dog owners in the country (either because it’s too expensive or time consuming), so you take a sample size. That may be several thousand owners. The sample size is a representation of all dog owner’s brand preferences. If you choose your sample wisely, it will be a good representation. "
   ]
  },
  {
   "cell_type": "markdown",
   "metadata": {},
   "source": [
    "## Cochran’s Sample Size Formula\n",
    "\n",
    "The Cochran formula allows you to calculate an ideal sample size given a desired level of precision, desired confidence level, and the estimated proportion of the attribute present in the population.\n",
    "\n",
    "Cochran’s formula is considered especially **appropriate in situations with large populations**. A sample of any given size provides more information about a smaller population than a larger one, so there’s a **‘correction’** through which the number given by Cochran’s formula can be reduced if the whole population is relatively small.\n",
    "\n",
    "The Cochran formula is:\n",
    "\n",
    "![alt text](https://a8h2w5y7.rocketcdn.me/wp-content/uploads/2018/01/cochran-1.jpeg)\n",
    "\n",
    "Where:\n",
    "\n",
    "- e: is the desired level of precision (i.e. the margin of error),\n",
    "- p: is the (estimated) proportion of the population which has the attribute in question,\n",
    "- q: is 1 – p.\n",
    "\n",
    "The z-value is found in a [Z table](https://www.statisticshowto.com/tables/z-table/). "
   ]
  },
  {
   "cell_type": "markdown",
   "metadata": {},
   "source": [
    "## Modification for the Cochran Formula for Sample Size Calculation In Smaller Populations\n",
    "\n",
    "If the population we’re studying is small, we can modify the sample size we calculated in the above formula by using this equation:\n",
    "    \n",
    "![alt text](https://a8h2w5y7.rocketcdn.me/wp-content/uploads/2018/01/cochran-2.jpeg)\n",
    "\n",
    "Here n0 is Cochran’s sample size recommendation, N is the population size, and n is the new, adjusted sample size. "
   ]
  },
  {
   "cell_type": "markdown",
   "metadata": {},
   "source": [
    "## Calculating sample size with Python\n",
    "\n",
    "There are a couple ways to run a quick calculation: \n",
    "\n",
    "- The fastest is probably this [site](https://www.surveysystem.com/sscalc.htm). \n",
    "- There is also a really nice Python script that does the same thing:"
   ]
  },
  {
   "cell_type": "code",
   "execution_count": 43,
   "metadata": {},
   "outputs": [],
   "source": [
    "%matplotlib inline\n",
    "import math\n",
    "import scipy.stats as st"
   ]
  },
  {
   "cell_type": "code",
   "execution_count": 44,
   "metadata": {},
   "outputs": [],
   "source": [
    "# CALCULATE Z VALUE\n",
    "def get_z(confidence_level:float)->float:\n",
    "    \"\"\"\n",
    "    Calculate Z value for a given confidence level.\n",
    "    \n",
    "    confidence_level -- confidence level into percent. \n",
    "    return -- z value.\n",
    "    \"\"\"\n",
    "    return st.norm.ppf(1-(1-confidence_level/100.)/2)\n",
    "\n",
    "\n",
    "# CALCULATE THE SAMPLE SIZE\n",
    "def sample_size(population_size:int, confidence_level:float, confidence_interval:float):\n",
    "    \"\"\"\n",
    "    Calculate the sample size using the Cochran’s Sample Size Formula.\n",
    "    \n",
    "    population_size -- the total population size.\n",
    "    confidence_level -- the seleceted confidence level in percent. \n",
    "    confidence_interval -- the selected confidence interval in percent.\n",
    "    return -- sample size with the correction for smaller population (no large).\n",
    "    \"\"\"\n",
    "    Z = 0.0\n",
    "    p = 0.5\n",
    "    e = confidence_interval/100.0\n",
    "    N = population_size\n",
    "    n_0 = 0.0\n",
    "    n = 0.0\n",
    "\n",
    "    # FIND THE NUM STD DEVIATIONS FOR THAT CONFIDENCE LEVEL\n",
    "    Z = get_z(confidence_level)\n",
    "\n",
    "    if Z == 0.0:\n",
    "        return -1\n",
    "\n",
    "    # CALC SAMPLE SIZE\n",
    "    n_0 = ((Z**2) * p * (1-p)) / (e**2)\n",
    "\n",
    "    # ADJUST SAMPLE SIZE FOR FINITE POPULATION\n",
    "    n = n_0 / (1 + ((n_0 - 1) / float(N)) )\n",
    "\n",
    "    return int(math.ceil(n)) # THE SAMPLE SIZE"
   ]
  },
  {
   "cell_type": "code",
   "execution_count": 45,
   "metadata": {},
   "outputs": [
    {
     "name": "stdout",
     "output_type": "stream",
     "text": [
      "SAMPLE SIZE: 2345\n"
     ]
    }
   ],
   "source": [
    "population_sz = 100000\n",
    "confidence_level = 95.0\n",
    "confidence_interval = 2.0\n",
    "\n",
    "sample_sz = sample_size(population_sz, confidence_level, confidence_interval)\n",
    "\n",
    "print(\"SAMPLE SIZE: %d\" % sample_sz)"
   ]
  },
  {
   "cell_type": "markdown",
   "metadata": {},
   "source": [
    "### Reference:\n",
    "\n",
    "- [\"How large should your sample size be?\" by Vicki Boykis](https://veekaybee.github.io/2015/08/04/how-big-of-a-sample-size-do-you-need/)\n",
    "- [Sample Size Calculator](https://www.surveysystem.com/sscalc.htm)\n",
    "- [Cochran’s Sample Size Formula](https://www.statisticshowto.com/probability-and-statistics/find-sample-size/)\n",
    "- [Determination of appropriate Sample Size](https://shodhganga.inflibnet.ac.in/bitstream/10603/23539/7/07_chapter%202.pdf)"
   ]
  }
 ],
 "metadata": {
  "kernelspec": {
   "display_name": "analysis",
   "language": "python",
   "name": "analysis"
  },
  "language_info": {
   "codemirror_mode": {
    "name": "ipython",
    "version": 3
   },
   "file_extension": ".py",
   "mimetype": "text/x-python",
   "name": "python",
   "nbconvert_exporter": "python",
   "pygments_lexer": "ipython3",
   "version": "3.7.0"
  }
 },
 "nbformat": 4,
 "nbformat_minor": 4
}
