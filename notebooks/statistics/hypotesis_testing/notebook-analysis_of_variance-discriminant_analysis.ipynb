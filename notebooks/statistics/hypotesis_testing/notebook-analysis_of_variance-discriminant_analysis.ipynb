{
 "cells": [
  {
   "cell_type": "markdown",
   "id": "unexpected-prediction",
   "metadata": {},
   "source": [
    "# Analysis of Variance Test (ANOVA) - one way \n",
    "\n",
    "There are sometimes situations where we may have multiple independent data samples.\n",
    "\n",
    "We can perform the Student’s t-test pairwise on each combination of the data samples to get an idea of which samples have different means. This can be onerous if we are only interested in whether all samples have the same distribution or not.\n",
    "\n",
    "To answer this question, we can use the analysis of variance test, or ANOVA for short. ANOVA is a statistical test that assumes that the mean across 2 or more groups are equal. If the evidence suggests that this is not the case, the null hypothesis is rejected and at least one data sample has a different distribution.\n",
    "\n",
    "- Fail to Reject H0: All sample distributions are equal.\n",
    "- Reject H0: One or more sample distributions are not equal.\n",
    "\n",
    "The ANOVA test has important assumptions that must be satisfied in order for the associated p-value to be valid.\n",
    "\n",
    "- The samples are independent.\n",
    "- Each sample is from a normally distributed population.\n",
    "- The population standard deviations of the groups are all equal. This property is known as homoscedasticity.\n",
    "\n",
    "\n",
    "Importantly, **the test can only comment on whether all samples are the same or not**; it cannot quantify which samples differ or by how much.\n",
    "\n",
    "### References:\n",
    "\n",
    "- [MLMastery: How to Calculate Parametric Statistical Hypothesis Tests in Python](https://machinelearningmastery.com/parametric-statistical-significance-tests-in-python/)\n",
    "- [One-Way vs. Two-Way ANOVA: When to Use Each](https://www.statology.org/one-way-vs-two-way-anova/)\n",
    "\n",
    "### Python library:\n",
    "\n",
    "- [scipy.stats.f_oneway](https://docs.scipy.org/doc/scipy/reference/generated/scipy.stats.f_oneway.html)"
   ]
  },
  {
   "cell_type": "code",
   "execution_count": 34,
   "id": "regular-termination",
   "metadata": {},
   "outputs": [],
   "source": [
    "## ANOVA tests\n",
    "def ANOVA(*args, alpha:float = 0.05, verbose:bool = True):\n",
    "    \"\"\"\n",
    "    The one-way ANOVA tests the null hypothesis that two or more groups have the same \n",
    "    population mean. The test is applied to samples from two or more groups, possibly \n",
    "    with differing sizes.\n",
    "    *args -- n groups of samples.\n",
    "    alpha -- to reject or not the test.\n",
    "    verbose -- display extra information (default, True).\n",
    "    \"\"\"\n",
    "    from scipy.stats import f_oneway\n",
    "    # test\n",
    "    stat, p = f_oneway(*args)\n",
    "    # display\n",
    "    if verbose:\n",
    "        print('Statistics=%.3f, p=%.3f' % (stat, p))\n",
    "    # interpret\n",
    "    if p > alpha:\n",
    "        print(f'Same distributions (fail to reject H0 with alpha = {alpha})')\n",
    "    else:\n",
    "        print(f'Different distributions (reject H0 with alpha = {alpha})')\n"
   ]
  },
  {
   "cell_type": "code",
   "execution_count": 37,
   "id": "established-mandate",
   "metadata": {},
   "outputs": [
    {
     "name": "stdout",
     "output_type": "stream",
     "text": [
      "Statistics=3.655, p=0.027\n",
      "Different distributions (reject H0 with alpha = 0.05)\n",
      "Statistics=0.510, p=0.476\n",
      "Same distributions (fail to reject H0 with alpha = 0.05)\n"
     ]
    }
   ],
   "source": [
    "from numpy.random import seed\n",
    "from numpy.random import randn\n",
    "# seed the random number generator\n",
    "seed(1)\n",
    "# generate three independent samples\n",
    "data1 = 5 * randn(100) + 50\n",
    "data2 = 5 * randn(100) + 50\n",
    "data3 = 5 * randn(100) + 52\n",
    "\n",
    "## ANOVA tests\n",
    "ANOVA(data1, data2, data3, alpha = 0.05, verbose = True)\n",
    "ANOVA(data1, data2, alpha = 0.05, verbose = True)"
   ]
  },
  {
   "cell_type": "markdown",
   "id": "numerical-royal",
   "metadata": {},
   "source": [
    "# Analysis of Variance Test (ANOVA) from scratch\n",
    "\n",
    "> NOTA: This is very interesting to learning purpose but it is not working very good. Require a alpha to large to detect differences\n",
    "\n",
    "### References:\n",
    "\n",
    "- [TowardsDataScience: Analysis of Variance — ANOVA with Python](https://towardsdatascience.com/analysis-of-variance-anova-8dc889d2fc3a)"
   ]
  },
  {
   "cell_type": "code",
   "execution_count": 51,
   "id": "environmental-consideration",
   "metadata": {},
   "outputs": [
    {
     "name": "stdout",
     "output_type": "stream",
     "text": [
      "Different distributions (reject H0 with alpha = 0.1)\n"
     ]
    }
   ],
   "source": [
    "import pandas as pd\n",
    "import numpy as np\n",
    "from scipy.stats import f\n",
    "\n",
    "# arguments\n",
    "alpha = 0.1\n",
    "verbose = True\n",
    "# data\n",
    "df = pd.DataFrame.from_dict({'g1': [5,9,10,12,8,8,9], \n",
    "                        'g2': [5,4, 4, 5,5,4,8], \n",
    "                        'g3': [9,8, 5, 6,7,7,6]})\n",
    "\n",
    "# get dimessions\n",
    "m = df.shape[1]\n",
    "n = df.shape[0]\n",
    "\n",
    "# the sum of the squared distance between each data point and the mean of the dataset\n",
    "SST = np.sum(np.sum((df - np.mean(np.mean(df)))**2))\n",
    "# its degrees of freedom\n",
    "df_sst = m*n-1\n",
    "\n",
    "# the sum of the squared distance between each data point and the respective group mean\n",
    "SSW = np.sum(np.sum((df - np.mean(df))**2))\n",
    "# its degrees of freedom\n",
    "df_ssw = m*(n-1)\n",
    "\n",
    "# the sum of the squared distance between each group mean and the mean of the dataset for each data point\n",
    "SSB = np.sum(np.sum((np.tile(np.mean(df), (3,1)) - np.mean(np.mean(df)))**2))\n",
    "# its degrees of freedom\n",
    "df_ssb = m-1\n",
    "\n",
    "# F-statistic\n",
    "F = (SSB/df_ssb)/(SSW/df_ssw)\n",
    "# Percent Point Function of F\n",
    "f_ppf = f.ppf(0.95, dfn=df_ssb, dfd=df_ssw)\n",
    "\n",
    "# p-value\n",
    "p_value = (1 - f.cdf(F, dfn=df_ssb, dfd=df_ssw))*2\n",
    "# interpret\n",
    "if p_value > alpha:\n",
    "    print(f'Same distributions (fail to reject H0 with alpha = {alpha})')\n",
    "else:\n",
    "    print(f'Different distributions (reject H0 with alpha = {alpha})')\n",
    "    "
   ]
  },
  {
   "cell_type": "markdown",
   "id": "other-lover",
   "metadata": {},
   "source": [
    "# Multivariable Analysis of Variance Test (MANOVA) - one way\n",
    "\n",
    "MANOVA is a multivariate version of the ANOVA model. Multivariate here indicates the fact that there are multiple dependent variables instead of just one.\n",
    "\n",
    "As in all statistical models, there are a few **assumptions** to take into account. In MANOVA, the assumptions are:\n",
    "\n",
    "- Independent and identically distributed random variables.\n",
    "- Every samples follow a multivariate normal distribution (within each group).\n",
    "- Equal population covariance matrices between each group (the multivariate alternative to homogeneity of variances in ANOVA). If this assumption is met, it is generally advice to use Pillai’s trace, whereas you should default to Wilk’s lambda otherwise.\n",
    "\n",
    "Importantly, **the test can only comment on whether all samples are the same or not**; it cannot quantify which samples differ or by how much.\n",
    "\n",
    "### References:\n",
    "\n",
    "- [MANOVA using Python (using statsmodels and sklearn)](https://www.reneshbedre.com/blog/manova-python.html)\n",
    "- [TowardDataScience: MANOVA](https://towardsdatascience.com/manova-97e675a96158)\n",
    "- [Python MANOVA Made Easy using Statsmodels](https://www.marsja.se/python-manova-made-easy-using-statsmodels/)"
   ]
  },
  {
   "cell_type": "code",
   "execution_count": 56,
   "id": "czech-ferry",
   "metadata": {},
   "outputs": [
    {
     "name": "stdout",
     "output_type": "stream",
     "text": [
      "Collecting dfply\n",
      "  Downloading dfply-0.3.3-py3-none-any.whl (612 kB)\n",
      "\u001b[K     |████████████████████████████████| 612 kB 2.2 MB/s eta 0:00:01\n",
      "\u001b[?25hRequirement already satisfied: numpy in /home/jmq/miniconda3/envs/analysis/lib/python3.7/site-packages (from dfply) (1.19.2)\n",
      "Requirement already satisfied: pandas in /home/jmq/miniconda3/envs/analysis/lib/python3.7/site-packages (from dfply) (1.1.5)\n",
      "Requirement already satisfied: pytz>=2017.2 in /home/jmq/miniconda3/envs/analysis/lib/python3.7/site-packages (from pandas->dfply) (2020.5)\n",
      "Requirement already satisfied: python-dateutil>=2.7.3 in /home/jmq/miniconda3/envs/analysis/lib/python3.7/site-packages (from pandas->dfply) (2.8.1)\n",
      "Requirement already satisfied: six>=1.5 in /home/jmq/miniconda3/envs/analysis/lib/python3.7/site-packages (from python-dateutil>=2.7.3->pandas->dfply) (1.15.0)\n",
      "Installing collected packages: dfply\n",
      "Successfully installed dfply-0.3.3\n"
     ]
    }
   ],
   "source": [
    "!pip install dfply"
   ]
  },
  {
   "cell_type": "code",
   "execution_count": 59,
   "id": "radical-atlas",
   "metadata": {},
   "outputs": [],
   "source": [
    "import pandas as pd\n",
    "from dfply import *"
   ]
  },
  {
   "cell_type": "markdown",
   "id": "empty-founder",
   "metadata": {},
   "source": [
    "### load data"
   ]
  },
  {
   "cell_type": "code",
   "execution_count": 57,
   "id": "intelligent-blond",
   "metadata": {},
   "outputs": [
    {
     "name": "stdout",
     "output_type": "stream",
     "text": [
      "  plant_var  height  canopy_vol\n",
      "0         A    20.0        0.70\n",
      "1         A    22.0        0.80\n",
      "2         A    24.0        0.95\n",
      "3         A    18.0        0.60\n",
      "4         A    20.0        0.74\n"
     ]
    }
   ],
   "source": [
    "# load data from url\n",
    "df=pd.read_csv(\"https://reneshbedre.github.io/assets/posts/ancova/manova_data.csv\")\n",
    "print(df.head())"
   ]
  },
  {
   "cell_type": "markdown",
   "id": "signed-auditor",
   "metadata": {},
   "source": [
    "### data summarization"
   ]
  },
  {
   "cell_type": "code",
   "execution_count": 60,
   "id": "tough-beijing",
   "metadata": {},
   "outputs": [
    {
     "data": {
      "text/html": [
       "<div>\n",
       "<style scoped>\n",
       "    .dataframe tbody tr th:only-of-type {\n",
       "        vertical-align: middle;\n",
       "    }\n",
       "\n",
       "    .dataframe tbody tr th {\n",
       "        vertical-align: top;\n",
       "    }\n",
       "\n",
       "    .dataframe thead th {\n",
       "        text-align: right;\n",
       "    }\n",
       "</style>\n",
       "<table border=\"1\" class=\"dataframe\">\n",
       "  <thead>\n",
       "    <tr style=\"text-align: right;\">\n",
       "      <th></th>\n",
       "      <th>plant_var</th>\n",
       "      <th>n</th>\n",
       "      <th>mean</th>\n",
       "      <th>std</th>\n",
       "    </tr>\n",
       "  </thead>\n",
       "  <tbody>\n",
       "    <tr>\n",
       "      <th>0</th>\n",
       "      <td>A</td>\n",
       "      <td>10</td>\n",
       "      <td>18.90</td>\n",
       "      <td>2.923088</td>\n",
       "    </tr>\n",
       "    <tr>\n",
       "      <th>1</th>\n",
       "      <td>B</td>\n",
       "      <td>10</td>\n",
       "      <td>16.54</td>\n",
       "      <td>1.920185</td>\n",
       "    </tr>\n",
       "    <tr>\n",
       "      <th>2</th>\n",
       "      <td>C</td>\n",
       "      <td>10</td>\n",
       "      <td>3.05</td>\n",
       "      <td>1.039498</td>\n",
       "    </tr>\n",
       "    <tr>\n",
       "      <th>3</th>\n",
       "      <td>D</td>\n",
       "      <td>10</td>\n",
       "      <td>9.35</td>\n",
       "      <td>2.106735</td>\n",
       "    </tr>\n",
       "  </tbody>\n",
       "</table>\n",
       "</div>"
      ],
      "text/plain": [
       "  plant_var   n   mean       std\n",
       "0         A  10  18.90  2.923088\n",
       "1         B  10  16.54  1.920185\n",
       "2         C  10   3.05  1.039498\n",
       "3         D  10   9.35  2.106735"
      ]
     },
     "execution_count": 60,
     "metadata": {},
     "output_type": "execute_result"
    }
   ],
   "source": [
    "# summary statistics for dependent variable height \n",
    "df >> group_by(X.plant_var) >> summarize(n=X['height'].count(), mean=X['height'].mean(), std=X['height'].std())"
   ]
  },
  {
   "cell_type": "code",
   "execution_count": 61,
   "id": "excess-architect",
   "metadata": {},
   "outputs": [
    {
     "data": {
      "text/html": [
       "<div>\n",
       "<style scoped>\n",
       "    .dataframe tbody tr th:only-of-type {\n",
       "        vertical-align: middle;\n",
       "    }\n",
       "\n",
       "    .dataframe tbody tr th {\n",
       "        vertical-align: top;\n",
       "    }\n",
       "\n",
       "    .dataframe thead th {\n",
       "        text-align: right;\n",
       "    }\n",
       "</style>\n",
       "<table border=\"1\" class=\"dataframe\">\n",
       "  <thead>\n",
       "    <tr style=\"text-align: right;\">\n",
       "      <th></th>\n",
       "      <th>plant_var</th>\n",
       "      <th>n</th>\n",
       "      <th>mean</th>\n",
       "      <th>std</th>\n",
       "    </tr>\n",
       "  </thead>\n",
       "  <tbody>\n",
       "    <tr>\n",
       "      <th>0</th>\n",
       "      <td>A</td>\n",
       "      <td>10</td>\n",
       "      <td>0.784</td>\n",
       "      <td>0.121308</td>\n",
       "    </tr>\n",
       "    <tr>\n",
       "      <th>1</th>\n",
       "      <td>B</td>\n",
       "      <td>10</td>\n",
       "      <td>0.608</td>\n",
       "      <td>0.096816</td>\n",
       "    </tr>\n",
       "    <tr>\n",
       "      <th>2</th>\n",
       "      <td>C</td>\n",
       "      <td>10</td>\n",
       "      <td>0.272</td>\n",
       "      <td>0.143279</td>\n",
       "    </tr>\n",
       "    <tr>\n",
       "      <th>3</th>\n",
       "      <td>D</td>\n",
       "      <td>10</td>\n",
       "      <td>0.474</td>\n",
       "      <td>0.094540</td>\n",
       "    </tr>\n",
       "  </tbody>\n",
       "</table>\n",
       "</div>"
      ],
      "text/plain": [
       "  plant_var   n   mean       std\n",
       "0         A  10  0.784  0.121308\n",
       "1         B  10  0.608  0.096816\n",
       "2         C  10  0.272  0.143279\n",
       "3         D  10  0.474  0.094540"
      ]
     },
     "execution_count": 61,
     "metadata": {},
     "output_type": "execute_result"
    }
   ],
   "source": [
    "# summary statistics for dependent variable canopy_vol \n",
    "df >> group_by(X.plant_var) >> summarize(n=X['canopy_vol'].count(), mean=X['canopy_vol'].mean(), std=X['canopy_vol'].std())"
   ]
  },
  {
   "cell_type": "markdown",
   "id": "cardiovascular-elimination",
   "metadata": {},
   "source": [
    "### data visualization"
   ]
  },
  {
   "cell_type": "code",
   "execution_count": 66,
   "id": "excellent-thought",
   "metadata": {},
   "outputs": [
    {
     "data": {
      "image/png": "[encoded data removed]",
      "text/plain": [
       "<Figure size 1440x360 with 2 Axes>"
      ]
     },
     "metadata": {
      "needs_background": "light"
     },
     "output_type": "display_data"
    }
   ],
   "source": [
    "import seaborn as sns\n",
    "import matplotlib.pyplot as plt\n",
    "fig, axs = plt.subplots(ncols=2, figsize = (20, 5))\n",
    "sns.boxplot(data=df, x=\"plant_var\", y=\"height\", hue=df.plant_var.tolist(), ax=axs[0])\n",
    "sns.boxplot(data=df, x=\"plant_var\", y=\"canopy_vol\", hue=df.plant_var.tolist(), ax=axs[1])\n",
    "plt.show()"
   ]
  },
  {
   "cell_type": "markdown",
   "id": "irish-atmosphere",
   "metadata": {},
   "source": [
    "### MANOVA test"
   ]
  },
  {
   "cell_type": "code",
   "execution_count": 68,
   "id": "narrow-organ",
   "metadata": {},
   "outputs": [
    {
     "name": "stdout",
     "output_type": "stream",
     "text": [
      "                  Multivariate linear model\n",
      "==============================================================\n",
      "                                                              \n",
      "--------------------------------------------------------------\n",
      "       Intercept         Value  Num DF  Den DF F Value  Pr > F\n",
      "--------------------------------------------------------------\n",
      "          Wilks' lambda  0.0374 2.0000 35.0000 450.0766 0.0000\n",
      "         Pillai's trace  0.9626 2.0000 35.0000 450.0766 0.0000\n",
      " Hotelling-Lawley trace 25.7187 2.0000 35.0000 450.0766 0.0000\n",
      "    Roy's greatest root 25.7187 2.0000 35.0000 450.0766 0.0000\n",
      "--------------------------------------------------------------\n",
      "                                                              \n",
      "--------------------------------------------------------------\n",
      "       plant_var         Value  Num DF  Den DF F Value  Pr > F\n",
      "--------------------------------------------------------------\n",
      "          Wilks' lambda  0.0797 6.0000 70.0000  29.6513 0.0000\n",
      "         Pillai's trace  1.0365 6.0000 72.0000  12.9093 0.0000\n",
      " Hotelling-Lawley trace 10.0847 6.0000 44.9320  58.0496 0.0000\n",
      "    Roy's greatest root  9.9380 3.0000 36.0000 119.2558 0.0000\n",
      "==============================================================\n",
      "\n"
     ]
    }
   ],
   "source": [
    "from statsmodels.multivariate.manova import MANOVA\n",
    "import warnings\n",
    "warnings.filterwarnings('ignore')\n",
    "\n",
    "fit = MANOVA.from_formula('height + canopy_vol ~ plant_var', data=df)\n",
    "print(fit.mv_test())"
   ]
  },
  {
   "cell_type": "markdown",
   "id": "traditional-boxing",
   "metadata": {},
   "source": [
    "### Understanding the output of the MANOVA in Python\n",
    "\n",
    "Now in Python, using *statsmodels* library, the output shows the analysis using different test statistics. The second one, **Pillai’s trace**, is the one that we saw in the R output as well. Pillai’s trace is know to be relatively conservative: it gives a significant result less easily (the differences have to be bigger to obtain significant output).\n",
    "\n",
    "The **Wilks’ Lambda** is another often-used test statistic. **Hotelling-Lawley trace** and **Roy’s greatest root** are also alternative options. There is no absolute consensus in the statistical literature as to which test statistic should be preferred.\n",
    "\n",
    "> NOTA: If the assumption *\"Equal population covariance matrices between each group\"* is met, it is generally advice to use Pillai’s trace, whereas you should default to Wilk’s lambda otherwise. Wilk’s lambda is the most popular.\n",
    " \n",
    "The p-values are shown in the right column and are all inferior to 0.05, which confirms that treatment has an impact on plant growth.\n",
    "    \n",
    "  "
   ]
  },
  {
   "cell_type": "markdown",
   "id": "connected-light",
   "metadata": {},
   "source": [
    "### MANOVA tool"
   ]
  },
  {
   "cell_type": "code",
   "execution_count": 124,
   "id": "unlikely-africa",
   "metadata": {},
   "outputs": [],
   "source": [
    "## get results from one test from fitted MANOVA\n",
    "def test_result(manova_fit:'fitted manova', name_test:str)->(float, float):\n",
    "    \"\"\"\n",
    "    Get results from one test from fitted MANOVA. These are avaiable: \"Roy's greatest root\",\n",
    "    \"Pillai's trace\", \"Wilks' lambda\", 'Hotelling-Lawley trace'.\n",
    "    \n",
    "    manova_fit -- fitted manova test.\n",
    "    name_test -- name of setected test.\n",
    "    return -- (F value, p-value)\n",
    "    \"\"\"\n",
    "    # validate test name\n",
    "    assert name_test in [\"Roy's greatest root\",\"Pillai's trace\",\"Wilks' lambda\",'Hotelling-Lawley trace']\n",
    "    # get F and p-values\n",
    "    temp = manova_fit.mv_test().summary_frame.reset_index()\n",
    "    F, p = temp[(temp.Statistic == name_test) & ~(temp.Effect == \"Intercept\")][['F Value', 'Pr > F']].values.ravel()\n",
    "    # return\n",
    "    return (F, p)\n",
    "\n",
    "\n",
    "## prepare formula to be used in MANOVA\n",
    "def get_formula(cols_num:list, cols_cat:list)->str:\n",
    "    \"\"\"\n",
    "    Prepare formula to be used in MANOVA.\n",
    "    cols_num -- list of numeric columns to be inclued in the left side of formula.\n",
    "    cols_cat -- list of categorical columns to be included in the right side of formula.\n",
    "    return -- formula.\n",
    "    \"\"\"\n",
    "    # initialize numeric side\n",
    "    formula = '%s'%cols_num[0]\n",
    "    # add more elements\n",
    "    if len(cols_num)>1:\n",
    "        for c in cols_num[1:]:\n",
    "            formula += ' + %s'%c\n",
    "    # initialize categoric side        \n",
    "    formula += ' ~ %s'%cols_cat[0]\n",
    "    # add more elements\n",
    "    if len(cols_cat)>1:\n",
    "        for c in cols_cat[1:]:\n",
    "            formula += ' + %s'%c\n",
    "    # return\n",
    "    return formula\n",
    "\n",
    "\n",
    "## MANOVA tests\n",
    "def MANOVA(df:pd.DataFrame, \n",
    "           cols_num:list, cols_cat:list, \n",
    "           alpha:float = 0.05, \n",
    "           name_test:str = \"Pillai's trace\", \n",
    "           verbose:bool = True):\n",
    "    \"\"\"\n",
    "    The one-way MANOVA tests (\"Roy's greatest root\",\n",
    "    \"Pillai's trace\", \"Wilks' lambda\", 'Hotelling-Lawley trace').\n",
    "    df -- dataframe of data.\n",
    "    cols_num -- list of numerical columns.\n",
    "    cols_cat -- list of categorical columns.\n",
    "    alpha -- to reject or not the test.\n",
    "    verbose -- display extra information (default, True).\n",
    "    \"\"\"\n",
    "    from statsmodels.multivariate.manova import MANOVA\n",
    "    \n",
    "    # validate column names\n",
    "    for c in cols_num + cols_cat:\n",
    "        assert c in df.columns.tolist()\n",
    "    # get formula\n",
    "    formula = get_formula(cols_num, cols_cat)\n",
    "    # fit manova\n",
    "    fit = MANOVA.from_formula(formula, data=df)\n",
    "    if len(cols_cat) == 1:\n",
    "        # get results\n",
    "        F, p = test_result(fit, name_test)\n",
    "        # display\n",
    "        if verbose:\n",
    "            print('FORMULA: \"%s\"'%formula)\n",
    "            print('Statistics=%.3f, p=%.3f\\n' % (F, p))\n",
    "            print(fit.mv_test())\n",
    "        # interpret\n",
    "        if p > alpha:\n",
    "            print(f'Same distributions (fail to reject H0 with alpha = {alpha})')\n",
    "        else:\n",
    "            print(f'Different distributions (reject H0 with alpha = {alpha})')\n",
    "    else:\n",
    "        print(fit.mv_test())\n"
   ]
  },
  {
   "cell_type": "code",
   "execution_count": 126,
   "id": "champion-conditions",
   "metadata": {},
   "outputs": [
    {
     "name": "stdout",
     "output_type": "stream",
     "text": [
      "FORMULA: \"canopy_vol + height ~ plant_var\"\n",
      "Statistics=12.909, p=0.000\n",
      "\n",
      "                  Multivariate linear model\n",
      "==============================================================\n",
      "                                                              \n",
      "--------------------------------------------------------------\n",
      "       Intercept         Value  Num DF  Den DF F Value  Pr > F\n",
      "--------------------------------------------------------------\n",
      "          Wilks' lambda  0.0374 2.0000 35.0000 450.0766 0.0000\n",
      "         Pillai's trace  0.9626 2.0000 35.0000 450.0766 0.0000\n",
      " Hotelling-Lawley trace 25.7187 2.0000 35.0000 450.0766 0.0000\n",
      "    Roy's greatest root 25.7187 2.0000 35.0000 450.0766 0.0000\n",
      "--------------------------------------------------------------\n",
      "                                                              \n",
      "--------------------------------------------------------------\n",
      "       plant_var         Value  Num DF  Den DF F Value  Pr > F\n",
      "--------------------------------------------------------------\n",
      "          Wilks' lambda  0.0797 6.0000 70.0000  29.6513 0.0000\n",
      "         Pillai's trace  1.0365 6.0000 72.0000  12.9093 0.0000\n",
      " Hotelling-Lawley trace 10.0847 6.0000 44.9320  58.0496 0.0000\n",
      "    Roy's greatest root  9.9380 3.0000 36.0000 119.2558 0.0000\n",
      "==============================================================\n",
      "\n",
      "Different distributions (reject H0 with alpha = 0.05)\n"
     ]
    }
   ],
   "source": [
    "cols_cat = ['plant_var']\n",
    "cols_num = ['canopy_vol', 'height']\n",
    "alpha = 0.05\n",
    "name_test = \"Pillai's trace\"\n",
    "verbose = True\n",
    "MANOVA(df, cols_num, cols_cat, alpha, name_test, verbose)"
   ]
  },
  {
   "cell_type": "markdown",
   "id": "valid-affect",
   "metadata": {},
   "source": [
    "# Linear Discriminant Analysis (LDA)\n",
    "\n",
    "Here we will perform the linear discriminant analysis (LDA) using sklearn to see the differences between each group. For this, LDA is a good complement to MANOVA due to MANOVA cannot quantify which samples differ or by how much.\n",
    "\n",
    "### References:\n",
    "\n",
    "- [MANOVA using Python (using statsmodels and sklearn)](https://www.reneshbedre.com/blog/manova-python.html)"
   ]
  },
  {
   "cell_type": "code",
   "execution_count": 134,
   "id": "frozen-throat",
   "metadata": {},
   "outputs": [
    {
     "name": "stdout",
     "output_type": "stream",
     "text": [
      "prior probabilities of groups: [0.25 0.25 0.25 0.25]\n",
      "group means: [[18.9    0.784]\n",
      " [16.54   0.608]\n",
      " [ 3.05   0.272]\n",
      " [ 9.35   0.474]]\n",
      "coefficients of linear discriminants: [[-0.43883736 -0.2751091 ]\n",
      " [-1.39491582  9.32562799]]\n",
      "---> proportion of trace: [0.98545382 0.01454618] <-------------------------\n"
     ]
    },
    {
     "data": {
      "image/png": "[encoded data removed]",
      "text/plain": [
       "<Figure size 720x720 with 1 Axes>"
      ]
     },
     "metadata": {
      "needs_background": "light"
     },
     "output_type": "display_data"
    }
   ],
   "source": [
    "from sklearn.discriminant_analysis import LinearDiscriminantAnalysis as lda\n",
    "X = df[[\"height\", \"canopy_vol\"]]\n",
    "y = df[\"plant_var\"]\n",
    "post_hoc = lda().fit(X=X, y=y)\n",
    "\n",
    "# get Prior probabilities of groups:\n",
    "print(\"prior probabilities of groups:\",post_hoc.priors_)\n",
    "\n",
    "# get group means\n",
    "print(\"group means:\",post_hoc.means_)\n",
    "\n",
    "# get Coefficients of linear discriminants\n",
    "print(\"coefficients of linear discriminants:\",post_hoc.scalings_)\n",
    "\n",
    "# get Proportion of trace (variance explained by each of the selected components)\n",
    "print(\"---> proportion of trace:\",post_hoc.explained_variance_ratio_, \"<-------------------------\")\n",
    "\n",
    "# plot \n",
    "import matplotlib.pyplot as plt\n",
    "fig, ax = plt.subplots(figsize = (10,10))\n",
    "X_new = pd.DataFrame(lda().fit(X=X, y=y).transform(X), columns=[\"lda1\", \"lda2\"])\n",
    "X_new[\"plant_var\"] = df[\"plant_var\"]\n",
    "sns.scatterplot(data=X_new, x=\"lda1\", y=\"lda2\", hue=df.plant_var.tolist())\n",
    "plt.show()\n"
   ]
  },
  {
   "cell_type": "code",
   "execution_count": null,
   "id": "opened-devil",
   "metadata": {},
   "outputs": [],
   "source": []
  }
 ],
 "metadata": {
  "kernelspec": {
   "display_name": "analysis",
   "language": "python",
   "name": "analysis"
  },
  "language_info": {
   "codemirror_mode": {
    "name": "ipython",
    "version": 3
   },
   "file_extension": ".py",
   "mimetype": "text/x-python",
   "name": "python",
   "nbconvert_exporter": "python",
   "pygments_lexer": "ipython3",
   "version": "3.7.0"
  }
 },
 "nbformat": 4,
 "nbformat_minor": 5
}
