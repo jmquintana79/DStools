{
 "cells": [
  {
   "cell_type": "markdown",
   "id": "e9a751de-9206-4c6d-b70b-e815773e89b2",
   "metadata": {},
   "source": [
    "# Test if distribution is expotential"
   ]
  },
  {
   "cell_type": "code",
   "execution_count": 96,
   "id": "d7e98904-e88a-4f8e-97f7-5e1a730c1dfa",
   "metadata": {},
   "outputs": [],
   "source": [
    "import numpy as np\n",
    "from scipy.stats import anderson\n",
    "from scipy.stats import expon "
   ]
  },
  {
   "cell_type": "markdown",
   "id": "fa9df062-877b-41a8-8629-fa3b766e18e9",
   "metadata": {},
   "source": [
    "### Example: Exponential Distribution "
   ]
  },
  {
   "cell_type": "code",
   "execution_count": 103,
   "id": "e4aa1cbc-2052-452d-b574-bb400e2b8fae",
   "metadata": {},
   "outputs": [],
   "source": [
    "## Anderson test for Exponential distribution\n",
    "def test_anderson_exponential(data:np.array):\n",
    "    \"\"\"\n",
    "    Anderson test for Exponential distribution.\n",
    "    data -- Data to be tested.\n",
    "    \"\"\"\n",
    "    from scipy.stats import anderson\n",
    "    result = anderson(data, 'expon')\n",
    "    print ('Anderson Test'.center(110, '-'))\n",
    "    print ('t_stat: %s' % (result.statistic))   \n",
    "    for i in range(len(result.critical_values)):\n",
    "        sl, cv = result.significance_level[i], result.critical_values[i]\n",
    "        if result.statistic < cv:\n",
    "            print('Probably Exponential at the %.1f%% of significance level' % (sl))\n",
    "        else:\n",
    "            print('Probably not Exponential at the %.1f%% of significance level' % (sl))"
   ]
  },
  {
   "cell_type": "raw",
   "id": "58efb996-b5d6-4a0c-af89-d80eeedd3b51",
   "metadata": {},
   "source": [
    "## Anderson test for Exponential distribution\n",
    "def test_anderson_exponential(data:np.array, verbose:bool = False)->bool:\n",
    "    \"\"\"\n",
    "    Test if distribution is Exponential.\n",
    "    data -- 1D data to be tested.\n",
    "    verbose -- Display extra information (default, False).\n",
    "    return -- boolean according test result.\n",
    "    \"\"\"\n",
    "    from scipy.stats import normaltest\n",
    "    # remove nan values\n",
    "    data = data[~(np.isnan(data))]  \n",
    "    try:\n",
    "        from scipy.stats import anderson\n",
    "        result = anderson(data, 'expon')       \n",
    "        sl, cv = result.significance_level[-1], result.critical_values[-1]\n",
    "    except:\n",
    "        # manage exception\n",
    "        if verbose:\n",
    "            print('[error-Anderson] It was not possible get a result.')\n",
    "        return np.nan     \n",
    "\n",
    "    # display\n",
    "    if verbose:\n",
    "        print ('Anderson Test'.center(110, '-'))\n",
    "        print ('t_stat: %s' % (result.statistic))   \n",
    "    # results\n",
    "    if result.statistic < cv:\n",
    "        # display\n",
    "        if verbose:\n",
    "            print('Probably Exponential at the 1% of significance level' % (sl))\n",
    "        # return result\n",
    "        return True\n",
    "    else:\n",
    "        # display\n",
    "        if verbose:\n",
    "            print('Probably not Exponential at the 1% of significance level' % (sl))\n",
    "        # return \n",
    "        return False"
   ]
  },
  {
   "cell_type": "code",
   "execution_count": 104,
   "id": "73e97ba1-dff7-41ea-b279-5df931ef5f64",
   "metadata": {},
   "outputs": [
    {
     "name": "stdout",
     "output_type": "stream",
     "text": [
      "------------------------------------------------Anderson Test-------------------------------------------------\n",
      "t_stat: 0.28203273409781104\n",
      "Probably Exponential at the 15.0% of significance level\n",
      "Probably Exponential at the 10.0% of significance level\n",
      "Probably Exponential at the 5.0% of significance level\n",
      "Probably Exponential at the 2.5% of significance level\n",
      "Probably Exponential at the 1.0% of significance level\n"
     ]
    }
   ],
   "source": [
    "# random variable with exponential distribution\n",
    "data = expon.rvs(scale = 1,  size = 1000)\n",
    "# test\n",
    "test_anderson_exponential(data)"
   ]
  },
  {
   "cell_type": "code",
   "execution_count": 105,
   "id": "37321c34-c02c-44d9-a314-5b1f0a692e95",
   "metadata": {},
   "outputs": [
    {
     "data": {
      "image/png": "[encoded data removed]",
      "text/plain": [
       "<Figure size 432x288 with 1 Axes>"
      ]
     },
     "metadata": {
      "needs_background": "light"
     },
     "output_type": "display_data"
    }
   ],
   "source": [
    "# plot\n",
    "import matplotlib.pyplot as plt\n",
    "fig, ax = plt.subplots()\n",
    "ax.hist(data, bins = 50)\n",
    "plt.show()"
   ]
  },
  {
   "cell_type": "code",
   "execution_count": null,
   "id": "e9d89df4-cacc-4ce1-ad4c-5b273b65311b",
   "metadata": {},
   "outputs": [],
   "source": []
  },
  {
   "cell_type": "code",
   "execution_count": null,
   "id": "db37a2cc-5b32-4a8e-ac59-33a9dc572741",
   "metadata": {},
   "outputs": [],
   "source": []
  }
 ],
 "metadata": {
  "kernelspec": {
   "display_name": "analysis",
   "language": "python",
   "name": "analysis"
  },
  "language_info": {
   "codemirror_mode": {
    "name": "ipython",
    "version": 3
   },
   "file_extension": ".py",
   "mimetype": "text/x-python",
   "name": "python",
   "nbconvert_exporter": "python",
   "pygments_lexer": "ipython3",
   "version": "3.7.0"
  }
 },
 "nbformat": 4,
 "nbformat_minor": 5
}
