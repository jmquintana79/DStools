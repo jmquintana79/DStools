{
 "cells": [
  {
   "attachments": {},
   "cell_type": "markdown",
   "metadata": {},
   "source": [
    "# Multimodal Distribution Analysis according to a categorical variable with Bhattacharyya distance"
   ]
  },
  {
   "cell_type": "code",
   "execution_count": 1,
   "metadata": {},
   "outputs": [],
   "source": [
    "import pandas as pd"
   ]
  },
  {
   "attachments": {},
   "cell_type": "markdown",
   "metadata": {},
   "source": [
    "### functions"
   ]
  },
  {
   "cell_type": "code",
   "execution_count": 26,
   "metadata": {},
   "outputs": [],
   "source": [
    "\"\"\"\n",
    "The function bhatta_dist() calculates the Bhattacharyya distance between two classes on a single feature.\n",
    "    The distance is positively correlated to the class separation of this feature. Four different methods are\n",
    "    provided for calculating the Bhattacharyya coefficient.\n",
    "Created on 4/14/2018\n",
    "Author: Eric Williamson (ericpaulwill@gmail.com)\n",
    "\"\"\"\n",
    "import numpy as np\n",
    "from math import sqrt\n",
    "from scipy.stats import gaussian_kde\n",
    "import itertools\n",
    "\n",
    "def bhatta_dist(X1, X2, method='continuous'):\n",
    "    #Calculate the Bhattacharyya distance between X1 and X2. X1 and X2 should be 1D numpy arrays representing the same\n",
    "    # feature in two separate classes. \n",
    "\n",
    "    def get_density(x, cov_factor=0.1):\n",
    "        #Produces a continuous density function for the data in 'x'. Some benefit may be gained from adjusting the cov_factor.\n",
    "        density = gaussian_kde(x)\n",
    "        density.covariance_factor = lambda:cov_factor\n",
    "        density._compute_covariance()\n",
    "        return density\n",
    "\n",
    "    #Combine X1 and X2, we'll use it later:\n",
    "    cX = np.concatenate((X1,X2))\n",
    "\n",
    "    if method == 'noiseless':\n",
    "        ###This method works well when the feature is qualitative (rather than quantitative). Each unique value is\n",
    "        ### treated as an individual bin.\n",
    "        uX = np.unique(cX)\n",
    "        A1 = len(X1) * (max(cX)-min(cX)) / len(uX)\n",
    "        A2 = len(X2) * (max(cX)-min(cX)) / len(uX)\n",
    "        bht = 0\n",
    "        for x in uX:\n",
    "            p1 = (X1==x).sum() / A1\n",
    "            p2 = (X2==x).sum() / A2\n",
    "            bht += sqrt(p1*p2) * (max(cX)-min(cX))/len(uX)\n",
    "\n",
    "    elif method == 'hist':\n",
    "        ###Bin the values into a hardcoded number of bins (This is sensitive to N_BINS)\n",
    "        N_BINS = 10\n",
    "        #Bin the values:\n",
    "        h1 = np.histogram(X1,bins=N_BINS,range=(min(cX),max(cX)), density=True)[0]\n",
    "        h2 = np.histogram(X2,bins=N_BINS,range=(min(cX),max(cX)), density=True)[0]\n",
    "        #Calc coeff from bin densities:\n",
    "        bht = 0\n",
    "        for i in range(N_BINS):\n",
    "            p1 = h1[i]\n",
    "            p2 = h2[i]\n",
    "            bht += sqrt(p1*p2) * (max(cX)-min(cX))/N_BINS\n",
    "\n",
    "    elif method == 'autohist':\n",
    "        ###Bin the values into bins automatically set by np.histogram:\n",
    "        #Create bins from the combined sets:\n",
    "        # bins = np.histogram(cX, bins='fd')[1]\n",
    "        bins = np.histogram(cX, bins='doane')[1] #Seems to work best\n",
    "        # bins = np.histogram(cX, bins='auto')[1]\n",
    "\n",
    "        h1 = np.histogram(X1,bins=bins, density=True)[0]\n",
    "        h2 = np.histogram(X2,bins=bins, density=True)[0]\n",
    "\n",
    "        #Calc coeff from bin densities:\n",
    "        bht = 0\n",
    "        for i in range(len(h1)):\n",
    "            p1 = h1[i]\n",
    "            p2 = h2[i]\n",
    "            bht += sqrt(p1*p2) * (max(cX)-min(cX))/len(h1)\n",
    "\n",
    "    elif method == 'continuous':\n",
    "        ###Use a continuous density function to calculate the coefficient (This is the most consistent, but also slightly slow):\n",
    "        N_STEPS = 200\n",
    "        #Get density functions:\n",
    "        d1 = get_density(X1)\n",
    "        d2 = get_density(X2)\n",
    "        #Calc coeff:\n",
    "        xs = np.linspace(min(cX),max(cX),N_STEPS)\n",
    "        bht = 0\n",
    "        for x in xs:\n",
    "            p1 = d1(x)\n",
    "            p2 = d2(x)\n",
    "            bht += sqrt(p1*p2)*(max(cX)-min(cX))/N_STEPS\n",
    "\n",
    "    else:\n",
    "        raise ValueError(\"The value of the 'method' parameter does not match any known method\")\n",
    "\n",
    "    ###Lastly, convert the coefficient into distance:\n",
    "    if bht==0:\n",
    "        return float('Inf')\n",
    "    else:\n",
    "        return -np.log(bht)\n",
    "\n",
    "\n",
    "def bhatta_dist2(x, Y, Y_selection=None, method='continuous'):\n",
    "    #Same as bhatta_dist, but takes different inputs. Takes a feature 'x' and separates it by class ('Y').\n",
    "    if Y_selection is None:\n",
    "        Y_selection = list(set(Y))\n",
    "    #Make sure Y_selection is just 2 classes:\n",
    "    if len(Y_selection) != 2:\n",
    "        raise ValueError(\"Use parameter Y_selection to select just 2 classes.\")\n",
    "    #Separate x into X1 and X2:\n",
    "    X1 = np.array(x,dtype=np.float64)[Y==Y_selection[0]]\n",
    "    X2 = np.array(x,dtype=np.float64)[Y==Y_selection[1]]\n",
    "    #Plug X1 and X2 into bhatta_dist():\n",
    "    return bhatta_dist(X1, X2, method=method)\n",
    "\n",
    "\n",
    "def max_bhatta_dist(array_var_num:np.array, array_var_car:np.array, method='continuous'):\n",
    "    #Same as bhatta_dist, but takes different inputs. Takes a feature 'x' and separates it by class ('Y').\n",
    "    array_var_car_selection = list(set(array_var_car))\n",
    "    # labels combinations of categorical variable\n",
    "    combs = list(itertools.combinations(array_var_car_selection,r=2))\n",
    "    # initialize\n",
    "    distances = list()\n",
    "    # loop of combinations\n",
    "    for icomb in combs:    \n",
    "        #Separate x into X1 and X2:\n",
    "        X1 = np.array(array_var_num, dtype=np.float64)[array_var_car==icomb[0]]\n",
    "        X2 = np.array(array_var_num, dtype=np.float64)[array_var_car==icomb[1]]\n",
    "        #Plug X1 and X2 into bhatta_dist():\n",
    "        d =  bhatta_dist(X1, X2, method=method)\n",
    "        # append\n",
    "        distances.append(d)\n",
    "        # clean\n",
    "        del d, X1, X2\n",
    "    # return maximum value of distances\n",
    "    return np.max(distances)"
   ]
  },
  {
   "attachments": {},
   "cell_type": "markdown",
   "metadata": {},
   "source": [
    "## TEST functions"
   ]
  },
  {
   "cell_type": "code",
   "execution_count": 3,
   "metadata": {},
   "outputs": [],
   "source": [
    "def plot_hist(variable):\n",
    "    import matplotlib.pyplot as plt\n",
    "    fig, ax = plt.subplots()\n",
    "    dataset[dataset['class'] == Y_SELECTION[0]][variable].plot(kind = \"hist\", color = 'b', ax = ax, alpha = .5, bins = 20)\n",
    "    dataset[dataset['class'] == Y_SELECTION[1]][variable].plot(kind = \"hist\", color = 'g', ax = ax, alpha = .5, bins = 20)\n",
    "    plt.show()"
   ]
  },
  {
   "cell_type": "code",
   "execution_count": 4,
   "metadata": {},
   "outputs": [
    {
     "name": "stdout",
     "output_type": "stream",
     "text": [
      "Bhattacharyya distance of sepal-length: 0.77\n"
     ]
    },
    {
     "data": {
      "image/png": "[encoded data removed]",
      "text/plain": [
       "<Figure size 432x288 with 1 Axes>"
      ]
     },
     "metadata": {
      "needs_background": "light"
     },
     "output_type": "display_data"
    },
    {
     "name": "stdout",
     "output_type": "stream",
     "text": [
      "Bhattacharyya distance of sepal-width: 0.70\n"
     ]
    },
    {
     "data": {
      "image/png": "[encoded data removed]",
      "text/plain": [
       "<Figure size 432x288 with 1 Axes>"
      ]
     },
     "metadata": {
      "needs_background": "light"
     },
     "output_type": "display_data"
    },
    {
     "name": "stdout",
     "output_type": "stream",
     "text": [
      "Bhattacharyya distance of petal-length: 124.34\n"
     ]
    },
    {
     "data": {
      "image/png": "[encoded data removed]",
      "text/plain": [
       "<Figure size 432x288 with 1 Axes>"
      ]
     },
     "metadata": {
      "needs_background": "light"
     },
     "output_type": "display_data"
    },
    {
     "name": "stdout",
     "output_type": "stream",
     "text": [
      "Bhattacharyya distance of petal-width: 82.08\n"
     ]
    },
    {
     "data": {
      "image/png": "[encoded data removed]",
      "text/plain": [
       "<Figure size 432x288 with 1 Axes>"
      ]
     },
     "metadata": {
      "needs_background": "light"
     },
     "output_type": "display_data"
    },
    {
     "name": "stdout",
     "output_type": "stream",
     "text": [
      "Feature ranking:\n",
      "['petal-length' 'petal-width' 'sepal-length' 'sepal-width']\n"
     ]
    }
   ],
   "source": [
    "import pandas\n",
    "import numpy as np\n",
    "\n",
    "###Download the iris data set and separate the feature matrix from the class array.\n",
    "url = \"https://archive.ics.uci.edu/ml/machine-learning-databases/iris/iris.data\"\n",
    "names = ['sepal-length', 'sepal-width', 'petal-length', 'petal-width']\n",
    "dataset = pandas.read_csv(url, names=names+['class'])\n",
    "array = dataset.values\n",
    "n_features = array.shape[1]-1\n",
    "X = array[:,0:-1]\n",
    "Y = array[:,-1:].reshape(-1)\n",
    "\n",
    "###For this example we will just look at the Bhattacharyya distance between the 'versicolor' class and the 'setosa' class.\n",
    "Y_SELECTION = ['Iris-setosa', 'Iris-versicolor']\n",
    "bh_dists = np.zeros(n_features)\n",
    "for i,name in enumerate(names):\n",
    "    #Take the i-th feature and divide it by class:\n",
    "    X1 = np.array(X[:,i],dtype=np.float64)[Y==Y_SELECTION[0]]\n",
    "    X2 = np.array(X[:,i],dtype=np.float64)[Y==Y_SELECTION[1]]\n",
    "    #Call the Bhattacharyya distance function (we'll just use the default method)\n",
    "    bh_dists[i] = bhatta_dist(X1, X2)\n",
    "\n",
    "#Print the result for each feature:\n",
    "for name,d in zip(names,bh_dists):\n",
    "    print(\"Bhattacharyya distance of {}: {:.2f}\".format(name, d))\n",
    "    plot_hist(name)\n",
    "#Use the results to rank features:\n",
    "print(\"Feature ranking:\")\n",
    "print(np.array(names)[bh_dists.argsort()[::-1]])"
   ]
  },
  {
   "attachments": {},
   "cell_type": "markdown",
   "metadata": {},
   "source": [
    "> NOTA: This distance could be used to feature selection."
   ]
  },
  {
   "attachments": {},
   "cell_type": "markdown",
   "metadata": {},
   "source": [
    "## REVIEW with synthetic data"
   ]
  },
  {
   "cell_type": "code",
   "execution_count": 5,
   "metadata": {},
   "outputs": [
    {
     "data": {
      "text/plain": [
       "array([1., 1., 1., 1., 1.])"
      ]
     },
     "execution_count": 5,
     "metadata": {},
     "output_type": "execute_result"
    }
   ],
   "source": [
    "np.random.choice(np.ones(1000), size=5, replace=True)"
   ]
  },
  {
   "cell_type": "markdown",
   "metadata": {},
   "source": [
    "### uniform example"
   ]
  },
  {
   "cell_type": "code",
   "execution_count": 6,
   "metadata": {},
   "outputs": [
    {
     "name": "stdout",
     "output_type": "stream",
     "text": [
      "Bhattacharyya distance: 0.03\n"
     ]
    },
    {
     "data": {
      "image/png": "[encoded data removed]",
      "text/plain": [
       "<Figure size 432x288 with 1 Axes>"
      ]
     },
     "metadata": {
      "needs_background": "light"
     },
     "output_type": "display_data"
    }
   ],
   "source": [
    "# random data\n",
    "s = np.random.uniform(-1,1,1000)\n",
    "c = np.ones(1000)\n",
    "indices =  np.random.randint(0, high=1000, size=500)\n",
    "c[indices] = 0\n",
    "# to df\n",
    "datarandom = pd.DataFrame({'n0':s, 'c0': c})\n",
    "# calculate distance\n",
    "X1 = datarandom[datarandom.c0 == 1].n0.values\n",
    "X2 = datarandom[datarandom.c0 == 0].n0.values\n",
    "d = bhatta_dist(X1, X2, method='continuous')\n",
    "print(\"Bhattacharyya distance: {:.2f}\".format(d))\n",
    "# plot\n",
    "import matplotlib.pyplot as plt\n",
    "fig, ax = plt.subplots()\n",
    "datarandom[datarandom.c0==1].n0.plot(kind = 'hist', bins = 100, color = 'b', alpha = .5, ax = ax)\n",
    "datarandom[datarandom.c0==0].n0.plot(kind = 'hist', bins = 100, color = 'g', alpha = .5, ax = ax)\n",
    "plt.show()"
   ]
  },
  {
   "cell_type": "code",
   "execution_count": 7,
   "metadata": {},
   "outputs": [
    {
     "name": "stdout",
     "output_type": "stream",
     "text": [
      "Bhattacharyya distance: 3.12\n"
     ]
    },
    {
     "data": {
      "image/png": "[encoded data removed]",
      "text/plain": [
       "<Figure size 432x288 with 1 Axes>"
      ]
     },
     "metadata": {
      "needs_background": "light"
     },
     "output_type": "display_data"
    }
   ],
   "source": [
    "# random data\n",
    "s = np.sort(np.random.uniform(-1,1,1000))\n",
    "c = np.ones(1000)\n",
    "c[0:500] = 0\n",
    "# to df\n",
    "datarandom = pd.DataFrame({'n0':s, 'c0': c})\n",
    "# calculate distance\n",
    "X1 = datarandom[datarandom.c0 == 1].n0.values\n",
    "X2 = datarandom[datarandom.c0 == 0].n0.values\n",
    "d = bhatta_dist(X1, X2, method='continuous')\n",
    "print(\"Bhattacharyya distance: {:.2f}\".format(d))\n",
    "# plot\n",
    "import matplotlib.pyplot as plt\n",
    "fig, ax = plt.subplots()\n",
    "datarandom[datarandom.c0==1].n0.plot(kind = 'hist', bins = 100, color = 'b', alpha = .5, ax = ax)\n",
    "datarandom[datarandom.c0==0].n0.plot(kind = 'hist', bins = 100, color = 'g', alpha = .5, ax = ax)\n",
    "plt.show()"
   ]
  },
  {
   "attachments": {},
   "cell_type": "markdown",
   "metadata": {},
   "source": [
    "### gaussian (2 nodes)"
   ]
  },
  {
   "cell_type": "code",
   "execution_count": 8,
   "metadata": {},
   "outputs": [
    {
     "name": "stdout",
     "output_type": "stream",
     "text": [
      "Bhattacharyya distance for Gaussians mu1 = 0 / mu2 = 0: 0.12\n"
     ]
    },
    {
     "data": {
      "image/png": "[encoded data removed]",
      "text/plain": [
       "<Figure size 432x288 with 1 Axes>"
      ]
     },
     "metadata": {
      "needs_background": "light"
     },
     "output_type": "display_data"
    },
    {
     "name": "stdout",
     "output_type": "stream",
     "text": [
      "Bhattacharyya distance for Gaussians mu1 = 0 / mu2 = 1: 1.50\n"
     ]
    },
    {
     "data": {
      "image/png": "[encoded data removed]",
      "text/plain": [
       "<Figure size 432x288 with 1 Axes>"
      ]
     },
     "metadata": {
      "needs_background": "light"
     },
     "output_type": "display_data"
    },
    {
     "name": "stdout",
     "output_type": "stream",
     "text": [
      "Bhattacharyya distance for Gaussians mu1 = 0 / mu2 = 2: 26.10\n"
     ]
    },
    {
     "data": {
      "image/png": "[encoded data removed]",
      "text/plain": [
       "<Figure size 432x288 with 1 Axes>"
      ]
     },
     "metadata": {
      "needs_background": "light"
     },
     "output_type": "display_data"
    },
    {
     "name": "stdout",
     "output_type": "stream",
     "text": [
      "Bhattacharyya distance for Gaussians mu1 = 0 / mu2 = 3: 94.16\n"
     ]
    },
    {
     "data": {
      "image/png": "[encoded data removed]",
      "text/plain": [
       "<Figure size 432x288 with 1 Axes>"
      ]
     },
     "metadata": {
      "needs_background": "light"
     },
     "output_type": "display_data"
    },
    {
     "name": "stdout",
     "output_type": "stream",
     "text": [
      "Bhattacharyya distance for Gaussians mu1 = 0 / mu2 = 4: inf\n"
     ]
    },
    {
     "data": {
      "image/png": "[encoded data removed]",
      "text/plain": [
       "<Figure size 432x288 with 1 Axes>"
      ]
     },
     "metadata": {
      "needs_background": "light"
     },
     "output_type": "display_data"
    }
   ],
   "source": [
    "# loop of avg values\n",
    "for imu in np.arange(0,5,1):\n",
    "    ## Multimodal\n",
    "    mu1, sigma1 = 0, 0.4 # mean and standard deviation\n",
    "    mu2, sigma2 = imu, 0.2 # mean and standard deviation\n",
    "    s1 = np.random.normal(mu1, sigma1, 500)\n",
    "    s2 = np.random.normal(mu2, sigma2, 500)\n",
    "    c1 = np.ones(500, dtype = bool)\n",
    "    c2 = np.zeros(500, dtype = bool)\n",
    "    s = np.concatenate((s1, s2))\n",
    "    c = np.concatenate((c1, c2))\n",
    "    datagauss = pd.DataFrame({'numerical':s, 'categorical':c})\n",
    "    # estimate distance\n",
    "    d = bhatta_dist(s1, s2, method='continuous')\n",
    "    print(\"Bhattacharyya distance for Gaussians mu1 = {} / mu2 = {}: {:.2f}\".format(mu1, mu2, d))\n",
    "    ## plot\n",
    "    import matplotlib.pyplot as plt\n",
    "    fig, ax = plt.subplots()\n",
    "    datagauss[datagauss['categorical'] == True]['numerical'].plot(kind = \"hist\", color = 'b', ax = ax, bins = 50, alpha = .5)\n",
    "    datagauss[datagauss['categorical'] == False]['numerical'].plot(kind = \"hist\", color = 'g', ax = ax, bins = 50, alpha = .5)\n",
    "    plt.show()"
   ]
  },
  {
   "attachments": {},
   "cell_type": "markdown",
   "metadata": {},
   "source": [
    "## TEST maximum of Bhattacharyya distance for multilabel categorical variable"
   ]
  },
  {
   "cell_type": "code",
   "execution_count": 30,
   "metadata": {},
   "outputs": [
    {
     "name": "stdout",
     "output_type": "stream",
     "text": [
      "Bhattacharyya distance for Gaussians mu1 = 1 / mu2 = 1.5 / mu3 = 0: 7.76\n"
     ]
    },
    {
     "data": {
      "image/png": "[encoded data removed]",
      "text/plain": [
       "<Figure size 432x288 with 1 Axes>"
      ]
     },
     "metadata": {
      "needs_background": "light"
     },
     "output_type": "display_data"
    },
    {
     "name": "stdout",
     "output_type": "stream",
     "text": [
      "Bhattacharyya distance for Gaussians mu1 = 1 / mu2 = 1.5 / mu3 = 1: 0.78\n"
     ]
    },
    {
     "data": {
      "image/png": "[encoded data removed]",
      "text/plain": [
       "<Figure size 432x288 with 1 Axes>"
      ]
     },
     "metadata": {
      "needs_background": "light"
     },
     "output_type": "display_data"
    },
    {
     "name": "stdout",
     "output_type": "stream",
     "text": [
      "Bhattacharyya distance for Gaussians mu1 = 1 / mu2 = 1.5 / mu3 = 2: 23.84\n"
     ]
    },
    {
     "data": {
      "image/png": "[encoded data removed]",
      "text/plain": [
       "<Figure size 432x288 with 1 Axes>"
      ]
     },
     "metadata": {
      "needs_background": "light"
     },
     "output_type": "display_data"
    },
    {
     "name": "stdout",
     "output_type": "stream",
     "text": [
      "Bhattacharyya distance for Gaussians mu1 = 1 / mu2 = 1.5 / mu3 = 3: inf\n"
     ]
    },
    {
     "data": {
      "image/png": "[encoded data removed]",
      "text/plain": [
       "<Figure size 432x288 with 1 Axes>"
      ]
     },
     "metadata": {
      "needs_background": "light"
     },
     "output_type": "display_data"
    }
   ],
   "source": [
    "# loop of avg values\n",
    "for imu in np.arange(0,4,1):\n",
    "    ## Multimodal\n",
    "    mu1, sigma1 = 1, 0.2 # mean and standard deviation\n",
    "    mu2, sigma2 = 1.5, 0.4 # mean and standard deviation\n",
    "    mu3, sigma3 = imu, 0.1 # mean and standard deviation\n",
    "    s1 = np.random.normal(mu1, sigma1, 500)\n",
    "    s2 = np.random.normal(mu2, sigma2, 500)\n",
    "    s3 = np.random.normal(mu3, sigma3, 500)\n",
    "    c1 = np.ones(500, dtype = bool)\n",
    "    c2 = np.ones(500, dtype = bool) * 2\n",
    "    c3 = np.ones(500, dtype = bool) * 3\n",
    "    s = np.concatenate((s1, s2, s3))\n",
    "    c = np.concatenate((c1, c2, c3))\n",
    "    datagauss = pd.DataFrame({'numerical':s, 'categorical':c})\n",
    "    # estimate distances\n",
    "    array_var_num = datagauss['numerical'].values\n",
    "    array_var_car = datagauss['categorical'].values\n",
    "    max_d = max_bhatta_dist(array_var_num, array_var_car, method='continuous')\n",
    "    print(\"Bhattacharyya distance for Gaussians mu1 = {} / mu2 = {} / mu3 = {}: {:.2f}\".format(mu1, mu2, mu3, max_d))\n",
    "    ## plot\n",
    "    import matplotlib.pyplot as plt\n",
    "    fig, ax = plt.subplots()\n",
    "    datagauss[datagauss['categorical'] == 1]['numerical'].plot(kind = \"hist\", color = 'b', ax = ax, bins = 50, alpha = .5)\n",
    "    datagauss[datagauss['categorical'] == 2]['numerical'].plot(kind = \"hist\", color = 'g', ax = ax, bins = 50, alpha = .5)\n",
    "    datagauss[datagauss['categorical'] == 3]['numerical'].plot(kind = \"hist\", color = 'r', ax = ax, bins = 50, alpha = .5)\n",
    "    plt.show()"
   ]
  },
  {
   "cell_type": "code",
   "execution_count": 27,
   "metadata": {},
   "outputs": [
    {
     "data": {
      "text/plain": [
       "inf"
      ]
     },
     "execution_count": 27,
     "metadata": {},
     "output_type": "execute_result"
    }
   ],
   "source": []
  },
  {
   "cell_type": "code",
   "execution_count": null,
   "metadata": {},
   "outputs": [],
   "source": []
  }
 ],
 "metadata": {
  "kernelspec": {
   "display_name": "analysis",
   "language": "python",
   "name": "python3"
  },
  "language_info": {
   "codemirror_mode": {
    "name": "ipython",
    "version": 3
   },
   "file_extension": ".py",
   "mimetype": "text/x-python",
   "name": "python",
   "nbconvert_exporter": "python",
   "pygments_lexer": "ipython3",
   "version": "3.7.0"
  },
  "orig_nbformat": 4,
  "vscode": {
   "interpreter": {
    "hash": "45ccec2220de44a15362018afe90363148435dbb7cc234495ad81d0a4700001d"
   }
  }
 },
 "nbformat": 4,
 "nbformat_minor": 2
}
