{
 "cells": [
  {
   "cell_type": "markdown",
   "id": "invalid-imaging",
   "metadata": {},
   "source": [
    "# Estimation of impurity measurements\n",
    "\n",
    "Van a ser estimados para ejemplos controlados medidas de impureza como GINY y Entropy para ayudar en el split mas optimo de una variable (numerica, categorical, ordinal) en dos o mas categorias.\n",
    "\n",
    "\n",
    "### References\n",
    "\n",
    "- [Gini Index vs Information Entropy (toward data science)](https://towardsdatascience.com/gini-index-vs-information-entropy-7a7e4fed3fcb)\n",
    "- [Gini Impurity Measure – a simple explanation using python](https://www.bogotobogo.com/python/scikit-learn/scikt_machine_learning_Decision_Tree_Learning_Informatioin_Gain_IG_Impurity_Entropy_Gini_Classification_Error.php)"
   ]
  },
  {
   "cell_type": "code",
   "execution_count": 1,
   "id": "e53edc91",
   "metadata": {},
   "outputs": [
    {
     "name": "stdout",
     "output_type": "stream",
     "text": [
      "Requirement already satisfied: unidip in /Users/juan/miniconda3/envs/analysis/lib/python3.7/site-packages (0.1.1)\r\n",
      "Requirement already satisfied: numpy in /Users/juan/miniconda3/envs/analysis/lib/python3.7/site-packages (from unidip) (1.19.2)\r\n",
      "Requirement already satisfied: matplotlib in /Users/juan/miniconda3/envs/analysis/lib/python3.7/site-packages (from unidip) (3.3.4)\r\n",
      "Requirement already satisfied: pillow>=6.2.0 in /Users/juan/miniconda3/envs/analysis/lib/python3.7/site-packages (from matplotlib->unidip) (8.3.1)\r\n",
      "Requirement already satisfied: python-dateutil>=2.1 in /Users/juan/miniconda3/envs/analysis/lib/python3.7/site-packages (from matplotlib->unidip) (2.8.2)\r\n",
      "Requirement already satisfied: pyparsing!=2.0.4,!=2.1.2,!=2.1.6,>=2.0.3 in /Users/juan/miniconda3/envs/analysis/lib/python3.7/site-packages (from matplotlib->unidip) (2.4.7)\r\n",
      "Requirement already satisfied: kiwisolver>=1.0.1 in /Users/juan/miniconda3/envs/analysis/lib/python3.7/site-packages (from matplotlib->unidip) (1.3.1)\r\n",
      "Requirement already satisfied: cycler>=0.10 in /Users/juan/miniconda3/envs/analysis/lib/python3.7/site-packages (from matplotlib->unidip) (0.10.0)\r\n",
      "Requirement already satisfied: six in /Users/juan/miniconda3/envs/analysis/lib/python3.7/site-packages (from cycler>=0.10->matplotlib->unidip) (1.16.0)\r\n"
     ]
    }
   ],
   "source": [
    "!pip install unidip"
   ]
  },
  {
   "cell_type": "code",
   "execution_count": 2,
   "id": "plain-pickup",
   "metadata": {},
   "outputs": [],
   "source": [
    "%matplotlib inline\n",
    "import warnings\n",
    "warnings.filterwarnings('ignore')\n",
    "from sklearn.datasets import load_iris\n",
    "import pandas as pd\n",
    "import numpy as np\n",
    "from tools import *"
   ]
  },
  {
   "cell_type": "markdown",
   "id": "49536a43",
   "metadata": {},
   "source": [
    "## functions"
   ]
  },
  {
   "cell_type": "code",
   "execution_count": 9,
   "id": "43d2fefb",
   "metadata": {},
   "outputs": [],
   "source": [
    "## Estimate probability of a categorical/ordinal variable\n",
    "def estimate_probability_non_numerical(df:pd.DataFrame, colname:str)->pd.DataFrame:\n",
    "    \"\"\"\n",
    "    Estimate probability values of a categorical/ordinal variable.\n",
    "    df -- df who include the variable to be used.\n",
    "    colname -- variable name of data to be used.\n",
    "    return -- df of categories and their respective probabilities.\n",
    "    \"\"\"\n",
    "    # validate if colname in df\n",
    "    assert colname in df.columns.tolist(), f'\"{colname}\" is required.'\n",
    "    # validate if too much categories\n",
    "    cats = list(df[colname].dropna().unique())\n",
    "    assert len(cats) < 50, f'\"{colname}\" has too much categories.'\n",
    "    # create dictionary of probability values per categories        \n",
    "    dfprob = df[[colname]].dropna().groupby(colname)[[colname]].count() / len(df[[colname]].dropna())\n",
    "    # rename\n",
    "    dfprob.rename(columns = {colname: 'probability'}, inplace = True)\n",
    "    # return \n",
    "    return dfprob.reset_index()"
   ]
  },
  {
   "cell_type": "markdown",
   "id": "fa3ce486",
   "metadata": {},
   "source": [
    "# DATA"
   ]
  },
  {
   "cell_type": "markdown",
   "id": "af405622",
   "metadata": {},
   "source": [
    "### create Gaussian distribution data (Unimodal, Multimodal)"
   ]
  },
  {
   "cell_type": "code",
   "execution_count": 3,
   "id": "16e320f7",
   "metadata": {},
   "outputs": [
    {
     "data": {
      "text/plain": [
       "<AxesSubplot:ylabel='Frequency'>"
      ]
     },
     "execution_count": 3,
     "metadata": {},
     "output_type": "execute_result"
    },
    {
     "data": {
      "image/png": "[encoded data removed]",
      "text/plain": [
       "<Figure size 432x288 with 1 Axes>"
      ]
     },
     "metadata": {
      "needs_background": "light"
     },
     "output_type": "display_data"
    }
   ],
   "source": [
    "## Unimodal\n",
    "mu, sigma = 1, 0.1 # mean and standard deviation\n",
    "s = np.random.normal(mu, sigma, 1000)\n",
    "datagauss = pd.DataFrame({'uni': s})\n",
    "## Multimodal\n",
    "mu1, sigma1 = 2, 0.5 # mean and standard deviation\n",
    "s1 = np.random.normal(mu1, sigma1, 500)\n",
    "s = np.concatenate((s1, 0.5*s1 - .5))\n",
    "datagauss['multi'] = s\n",
    "## plot\n",
    "datagauss.uni.plot(kind = 'hist', bins = 50)\n",
    "datagauss.multi.plot(kind = 'hist', bins = 50, alpha = .5)"
   ]
  },
  {
   "cell_type": "markdown",
   "id": "30a5e00c",
   "metadata": {},
   "source": [
    "### data gauss unimodal"
   ]
  },
  {
   "cell_type": "code",
   "execution_count": 4,
   "id": "adeb3fba",
   "metadata": {},
   "outputs": [
    {
     "name": "stdout",
     "output_type": "stream",
     "text": [
      "stat=0.189, p=0.000\n",
      "Probably is not Uniform\n",
      "stat=0.008, p=0.985\n",
      "Probably unimodal\n",
      "Number of modals = 1\n"
     ]
    },
    {
     "data": {
      "image/png": "[encoded data removed]",
      "text/plain": [
       "<Figure size 1008x432 with 1 Axes>"
      ]
     },
     "metadata": {
      "needs_background": "light"
     },
     "output_type": "display_data"
    }
   ],
   "source": [
    "# collect data\n",
    "v = datagauss['uni'].values\n",
    "# test uniform\n",
    "test_uniform_num(v)\n",
    "# dip test\n",
    "test_dip(v, alpha = .05)\n",
    "# get pdf and local maximuns\n",
    "pdf_kde, x, local_max = get_pdf_1d(v)\n",
    "# display results\n",
    "print(f'Number of modals = {len(local_max)}')\n",
    "# plot\n",
    "plot_pdf_1d(v)"
   ]
  },
  {
   "cell_type": "markdown",
   "id": "147b5975",
   "metadata": {},
   "source": [
    "### data gauss multimodal"
   ]
  },
  {
   "cell_type": "code",
   "execution_count": 5,
   "id": "3d768576",
   "metadata": {},
   "outputs": [
    {
     "name": "stdout",
     "output_type": "stream",
     "text": [
      "stat=0.161, p=0.000\n",
      "Probably is not Uniform\n",
      "stat=0.042, p=0.001\n",
      "Probably not unimodal.\n",
      "Number of modals = 2\n"
     ]
    },
    {
     "data": {
      "image/png": "[encoded data removed]",
      "text/plain": [
       "<Figure size 1008x432 with 1 Axes>"
      ]
     },
     "metadata": {
      "needs_background": "light"
     },
     "output_type": "display_data"
    }
   ],
   "source": [
    "# collect data\n",
    "v = datagauss['multi'].values\n",
    "# test uniform\n",
    "test_uniform_num(v)\n",
    "# dip test\n",
    "test_dip(v, alpha = .05)\n",
    "# get pdf and local maximuns\n",
    "pdf_kde, x, local_max = get_pdf_1d(v)\n",
    "# display results\n",
    "print(f'Number of modals = {len(local_max)}')\n",
    "# plot\n",
    "plot_pdf_1d(v)"
   ]
  },
  {
   "cell_type": "markdown",
   "id": "411e0e84",
   "metadata": {},
   "source": [
    "### MODALS CLUSTERIZATION\n",
    "\n",
    "- https://cmdlinetips.com/2021/03/gaussian-mixture-models-with-scikit-learn-in-python/amp/\n",
    "- https://pypi.org/project/unidip/"
   ]
  },
  {
   "cell_type": "markdown",
   "id": "fe55d0d6",
   "metadata": {},
   "source": [
    "### data gauss multimodal"
   ]
  },
  {
   "cell_type": "code",
   "execution_count": 6,
   "id": "afe452dd",
   "metadata": {},
   "outputs": [
    {
     "name": "stdout",
     "output_type": "stream",
     "text": [
      "stat=0.182, p=0.000\n",
      "Probably is not Uniform\n",
      "stat=0.042, p=0.001\n",
      "Probably not unimodal.\n",
      "number of modals = 2\n",
      "cluster means: [array([0.54018614]), array([2.08001112])]\n"
     ]
    },
    {
     "data": {
      "image/png": "[encoded data removed]",
      "text/plain": [
       "<Figure size 432x288 with 1 Axes>"
      ]
     },
     "metadata": {
      "needs_background": "light"
     },
     "output_type": "display_data"
    }
   ],
   "source": [
    "# collect data\n",
    "v = datagauss['multi'].values\n",
    "# test uniform\n",
    "test_uniform_num(v)\n",
    "# dip test\n",
    "test_dip(v, alpha = .05)\n",
    "# get clusters\n",
    "labels = get_1d_clusters_kde(v)\n",
    "# plot\n",
    "plot_1d_clusters_kde(v, labels)"
   ]
  },
  {
   "cell_type": "markdown",
   "id": "d90a5eaa",
   "metadata": {},
   "source": [
    "# GINI index"
   ]
  },
  {
   "cell_type": "code",
   "execution_count": 103,
   "id": "2b6b1c37",
   "metadata": {},
   "outputs": [],
   "source": [
    "# GINI index estimation\n",
    "def GINI(p:np.array)->float:\n",
    "    \"\"\"\n",
    "    GINI index estimation.\n",
    "    p -- array of probabilities of all classes.\n",
    "    return -- GINI index.\n",
    "    \"\"\"\n",
    "    # validate probabilities\n",
    "    if np.sum(p) != 1:\n",
    "        print(\"[warning] probabilities don't sum 1.\")\n",
    "    # gini index for one category\n",
    "    i_gini = lambda ip: ip*(1 - ip)\n",
    "    # sum gini index for all categories and return\n",
    "    return np.sum(i_gini(p))"
   ]
  },
  {
   "cell_type": "markdown",
   "id": "7ed1f487",
   "metadata": {},
   "source": [
    "### split of data by KDE (2 clusters)\n",
    "\n",
    "Para esta clusterizacion que parece muy buena, el GINI index deberia ser cerca de `0.5`."
   ]
  },
  {
   "cell_type": "code",
   "execution_count": 104,
   "id": "092b3a88",
   "metadata": {},
   "outputs": [
    {
     "name": "stdout",
     "output_type": "stream",
     "text": [
      "GINI index = 0.499032\n"
     ]
    }
   ],
   "source": [
    "# collect data\n",
    "v = datagauss['multi'].values\n",
    "# estimate clusters by kde\n",
    "labels = get_1d_clusters_kde(v, verbose = False)\n",
    "# store in df\n",
    "df = pd.DataFrame({'variable':v, 'cluster':labels})\n",
    "# get probability table\n",
    "dfprob = estimate_probability_non_numerical(df, 'cluster')\n",
    "# collect probability values of all categories\n",
    "p = dfprob.probability.values\n",
    "# estimate gini index\n",
    "gini_index = GINI(p)\n",
    "print(f'GINI index = {gini_index}')"
   ]
  },
  {
   "cell_type": "markdown",
   "id": "7307bddd",
   "metadata": {},
   "source": [
    "## split optimization with GINI index (2 clusters)"
   ]
  },
  {
   "cell_type": "code",
   "execution_count": 105,
   "id": "04da6532",
   "metadata": {},
   "outputs": [
    {
     "name": "stdout",
     "output_type": "stream",
     "text": [
      "Maximum GINI index = 0.499998\n",
      "Optimal Splitting Point = 1.0194400749005987\n"
     ]
    }
   ],
   "source": [
    "# collect data\n",
    "df = datagauss[['multi']].copy()\n",
    "v = df.multi.values\n",
    "# get possible splitting points\n",
    "x = np.linspace(v.min(),v.max(), 1000)[1:-1]\n",
    "# initialize\n",
    "gini_results = list()\n",
    "# loop of splittings points\n",
    "for ix in x:\n",
    "    # inpute clusters\n",
    "    fcluster = lambda iv: 1 if iv < ix else 2\n",
    "    df['cluster'] = df['multi'].apply(fcluster)\n",
    "    # get probability table\n",
    "    idfprob = estimate_probability_non_numerical(df, 'cluster')\n",
    "    # collect probability values of all categories\n",
    "    ip = idfprob.probability.values\n",
    "    # estimate gini index\n",
    "    igini_index = GINI(ip)\n",
    "    #print(ix, f'GINI index = {igini_index}')\n",
    "    # append\n",
    "    gini_results.append(igini_index)\n",
    "# list to array\n",
    "gini_results = np.array(gini_results)\n",
    "# indexes of maximum gini index\n",
    "i_gini_max = np.where(gini_results == np.max(gini_results))[0]\n",
    "# maximum gini index\n",
    "gini_max = np.mean(gini_results[i_gini_max])\n",
    "print(f'Maximum GINI index = {gini_max}')\n",
    "# optimal splitting point\n",
    "optimal_x = np.mean(x[i_gini_max])\n",
    "print(f'Optimal Splitting Point = {optimal_x}')"
   ]
  },
  {
   "cell_type": "code",
   "execution_count": 106,
   "id": "34ecbce2",
   "metadata": {},
   "outputs": [
    {
     "data": {
      "image/png": "[encoded data removed]",
      "text/plain": [
       "<Figure size 720x360 with 2 Axes>"
      ]
     },
     "metadata": {
      "needs_background": "light"
     },
     "output_type": "display_data"
    }
   ],
   "source": [
    "# plot gini index in optimization process\n",
    "import matplotlib.pyplot as plt\n",
    "fig, ax = plt.subplots(figsize = (10,5))\n",
    "\n",
    "ax1 = plt.subplot2grid((1,2),(0,0)) \n",
    "ax1.plot(x, gini_results, color = 'blue')\n",
    "ax1.set_xlabel(\"Breaking Points of the Variable\")\n",
    "ax1.set_ylabel(\"GINI Index\")\n",
    "ax1.xaxis.grid(True)\n",
    "ax1.yaxis.grid(True)\n",
    "ax1.set_title(\"GINI index by breaking point\")\n",
    "ax1.axvline(optimal_x, color='red', linestyle='--')\n",
    "\n",
    "ax2 = plt.subplot2grid((1,2),(0,1)) \n",
    "ax2.hist(v, color = 'blue', bins = 30)\n",
    "ax2.set_xlabel(\"Variable\")\n",
    "ax2.set_ylabel(\"Number\")\n",
    "ax2.xaxis.grid(True)\n",
    "ax2.yaxis.grid(True)\n",
    "ax2.set_title(\"Variable Distribution\")\n",
    "ax2.axvline(optimal_x, color='red', linestyle='--')\n",
    "plt.show()"
   ]
  },
  {
   "cell_type": "markdown",
   "id": "842516bf",
   "metadata": {},
   "source": [
    "# INFORMATION ENTROPY"
   ]
  },
  {
   "cell_type": "code",
   "execution_count": 107,
   "id": "c2a61032",
   "metadata": {},
   "outputs": [],
   "source": [
    "# Information Entropy\n",
    "def ENTROPY(p:np.array)->float:\n",
    "    \"\"\"\n",
    "    Information Entropy.\n",
    "    p -- array of probabilities of all classes.\n",
    "    return -- Information Entropy.\n",
    "    \"\"\"\n",
    "    # validate probabilities\n",
    "    if np.sum(p) != 1:\n",
    "        print(\"[warning] probabilities don't sum 1.\")\n",
    "    # entropy for one category\n",
    "    i_entropy = lambda ip: ip*np.log2(ip)\n",
    "    # sum entropy for all categories and return\n",
    "    return -np.sum(i_entropy(p))"
   ]
  },
  {
   "cell_type": "markdown",
   "id": "aadfc672",
   "metadata": {},
   "source": [
    "### split of data by KDE (2 clusters)\n",
    "\n",
    "Para esta clusterizacion que parece muy buena, la Entropia deberia ser cerca de `1.0`."
   ]
  },
  {
   "cell_type": "code",
   "execution_count": 108,
   "id": "9f8a1ec7",
   "metadata": {},
   "outputs": [
    {
     "name": "stdout",
     "output_type": "stream",
     "text": [
      "Information Entropy = 0.9986030202378096\n"
     ]
    }
   ],
   "source": [
    "# collect data\n",
    "v = datagauss['multi'].values\n",
    "# estimate clusters by kde\n",
    "labels = get_1d_clusters_kde(v, verbose = False)\n",
    "# store in df\n",
    "df = pd.DataFrame({'variable':v, 'cluster':labels})\n",
    "# get probability table\n",
    "dfprob = estimate_probability_non_numerical(df, 'cluster')\n",
    "# collect probability values of all categories\n",
    "p = dfprob.probability.values\n",
    "# estimate entropy\n",
    "entropy = ENTROPY(p)\n",
    "print(f'Information Entropy = {entropy}')"
   ]
  },
  {
   "cell_type": "markdown",
   "id": "e84da5e6",
   "metadata": {},
   "source": [
    "## split optimization with Entropy (2 clusters)"
   ]
  },
  {
   "cell_type": "code",
   "execution_count": 109,
   "id": "4c00104e",
   "metadata": {},
   "outputs": [
    {
     "name": "stdout",
     "output_type": "stream",
     "text": [
      "Maximum Entropy = 0.9999971146079947\n",
      "Optimal Splitting Point = 1.0194400749005987\n"
     ]
    }
   ],
   "source": [
    "# collect data\n",
    "df = datagauss[['multi']].copy()\n",
    "v = df.multi.values\n",
    "# get possible splitting points\n",
    "x = np.linspace(v.min(),v.max(), 1000)[1:-1]\n",
    "# initialize\n",
    "entropy_results = list()\n",
    "# loop of splittings points\n",
    "for ix in x:\n",
    "    # inpute clusters\n",
    "    fcluster = lambda iv: 1 if iv < ix else 2\n",
    "    df['cluster'] = df['multi'].apply(fcluster)\n",
    "    # get probability table\n",
    "    idfprob = estimate_probability_non_numerical(df, 'cluster')\n",
    "    # collect probability values of all categories\n",
    "    ip = idfprob.probability.values\n",
    "    # estimate entropy\n",
    "    ientropy = ENTROPY(ip)\n",
    "    # append\n",
    "    entropy_results.append(ientropy)\n",
    "# list to array\n",
    "entropy_results = np.array(entropy_results)\n",
    "# indexes of maximum entropy\n",
    "i_entropy_max = np.where(entropy_results == np.max(entropy_results))[0]\n",
    "# maximum entropy\n",
    "entropy_max = np.mean(entropy_results[i_entropy_max])\n",
    "print(f'Maximum Entropy = {entropy_max}')\n",
    "# optimal splitting point\n",
    "optimal_x = np.mean(x[i_entropy_max])\n",
    "print(f'Optimal Splitting Point = {optimal_x}')"
   ]
  },
  {
   "cell_type": "code",
   "execution_count": 110,
   "id": "e4b17bce",
   "metadata": {},
   "outputs": [
    {
     "data": {
      "image/png": "[encoded data removed]",
      "text/plain": [
       "<Figure size 720x360 with 2 Axes>"
      ]
     },
     "metadata": {
      "needs_background": "light"
     },
     "output_type": "display_data"
    }
   ],
   "source": [
    "# plot entropy in optimization process\n",
    "import matplotlib.pyplot as plt\n",
    "fig, ax = plt.subplots(figsize = (10,5))\n",
    "\n",
    "ax1 = plt.subplot2grid((1,2),(0,0)) \n",
    "ax1.plot(x, entropy_results, color = 'blue')\n",
    "ax1.set_xlabel(\"Breaking Points of the Variable\")\n",
    "ax1.set_ylabel(\"Information Entropy\")\n",
    "ax1.xaxis.grid(True)\n",
    "ax1.yaxis.grid(True)\n",
    "ax1.set_title(\"Entropy by breaking point\")\n",
    "ax1.axvline(optimal_x, color='red', linestyle='--')\n",
    "\n",
    "ax2 = plt.subplot2grid((1,2),(0,1)) \n",
    "ax2.hist(v, color = 'blue', bins = 30)\n",
    "ax2.set_xlabel(\"Variable\")\n",
    "ax2.set_ylabel(\"Number\")\n",
    "ax2.xaxis.grid(True)\n",
    "ax2.yaxis.grid(True)\n",
    "ax2.set_title(\"Variable Distribution\")\n",
    "ax2.axvline(optimal_x, color='red', linestyle='--')\n",
    "plt.show()"
   ]
  },
  {
   "cell_type": "markdown",
   "id": "d165b202",
   "metadata": {},
   "source": [
    "# INFORMATION GAIN (for GINI or Entropy)"
   ]
  },
  {
   "cell_type": "code",
   "execution_count": 116,
   "id": "9996b626",
   "metadata": {},
   "outputs": [],
   "source": [
    "## Estimate Information Gain for Entropy or GINI index\n",
    "def INFORMATION_GAIN(p:np.array, impurity_metric:'function' = ENTROPY)->float:\n",
    "    \"\"\"\n",
    "    Estimate Information Gain for Entropy or GINI index.\n",
    "    p -- array of probabilities.\n",
    "    impurity_metric -- function for impurity metric estimation (default, ENTROPY).\n",
    "    return -- information gain value.\n",
    "    \"\"\"\n",
    "    return (impurity_metric(p) - np.sum([ip * impurity_metric(np.array([ip])) for ip in p])) * 100"
   ]
  },
  {
   "cell_type": "markdown",
   "id": "7ead3845",
   "metadata": {},
   "source": [
    "### split of data by KDE (2 clusters)"
   ]
  },
  {
   "cell_type": "code",
   "execution_count": 115,
   "id": "a7777905",
   "metadata": {},
   "outputs": [
    {
     "name": "stdout",
     "output_type": "stream",
     "text": [
      "[warning] probabilities don't sum 1.\n",
      "[warning] probabilities don't sum 1.\n",
      "Information Gain by Entropy = 49.97295880432348 %\n",
      "[warning] probabilities don't sum 1.\n",
      "[warning] probabilities don't sum 1.\n",
      "Information Gain by GINI = 24.951599999999996 %\n"
     ]
    }
   ],
   "source": [
    "# collect data\n",
    "v = datagauss['multi'].values\n",
    "# estimate clusters by kde\n",
    "labels = get_1d_clusters_kde(v, verbose = False)\n",
    "# store in df\n",
    "df = pd.DataFrame({'variable':v, 'cluster':labels})\n",
    "# get probability table\n",
    "dfprob = estimate_probability_non_numerical(df, 'cluster')\n",
    "# collect probability values of all categories\n",
    "p = dfprob.probability.values\n",
    "# estimate information gain by entropy\n",
    "gain_entropy = INFORMATION_GAIN(p)\n",
    "print(f'Information Gain by Entropy = {gain_entropy} %')\n",
    "# estimate information gain by entropy\n",
    "gain_gini = INFORMATION_GAIN(p, impurity_metric = GINI)\n",
    "print(f'Information Gain by GINI = {gain_gini} %')"
   ]
  },
  {
   "cell_type": "code",
   "execution_count": null,
   "id": "6b27c10e",
   "metadata": {},
   "outputs": [],
   "source": []
  }
 ],
 "metadata": {
  "kernelspec": {
   "display_name": "analysis",
   "language": "python",
   "name": "analysis"
  },
  "language_info": {
   "codemirror_mode": {
    "name": "ipython",
    "version": 3
   },
   "file_extension": ".py",
   "mimetype": "text/x-python",
   "name": "python",
   "nbconvert_exporter": "python",
   "pygments_lexer": "ipython3",
   "version": "3.7.0"
  }
 },
 "nbformat": 4,
 "nbformat_minor": 5
}
