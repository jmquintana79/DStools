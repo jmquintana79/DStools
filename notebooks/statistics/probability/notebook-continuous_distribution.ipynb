{
 "cells": [
  {
   "cell_type": "markdown",
   "id": "0e2d9a83",
   "metadata": {},
   "source": [
    "# Continuous Distribution\n",
    "\n",
    "## Referencias\n",
    "\n",
    "- [scipy.intregato: Integrales definidas con Python.](https://docs.scipy.org/doc/scipy/reference/tutorial/integrate.html)"
   ]
  },
  {
   "cell_type": "code",
   "execution_count": 2,
   "id": "45e96b72",
   "metadata": {},
   "outputs": [],
   "source": [
    "import numpy as np\n",
    "from scipy.integrate import quad"
   ]
  },
  {
   "cell_type": "markdown",
   "id": "fe7ef80c",
   "metadata": {},
   "source": [
    "## Esperanza matematica"
   ]
  },
  {
   "cell_type": "code",
   "execution_count": null,
   "id": "2de8907f",
   "metadata": {},
   "outputs": [],
   "source": [
    "## esperanza matematica para distribucion continua\n",
    "def E(fdp):\n",
    "    f = lambda x: x * fdp(x) \n",
    "    I, error = quad(f, -np.inf, np.inf, args=())\n",
    "    return I"
   ]
  },
  {
   "cell_type": "code",
   "execution_count": null,
   "id": "126fa3be",
   "metadata": {},
   "outputs": [],
   "source": []
  },
  {
   "cell_type": "code",
   "execution_count": null,
   "id": "0db9a098",
   "metadata": {},
   "outputs": [],
   "source": []
  },
  {
   "cell_type": "markdown",
   "id": "eb284420",
   "metadata": {},
   "source": [
    "# Distribucion Gaussiana (Normal)"
   ]
  },
  {
   "cell_type": "markdown",
   "id": "a83c35e9",
   "metadata": {},
   "source": [
    "### funcion de densidad de probabilidad"
   ]
  },
  {
   "cell_type": "code",
   "execution_count": 3,
   "id": "53fe44a6",
   "metadata": {},
   "outputs": [],
   "source": [
    "## funcion de densidad de probabilidad de distribucion Gaussiana\n",
    "def f(x:float, nu:float, sigma:float)->float:\n",
    "    return (1 / (sigma * np.sqrt(2*np.pi) )) * np.exp( -(x-nu)**2 / 2*(sigma)**2 )"
   ]
  },
  {
   "cell_type": "code",
   "execution_count": 37,
   "id": "d34592f5",
   "metadata": {},
   "outputs": [
    {
     "data": {
      "image/png": "[encoded data removed]",
      "text/plain": [
       "<Figure size 432x288 with 1 Axes>"
      ]
     },
     "metadata": {
      "needs_background": "light"
     },
     "output_type": "display_data"
    }
   ],
   "source": [
    "# example\n",
    "nu = 10\n",
    "sigma = 2\n",
    "x = np.arange(8,12,0.1)\n",
    "y = f(x, nu, sigma)\n",
    "# plot\n",
    "import matplotlib.pyplot as plt\n",
    "fig, ax = plt.subplots()\n",
    "ax.plot(x, y, color = 'blue')\n",
    "plt.show()"
   ]
  },
  {
   "cell_type": "markdown",
   "id": "0e4b2993",
   "metadata": {},
   "source": [
    "### funcion de distribucion (acumulada)"
   ]
  },
  {
   "cell_type": "code",
   "execution_count": 13,
   "id": "be1ed8da",
   "metadata": {},
   "outputs": [],
   "source": [
    "## funcion de distribucion de una Gaussiana\n",
    "def F(x, nu, sigma):\n",
    "    fe = lambda x, nu, sigma: np.exp( -(x-nu)**2 / 2*(sigma)**2 )\n",
    "    I, error = quad(fe, -np.inf, x, args=(nu,sigma))\n",
    "    return (1 / (sigma * np.sqrt(2*np.pi) )) * I"
   ]
  },
  {
   "cell_type": "raw",
   "id": "c6cf232f",
   "metadata": {},
   "source": [
    "# example\n",
    "nu = 10\n",
    "sigma = 2\n",
    "x = np.arange(6,14,0.1)\n",
    "y = [F(ix, nu, sigma) for ix in x]\n",
    "# plot\n",
    "import matplotlib.pyplot as plt\n",
    "fig, ax = plt.subplots()\n",
    "ax.plot(x, y, color = 'blue')\n",
    "plt.show()"
   ]
  },
  {
   "cell_type": "markdown",
   "id": "07d02903",
   "metadata": {},
   "source": [
    "## Distribucion Gaussiana (Normal) Estandarizada\n",
    "\n",
    "- Gaussina con media = 0 y desviacion estandar = 1.\n",
    "- La transformacion de Normal a Estandarizada seria:\n",
    "```\n",
    "Z = (X - nu) / sigma\n",
    "```"
   ]
  },
  {
   "cell_type": "code",
   "execution_count": 39,
   "id": "98583fe8",
   "metadata": {},
   "outputs": [
    {
     "data": {
      "image/png": "[encoded data removed]",
      "text/plain": [
       "<Figure size 432x288 with 1 Axes>"
      ]
     },
     "metadata": {
      "needs_background": "light"
     },
     "output_type": "display_data"
    }
   ],
   "source": [
    "# example\n",
    "nu = 0\n",
    "sigma = 1\n",
    "x = np.arange(-4,4,0.1)\n",
    "y = f(x, nu, sigma)\n",
    "# plot\n",
    "import matplotlib.pyplot as plt\n",
    "fig, ax = plt.subplots()\n",
    "ax.plot(x, y, color = 'blue')\n",
    "plt.show()"
   ]
  },
  {
   "cell_type": "raw",
   "id": "7d8808ef",
   "metadata": {},
   "source": [
    "# example\n",
    "nu = 10\n",
    "sigma = 2\n",
    "x = np.arange(0,200,0.1)\n",
    "z = (x - nu) / sigma\n",
    "y = f(z, nu, sigma)\n",
    "# plot\n",
    "import matplotlib.pyplot as plt\n",
    "fig, ax = plt.subplots()\n",
    "ax.plot(z, y, color = 'blue')\n",
    "ax.set_xlim([-16,16])\n",
    "plt.show()"
   ]
  },
  {
   "cell_type": "raw",
   "id": "af263024",
   "metadata": {},
   "source": [
    "# example\n",
    "nu = 0\n",
    "sigma = 1\n",
    "x = np.arange(-6,6,0.1)\n",
    "y = [F(ix, nu, sigma) for ix in x]\n",
    "# plot\n",
    "import matplotlib.pyplot as plt\n",
    "fig, ax = plt.subplots()\n",
    "ax.plot(x, y, color = 'blue')\n",
    "plt.show()"
   ]
  }
 ],
 "metadata": {
  "kernelspec": {
   "display_name": "analysis",
   "language": "python",
   "name": "analysis"
  },
  "language_info": {
   "codemirror_mode": {
    "name": "ipython",
    "version": 3
   },
   "file_extension": ".py",
   "mimetype": "text/x-python",
   "name": "python",
   "nbconvert_exporter": "python",
   "pygments_lexer": "ipython3",
   "version": "3.7.0"
  }
 },
 "nbformat": 4,
 "nbformat_minor": 5
}
