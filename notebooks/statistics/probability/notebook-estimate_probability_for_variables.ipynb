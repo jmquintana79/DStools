{
 "cells": [
  {
   "cell_type": "markdown",
   "id": "4414dd1e",
   "metadata": {},
   "source": [
    "# Probability estimation for numerical / ordinal / categorical variables"
   ]
  },
  {
   "cell_type": "code",
   "execution_count": 31,
   "id": "8142a4c4",
   "metadata": {},
   "outputs": [],
   "source": [
    "%matplotlib inline\n",
    "import numpy as np\n",
    "import pandas as pd\n",
    "import seaborn\n",
    "import warnings\n",
    "warnings.filterwarnings('ignore')"
   ]
  },
  {
   "cell_type": "markdown",
   "id": "43fcb016",
   "metadata": {},
   "source": [
    "## load dataset"
   ]
  },
  {
   "cell_type": "code",
   "execution_count": 32,
   "id": "1712fa19",
   "metadata": {},
   "outputs": [
    {
     "name": "stdout",
     "output_type": "stream",
     "text": [
      "<class 'pandas.core.frame.DataFrame'>\n",
      "RangeIndex: 891 entries, 0 to 890\n",
      "Data columns (total 15 columns):\n",
      " #   Column       Non-Null Count  Dtype   \n",
      "---  ------       --------------  -----   \n",
      " 0   survived     891 non-null    int64   \n",
      " 1   pclass       891 non-null    int64   \n",
      " 2   sex          891 non-null    object  \n",
      " 3   age          714 non-null    float64 \n",
      " 4   sibsp        891 non-null    int64   \n",
      " 5   parch        891 non-null    int64   \n",
      " 6   fare         891 non-null    float64 \n",
      " 7   embarked     889 non-null    object  \n",
      " 8   class        891 non-null    category\n",
      " 9   who          891 non-null    object  \n",
      " 10  adult_male   891 non-null    bool    \n",
      " 11  deck         203 non-null    category\n",
      " 12  embark_town  889 non-null    object  \n",
      " 13  alive        891 non-null    object  \n",
      " 14  alone        891 non-null    bool    \n",
      "dtypes: bool(2), category(2), float64(2), int64(4), object(5)\n",
      "memory usage: 80.6+ KB\n"
     ]
    }
   ],
   "source": [
    "df = seaborn.load_dataset('titanic')\n",
    "df.info()"
   ]
  },
  {
   "cell_type": "markdown",
   "id": "79e97fca",
   "metadata": {},
   "source": [
    "# PROBABILITY: for categorical / ordinal variables"
   ]
  },
  {
   "cell_type": "code",
   "execution_count": 76,
   "id": "c0981bb6",
   "metadata": {},
   "outputs": [],
   "source": [
    "## Estimate probability of a categorical/ordinal variable\n",
    "def estimate_probability_non_numerical(df:pd.DataFrame, colname:str)->pd.DataFrame:\n",
    "    \"\"\"\n",
    "    Estimate probability values of a categorical/ordinal variable.\n",
    "    df -- df who include the variable to be used.\n",
    "    colname -- variable name of data to be used.\n",
    "    return -- df of categories and their respective probabilities.\n",
    "    \"\"\"\n",
    "    # validate if colname in df\n",
    "    assert colname in df.columns.tolist(), f'\"{colname}\" is required.'\n",
    "    # validate if too much categories\n",
    "    cats = list(df[colname].dropna().unique())\n",
    "    assert len(cats) < 50, f'\"{colname}\" has too much categories.'\n",
    "    # create dictionary of probability values per categories        \n",
    "    dfprob = df[[colname]].dropna().groupby(colname)[[colname]].count() / len(df[[colname]].dropna())\n",
    "    # rename\n",
    "    dfprob.rename(columns = {colname: 'probability'}, inplace = True)\n",
    "    # return \n",
    "    return dfprob.reset_index()"
   ]
  },
  {
   "cell_type": "code",
   "execution_count": 77,
   "id": "7d625f7a",
   "metadata": {},
   "outputs": [
    {
     "data": {
      "text/html": [
       "<div>\n",
       "<style scoped>\n",
       "    .dataframe tbody tr th:only-of-type {\n",
       "        vertical-align: middle;\n",
       "    }\n",
       "\n",
       "    .dataframe tbody tr th {\n",
       "        vertical-align: top;\n",
       "    }\n",
       "\n",
       "    .dataframe thead th {\n",
       "        text-align: right;\n",
       "    }\n",
       "</style>\n",
       "<table border=\"1\" class=\"dataframe\">\n",
       "  <thead>\n",
       "    <tr style=\"text-align: right;\">\n",
       "      <th></th>\n",
       "      <th>embark_town</th>\n",
       "      <th>probability</th>\n",
       "    </tr>\n",
       "  </thead>\n",
       "  <tbody>\n",
       "    <tr>\n",
       "      <th>0</th>\n",
       "      <td>Cherbourg</td>\n",
       "      <td>0.188976</td>\n",
       "    </tr>\n",
       "    <tr>\n",
       "      <th>1</th>\n",
       "      <td>Queenstown</td>\n",
       "      <td>0.086614</td>\n",
       "    </tr>\n",
       "    <tr>\n",
       "      <th>2</th>\n",
       "      <td>Southampton</td>\n",
       "      <td>0.724409</td>\n",
       "    </tr>\n",
       "  </tbody>\n",
       "</table>\n",
       "</div>"
      ],
      "text/plain": [
       "   embark_town  probability\n",
       "0    Cherbourg     0.188976\n",
       "1   Queenstown     0.086614\n",
       "2  Southampton     0.724409"
      ]
     },
     "execution_count": 77,
     "metadata": {},
     "output_type": "execute_result"
    }
   ],
   "source": [
    "# for categorical\n",
    "colname = 'embark_town'\n",
    "dfprob = estimate_probability_non_numerical(df, colname)\n",
    "dfprob"
   ]
  },
  {
   "cell_type": "code",
   "execution_count": 78,
   "id": "ecf4106c",
   "metadata": {},
   "outputs": [
    {
     "data": {
      "text/html": [
       "<div>\n",
       "<style scoped>\n",
       "    .dataframe tbody tr th:only-of-type {\n",
       "        vertical-align: middle;\n",
       "    }\n",
       "\n",
       "    .dataframe tbody tr th {\n",
       "        vertical-align: top;\n",
       "    }\n",
       "\n",
       "    .dataframe thead th {\n",
       "        text-align: right;\n",
       "    }\n",
       "</style>\n",
       "<table border=\"1\" class=\"dataframe\">\n",
       "  <thead>\n",
       "    <tr style=\"text-align: right;\">\n",
       "      <th></th>\n",
       "      <th>pclass</th>\n",
       "      <th>probability</th>\n",
       "    </tr>\n",
       "  </thead>\n",
       "  <tbody>\n",
       "    <tr>\n",
       "      <th>0</th>\n",
       "      <td>1</td>\n",
       "      <td>0.242424</td>\n",
       "    </tr>\n",
       "    <tr>\n",
       "      <th>1</th>\n",
       "      <td>2</td>\n",
       "      <td>0.206510</td>\n",
       "    </tr>\n",
       "    <tr>\n",
       "      <th>2</th>\n",
       "      <td>3</td>\n",
       "      <td>0.551066</td>\n",
       "    </tr>\n",
       "  </tbody>\n",
       "</table>\n",
       "</div>"
      ],
      "text/plain": [
       "   pclass  probability\n",
       "0       1     0.242424\n",
       "1       2     0.206510\n",
       "2       3     0.551066"
      ]
     },
     "execution_count": 78,
     "metadata": {},
     "output_type": "execute_result"
    }
   ],
   "source": [
    "# for ordinal\n",
    "colname = 'pclass'\n",
    "dfprob = estimate_probability_non_numerical(df, colname)\n",
    "dfprob"
   ]
  },
  {
   "cell_type": "markdown",
   "id": "d5c7a4ff",
   "metadata": {},
   "source": [
    "# PROBABILITY: for numerical variables (estimated PDF)\n",
    "\n",
    "> NOTE: The returned PDF is just an approximation by KDE."
   ]
  },
  {
   "cell_type": "code",
   "execution_count": 88,
   "id": "1997d416",
   "metadata": {},
   "outputs": [],
   "source": [
    "## Get pdf estimated with KDE for 1D data\n",
    "def estimate_probability_numerical(df:pd.DataFrame, colname:str)->pd.DataFrame:\n",
    "    \"\"\"\n",
    "    Estimate probability values of a numerical variable.\n",
    "    df -- df who include the variable to be used.\n",
    "    colname -- variable name of data to be used.\n",
    "    return -- df of categories and their respective probabilities.\n",
    "    \"\"\"\n",
    "    from scipy import stats\n",
    "    # validate if colname in df\n",
    "    assert colname in df.columns.tolist(), f'\"{colname}\" is required.'    \n",
    "    # get data\n",
    "    v = df[colname].dropna().values\n",
    "    # get x values\n",
    "    x = np.linspace(v.min(),v.max(), v.shape[0])\n",
    "    # get kde kernel\n",
    "    kernel = stats.gaussian_kde(v)    \n",
    "    # store in a df\n",
    "    dfprob = pd.DataFrame({colname:x, 'probability':kernel(x)})\n",
    "    # return\n",
    "    return dfprob"
   ]
  },
  {
   "cell_type": "code",
   "execution_count": 96,
   "id": "2afc5fcf",
   "metadata": {},
   "outputs": [
    {
     "data": {
      "text/html": [
       "<div>\n",
       "<style scoped>\n",
       "    .dataframe tbody tr th:only-of-type {\n",
       "        vertical-align: middle;\n",
       "    }\n",
       "\n",
       "    .dataframe tbody tr th {\n",
       "        vertical-align: top;\n",
       "    }\n",
       "\n",
       "    .dataframe thead th {\n",
       "        text-align: right;\n",
       "    }\n",
       "</style>\n",
       "<table border=\"1\" class=\"dataframe\">\n",
       "  <thead>\n",
       "    <tr style=\"text-align: right;\">\n",
       "      <th></th>\n",
       "      <th>fare</th>\n",
       "      <th>probability</th>\n",
       "    </tr>\n",
       "  </thead>\n",
       "  <tbody>\n",
       "    <tr>\n",
       "      <th>0</th>\n",
       "      <td>0.000000</td>\n",
       "      <td>0.014098</td>\n",
       "    </tr>\n",
       "    <tr>\n",
       "      <th>1</th>\n",
       "      <td>0.575651</td>\n",
       "      <td>0.014586</td>\n",
       "    </tr>\n",
       "    <tr>\n",
       "      <th>2</th>\n",
       "      <td>1.151302</td>\n",
       "      <td>0.015065</td>\n",
       "    </tr>\n",
       "    <tr>\n",
       "      <th>3</th>\n",
       "      <td>1.726952</td>\n",
       "      <td>0.015533</td>\n",
       "    </tr>\n",
       "    <tr>\n",
       "      <th>4</th>\n",
       "      <td>2.302603</td>\n",
       "      <td>0.015989</td>\n",
       "    </tr>\n",
       "    <tr>\n",
       "      <th>...</th>\n",
       "      <td>...</td>\n",
       "      <td>...</td>\n",
       "    </tr>\n",
       "    <tr>\n",
       "      <th>886</th>\n",
       "      <td>510.026597</td>\n",
       "      <td>0.000103</td>\n",
       "    </tr>\n",
       "    <tr>\n",
       "      <th>887</th>\n",
       "      <td>510.602248</td>\n",
       "      <td>0.000104</td>\n",
       "    </tr>\n",
       "    <tr>\n",
       "      <th>888</th>\n",
       "      <td>511.177898</td>\n",
       "      <td>0.000105</td>\n",
       "    </tr>\n",
       "    <tr>\n",
       "      <th>889</th>\n",
       "      <td>511.753549</td>\n",
       "      <td>0.000105</td>\n",
       "    </tr>\n",
       "    <tr>\n",
       "      <th>890</th>\n",
       "      <td>512.329200</td>\n",
       "      <td>0.000105</td>\n",
       "    </tr>\n",
       "  </tbody>\n",
       "</table>\n",
       "<p>891 rows × 2 columns</p>\n",
       "</div>"
      ],
      "text/plain": [
       "           fare  probability\n",
       "0      0.000000     0.014098\n",
       "1      0.575651     0.014586\n",
       "2      1.151302     0.015065\n",
       "3      1.726952     0.015533\n",
       "4      2.302603     0.015989\n",
       "..          ...          ...\n",
       "886  510.026597     0.000103\n",
       "887  510.602248     0.000104\n",
       "888  511.177898     0.000105\n",
       "889  511.753549     0.000105\n",
       "890  512.329200     0.000105\n",
       "\n",
       "[891 rows x 2 columns]"
      ]
     },
     "execution_count": 96,
     "metadata": {},
     "output_type": "execute_result"
    }
   ],
   "source": [
    "colname = 'fare'\n",
    "dfprob = estimate_probability_numerical(df, colname)\n",
    "dfprob"
   ]
  },
  {
   "cell_type": "code",
   "execution_count": null,
   "id": "27ecf96a",
   "metadata": {},
   "outputs": [],
   "source": []
  }
 ],
 "metadata": {
  "kernelspec": {
   "display_name": "analysis",
   "language": "python",
   "name": "analysis"
  },
  "language_info": {
   "codemirror_mode": {
    "name": "ipython",
    "version": 3
   },
   "file_extension": ".py",
   "mimetype": "text/x-python",
   "name": "python",
   "nbconvert_exporter": "python",
   "pygments_lexer": "ipython3",
   "version": "3.7.0"
  }
 },
 "nbformat": 4,
 "nbformat_minor": 5
}
