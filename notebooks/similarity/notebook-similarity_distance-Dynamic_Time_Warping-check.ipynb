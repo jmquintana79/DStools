{
 "cells": [
  {
   "cell_type": "markdown",
   "metadata": {},
   "source": [
    "# Dynamic Time Warping (DTW) distance\n",
    "\n",
    "Solo pretendo echar un vistazo a esta metrica de similitud para series temporales. Las tareas a realizar son las siguientes:\n",
    "- Definicion de ventanas para datos con patrones diarios (ej. temperature) y para datos totalmente estocasticos (ej. viento).\n",
    "- Probar librerias ya hechas para el calculo de DTW: con y sin bandas."
   ]
  },
  {
   "cell_type": "code",
   "execution_count": 1,
   "metadata": {},
   "outputs": [],
   "source": [
    "%matplotlib inline\n",
    "import sys\n",
    "import numpy as np\n",
    "import pandas as pd"
   ]
  },
  {
   "cell_type": "markdown",
   "metadata": {},
   "source": [
    "### functions"
   ]
  },
  {
   "cell_type": "code",
   "execution_count": 2,
   "metadata": {},
   "outputs": [],
   "source": [
    "# data windows selector\n",
    "def wdata(wd_number:int, data:'df', windows:'df'):\n",
    "    i, f = windows[windows.number == wd_number][['index_i', 'index_f']].values.ravel()\n",
    "    return data.iloc[i:f]"
   ]
  },
  {
   "cell_type": "markdown",
   "metadata": {},
   "source": [
    "### dataset"
   ]
  },
  {
   "cell_type": "code",
   "execution_count": 4,
   "metadata": {},
   "outputs": [
    {
     "name": "stdout",
     "output_type": "stream",
     "text": [
      "Load data..\n",
      "['RH (%)', 'WD', 'WS (m/s)', 'cloud_coverage', 'dew_point (degC)', 'irradiation (MJ/m2)', 'local_press (hPa)', 'precipitation (mm)', 'sea-level pressure (hPa)', 'sunlight_duration (h)', 'temperature (degC)', 'vapor_press (hPa)', 'visibility (km)']\n"
     ]
    }
   ],
   "source": [
    "# load data\n",
    "sys.path.append('../')  \n",
    "from datasets import weather\n",
    "dataset, dcol = weather.load()\n",
    "print(dcol.all)\n",
    "# format index\n",
    "dataset.index = pd.to_datetime(dataset.index)"
   ]
  },
  {
   "cell_type": "markdown",
   "metadata": {},
   "source": [
    "## WINDOWS DEFINITIONS"
   ]
  },
  {
   "cell_type": "markdown",
   "metadata": {},
   "source": [
    "### Option 1: DAILY (for temperature)"
   ]
  },
  {
   "cell_type": "code",
   "execution_count": 5,
   "metadata": {},
   "outputs": [
    {
     "name": "stdout",
     "output_type": "stream",
     "text": [
      "It was collected: \"temperature (degC)\"\n"
     ]
    }
   ],
   "source": [
    "# collect data\n",
    "varname = 'temperature (degC)'\n",
    "data1 = dataset[[varname]].rename(columns = {varname:'var'})\n",
    "print('It was collected: \"%s\"'%varname)"
   ]
  },
  {
   "cell_type": "code",
   "execution_count": 6,
   "metadata": {},
   "outputs": [],
   "source": [
    "# data preparation\n",
    "df = data1.copy()\n",
    "df = df.resample(\"H\").asfreq()\n",
    "df['id'] = list(range(len(df)))\n",
    "df['hour'] = [idt.hour for idt in df.index.tolist()]\n",
    "# initial indexes of each windows\n",
    "wd_i = df[df.hour == 0].id.values\n",
    "# final indexes of each windows\n",
    "wd_f = wd_i + 23 + 1\n",
    "# number of windows\n",
    "wd_num = np.array(range(len(wd_i))) + 1\n",
    "# create windows df\n",
    "windows1 = pd.DataFrame({'number':wd_num, 'index_i': wd_i, 'index_f': wd_f})"
   ]
  },
  {
   "cell_type": "markdown",
   "metadata": {},
   "source": [
    "### Option 2: NON-DAILY (for wind speed)"
   ]
  },
  {
   "cell_type": "markdown",
   "metadata": {},
   "source": [
    "Mas adelante."
   ]
  },
  {
   "cell_type": "markdown",
   "metadata": {},
   "source": [
    "## CHECK wtd library without bands ([source](https://github.com/pierre-rouanet/dtw))"
   ]
  },
  {
   "cell_type": "code",
   "execution_count": 8,
   "metadata": {},
   "outputs": [],
   "source": [
    "# select data to be used\n",
    "windows = windows1.copy()\n",
    "data = data1.copy()"
   ]
  },
  {
   "cell_type": "code",
   "execution_count": 26,
   "metadata": {},
   "outputs": [
    {
     "data": {
      "text/plain": [
       "<matplotlib.axes._subplots.AxesSubplot at 0x7f42acc8a828>"
      ]
     },
     "execution_count": 26,
     "metadata": {},
     "output_type": "execute_result"
    },
    {
     "data": {
      "image/png": "[encoded data removed]",
      "text/plain": [
       "<matplotlib.figure.Figure at 0x7f42acc9c4a8>"
      ]
     },
     "metadata": {
      "needs_background": "light"
     },
     "output_type": "display_data"
    }
   ],
   "source": [
    "# select 2 windows and collect their data\n",
    "nwd1 = 1\n",
    "nwd2 = 2\n",
    "wd1 = wdata(nwd1, data, windows)\n",
    "wd2 = wdata(nwd2, data, windows)\n",
    "# plot selection\n",
    "pd.concat([wd1.reset_index().rename(columns={'var':'wd1'}), wd2.reset_index().rename(columns={'var':'wd2'})], axis = 1)[['wd1','wd2']].plot()"
   ]
  },
  {
   "cell_type": "markdown",
   "metadata": {},
   "source": [
    "### define distance function"
   ]
  },
  {
   "cell_type": "code",
   "execution_count": 46,
   "metadata": {},
   "outputs": [],
   "source": [
    "##Euclidean Distance\n",
    "from numpy.linalg import norm\n",
    "distance = lambda x, y: norm(x - y)"
   ]
  },
  {
   "cell_type": "markdown",
   "metadata": {},
   "source": [
    "### compute DTW"
   ]
  },
  {
   "cell_type": "code",
   "execution_count": 47,
   "metadata": {},
   "outputs": [
    {
     "data": {
      "text/plain": [
       "0.26874999999999999"
      ]
     },
     "execution_count": 47,
     "metadata": {},
     "output_type": "execute_result"
    }
   ],
   "source": [
    "from dtw import dtw\n",
    "# data\n",
    "x = wd1['var'].values.ravel()\n",
    "y = wd2['var'].values.ravel()\n",
    "# compute dtw\n",
    "dist, cost, acc, path = dtw(x, y, dist=distance)\n",
    "dist"
   ]
  },
  {
   "cell_type": "markdown",
   "metadata": {},
   "source": [
    "### plot"
   ]
  },
  {
   "cell_type": "code",
   "execution_count": 48,
   "metadata": {},
   "outputs": [
    {
     "data": {
      "image/png": "[encoded data removed]",
      "text/plain": [
       "<matplotlib.figure.Figure at 0x7f42ac88ddd8>"
      ]
     },
     "metadata": {
      "needs_background": "light"
     },
     "output_type": "display_data"
    }
   ],
   "source": [
    "import matplotlib.pyplot as plt\n",
    "import matplotlib.cm as cm\n",
    "plt.imshow(acc.T, origin='lower', cmap=cm.gray, interpolation='nearest')\n",
    "plt.plot(path[0], path[1], 'w')\n",
    "plt.xlim((-0.5, acc.shape[0]-0.5))\n",
    "plt.ylim((-0.5, acc.shape[1]-0.5))\n",
    "plt.show()"
   ]
  },
  {
   "cell_type": "markdown",
   "metadata": {},
   "source": [
    "### look for the N most similar windows to a target windows"
   ]
  },
  {
   "cell_type": "code",
   "execution_count": 65,
   "metadata": {},
   "outputs": [],
   "source": [
    "def rank_dwt(nwd_target, nwd_historical, distance):\n",
    "    # collect windows data\n",
    "    x = wdata(nwd_target, data, windows)['var'].values\n",
    "    y = wdata(nwd_historical, data, windows)['var'].values\n",
    "    # compute and return\n",
    "    return dtw(x, y, dist=distance)[0]"
   ]
  },
  {
   "cell_type": "code",
   "execution_count": 80,
   "metadata": {},
   "outputs": [
    {
     "name": "stderr",
     "output_type": "stream",
     "text": [
      "/home/juan/miniconda3/envs/mltools/lib/python3.6/site-packages/ipykernel_launcher.py:5: SettingWithCopyWarning: \n",
      "A value is trying to be set on a copy of a slice from a DataFrame.\n",
      "Try using .loc[row_indexer,col_indexer] = value instead\n",
      "\n",
      "See the caveats in the documentation: http://pandas.pydata.org/pandas-docs/stable/indexing.html#indexing-view-versus-copy\n",
      "  \"\"\"\n",
      "/home/juan/miniconda3/envs/mltools/lib/python3.6/site-packages/ipykernel_launcher.py:7: SettingWithCopyWarning: \n",
      "A value is trying to be set on a copy of a slice from a DataFrame\n",
      "\n",
      "See the caveats in the documentation: http://pandas.pydata.org/pandas-docs/stable/indexing.html#indexing-view-versus-copy\n",
      "  import sys\n"
     ]
    }
   ],
   "source": [
    "# select windows: Target and Historical\n",
    "nwd_target = 1#windows.number.values[-1]\n",
    "windows_historical = windows[~windows.number.isin([nwd_target])]\n",
    "# calculate dwt\n",
    "windows_historical['dwt'] = windows_historical['number'].apply(lambda x: rank_dwt(nwd_target, x, distance))\n",
    "# sort by dwt values\n",
    "windows_historical.sort_values(['dwt'], ascending=[1], inplace=True)"
   ]
  },
  {
   "cell_type": "code",
   "execution_count": 81,
   "metadata": {},
   "outputs": [
    {
     "data": {
      "text/html": [
       "<div>\n",
       "<style scoped>\n",
       "    .dataframe tbody tr th:only-of-type {\n",
       "        vertical-align: middle;\n",
       "    }\n",
       "\n",
       "    .dataframe tbody tr th {\n",
       "        vertical-align: top;\n",
       "    }\n",
       "\n",
       "    .dataframe thead th {\n",
       "        text-align: right;\n",
       "    }\n",
       "</style>\n",
       "<table border=\"1\" class=\"dataframe\">\n",
       "  <thead>\n",
       "    <tr style=\"text-align: right;\">\n",
       "      <th></th>\n",
       "      <th>number</th>\n",
       "      <th>index_i</th>\n",
       "      <th>index_f</th>\n",
       "      <th>dwt</th>\n",
       "    </tr>\n",
       "  </thead>\n",
       "  <tbody>\n",
       "    <tr>\n",
       "      <th>421</th>\n",
       "      <td>422</td>\n",
       "      <td>10104</td>\n",
       "      <td>10128</td>\n",
       "      <td>0.183333</td>\n",
       "    </tr>\n",
       "    <tr>\n",
       "      <th>691</th>\n",
       "      <td>692</td>\n",
       "      <td>16584</td>\n",
       "      <td>16608</td>\n",
       "      <td>0.191667</td>\n",
       "    </tr>\n",
       "    <tr>\n",
       "      <th>449</th>\n",
       "      <td>450</td>\n",
       "      <td>10776</td>\n",
       "      <td>10800</td>\n",
       "      <td>0.222917</td>\n",
       "    </tr>\n",
       "    <tr>\n",
       "      <th>8</th>\n",
       "      <td>9</td>\n",
       "      <td>192</td>\n",
       "      <td>216</td>\n",
       "      <td>0.237500</td>\n",
       "    </tr>\n",
       "    <tr>\n",
       "      <th>706</th>\n",
       "      <td>707</td>\n",
       "      <td>16944</td>\n",
       "      <td>16968</td>\n",
       "      <td>0.247917</td>\n",
       "    </tr>\n",
       "  </tbody>\n",
       "</table>\n",
       "</div>"
      ],
      "text/plain": [
       "     number  index_i  index_f       dwt\n",
       "421     422    10104    10128  0.183333\n",
       "691     692    16584    16608  0.191667\n",
       "449     450    10776    10800  0.222917\n",
       "8         9      192      216  0.237500\n",
       "706     707    16944    16968  0.247917"
      ]
     },
     "execution_count": 81,
     "metadata": {},
     "output_type": "execute_result"
    }
   ],
   "source": [
    "windows_historical.head()"
   ]
  },
  {
   "cell_type": "code",
   "execution_count": 87,
   "metadata": {},
   "outputs": [
    {
     "data": {
      "text/plain": [
       "<matplotlib.axes._subplots.AxesSubplot at 0x7f42ac2271d0>"
      ]
     },
     "execution_count": 87,
     "metadata": {},
     "output_type": "execute_result"
    },
    {
     "data": {
      "image/png": "[encoded data removed]",
      "text/plain": [
       "<matplotlib.figure.Figure at 0x7f42ac33f9e8>"
      ]
     },
     "metadata": {
      "needs_background": "light"
     },
     "output_type": "display_data"
    }
   ],
   "source": [
    "wdx1 = wdata(nwd_target, data, windows)\n",
    "wdx2 = wdata(422, data, windows)\n",
    "wdx3 = wdata(692, data, windows)\n",
    "# plot selection\n",
    "pd.concat([wdx1.reset_index().rename(columns={'var':'wd_target'}), \n",
    "           wdx2.reset_index().rename(columns={'var':'wd2'}), \n",
    "           wdx3.reset_index().rename(columns={'var':'wd3'})], axis = 1)[['wd_target','wd2','wd3']].plot()"
   ]
  },
  {
   "cell_type": "code",
   "execution_count": null,
   "metadata": {},
   "outputs": [],
   "source": []
  }
 ],
 "metadata": {
  "kernelspec": {
   "display_name": "Python 3",
   "language": "python",
   "name": "python3"
  },
  "language_info": {
   "codemirror_mode": {
    "name": "ipython",
    "version": 3
   },
   "file_extension": ".py",
   "mimetype": "text/x-python",
   "name": "python",
   "nbconvert_exporter": "python",
   "pygments_lexer": "ipython3",
   "version": "3.6.0"
  }
 },
 "nbformat": 4,
 "nbformat_minor": 2
}
