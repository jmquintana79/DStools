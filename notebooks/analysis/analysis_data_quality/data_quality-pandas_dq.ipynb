{
 "cells": [
  {
   "attachments": {},
   "cell_type": "markdown",
   "metadata": {},
   "source": [
    "# Data Quality: pandas_dq library\n",
    "\n",
    "Parece una buena opcion para revisar de manera automatica la calidad de los datos contenido en un dataframe.\n",
    "\n",
    "### References:\n",
    "\n",
    "- [[github] pandas_dq homepage.](https://github.com/AutoViML/pandas_dq)"
   ]
  },
  {
   "cell_type": "code",
   "execution_count": 8,
   "metadata": {},
   "outputs": [
    {
     "name": "stdout",
     "output_type": "stream",
     "text": [
      "Collecting pandas_dq\n",
      "  Using cached pandas_dq-1.9-py3-none-any.whl (19 kB)\n",
      "Requirement already satisfied: scikit-learn>=0.24.2 in /Users/juan/miniconda3/envs/analysis/lib/python3.7/site-packages (from pandas_dq) (1.0.2)\n",
      "  Downloading pandas_dq-1.8-py3-none-any.whl (17 kB)\n",
      "  Downloading pandas_dq-1.7-py3-none-any.whl (16 kB)\n",
      "  Downloading pandas_dq-1.6-py3-none-any.whl (16 kB)\n",
      "  Downloading pandas_dq-1.5-py3-none-any.whl (16 kB)\n",
      "  Downloading pandas_dq-1.4-py3-none-any.whl (15 kB)\n",
      "Collecting polars\n",
      "  Downloading polars-0.17.6-cp37-abi3-macosx_10_7_x86_64.whl (17.1 MB)\n",
      "\u001b[K     |████████████████████████████████| 17.1 MB 87.7 MB/s eta 0:00:01\n",
      "\u001b[?25hCollecting pandas_dq\n",
      "  Downloading pandas_dq-1.3-py3-none-any.whl (15 kB)\n",
      "  Downloading pandas_dq-1.2-py3-none-any.whl (13 kB)\n",
      "  Downloading pandas_dq-1.1-py3-none-any.whl (13 kB)\n",
      "  Downloading pandas_dq-1.0-py3-none-any.whl (13 kB)\n",
      "\u001b[31mERROR: Cannot install pandas-dq==1.0, pandas-dq==1.1, pandas-dq==1.2, pandas-dq==1.3, pandas-dq==1.4, pandas-dq==1.5, pandas-dq==1.6, pandas-dq==1.7, pandas-dq==1.8 and pandas-dq==1.9 because these package versions have conflicting dependencies.\u001b[0m\n",
      "\n",
      "The conflict is caused by:\n",
      "    pandas-dq 1.9 depends on pandas>=1.3.5\n",
      "    pandas-dq 1.8 depends on pandas>=1.3.5\n",
      "    pandas-dq 1.7 depends on pandas>=1.3.5\n",
      "    pandas-dq 1.6 depends on pandas>=1.3.5\n",
      "    pandas-dq 1.5 depends on pandas>=1.3.5\n",
      "    pandas-dq 1.4 depends on pandas>=1.3.5\n",
      "    pandas-dq 1.3 depends on pandas>=1.3.5\n",
      "    pandas-dq 1.2 depends on pandas>=1.3.5\n",
      "    pandas-dq 1.1 depends on pandas>=1.3.5\n",
      "    pandas-dq 1.0 depends on pandas>=1.3.5\n",
      "\n",
      "To fix this you could try to:\n",
      "1. loosen the range of package versions you've specified\n",
      "2. remove package versions to allow pip attempt to solve the dependency conflict\n",
      "\n",
      "\u001b[31mERROR: ResolutionImpossible: for help visit https://pip.pypa.io/en/latest/user_guide/#fixing-conflicting-dependencies\u001b[0m\n",
      "Note: you may need to restart the kernel to use updated packages.\n"
     ]
    }
   ],
   "source": [
    "%pip install pandas_dq"
   ]
  },
  {
   "cell_type": "code",
   "execution_count": 9,
   "metadata": {},
   "outputs": [
    {
     "ename": "ModuleNotFoundError",
     "evalue": "No module named 'pandas_dq'",
     "output_type": "error",
     "traceback": [
      "\u001b[0;31m---------------------------------------------------------------------------\u001b[0m",
      "\u001b[0;31mModuleNotFoundError\u001b[0m                       Traceback (most recent call last)",
      "\u001b[0;32m/var/folders/vk/s0y7mtzs23vgwd0s7jck3c_80000gn/T/ipykernel_1155/3149839639.py\u001b[0m in \u001b[0;36m<module>\u001b[0;34m\u001b[0m\n\u001b[1;32m      2\u001b[0m \u001b[0;32mimport\u001b[0m \u001b[0mnumpy\u001b[0m \u001b[0;32mas\u001b[0m \u001b[0mnp\u001b[0m\u001b[0;34m\u001b[0m\u001b[0m\n\u001b[1;32m      3\u001b[0m \u001b[0;32mfrom\u001b[0m \u001b[0mdatetime\u001b[0m \u001b[0;32mimport\u001b[0m \u001b[0mdatetime\u001b[0m\u001b[0;34m\u001b[0m\u001b[0m\n\u001b[0;32m----> 4\u001b[0;31m \u001b[0;32mfrom\u001b[0m \u001b[0mpandas_dq\u001b[0m \u001b[0;32mimport\u001b[0m \u001b[0mdq_report\u001b[0m\u001b[0;34m\u001b[0m\u001b[0m\n\u001b[0m",
      "\u001b[0;31mModuleNotFoundError\u001b[0m: No module named 'pandas_dq'"
     ]
    }
   ],
   "source": [
    "import pandas as pd\n",
    "import numpy as np\n",
    "from datetime import datetime\n",
    "from pandas_dq import dq_report"
   ]
  },
  {
   "attachments": {},
   "cell_type": "markdown",
   "metadata": {},
   "source": [
    "## Load Weather data"
   ]
  },
  {
   "cell_type": "code",
   "execution_count": 6,
   "metadata": {},
   "outputs": [
    {
     "data": {
      "text/plain": [
       "(17544, 16)"
      ]
     },
     "execution_count": 6,
     "metadata": {},
     "output_type": "execute_result"
    }
   ],
   "source": [
    "path = 'https://raw.githubusercontent.com/jmquintana79/utilsDS/master/scripts/datasets/data/dataset.weather.csv.gz'\n",
    "data = pd.read_csv(path)\n",
    "data['datetime'] = pd.to_datetime(data['datetime'])\n",
    "data['dtnow'] = [datetime(2022,1,1,12,0,0) for i in range(len(data))]\n",
    "data['dtrandom'] = pd.to_datetime(np.sort(np.random.choice(pd.date_range('2015-01-01', '2018-01-01', freq='H'), len(data), replace=False)))\n",
    "data.shape"
   ]
  },
  {
   "cell_type": "markdown",
   "metadata": {},
   "source": [
    "## Data Quality"
   ]
  },
  {
   "cell_type": "code",
   "execution_count": null,
   "metadata": {},
   "outputs": [],
   "source": []
  }
 ],
 "metadata": {
  "kernelspec": {
   "display_name": "analysis",
   "language": "python",
   "name": "analysis"
  },
  "language_info": {
   "codemirror_mode": {
    "name": "ipython",
    "version": 3
   },
   "file_extension": ".py",
   "mimetype": "text/x-python",
   "name": "python",
   "nbconvert_exporter": "python",
   "pygments_lexer": "ipython3",
   "version": "3.7.0"
  },
  "orig_nbformat": 4
 },
 "nbformat": 4,
 "nbformat_minor": 2
}
