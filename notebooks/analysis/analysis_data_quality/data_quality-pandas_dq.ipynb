{
 "cells": [
  {
   "attachments": {},
   "cell_type": "markdown",
   "metadata": {},
   "source": [
    "# Data Quality: pandas_dq library\n",
    "\n",
    "Parece una buena opcion para revisar de manera automatica la calidad de los datos contenido en un dataframe.\n",
    "\n",
    "### References:\n",
    "\n",
    "- [[github] pandas_dq homepage.](https://github.com/AutoViML/pandas_dq)"
   ]
  },
  {
   "cell_type": "code",
   "execution_count": 1,
   "metadata": {},
   "outputs": [
    {
     "name": "stdout",
     "output_type": "stream",
     "text": [
      "Collecting pandas_dq\n",
      "  Using cached pandas_dq-1.9-py3-none-any.whl (19 kB)\n",
      "Collecting numpy>=1.21.5\n",
      "  Using cached numpy-1.21.6-cp37-cp37m-macosx_10_9_x86_64.whl (16.9 MB)\n",
      "Collecting pandas>=1.3.5\n",
      "  Using cached pandas-1.3.5-cp37-cp37m-macosx_10_9_x86_64.whl (11.0 MB)\n",
      "Collecting scikit-learn>=0.24.2\n",
      "  Using cached scikit_learn-1.0.2-cp37-cp37m-macosx_10_13_x86_64.whl (7.8 MB)\n",
      "Requirement already satisfied: python-dateutil>=2.7.3 in /Users/juan/miniconda3/envs/data_quality/lib/python3.7/site-packages (from pandas>=1.3.5->pandas_dq) (2.8.2)\n",
      "Collecting pytz>=2017.3\n",
      "  Downloading pytz-2023.3-py2.py3-none-any.whl (502 kB)\n",
      "\u001b[2K     \u001b[90m━━━━━━━━━━━━━━━━━━━━━━━━━━━━━━━━━━━━━━\u001b[0m \u001b[32m502.3/502.3 kB\u001b[0m \u001b[31m15.6 MB/s\u001b[0m eta \u001b[36m0:00:00\u001b[0m\n",
      "\u001b[?25hCollecting joblib>=0.11\n",
      "  Using cached joblib-1.2.0-py3-none-any.whl (297 kB)\n",
      "Collecting scipy>=1.1.0\n",
      "  Using cached scipy-1.7.3-cp37-cp37m-macosx_10_9_x86_64.whl (33.0 MB)\n",
      "Collecting threadpoolctl>=2.0.0\n",
      "  Using cached threadpoolctl-3.1.0-py3-none-any.whl (14 kB)\n",
      "Requirement already satisfied: six>=1.5 in /Users/juan/miniconda3/envs/data_quality/lib/python3.7/site-packages (from python-dateutil>=2.7.3->pandas>=1.3.5->pandas_dq) (1.16.0)\n",
      "Installing collected packages: pytz, threadpoolctl, numpy, joblib, scipy, pandas, scikit-learn, pandas_dq\n",
      "Successfully installed joblib-1.2.0 numpy-1.21.6 pandas-1.3.5 pandas_dq-1.9 pytz-2023.3 scikit-learn-1.0.2 scipy-1.7.3 threadpoolctl-3.1.0\n",
      "Note: you may need to restart the kernel to use updated packages.\n"
     ]
    }
   ],
   "source": [
    "%pip install pandas_dq"
   ]
  },
  {
   "cell_type": "code",
   "execution_count": 1,
   "metadata": {},
   "outputs": [
    {
     "name": "stdout",
     "output_type": "stream",
     "text": [
      "Imported pandas_dq (1.9). Always upgrade to get latest version.\n",
      "\n"
     ]
    }
   ],
   "source": [
    "import pandas as pd\n",
    "import numpy as np\n",
    "from datetime import datetime\n",
    "from sklearn.datasets import load_iris\n",
    "import seaborn\n",
    "from pandas_dq import dq_report"
   ]
  },
  {
   "attachments": {},
   "cell_type": "markdown",
   "metadata": {},
   "source": [
    "## Weather dataset"
   ]
  },
  {
   "attachments": {},
   "cell_type": "markdown",
   "metadata": {},
   "source": [
    "### Load data"
   ]
  },
  {
   "cell_type": "code",
   "execution_count": 3,
   "metadata": {},
   "outputs": [
    {
     "data": {
      "text/plain": [
       "((17544, 16),\n",
       " Index(['datetime', 'RH (%)', 'WD', 'WS (m/s)', 'cloud_coverage',\n",
       "        'dew_point (degC)', 'irradiation (MJ/m2)', 'local_press (hPa)',\n",
       "        'precipitation (mm)', 'sea-level pressure (hPa)',\n",
       "        'sunlight_duration (h)', 'temperature (degC)', 'vapor_press (hPa)',\n",
       "        'visibility (km)', 'dtnow', 'dtrandom'],\n",
       "       dtype='object'))"
      ]
     },
     "execution_count": 3,
     "metadata": {},
     "output_type": "execute_result"
    }
   ],
   "source": [
    "path = 'https://raw.githubusercontent.com/jmquintana79/utilsDS/master/scripts/datasets/data/dataset.weather.csv.gz'\n",
    "data = pd.read_csv(path)\n",
    "data['datetime'] = pd.to_datetime(data['datetime'])\n",
    "data['dtnow'] = [datetime(2022,1,1,12,0,0) for i in range(len(data))]\n",
    "data['dtrandom'] = pd.to_datetime(np.sort(np.random.choice(pd.date_range('2015-01-01', '2018-01-01', freq='H'), len(data), replace=False)))\n",
    "data.shape, data.columns"
   ]
  },
  {
   "attachments": {},
   "cell_type": "markdown",
   "metadata": {},
   "source": [
    "### Data Quality Analysis"
   ]
  },
  {
   "cell_type": "code",
   "execution_count": 5,
   "metadata": {},
   "outputs": [
    {
     "data": {
      "text/html": [
       "<style type=\"text/css\">\n",
       "#T_52601_row0_col0, #T_52601_row0_col2, #T_52601_row0_col3, #T_52601_row0_col4, #T_52601_row0_col5, #T_52601_row1_col0, #T_52601_row1_col2, #T_52601_row1_col3, #T_52601_row1_col4, #T_52601_row1_col5, #T_52601_row2_col0, #T_52601_row2_col2, #T_52601_row2_col3, #T_52601_row2_col4, #T_52601_row2_col5, #T_52601_row3_col0, #T_52601_row3_col2, #T_52601_row3_col3, #T_52601_row3_col4, #T_52601_row3_col5, #T_52601_row4_col0, #T_52601_row4_col2, #T_52601_row4_col3, #T_52601_row4_col4, #T_52601_row4_col5, #T_52601_row5_col0, #T_52601_row5_col2, #T_52601_row5_col3, #T_52601_row5_col4, #T_52601_row5_col5, #T_52601_row6_col0, #T_52601_row6_col2, #T_52601_row6_col3, #T_52601_row6_col4, #T_52601_row6_col5, #T_52601_row7_col0, #T_52601_row7_col2, #T_52601_row7_col3, #T_52601_row7_col4, #T_52601_row7_col5, #T_52601_row8_col0, #T_52601_row8_col2, #T_52601_row8_col3, #T_52601_row8_col4, #T_52601_row8_col5, #T_52601_row9_col0, #T_52601_row9_col2, #T_52601_row9_col3, #T_52601_row9_col4, #T_52601_row9_col5, #T_52601_row10_col0, #T_52601_row10_col2, #T_52601_row10_col3, #T_52601_row10_col4, #T_52601_row10_col5, #T_52601_row11_col0, #T_52601_row11_col2, #T_52601_row11_col3, #T_52601_row11_col4, #T_52601_row11_col5, #T_52601_row12_col0, #T_52601_row12_col2, #T_52601_row12_col3, #T_52601_row12_col4, #T_52601_row12_col5, #T_52601_row13_col0, #T_52601_row13_col2, #T_52601_row13_col3, #T_52601_row13_col4, #T_52601_row13_col5, #T_52601_row14_col0, #T_52601_row14_col2, #T_52601_row14_col3, #T_52601_row14_col4, #T_52601_row14_col5, #T_52601_row15_col0, #T_52601_row15_col2, #T_52601_row15_col3, #T_52601_row15_col4, #T_52601_row15_col5 {\n",
       "  font-family: Segoe UI;\n",
       "}\n",
       "#T_52601_row0_col1, #T_52601_row1_col1, #T_52601_row2_col1, #T_52601_row3_col1, #T_52601_row5_col1, #T_52601_row7_col1, #T_52601_row9_col1, #T_52601_row11_col1, #T_52601_row12_col1, #T_52601_row14_col1, #T_52601_row15_col1 {\n",
       "  background-color: #fff5f0;\n",
       "  color: #000000;\n",
       "  font-family: Segoe UI;\n",
       "}\n",
       "#T_52601_row4_col1, #T_52601_row13_col1 {\n",
       "  background-color: #a10e15;\n",
       "  color: #f1f1f1;\n",
       "  font-family: Segoe UI;\n",
       "}\n",
       "#T_52601_row6_col1 {\n",
       "  background-color: #fa6648;\n",
       "  color: #f1f1f1;\n",
       "  font-family: Segoe UI;\n",
       "}\n",
       "#T_52601_row8_col1 {\n",
       "  background-color: #67000d;\n",
       "  color: #f1f1f1;\n",
       "  font-family: Segoe UI;\n",
       "}\n",
       "#T_52601_row10_col1 {\n",
       "  background-color: #f5523a;\n",
       "  color: #f1f1f1;\n",
       "  font-family: Segoe UI;\n",
       "}\n",
       "</style>\n",
       "<table id=\"T_52601_\">\n",
       "  <thead>\n",
       "    <tr>\n",
       "      <th class=\"blank level0\" >&nbsp;</th>\n",
       "      <th class=\"col_heading level0 col0\" >Data Type</th>\n",
       "      <th class=\"col_heading level0 col1\" >Missing Values%</th>\n",
       "      <th class=\"col_heading level0 col2\" >Unique Values%</th>\n",
       "      <th class=\"col_heading level0 col3\" >Minimum Value</th>\n",
       "      <th class=\"col_heading level0 col4\" >Maximum Value</th>\n",
       "      <th class=\"col_heading level0 col5\" >DQ Issue</th>\n",
       "    </tr>\n",
       "  </thead>\n",
       "  <tbody>\n",
       "    <tr>\n",
       "      <th id=\"T_52601_level0_row0\" class=\"row_heading level0 row0\" >datetime</th>\n",
       "      <td id=\"T_52601_row0_col0\" class=\"data row0 col0\" >datetime64[ns]</td>\n",
       "      <td id=\"T_52601_row0_col1\" class=\"data row0 col1\" >0.000000</td>\n",
       "      <td id=\"T_52601_row0_col2\" class=\"data row0 col2\" >100</td>\n",
       "      <td id=\"T_52601_row0_col3\" class=\"data row0 col3\" >2016-01-01 00:00:00</td>\n",
       "      <td id=\"T_52601_row0_col4\" class=\"data row0 col4\" >2017-12-31 23:00:00</td>\n",
       "      <td id=\"T_52601_row0_col5\" class=\"data row0 col5\" >Possible ID colum: drop before modeling process.</td>\n",
       "    </tr>\n",
       "    <tr>\n",
       "      <th id=\"T_52601_level0_row1\" class=\"row_heading level0 row1\" >RH (%)</th>\n",
       "      <td id=\"T_52601_row1_col0\" class=\"data row1 col0\" >float64</td>\n",
       "      <td id=\"T_52601_row1_col1\" class=\"data row1 col1\" >0.079799</td>\n",
       "      <td id=\"T_52601_row1_col2\" class=\"data row1 col2\" >NA</td>\n",
       "      <td id=\"T_52601_row1_col3\" class=\"data row1 col3\" >13.000000</td>\n",
       "      <td id=\"T_52601_row1_col4\" class=\"data row1 col4\" >100.000000</td>\n",
       "      <td id=\"T_52601_row1_col5\" class=\"data row1 col5\" >14 missing values. Impute them with mean, median, mode, or a constant value such as 123.</td>\n",
       "    </tr>\n",
       "    <tr>\n",
       "      <th id=\"T_52601_level0_row2\" class=\"row_heading level0 row2\" >WD</th>\n",
       "      <td id=\"T_52601_row2_col0\" class=\"data row2 col0\" >object</td>\n",
       "      <td id=\"T_52601_row2_col1\" class=\"data row2 col1\" >0.062699</td>\n",
       "      <td id=\"T_52601_row2_col2\" class=\"data row2 col2\" >0</td>\n",
       "      <td id=\"T_52601_row2_col3\" class=\"data row2 col3\" >nan</td>\n",
       "      <td id=\"T_52601_row2_col4\" class=\"data row2 col4\" >nan</td>\n",
       "      <td id=\"T_52601_row2_col5\" class=\"data row2 col5\" >11 missing values. Impute them with mean, median, mode, or a constant value such as 123., 8 rare categories: ['ENE', 'WNW', 'E', 'ESE', 'SW', 'W', 'WSW', 'C']. Group them into a single category or drop the categories., Mixed dtypes: has 2 different data types:  object, float,</td>\n",
       "    </tr>\n",
       "    <tr>\n",
       "      <th id=\"T_52601_level0_row3\" class=\"row_heading level0 row3\" >WS (m/s)</th>\n",
       "      <td id=\"T_52601_row3_col0\" class=\"data row3 col0\" >float64</td>\n",
       "      <td id=\"T_52601_row3_col1\" class=\"data row3 col1\" >0.062699</td>\n",
       "      <td id=\"T_52601_row3_col2\" class=\"data row3 col2\" >NA</td>\n",
       "      <td id=\"T_52601_row3_col3\" class=\"data row3 col3\" >0.000000</td>\n",
       "      <td id=\"T_52601_row3_col4\" class=\"data row3 col4\" >12.200000</td>\n",
       "      <td id=\"T_52601_row3_col5\" class=\"data row3 col5\" >11 missing values. Impute them with mean, median, mode, or a constant value such as 123., has 412 outliers greater than upper bound (6.300000000000001) or lower than lower bound(-0.9000000000000001). Cap them or remove them.</td>\n",
       "    </tr>\n",
       "    <tr>\n",
       "      <th id=\"T_52601_level0_row4\" class=\"row_heading level0 row4\" >cloud_coverage</th>\n",
       "      <td id=\"T_52601_row4_col0\" class=\"data row4 col0\" >object</td>\n",
       "      <td id=\"T_52601_row4_col1\" class=\"data row4 col1\" >70.833333</td>\n",
       "      <td id=\"T_52601_row4_col2\" class=\"data row4 col2\" >0</td>\n",
       "      <td id=\"T_52601_row4_col3\" class=\"data row4 col3\" >nan</td>\n",
       "      <td id=\"T_52601_row4_col4\" class=\"data row4 col4\" >nan</td>\n",
       "      <td id=\"T_52601_row4_col5\" class=\"data row4 col5\" >12427 missing values. Impute them with mean, median, mode, or a constant value such as 123., 9 rare categories: ['9', '1', '8', '2', '3', '7', '6', '4', '5']. Group them into a single category or drop the categories., Mixed dtypes: has 2 different data types:  float, object,</td>\n",
       "    </tr>\n",
       "    <tr>\n",
       "      <th id=\"T_52601_level0_row5\" class=\"row_heading level0 row5\" >dew_point (degC)</th>\n",
       "      <td id=\"T_52601_row5_col0\" class=\"data row5 col0\" >float64</td>\n",
       "      <td id=\"T_52601_row5_col1\" class=\"data row5 col1\" >0.079799</td>\n",
       "      <td id=\"T_52601_row5_col2\" class=\"data row5 col2\" >NA</td>\n",
       "      <td id=\"T_52601_row5_col3\" class=\"data row5 col3\" >-20.100000</td>\n",
       "      <td id=\"T_52601_row5_col4\" class=\"data row5 col4\" >27.300000</td>\n",
       "      <td id=\"T_52601_row5_col5\" class=\"data row5 col5\" >14 missing values. Impute them with mean, median, mode, or a constant value such as 123.</td>\n",
       "    </tr>\n",
       "    <tr>\n",
       "      <th id=\"T_52601_level0_row6\" class=\"row_heading level0 row6\" >irradiation (MJ/m2)</th>\n",
       "      <td id=\"T_52601_row6_col0\" class=\"data row6 col0\" >float64</td>\n",
       "      <td id=\"T_52601_row6_col1\" class=\"data row6 col1\" >40.925673</td>\n",
       "      <td id=\"T_52601_row6_col2\" class=\"data row6 col2\" >NA</td>\n",
       "      <td id=\"T_52601_row6_col3\" class=\"data row6 col3\" >0.000000</td>\n",
       "      <td id=\"T_52601_row6_col4\" class=\"data row6 col4\" >3.710000</td>\n",
       "      <td id=\"T_52601_row6_col5\" class=\"data row6 col5\" >7180 missing values. Impute them with mean, median, mode, or a constant value such as 123.</td>\n",
       "    </tr>\n",
       "    <tr>\n",
       "      <th id=\"T_52601_level0_row7\" class=\"row_heading level0 row7\" >local_press (hPa)</th>\n",
       "      <td id=\"T_52601_row7_col0\" class=\"data row7 col0\" >float64</td>\n",
       "      <td id=\"T_52601_row7_col1\" class=\"data row7 col1\" >0.000000</td>\n",
       "      <td id=\"T_52601_row7_col2\" class=\"data row7 col2\" >NA</td>\n",
       "      <td id=\"T_52601_row7_col3\" class=\"data row7 col3\" >965.500000</td>\n",
       "      <td id=\"T_52601_row7_col4\" class=\"data row7 col4\" >1031.300000</td>\n",
       "      <td id=\"T_52601_row7_col5\" class=\"data row7 col5\" >has 128 outliers greater than upper bound (1031.8999999999999) or lower than lower bound(990.3). Cap them or remove them.</td>\n",
       "    </tr>\n",
       "    <tr>\n",
       "      <th id=\"T_52601_level0_row8\" class=\"row_heading level0 row8\" >precipitation (mm)</th>\n",
       "      <td id=\"T_52601_row8_col0\" class=\"data row8 col0\" >float64</td>\n",
       "      <td id=\"T_52601_row8_col1\" class=\"data row8 col1\" >80.523256</td>\n",
       "      <td id=\"T_52601_row8_col2\" class=\"data row8 col2\" >NA</td>\n",
       "      <td id=\"T_52601_row8_col3\" class=\"data row8 col3\" >0.000000</td>\n",
       "      <td id=\"T_52601_row8_col4\" class=\"data row8 col4\" >40.000000</td>\n",
       "      <td id=\"T_52601_row8_col5\" class=\"data row8 col5\" >14127 missing values. Impute them with mean, median, mode, or a constant value such as 123., has 345 outliers greater than upper bound (2.5) or lower than lower bound(-1.5). Cap them or remove them.</td>\n",
       "    </tr>\n",
       "    <tr>\n",
       "      <th id=\"T_52601_level0_row9\" class=\"row_heading level0 row9\" >sea-level pressure (hPa)</th>\n",
       "      <td id=\"T_52601_row9_col0\" class=\"data row9 col0\" >float64</td>\n",
       "      <td id=\"T_52601_row9_col1\" class=\"data row9 col1\" >0.000000</td>\n",
       "      <td id=\"T_52601_row9_col2\" class=\"data row9 col2\" >NA</td>\n",
       "      <td id=\"T_52601_row9_col3\" class=\"data row9 col3\" >968.200000</td>\n",
       "      <td id=\"T_52601_row9_col4\" class=\"data row9 col4\" >1034.400000</td>\n",
       "      <td id=\"T_52601_row9_col5\" class=\"data row9 col5\" >has 126 outliers greater than upper bound (1034.95) or lower than lower bound(992.95). Cap them or remove them., has a high correlation with ['local_press (hPa)']. Consider dropping one of them.</td>\n",
       "    </tr>\n",
       "    <tr>\n",
       "      <th id=\"T_52601_level0_row10\" class=\"row_heading level0 row10\" >sunlight_duration (h)</th>\n",
       "      <td id=\"T_52601_row10_col0\" class=\"data row10 col0\" >float64</td>\n",
       "      <td id=\"T_52601_row10_col1\" class=\"data row10 col1\" >45.451436</td>\n",
       "      <td id=\"T_52601_row10_col2\" class=\"data row10 col2\" >NA</td>\n",
       "      <td id=\"T_52601_row10_col3\" class=\"data row10 col3\" >0.000000</td>\n",
       "      <td id=\"T_52601_row10_col4\" class=\"data row10 col4\" >1.000000</td>\n",
       "      <td id=\"T_52601_row10_col5\" class=\"data row10 col5\" >7974 missing values. Impute them with mean, median, mode, or a constant value such as 123.</td>\n",
       "    </tr>\n",
       "    <tr>\n",
       "      <th id=\"T_52601_level0_row11\" class=\"row_heading level0 row11\" >temperature (degC)</th>\n",
       "      <td id=\"T_52601_row11_col0\" class=\"data row11 col0\" >float64</td>\n",
       "      <td id=\"T_52601_row11_col1\" class=\"data row11 col1\" >0.000000</td>\n",
       "      <td id=\"T_52601_row11_col2\" class=\"data row11 col2\" >NA</td>\n",
       "      <td id=\"T_52601_row11_col3\" class=\"data row11 col3\" >-2.200000</td>\n",
       "      <td id=\"T_52601_row11_col4\" class=\"data row11 col4\" >37.300000</td>\n",
       "      <td id=\"T_52601_row11_col5\" class=\"data row11 col5\" >has a high correlation with ['dew_point (degC)']. Consider dropping one of them.</td>\n",
       "    </tr>\n",
       "    <tr>\n",
       "      <th id=\"T_52601_level0_row12\" class=\"row_heading level0 row12\" >vapor_press (hPa)</th>\n",
       "      <td id=\"T_52601_row12_col0\" class=\"data row12 col0\" >float64</td>\n",
       "      <td id=\"T_52601_row12_col1\" class=\"data row12 col1\" >0.079799</td>\n",
       "      <td id=\"T_52601_row12_col2\" class=\"data row12 col2\" >NA</td>\n",
       "      <td id=\"T_52601_row12_col3\" class=\"data row12 col3\" >1.200000</td>\n",
       "      <td id=\"T_52601_row12_col4\" class=\"data row12 col4\" >36.300000</td>\n",
       "      <td id=\"T_52601_row12_col5\" class=\"data row12 col5\" >14 missing values. Impute them with mean, median, mode, or a constant value such as 123., has a high correlation with ['dew_point (degC)', 'temperature (degC)']. Consider dropping one of them.</td>\n",
       "    </tr>\n",
       "    <tr>\n",
       "      <th id=\"T_52601_level0_row13\" class=\"row_heading level0 row13\" >visibility (km)</th>\n",
       "      <td id=\"T_52601_row13_col0\" class=\"data row13 col0\" >float64</td>\n",
       "      <td id=\"T_52601_row13_col1\" class=\"data row13 col1\" >70.833333</td>\n",
       "      <td id=\"T_52601_row13_col2\" class=\"data row13 col2\" >NA</td>\n",
       "      <td id=\"T_52601_row13_col3\" class=\"data row13 col3\" >0.900000</td>\n",
       "      <td id=\"T_52601_row13_col4\" class=\"data row13 col4\" >50.000000</td>\n",
       "      <td id=\"T_52601_row13_col5\" class=\"data row13 col5\" >12427 missing values. Impute them with mean, median, mode, or a constant value such as 123., has 963 outliers greater than upper bound (27.5) or lower than lower bound(7.5). Cap them or remove them.</td>\n",
       "    </tr>\n",
       "    <tr>\n",
       "      <th id=\"T_52601_level0_row14\" class=\"row_heading level0 row14\" >dtnow</th>\n",
       "      <td id=\"T_52601_row14_col0\" class=\"data row14 col0\" >datetime64[ns]</td>\n",
       "      <td id=\"T_52601_row14_col1\" class=\"data row14 col1\" >0.000000</td>\n",
       "      <td id=\"T_52601_row14_col2\" class=\"data row14 col2\" >0</td>\n",
       "      <td id=\"T_52601_row14_col3\" class=\"data row14 col3\" >2022-01-01 12:00:00</td>\n",
       "      <td id=\"T_52601_row14_col4\" class=\"data row14 col4\" >2022-01-01 12:00:00</td>\n",
       "      <td id=\"T_52601_row14_col5\" class=\"data row14 col5\" >Zero-variance colum: drop before modeling process.</td>\n",
       "    </tr>\n",
       "    <tr>\n",
       "      <th id=\"T_52601_level0_row15\" class=\"row_heading level0 row15\" >dtrandom</th>\n",
       "      <td id=\"T_52601_row15_col0\" class=\"data row15 col0\" >datetime64[ns]</td>\n",
       "      <td id=\"T_52601_row15_col1\" class=\"data row15 col1\" >0.000000</td>\n",
       "      <td id=\"T_52601_row15_col2\" class=\"data row15 col2\" >100</td>\n",
       "      <td id=\"T_52601_row15_col3\" class=\"data row15 col3\" >2015-01-01 00:00:00</td>\n",
       "      <td id=\"T_52601_row15_col4\" class=\"data row15 col4\" >2018-01-01 00:00:00</td>\n",
       "      <td id=\"T_52601_row15_col5\" class=\"data row15 col5\" >Possible ID colum: drop before modeling process.</td>\n",
       "    </tr>\n",
       "  </tbody>\n",
       "</table>\n"
      ],
      "text/plain": [
       "<pandas.io.formats.style.Styler at 0x7f9809730290>"
      ]
     },
     "metadata": {},
     "output_type": "display_data"
    }
   ],
   "source": [
    "df_report = dq_report(data, csv_engine=\"pandas\", verbose=1)"
   ]
  },
  {
   "attachments": {},
   "cell_type": "markdown",
   "metadata": {},
   "source": [
    "## IRIS DATASET"
   ]
  },
  {
   "attachments": {},
   "cell_type": "markdown",
   "metadata": {},
   "source": [
    "### Load data"
   ]
  },
  {
   "cell_type": "code",
   "execution_count": 13,
   "metadata": {},
   "outputs": [
    {
     "data": {
      "text/plain": [
       "((150, 5),\n",
       " Index(['sepal length (cm)', 'sepal width (cm)', 'petal length (cm)',\n",
       "        'petal width (cm)', 'class'],\n",
       "       dtype='object'))"
      ]
     },
     "execution_count": 13,
     "metadata": {},
     "output_type": "execute_result"
    }
   ],
   "source": [
    "# load dataset\n",
    "dataset = load_iris()\n",
    "dataset.keys()\n",
    "# dataset to df\n",
    "data = pd.DataFrame(dataset.data, columns = dataset.feature_names)\n",
    "data['class'] = dataset.target\n",
    "data.shape, data.columns"
   ]
  },
  {
   "attachments": {},
   "cell_type": "markdown",
   "metadata": {},
   "source": [
    "### Data Quality Analysis"
   ]
  },
  {
   "cell_type": "code",
   "execution_count": 12,
   "metadata": {},
   "outputs": [
    {
     "name": "stdout",
     "output_type": "stream",
     "text": [
      "Alert: Dropping 1 duplicate rows can sometimes cause column data types to change to object. Double-check!\n"
     ]
    },
    {
     "data": {
      "text/html": [
       "<style type=\"text/css\">\n",
       "#T_df982_row0_col0, #T_df982_row0_col2, #T_df982_row0_col5, #T_df982_row1_col0, #T_df982_row1_col2, #T_df982_row1_col5, #T_df982_row2_col0, #T_df982_row2_col2, #T_df982_row2_col5, #T_df982_row3_col0, #T_df982_row3_col2, #T_df982_row3_col5, #T_df982_row4_col0, #T_df982_row4_col2, #T_df982_row4_col5 {\n",
       "  font-family: Segoe UI;\n",
       "}\n",
       "#T_df982_row0_col1, #T_df982_row1_col1, #T_df982_row2_col1, #T_df982_row3_col1, #T_df982_row4_col1, #T_df982_row4_col3, #T_df982_row4_col4 {\n",
       "  background-color: #fff5f0;\n",
       "  color: #000000;\n",
       "  font-family: Segoe UI;\n",
       "}\n",
       "#T_df982_row0_col3, #T_df982_row0_col4 {\n",
       "  background-color: #67000d;\n",
       "  color: #f1f1f1;\n",
       "  font-family: Segoe UI;\n",
       "}\n",
       "#T_df982_row1_col3 {\n",
       "  background-color: #fb7555;\n",
       "  color: #f1f1f1;\n",
       "  font-family: Segoe UI;\n",
       "}\n",
       "#T_df982_row1_col4 {\n",
       "  background-color: #fc8767;\n",
       "  color: #f1f1f1;\n",
       "  font-family: Segoe UI;\n",
       "}\n",
       "#T_df982_row2_col3 {\n",
       "  background-color: #fcc1a8;\n",
       "  color: #000000;\n",
       "  font-family: Segoe UI;\n",
       "}\n",
       "#T_df982_row2_col4 {\n",
       "  background-color: #b21218;\n",
       "  color: #f1f1f1;\n",
       "  font-family: Segoe UI;\n",
       "}\n",
       "#T_df982_row3_col3 {\n",
       "  background-color: #fff2eb;\n",
       "  color: #000000;\n",
       "  font-family: Segoe UI;\n",
       "}\n",
       "#T_df982_row3_col4 {\n",
       "  background-color: #fee7dc;\n",
       "  color: #000000;\n",
       "  font-family: Segoe UI;\n",
       "}\n",
       "</style>\n",
       "<table id=\"T_df982_\">\n",
       "  <thead>\n",
       "    <tr>\n",
       "      <th class=\"blank level0\" >&nbsp;</th>\n",
       "      <th class=\"col_heading level0 col0\" >Data Type</th>\n",
       "      <th class=\"col_heading level0 col1\" >Missing Values%</th>\n",
       "      <th class=\"col_heading level0 col2\" >Unique Values%</th>\n",
       "      <th class=\"col_heading level0 col3\" >Minimum Value</th>\n",
       "      <th class=\"col_heading level0 col4\" >Maximum Value</th>\n",
       "      <th class=\"col_heading level0 col5\" >DQ Issue</th>\n",
       "    </tr>\n",
       "  </thead>\n",
       "  <tbody>\n",
       "    <tr>\n",
       "      <th id=\"T_df982_level0_row0\" class=\"row_heading level0 row0\" >sepal length (cm)</th>\n",
       "      <td id=\"T_df982_row0_col0\" class=\"data row0 col0\" >float64</td>\n",
       "      <td id=\"T_df982_row0_col1\" class=\"data row0 col1\" >0.000000</td>\n",
       "      <td id=\"T_df982_row0_col2\" class=\"data row0 col2\" >NA</td>\n",
       "      <td id=\"T_df982_row0_col3\" class=\"data row0 col3\" >4.300000</td>\n",
       "      <td id=\"T_df982_row0_col4\" class=\"data row0 col4\" >7.900000</td>\n",
       "      <td id=\"T_df982_row0_col5\" class=\"data row0 col5\" >No issue</td>\n",
       "    </tr>\n",
       "    <tr>\n",
       "      <th id=\"T_df982_level0_row1\" class=\"row_heading level0 row1\" >sepal width (cm)</th>\n",
       "      <td id=\"T_df982_row1_col0\" class=\"data row1 col0\" >float64</td>\n",
       "      <td id=\"T_df982_row1_col1\" class=\"data row1 col1\" >0.000000</td>\n",
       "      <td id=\"T_df982_row1_col2\" class=\"data row1 col2\" >NA</td>\n",
       "      <td id=\"T_df982_row1_col3\" class=\"data row1 col3\" >2.000000</td>\n",
       "      <td id=\"T_df982_row1_col4\" class=\"data row1 col4\" >4.400000</td>\n",
       "      <td id=\"T_df982_row1_col5\" class=\"data row1 col5\" >has 4 outliers greater than upper bound (4.05) or lower than lower bound(2.05). Cap them or remove them.</td>\n",
       "    </tr>\n",
       "    <tr>\n",
       "      <th id=\"T_df982_level0_row2\" class=\"row_heading level0 row2\" >petal length (cm)</th>\n",
       "      <td id=\"T_df982_row2_col0\" class=\"data row2 col0\" >float64</td>\n",
       "      <td id=\"T_df982_row2_col1\" class=\"data row2 col1\" >0.000000</td>\n",
       "      <td id=\"T_df982_row2_col2\" class=\"data row2 col2\" >NA</td>\n",
       "      <td id=\"T_df982_row2_col3\" class=\"data row2 col3\" >1.000000</td>\n",
       "      <td id=\"T_df982_row2_col4\" class=\"data row2 col4\" >6.900000</td>\n",
       "      <td id=\"T_df982_row2_col5\" class=\"data row2 col5\" >has a high correlation with ['sepal length (cm)']. Consider dropping one of them.,     petal length (cm) has a correlation >= 0.8 with class. Possible data leakage. Double check this variable.</td>\n",
       "    </tr>\n",
       "    <tr>\n",
       "      <th id=\"T_df982_level0_row3\" class=\"row_heading level0 row3\" >petal width (cm)</th>\n",
       "      <td id=\"T_df982_row3_col0\" class=\"data row3 col0\" >float64</td>\n",
       "      <td id=\"T_df982_row3_col1\" class=\"data row3 col1\" >0.000000</td>\n",
       "      <td id=\"T_df982_row3_col2\" class=\"data row3 col2\" >NA</td>\n",
       "      <td id=\"T_df982_row3_col3\" class=\"data row3 col3\" >0.100000</td>\n",
       "      <td id=\"T_df982_row3_col4\" class=\"data row3 col4\" >2.500000</td>\n",
       "      <td id=\"T_df982_row3_col5\" class=\"data row3 col5\" >has a high correlation with ['sepal length (cm)', 'petal length (cm)']. Consider dropping one of them.,     petal width (cm) has a correlation >= 0.8 with class. Possible data leakage. Double check this variable.</td>\n",
       "    </tr>\n",
       "    <tr>\n",
       "      <th id=\"T_df982_level0_row4\" class=\"row_heading level0 row4\" >class</th>\n",
       "      <td id=\"T_df982_row4_col0\" class=\"data row4 col0\" >int64</td>\n",
       "      <td id=\"T_df982_row4_col1\" class=\"data row4 col1\" >0.000000</td>\n",
       "      <td id=\"T_df982_row4_col2\" class=\"data row4 col2\" >2</td>\n",
       "      <td id=\"T_df982_row4_col3\" class=\"data row4 col3\" >0.000000</td>\n",
       "      <td id=\"T_df982_row4_col4\" class=\"data row4 col4\" >2.000000</td>\n",
       "      <td id=\"T_df982_row4_col5\" class=\"data row4 col5\" >has a high correlation with ['petal length (cm)', 'petal width (cm)']. Consider dropping one of them.</td>\n",
       "    </tr>\n",
       "  </tbody>\n",
       "</table>\n"
      ],
      "text/plain": [
       "<pandas.io.formats.style.Styler at 0x7f980df3dfd0>"
      ]
     },
     "metadata": {},
     "output_type": "display_data"
    }
   ],
   "source": [
    "df_report = dq_report(data, target = \"class\", csv_engine=\"pandas\", verbose=1)"
   ]
  },
  {
   "attachments": {},
   "cell_type": "markdown",
   "metadata": {},
   "source": [
    "## Titanic Dataset"
   ]
  },
  {
   "attachments": {},
   "cell_type": "markdown",
   "metadata": {},
   "source": [
    "### Load Data"
   ]
  },
  {
   "cell_type": "code",
   "execution_count": 11,
   "metadata": {},
   "outputs": [
    {
     "data": {
      "text/plain": [
       "((891, 15),\n",
       " Index(['survived', 'pclass', 'sex', 'age', 'sibsp', 'parch', 'fare',\n",
       "        'embarked', 'class', 'who', 'adult_male', 'deck', 'embark_town',\n",
       "        'alive', 'alone'],\n",
       "       dtype='object'))"
      ]
     },
     "execution_count": 11,
     "metadata": {},
     "output_type": "execute_result"
    }
   ],
   "source": [
    "data = seaborn.load_dataset('titanic')\n",
    "data[\"class\"] = data[\"class\"].astype(str)\n",
    "data[\"deck\"] = data[\"deck\"].astype(str)\n",
    "data.shape, data.columns"
   ]
  },
  {
   "attachments": {},
   "cell_type": "markdown",
   "metadata": {},
   "source": [
    "### Data Quality Analysis"
   ]
  },
  {
   "cell_type": "code",
   "execution_count": 14,
   "metadata": {},
   "outputs": [
    {
     "name": "stdout",
     "output_type": "stream",
     "text": [
      "Alert: Dropping 107 duplicate rows can sometimes cause column data types to change to object. Double-check!\n"
     ]
    },
    {
     "data": {
      "text/html": [
       "<style type=\"text/css\">\n",
       "#T_34537_row0_col0, #T_34537_row0_col2, #T_34537_row0_col3, #T_34537_row0_col4, #T_34537_row0_col5, #T_34537_row1_col0, #T_34537_row1_col2, #T_34537_row1_col3, #T_34537_row1_col4, #T_34537_row1_col5, #T_34537_row2_col0, #T_34537_row2_col2, #T_34537_row2_col3, #T_34537_row2_col4, #T_34537_row2_col5, #T_34537_row3_col0, #T_34537_row3_col2, #T_34537_row3_col3, #T_34537_row3_col4, #T_34537_row3_col5, #T_34537_row4_col0, #T_34537_row4_col2, #T_34537_row4_col3, #T_34537_row4_col4, #T_34537_row4_col5, #T_34537_row5_col0, #T_34537_row5_col2, #T_34537_row5_col3, #T_34537_row5_col4, #T_34537_row5_col5, #T_34537_row6_col0, #T_34537_row6_col2, #T_34537_row6_col3, #T_34537_row6_col4, #T_34537_row6_col5, #T_34537_row7_col0, #T_34537_row7_col2, #T_34537_row7_col3, #T_34537_row7_col4, #T_34537_row7_col5, #T_34537_row8_col0, #T_34537_row8_col2, #T_34537_row8_col3, #T_34537_row8_col4, #T_34537_row8_col5, #T_34537_row9_col0, #T_34537_row9_col2, #T_34537_row9_col3, #T_34537_row9_col4, #T_34537_row9_col5, #T_34537_row10_col0, #T_34537_row10_col2, #T_34537_row10_col3, #T_34537_row10_col4, #T_34537_row10_col5, #T_34537_row11_col0, #T_34537_row11_col2, #T_34537_row11_col3, #T_34537_row11_col4, #T_34537_row11_col5, #T_34537_row12_col0, #T_34537_row12_col2, #T_34537_row12_col3, #T_34537_row12_col4, #T_34537_row12_col5, #T_34537_row13_col0, #T_34537_row13_col2, #T_34537_row13_col3, #T_34537_row13_col4, #T_34537_row13_col5, #T_34537_row14_col0, #T_34537_row14_col2, #T_34537_row14_col3, #T_34537_row14_col4, #T_34537_row14_col5 {\n",
       "  font-family: Segoe UI;\n",
       "}\n",
       "#T_34537_row0_col1, #T_34537_row1_col1, #T_34537_row2_col1, #T_34537_row4_col1, #T_34537_row5_col1, #T_34537_row6_col1, #T_34537_row8_col1, #T_34537_row9_col1, #T_34537_row10_col1, #T_34537_row11_col1, #T_34537_row13_col1, #T_34537_row14_col1 {\n",
       "  background-color: #fff5f0;\n",
       "  color: #000000;\n",
       "  font-family: Segoe UI;\n",
       "}\n",
       "#T_34537_row3_col1 {\n",
       "  background-color: #67000d;\n",
       "  color: #f1f1f1;\n",
       "  font-family: Segoe UI;\n",
       "}\n",
       "#T_34537_row7_col1, #T_34537_row12_col1 {\n",
       "  background-color: #fff2ec;\n",
       "  color: #000000;\n",
       "  font-family: Segoe UI;\n",
       "}\n",
       "</style>\n",
       "<table id=\"T_34537_\">\n",
       "  <thead>\n",
       "    <tr>\n",
       "      <th class=\"blank level0\" >&nbsp;</th>\n",
       "      <th class=\"col_heading level0 col0\" >Data Type</th>\n",
       "      <th class=\"col_heading level0 col1\" >Missing Values%</th>\n",
       "      <th class=\"col_heading level0 col2\" >Unique Values%</th>\n",
       "      <th class=\"col_heading level0 col3\" >Minimum Value</th>\n",
       "      <th class=\"col_heading level0 col4\" >Maximum Value</th>\n",
       "      <th class=\"col_heading level0 col5\" >DQ Issue</th>\n",
       "    </tr>\n",
       "  </thead>\n",
       "  <tbody>\n",
       "    <tr>\n",
       "      <th id=\"T_34537_level0_row0\" class=\"row_heading level0 row0\" >survived</th>\n",
       "      <td id=\"T_34537_row0_col0\" class=\"data row0 col0\" >int64</td>\n",
       "      <td id=\"T_34537_row0_col1\" class=\"data row0 col1\" >0.000000</td>\n",
       "      <td id=\"T_34537_row0_col2\" class=\"data row0 col2\" >0</td>\n",
       "      <td id=\"T_34537_row0_col3\" class=\"data row0 col3\" >0</td>\n",
       "      <td id=\"T_34537_row0_col4\" class=\"data row0 col4\" >1</td>\n",
       "      <td id=\"T_34537_row0_col5\" class=\"data row0 col5\" >No issue</td>\n",
       "    </tr>\n",
       "    <tr>\n",
       "      <th id=\"T_34537_level0_row1\" class=\"row_heading level0 row1\" >pclass</th>\n",
       "      <td id=\"T_34537_row1_col0\" class=\"data row1 col0\" >int64</td>\n",
       "      <td id=\"T_34537_row1_col1\" class=\"data row1 col1\" >0.000000</td>\n",
       "      <td id=\"T_34537_row1_col2\" class=\"data row1 col2\" >0</td>\n",
       "      <td id=\"T_34537_row1_col3\" class=\"data row1 col3\" >1</td>\n",
       "      <td id=\"T_34537_row1_col4\" class=\"data row1 col4\" >3</td>\n",
       "      <td id=\"T_34537_row1_col5\" class=\"data row1 col5\" >No issue</td>\n",
       "    </tr>\n",
       "    <tr>\n",
       "      <th id=\"T_34537_level0_row2\" class=\"row_heading level0 row2\" >sex</th>\n",
       "      <td id=\"T_34537_row2_col0\" class=\"data row2 col0\" >object</td>\n",
       "      <td id=\"T_34537_row2_col1\" class=\"data row2 col1\" >0.000000</td>\n",
       "      <td id=\"T_34537_row2_col2\" class=\"data row2 col2\" >0</td>\n",
       "      <td id=\"T_34537_row2_col3\" class=\"data row2 col3\" >female</td>\n",
       "      <td id=\"T_34537_row2_col4\" class=\"data row2 col4\" >male</td>\n",
       "      <td id=\"T_34537_row2_col5\" class=\"data row2 col5\" >No issue</td>\n",
       "    </tr>\n",
       "    <tr>\n",
       "      <th id=\"T_34537_level0_row3\" class=\"row_heading level0 row3\" >age</th>\n",
       "      <td id=\"T_34537_row3_col0\" class=\"data row3 col0\" >float64</td>\n",
       "      <td id=\"T_34537_row3_col1\" class=\"data row3 col1\" >13.520408</td>\n",
       "      <td id=\"T_34537_row3_col2\" class=\"data row3 col2\" >NA</td>\n",
       "      <td id=\"T_34537_row3_col3\" class=\"data row3 col3\" >0.420000</td>\n",
       "      <td id=\"T_34537_row3_col4\" class=\"data row3 col4\" >80.000000</td>\n",
       "      <td id=\"T_34537_row3_col5\" class=\"data row3 col5\" >106 missing values. Impute them with mean, median, mode, or a constant value such as 123., has 7 outliers greater than upper bound (67.5) or lower than lower bound(-8.5). Cap them or remove them.</td>\n",
       "    </tr>\n",
       "    <tr>\n",
       "      <th id=\"T_34537_level0_row4\" class=\"row_heading level0 row4\" >sibsp</th>\n",
       "      <td id=\"T_34537_row4_col0\" class=\"data row4 col0\" >int64</td>\n",
       "      <td id=\"T_34537_row4_col1\" class=\"data row4 col1\" >0.000000</td>\n",
       "      <td id=\"T_34537_row4_col2\" class=\"data row4 col2\" >0</td>\n",
       "      <td id=\"T_34537_row4_col3\" class=\"data row4 col3\" >0</td>\n",
       "      <td id=\"T_34537_row4_col4\" class=\"data row4 col4\" >8</td>\n",
       "      <td id=\"T_34537_row4_col5\" class=\"data row4 col5\" >has 39 outliers greater than upper bound (2.5) or lower than lower bound(-1.5). Cap them or remove them.</td>\n",
       "    </tr>\n",
       "    <tr>\n",
       "      <th id=\"T_34537_level0_row5\" class=\"row_heading level0 row5\" >parch</th>\n",
       "      <td id=\"T_34537_row5_col0\" class=\"data row5 col0\" >int64</td>\n",
       "      <td id=\"T_34537_row5_col1\" class=\"data row5 col1\" >0.000000</td>\n",
       "      <td id=\"T_34537_row5_col2\" class=\"data row5 col2\" >0</td>\n",
       "      <td id=\"T_34537_row5_col3\" class=\"data row5 col3\" >0</td>\n",
       "      <td id=\"T_34537_row5_col4\" class=\"data row5 col4\" >6</td>\n",
       "      <td id=\"T_34537_row5_col5\" class=\"data row5 col5\" >has 15 outliers greater than upper bound (2.5) or lower than lower bound(-1.5). Cap them or remove them.</td>\n",
       "    </tr>\n",
       "    <tr>\n",
       "      <th id=\"T_34537_level0_row6\" class=\"row_heading level0 row6\" >fare</th>\n",
       "      <td id=\"T_34537_row6_col0\" class=\"data row6 col0\" >float64</td>\n",
       "      <td id=\"T_34537_row6_col1\" class=\"data row6 col1\" >0.000000</td>\n",
       "      <td id=\"T_34537_row6_col2\" class=\"data row6 col2\" >NA</td>\n",
       "      <td id=\"T_34537_row6_col3\" class=\"data row6 col3\" >0.000000</td>\n",
       "      <td id=\"T_34537_row6_col4\" class=\"data row6 col4\" >512.329200</td>\n",
       "      <td id=\"T_34537_row6_col5\" class=\"data row6 col5\" >has 102 outliers greater than upper bound (73.198375) or lower than lower bound(-31.039025). Cap them or remove them.</td>\n",
       "    </tr>\n",
       "    <tr>\n",
       "      <th id=\"T_34537_level0_row7\" class=\"row_heading level0 row7\" >embarked</th>\n",
       "      <td id=\"T_34537_row7_col0\" class=\"data row7 col0\" >object</td>\n",
       "      <td id=\"T_34537_row7_col1\" class=\"data row7 col1\" >0.255102</td>\n",
       "      <td id=\"T_34537_row7_col2\" class=\"data row7 col2\" >0</td>\n",
       "      <td id=\"T_34537_row7_col3\" class=\"data row7 col3\" >nan</td>\n",
       "      <td id=\"T_34537_row7_col4\" class=\"data row7 col4\" >nan</td>\n",
       "      <td id=\"T_34537_row7_col5\" class=\"data row7 col5\" >2 missing values. Impute them with mean, median, mode, or a constant value such as 123., Mixed dtypes: has 2 different data types:  object, float,</td>\n",
       "    </tr>\n",
       "    <tr>\n",
       "      <th id=\"T_34537_level0_row8\" class=\"row_heading level0 row8\" >class</th>\n",
       "      <td id=\"T_34537_row8_col0\" class=\"data row8 col0\" >object</td>\n",
       "      <td id=\"T_34537_row8_col1\" class=\"data row8 col1\" >0.000000</td>\n",
       "      <td id=\"T_34537_row8_col2\" class=\"data row8 col2\" >0</td>\n",
       "      <td id=\"T_34537_row8_col3\" class=\"data row8 col3\" >First</td>\n",
       "      <td id=\"T_34537_row8_col4\" class=\"data row8 col4\" >Third</td>\n",
       "      <td id=\"T_34537_row8_col5\" class=\"data row8 col5\" >No issue</td>\n",
       "    </tr>\n",
       "    <tr>\n",
       "      <th id=\"T_34537_level0_row9\" class=\"row_heading level0 row9\" >who</th>\n",
       "      <td id=\"T_34537_row9_col0\" class=\"data row9 col0\" >object</td>\n",
       "      <td id=\"T_34537_row9_col1\" class=\"data row9 col1\" >0.000000</td>\n",
       "      <td id=\"T_34537_row9_col2\" class=\"data row9 col2\" >0</td>\n",
       "      <td id=\"T_34537_row9_col3\" class=\"data row9 col3\" >child</td>\n",
       "      <td id=\"T_34537_row9_col4\" class=\"data row9 col4\" >woman</td>\n",
       "      <td id=\"T_34537_row9_col5\" class=\"data row9 col5\" >No issue</td>\n",
       "    </tr>\n",
       "    <tr>\n",
       "      <th id=\"T_34537_level0_row10\" class=\"row_heading level0 row10\" >adult_male</th>\n",
       "      <td id=\"T_34537_row10_col0\" class=\"data row10 col0\" >bool</td>\n",
       "      <td id=\"T_34537_row10_col1\" class=\"data row10 col1\" >0.000000</td>\n",
       "      <td id=\"T_34537_row10_col2\" class=\"data row10 col2\" >0</td>\n",
       "      <td id=\"T_34537_row10_col3\" class=\"data row10 col3\" >False</td>\n",
       "      <td id=\"T_34537_row10_col4\" class=\"data row10 col4\" >True</td>\n",
       "      <td id=\"T_34537_row10_col5\" class=\"data row10 col5\" >No issue</td>\n",
       "    </tr>\n",
       "    <tr>\n",
       "      <th id=\"T_34537_level0_row11\" class=\"row_heading level0 row11\" >deck</th>\n",
       "      <td id=\"T_34537_row11_col0\" class=\"data row11 col0\" >object</td>\n",
       "      <td id=\"T_34537_row11_col1\" class=\"data row11 col1\" >0.000000</td>\n",
       "      <td id=\"T_34537_row11_col2\" class=\"data row11 col2\" >1</td>\n",
       "      <td id=\"T_34537_row11_col3\" class=\"data row11 col3\" >A</td>\n",
       "      <td id=\"T_34537_row11_col4\" class=\"data row11 col4\" >nan</td>\n",
       "      <td id=\"T_34537_row11_col5\" class=\"data row11 col5\" >5 rare categories: ['D', 'E', 'A', 'F', 'G']. Group them into a single category or drop the categories., Mixed dtypes: has 2 different data types:  object,</td>\n",
       "    </tr>\n",
       "    <tr>\n",
       "      <th id=\"T_34537_level0_row12\" class=\"row_heading level0 row12\" >embark_town</th>\n",
       "      <td id=\"T_34537_row12_col0\" class=\"data row12 col0\" >object</td>\n",
       "      <td id=\"T_34537_row12_col1\" class=\"data row12 col1\" >0.255102</td>\n",
       "      <td id=\"T_34537_row12_col2\" class=\"data row12 col2\" >0</td>\n",
       "      <td id=\"T_34537_row12_col3\" class=\"data row12 col3\" >nan</td>\n",
       "      <td id=\"T_34537_row12_col4\" class=\"data row12 col4\" >nan</td>\n",
       "      <td id=\"T_34537_row12_col5\" class=\"data row12 col5\" >2 missing values. Impute them with mean, median, mode, or a constant value such as 123., Mixed dtypes: has 2 different data types:  object, float,</td>\n",
       "    </tr>\n",
       "    <tr>\n",
       "      <th id=\"T_34537_level0_row13\" class=\"row_heading level0 row13\" >alive</th>\n",
       "      <td id=\"T_34537_row13_col0\" class=\"data row13 col0\" >object</td>\n",
       "      <td id=\"T_34537_row13_col1\" class=\"data row13 col1\" >0.000000</td>\n",
       "      <td id=\"T_34537_row13_col2\" class=\"data row13 col2\" >0</td>\n",
       "      <td id=\"T_34537_row13_col3\" class=\"data row13 col3\" >no</td>\n",
       "      <td id=\"T_34537_row13_col4\" class=\"data row13 col4\" >yes</td>\n",
       "      <td id=\"T_34537_row13_col5\" class=\"data row13 col5\" >No issue</td>\n",
       "    </tr>\n",
       "    <tr>\n",
       "      <th id=\"T_34537_level0_row14\" class=\"row_heading level0 row14\" >alone</th>\n",
       "      <td id=\"T_34537_row14_col0\" class=\"data row14 col0\" >bool</td>\n",
       "      <td id=\"T_34537_row14_col1\" class=\"data row14 col1\" >0.000000</td>\n",
       "      <td id=\"T_34537_row14_col2\" class=\"data row14 col2\" >0</td>\n",
       "      <td id=\"T_34537_row14_col3\" class=\"data row14 col3\" >False</td>\n",
       "      <td id=\"T_34537_row14_col4\" class=\"data row14 col4\" >True</td>\n",
       "      <td id=\"T_34537_row14_col5\" class=\"data row14 col5\" >No issue</td>\n",
       "    </tr>\n",
       "  </tbody>\n",
       "</table>\n"
      ],
      "text/plain": [
       "<pandas.io.formats.style.Styler at 0x7fefa5d52390>"
      ]
     },
     "metadata": {},
     "output_type": "display_data"
    }
   ],
   "source": [
    "df_report = dq_report(data, target = \"survived\", csv_engine=\"pandas\", verbose=1)"
   ]
  },
  {
   "cell_type": "code",
   "execution_count": null,
   "metadata": {},
   "outputs": [],
   "source": []
  }
 ],
 "metadata": {
  "kernelspec": {
   "display_name": "data_quality",
   "language": "python",
   "name": "python3"
  },
  "language_info": {
   "codemirror_mode": {
    "name": "ipython",
    "version": 3
   },
   "file_extension": ".py",
   "mimetype": "text/x-python",
   "name": "python",
   "nbconvert_exporter": "python",
   "pygments_lexer": "ipython3",
   "version": "3.7.16"
  },
  "orig_nbformat": 4
 },
 "nbformat": 4,
 "nbformat_minor": 2
}
