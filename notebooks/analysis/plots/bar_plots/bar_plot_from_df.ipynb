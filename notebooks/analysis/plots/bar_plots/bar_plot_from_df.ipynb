{
 "cells": [
  {
   "cell_type": "markdown",
   "metadata": {},
   "source": [
    "# Bar plot from a dataframe\n",
    "\n",
    "#### References:\n",
    "\n",
    "- [seaborn.barplot (documentation)](https://seaborn.pydata.org/generated/seaborn.barplot.html)"
   ]
  },
  {
   "cell_type": "code",
   "execution_count": 53,
   "metadata": {},
   "outputs": [],
   "source": [
    "%matplotlib inline\n",
    "import seaborn as sns\n",
    "sns.set(style=\"whitegrid\")\n",
    "import matplotlib.pyplot as plt\n",
    "import numpy as np\n",
    "import warnings\n",
    "warnings.filterwarnings('ignore')"
   ]
  },
  {
   "cell_type": "markdown",
   "metadata": {},
   "source": [
    "### create data"
   ]
  },
  {
   "cell_type": "code",
   "execution_count": 3,
   "metadata": {},
   "outputs": [
    {
     "name": "stdout",
     "output_type": "stream",
     "text": [
      "<class 'pandas.core.frame.DataFrame'>\n",
      "RangeIndex: 891 entries, 0 to 890\n",
      "Data columns (total 15 columns):\n",
      "survived       891 non-null int64\n",
      "pclass         891 non-null int64\n",
      "sex            891 non-null object\n",
      "age            714 non-null float64\n",
      "sibsp          891 non-null int64\n",
      "parch          891 non-null int64\n",
      "fare           891 non-null float64\n",
      "embarked       889 non-null object\n",
      "class          891 non-null category\n",
      "who            891 non-null object\n",
      "adult_male     891 non-null bool\n",
      "deck           203 non-null category\n",
      "embark_town    889 non-null object\n",
      "alive          891 non-null object\n",
      "alone          891 non-null bool\n",
      "dtypes: bool(2), category(2), float64(2), int64(4), object(5)\n",
      "memory usage: 80.6+ KB\n"
     ]
    }
   ],
   "source": [
    "df = sns.load_dataset('titanic')\n",
    "df.info()"
   ]
  },
  {
   "cell_type": "markdown",
   "metadata": {},
   "source": [
    "### bar plot"
   ]
  },
  {
   "cell_type": "code",
   "execution_count": 77,
   "metadata": {},
   "outputs": [],
   "source": [
    "## barplot from a df\n",
    "def barplot(df, colname_num, colname_cat1:str, colname_cat2:str = '', colname_cat3:str='')->tuple:\n",
    "    \"\"\"\n",
    "    Barplot from a df.\n",
    "    df -- data.\n",
    "    colname_num -- column name of numerical variable to be plotted in y-axis. \n",
    "                   If it is \"count\", it will be estimated and plotted the categorical values occurrence.\n",
    "    colname_cat1 -- column name of the first categorical variable to be plotted in x-axis.\n",
    "    colname_cat2 -- column name of the second categorical variable to be plotted in x-axis in different columns (default, \"\").\n",
    "    colname_cat3 -- column name of the third categorical variable to be plotted in x-axis in a different chart (default, \"\").\n",
    "    return -- axis and estimated plotted values. \n",
    "    \"\"\"\n",
    "    # operations\n",
    "    fcount = lambda x: len(x)\n",
    "    fmean = lambda x: np.nanmean(x)\n",
    "    fstd = lambda x: np.nanstd(x)\n",
    "    # aggregator\n",
    "    def fagg_count(df, columns_cat):\n",
    "        if not type(columns_cat) == list: columns_cat = [columns_cat]\n",
    "        aggregations = {'%s'%columns_cat[0]:{'count': fcount}}\n",
    "        data = df.groupby(columns_cat).agg(aggregations)\n",
    "        data.columns = ['count']    \n",
    "        return data.reset_index(inplace = False)\n",
    "    def fagg(df, column_num, columns_cat):\n",
    "        if not type(columns_cat) == list: columns_cat = [columns_cat]\n",
    "        aggregations = {'%s'%column_num:{'avg': fmean, 'std':fstd}}\n",
    "        data = df.groupby(columns_cat, as_index = True).agg(aggregations)\n",
    "        data.columns = ['avg', 'std'] \n",
    "        return data.reset_index(inplace = False)\n",
    "    # arguments validation\n",
    "    assert colname_num in df.columns.tolist() or colname_num == 'count', 'Numerical column \"%s\" is not available.'%colname_num\n",
    "    assert colname_cat1 in df.columns.tolist(), 'Categorical column \"%s\" is not available.'%colname_cat1\n",
    "    assert colname_cat2 in df.columns.tolist() or colname_cat2 == '', 'Categorical column \"%s\" is not available.'%colname_cat2\n",
    "    assert colname_cat3 in df.columns.tolist() or colname_cat3 == '', 'Categorical column \"%s\" is not available.'%colname_cat3\n",
    "    # plot\n",
    "    if colname_num == 'count':\n",
    "        if colname_cat2 =='' and colname_cat3 == '':\n",
    "            data = fagg_count(df, colname_cat1)\n",
    "            ax = sns.barplot(x=colname_cat1, y=colname_num, data=data)\n",
    "        elif colname_cat2 != '' and colname_cat3 == '': \n",
    "            data = fagg_count(df, [colname_cat1, colname_cat2])\n",
    "            ax = sns.barplot(x=colname_cat1, y=colname_num, hue = colname_cat2, data=data)\n",
    "        elif colname_cat2 != '' and colname_cat3 != '': \n",
    "            data = fagg_count(df, [colname_cat1, colname_cat2, colname_cat3])\n",
    "            ax = sns.catplot(x=colname_cat1, y=colname_num, hue = colname_cat2, col = colname_cat3, data=data, kind = 'bar')\n",
    "    else: \n",
    "        if colname_cat2 =='' and colname_cat3 == '':\n",
    "            ax = sns.barplot(x=colname_cat1, y=colname_num, data=df, ci=\"sd\", capsize=.2)\n",
    "            data = fagg(df, colname_num, colname_cat1)\n",
    "        elif colname_cat2 != '' and colname_cat3 == '': \n",
    "            ax = sns.barplot(x=colname_cat1, y=colname_num, hue = colname_cat2, data=df, ci=\"sd\", capsize=.2)\n",
    "            data = fagg(df, colname_num, [colname_cat1, colname_cat2])\n",
    "        elif colname_cat2 != '' and colname_cat3 != '': \n",
    "            ax = sns.catplot(x=colname_cat1, y=colname_num, hue = colname_cat2, col = colname_cat3, data=df, kind = 'bar', ci=\"sd\", capsize=.2)\n",
    "            data = fagg(df, colname_num, [colname_cat1, colname_cat2, colname_cat3])\n",
    "    # return\n",
    "    return ax, data"
   ]
  },
  {
   "cell_type": "code",
   "execution_count": 78,
   "metadata": {},
   "outputs": [
    {
     "data": {
      "image/png": "[encoded data removed]",
      "text/plain": [
       "<Figure size 796.975x360 with 2 Axes>"
      ]
     },
     "metadata": {},
     "output_type": "display_data"
    }
   ],
   "source": [
    "colname_num = 'count'\n",
    "colname_cat1 = 'sex'\n",
    "colname_cat2 = 'class'\n",
    "colname_cat3 = 'alone'\n",
    "ax, results = barplot(df, colname_num, colname_cat1, colname_cat2, colname_cat3)"
   ]
  },
  {
   "cell_type": "code",
   "execution_count": 79,
   "metadata": {},
   "outputs": [
    {
     "data": {
      "text/html": [
       "<div>\n",
       "<style scoped>\n",
       "    .dataframe tbody tr th:only-of-type {\n",
       "        vertical-align: middle;\n",
       "    }\n",
       "\n",
       "    .dataframe tbody tr th {\n",
       "        vertical-align: top;\n",
       "    }\n",
       "\n",
       "    .dataframe thead th {\n",
       "        text-align: right;\n",
       "    }\n",
       "</style>\n",
       "<table border=\"1\" class=\"dataframe\">\n",
       "  <thead>\n",
       "    <tr style=\"text-align: right;\">\n",
       "      <th></th>\n",
       "      <th>sex</th>\n",
       "      <th>class</th>\n",
       "      <th>alone</th>\n",
       "      <th>count</th>\n",
       "    </tr>\n",
       "  </thead>\n",
       "  <tbody>\n",
       "    <tr>\n",
       "      <th>0</th>\n",
       "      <td>female</td>\n",
       "      <td>First</td>\n",
       "      <td>False</td>\n",
       "      <td>60</td>\n",
       "    </tr>\n",
       "    <tr>\n",
       "      <th>1</th>\n",
       "      <td>female</td>\n",
       "      <td>First</td>\n",
       "      <td>True</td>\n",
       "      <td>34</td>\n",
       "    </tr>\n",
       "    <tr>\n",
       "      <th>2</th>\n",
       "      <td>female</td>\n",
       "      <td>Second</td>\n",
       "      <td>False</td>\n",
       "      <td>44</td>\n",
       "    </tr>\n",
       "    <tr>\n",
       "      <th>3</th>\n",
       "      <td>female</td>\n",
       "      <td>Second</td>\n",
       "      <td>True</td>\n",
       "      <td>32</td>\n",
       "    </tr>\n",
       "    <tr>\n",
       "      <th>4</th>\n",
       "      <td>female</td>\n",
       "      <td>Third</td>\n",
       "      <td>False</td>\n",
       "      <td>84</td>\n",
       "    </tr>\n",
       "    <tr>\n",
       "      <th>5</th>\n",
       "      <td>female</td>\n",
       "      <td>Third</td>\n",
       "      <td>True</td>\n",
       "      <td>60</td>\n",
       "    </tr>\n",
       "    <tr>\n",
       "      <th>6</th>\n",
       "      <td>male</td>\n",
       "      <td>First</td>\n",
       "      <td>False</td>\n",
       "      <td>47</td>\n",
       "    </tr>\n",
       "    <tr>\n",
       "      <th>7</th>\n",
       "      <td>male</td>\n",
       "      <td>First</td>\n",
       "      <td>True</td>\n",
       "      <td>75</td>\n",
       "    </tr>\n",
       "    <tr>\n",
       "      <th>8</th>\n",
       "      <td>male</td>\n",
       "      <td>Second</td>\n",
       "      <td>False</td>\n",
       "      <td>36</td>\n",
       "    </tr>\n",
       "    <tr>\n",
       "      <th>9</th>\n",
       "      <td>male</td>\n",
       "      <td>Second</td>\n",
       "      <td>True</td>\n",
       "      <td>72</td>\n",
       "    </tr>\n",
       "    <tr>\n",
       "      <th>10</th>\n",
       "      <td>male</td>\n",
       "      <td>Third</td>\n",
       "      <td>False</td>\n",
       "      <td>83</td>\n",
       "    </tr>\n",
       "    <tr>\n",
       "      <th>11</th>\n",
       "      <td>male</td>\n",
       "      <td>Third</td>\n",
       "      <td>True</td>\n",
       "      <td>264</td>\n",
       "    </tr>\n",
       "  </tbody>\n",
       "</table>\n",
       "</div>"
      ],
      "text/plain": [
       "       sex   class  alone  count\n",
       "0   female   First  False     60\n",
       "1   female   First   True     34\n",
       "2   female  Second  False     44\n",
       "3   female  Second   True     32\n",
       "4   female   Third  False     84\n",
       "5   female   Third   True     60\n",
       "6     male   First  False     47\n",
       "7     male   First   True     75\n",
       "8     male  Second  False     36\n",
       "9     male  Second   True     72\n",
       "10    male   Third  False     83\n",
       "11    male   Third   True    264"
      ]
     },
     "execution_count": 79,
     "metadata": {},
     "output_type": "execute_result"
    }
   ],
   "source": [
    "# display results\n",
    "results"
   ]
  },
  {
   "cell_type": "code",
   "execution_count": null,
   "metadata": {},
   "outputs": [],
   "source": []
  }
 ],
 "metadata": {
  "kernelspec": {
   "display_name": "analysis",
   "language": "python",
   "name": "analysis"
  },
  "language_info": {
   "codemirror_mode": {
    "name": "ipython",
    "version": 3
   },
   "file_extension": ".py",
   "mimetype": "text/x-python",
   "name": "python",
   "nbconvert_exporter": "python",
   "pygments_lexer": "ipython3",
   "version": "3.7.0"
  }
 },
 "nbformat": 4,
 "nbformat_minor": 4
}
