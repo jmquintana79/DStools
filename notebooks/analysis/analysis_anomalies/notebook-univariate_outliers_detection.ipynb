{
 "cells": [
  {
   "cell_type": "markdown",
   "id": "contrary-hebrew",
   "metadata": {},
   "source": [
    "# Univariate Outliers Detection"
   ]
  },
  {
   "cell_type": "code",
   "execution_count": 1,
   "id": "becoming-marker",
   "metadata": {},
   "outputs": [],
   "source": [
    "%matplotlib inline\n",
    "import warnings\n",
    "warnings.filterwarnings('ignore')\n",
    "import pandas as pd\n",
    "import numpy as np\n"
   ]
  },
  {
   "cell_type": "markdown",
   "id": "animal-bridges",
   "metadata": {},
   "source": [
    "## load data"
   ]
  },
  {
   "cell_type": "code",
   "execution_count": 27,
   "id": "taken-ideal",
   "metadata": {},
   "outputs": [
    {
     "data": {
      "text/plain": [
       "(150, 5)"
      ]
     },
     "execution_count": 27,
     "metadata": {},
     "output_type": "execute_result"
    }
   ],
   "source": [
    "from sklearn.datasets import load_iris\n",
    "iris = load_iris()\n",
    "X = iris.data \n",
    "target = iris.target \n",
    "names = iris.target_names\n",
    "data = pd.DataFrame(X, columns=iris.feature_names)\n",
    "data['species'] = iris.target\n",
    "data['species'] = data['species'].replace(to_replace= [0, 1, 2], value = ['setosa', 'versicolor', 'virginica'])\n",
    "data.shape"
   ]
  },
  {
   "cell_type": "markdown",
   "id": "domestic-honor",
   "metadata": {},
   "source": [
    "# Univariate OUTLIERS detection for a df"
   ]
  },
  {
   "cell_type": "code",
   "execution_count": 62,
   "id": "lesbian-medicare",
   "metadata": {},
   "outputs": [],
   "source": [
    "## remove outliers of a 1D array according to the Inter Quartile Range (IQR)\n",
    "def remove_outliers_IQR(v:np.array, verbose:bool = False)->np.array:\n",
    "    \"\"\"\n",
    "    Remove outliers of a 1D array according to the Inter Quartile Range (IQR).\n",
    "    v -- array of values to be analyzed.\n",
    "    verbose -- display extra information (default, False).\n",
    "    return -- array of values after removing outliers.\n",
    "    \"\"\"\n",
    "    # estimate boundary thresholds\n",
    "    Q1 = np.quantile(v,0.25)\n",
    "    Q3 = np.quantile(v,0.75)\n",
    "    IQR = Q3 - Q1\n",
    "    t_lower = Q1 - 1.5*IQR\n",
    "    t_upper = Q3 + 1.5*IQR\n",
    "    # display\n",
    "    if verbose:\n",
    "        print('Thresholds: lower = %.5f / upper = %.5f'%(t_lower, t_upper))\n",
    "    # remove values outside of these thresholds and return\n",
    "    v[v < t_lower] = np.nan\n",
    "    v[v > t_upper] = np.nan\n",
    "    # return\n",
    "    return v\n",
    "\n",
    "\n",
    "## remove outliers of a 1D array according to standard deviation rule of Normal Distribution\n",
    "def remove_outliers_Z(v:np.array, threshold:int = 3, verbose:bool = False)->np.array:\n",
    "    \"\"\"\n",
    "    Remove outliers of a 1D array according to standard deviation rule of Normal Distribution.\n",
    "    v -- array of values to be analyzed.\n",
    "    threshold -- value to be used to decide if a value is a outlier or not (default, 3 sigmas).\n",
    "    verbose -- display extra information (default, False).\n",
    "    return -- array of values after removing outliers.\n",
    "    \"\"\"\n",
    "\n",
    "    # estimate z score\n",
    "    v_mean = np.mean(v)\n",
    "    v_std = np.std(v)\n",
    "    z_scores = [(i - v_mean) / v_std for i in var]\n",
    "    # remove outilers\n",
    "    v[v < -threshold] = np.nan\n",
    "    v[v > threshold] = np.nan\n",
    "    # return\n",
    "    return v  \n",
    "\n",
    "\n",
    "## univariante outliers detection for all numerical variables in a df\n",
    "def univariate_outliers_detection(data:pd.DataFrame, \n",
    "                                  is_remove:bool = True,  \n",
    "                                  methodology:'function' = remove_outliers_IQR, \n",
    "                                  verbose:bool = False)->pd.DataFrame:\n",
    "    \"\"\"\n",
    "    Univariante outliers detection for all numerical variables in a df.\n",
    "    data -- dataframe to be analyzed.\n",
    "    is_remove -- if removing outliers or just detect (default, True).\n",
    "    methodology -- function of method to be used to remove / detect outliers (default, remove_outliers_IQR()).\n",
    "    verbose -- display extra information (default, False).\n",
    "    return -- df of values without outliers or a mask with detected outliers.\n",
    "    \"\"\"\n",
    "    # copy data\n",
    "    df = data.copy()\n",
    "    # columns of numerical variables\n",
    "    cols_num = df.select_dtypes(include=['float64', 'int64']).columns.values \n",
    "    # initialize if just detection\n",
    "    if not is_remove:\n",
    "        df_mask = pd.DataFrame(np.zeros(df.shape, dtype=bool), columns = df.columns)\n",
    "    # loop of numerical columns\n",
    "    for col in cols_num:\n",
    "        # get data\n",
    "        v = df[col].values\n",
    "        ni = np.sum(np.isnan(v))\n",
    "        # outliers detection\n",
    "        v_cleaned = methodology(v)\n",
    "        nf = np.sum(np.isnan(v_cleaned))\n",
    "        # count detected outliers\n",
    "        noutliers = nf - ni\n",
    "        # validate if outliers was found\n",
    "        if noutliers > 0:\n",
    "            # display\n",
    "            if verbose:\n",
    "                print(f'In \"{col}\" was detected {noutliers} outliers.')\n",
    "            # if removing\n",
    "            if is_remove:\n",
    "                df[col] = v_cleaned\n",
    "            # if just detection\n",
    "            else:\n",
    "                i_outliers = np.where(np.isnan(v_cleaned))[0]\n",
    "                df_mask.loc[i_outliers,col] = True\n",
    "        # clean\n",
    "        del v, v_cleaned\n",
    "    # return \n",
    "    if is_remove:\n",
    "        return df\n",
    "    else:\n",
    "        return df_mask"
   ]
  },
  {
   "cell_type": "code",
   "execution_count": 63,
   "id": "abandoned-thing",
   "metadata": {},
   "outputs": [
    {
     "name": "stdout",
     "output_type": "stream",
     "text": [
      "In \"sepal width (cm)\" was detected 4 outliers.\n"
     ]
    }
   ],
   "source": [
    "_ = univariate_outliers_detection(data, is_remove = True, verbose = True)"
   ]
  },
  {
   "cell_type": "code",
   "execution_count": null,
   "id": "functioning-bottom",
   "metadata": {},
   "outputs": [],
   "source": []
  },
  {
   "cell_type": "code",
   "execution_count": null,
   "id": "fresh-plant",
   "metadata": {},
   "outputs": [],
   "source": []
  }
 ],
 "metadata": {
  "kernelspec": {
   "display_name": "analysis",
   "language": "python",
   "name": "analysis"
  },
  "language_info": {
   "codemirror_mode": {
    "name": "ipython",
    "version": 3
   },
   "file_extension": ".py",
   "mimetype": "text/x-python",
   "name": "python",
   "nbconvert_exporter": "python",
   "pygments_lexer": "ipython3",
   "version": "3.7.0"
  }
 },
 "nbformat": 4,
 "nbformat_minor": 5
}
