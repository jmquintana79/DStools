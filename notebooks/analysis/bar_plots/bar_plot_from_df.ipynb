{
 "cells": [
  {
   "cell_type": "markdown",
   "metadata": {},
   "source": [
    "# Bar plot from a dataframe\n",
    "\n",
    "#### References:\n",
    "\n",
    "- [seaborn.barplot (documentation)](https://seaborn.pydata.org/generated/seaborn.barplot.html)"
   ]
  },
  {
   "cell_type": "code",
   "execution_count": 1,
   "metadata": {},
   "outputs": [],
   "source": [
    "%matplotlib inline\n",
    "import seaborn as sns\n",
    "sns.set(style=\"whitegrid\")\n",
    "import warnings\n",
    "warnings.filterwarnings('ignore')"
   ]
  },
  {
   "cell_type": "markdown",
   "metadata": {},
   "source": [
    "### create data"
   ]
  },
  {
   "cell_type": "code",
   "execution_count": 3,
   "metadata": {},
   "outputs": [
    {
     "name": "stdout",
     "output_type": "stream",
     "text": [
      "<class 'pandas.core.frame.DataFrame'>\n",
      "RangeIndex: 891 entries, 0 to 890\n",
      "Data columns (total 15 columns):\n",
      "survived       891 non-null int64\n",
      "pclass         891 non-null int64\n",
      "sex            891 non-null object\n",
      "age            714 non-null float64\n",
      "sibsp          891 non-null int64\n",
      "parch          891 non-null int64\n",
      "fare           891 non-null float64\n",
      "embarked       889 non-null object\n",
      "class          891 non-null category\n",
      "who            891 non-null object\n",
      "adult_male     891 non-null bool\n",
      "deck           203 non-null category\n",
      "embark_town    889 non-null object\n",
      "alive          891 non-null object\n",
      "alone          891 non-null bool\n",
      "dtypes: bool(2), category(2), float64(2), int64(4), object(5)\n",
      "memory usage: 80.6+ KB\n"
     ]
    }
   ],
   "source": [
    "df = sns.load_dataset('titanic')\n",
    "df.info()"
   ]
  },
  {
   "cell_type": "markdown",
   "metadata": {},
   "source": [
    "### bar plot"
   ]
  },
  {
   "cell_type": "code",
   "execution_count": 62,
   "metadata": {},
   "outputs": [
    {
     "data": {
      "image/png": "[encoded data removed]",
      "text/plain": [
       "<Figure size 432x288 with 1 Axes>"
      ]
     },
     "metadata": {},
     "output_type": "display_data"
    }
   ],
   "source": [
    "colname_num = 'count'\n",
    "colname_cat1 = 'sex'\n",
    "colname_cat2 = ''\n",
    "colname_cat3 = ''\n",
    "# counter\n",
    "fcount = lambda x: len(x)\n",
    "# aggregator\n",
    "def fagg(df, columns_cat):\n",
    "    if not type(columns_cat) == list: columns_cat = [columns_cat]\n",
    "    aggregations = {'%s'%columns_cat[0]:{'count': fcount}}\n",
    "    data = df.groupby(columns_cat).agg(aggregations)\n",
    "    data.columns = ['count']\n",
    "    return data.reset_index(inplace = False)\n",
    "# arguments validation\n",
    "assert colname_num in df.columns.tolist() or colname_num == 'count', 'Numerical column \"%s\" is not available.'%colname_num\n",
    "assert colname_cat1 in df.columns.tolist(), 'Categorical column \"%s\" is not available.'%colname_cat1\n",
    "assert colname_cat2 in df.columns.tolist() or colname_cat2 == '', 'Categorical column \"%s\" is not available.'%colname_cat2\n",
    "assert colname_cat3 in df.columns.tolist() or colname_cat3 == '', 'Categorical column \"%s\" is not available.'%colname_cat3\n",
    "# plot\n",
    "if colname_num == 'count':\n",
    "    if colname_cat2 =='' and colname_cat3 == '':\n",
    "        data = fagg(df, colname_cat1)\n",
    "        ax = sns.barplot(x=colname_cat1, y=colname_num, data=data)\n",
    "    elif colname_cat2 != '' and colname_cat3 == '': \n",
    "        data = fagg(df, [colname_cat1, colname_cat2])\n",
    "        ax = sns.barplot(x=colname_cat1, y=colname_num, hue = colname_cat2, data=data)\n",
    "    elif colname_cat2 != '' and colname_cat3 != '': \n",
    "        data = fagg(df, [colname_cat1, colname_cat2, colname_cat3])\n",
    "        ax = sns.catplot(x=colname_cat1, y=colname_num, hue = colname_cat2, col = colname_cat3, data=data, kind = 'bar')\n",
    "else: \n",
    "    if colname_cat2 =='' and colname_cat3 == '':\n",
    "        ax = sns.barplot(x=colname_cat1, y=colname_num, data=df)\n",
    "    elif colname_cat2 != '' and colname_cat3 == '': \n",
    "        ax = sns.barplot(x=colname_cat1, y=colname_num, hue = colname_cat2, data=df)\n",
    "    elif colname_cat2 != '' and colname_cat3 != '': \n",
    "        ax = sns.catplot(x=colname_cat1, y=colname_num, hue = colname_cat2, col = colname_cat3, data=df, kind = 'bar')\n"
   ]
  },
  {
   "cell_type": "code",
   "execution_count": null,
   "metadata": {},
   "outputs": [],
   "source": []
  }
 ],
 "metadata": {
  "kernelspec": {
   "display_name": "analysis",
   "language": "python",
   "name": "analysis"
  },
  "language_info": {
   "codemirror_mode": {
    "name": "ipython",
    "version": 3
   },
   "file_extension": ".py",
   "mimetype": "text/x-python",
   "name": "python",
   "nbconvert_exporter": "python",
   "pygments_lexer": "ipython3",
   "version": "3.7.0"
  }
 },
 "nbformat": 4,
 "nbformat_minor": 4
}
