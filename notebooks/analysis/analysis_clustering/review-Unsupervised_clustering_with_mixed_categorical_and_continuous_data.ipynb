{
 "cells": [
  {
   "attachments": {},
   "cell_type": "markdown",
   "metadata": {},
   "source": [
    "# REVIEW: Unsupervised clustering with mixed categorical and continuous data\n",
    "\n",
    "Van a ser probadas dos opciones para poder hacer un clustering con variables tanto categoricas como numericas:\n",
    "- **k-prototypes algorithm**.\n",
    "- **FAMD (factor analysis for mixed data)**: Roughly, we can say that FAMD works as a *principal components analysis* (PCA) for quantitative variables and as a *multiple correspondence analysis* (MCA) for qualitative variables.\n",
    "\n",
    "### References:\n",
    "- [Blog Tomas Beuzen - \"Unsupervised clustering with mixed categorical and continuous data\"](https://www.tomasbeuzen.com/post/clustering-mixed-data/)\n",
    "- [Wiki - \"Factor analysis of mixed data\"](https://en.wikipedia.org/wiki/Factor_analysis_of_mixed_data)\n",
    "- [Vivek Yadav's blog - \"Multiple Correspondance Analysis (MCA) - Introduction\"](http://vxy10.github.io/2016/06/10/intro-MCA/)\n",
    "- [Paper - \"Multiple Correspondence Analysis\", Hervé Abdi1 & Dominique Valentin](https://personal.utdallas.edu/~herve/Abdi-MCA2007-pretty.pdf)"
   ]
  },
  {
   "cell_type": "code",
   "execution_count": 4,
   "metadata": {},
   "outputs": [],
   "source": [
    "%%capture\n",
    "!pip install prince\n",
    "!pip install kmodes"
   ]
  },
  {
   "cell_type": "code",
   "execution_count": 6,
   "metadata": {},
   "outputs": [],
   "source": [
    "import numpy as np\n",
    "import pandas as pd\n",
    "from prince import FAMD\n",
    "from sklearn.datasets import make_blobs\n",
    "from sklearn.cluster import KMeans\n",
    "from kmodes.kprototypes import KPrototypes\n",
    "from sklearn.preprocessing import StandardScaler\n",
    "random_state = 1234"
   ]
  },
  {
   "attachments": {},
   "cell_type": "markdown",
   "metadata": {},
   "source": [
    "### functions"
   ]
  },
  {
   "cell_type": "code",
   "execution_count": 36,
   "metadata": {},
   "outputs": [],
   "source": [
    "def plot_cluster(X, y, title=\"Cluster plot\"):\n",
    "    d_colors = {0:'red', 1:'green', 2:'blue'}\n",
    "    fig = X.plot.scatter(x='X1', y='X2', color=[d_colors[k] for k in y], title = title)\n",
    "    return fig\n",
    "\n"
   ]
  },
  {
   "attachments": {},
   "cell_type": "markdown",
   "metadata": {},
   "source": [
    "### data creation"
   ]
  },
  {
   "cell_type": "code",
   "execution_count": 37,
   "metadata": {},
   "outputs": [
    {
     "name": "stdout",
     "output_type": "stream",
     "text": [
      "(50, 3)\n"
     ]
    },
    {
     "data": {
      "text/html": [
       "<div>\n",
       "<style scoped>\n",
       "    .dataframe tbody tr th:only-of-type {\n",
       "        vertical-align: middle;\n",
       "    }\n",
       "\n",
       "    .dataframe tbody tr th {\n",
       "        vertical-align: top;\n",
       "    }\n",
       "\n",
       "    .dataframe thead th {\n",
       "        text-align: right;\n",
       "    }\n",
       "</style>\n",
       "<table border=\"1\" class=\"dataframe\">\n",
       "  <thead>\n",
       "    <tr style=\"text-align: right;\">\n",
       "      <th></th>\n",
       "      <th>X1</th>\n",
       "      <th>X2</th>\n",
       "      <th>X3</th>\n",
       "    </tr>\n",
       "  </thead>\n",
       "  <tbody>\n",
       "    <tr>\n",
       "      <th>0</th>\n",
       "      <td>-0.495194</td>\n",
       "      <td>0.963114</td>\n",
       "      <td>HIGH</td>\n",
       "    </tr>\n",
       "    <tr>\n",
       "      <th>1</th>\n",
       "      <td>-0.548021</td>\n",
       "      <td>-1.762852</td>\n",
       "      <td>LOW</td>\n",
       "    </tr>\n",
       "    <tr>\n",
       "      <th>2</th>\n",
       "      <td>1.101047</td>\n",
       "      <td>0.935499</td>\n",
       "      <td>LOW</td>\n",
       "    </tr>\n",
       "    <tr>\n",
       "      <th>3</th>\n",
       "      <td>-0.694720</td>\n",
       "      <td>-1.779252</td>\n",
       "      <td>LOW</td>\n",
       "    </tr>\n",
       "    <tr>\n",
       "      <th>4</th>\n",
       "      <td>1.261093</td>\n",
       "      <td>0.964404</td>\n",
       "      <td>LOW</td>\n",
       "    </tr>\n",
       "  </tbody>\n",
       "</table>\n",
       "</div>"
      ],
      "text/plain": [
       "         X1        X2    X3\n",
       "0 -0.495194  0.963114  HIGH\n",
       "1 -0.548021 -1.762852   LOW\n",
       "2  1.101047  0.935499   LOW\n",
       "3 -0.694720 -1.779252   LOW\n",
       "4  1.261093  0.964404   LOW"
      ]
     },
     "execution_count": 37,
     "metadata": {},
     "output_type": "execute_result"
    }
   ],
   "source": [
    "X, y = make_blobs(n_samples=50, centers=3, n_features=3, random_state=random_state)\n",
    "X = pd.DataFrame(X, columns=['X1', 'X2', 'X3'])\n",
    "X['X3'] = np.where(X['X3'] < 0, 'LOW', 'HIGH')\n",
    "con_feats = ['X1', 'X2'] \n",
    "cat_feats = ['X3']\n",
    "scale = StandardScaler()\n",
    "X[con_feats] = scale.fit_transform(X[con_feats])\n",
    "print(X.shape)\n",
    "X.head()"
   ]
  },
  {
   "attachments": {},
   "cell_type": "markdown",
   "metadata": {},
   "source": [
    "### REVIEW"
   ]
  },
  {
   "cell_type": "code",
   "execution_count": 38,
   "metadata": {},
   "outputs": [
    {
     "data": {
      "text/plain": [
       "<AxesSubplot:title={'center':'True Data'}, xlabel='X1', ylabel='X2'>"
      ]
     },
     "execution_count": 38,
     "metadata": {},
     "output_type": "execute_result"
    },
    {
     "data": {
      "image/png": "[encoded data removed]",
      "text/plain": [
       "<Figure size 432x288 with 1 Axes>"
      ]
     },
     "metadata": {
      "needs_background": "light"
     },
     "output_type": "display_data"
    }
   ],
   "source": [
    "## True data (only numerical variables)\n",
    "fig = plot_cluster(X, y, title=\"True Data\")\n",
    "fig"
   ]
  },
  {
   "cell_type": "code",
   "execution_count": 41,
   "metadata": {},
   "outputs": [
    {
     "data": {
      "text/plain": [
       "<AxesSubplot:title={'center':'Numerical Only'}, xlabel='X1', ylabel='X2'>"
      ]
     },
     "execution_count": 41,
     "metadata": {},
     "output_type": "execute_result"
    },
    {
     "data": {
      "image/png": "[encoded data removed]",
      "text/plain": [
       "<Figure size 432x288 with 1 Axes>"
      ]
     },
     "metadata": {
      "needs_background": "light"
     },
     "output_type": "display_data"
    }
   ],
   "source": [
    "## Cluster based on numerical data only\n",
    "model = KMeans(n_clusters=3, random_state=random_state).fit(X[con_feats])\n",
    "pred = model.labels_\n",
    "fig = plot_cluster(X, pred, title=\"Numerical Only\")\n",
    "fig\n"
   ]
  },
  {
   "cell_type": "code",
   "execution_count": 42,
   "metadata": {},
   "outputs": [
    {
     "data": {
      "text/plain": [
       "<AxesSubplot:title={'center':'Encoded Categorical Data'}, xlabel='X1', ylabel='X2'>"
      ]
     },
     "execution_count": 42,
     "metadata": {},
     "output_type": "execute_result"
    },
    {
     "data": {
      "image/png": "[encoded data removed]",
      "text/plain": [
       "<Figure size 432x288 with 1 Axes>"
      ]
     },
     "metadata": {
      "needs_background": "light"
     },
     "output_type": "display_data"
    }
   ],
   "source": [
    "## Encode the categorical data before clustering\n",
    "model = KMeans(n_clusters=3, random_state=random_state).fit(pd.get_dummies(X))\n",
    "pred = model.labels_\n",
    "fig = plot_cluster(X, pred, title=\"Encoded Categorical Data\")\n",
    "fig"
   ]
  },
  {
   "cell_type": "code",
   "execution_count": 43,
   "metadata": {},
   "outputs": [
    {
     "data": {
      "text/plain": [
       "<AxesSubplot:title={'center':'k-prototypes'}, xlabel='X1', ylabel='X2'>"
      ]
     },
     "execution_count": 43,
     "metadata": {},
     "output_type": "execute_result"
    },
    {
     "data": {
      "image/png": "[encoded data removed]",
      "text/plain": [
       "<Figure size 432x288 with 1 Axes>"
      ]
     },
     "metadata": {
      "needs_background": "light"
     },
     "output_type": "display_data"
    }
   ],
   "source": [
    "## Use the k-prototypes algorithm\n",
    "pred = KPrototypes(n_clusters=3).fit_predict(X, categorical=[2])\n",
    "fig = plot_cluster(X, pred.astype(float), title=\"k-prototypes\")\n",
    "fig"
   ]
  },
  {
   "cell_type": "code",
   "execution_count": 44,
   "metadata": {},
   "outputs": [
    {
     "data": {
      "text/html": [
       "<div>\n",
       "<style scoped>\n",
       "    .dataframe tbody tr th:only-of-type {\n",
       "        vertical-align: middle;\n",
       "    }\n",
       "\n",
       "    .dataframe tbody tr th {\n",
       "        vertical-align: top;\n",
       "    }\n",
       "\n",
       "    .dataframe thead th {\n",
       "        text-align: right;\n",
       "    }\n",
       "</style>\n",
       "<table border=\"1\" class=\"dataframe\">\n",
       "  <thead>\n",
       "    <tr style=\"text-align: right;\">\n",
       "      <th></th>\n",
       "      <th>0</th>\n",
       "      <th>1</th>\n",
       "      <th>2</th>\n",
       "    </tr>\n",
       "  </thead>\n",
       "  <tbody>\n",
       "    <tr>\n",
       "      <th>0</th>\n",
       "      <td>-1.490188</td>\n",
       "      <td>-0.727814</td>\n",
       "      <td>0.174512</td>\n",
       "    </tr>\n",
       "    <tr>\n",
       "      <th>1</th>\n",
       "      <td>0.799817</td>\n",
       "      <td>1.672614</td>\n",
       "      <td>-0.085921</td>\n",
       "    </tr>\n",
       "    <tr>\n",
       "      <th>2</th>\n",
       "      <td>1.258315</td>\n",
       "      <td>-0.938935</td>\n",
       "      <td>0.201369</td>\n",
       "    </tr>\n",
       "    <tr>\n",
       "      <th>3</th>\n",
       "      <td>0.744471</td>\n",
       "      <td>1.749699</td>\n",
       "      <td>-0.005344</td>\n",
       "    </tr>\n",
       "    <tr>\n",
       "      <th>4</th>\n",
       "      <td>1.317980</td>\n",
       "      <td>-1.030678</td>\n",
       "      <td>0.118688</td>\n",
       "    </tr>\n",
       "  </tbody>\n",
       "</table>\n",
       "</div>"
      ],
      "text/plain": [
       "          0         1         2\n",
       "0 -1.490188 -0.727814  0.174512\n",
       "1  0.799817  1.672614 -0.085921\n",
       "2  1.258315 -0.938935  0.201369\n",
       "3  0.744471  1.749699 -0.005344\n",
       "4  1.317980 -1.030678  0.118688"
      ]
     },
     "execution_count": 44,
     "metadata": {},
     "output_type": "execute_result"
    }
   ],
   "source": [
    "## Use FAMD to create continuous features for clustering\n",
    "famd = FAMD(n_components=3).fit(X)\n",
    "famd.row_coordinates(X).head()"
   ]
  },
  {
   "cell_type": "code",
   "execution_count": 45,
   "metadata": {},
   "outputs": [
    {
     "data": {
      "text/plain": [
       "<AxesSubplot:title={'center':'FAMD + Clustering'}, xlabel='X1', ylabel='X2'>"
      ]
     },
     "execution_count": 45,
     "metadata": {},
     "output_type": "execute_result"
    },
    {
     "data": {
      "image/png": "[encoded data removed]",
      "text/plain": [
       "<Figure size 432x288 with 1 Axes>"
      ]
     },
     "metadata": {
      "needs_background": "light"
     },
     "output_type": "display_data"
    }
   ],
   "source": [
    "model = KMeans(n_clusters=3, random_state=random_state).fit(famd.row_coordinates(X))\n",
    "pred = model.labels_\n",
    "fig = plot_cluster(X, pred, title=\"FAMD + Clustering\")\n",
    "fig"
   ]
  },
  {
   "attachments": {},
   "cell_type": "markdown",
   "metadata": {},
   "source": [
    "### Conclusiones\n",
    "\n",
    "La ultima aproximacion, ademas de de dar buenos resultados, implica una previa reduccion de dimensionalidad lo que permite analizar datasets sin importar el numero de variables y el tipo de las mismas (cuantitativas, cualitativas)."
   ]
  },
  {
   "cell_type": "markdown",
   "metadata": {},
   "source": []
  }
 ],
 "metadata": {
  "kernelspec": {
   "display_name": "analysis",
   "language": "python",
   "name": "python3"
  },
  "language_info": {
   "codemirror_mode": {
    "name": "ipython",
    "version": 3
   },
   "file_extension": ".py",
   "mimetype": "text/x-python",
   "name": "python",
   "nbconvert_exporter": "python",
   "pygments_lexer": "ipython3",
   "version": "3.7.0"
  },
  "orig_nbformat": 4,
  "vscode": {
   "interpreter": {
    "hash": "45ccec2220de44a15362018afe90363148435dbb7cc234495ad81d0a4700001d"
   }
  }
 },
 "nbformat": 4,
 "nbformat_minor": 2
}
