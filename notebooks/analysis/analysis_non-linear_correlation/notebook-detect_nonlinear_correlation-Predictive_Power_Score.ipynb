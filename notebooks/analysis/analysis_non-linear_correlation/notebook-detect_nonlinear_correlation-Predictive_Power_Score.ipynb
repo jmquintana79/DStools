{
 "cells": [
  {
   "attachments": {},
   "cell_type": "markdown",
   "metadata": {},
   "source": [
    "# Non-Linear Relationship detection: PREDICTIVE POWER SCORE (PPS)\n",
    "\n",
    "Benefits:\n",
    "- Un-simetric correlation.\n",
    "- Non-linear correlation.\n",
    "- Categorical and numerical variables."
   ]
  },
  {
   "cell_type": "code",
   "execution_count": 1,
   "metadata": {},
   "outputs": [
    {
     "name": "stdout",
     "output_type": "stream",
     "text": [
      "Collecting ppscore\n",
      "  Using cached ppscore-1.3.0-py2.py3-none-any.whl\n",
      "Requirement already satisfied: scikit-learn<2.0.0,>=0.20.2 in /Users/juan/miniconda3/envs/analysis/lib/python3.7/site-packages (from ppscore) (1.0.2)\n",
      "Requirement already satisfied: pandas<2.0.0,>=1.0.0 in /Users/juan/miniconda3/envs/analysis/lib/python3.7/site-packages (from ppscore) (1.1.5)\n",
      "Requirement already satisfied: python-dateutil>=2.7.3 in /Users/juan/miniconda3/envs/analysis/lib/python3.7/site-packages (from pandas<2.0.0,>=1.0.0->ppscore) (2.8.2)\n",
      "Requirement already satisfied: pytz>=2017.2 in /Users/juan/miniconda3/envs/analysis/lib/python3.7/site-packages (from pandas<2.0.0,>=1.0.0->ppscore) (2021.3)\n",
      "Requirement already satisfied: numpy>=1.15.4 in /Users/juan/miniconda3/envs/analysis/lib/python3.7/site-packages (from pandas<2.0.0,>=1.0.0->ppscore) (1.21.2)\n",
      "Requirement already satisfied: six>=1.5 in /Users/juan/miniconda3/envs/analysis/lib/python3.7/site-packages (from python-dateutil>=2.7.3->pandas<2.0.0,>=1.0.0->ppscore) (1.16.0)\n",
      "Requirement already satisfied: joblib>=0.11 in /Users/juan/miniconda3/envs/analysis/lib/python3.7/site-packages (from scikit-learn<2.0.0,>=0.20.2->ppscore) (1.1.0)\n",
      "Requirement already satisfied: scipy>=1.1.0 in /Users/juan/miniconda3/envs/analysis/lib/python3.7/site-packages (from scikit-learn<2.0.0,>=0.20.2->ppscore) (1.7.3)\n",
      "Requirement already satisfied: threadpoolctl>=2.0.0 in /Users/juan/miniconda3/envs/analysis/lib/python3.7/site-packages (from scikit-learn<2.0.0,>=0.20.2->ppscore) (2.2.0)\n",
      "Installing collected packages: ppscore\n",
      "Successfully installed ppscore-1.3.0\n"
     ]
    }
   ],
   "source": [
    "!pip install ppscore"
   ]
  },
  {
   "cell_type": "code",
   "execution_count": 2,
   "metadata": {},
   "outputs": [],
   "source": [
    "%matplotlib inline\n",
    "import pandas as pd\n",
    "import numpy as np\n",
    "import ppscore as pps"
   ]
  },
  {
   "attachments": {},
   "cell_type": "markdown",
   "metadata": {},
   "source": [
    "## example non-linear correlation"
   ]
  },
  {
   "cell_type": "code",
   "execution_count": 3,
   "metadata": {},
   "outputs": [],
   "source": [
    "# data creation\n",
    "df = pd.DataFrame()\n",
    "df[\"x\"] = np.random.uniform(-2, 2, 1_000_000)\n",
    "df[\"error\"] = np.random.uniform(-0.5, 0.5, 1_000_000)\n",
    "df[\"y\"] = df[\"x\"] * df[\"x\"] + df[\"error\"]"
   ]
  },
  {
   "cell_type": "code",
   "execution_count": 5,
   "metadata": {},
   "outputs": [
    {
     "data": {
      "text/plain": [
       "<AxesSubplot:xlabel='x', ylabel='y'>"
      ]
     },
     "execution_count": 5,
     "metadata": {},
     "output_type": "execute_result"
    },
    {
     "data": {
      "image/png": "[encoded data removed]",
      "text/plain": [
       "<Figure size 432x288 with 1 Axes>"
      ]
     },
     "metadata": {
      "needs_background": "light"
     },
     "output_type": "display_data"
    }
   ],
   "source": [
    "# scatter plot\n",
    "df.plot(kind = 'scatter', x = 'x', y = 'y')"
   ]
  },
  {
   "cell_type": "code",
   "execution_count": 4,
   "metadata": {},
   "outputs": [
    {
     "data": {
      "text/plain": [
       "{'x': 'x',\n",
       " 'y': 'y',\n",
       " 'ppscore': 0.6617330757896223,\n",
       " 'case': 'regression',\n",
       " 'is_valid_score': True,\n",
       " 'metric': 'mean absolute error',\n",
       " 'baseline_score': 1.0201916592762696,\n",
       " 'model_score': 0.34509709468846533,\n",
       " 'model': DecisionTreeRegressor()}"
      ]
     },
     "execution_count": 4,
     "metadata": {},
     "output_type": "execute_result"
    }
   ],
   "source": [
    "pps.score(df, \"x\", \"y\")"
   ]
  },
  {
   "cell_type": "code",
   "execution_count": 37,
   "metadata": {},
   "outputs": [
    {
     "data": {
      "text/plain": [
       "'PPS(x,y) = 0.6617330757896223 / PPS(y,x) = 0'"
      ]
     },
     "execution_count": 37,
     "metadata": {},
     "output_type": "execute_result"
    }
   ],
   "source": [
    "f'PPS(x,y) = {pps.score(df, \"x\", \"y\")[\"ppscore\"]} / PPS(y,x) = {pps.score(df, \"y\", \"x\")[\"ppscore\"]}'"
   ]
  },
  {
   "cell_type": "code",
   "execution_count": 6,
   "metadata": {},
   "outputs": [
    {
     "data": {
      "text/html": [
       "<div>\n",
       "<style scoped>\n",
       "    .dataframe tbody tr th:only-of-type {\n",
       "        vertical-align: middle;\n",
       "    }\n",
       "\n",
       "    .dataframe tbody tr th {\n",
       "        vertical-align: top;\n",
       "    }\n",
       "\n",
       "    .dataframe thead th {\n",
       "        text-align: right;\n",
       "    }\n",
       "</style>\n",
       "<table border=\"1\" class=\"dataframe\">\n",
       "  <thead>\n",
       "    <tr style=\"text-align: right;\">\n",
       "      <th></th>\n",
       "      <th>x</th>\n",
       "      <th>y</th>\n",
       "      <th>ppscore</th>\n",
       "      <th>case</th>\n",
       "      <th>is_valid_score</th>\n",
       "      <th>metric</th>\n",
       "      <th>baseline_score</th>\n",
       "      <th>model_score</th>\n",
       "      <th>model</th>\n",
       "    </tr>\n",
       "  </thead>\n",
       "  <tbody>\n",
       "    <tr>\n",
       "      <th>0</th>\n",
       "      <td>x</td>\n",
       "      <td>y</td>\n",
       "      <td>0.661733</td>\n",
       "      <td>regression</td>\n",
       "      <td>True</td>\n",
       "      <td>mean absolute error</td>\n",
       "      <td>1.020192</td>\n",
       "      <td>0.345097</td>\n",
       "      <td>DecisionTreeRegressor()</td>\n",
       "    </tr>\n",
       "    <tr>\n",
       "      <th>1</th>\n",
       "      <td>error</td>\n",
       "      <td>y</td>\n",
       "      <td>0.000000</td>\n",
       "      <td>regression</td>\n",
       "      <td>True</td>\n",
       "      <td>mean absolute error</td>\n",
       "      <td>1.020192</td>\n",
       "      <td>1.362283</td>\n",
       "      <td>DecisionTreeRegressor()</td>\n",
       "    </tr>\n",
       "  </tbody>\n",
       "</table>\n",
       "</div>"
      ],
      "text/plain": [
       "       x  y   ppscore        case  is_valid_score               metric  \\\n",
       "0      x  y  0.661733  regression            True  mean absolute error   \n",
       "1  error  y  0.000000  regression            True  mean absolute error   \n",
       "\n",
       "   baseline_score  model_score                    model  \n",
       "0        1.020192     0.345097  DecisionTreeRegressor()  \n",
       "1        1.020192     1.362283  DecisionTreeRegressor()  "
      ]
     },
     "execution_count": 6,
     "metadata": {},
     "output_type": "execute_result"
    }
   ],
   "source": [
    "pps.predictors(df, \"y\")"
   ]
  },
  {
   "cell_type": "code",
   "execution_count": 7,
   "metadata": {},
   "outputs": [
    {
     "data": {
      "text/html": [
       "<div>\n",
       "<style scoped>\n",
       "    .dataframe tbody tr th:only-of-type {\n",
       "        vertical-align: middle;\n",
       "    }\n",
       "\n",
       "    .dataframe tbody tr th {\n",
       "        vertical-align: top;\n",
       "    }\n",
       "\n",
       "    .dataframe thead th {\n",
       "        text-align: right;\n",
       "    }\n",
       "</style>\n",
       "<table border=\"1\" class=\"dataframe\">\n",
       "  <thead>\n",
       "    <tr style=\"text-align: right;\">\n",
       "      <th></th>\n",
       "      <th>x</th>\n",
       "      <th>y</th>\n",
       "      <th>ppscore</th>\n",
       "      <th>case</th>\n",
       "      <th>is_valid_score</th>\n",
       "      <th>metric</th>\n",
       "      <th>baseline_score</th>\n",
       "      <th>model_score</th>\n",
       "      <th>model</th>\n",
       "    </tr>\n",
       "  </thead>\n",
       "  <tbody>\n",
       "    <tr>\n",
       "      <th>0</th>\n",
       "      <td>x</td>\n",
       "      <td>x</td>\n",
       "      <td>1.000000</td>\n",
       "      <td>predict_itself</td>\n",
       "      <td>True</td>\n",
       "      <td>None</td>\n",
       "      <td>0.000000</td>\n",
       "      <td>1.000000</td>\n",
       "      <td>None</td>\n",
       "    </tr>\n",
       "    <tr>\n",
       "      <th>1</th>\n",
       "      <td>x</td>\n",
       "      <td>error</td>\n",
       "      <td>0.000000</td>\n",
       "      <td>regression</td>\n",
       "      <td>True</td>\n",
       "      <td>mean absolute error</td>\n",
       "      <td>0.252852</td>\n",
       "      <td>0.345108</td>\n",
       "      <td>DecisionTreeRegressor()</td>\n",
       "    </tr>\n",
       "    <tr>\n",
       "      <th>2</th>\n",
       "      <td>x</td>\n",
       "      <td>y</td>\n",
       "      <td>0.661733</td>\n",
       "      <td>regression</td>\n",
       "      <td>True</td>\n",
       "      <td>mean absolute error</td>\n",
       "      <td>1.020192</td>\n",
       "      <td>0.345097</td>\n",
       "      <td>DecisionTreeRegressor()</td>\n",
       "    </tr>\n",
       "    <tr>\n",
       "      <th>3</th>\n",
       "      <td>error</td>\n",
       "      <td>x</td>\n",
       "      <td>0.000000</td>\n",
       "      <td>regression</td>\n",
       "      <td>True</td>\n",
       "      <td>mean absolute error</td>\n",
       "      <td>1.004092</td>\n",
       "      <td>1.338011</td>\n",
       "      <td>DecisionTreeRegressor()</td>\n",
       "    </tr>\n",
       "    <tr>\n",
       "      <th>4</th>\n",
       "      <td>error</td>\n",
       "      <td>error</td>\n",
       "      <td>1.000000</td>\n",
       "      <td>predict_itself</td>\n",
       "      <td>True</td>\n",
       "      <td>None</td>\n",
       "      <td>0.000000</td>\n",
       "      <td>1.000000</td>\n",
       "      <td>None</td>\n",
       "    </tr>\n",
       "    <tr>\n",
       "      <th>5</th>\n",
       "      <td>error</td>\n",
       "      <td>y</td>\n",
       "      <td>0.000000</td>\n",
       "      <td>regression</td>\n",
       "      <td>True</td>\n",
       "      <td>mean absolute error</td>\n",
       "      <td>1.020192</td>\n",
       "      <td>1.362283</td>\n",
       "      <td>DecisionTreeRegressor()</td>\n",
       "    </tr>\n",
       "    <tr>\n",
       "      <th>6</th>\n",
       "      <td>y</td>\n",
       "      <td>x</td>\n",
       "      <td>0.000000</td>\n",
       "      <td>regression</td>\n",
       "      <td>True</td>\n",
       "      <td>mean absolute error</td>\n",
       "      <td>1.004092</td>\n",
       "      <td>1.096308</td>\n",
       "      <td>DecisionTreeRegressor()</td>\n",
       "    </tr>\n",
       "    <tr>\n",
       "      <th>7</th>\n",
       "      <td>y</td>\n",
       "      <td>error</td>\n",
       "      <td>0.000000</td>\n",
       "      <td>regression</td>\n",
       "      <td>True</td>\n",
       "      <td>mean absolute error</td>\n",
       "      <td>0.252852</td>\n",
       "      <td>0.285206</td>\n",
       "      <td>DecisionTreeRegressor()</td>\n",
       "    </tr>\n",
       "    <tr>\n",
       "      <th>8</th>\n",
       "      <td>y</td>\n",
       "      <td>y</td>\n",
       "      <td>1.000000</td>\n",
       "      <td>predict_itself</td>\n",
       "      <td>True</td>\n",
       "      <td>None</td>\n",
       "      <td>0.000000</td>\n",
       "      <td>1.000000</td>\n",
       "      <td>None</td>\n",
       "    </tr>\n",
       "  </tbody>\n",
       "</table>\n",
       "</div>"
      ],
      "text/plain": [
       "       x      y   ppscore            case  is_valid_score  \\\n",
       "0      x      x  1.000000  predict_itself            True   \n",
       "1      x  error  0.000000      regression            True   \n",
       "2      x      y  0.661733      regression            True   \n",
       "3  error      x  0.000000      regression            True   \n",
       "4  error  error  1.000000  predict_itself            True   \n",
       "5  error      y  0.000000      regression            True   \n",
       "6      y      x  0.000000      regression            True   \n",
       "7      y  error  0.000000      regression            True   \n",
       "8      y      y  1.000000  predict_itself            True   \n",
       "\n",
       "                metric  baseline_score  model_score                    model  \n",
       "0                 None        0.000000     1.000000                     None  \n",
       "1  mean absolute error        0.252852     0.345108  DecisionTreeRegressor()  \n",
       "2  mean absolute error        1.020192     0.345097  DecisionTreeRegressor()  \n",
       "3  mean absolute error        1.004092     1.338011  DecisionTreeRegressor()  \n",
       "4                 None        0.000000     1.000000                     None  \n",
       "5  mean absolute error        1.020192     1.362283  DecisionTreeRegressor()  \n",
       "6  mean absolute error        1.004092     1.096308  DecisionTreeRegressor()  \n",
       "7  mean absolute error        0.252852     0.285206  DecisionTreeRegressor()  \n",
       "8                 None        0.000000     1.000000                     None  "
      ]
     },
     "execution_count": 7,
     "metadata": {},
     "output_type": "execute_result"
    }
   ],
   "source": [
    "pps.matrix(df)"
   ]
  },
  {
   "cell_type": "code",
   "execution_count": 8,
   "metadata": {},
   "outputs": [
    {
     "data": {
      "text/plain": [
       "<AxesSubplot:xlabel='x', ylabel='ppscore'>"
      ]
     },
     "execution_count": 8,
     "metadata": {},
     "output_type": "execute_result"
    },
    {
     "data": {
      "image/png": "[encoded data removed]",
      "text/plain": [
       "<Figure size 432x288 with 1 Axes>"
      ]
     },
     "metadata": {
      "needs_background": "light"
     },
     "output_type": "display_data"
    }
   ],
   "source": [
    "import seaborn as sns\n",
    "predictors_df = pps.predictors(df, y=\"y\")\n",
    "sns.barplot(data=predictors_df, x=\"x\", y=\"ppscore\")"
   ]
  },
  {
   "cell_type": "code",
   "execution_count": 9,
   "metadata": {},
   "outputs": [
    {
     "data": {
      "text/plain": [
       "<AxesSubplot:xlabel='x', ylabel='y'>"
      ]
     },
     "execution_count": 9,
     "metadata": {},
     "output_type": "execute_result"
    },
    {
     "data": {
      "image/png": "[encoded data removed]",
      "text/plain": [
       "<Figure size 432x288 with 2 Axes>"
      ]
     },
     "metadata": {
      "needs_background": "light"
     },
     "output_type": "display_data"
    }
   ],
   "source": [
    "import seaborn as sns\n",
    "matrix_df = pps.matrix(df)[['x', 'y', 'ppscore']].pivot(columns='x', index='y', values='ppscore')\n",
    "sns.heatmap(matrix_df, vmin=0, vmax=1, cmap=\"Blues\", linewidths=0.5, annot=True)"
   ]
  },
  {
   "attachments": {},
   "cell_type": "markdown",
   "metadata": {},
   "source": [
    "## Titanic dataset"
   ]
  },
  {
   "cell_type": "code",
   "execution_count": 10,
   "metadata": {},
   "outputs": [
    {
     "data": {
      "text/plain": [
       "(891, 15)"
      ]
     },
     "execution_count": 10,
     "metadata": {},
     "output_type": "execute_result"
    }
   ],
   "source": [
    "import seaborn\n",
    "data = seaborn.load_dataset('titanic')\n",
    "data.shape"
   ]
  },
  {
   "cell_type": "markdown",
   "metadata": {},
   "source": [
    "### Pearson correlation"
   ]
  },
  {
   "cell_type": "code",
   "execution_count": 19,
   "metadata": {},
   "outputs": [
    {
     "data": {
      "image/png": "[encoded data removed]",
      "text/plain": [
       "<Figure size 720x720 with 2 Axes>"
      ]
     },
     "metadata": {
      "needs_background": "light"
     },
     "output_type": "display_data"
    }
   ],
   "source": [
    "import matplotlib.pyplot as plt\n",
    "fig, ax = plt.subplots(figsize = (10,10))\n",
    "sns.heatmap(data.corr(), vmin=-1, vmax=1, cmap=\"Blues\", linewidths=0.5, annot=True, square = True, ax = ax)\n",
    "plt.show()"
   ]
  },
  {
   "attachments": {},
   "cell_type": "markdown",
   "metadata": {},
   "source": [
    "### PPS"
   ]
  },
  {
   "cell_type": "code",
   "execution_count": 21,
   "metadata": {},
   "outputs": [
    {
     "data": {
      "image/png": "[encoded data removed]",
      "text/plain": [
       "<Figure size 1080x1080 with 2 Axes>"
      ]
     },
     "metadata": {
      "needs_background": "light"
     },
     "output_type": "display_data"
    }
   ],
   "source": [
    "import seaborn as sns\n",
    "import matplotlib.pyplot as plt\n",
    "fig, ax = plt.subplots(figsize = (15,15))\n",
    "matrix_data = pps.matrix(data)[['x', 'y', 'ppscore']].pivot(columns='x', index='y', values='ppscore')\n",
    "sns.heatmap(matrix_data, vmin=0, vmax=1, cmap=\"Blues\", linewidths=0.5, annot=True, square = True, ax = ax)\n",
    "plt.show()"
   ]
  },
  {
   "cell_type": "code",
   "execution_count": 32,
   "metadata": {},
   "outputs": [
    {
     "data": {
      "image/png": "[encoded data removed]",
      "text/plain": [
       "<Figure size 1440x360 with 1 Axes>"
      ]
     },
     "metadata": {
      "needs_background": "light"
     },
     "output_type": "display_data"
    }
   ],
   "source": [
    "import seaborn as sns\n",
    "import matplotlib.pyplot as plt\n",
    "fig, ax = plt.subplots(figsize = (20, 5))\n",
    "predictors_data = pps.predictors(data, y=\"alive\")\n",
    "sns.barplot(data=predictors_data, x=\"x\", y=\"ppscore\", ax = ax)\n",
    "ax.set_title('y = \"alive\"')\n",
    "plt.show()"
   ]
  },
  {
   "cell_type": "code",
   "execution_count": 31,
   "metadata": {},
   "outputs": [
    {
     "data": {
      "image/png": "[encoded data removed]",
      "text/plain": [
       "<Figure size 1440x360 with 1 Axes>"
      ]
     },
     "metadata": {
      "needs_background": "light"
     },
     "output_type": "display_data"
    }
   ],
   "source": [
    "import seaborn as sns\n",
    "import matplotlib.pyplot as plt\n",
    "fig, ax = plt.subplots(figsize = (20, 5))\n",
    "predictors_data = pps.predictors(data, y=\"survived\")\n",
    "sns.barplot(data=predictors_data, x=\"x\", y=\"ppscore\", ax = ax)\n",
    "ax.set_title('y = \"survived\"')\n",
    "plt.show()"
   ]
  },
  {
   "cell_type": "code",
   "execution_count": 43,
   "metadata": {},
   "outputs": [
    {
     "data": {
      "text/html": [
       "<div>\n",
       "<style scoped>\n",
       "    .dataframe tbody tr th:only-of-type {\n",
       "        vertical-align: middle;\n",
       "    }\n",
       "\n",
       "    .dataframe tbody tr th {\n",
       "        vertical-align: top;\n",
       "    }\n",
       "\n",
       "    .dataframe thead th {\n",
       "        text-align: right;\n",
       "    }\n",
       "</style>\n",
       "<table border=\"1\" class=\"dataframe\">\n",
       "  <thead>\n",
       "    <tr style=\"text-align: right;\">\n",
       "      <th></th>\n",
       "      <th>x</th>\n",
       "      <th>y</th>\n",
       "      <th>ppscore</th>\n",
       "      <th>case</th>\n",
       "      <th>is_valid_score</th>\n",
       "      <th>metric</th>\n",
       "      <th>baseline_score</th>\n",
       "      <th>model_score</th>\n",
       "      <th>model</th>\n",
       "    </tr>\n",
       "  </thead>\n",
       "  <tbody>\n",
       "    <tr>\n",
       "      <th>40</th>\n",
       "      <td>sex</td>\n",
       "      <td>adult_male</td>\n",
       "      <td>0.901607</td>\n",
       "      <td>classification</td>\n",
       "      <td>True</td>\n",
       "      <td>weighted F1</td>\n",
       "      <td>0.537598</td>\n",
       "      <td>0.954503</td>\n",
       "      <td>DecisionTreeClassifier()</td>\n",
       "    </tr>\n",
       "    <tr>\n",
       "      <th>152</th>\n",
       "      <td>adult_male</td>\n",
       "      <td>sex</td>\n",
       "      <td>0.899708</td>\n",
       "      <td>classification</td>\n",
       "      <td>True</td>\n",
       "      <td>weighted F1</td>\n",
       "      <td>0.557800</td>\n",
       "      <td>0.955651</td>\n",
       "      <td>DecisionTreeClassifier()</td>\n",
       "    </tr>\n",
       "    <tr>\n",
       "      <th>98</th>\n",
       "      <td>fare</td>\n",
       "      <td>class</td>\n",
       "      <td>0.899223</td>\n",
       "      <td>classification</td>\n",
       "      <td>True</td>\n",
       "      <td>weighted F1</td>\n",
       "      <td>0.399551</td>\n",
       "      <td>0.939489</td>\n",
       "      <td>DecisionTreeClassifier()</td>\n",
       "    </tr>\n",
       "    <tr>\n",
       "      <th>91</th>\n",
       "      <td>fare</td>\n",
       "      <td>pclass</td>\n",
       "      <td>0.895931</td>\n",
       "      <td>regression</td>\n",
       "      <td>True</td>\n",
       "      <td>mean absolute error</td>\n",
       "      <td>0.691358</td>\n",
       "      <td>0.071949</td>\n",
       "      <td>DecisionTreeRegressor()</td>\n",
       "    </tr>\n",
       "    <tr>\n",
       "      <th>137</th>\n",
       "      <td>who</td>\n",
       "      <td>sex</td>\n",
       "      <td>0.888881</td>\n",
       "      <td>classification</td>\n",
       "      <td>True</td>\n",
       "      <td>weighted F1</td>\n",
       "      <td>0.557800</td>\n",
       "      <td>0.950863</td>\n",
       "      <td>DecisionTreeClassifier()</td>\n",
       "    </tr>\n",
       "    <tr>\n",
       "      <th>74</th>\n",
       "      <td>sibsp</td>\n",
       "      <td>alone</td>\n",
       "      <td>0.819832</td>\n",
       "      <td>classification</td>\n",
       "      <td>True</td>\n",
       "      <td>weighted F1</td>\n",
       "      <td>0.546577</td>\n",
       "      <td>0.918307</td>\n",
       "      <td>DecisionTreeClassifier()</td>\n",
       "    </tr>\n",
       "    <tr>\n",
       "      <th>102</th>\n",
       "      <td>fare</td>\n",
       "      <td>embark_town</td>\n",
       "      <td>0.743317</td>\n",
       "      <td>classification</td>\n",
       "      <td>True</td>\n",
       "      <td>weighted F1</td>\n",
       "      <td>0.608636</td>\n",
       "      <td>0.899543</td>\n",
       "      <td>DecisionTreeClassifier()</td>\n",
       "    </tr>\n",
       "    <tr>\n",
       "      <th>97</th>\n",
       "      <td>fare</td>\n",
       "      <td>embarked</td>\n",
       "      <td>0.743317</td>\n",
       "      <td>classification</td>\n",
       "      <td>True</td>\n",
       "      <td>weighted F1</td>\n",
       "      <td>0.608636</td>\n",
       "      <td>0.899543</td>\n",
       "      <td>DecisionTreeClassifier()</td>\n",
       "    </tr>\n",
       "    <tr>\n",
       "      <th>159</th>\n",
       "      <td>adult_male</td>\n",
       "      <td>who</td>\n",
       "      <td>0.741901</td>\n",
       "      <td>classification</td>\n",
       "      <td>True</td>\n",
       "      <td>weighted F1</td>\n",
       "      <td>0.482604</td>\n",
       "      <td>0.866461</td>\n",
       "      <td>DecisionTreeClassifier()</td>\n",
       "    </tr>\n",
       "    <tr>\n",
       "      <th>39</th>\n",
       "      <td>sex</td>\n",
       "      <td>who</td>\n",
       "      <td>0.735003</td>\n",
       "      <td>classification</td>\n",
       "      <td>True</td>\n",
       "      <td>weighted F1</td>\n",
       "      <td>0.482604</td>\n",
       "      <td>0.862892</td>\n",
       "      <td>DecisionTreeClassifier()</td>\n",
       "    </tr>\n",
       "    <tr>\n",
       "      <th>104</th>\n",
       "      <td>fare</td>\n",
       "      <td>alone</td>\n",
       "      <td>0.665373</td>\n",
       "      <td>classification</td>\n",
       "      <td>True</td>\n",
       "      <td>weighted F1</td>\n",
       "      <td>0.546577</td>\n",
       "      <td>0.848272</td>\n",
       "      <td>DecisionTreeClassifier()</td>\n",
       "    </tr>\n",
       "    <tr>\n",
       "      <th>89</th>\n",
       "      <td>parch</td>\n",
       "      <td>alone</td>\n",
       "      <td>0.627658</td>\n",
       "      <td>classification</td>\n",
       "      <td>True</td>\n",
       "      <td>weighted F1</td>\n",
       "      <td>0.546577</td>\n",
       "      <td>0.831171</td>\n",
       "      <td>DecisionTreeClassifier()</td>\n",
       "    </tr>\n",
       "    <tr>\n",
       "      <th>163</th>\n",
       "      <td>adult_male</td>\n",
       "      <td>alive</td>\n",
       "      <td>0.545032</td>\n",
       "      <td>classification</td>\n",
       "      <td>True</td>\n",
       "      <td>weighted F1</td>\n",
       "      <td>0.537598</td>\n",
       "      <td>0.789622</td>\n",
       "      <td>DecisionTreeClassifier()</td>\n",
       "    </tr>\n",
       "    <tr>\n",
       "      <th>148</th>\n",
       "      <td>who</td>\n",
       "      <td>alive</td>\n",
       "      <td>0.545032</td>\n",
       "      <td>classification</td>\n",
       "      <td>True</td>\n",
       "      <td>weighted F1</td>\n",
       "      <td>0.537598</td>\n",
       "      <td>0.789622</td>\n",
       "      <td>DecisionTreeClassifier()</td>\n",
       "    </tr>\n",
       "    <tr>\n",
       "      <th>205</th>\n",
       "      <td>alive</td>\n",
       "      <td>adult_male</td>\n",
       "      <td>0.541931</td>\n",
       "      <td>classification</td>\n",
       "      <td>True</td>\n",
       "      <td>weighted F1</td>\n",
       "      <td>0.537598</td>\n",
       "      <td>0.788188</td>\n",
       "      <td>DecisionTreeClassifier()</td>\n",
       "    </tr>\n",
       "    <tr>\n",
       "      <th>10</th>\n",
       "      <td>survived</td>\n",
       "      <td>adult_male</td>\n",
       "      <td>0.541931</td>\n",
       "      <td>classification</td>\n",
       "      <td>True</td>\n",
       "      <td>weighted F1</td>\n",
       "      <td>0.537598</td>\n",
       "      <td>0.788188</td>\n",
       "      <td>DecisionTreeClassifier()</td>\n",
       "    </tr>\n",
       "    <tr>\n",
       "      <th>101</th>\n",
       "      <td>fare</td>\n",
       "      <td>deck</td>\n",
       "      <td>0.536023</td>\n",
       "      <td>classification</td>\n",
       "      <td>True</td>\n",
       "      <td>weighted F1</td>\n",
       "      <td>0.231527</td>\n",
       "      <td>0.643446</td>\n",
       "      <td>DecisionTreeClassifier()</td>\n",
       "    </tr>\n",
       "    <tr>\n",
       "      <th>43</th>\n",
       "      <td>sex</td>\n",
       "      <td>alive</td>\n",
       "      <td>0.534660</td>\n",
       "      <td>classification</td>\n",
       "      <td>True</td>\n",
       "      <td>weighted F1</td>\n",
       "      <td>0.537598</td>\n",
       "      <td>0.784826</td>\n",
       "      <td>DecisionTreeClassifier()</td>\n",
       "    </tr>\n",
       "    <tr>\n",
       "      <th>197</th>\n",
       "      <td>alive</td>\n",
       "      <td>sex</td>\n",
       "      <td>0.521623</td>\n",
       "      <td>classification</td>\n",
       "      <td>True</td>\n",
       "      <td>weighted F1</td>\n",
       "      <td>0.557800</td>\n",
       "      <td>0.788462</td>\n",
       "      <td>DecisionTreeClassifier()</td>\n",
       "    </tr>\n",
       "    <tr>\n",
       "      <th>2</th>\n",
       "      <td>survived</td>\n",
       "      <td>sex</td>\n",
       "      <td>0.521623</td>\n",
       "      <td>classification</td>\n",
       "      <td>True</td>\n",
       "      <td>weighted F1</td>\n",
       "      <td>0.557800</td>\n",
       "      <td>0.788462</td>\n",
       "      <td>DecisionTreeClassifier()</td>\n",
       "    </tr>\n",
       "    <tr>\n",
       "      <th>173</th>\n",
       "      <td>deck</td>\n",
       "      <td>class</td>\n",
       "      <td>0.508721</td>\n",
       "      <td>classification</td>\n",
       "      <td>True</td>\n",
       "      <td>weighted F1</td>\n",
       "      <td>0.798212</td>\n",
       "      <td>0.900866</td>\n",
       "      <td>DecisionTreeClassifier()</td>\n",
       "    </tr>\n",
       "    <tr>\n",
       "      <th>9</th>\n",
       "      <td>survived</td>\n",
       "      <td>who</td>\n",
       "      <td>0.423079</td>\n",
       "      <td>classification</td>\n",
       "      <td>True</td>\n",
       "      <td>weighted F1</td>\n",
       "      <td>0.482604</td>\n",
       "      <td>0.701503</td>\n",
       "      <td>DecisionTreeClassifier()</td>\n",
       "    </tr>\n",
       "    <tr>\n",
       "      <th>204</th>\n",
       "      <td>alive</td>\n",
       "      <td>who</td>\n",
       "      <td>0.423079</td>\n",
       "      <td>classification</td>\n",
       "      <td>True</td>\n",
       "      <td>weighted F1</td>\n",
       "      <td>0.482604</td>\n",
       "      <td>0.701503</td>\n",
       "      <td>DecisionTreeClassifier()</td>\n",
       "    </tr>\n",
       "    <tr>\n",
       "      <th>220</th>\n",
       "      <td>alone</td>\n",
       "      <td>adult_male</td>\n",
       "      <td>0.383365</td>\n",
       "      <td>classification</td>\n",
       "      <td>True</td>\n",
       "      <td>weighted F1</td>\n",
       "      <td>0.537598</td>\n",
       "      <td>0.714867</td>\n",
       "      <td>DecisionTreeClassifier()</td>\n",
       "    </tr>\n",
       "    <tr>\n",
       "      <th>94</th>\n",
       "      <td>fare</td>\n",
       "      <td>sibsp</td>\n",
       "      <td>0.372755</td>\n",
       "      <td>regression</td>\n",
       "      <td>True</td>\n",
       "      <td>mean absolute error</td>\n",
       "      <td>0.523008</td>\n",
       "      <td>0.328054</td>\n",
       "      <td>DecisionTreeRegressor()</td>\n",
       "    </tr>\n",
       "    <tr>\n",
       "      <th>164</th>\n",
       "      <td>adult_male</td>\n",
       "      <td>alone</td>\n",
       "      <td>0.371016</td>\n",
       "      <td>classification</td>\n",
       "      <td>True</td>\n",
       "      <td>weighted F1</td>\n",
       "      <td>0.546577</td>\n",
       "      <td>0.714804</td>\n",
       "      <td>DecisionTreeClassifier()</td>\n",
       "    </tr>\n",
       "    <tr>\n",
       "      <th>149</th>\n",
       "      <td>who</td>\n",
       "      <td>alone</td>\n",
       "      <td>0.371016</td>\n",
       "      <td>classification</td>\n",
       "      <td>True</td>\n",
       "      <td>weighted F1</td>\n",
       "      <td>0.546577</td>\n",
       "      <td>0.714804</td>\n",
       "      <td>DecisionTreeClassifier()</td>\n",
       "    </tr>\n",
       "    <tr>\n",
       "      <th>85</th>\n",
       "      <td>parch</td>\n",
       "      <td>adult_male</td>\n",
       "      <td>0.343945</td>\n",
       "      <td>classification</td>\n",
       "      <td>True</td>\n",
       "      <td>weighted F1</td>\n",
       "      <td>0.537598</td>\n",
       "      <td>0.696639</td>\n",
       "      <td>DecisionTreeClassifier()</td>\n",
       "    </tr>\n",
       "    <tr>\n",
       "      <th>214</th>\n",
       "      <td>alone</td>\n",
       "      <td>sibsp</td>\n",
       "      <td>0.314997</td>\n",
       "      <td>regression</td>\n",
       "      <td>True</td>\n",
       "      <td>mean absolute error</td>\n",
       "      <td>0.523008</td>\n",
       "      <td>0.358262</td>\n",
       "      <td>DecisionTreeRegressor()</td>\n",
       "    </tr>\n",
       "    <tr>\n",
       "      <th>103</th>\n",
       "      <td>fare</td>\n",
       "      <td>alive</td>\n",
       "      <td>0.289275</td>\n",
       "      <td>classification</td>\n",
       "      <td>True</td>\n",
       "      <td>weighted F1</td>\n",
       "      <td>0.537598</td>\n",
       "      <td>0.671359</td>\n",
       "      <td>DecisionTreeClassifier()</td>\n",
       "    </tr>\n",
       "    <tr>\n",
       "      <th>44</th>\n",
       "      <td>sex</td>\n",
       "      <td>alone</td>\n",
       "      <td>0.268406</td>\n",
       "      <td>classification</td>\n",
       "      <td>True</td>\n",
       "      <td>weighted F1</td>\n",
       "      <td>0.546577</td>\n",
       "      <td>0.668279</td>\n",
       "      <td>DecisionTreeClassifier()</td>\n",
       "    </tr>\n",
       "    <tr>\n",
       "      <th>212</th>\n",
       "      <td>alone</td>\n",
       "      <td>sex</td>\n",
       "      <td>0.267597</td>\n",
       "      <td>classification</td>\n",
       "      <td>True</td>\n",
       "      <td>weighted F1</td>\n",
       "      <td>0.557800</td>\n",
       "      <td>0.676132</td>\n",
       "      <td>DecisionTreeClassifier()</td>\n",
       "    </tr>\n",
       "    <tr>\n",
       "      <th>70</th>\n",
       "      <td>sibsp</td>\n",
       "      <td>adult_male</td>\n",
       "      <td>0.259665</td>\n",
       "      <td>classification</td>\n",
       "      <td>True</td>\n",
       "      <td>weighted F1</td>\n",
       "      <td>0.537598</td>\n",
       "      <td>0.657668</td>\n",
       "      <td>DecisionTreeClassifier()</td>\n",
       "    </tr>\n",
       "    <tr>\n",
       "      <th>54</th>\n",
       "      <td>age</td>\n",
       "      <td>who</td>\n",
       "      <td>0.258032</td>\n",
       "      <td>classification</td>\n",
       "      <td>True</td>\n",
       "      <td>weighted F1</td>\n",
       "      <td>0.436975</td>\n",
       "      <td>0.582253</td>\n",
       "      <td>DecisionTreeClassifier()</td>\n",
       "    </tr>\n",
       "  </tbody>\n",
       "</table>\n",
       "</div>"
      ],
      "text/plain": [
       "              x            y   ppscore            case  is_valid_score  \\\n",
       "40          sex   adult_male  0.901607  classification            True   \n",
       "152  adult_male          sex  0.899708  classification            True   \n",
       "98         fare        class  0.899223  classification            True   \n",
       "91         fare       pclass  0.895931      regression            True   \n",
       "137         who          sex  0.888881  classification            True   \n",
       "74        sibsp        alone  0.819832  classification            True   \n",
       "102        fare  embark_town  0.743317  classification            True   \n",
       "97         fare     embarked  0.743317  classification            True   \n",
       "159  adult_male          who  0.741901  classification            True   \n",
       "39          sex          who  0.735003  classification            True   \n",
       "104        fare        alone  0.665373  classification            True   \n",
       "89        parch        alone  0.627658  classification            True   \n",
       "163  adult_male        alive  0.545032  classification            True   \n",
       "148         who        alive  0.545032  classification            True   \n",
       "205       alive   adult_male  0.541931  classification            True   \n",
       "10     survived   adult_male  0.541931  classification            True   \n",
       "101        fare         deck  0.536023  classification            True   \n",
       "43          sex        alive  0.534660  classification            True   \n",
       "197       alive          sex  0.521623  classification            True   \n",
       "2      survived          sex  0.521623  classification            True   \n",
       "173        deck        class  0.508721  classification            True   \n",
       "9      survived          who  0.423079  classification            True   \n",
       "204       alive          who  0.423079  classification            True   \n",
       "220       alone   adult_male  0.383365  classification            True   \n",
       "94         fare        sibsp  0.372755      regression            True   \n",
       "164  adult_male        alone  0.371016  classification            True   \n",
       "149         who        alone  0.371016  classification            True   \n",
       "85        parch   adult_male  0.343945  classification            True   \n",
       "214       alone        sibsp  0.314997      regression            True   \n",
       "103        fare        alive  0.289275  classification            True   \n",
       "44          sex        alone  0.268406  classification            True   \n",
       "212       alone          sex  0.267597  classification            True   \n",
       "70        sibsp   adult_male  0.259665  classification            True   \n",
       "54          age          who  0.258032  classification            True   \n",
       "\n",
       "                  metric  baseline_score  model_score  \\\n",
       "40           weighted F1        0.537598     0.954503   \n",
       "152          weighted F1        0.557800     0.955651   \n",
       "98           weighted F1        0.399551     0.939489   \n",
       "91   mean absolute error        0.691358     0.071949   \n",
       "137          weighted F1        0.557800     0.950863   \n",
       "74           weighted F1        0.546577     0.918307   \n",
       "102          weighted F1        0.608636     0.899543   \n",
       "97           weighted F1        0.608636     0.899543   \n",
       "159          weighted F1        0.482604     0.866461   \n",
       "39           weighted F1        0.482604     0.862892   \n",
       "104          weighted F1        0.546577     0.848272   \n",
       "89           weighted F1        0.546577     0.831171   \n",
       "163          weighted F1        0.537598     0.789622   \n",
       "148          weighted F1        0.537598     0.789622   \n",
       "205          weighted F1        0.537598     0.788188   \n",
       "10           weighted F1        0.537598     0.788188   \n",
       "101          weighted F1        0.231527     0.643446   \n",
       "43           weighted F1        0.537598     0.784826   \n",
       "197          weighted F1        0.557800     0.788462   \n",
       "2            weighted F1        0.557800     0.788462   \n",
       "173          weighted F1        0.798212     0.900866   \n",
       "9            weighted F1        0.482604     0.701503   \n",
       "204          weighted F1        0.482604     0.701503   \n",
       "220          weighted F1        0.537598     0.714867   \n",
       "94   mean absolute error        0.523008     0.328054   \n",
       "164          weighted F1        0.546577     0.714804   \n",
       "149          weighted F1        0.546577     0.714804   \n",
       "85           weighted F1        0.537598     0.696639   \n",
       "214  mean absolute error        0.523008     0.358262   \n",
       "103          weighted F1        0.537598     0.671359   \n",
       "44           weighted F1        0.546577     0.668279   \n",
       "212          weighted F1        0.557800     0.676132   \n",
       "70           weighted F1        0.537598     0.657668   \n",
       "54           weighted F1        0.436975     0.582253   \n",
       "\n",
       "                        model  \n",
       "40   DecisionTreeClassifier()  \n",
       "152  DecisionTreeClassifier()  \n",
       "98   DecisionTreeClassifier()  \n",
       "91    DecisionTreeRegressor()  \n",
       "137  DecisionTreeClassifier()  \n",
       "74   DecisionTreeClassifier()  \n",
       "102  DecisionTreeClassifier()  \n",
       "97   DecisionTreeClassifier()  \n",
       "159  DecisionTreeClassifier()  \n",
       "39   DecisionTreeClassifier()  \n",
       "104  DecisionTreeClassifier()  \n",
       "89   DecisionTreeClassifier()  \n",
       "163  DecisionTreeClassifier()  \n",
       "148  DecisionTreeClassifier()  \n",
       "205  DecisionTreeClassifier()  \n",
       "10   DecisionTreeClassifier()  \n",
       "101  DecisionTreeClassifier()  \n",
       "43   DecisionTreeClassifier()  \n",
       "197  DecisionTreeClassifier()  \n",
       "2    DecisionTreeClassifier()  \n",
       "173  DecisionTreeClassifier()  \n",
       "9    DecisionTreeClassifier()  \n",
       "204  DecisionTreeClassifier()  \n",
       "220  DecisionTreeClassifier()  \n",
       "94    DecisionTreeRegressor()  \n",
       "164  DecisionTreeClassifier()  \n",
       "149  DecisionTreeClassifier()  \n",
       "85   DecisionTreeClassifier()  \n",
       "214   DecisionTreeRegressor()  \n",
       "103  DecisionTreeClassifier()  \n",
       "44   DecisionTreeClassifier()  \n",
       "212  DecisionTreeClassifier()  \n",
       "70   DecisionTreeClassifier()  \n",
       "54   DecisionTreeClassifier()  "
      ]
     },
     "execution_count": 43,
     "metadata": {},
     "output_type": "execute_result"
    }
   ],
   "source": [
    "pps.matrix(data).sort_values(\"ppscore\", ascending = False).query('(ppscore != 1) & (ppscore > 0.25)')"
   ]
  },
  {
   "cell_type": "code",
   "execution_count": null,
   "metadata": {},
   "outputs": [],
   "source": []
  }
 ],
 "metadata": {
  "kernelspec": {
   "display_name": "analysis",
   "language": "python",
   "name": "python3"
  },
  "language_info": {
   "codemirror_mode": {
    "name": "ipython",
    "version": 3
   },
   "file_extension": ".py",
   "mimetype": "text/x-python",
   "name": "python",
   "nbconvert_exporter": "python",
   "pygments_lexer": "ipython3",
   "version": "3.7.0"
  },
  "orig_nbformat": 4,
  "vscode": {
   "interpreter": {
    "hash": "45ccec2220de44a15362018afe90363148435dbb7cc234495ad81d0a4700001d"
   }
  }
 },
 "nbformat": 4,
 "nbformat_minor": 2
}
