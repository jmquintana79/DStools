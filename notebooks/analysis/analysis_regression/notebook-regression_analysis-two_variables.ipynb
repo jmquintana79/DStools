{
 "cells": [
  {
   "cell_type": "markdown",
   "id": "relevant-complaint",
   "metadata": {},
   "source": [
    "# Regression analysis: 2 variables\n",
    "\n",
    "\n",
    "###  Reference\n",
    "\n",
    "- Book: \"Estadistica Aplicada\", *Julian de la Horra Navarro*."
   ]
  },
  {
   "cell_type": "code",
   "execution_count": 1,
   "id": "northern-likelihood",
   "metadata": {},
   "outputs": [],
   "source": [
    "%matplotlib inline\n",
    "import numpy as np"
   ]
  },
  {
   "cell_type": "markdown",
   "id": "thirty-columbia",
   "metadata": {},
   "source": [
    "### Sample average\n",
    "$ \\overline{x} = \\frac{1}{n} \\sum_{i=0}^{n} x_{i} $\n",
    "\n",
    "### Sample Variance\n",
    "\n",
    "$ \\nu_{x} = \\frac{1}{n} \\sum_{i=0}^{n} (x_{i} - \\overline{x})^2 $\n",
    "\n",
    "### Sample Covariance\n",
    "\n",
    "$ cov_{x,y} = \\frac{1}{n} \\sum_{i=0}^{n} (x_{i} - \\overline{x}) (y_{i} - \\overline{y}) $\n",
    "\n",
    "### Linear Regression\n",
    "\n",
    "$ y = a + b x $\n",
    "\n",
    "$ a = \\overline{y} - \\frac{cov_{x,y}}{\\nu_{x}} \\overline{x}$\n",
    "\n",
    "$ b = \\frac{cov_{x,y}}{\\nu_{x}} $\n",
    "\n",
    "### Sample correlation coefficient\n",
    "\n",
    "$ r = \\frac{cov_{x,y}}{ \\sqrt{\\nu_{y} \\nu_{x}} } $\n",
    "\n",
    "### Varianza Residual = Error Cuadratrico Medio (ECM)\n",
    "\n",
    "$ ECM =  \\nu_{y} ( 1 - r^2 ) $"
   ]
  },
  {
   "cell_type": "code",
   "execution_count": 95,
   "id": "hollow-answer",
   "metadata": {},
   "outputs": [],
   "source": [
    "# data sample 1\n",
    "X = np.array([21,21,33,21,27,35,25,37,25,18,21,37,45,27,18,35])\n",
    "Y = np.array([5,6,6,8,6,7,5,8,7,4,7,9,10,5,5,8])\n",
    "\n",
    "# data sample 2 \n",
    "Y = np.array([50,90,30,90,91,95,95])\n",
    "X = np.array([0.5,0.9,0.4,0.7,1.1,0.75,0.8])"
   ]
  },
  {
   "cell_type": "code",
   "execution_count": 96,
   "id": "mature-machinery",
   "metadata": {},
   "outputs": [],
   "source": [
    "\n",
    "def coefficients(X:np.array, Y:np.array)->(float, float):\n",
    "    \"\"\"\n",
    "    Estimate regression line coefficents: y = a + b*x\n",
    "    X -- independent variable.\n",
    "    Y -- dependent variable.\n",
    "    return -- coefficients (a, b)\n",
    "    \"\"\"\n",
    "    # estimate coefficients\n",
    "    a = np.mean(Y) - ( np.cov(X,Y)[0][1] / np.var(X) ) * np.mean(X)\n",
    "    b = np.cov(X,Y)[0][1] / np.var(X)\n",
    "    # return\n",
    "    return (a, b)\n",
    "\n",
    "def metrics(X:np.array, Y:np.array)->(float, float):\n",
    "    \"\"\"\n",
    "    Estimate regression line metrics: correlation coefficient, residual variance (Mean Square Error)\n",
    "    X -- independent variable.\n",
    "    Y -- dependent variable.\n",
    "    return -- coefficients (r, mse)\n",
    "    \"\"\"\n",
    "    # correlation coefficient\n",
    "    r = np.cov(X,Y)[0][1] / np.sqrt(np.var(X) * np.var(Y))\n",
    "    # mean square error\n",
    "    mse = np.var(Y) * ( 1 - r**2 )\n",
    "    # return\n",
    "    return r, mse"
   ]
  },
  {
   "cell_type": "code",
   "execution_count": 97,
   "id": "baking-liverpool",
   "metadata": {},
   "outputs": [
    {
     "name": "stdout",
     "output_type": "stream",
     "text": [
      "linear: r = 0.955 / mse = 52.310\n",
      "log:    r = 1.044 / mse = -53.221\n",
      "exp:    r = 0.948 / mse = 1.018\n",
      "y = 105.419 + 79.184 * log(x) \n",
      "r = 1.044 / mse = -53.221\n"
     ]
    },
    {
     "data": {
      "image/png": "[encoded data removed]",
      "text/plain": [
       "<Figure size 432x288 with 1 Axes>"
      ]
     },
     "metadata": {
      "needs_background": "light"
     },
     "output_type": "display_data"
    }
   ],
   "source": [
    "# linear regression: y = a + b * x\n",
    "r1, mse1 = metrics(X, Y)\n",
    "# logaritmic regression: y = a + b * log(x)\n",
    "r2, mse2 = metrics(np.log(X), Y)\n",
    "# exponential regression: y = a * exp(b * x)\n",
    "r3, mse3 = metrics(X, np.log(Y))\n",
    "\n",
    "\n",
    "\n",
    "# display\n",
    "print(\"linear: r = %.3f / mse = %.3f\"%(r1, mse1))\n",
    "print(\"log:    r = %.3f / mse = %.3f\"%(r2, mse2))\n",
    "print(\"exp:    r = %.3f / mse = %.3f\"%(r3, mse3))\n",
    "# minimum error\n",
    "min_mse = np.min([mse1, mse2, mse3])\n",
    "# select best fit\n",
    "if min_mse == mse1:\n",
    "    # estimate coefficients\n",
    "    a, b = coefficients(X, Y)\n",
    "    # equation\n",
    "    seq = \"y = %.3f + %.3f * x \"%(a, b)\n",
    "    reg = lambda x: a + b * x \n",
    "    # metrics\n",
    "    r, mse = r1, mse1\n",
    "elif min_mse == mse2:\n",
    "    # estimate coefficients\n",
    "    a, b = coefficients(np.log(X), Y)\n",
    "    # equation\n",
    "    seq = \"y = %.3f + %.3f * log(x) \"%(a, b)\n",
    "    reg = lambda x: a + b * np.log(x)\n",
    "    # metrics\n",
    "    r, mse = r2, mse2\n",
    "    \n",
    "elif min_mse == mse3:\n",
    "    # estimate coefficients\n",
    "    a, b = coefficients(X, np.log(Y))\n",
    "    a = np.exp(a)\n",
    "    # equation\n",
    "    seq = \"y = %.3f * exp( %.3f * x ) \"%(a, b)\n",
    "    reg = lambda x: a * np.exp(b * x)\n",
    "    # metrics\n",
    "    r, mse = r3, mse3\n",
    "else:\n",
    "    seq = \"\"\n",
    "    r, mse = np.nan, np.nan\n",
    "    \n",
    "# display\n",
    "print(seq)\n",
    "print(\"r = %.3f / mse = %.3f\"%(r, mse))\n",
    "\n",
    "# plot\n",
    "import matplotlib.pyplot as plt\n",
    "fig, ax = plt.subplots()\n",
    "ax.scatter(X,Y, color = \"blue\")\n",
    "xi = np.arange(np.min(X),np.max(X),0.1)\n",
    "yi = reg(xi)\n",
    "ax.plot(xi, yi, color = \"red\")\n",
    "ax.set_title(\"r = %.3f / mse = %.3f\"%(r, mse))\n",
    "plt.show()"
   ]
  },
  {
   "cell_type": "code",
   "execution_count": null,
   "id": "western-surgery",
   "metadata": {},
   "outputs": [],
   "source": []
  },
  {
   "cell_type": "code",
   "execution_count": null,
   "id": "pressed-resort",
   "metadata": {},
   "outputs": [],
   "source": []
  },
  {
   "cell_type": "code",
   "execution_count": null,
   "id": "inner-variance",
   "metadata": {},
   "outputs": [],
   "source": []
  },
  {
   "cell_type": "code",
   "execution_count": null,
   "id": "boolean-plaintiff",
   "metadata": {},
   "outputs": [],
   "source": []
  }
 ],
 "metadata": {
  "kernelspec": {
   "display_name": "analysis",
   "language": "python",
   "name": "analysis"
  },
  "language_info": {
   "codemirror_mode": {
    "name": "ipython",
    "version": 3
   },
   "file_extension": ".py",
   "mimetype": "text/x-python",
   "name": "python",
   "nbconvert_exporter": "python",
   "pygments_lexer": "ipython3",
   "version": "3.7.0"
  }
 },
 "nbformat": 4,
 "nbformat_minor": 5
}
