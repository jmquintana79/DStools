{
 "cells": [
  {
   "cell_type": "markdown",
   "id": "5b8e3038",
   "metadata": {},
   "source": [
    "# Regression Analysis-Homoscedasticity / Heteroscedasticity\n",
    "\n",
    "**Homoscedasticity**: It refers to a circumstance in which the variance of a regression model’s residual, or error component, is constant. \n",
    "\n",
    "Homoscedasticity describes a collection of random variables in which each variable has the same finite variance, whereas heteroscedasticity describes a set of random variables in which not all variables have the same finite variance.\n",
    "\n",
    "The difference between them can also be observed by residual plots.\n",
    "\n",
    "![](http://questans.org/wp-content/uploads/2021/07/Difference.jpg)\n",
    "\n",
    "### How to check for Homoscedasticity\n",
    "\n",
    "A scatterplot of residuals vs expected values is an effective method for testing for homoscedasticity. There should be no discernible structure (cone-like structure) in the distribution; if there is, the data is heteroscedastic (as illustrated below).\n",
    "\n",
    "![](http://questans.org/wp-content/uploads/2021/07/Cone-shape-1.png)\n",
    "\n",
    "Furthermore, there are available tests to check if residues show Homoscedasticity or Heteroskedasticity: **Breusch-Pagan** test, **White** test. \n",
    "\n",
    "\n",
    "### References:\n",
    "\n",
    "- [Homoscedasticity – Definition, Assumption & H-T Check!](http://questans.org/homoscedasticity/)\n",
    "- [Heteroskedasticity in Linear Regressions and Python](https://medium.com/keita-starts-data-science/heteroskedasticity-in-linear-regressions-and-python-16eb57eaa09)\n",
    "- [Heteroskedasticity: Breusch-Pagan and White Tests in Python](https://www.datascienceconcepts.com/tutorials/python-programming-language/heteroskedasticity-breusch-pagan-and-white-tests-in-python/)\n",
    "- [What’s in a Name-Name? A Guide to Regression Diagnostics in Python’s Statsmodels Library](https://medium.com/@oguss/whats-in-a-name-name-a-guide-to-regression-diagnostics-in-python-s-statsmodels-library-549de3277d4e)\n",
    "- [How to Perform a Breusch-Pagan Test in Python](https://www.statology.org/breusch-pagan-test-python/)"
   ]
  },
  {
   "cell_type": "code",
   "execution_count": 2,
   "id": "41c148dc",
   "metadata": {},
   "outputs": [],
   "source": [
    "import warnings\n",
    "warnings.filterwarnings('ignore')\n",
    "import pandas as pd\n",
    "import numpy as np"
   ]
  },
  {
   "cell_type": "markdown",
   "id": "79d7a851",
   "metadata": {},
   "source": [
    "# load data"
   ]
  },
  {
   "cell_type": "code",
   "execution_count": 3,
   "id": "b560bd33",
   "metadata": {},
   "outputs": [
    {
     "name": "stdout",
     "output_type": "stream",
     "text": [
      "<class 'pandas.core.frame.DataFrame'>\n",
      "RangeIndex: 546 entries, 0 to 545\n",
      "Data columns (total 12 columns):\n",
      " #   Column      Non-Null Count  Dtype  \n",
      "---  ------      --------------  -----  \n",
      " 0   price       546 non-null    float64\n",
      " 1   lotsize     546 non-null    int64  \n",
      " 2   bedrooms    546 non-null    int64  \n",
      " 3   bathrooms   546 non-null    int64  \n",
      " 4   stories     546 non-null    int64  \n",
      " 5   driveway    546 non-null    object \n",
      " 6   recreation  546 non-null    object \n",
      " 7   fullbase    546 non-null    object \n",
      " 8   gasheat     546 non-null    object \n",
      " 9   aircon      546 non-null    object \n",
      " 10  garage      546 non-null    int64  \n",
      " 11  prefer      546 non-null    object \n",
      "dtypes: float64(1), int64(5), object(6)\n",
      "memory usage: 51.3+ KB\n"
     ]
    }
   ],
   "source": [
    "import statsmodels.api as sm\n",
    "df = sm.datasets.get_rdataset(dataname=\"HousePrices\", package=\"AER\", cache=True).data\n",
    "df.info()"
   ]
  },
  {
   "cell_type": "code",
   "execution_count": 4,
   "id": "fac2b2a6",
   "metadata": {},
   "outputs": [
    {
     "data": {
      "text/plain": [
       "<AxesSubplot:xlabel='lotsize', ylabel='price'>"
      ]
     },
     "execution_count": 4,
     "metadata": {},
     "output_type": "execute_result"
    },
    {
     "data": {
      "image/png": "[encoded data removed]",
      "text/plain": [
       "<Figure size 432x288 with 1 Axes>"
      ]
     },
     "metadata": {
      "needs_background": "light"
     },
     "output_type": "display_data"
    }
   ],
   "source": [
    "## example1\n",
    "c1 = \"lotsize\"\n",
    "c2 = \"price\"\n",
    "df1 = df[[c1, c2]]\n",
    "df1.plot(kind = 'scatter', x = c1 , y = c2)"
   ]
  },
  {
   "cell_type": "code",
   "execution_count": 5,
   "id": "84dc1f6f",
   "metadata": {},
   "outputs": [],
   "source": [
    "## example2\n",
    "df2 = pd.DataFrame({'rating': [90, 85, 82, 88, 94, 90, 76, 75, 87, 86],\n",
    "                   'points': [25, 20, 14, 16, 27, 20, 12, 15, 14, 19],\n",
    "                   'assists': [5, 7, 7, 8, 5, 7, 6, 9, 9, 5],\n",
    "                   'rebounds': [11, 8, 10, 6, 6, 9, 6, 10, 10, 7]})"
   ]
  },
  {
   "cell_type": "code",
   "execution_count": 7,
   "id": "233cdbd1",
   "metadata": {},
   "outputs": [],
   "source": [
    "## example3\n",
    "Y = np.array([50,90,30,90,91,95,95])\n",
    "X = np.array([0.5,0.9,0.4,0.7,1.1,0.75,0.8])\n",
    "df3 = pd.DataFrame({\"x\":X, \"y\":Y})"
   ]
  },
  {
   "cell_type": "markdown",
   "id": "2f177e92",
   "metadata": {},
   "source": [
    "# Breusch-Pagan test\n",
    "\n",
    "It examines if the expected value of squared residuals is a linear function of independent variables. We obtain residuals from OLS and regress the squared residuals with original regressors.\n",
    "\n",
    "![](https://miro.medium.com/max/1288/1*T9mFrF1EuYBNQv2QSyS6Xg.png)\n",
    "\n",
    "If all the coefficients are zero, we can say there is no linear relations between residuals and regressors (Homoskedascitity). We conduct a F-test for joint significance of all δ above. We can conduct t-test or F-test for a particular δ or subset of δ to figure out if the Heteroskedasticity is attributed to a particular independent variable or set of independent variables.\n",
    "\n",
    "Therefore, Breusch-Pagan test uses the following null and alternative hypotheses:\n",
    "- The null hypothesis (H0): Homoscedasticity is present.\n",
    "- The alternative hypothesis: (Ha): Homoscedasticity is not present (i.e. heteroscedasticity exists)"
   ]
  },
  {
   "cell_type": "code",
   "execution_count": 18,
   "id": "065a3f77",
   "metadata": {},
   "outputs": [],
   "source": [
    "def test_breuschpagan(df:pd.DataFrame, scy:str, lcx:list, alpha:float = .05, verbose:bool = True)->bool:\n",
    "    import statsmodels.formula.api as smf\n",
    "    import statsmodels.tools.tools as smt\n",
    "    import statsmodels.stats.diagnostic as smd\n",
    "    \n",
    "    # create formula\n",
    "    if len(lcx) == 1:\n",
    "        scx = f\"{lcx[0]}\"\n",
    "    else:\n",
    "        scx = \"+\".join(lcx)\n",
    "    sformula = f\"{scy} ~ {scx}\"\n",
    "    # initialize linear regression\n",
    "    mlr = smf.ols(formula=sformula, data=df).fit()\n",
    "    # add cte\n",
    "    ivar = df[lcx]\n",
    "    ivarc = smt.add_constant(data=ivar, prepend=True)\n",
    "    # test\n",
    "    bptest = smd.het_breuschpagan(resid=mlr.resid, exog_het=ivarc)\n",
    "    stats = bptest[0]\n",
    "    pvalue = bptest[1]\n",
    "\n",
    "    # display\n",
    "    if verbose:\n",
    "        print(f\"formula = '{sformula}'\")\n",
    "        print(\"lm_stats:\", stats, \"lm_pvalue:\", pvalue)\n",
    "    # interpret\n",
    "    if pvalue > alpha:\n",
    "        # display\n",
    "        if verbose:\n",
    "            print(f'Homoscedasticity (fail to reject H0 with alpha = {alpha})')\n",
    "        # return\n",
    "        return True\n",
    "    else:\n",
    "        # display\n",
    "        if verbose:\n",
    "            print(f'Heteroscedasticity (reject H0 with alpha = {alpha})')\n",
    "        # return\n",
    "        return False"
   ]
  },
  {
   "cell_type": "code",
   "execution_count": 12,
   "id": "eb9dc12b",
   "metadata": {},
   "outputs": [
    {
     "name": "stdout",
     "output_type": "stream",
     "text": [
      "formula = 'price ~ lotsize'\n",
      "lm_stats: 51.5182029086298 lm_pvalue: 7.09363278725942e-13\n",
      "Heteroscedasticity (reject H0 with alpha = 0.05)\n"
     ]
    },
    {
     "data": {
      "text/plain": [
       "False"
      ]
     },
     "execution_count": 12,
     "metadata": {},
     "output_type": "execute_result"
    }
   ],
   "source": [
    "test_breuschpagan(df1,\"price\", [\"lotsize\"])"
   ]
  },
  {
   "cell_type": "code",
   "execution_count": 15,
   "id": "ec77b442",
   "metadata": {},
   "outputs": [
    {
     "name": "stdout",
     "output_type": "stream",
     "text": [
      "formula = 'rating ~ points+assists+rebounds'\n",
      "lm_stats: 6.003951995818579 lm_pvalue: 0.11141811013398897\n",
      "Homoscedasticity (fail to reject H0 with alpha = 0.05)\n"
     ]
    },
    {
     "data": {
      "text/plain": [
       "True"
      ]
     },
     "execution_count": 15,
     "metadata": {},
     "output_type": "execute_result"
    }
   ],
   "source": [
    "test_breuschpagan(df2,\"rating\", [\"points\", \"assists\", \"rebounds\"])"
   ]
  },
  {
   "cell_type": "code",
   "execution_count": 17,
   "id": "009a726d",
   "metadata": {},
   "outputs": [
    {
     "name": "stdout",
     "output_type": "stream",
     "text": [
      "formula = 'y ~ x'\n",
      "lm_stats: 0.284984376226874 lm_pvalue: 0.593452735252865\n",
      "Homoscedasticity (fail to reject H0 with alpha = 0.05)\n"
     ]
    },
    {
     "data": {
      "text/plain": [
       "True"
      ]
     },
     "execution_count": 17,
     "metadata": {},
     "output_type": "execute_result"
    }
   ],
   "source": [
    "test_breuschpagan(df3, \"y\", ['x'])"
   ]
  },
  {
   "cell_type": "markdown",
   "id": "c270ade5",
   "metadata": {},
   "source": [
    "# White test\n",
    "\n",
    "It uses more flexible specification than Breusch-Pagan test, adding squared and interaction terms of regressors.\n",
    "\n",
    "![](https://miro.medium.com/max/1400/1*ERye64H2p5HQMVNypzZtbA.png)\n",
    "\n",
    "Similarly to the Breusch-Pagan test, here we conduct F-test to examine joint significance of δ. While White test is more flexible than Breusch-Pagan test, we need to keep in mind that having interaction terms consumes large degrees of freedom when the specification includes a lot of regressors. \n",
    "\n",
    "White test uses the following null and alternative hypotheses:\n",
    "- The null hypothesis (H0): Homoscedasticity is present.\n",
    "- The alternative hypothesis: (Ha): Homoscedasticity is not present (i.e. heteroscedasticity exists)"
   ]
  },
  {
   "cell_type": "code",
   "execution_count": 19,
   "id": "c51f997a",
   "metadata": {},
   "outputs": [],
   "source": [
    "def test_white(df:pd.DataFrame, scy:str, lcx:list, alpha:float = .05, verbose:bool = True)->bool:\n",
    "    import statsmodels.formula.api as smf\n",
    "    import statsmodels.tools.tools as smt\n",
    "    import statsmodels.stats.diagnostic as smd\n",
    "    \n",
    "    # create formula\n",
    "    if len(lcx) == 1:\n",
    "        scx = f\"{lcx[0]}\"\n",
    "    else:\n",
    "        scx = \"+\".join(lcx)\n",
    "    sformula = f\"{scy} ~ {scx}\"\n",
    "    # initialize linear regression\n",
    "    mlr = smf.ols(formula=sformula, data=df).fit()\n",
    "    # add cte\n",
    "    ivar = df[lcx]\n",
    "    ivarc = smt.add_constant(data=ivar, prepend=True)\n",
    "    # test\n",
    "    wtest = smd.het_white(resid=mlr.resid, exog=ivarc)\n",
    "    stats = wtest[0]\n",
    "    pvalue = wtest[1]\n",
    "    \n",
    "    # display\n",
    "    if verbose:\n",
    "        print(f\"formula = '{sformula}'\")\n",
    "        print(\"lm_stats:\", stats, \"lm_pvalue:\", pvalue)\n",
    "    # interpret\n",
    "    if pvalue > alpha:\n",
    "        # display\n",
    "        if verbose:\n",
    "            print(f'Homoscedasticity (fail to reject H0 with alpha = {alpha})')\n",
    "        # return\n",
    "        return True\n",
    "    else:\n",
    "        # display\n",
    "        if verbose:\n",
    "            print(f'Heteroscedasticity (reject H0 with alpha = {alpha})')\n",
    "        # return\n",
    "        return False"
   ]
  },
  {
   "cell_type": "code",
   "execution_count": 20,
   "id": "1b71462e",
   "metadata": {},
   "outputs": [
    {
     "name": "stdout",
     "output_type": "stream",
     "text": [
      "formula = 'price ~ lotsize'\n",
      "lm_stats: 52.47054886664663 lm_pvalue: 4.037988543057762e-12\n",
      "Heteroscedasticity (reject H0 with alpha = 0.05)\n"
     ]
    },
    {
     "data": {
      "text/plain": [
       "False"
      ]
     },
     "execution_count": 20,
     "metadata": {},
     "output_type": "execute_result"
    }
   ],
   "source": [
    "test_white(df1,\"price\", [\"lotsize\"])"
   ]
  },
  {
   "cell_type": "code",
   "execution_count": 21,
   "id": "dbc22575",
   "metadata": {},
   "outputs": [
    {
     "name": "stdout",
     "output_type": "stream",
     "text": [
      "formula = 'rating ~ points+assists+rebounds'\n",
      "lm_stats: 10.0 lm_pvalue: 0.3504852123233613\n",
      "Homoscedasticity (fail to reject H0 with alpha = 0.05)\n"
     ]
    },
    {
     "data": {
      "text/plain": [
       "True"
      ]
     },
     "execution_count": 21,
     "metadata": {},
     "output_type": "execute_result"
    }
   ],
   "source": [
    "test_white(df2,\"rating\", [\"points\", \"assists\", \"rebounds\"])"
   ]
  },
  {
   "cell_type": "code",
   "execution_count": 22,
   "id": "edaef82f",
   "metadata": {},
   "outputs": [
    {
     "name": "stdout",
     "output_type": "stream",
     "text": [
      "formula = 'y ~ x'\n",
      "lm_stats: 1.5612307772065586 lm_pvalue: 0.4581240002522854\n",
      "Homoscedasticity (fail to reject H0 with alpha = 0.05)\n"
     ]
    },
    {
     "data": {
      "text/plain": [
       "True"
      ]
     },
     "execution_count": 22,
     "metadata": {},
     "output_type": "execute_result"
    }
   ],
   "source": [
    "test_white(df3, \"y\", ['x'])"
   ]
  },
  {
   "cell_type": "markdown",
   "id": "5a471400",
   "metadata": {},
   "source": [
    "# How to fix Heteroscedasticity\n",
    "\n",
    "In the previous example we saw that heteroscedasticity was not present in the regression model. However, when heteroscedasticity actually is present there are three common ways to remedy the situation:\n",
    "\n",
    "1. Transform the dependent variable. One way to fix heteroscedasticity is to transform the dependent variable in some way. One common transformation is to simply take the log of the dependent variable.\n",
    "\n",
    "2. Redefine the dependent variable. Another way to fix heteroscedasticity is to redefine the dependent variable. One common way to do so is to use a rate for the dependent variable, rather than the raw value.\n",
    "\n",
    "3. Use weighted regression. Another way to fix heteroscedasticity is to use weighted regression. This type of regression assigns a weight to each data point based on the variance of its fitted value. When the proper weights are used, this can eliminate the problem of heteroscedasticity.\n",
    "\n",
    "Read more details about each of these three methods in this [post](https://www.statology.org/heteroscedasticity-regression/). Furthermore, there are interesting information in this [post](https://medium.com/keita-starts-data-science/heteroskedasticity-in-linear-regressions-and-python-16eb57eaa09)."
   ]
  },
  {
   "cell_type": "markdown",
   "id": "5d20dcd5",
   "metadata": {},
   "source": [
    "### 1. Dependent variable transformation"
   ]
  },
  {
   "cell_type": "code",
   "execution_count": 27,
   "id": "6d99544e",
   "metadata": {},
   "outputs": [
    {
     "name": "stdout",
     "output_type": "stream",
     "text": [
      "formula = 'price_log ~ lotsize'\n",
      "lm_stats: 18.24401262553766 lm_pvalue: 1.9433585644779608e-05\n",
      "Heteroscedasticity (reject H0 with alpha = 0.05)\n"
     ]
    },
    {
     "data": {
      "text/plain": [
       "False"
      ]
     },
     "execution_count": 27,
     "metadata": {},
     "output_type": "execute_result"
    }
   ],
   "source": [
    "df1[\"price_log\"] = np.log(df1.price.values)\n",
    "test_breuschpagan(df1,\"price_log\", [\"lotsize\"])"
   ]
  },
  {
   "cell_type": "markdown",
   "id": "6fae492e",
   "metadata": {},
   "source": [
    "In this case Heteroscedasticity is not removed but yes reduced. p-values is bigger than before. "
   ]
  },
  {
   "cell_type": "markdown",
   "id": "2becd2dc",
   "metadata": {},
   "source": [
    "### 2. Redefine the dependent variable"
   ]
  },
  {
   "cell_type": "code",
   "execution_count": 29,
   "id": "077d1980",
   "metadata": {},
   "outputs": [
    {
     "name": "stdout",
     "output_type": "stream",
     "text": [
      "formula = 'price_log ~ lotsize'\n",
      "lm_stats: 18.24401262553766 lm_pvalue: 1.9433585644779608e-05\n",
      "Heteroscedasticity (reject H0 with alpha = 0.05)\n"
     ]
    },
    {
     "data": {
      "text/plain": [
       "False"
      ]
     },
     "execution_count": 29,
     "metadata": {},
     "output_type": "execute_result"
    }
   ],
   "source": [
    "df1[\"price_rate\"] = df1.price.values / np.max(df1.price.values)\n",
    "test_breuschpagan(df1,\"price_log\", [\"lotsize\"])"
   ]
  },
  {
   "cell_type": "markdown",
   "id": "50c91a09",
   "metadata": {},
   "source": [
    "In this case Heteroscedasticity is not removed but yes reduced. p-values is bigger than before. "
   ]
  },
  {
   "cell_type": "markdown",
   "id": "1ba6700c",
   "metadata": {},
   "source": [
    "### 3. Use weighted regression\n",
    "\n",
    "It is possible to use Weighted Least Squares (WLS) when you know the form of Heteroskedasticity. When we do not know the form of Heteroskedasticity, we may use Feasible Generalized Least Squares (FGLS) to use data to estimate the form. Although estimates with FGLS are biased, the result is consistent and asymptotically more efficient than OLS, when there is Heteroskedasticity. For more information about the last case, check [this](https://www.statsmodels.org/0.6.1/examples/notebooks/generated/wls.html)."
   ]
  },
  {
   "cell_type": "code",
   "execution_count": 60,
   "id": "fab4aec3",
   "metadata": {},
   "outputs": [],
   "source": [
    "from __future__ import print_function\n",
    "import numpy as np\n",
    "from scipy import stats\n",
    "import statsmodels.api as sm\n",
    "import matplotlib.pyplot as plt\n",
    "from statsmodels.sandbox.regression.predstd import wls_prediction_std\n",
    "from statsmodels.iolib.table import (SimpleTable, default_txt_fmt)\n",
    "np.random.seed(1024)\n",
    "\n",
    "nsample = len(df1)\n",
    "w = np.ones(nsample)"
   ]
  },
  {
   "cell_type": "code",
   "execution_count": 61,
   "id": "d613327a",
   "metadata": {},
   "outputs": [
    {
     "data": {
      "text/plain": [
       "((546, 1), (546, 1))"
      ]
     },
     "execution_count": 61,
     "metadata": {},
     "output_type": "execute_result"
    }
   ],
   "source": [
    "y = df1[[\"price\"]] \n",
    "X = df1[[\"lotsize\"]]\n",
    "y.shape, X.shape"
   ]
  },
  {
   "cell_type": "code",
   "execution_count": 62,
   "id": "8e59ea13",
   "metadata": {},
   "outputs": [
    {
     "name": "stdout",
     "output_type": "stream",
     "text": [
      "                            WLS Regression Results                            \n",
      "==============================================================================\n",
      "Dep. Variable:                  price   R-squared:                       0.872\n",
      "Model:                            WLS   Adj. R-squared:                  0.872\n",
      "Method:                 Least Squares   F-statistic:                     3729.\n",
      "Date:                Fri, 28 Jan 2022   Prob (F-statistic):          6.91e-246\n",
      "Time:                        15:01:22   Log-Likelihood:                -6327.9\n",
      "No. Observations:                 546   AIC:                         1.266e+04\n",
      "Df Residuals:                     545   BIC:                         1.266e+04\n",
      "Df Model:                           1                                         \n",
      "Covariance Type:            nonrobust                                         \n",
      "==============================================================================\n",
      "                 coef    std err          t      P>|t|      [0.025      0.975]\n",
      "------------------------------------------------------------------------------\n",
      "lotsize       12.2306      0.200     61.062      0.000      11.837      12.624\n",
      "==============================================================================\n",
      "Omnibus:                       45.671   Durbin-Watson:                   1.342\n",
      "Prob(Omnibus):                  0.000   Jarque-Bera (JB):              118.511\n",
      "Skew:                          -0.415   Prob(JB):                     1.84e-26\n",
      "Kurtosis:                       5.126   Cond. No.                         1.00\n",
      "==============================================================================\n",
      "\n",
      "Warnings:\n",
      "[1] Standard Errors assume that the covariance matrix of the errors is correctly specified.\n"
     ]
    }
   ],
   "source": [
    "mod_wls = sm.WLS(y, X, weights=1./w)\n",
    "res_wls = mod_wls.fit()\n",
    "print(res_wls.summary())"
   ]
  },
  {
   "cell_type": "code",
   "execution_count": 63,
   "id": "3615bda4",
   "metadata": {},
   "outputs": [
    {
     "name": "stdout",
     "output_type": "stream",
     "text": [
      "                            OLS Regression Results                            \n",
      "==============================================================================\n",
      "Dep. Variable:                  price   R-squared:                       0.872\n",
      "Model:                            OLS   Adj. R-squared:                  0.872\n",
      "Method:                 Least Squares   F-statistic:                     3729.\n",
      "Date:                Fri, 28 Jan 2022   Prob (F-statistic):          6.91e-246\n",
      "Time:                        15:01:23   Log-Likelihood:                -6327.9\n",
      "No. Observations:                 546   AIC:                         1.266e+04\n",
      "Df Residuals:                     545   BIC:                         1.266e+04\n",
      "Df Model:                           1                                         \n",
      "Covariance Type:            nonrobust                                         \n",
      "==============================================================================\n",
      "                 coef    std err          t      P>|t|      [0.025      0.975]\n",
      "------------------------------------------------------------------------------\n",
      "lotsize       12.2306      0.200     61.062      0.000      11.837      12.624\n",
      "==============================================================================\n",
      "Omnibus:                       45.671   Durbin-Watson:                   1.342\n",
      "Prob(Omnibus):                  0.000   Jarque-Bera (JB):              118.511\n",
      "Skew:                          -0.415   Prob(JB):                     1.84e-26\n",
      "Kurtosis:                       5.126   Cond. No.                         1.00\n",
      "==============================================================================\n",
      "\n",
      "Warnings:\n",
      "[1] Standard Errors assume that the covariance matrix of the errors is correctly specified.\n"
     ]
    }
   ],
   "source": [
    "res_ols = sm.OLS(y, X).fit()\n",
    "print(res_ols.summary())"
   ]
  },
  {
   "cell_type": "code",
   "execution_count": 64,
   "id": "931f99ca",
   "metadata": {},
   "outputs": [
    {
     "name": "stdout",
     "output_type": "stream",
     "text": [
      "                            WLS Regression Results                            \n",
      "==============================================================================\n",
      "Dep. Variable:                  price   R-squared:                       0.872\n",
      "Model:                            WLS   Adj. R-squared:                  0.872\n",
      "Method:                 Least Squares   F-statistic:                     3729.\n",
      "Date:                Fri, 28 Jan 2022   Prob (F-statistic):          6.91e-246\n",
      "Time:                        15:01:23   Log-Likelihood:                -6327.9\n",
      "No. Observations:                 546   AIC:                         1.266e+04\n",
      "Df Residuals:                     545   BIC:                         1.266e+04\n",
      "Df Model:                           1                                         \n",
      "Covariance Type:            nonrobust                                         \n",
      "==============================================================================\n",
      "                 coef    std err          t      P>|t|      [0.025      0.975]\n",
      "------------------------------------------------------------------------------\n",
      "lotsize       12.2306      0.200     61.062      0.000      11.837      12.624\n",
      "==============================================================================\n",
      "Omnibus:                       45.671   Durbin-Watson:                   1.342\n",
      "Prob(Omnibus):                  0.000   Jarque-Bera (JB):              118.511\n",
      "Skew:                          -0.415   Prob(JB):                     1.84e-26\n",
      "Kurtosis:                       5.126   Cond. No.                         1.00\n",
      "==============================================================================\n",
      "\n",
      "Warnings:\n",
      "[1] Standard Errors assume that the covariance matrix of the errors is correctly specified.\n"
     ]
    }
   ],
   "source": [
    "resid1 = res_ols.resid[w==1.]\n",
    "var1 = resid1.var(ddof=int(res_ols.df_model)+1)\n",
    "resid2 = res_ols.resid[w!=1.]\n",
    "var2 = resid2.var(ddof=int(res_ols.df_model)+1)\n",
    "w_est = w.copy()\n",
    "w_est[w!=1.] = np.sqrt(var2) / np.sqrt(var1)\n",
    "res_fwls = sm.WLS(y, X, 1./w_est).fit()\n",
    "print(res_fwls.summary())"
   ]
  },
  {
   "cell_type": "code",
   "execution_count": null,
   "id": "1522fa16",
   "metadata": {},
   "outputs": [],
   "source": []
  },
  {
   "cell_type": "code",
   "execution_count": null,
   "id": "db5d9c17",
   "metadata": {},
   "outputs": [],
   "source": []
  }
 ],
 "metadata": {
  "kernelspec": {
   "display_name": "analysis",
   "language": "python",
   "name": "analysis"
  },
  "language_info": {
   "codemirror_mode": {
    "name": "ipython",
    "version": 3
   },
   "file_extension": ".py",
   "mimetype": "text/x-python",
   "name": "python",
   "nbconvert_exporter": "python",
   "pygments_lexer": "ipython3",
   "version": "3.7.0"
  }
 },
 "nbformat": 4,
 "nbformat_minor": 5
}
