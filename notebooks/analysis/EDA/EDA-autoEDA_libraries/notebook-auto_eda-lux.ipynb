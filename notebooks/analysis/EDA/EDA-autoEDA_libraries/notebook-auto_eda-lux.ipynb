{
 "cells": [
  {
   "cell_type": "markdown",
   "metadata": {},
   "source": [
    "# Review: auto-EDA with Lux library"
   ]
  },
  {
   "cell_type": "code",
   "execution_count": 1,
   "metadata": {},
   "outputs": [
    {
     "name": "stdout",
     "output_type": "stream",
     "text": [
      "Collecting lux\n",
      "  Downloading lux-0.5.1.tar.gz (14 kB)\n",
      "Collecting lux-api\n",
      "  Downloading lux-api-0.5.1.tar.gz (127 kB)\n",
      "\u001b[K     |████████████████████████████████| 127 kB 7.9 MB/s eta 0:00:01\n",
      "\u001b[?25h  Installing build dependencies ... \u001b[?25ldone\n",
      "\u001b[?25h  Getting requirements to build wheel ... \u001b[?25ldone\n",
      "\u001b[?25h    Preparing wheel metadata ... \u001b[?25ldone\n",
      "\u001b[?25hCollecting lux-widget\n",
      "  Downloading lux-widget-0.1.11.tar.gz (2.5 MB)\n",
      "\u001b[K     |████████████████████████████████| 2.5 MB 35.4 MB/s eta 0:00:01\n",
      "\u001b[?25hRequirement already satisfied: psutil>=5.9.0 in /Users/juan/miniconda3/envs/analysis/lib/python3.7/site-packages (from lux-api->lux) (5.9.2)\n",
      "Collecting autopep8>=1.5\n",
      "  Downloading autopep8-2.0.4-py2.py3-none-any.whl (45 kB)\n",
      "\u001b[K     |████████████████████████████████| 45 kB 6.4 MB/s  eta 0:00:01\n",
      "\u001b[?25hRequirement already satisfied: altair>=4.0.0 in /Users/juan/miniconda3/envs/analysis/lib/python3.7/site-packages (from lux-api->lux) (4.2.0)\n",
      "Requirement already satisfied: matplotlib>=3.0.0 in /Users/juan/miniconda3/envs/analysis/lib/python3.7/site-packages (from lux-api->lux) (3.5.1)\n",
      "Requirement already satisfied: scikit-learn>=0.22 in /Users/juan/miniconda3/envs/analysis/lib/python3.7/site-packages (from lux-api->lux) (1.0.2)\n",
      "Requirement already satisfied: numpy>=1.16.5 in /Users/juan/miniconda3/envs/analysis/lib/python3.7/site-packages (from lux-api->lux) (1.21.2)\n",
      "Requirement already satisfied: pandas in /Users/juan/miniconda3/envs/analysis/lib/python3.7/site-packages (from lux-api->lux) (1.1.5)\n",
      "Collecting sh\n",
      "  Downloading sh-1.14.3.tar.gz (62 kB)\n",
      "\u001b[K     |████████████████████████████████| 62 kB 4.5 MB/s  eta 0:00:01\n",
      "\u001b[?25hRequirement already satisfied: scipy>=1.3.3 in /Users/juan/miniconda3/envs/analysis/lib/python3.7/site-packages (from lux-api->lux) (1.7.3)\n",
      "Collecting iso3166\n",
      "  Downloading iso3166-2.1.1-py3-none-any.whl (9.8 kB)\n",
      "Requirement already satisfied: toolz in /Users/juan/miniconda3/envs/analysis/lib/python3.7/site-packages (from altair>=4.0.0->lux-api->lux) (0.11.2)\n",
      "Requirement already satisfied: jsonschema>=3.0 in /Users/juan/miniconda3/envs/analysis/lib/python3.7/site-packages (from altair>=4.0.0->lux-api->lux) (3.2.0)\n",
      "Requirement already satisfied: jinja2 in /Users/juan/miniconda3/envs/analysis/lib/python3.7/site-packages (from altair>=4.0.0->lux-api->lux) (3.0.2)\n",
      "Requirement already satisfied: entrypoints in /Users/juan/miniconda3/envs/analysis/lib/python3.7/site-packages (from altair>=4.0.0->lux-api->lux) (0.3)\n",
      "Collecting tomli\n",
      "  Using cached tomli-2.0.1-py3-none-any.whl (12 kB)\n",
      "Collecting pycodestyle>=2.10.0\n",
      "  Downloading pycodestyle-2.10.0-py2.py3-none-any.whl (41 kB)\n",
      "\u001b[K     |████████████████████████████████| 41 kB 509 kB/s  eta 0:00:01\n",
      "\u001b[?25hRequirement already satisfied: pyrsistent>=0.14.0 in /Users/juan/miniconda3/envs/analysis/lib/python3.7/site-packages (from jsonschema>=3.0->altair>=4.0.0->lux-api->lux) (0.18.0)\n",
      "Requirement already satisfied: setuptools in /Users/juan/.local/lib/python3.7/site-packages (from jsonschema>=3.0->altair>=4.0.0->lux-api->lux) (68.0.0)\n",
      "Requirement already satisfied: importlib-metadata in /Users/juan/miniconda3/envs/analysis/lib/python3.7/site-packages (from jsonschema>=3.0->altair>=4.0.0->lux-api->lux) (4.8.2)\n",
      "Requirement already satisfied: six>=1.11.0 in /Users/juan/miniconda3/envs/analysis/lib/python3.7/site-packages (from jsonschema>=3.0->altair>=4.0.0->lux-api->lux) (1.16.0)\n",
      "Requirement already satisfied: attrs>=17.4.0 in /Users/juan/miniconda3/envs/analysis/lib/python3.7/site-packages (from jsonschema>=3.0->altair>=4.0.0->lux-api->lux) (21.4.0)\n",
      "Requirement already satisfied: notebook>=4.0.0 in /Users/juan/miniconda3/envs/analysis/lib/python3.7/site-packages (from lux-widget->lux) (6.4.8)\n",
      "Requirement already satisfied: ipywidgets>=7.5.0 in /Users/juan/miniconda3/envs/analysis/lib/python3.7/site-packages (from lux-widget->lux) (7.6.5)\n",
      "Requirement already satisfied: ipykernel>=4.5.1 in /Users/juan/miniconda3/envs/analysis/lib/python3.7/site-packages (from ipywidgets>=7.5.0->lux-widget->lux) (6.16.2)\n",
      "Requirement already satisfied: ipython-genutils~=0.2.0 in /Users/juan/miniconda3/envs/analysis/lib/python3.7/site-packages (from ipywidgets>=7.5.0->lux-widget->lux) (0.2.0)\n",
      "Requirement already satisfied: traitlets>=4.3.1 in /Users/juan/miniconda3/envs/analysis/lib/python3.7/site-packages (from ipywidgets>=7.5.0->lux-widget->lux) (5.9.0)\n",
      "Requirement already satisfied: nbformat>=4.2.0 in /Users/juan/miniconda3/envs/analysis/lib/python3.7/site-packages (from ipywidgets>=7.5.0->lux-widget->lux) (5.1.3)\n",
      "Requirement already satisfied: jupyterlab-widgets>=1.0.0 in /Users/juan/miniconda3/envs/analysis/lib/python3.7/site-packages (from ipywidgets>=7.5.0->lux-widget->lux) (1.0.2)\n",
      "Requirement already satisfied: ipython>=4.0.0 in /Users/juan/miniconda3/envs/analysis/lib/python3.7/site-packages (from ipywidgets>=7.5.0->lux-widget->lux) (7.31.1)\n",
      "Requirement already satisfied: widgetsnbextension~=3.5.0 in /Users/juan/miniconda3/envs/analysis/lib/python3.7/site-packages (from ipywidgets>=7.5.0->lux-widget->lux) (3.5.2)\n",
      "Requirement already satisfied: matplotlib-inline>=0.1 in /Users/juan/miniconda3/envs/analysis/lib/python3.7/site-packages (from ipykernel>=4.5.1->ipywidgets>=7.5.0->lux-widget->lux) (0.1.2)\n",
      "Requirement already satisfied: debugpy>=1.0 in /Users/juan/miniconda3/envs/analysis/lib/python3.7/site-packages (from ipykernel>=4.5.1->ipywidgets>=7.5.0->lux-widget->lux) (1.5.1)\n",
      "Requirement already satisfied: packaging in /Users/juan/miniconda3/envs/analysis/lib/python3.7/site-packages (from ipykernel>=4.5.1->ipywidgets>=7.5.0->lux-widget->lux) (21.3)\n",
      "Requirement already satisfied: pyzmq>=17 in /Users/juan/miniconda3/envs/analysis/lib/python3.7/site-packages (from ipykernel>=4.5.1->ipywidgets>=7.5.0->lux-widget->lux) (22.3.0)\n",
      "Requirement already satisfied: appnope in /Users/juan/miniconda3/envs/analysis/lib/python3.7/site-packages (from ipykernel>=4.5.1->ipywidgets>=7.5.0->lux-widget->lux) (0.1.2)\n",
      "Requirement already satisfied: jupyter-client>=6.1.12 in /Users/juan/miniconda3/envs/analysis/lib/python3.7/site-packages (from ipykernel>=4.5.1->ipywidgets>=7.5.0->lux-widget->lux) (7.1.2)\n",
      "Requirement already satisfied: nest-asyncio in /Users/juan/miniconda3/envs/analysis/lib/python3.7/site-packages (from ipykernel>=4.5.1->ipywidgets>=7.5.0->lux-widget->lux) (1.5.1)\n",
      "Requirement already satisfied: tornado>=6.1 in /Users/juan/miniconda3/envs/analysis/lib/python3.7/site-packages (from ipykernel>=4.5.1->ipywidgets>=7.5.0->lux-widget->lux) (6.1)\n",
      "Requirement already satisfied: pexpect>4.3 in /Users/juan/miniconda3/envs/analysis/lib/python3.7/site-packages (from ipython>=4.0.0->ipywidgets>=7.5.0->lux-widget->lux) (4.8.0)\n",
      "Requirement already satisfied: backcall in /Users/juan/miniconda3/envs/analysis/lib/python3.7/site-packages (from ipython>=4.0.0->ipywidgets>=7.5.0->lux-widget->lux) (0.2.0)\n",
      "Requirement already satisfied: pygments in /Users/juan/miniconda3/envs/analysis/lib/python3.7/site-packages (from ipython>=4.0.0->ipywidgets>=7.5.0->lux-widget->lux) (2.11.2)\n",
      "Requirement already satisfied: decorator in /Users/juan/miniconda3/envs/analysis/lib/python3.7/site-packages (from ipython>=4.0.0->ipywidgets>=7.5.0->lux-widget->lux) (5.1.1)\n",
      "Requirement already satisfied: prompt-toolkit!=3.0.0,!=3.0.1,<3.1.0,>=2.0.0 in /Users/juan/miniconda3/envs/analysis/lib/python3.7/site-packages (from ipython>=4.0.0->ipywidgets>=7.5.0->lux-widget->lux) (3.0.39)\n",
      "Requirement already satisfied: pickleshare in /Users/juan/miniconda3/envs/analysis/lib/python3.7/site-packages (from ipython>=4.0.0->ipywidgets>=7.5.0->lux-widget->lux) (0.7.5)\n",
      "Requirement already satisfied: jedi>=0.16 in /Users/juan/miniconda3/envs/analysis/lib/python3.7/site-packages (from ipython>=4.0.0->ipywidgets>=7.5.0->lux-widget->lux) (0.18.1)\n",
      "Requirement already satisfied: parso<0.9.0,>=0.8.0 in /Users/juan/miniconda3/envs/analysis/lib/python3.7/site-packages (from jedi>=0.16->ipython>=4.0.0->ipywidgets>=7.5.0->lux-widget->lux) (0.8.3)\n",
      "Requirement already satisfied: python-dateutil>=2.1 in /Users/juan/miniconda3/envs/analysis/lib/python3.7/site-packages (from jupyter-client>=6.1.12->ipykernel>=4.5.1->ipywidgets>=7.5.0->lux-widget->lux) (2.8.2)\n",
      "Requirement already satisfied: jupyter-core>=4.6.0 in /Users/juan/miniconda3/envs/analysis/lib/python3.7/site-packages (from jupyter-client>=6.1.12->ipykernel>=4.5.1->ipywidgets>=7.5.0->lux-widget->lux) (4.12.0)\n",
      "Requirement already satisfied: pyparsing>=2.2.1 in /Users/juan/miniconda3/envs/analysis/lib/python3.7/site-packages (from matplotlib>=3.0.0->lux-api->lux) (3.0.4)\n",
      "Requirement already satisfied: pillow>=6.2.0 in /Users/juan/miniconda3/envs/analysis/lib/python3.7/site-packages (from matplotlib>=3.0.0->lux-api->lux) (8.4.0)\n",
      "Requirement already satisfied: cycler>=0.10 in /Users/juan/miniconda3/envs/analysis/lib/python3.7/site-packages (from matplotlib>=3.0.0->lux-api->lux) (0.11.0)\n",
      "Requirement already satisfied: kiwisolver>=1.0.1 in /Users/juan/miniconda3/envs/analysis/lib/python3.7/site-packages (from matplotlib>=3.0.0->lux-api->lux) (1.3.2)\n",
      "Requirement already satisfied: fonttools>=4.22.0 in /Users/juan/miniconda3/envs/analysis/lib/python3.7/site-packages (from matplotlib>=3.0.0->lux-api->lux) (4.25.0)\n",
      "Requirement already satisfied: terminado>=0.8.3 in /Users/juan/miniconda3/envs/analysis/lib/python3.7/site-packages (from notebook>=4.0.0->lux-widget->lux) (0.13.1)\n",
      "Requirement already satisfied: prometheus-client in /Users/juan/miniconda3/envs/analysis/lib/python3.7/site-packages (from notebook>=4.0.0->lux-widget->lux) (0.13.1)\n",
      "Requirement already satisfied: Send2Trash>=1.8.0 in /Users/juan/miniconda3/envs/analysis/lib/python3.7/site-packages (from notebook>=4.0.0->lux-widget->lux) (1.8.0)\n",
      "Requirement already satisfied: nbconvert in /Users/juan/miniconda3/envs/analysis/lib/python3.7/site-packages (from notebook>=4.0.0->lux-widget->lux) (6.3.0)\n",
      "Requirement already satisfied: argon2-cffi in /Users/juan/miniconda3/envs/analysis/lib/python3.7/site-packages (from notebook>=4.0.0->lux-widget->lux) (21.3.0)\n",
      "Requirement already satisfied: pytz>=2017.2 in /Users/juan/miniconda3/envs/analysis/lib/python3.7/site-packages (from pandas->lux-api->lux) (2021.3)\n",
      "Requirement already satisfied: ptyprocess>=0.5 in /Users/juan/miniconda3/envs/analysis/lib/python3.7/site-packages (from pexpect>4.3->ipython>=4.0.0->ipywidgets>=7.5.0->lux-widget->lux) (0.7.0)\n",
      "Requirement already satisfied: wcwidth in /Users/juan/miniconda3/envs/analysis/lib/python3.7/site-packages (from prompt-toolkit!=3.0.0,!=3.0.1,<3.1.0,>=2.0.0->ipython>=4.0.0->ipywidgets>=7.5.0->lux-widget->lux) (0.2.5)\n",
      "Requirement already satisfied: joblib>=0.11 in /Users/juan/miniconda3/envs/analysis/lib/python3.7/site-packages (from scikit-learn>=0.22->lux-api->lux) (1.1.0)\n",
      "Requirement already satisfied: threadpoolctl>=2.0.0 in /Users/juan/miniconda3/envs/analysis/lib/python3.7/site-packages (from scikit-learn>=0.22->lux-api->lux) (2.2.0)\n",
      "Requirement already satisfied: argon2-cffi-bindings in /Users/juan/miniconda3/envs/analysis/lib/python3.7/site-packages (from argon2-cffi->notebook>=4.0.0->lux-widget->lux) (21.2.0)\n",
      "Requirement already satisfied: typing-extensions in /Users/juan/miniconda3/envs/analysis/lib/python3.7/site-packages (from argon2-cffi->notebook>=4.0.0->lux-widget->lux) (4.3.0)\n",
      "Requirement already satisfied: cffi>=1.0.1 in /Users/juan/miniconda3/envs/analysis/lib/python3.7/site-packages (from argon2-cffi-bindings->argon2-cffi->notebook>=4.0.0->lux-widget->lux) (1.15.0)\n",
      "Requirement already satisfied: pycparser in /Users/juan/miniconda3/envs/analysis/lib/python3.7/site-packages (from cffi>=1.0.1->argon2-cffi-bindings->argon2-cffi->notebook>=4.0.0->lux-widget->lux) (2.21)\n",
      "Requirement already satisfied: zipp>=0.5 in /Users/juan/miniconda3/envs/analysis/lib/python3.7/site-packages (from importlib-metadata->jsonschema>=3.0->altair>=4.0.0->lux-api->lux) (3.7.0)\n",
      "Requirement already satisfied: MarkupSafe>=2.0 in /Users/juan/miniconda3/envs/analysis/lib/python3.7/site-packages (from jinja2->altair>=4.0.0->lux-api->lux) (2.0.1)\n",
      "Requirement already satisfied: jupyterlab-pygments in /Users/juan/miniconda3/envs/analysis/lib/python3.7/site-packages (from nbconvert->notebook>=4.0.0->lux-widget->lux) (0.1.2)\n",
      "Requirement already satisfied: mistune<2,>=0.8.1 in /Users/juan/miniconda3/envs/analysis/lib/python3.7/site-packages (from nbconvert->notebook>=4.0.0->lux-widget->lux) (0.8.4)\n",
      "Requirement already satisfied: nbclient<0.6.0,>=0.5.0 in /Users/juan/miniconda3/envs/analysis/lib/python3.7/site-packages (from nbconvert->notebook>=4.0.0->lux-widget->lux) (0.5.11)\n",
      "Requirement already satisfied: testpath in /Users/juan/miniconda3/envs/analysis/lib/python3.7/site-packages (from nbconvert->notebook>=4.0.0->lux-widget->lux) (0.5.0)\n",
      "Requirement already satisfied: bleach in /Users/juan/miniconda3/envs/analysis/lib/python3.7/site-packages (from nbconvert->notebook>=4.0.0->lux-widget->lux) (4.1.0)\n",
      "Requirement already satisfied: defusedxml in /Users/juan/miniconda3/envs/analysis/lib/python3.7/site-packages (from nbconvert->notebook>=4.0.0->lux-widget->lux) (0.7.1)\n",
      "Requirement already satisfied: pandocfilters>=1.4.1 in /Users/juan/miniconda3/envs/analysis/lib/python3.7/site-packages (from nbconvert->notebook>=4.0.0->lux-widget->lux) (1.5.0)\n",
      "Requirement already satisfied: webencodings in /Users/juan/miniconda3/envs/analysis/lib/python3.7/site-packages (from bleach->nbconvert->notebook>=4.0.0->lux-widget->lux) (0.5.1)\n",
      "Building wheels for collected packages: lux, lux-api, lux-widget, sh\n",
      "  Building wheel for lux (setup.py) ... \u001b[?25ldone\n",
      "\u001b[?25h  Created wheel for lux: filename=lux-0.5.1-py3-none-any.whl size=11962 sha256=f75b525f0d98a0e99baa43531bba50856bb84abc780969c12ac4668575537985\n",
      "  Stored in directory: /Users/juan/Library/Caches/pip/wheels/41/6c/3e/dd206ed1c244344b18b396ebd36d1c5e266c53ed73201e20b3\n",
      "  Building wheel for lux-api (PEP 517) ... \u001b[?25ldone\n",
      "\u001b[?25h  Created wheel for lux-api: filename=lux_api-0.5.1-py3-none-any.whl size=185603 sha256=561e43a348fdb542850445f78f4cc98b1dcb8104e5e28e9f7f2f5017e7a153df\n",
      "  Stored in directory: /Users/juan/Library/Caches/pip/wheels/30/50/dc/d963e60d29e93842892c038df8d1a2bf50df51be4ac3b1dfb2\n",
      "  Building wheel for lux-widget (setup.py) ... \u001b[?25ldone\n",
      "\u001b[?25h  Created wheel for lux-widget: filename=lux_widget-0.1.11-py3-none-any.whl size=2540457 sha256=925c088884d6d18ddf4207a5de0f5fc08dd8085fba2ff964edc9d3deb6511261\n",
      "  Stored in directory: /Users/juan/Library/Caches/pip/wheels/6d/28/de/98e9984ee5fa0b2fc084870ee09eb0bb3488b8d2c2b0788db5\n",
      "  Building wheel for sh (setup.py) ... \u001b[?25ldone\n",
      "\u001b[?25h  Created wheel for sh: filename=sh-1.14.3-py2.py3-none-any.whl size=39638 sha256=6511e81b405a06c0eb2570970b4eba6914f8969be123fe7af4aca1f34bbf85fb\n",
      "  Stored in directory: /Users/juan/Library/Caches/pip/wheels/e0/d2/e1/3290bef6382cfc1ec5e659353e5f403fc1eb385ea5f615519a\n",
      "Successfully built lux lux-api lux-widget sh\n",
      "Installing collected packages: tomli, pycodestyle, sh, lux-widget, iso3166, autopep8, lux-api, lux\n",
      "Successfully installed autopep8-2.0.4 iso3166-2.1.1 lux-0.5.1 lux-api-0.5.1 lux-widget-0.1.11 pycodestyle-2.10.0 sh-1.14.3 tomli-2.0.1\n"
     ]
    }
   ],
   "source": [
    "!pip install lux"
   ]
  },
  {
   "cell_type": "code",
   "execution_count": 13,
   "metadata": {},
   "outputs": [],
   "source": [
    "from sklearn import datasets\n",
    "import pandas as pd\n",
    "import lux"
   ]
  },
  {
   "cell_type": "markdown",
   "metadata": {},
   "source": [
    "### data"
   ]
  },
  {
   "cell_type": "code",
   "execution_count": 15,
   "metadata": {},
   "outputs": [],
   "source": [
    "iris = datasets.load_iris()\n",
    "iris.keys()\n",
    "df = pd.DataFrame(iris.data, columns = iris.feature_names)\n",
    "df[\"target\"] = iris.target"
   ]
  },
  {
   "cell_type": "markdown",
   "metadata": {},
   "source": [
    "### analysis"
   ]
  },
  {
   "cell_type": "code",
   "execution_count": 16,
   "metadata": {},
   "outputs": [
    {
     "data": {
      "application/vnd.jupyter.widget-view+json": {
       "model_id": "a0e15ba5333a490f8fb4dda73bfbaa18",
       "version_major": 2,
       "version_minor": 0
      },
      "text/plain": [
       "Button(description='Toggle Pandas/Lux', layout=Layout(top='5px', width='140px'), style=ButtonStyle())"
      ]
     },
     "metadata": {},
     "output_type": "display_data"
    },
    {
     "data": {
      "application/vnd.jupyter.widget-view+json": {
       "model_id": "8406865cc63f413d824de92e9361ba05",
       "version_major": 2,
       "version_minor": 0
      },
      "text/plain": [
       "Output()"
      ]
     },
     "metadata": {},
     "output_type": "display_data"
    }
   ],
   "source": [
    "df"
   ]
  },
  {
   "cell_type": "code",
   "execution_count": null,
   "metadata": {},
   "outputs": [],
   "source": []
  }
 ],
 "metadata": {
  "kernelspec": {
   "display_name": "analysis",
   "language": "python",
   "name": "analysis"
  },
  "language_info": {
   "codemirror_mode": {
    "name": "ipython",
    "version": 3
   },
   "file_extension": ".py",
   "mimetype": "text/x-python",
   "name": "python",
   "nbconvert_exporter": "python",
   "pygments_lexer": "ipython3",
   "version": "3.7.0"
  },
  "orig_nbformat": 4
 },
 "nbformat": 4,
 "nbformat_minor": 2
}
