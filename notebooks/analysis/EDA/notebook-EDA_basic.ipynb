{
 "cells": [
  {
   "cell_type": "markdown",
   "id": "invalid-imaging",
   "metadata": {},
   "source": [
    "# EDA: basic\n",
    "\n",
    "- Descriptive analysis.\n",
    "- Causality between two numerical variables."
   ]
  },
  {
   "cell_type": "code",
   "execution_count": 1,
   "id": "plain-pickup",
   "metadata": {},
   "outputs": [],
   "source": [
    "%matplotlib inline\n",
    "import warnings\n",
    "warnings.filterwarnings('ignore')\n",
    "from sklearn.datasets import load_iris\n",
    "import pandas as pd\n",
    "import numpy as np\n",
    "from scipy.stats import kurtosis\n",
    "from scipy.stats import skew"
   ]
  },
  {
   "cell_type": "markdown",
   "id": "looking-thesaurus",
   "metadata": {},
   "source": [
    "## load data"
   ]
  },
  {
   "cell_type": "code",
   "execution_count": 2,
   "id": "reduced-grade",
   "metadata": {},
   "outputs": [],
   "source": [
    "# load dataset\n",
    "dataset = load_iris()\n",
    "dataset.keys()\n",
    "# dataset to df\n",
    "data = pd.DataFrame(dataset.data, columns = dataset.feature_names)\n",
    "data['class'] = dataset.target\n",
    "dclass = dict()\n",
    "for i, ic in enumerate(dataset.target_names):\n",
    "    dclass[i] = ic\n",
    "data['class'] = data['class'].map(dclass)"
   ]
  },
  {
   "cell_type": "markdown",
   "id": "chinese-colorado",
   "metadata": {},
   "source": [
    "## df format"
   ]
  },
  {
   "cell_type": "code",
   "execution_count": 3,
   "id": "another-beijing",
   "metadata": {},
   "outputs": [],
   "source": [
    "# check what columns are NUMERICAL or CATEGORICAL\n",
    "cols_num = data.select_dtypes(include=['float64', 'int64']).columns.values  # numerical columns\n",
    "cols_cat = data.select_dtypes(include=['object']).columns.values            # categorical columns\n",
    "# columns name converters: numerical\n",
    "dcols_num_name_to_alias = dict()\n",
    "dcols_num_alias_to_name = dict()\n",
    "for i, ic in enumerate(cols_num):\n",
    "    dcols_num_name_to_alias[ic] = 'n{}'.format(i)\n",
    "    dcols_num_alias_to_name['n{}'.format(i)] = ic\n",
    "# columns name converters: categorical\n",
    "dcols_cat_name_to_alias = dict()\n",
    "dcols_cat_alias_to_name = dict()\n",
    "for i, ic in enumerate(cols_cat):\n",
    "    dcols_cat_name_to_alias[ic] = 'c{}'.format(i)\n",
    "    dcols_cat_alias_to_name['c{}'.format(i)] = ic\n",
    "# rename columns\n",
    "data.rename(columns = dcols_num_name_to_alias, inplace = True)\n",
    "data.rename(columns = dcols_cat_name_to_alias, inplace = True)\n",
    "# list of alias\n",
    "cols_num_alias = list(dcols_num_name_to_alias.values())\n",
    "cols_cat_alias = list(dcols_cat_name_to_alias.values())"
   ]
  },
  {
   "cell_type": "markdown",
   "id": "stuck-polyester",
   "metadata": {},
   "source": [
    "# descriptive analysis"
   ]
  },
  {
   "cell_type": "markdown",
   "id": "unlikely-founder",
   "metadata": {},
   "source": [
    "### numerical"
   ]
  },
  {
   "cell_type": "code",
   "execution_count": 4,
   "id": "ignored-proof",
   "metadata": {},
   "outputs": [
    {
     "data": {
      "text/html": [
       "<div>\n",
       "<style scoped>\n",
       "    .dataframe tbody tr th:only-of-type {\n",
       "        vertical-align: middle;\n",
       "    }\n",
       "\n",
       "    .dataframe tbody tr th {\n",
       "        vertical-align: top;\n",
       "    }\n",
       "\n",
       "    .dataframe thead th {\n",
       "        text-align: right;\n",
       "    }\n",
       "</style>\n",
       "<table border=\"1\" class=\"dataframe\">\n",
       "  <thead>\n",
       "    <tr style=\"text-align: right;\">\n",
       "      <th></th>\n",
       "      <th>count</th>\n",
       "      <th>mean</th>\n",
       "      <th>std</th>\n",
       "      <th>min</th>\n",
       "      <th>5%</th>\n",
       "      <th>25%</th>\n",
       "      <th>50%</th>\n",
       "      <th>75%</th>\n",
       "      <th>95%</th>\n",
       "      <th>max</th>\n",
       "      <th>%nan</th>\n",
       "      <th>kurtosis</th>\n",
       "      <th>skew</th>\n",
       "    </tr>\n",
       "  </thead>\n",
       "  <tbody>\n",
       "    <tr>\n",
       "      <th>sepal length (cm)</th>\n",
       "      <td>150.0</td>\n",
       "      <td>5.843333</td>\n",
       "      <td>0.828066</td>\n",
       "      <td>4.3</td>\n",
       "      <td>4.600</td>\n",
       "      <td>5.1</td>\n",
       "      <td>5.80</td>\n",
       "      <td>6.4</td>\n",
       "      <td>7.255</td>\n",
       "      <td>7.9</td>\n",
       "      <td>0.0</td>\n",
       "      <td>-0.573568</td>\n",
       "      <td>0.311753</td>\n",
       "    </tr>\n",
       "    <tr>\n",
       "      <th>sepal width (cm)</th>\n",
       "      <td>150.0</td>\n",
       "      <td>3.057333</td>\n",
       "      <td>0.435866</td>\n",
       "      <td>2.0</td>\n",
       "      <td>2.345</td>\n",
       "      <td>2.8</td>\n",
       "      <td>3.00</td>\n",
       "      <td>3.3</td>\n",
       "      <td>3.800</td>\n",
       "      <td>4.4</td>\n",
       "      <td>0.0</td>\n",
       "      <td>0.180976</td>\n",
       "      <td>0.315767</td>\n",
       "    </tr>\n",
       "    <tr>\n",
       "      <th>petal length (cm)</th>\n",
       "      <td>150.0</td>\n",
       "      <td>3.758000</td>\n",
       "      <td>1.765298</td>\n",
       "      <td>1.0</td>\n",
       "      <td>1.300</td>\n",
       "      <td>1.6</td>\n",
       "      <td>4.35</td>\n",
       "      <td>5.1</td>\n",
       "      <td>6.100</td>\n",
       "      <td>6.9</td>\n",
       "      <td>0.0</td>\n",
       "      <td>-1.395536</td>\n",
       "      <td>-0.272128</td>\n",
       "    </tr>\n",
       "    <tr>\n",
       "      <th>petal width (cm)</th>\n",
       "      <td>150.0</td>\n",
       "      <td>1.199333</td>\n",
       "      <td>0.762238</td>\n",
       "      <td>0.1</td>\n",
       "      <td>0.200</td>\n",
       "      <td>0.3</td>\n",
       "      <td>1.30</td>\n",
       "      <td>1.8</td>\n",
       "      <td>2.300</td>\n",
       "      <td>2.5</td>\n",
       "      <td>0.0</td>\n",
       "      <td>-1.336067</td>\n",
       "      <td>-0.101934</td>\n",
       "    </tr>\n",
       "  </tbody>\n",
       "</table>\n",
       "</div>"
      ],
      "text/plain": [
       "                   count      mean       std  min     5%  25%   50%  75%  \\\n",
       "sepal length (cm)  150.0  5.843333  0.828066  4.3  4.600  5.1  5.80  6.4   \n",
       "sepal width (cm)   150.0  3.057333  0.435866  2.0  2.345  2.8  3.00  3.3   \n",
       "petal length (cm)  150.0  3.758000  1.765298  1.0  1.300  1.6  4.35  5.1   \n",
       "petal width (cm)   150.0  1.199333  0.762238  0.1  0.200  0.3  1.30  1.8   \n",
       "\n",
       "                     95%  max  %nan  kurtosis      skew  \n",
       "sepal length (cm)  7.255  7.9   0.0 -0.573568  0.311753  \n",
       "sepal width (cm)   3.800  4.4   0.0  0.180976  0.315767  \n",
       "petal length (cm)  6.100  6.9   0.0 -1.395536 -0.272128  \n",
       "petal width (cm)   2.300  2.5   0.0 -1.336067 -0.101934  "
      ]
     },
     "execution_count": 4,
     "metadata": {},
     "output_type": "execute_result"
    }
   ],
   "source": [
    "# describe\n",
    "dfn = data[cols_num_alias].describe(include = 'all', percentiles = [.05, .25, .5, .75, .95]).T\n",
    "# add percent of nan values\n",
    "dfn['%nan'] = (data[cols_num_alias].isnull().sum()*100 / len(data)).values\n",
    "# kurtosis\n",
    "dfn['kurtosis'] = kurtosis(data[cols_num_alias])\n",
    "# skew\n",
    "dfn['skew'] = skew(data[cols_num_alias])\n",
    "# rename index\n",
    "dfn.index = dfn.index.map(dcols_num_alias_to_name)\n",
    "dfn"
   ]
  },
  {
   "cell_type": "markdown",
   "id": "aerial-following",
   "metadata": {},
   "source": [
    "### categorical"
   ]
  },
  {
   "cell_type": "code",
   "execution_count": 5,
   "id": "liable-count",
   "metadata": {},
   "outputs": [],
   "source": [
    "# describe\n",
    "dfc = data[cols_cat_alias].describe(include = 'all').T[['count', 'unique']]\n",
    "# add percent of nan values\n",
    "dfc['%nan'] = (data[cols_cat_alias].isnull().sum()*100 / len(data)).values"
   ]
  },
  {
   "cell_type": "code",
   "execution_count": 6,
   "id": "offensive-sweden",
   "metadata": {},
   "outputs": [
    {
     "data": {
      "text/html": [
       "<div>\n",
       "<style scoped>\n",
       "    .dataframe tbody tr th:only-of-type {\n",
       "        vertical-align: middle;\n",
       "    }\n",
       "\n",
       "    .dataframe tbody tr th {\n",
       "        vertical-align: top;\n",
       "    }\n",
       "\n",
       "    .dataframe thead th {\n",
       "        text-align: right;\n",
       "    }\n",
       "</style>\n",
       "<table border=\"1\" class=\"dataframe\">\n",
       "  <thead>\n",
       "    <tr style=\"text-align: right;\">\n",
       "      <th></th>\n",
       "      <th>count</th>\n",
       "      <th>unique</th>\n",
       "      <th>%nan</th>\n",
       "      <th>value0</th>\n",
       "      <th>value1</th>\n",
       "      <th>value2</th>\n",
       "      <th>value3</th>\n",
       "      <th>value4</th>\n",
       "      <th>%value0</th>\n",
       "      <th>%value1</th>\n",
       "      <th>%value2</th>\n",
       "      <th>%value3</th>\n",
       "      <th>%value4</th>\n",
       "    </tr>\n",
       "    <tr>\n",
       "      <th>var</th>\n",
       "      <th></th>\n",
       "      <th></th>\n",
       "      <th></th>\n",
       "      <th></th>\n",
       "      <th></th>\n",
       "      <th></th>\n",
       "      <th></th>\n",
       "      <th></th>\n",
       "      <th></th>\n",
       "      <th></th>\n",
       "      <th></th>\n",
       "      <th></th>\n",
       "      <th></th>\n",
       "    </tr>\n",
       "  </thead>\n",
       "  <tbody>\n",
       "    <tr>\n",
       "      <th>class</th>\n",
       "      <td>150</td>\n",
       "      <td>3</td>\n",
       "      <td>0.0</td>\n",
       "      <td>versicolor</td>\n",
       "      <td>setosa</td>\n",
       "      <td>virginica</td>\n",
       "      <td>NaN</td>\n",
       "      <td>NaN</td>\n",
       "      <td>33.333333</td>\n",
       "      <td>33.333333</td>\n",
       "      <td>33.333333</td>\n",
       "      <td>NaN</td>\n",
       "      <td>NaN</td>\n",
       "    </tr>\n",
       "  </tbody>\n",
       "</table>\n",
       "</div>"
      ],
      "text/plain": [
       "      count unique  %nan      value0  value1     value2  value3  value4  \\\n",
       "var                                                                       \n",
       "class   150      3   0.0  versicolor  setosa  virginica     NaN     NaN   \n",
       "\n",
       "         %value0    %value1    %value2  %value3  %value4  \n",
       "var                                                       \n",
       "class  33.333333  33.333333  33.333333      NaN      NaN  "
      ]
     },
     "execution_count": 6,
     "metadata": {},
     "output_type": "execute_result"
    }
   ],
   "source": [
    "## add categories percenets\n",
    "\n",
    "# maximum number of categories to be showed\n",
    "max_size_cats = 5\n",
    "# set columns\n",
    "col_temp = ['var'] + ['value{}'.format(i) for i in range(max_size_cats)] + ['%value{}'.format(i) for i in range(max_size_cats)]\n",
    "# initialize\n",
    "values_temp = list()\n",
    "# loop of variables\n",
    "for col in cols_cat_alias:\n",
    "    # count categories\n",
    "    temp = data[col].value_counts(normalize=True,sort=True,ascending=False)*100.\n",
    "    # collect values and names\n",
    "    c = temp.index.values\n",
    "    v = temp.values\n",
    "    # resize\n",
    "    if len(v) > max_size_cats:\n",
    "        v = np.append(v[:max_size_cats-1], np.sum(v[-(max_size_cats):]))\n",
    "        c = np.append(c[:max_size_cats-1], 'others')\n",
    "    else:\n",
    "        v = np.pad(v,(0, max_size_cats-len(v)), 'constant', constant_values=np.nan)\n",
    "        c = np.pad(c,(0, max_size_cats-len(c)), 'constant', constant_values=np.nan)\n",
    "    # append    \n",
    "    values_temp.append([col] + list(np.append(c,v)))\n",
    "# add new information\n",
    "dfc = pd.concat([dfc, pd.DataFrame(values_temp, columns = col_temp).set_index('var')], axis = 1)\n",
    "# rename index\n",
    "dfc.index = dfc.index.map(dcols_cat_alias_to_name)\n",
    "dfc"
   ]
  },
  {
   "cell_type": "markdown",
   "id": "macro-stereo",
   "metadata": {},
   "source": [
    "# causality\n",
    "\n",
    "Ver si el aumento de una variable provoca un aumento/disminucion regular de la otra variable mediante la distribuciones de pendientes."
   ]
  },
  {
   "cell_type": "code",
   "execution_count": 7,
   "id": "specific-captain",
   "metadata": {},
   "outputs": [
    {
     "data": {
      "image/png": "[encoded data removed]",
      "text/plain": [
       "<Figure size 432x288 with 1 Axes>"
      ]
     },
     "metadata": {
      "needs_background": "light"
     },
     "output_type": "display_data"
    }
   ],
   "source": [
    "# columns selection\n",
    "x1_col = cols_num_alias[2]\n",
    "x2_col = cols_num_alias[3]\n",
    "# collect data\n",
    "df = data[[x1_col, x2_col]]\n",
    "# descending sort of the first column\n",
    "df.sort_values(x1_col, inplace = True)\n",
    "# calculate difference between rows\n",
    "df = df.diff(axis = 0).dropna()\n",
    "# calculate sloples\n",
    "df['slope'] = df[x2_col] / df[x1_col]\n",
    "# remove inf values\n",
    "df.replace([np.inf, -np.inf], np.nan, inplace=True)\n",
    "df.dropna(inplace = True)\n",
    "# plot histogram\n",
    "stitle = '\"{}\"-\"{}\"\\n median = {:.3f} / std = {:.3f} / num = {}'.format(dcols_num_alias_to_name[x1_col], \n",
    "                                                                       dcols_num_alias_to_name[x2_col], \n",
    "                                                                       np.median(df.slope.values), \n",
    "                                                                       np.std(df.slope.values), \n",
    "                                                                       len(df.slope.values))\n",
    "import matplotlib.pyplot as plt\n",
    "fig, ax = plt.subplots()\n",
    "df.slope.plot(kind = 'hist', bins = 20, title = stitle)\n",
    "plt.show()"
   ]
  },
  {
   "cell_type": "markdown",
   "id": "economic-bonus",
   "metadata": {},
   "source": [
    "# identificacion de heterogeneidad"
   ]
  },
  {
   "cell_type": "markdown",
   "id": "sufficient-whole",
   "metadata": {},
   "source": [
    "### prueba 1: deberia identificarse heterogeneidad"
   ]
  },
  {
   "cell_type": "code",
   "execution_count": 55,
   "id": "spanish-eligibility",
   "metadata": {},
   "outputs": [],
   "source": [
    "col_num = dcols_num_name_to_alias['petal length (cm)']\n",
    "col_cat = dcols_cat_name_to_alias['class']"
   ]
  },
  {
   "cell_type": "code",
   "execution_count": 56,
   "id": "massive-thumbnail",
   "metadata": {},
   "outputs": [],
   "source": [
    "data[col_cat].unique()\n",
    "\n",
    "v1 = data[data[col_cat] == 'setosa'][col_num].values\n",
    "v2 = data[data[col_cat] == 'versicolor'][col_num].values\n",
    "v3 = data[data[col_cat] == 'virginica'][col_num].values"
   ]
  },
  {
   "cell_type": "code",
   "execution_count": 57,
   "id": "valid-smooth",
   "metadata": {},
   "outputs": [
    {
     "data": {
      "text/plain": [
       "(WilcoxonResult(statistic=0.0, pvalue=7.502426705110604e-10),\n",
       " WilcoxonResult(statistic=0.0, pvalue=7.463471219275886e-10),\n",
       " WilcoxonResult(statistic=3.5, pvalue=2.0099446980338513e-09))"
      ]
     },
     "execution_count": 57,
     "metadata": {},
     "output_type": "execute_result"
    }
   ],
   "source": [
    "from scipy.stats import wilcoxon\n",
    "wilcoxon(v1, v2), wilcoxon(v1, v3), wilcoxon(v2, v3)"
   ]
  },
  {
   "cell_type": "markdown",
   "id": "induced-oasis",
   "metadata": {},
   "source": [
    "### prueba 2: 2 samples de una misma distribucion normal (homegeneidad)"
   ]
  },
  {
   "cell_type": "code",
   "execution_count": 30,
   "id": "authorized-bankruptcy",
   "metadata": {},
   "outputs": [],
   "source": [
    "mu = 0; sigma = .1\n",
    "v1 = np.random.normal(mu, sigma, 100)\n",
    "v2 = np.random.normal(mu, sigma, 100)"
   ]
  },
  {
   "cell_type": "code",
   "execution_count": 33,
   "id": "guilty-aurora",
   "metadata": {},
   "outputs": [
    {
     "data": {
      "text/plain": [
       "WilcoxonResult(statistic=2414.0, pvalue=0.7027179816787763)"
      ]
     },
     "execution_count": 33,
     "metadata": {},
     "output_type": "execute_result"
    }
   ],
   "source": [
    "from scipy.stats import wilcoxon\n",
    "wilcoxon(v1, v2)"
   ]
  },
  {
   "cell_type": "markdown",
   "id": "antique-final",
   "metadata": {},
   "source": [
    "### prueba 3: 2 samples de dos distribuciones normales muy parecidas pero no iguales (heterogeneidad)"
   ]
  },
  {
   "cell_type": "code",
   "execution_count": 50,
   "id": "rocky-hearts",
   "metadata": {},
   "outputs": [],
   "source": [
    "mu1 = 0; sigma1 = .1\n",
    "mu2 = 0.05; sigma2 = .1\n",
    "v1 = np.random.normal(mu1, sigma1, 1000)\n",
    "v2 = np.random.normal(mu2, sigma2, 1000)"
   ]
  },
  {
   "cell_type": "code",
   "execution_count": 51,
   "id": "enabling-school",
   "metadata": {},
   "outputs": [
    {
     "data": {
      "text/plain": [
       "WilcoxonResult(statistic=151773.0, pvalue=4.300750285140127e-27)"
      ]
     },
     "execution_count": 51,
     "metadata": {},
     "output_type": "execute_result"
    }
   ],
   "source": [
    "from scipy.stats import wilcoxon\n",
    "wilcoxon(v1, v2)"
   ]
  },
  {
   "cell_type": "code",
   "execution_count": null,
   "id": "enhanced-sapphire",
   "metadata": {},
   "outputs": [],
   "source": []
  }
 ],
 "metadata": {
  "kernelspec": {
   "display_name": "analysis",
   "language": "python",
   "name": "analysis"
  },
  "language_info": {
   "codemirror_mode": {
    "name": "ipython",
    "version": 3
   },
   "file_extension": ".py",
   "mimetype": "text/x-python",
   "name": "python",
   "nbconvert_exporter": "python",
   "pygments_lexer": "ipython3",
   "version": "3.7.0"
  }
 },
 "nbformat": 4,
 "nbformat_minor": 5
}
