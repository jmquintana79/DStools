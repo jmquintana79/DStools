{
 "cells": [
  {
   "cell_type": "markdown",
   "id": "invalid-imaging",
   "metadata": {},
   "source": [
    "# EDA: basic\n",
    "\n",
    "- Descriptive analysis.\n",
    "- Causality between two numerical variables.\n",
    "- Identifaing heterogeneity in a variable using samples of the same variable and Wilcoxon test.\n",
    "- Decission tree to automatic analysis."
   ]
  },
  {
   "cell_type": "code",
   "execution_count": 1,
   "id": "plain-pickup",
   "metadata": {},
   "outputs": [],
   "source": [
    "%matplotlib inline\n",
    "import warnings\n",
    "warnings.filterwarnings('ignore')\n",
    "from sklearn.datasets import load_iris\n",
    "import pandas as pd\n",
    "import numpy as np\n",
    "from scipy.stats import kurtosis\n",
    "from scipy.stats import skew"
   ]
  },
  {
   "cell_type": "markdown",
   "id": "looking-thesaurus",
   "metadata": {},
   "source": [
    "## load data"
   ]
  },
  {
   "cell_type": "code",
   "execution_count": 2,
   "id": "reduced-grade",
   "metadata": {},
   "outputs": [],
   "source": [
    "# load dataset\n",
    "dataset = load_iris()\n",
    "dataset.keys()\n",
    "# dataset to df\n",
    "data = pd.DataFrame(dataset.data, columns = dataset.feature_names)\n",
    "data['class'] = dataset.target\n",
    "dclass = dict()\n",
    "for i, ic in enumerate(dataset.target_names):\n",
    "    dclass[i] = ic\n",
    "data['class'] = data['class'].map(dclass)"
   ]
  },
  {
   "cell_type": "markdown",
   "id": "chinese-colorado",
   "metadata": {},
   "source": [
    "## df format"
   ]
  },
  {
   "cell_type": "code",
   "execution_count": 3,
   "id": "another-beijing",
   "metadata": {},
   "outputs": [],
   "source": [
    "# check what columns are NUMERICAL or CATEGORICAL\n",
    "cols_num = data.select_dtypes(include=['float64', 'int64']).columns.values  # numerical columns\n",
    "cols_cat = data.select_dtypes(include=['object']).columns.values            # categorical columns\n",
    "# columns name converters: numerical\n",
    "dcols_num_name_to_alias = dict()\n",
    "dcols_num_alias_to_name = dict()\n",
    "for i, ic in enumerate(cols_num):\n",
    "    dcols_num_name_to_alias[ic] = 'n{}'.format(i)\n",
    "    dcols_num_alias_to_name['n{}'.format(i)] = ic\n",
    "# columns name converters: categorical\n",
    "dcols_cat_name_to_alias = dict()\n",
    "dcols_cat_alias_to_name = dict()\n",
    "for i, ic in enumerate(cols_cat):\n",
    "    dcols_cat_name_to_alias[ic] = 'c{}'.format(i)\n",
    "    dcols_cat_alias_to_name['c{}'.format(i)] = ic\n",
    "# rename columns\n",
    "data.rename(columns = dcols_num_name_to_alias, inplace = True)\n",
    "data.rename(columns = dcols_cat_name_to_alias, inplace = True)\n",
    "# list of alias\n",
    "cols_num_alias = list(dcols_num_name_to_alias.values())\n",
    "cols_cat_alias = list(dcols_cat_name_to_alias.values())"
   ]
  },
  {
   "cell_type": "markdown",
   "id": "stuck-polyester",
   "metadata": {},
   "source": [
    "# descriptive analysis"
   ]
  },
  {
   "cell_type": "markdown",
   "id": "unlikely-founder",
   "metadata": {},
   "source": [
    "### numerical"
   ]
  },
  {
   "cell_type": "code",
   "execution_count": 4,
   "id": "ignored-proof",
   "metadata": {},
   "outputs": [
    {
     "data": {
      "text/html": [
       "<div>\n",
       "<style scoped>\n",
       "    .dataframe tbody tr th:only-of-type {\n",
       "        vertical-align: middle;\n",
       "    }\n",
       "\n",
       "    .dataframe tbody tr th {\n",
       "        vertical-align: top;\n",
       "    }\n",
       "\n",
       "    .dataframe thead th {\n",
       "        text-align: right;\n",
       "    }\n",
       "</style>\n",
       "<table border=\"1\" class=\"dataframe\">\n",
       "  <thead>\n",
       "    <tr style=\"text-align: right;\">\n",
       "      <th></th>\n",
       "      <th>count</th>\n",
       "      <th>mean</th>\n",
       "      <th>std</th>\n",
       "      <th>min</th>\n",
       "      <th>5%</th>\n",
       "      <th>25%</th>\n",
       "      <th>50%</th>\n",
       "      <th>75%</th>\n",
       "      <th>95%</th>\n",
       "      <th>max</th>\n",
       "      <th>%nan</th>\n",
       "      <th>kurtosis</th>\n",
       "      <th>skew</th>\n",
       "    </tr>\n",
       "  </thead>\n",
       "  <tbody>\n",
       "    <tr>\n",
       "      <th>sepal length (cm)</th>\n",
       "      <td>150.0</td>\n",
       "      <td>5.843333</td>\n",
       "      <td>0.828066</td>\n",
       "      <td>4.3</td>\n",
       "      <td>4.600</td>\n",
       "      <td>5.1</td>\n",
       "      <td>5.80</td>\n",
       "      <td>6.4</td>\n",
       "      <td>7.255</td>\n",
       "      <td>7.9</td>\n",
       "      <td>0.0</td>\n",
       "      <td>-0.573568</td>\n",
       "      <td>0.311753</td>\n",
       "    </tr>\n",
       "    <tr>\n",
       "      <th>sepal width (cm)</th>\n",
       "      <td>150.0</td>\n",
       "      <td>3.057333</td>\n",
       "      <td>0.435866</td>\n",
       "      <td>2.0</td>\n",
       "      <td>2.345</td>\n",
       "      <td>2.8</td>\n",
       "      <td>3.00</td>\n",
       "      <td>3.3</td>\n",
       "      <td>3.800</td>\n",
       "      <td>4.4</td>\n",
       "      <td>0.0</td>\n",
       "      <td>0.180976</td>\n",
       "      <td>0.315767</td>\n",
       "    </tr>\n",
       "    <tr>\n",
       "      <th>petal length (cm)</th>\n",
       "      <td>150.0</td>\n",
       "      <td>3.758000</td>\n",
       "      <td>1.765298</td>\n",
       "      <td>1.0</td>\n",
       "      <td>1.300</td>\n",
       "      <td>1.6</td>\n",
       "      <td>4.35</td>\n",
       "      <td>5.1</td>\n",
       "      <td>6.100</td>\n",
       "      <td>6.9</td>\n",
       "      <td>0.0</td>\n",
       "      <td>-1.395536</td>\n",
       "      <td>-0.272128</td>\n",
       "    </tr>\n",
       "    <tr>\n",
       "      <th>petal width (cm)</th>\n",
       "      <td>150.0</td>\n",
       "      <td>1.199333</td>\n",
       "      <td>0.762238</td>\n",
       "      <td>0.1</td>\n",
       "      <td>0.200</td>\n",
       "      <td>0.3</td>\n",
       "      <td>1.30</td>\n",
       "      <td>1.8</td>\n",
       "      <td>2.300</td>\n",
       "      <td>2.5</td>\n",
       "      <td>0.0</td>\n",
       "      <td>-1.336067</td>\n",
       "      <td>-0.101934</td>\n",
       "    </tr>\n",
       "  </tbody>\n",
       "</table>\n",
       "</div>"
      ],
      "text/plain": [
       "                   count      mean       std  min     5%  25%   50%  75%  \\\n",
       "sepal length (cm)  150.0  5.843333  0.828066  4.3  4.600  5.1  5.80  6.4   \n",
       "sepal width (cm)   150.0  3.057333  0.435866  2.0  2.345  2.8  3.00  3.3   \n",
       "petal length (cm)  150.0  3.758000  1.765298  1.0  1.300  1.6  4.35  5.1   \n",
       "petal width (cm)   150.0  1.199333  0.762238  0.1  0.200  0.3  1.30  1.8   \n",
       "\n",
       "                     95%  max  %nan  kurtosis      skew  \n",
       "sepal length (cm)  7.255  7.9   0.0 -0.573568  0.311753  \n",
       "sepal width (cm)   3.800  4.4   0.0  0.180976  0.315767  \n",
       "petal length (cm)  6.100  6.9   0.0 -1.395536 -0.272128  \n",
       "petal width (cm)   2.300  2.5   0.0 -1.336067 -0.101934  "
      ]
     },
     "execution_count": 4,
     "metadata": {},
     "output_type": "execute_result"
    }
   ],
   "source": [
    "# describe\n",
    "dfn = data[cols_num_alias].describe(include = 'all', percentiles = [.05, .25, .5, .75, .95]).T\n",
    "# add percent of nan values\n",
    "dfn['%nan'] = (data[cols_num_alias].isnull().sum()*100 / len(data)).values\n",
    "# kurtosis\n",
    "dfn['kurtosis'] = kurtosis(data[cols_num_alias])\n",
    "# skew\n",
    "dfn['skew'] = skew(data[cols_num_alias])\n",
    "# rename index\n",
    "dfn.index = dfn.index.map(dcols_num_alias_to_name)\n",
    "dfn"
   ]
  },
  {
   "cell_type": "markdown",
   "id": "aerial-following",
   "metadata": {},
   "source": [
    "### categorical"
   ]
  },
  {
   "cell_type": "code",
   "execution_count": 5,
   "id": "liable-count",
   "metadata": {},
   "outputs": [],
   "source": [
    "# describe\n",
    "dfc = data[cols_cat_alias].describe(include = 'all').T[['count', 'unique']]\n",
    "# add percent of nan values\n",
    "dfc['%nan'] = (data[cols_cat_alias].isnull().sum()*100 / len(data)).values"
   ]
  },
  {
   "cell_type": "code",
   "execution_count": 6,
   "id": "offensive-sweden",
   "metadata": {},
   "outputs": [
    {
     "data": {
      "text/html": [
       "<div>\n",
       "<style scoped>\n",
       "    .dataframe tbody tr th:only-of-type {\n",
       "        vertical-align: middle;\n",
       "    }\n",
       "\n",
       "    .dataframe tbody tr th {\n",
       "        vertical-align: top;\n",
       "    }\n",
       "\n",
       "    .dataframe thead th {\n",
       "        text-align: right;\n",
       "    }\n",
       "</style>\n",
       "<table border=\"1\" class=\"dataframe\">\n",
       "  <thead>\n",
       "    <tr style=\"text-align: right;\">\n",
       "      <th></th>\n",
       "      <th>count</th>\n",
       "      <th>unique</th>\n",
       "      <th>%nan</th>\n",
       "      <th>value0</th>\n",
       "      <th>value1</th>\n",
       "      <th>value2</th>\n",
       "      <th>value3</th>\n",
       "      <th>value4</th>\n",
       "      <th>%value0</th>\n",
       "      <th>%value1</th>\n",
       "      <th>%value2</th>\n",
       "      <th>%value3</th>\n",
       "      <th>%value4</th>\n",
       "    </tr>\n",
       "    <tr>\n",
       "      <th>var</th>\n",
       "      <th></th>\n",
       "      <th></th>\n",
       "      <th></th>\n",
       "      <th></th>\n",
       "      <th></th>\n",
       "      <th></th>\n",
       "      <th></th>\n",
       "      <th></th>\n",
       "      <th></th>\n",
       "      <th></th>\n",
       "      <th></th>\n",
       "      <th></th>\n",
       "      <th></th>\n",
       "    </tr>\n",
       "  </thead>\n",
       "  <tbody>\n",
       "    <tr>\n",
       "      <th>class</th>\n",
       "      <td>150</td>\n",
       "      <td>3</td>\n",
       "      <td>0.0</td>\n",
       "      <td>virginica</td>\n",
       "      <td>setosa</td>\n",
       "      <td>versicolor</td>\n",
       "      <td>NaN</td>\n",
       "      <td>NaN</td>\n",
       "      <td>33.333333</td>\n",
       "      <td>33.333333</td>\n",
       "      <td>33.333333</td>\n",
       "      <td>NaN</td>\n",
       "      <td>NaN</td>\n",
       "    </tr>\n",
       "  </tbody>\n",
       "</table>\n",
       "</div>"
      ],
      "text/plain": [
       "      count unique  %nan     value0  value1      value2  value3  value4  \\\n",
       "var                                                                       \n",
       "class   150      3   0.0  virginica  setosa  versicolor     NaN     NaN   \n",
       "\n",
       "         %value0    %value1    %value2  %value3  %value4  \n",
       "var                                                       \n",
       "class  33.333333  33.333333  33.333333      NaN      NaN  "
      ]
     },
     "execution_count": 6,
     "metadata": {},
     "output_type": "execute_result"
    }
   ],
   "source": [
    "## add categories percenets\n",
    "\n",
    "# maximum number of categories to be showed\n",
    "max_size_cats = 5\n",
    "# set columns\n",
    "col_temp = ['var'] + ['value{}'.format(i) for i in range(max_size_cats)] + ['%value{}'.format(i) for i in range(max_size_cats)]\n",
    "# initialize\n",
    "values_temp = list()\n",
    "# loop of variables\n",
    "for col in cols_cat_alias:\n",
    "    # count categories\n",
    "    temp = data[col].value_counts(normalize=True,sort=True,ascending=False)*100.\n",
    "    # collect values and names\n",
    "    c = temp.index.values\n",
    "    v = temp.values\n",
    "    # resize\n",
    "    if len(v) > max_size_cats:\n",
    "        v = np.append(v[:max_size_cats-1], np.sum(v[-(max_size_cats):]))\n",
    "        c = np.append(c[:max_size_cats-1], 'others')\n",
    "    else:\n",
    "        v = np.pad(v,(0, max_size_cats-len(v)), 'constant', constant_values=np.nan)\n",
    "        c = np.pad(c,(0, max_size_cats-len(c)), 'constant', constant_values=np.nan)\n",
    "    # append    \n",
    "    values_temp.append([col] + list(np.append(c,v)))\n",
    "# add new information\n",
    "dfc = pd.concat([dfc, pd.DataFrame(values_temp, columns = col_temp).set_index('var')], axis = 1)\n",
    "# rename index\n",
    "dfc.index = dfc.index.map(dcols_cat_alias_to_name)\n",
    "dfc"
   ]
  },
  {
   "cell_type": "markdown",
   "id": "macro-stereo",
   "metadata": {},
   "source": [
    "# MONOTONIC RELATIONSHIP (non-parametric tests)\n",
    "\n",
    "Tests whether two samples have a monotonic relationship.\n",
    "\n",
    "## Spearman's / Kendall's Rank Correlation Test\n",
    "\n",
    "### Assumptions\n",
    "\n",
    "- Observations in each sample are independent and identically distributed (iid).\n",
    "- Observations in each sample can be ranked.\n",
    "\n",
    "### Interpretation\n",
    "\n",
    "- H0: the two samples are independent.\n",
    "- H1: there is a dependency between the samples.\n",
    "\n",
    "### References\n",
    "\n",
    "- [MLMastery: 17 Statistical Hypothesis Tests in Python (Cheat Sheet)](https://machinelearningmastery.com/statistical-hypothesis-tests-in-python-cheat-sheet/)"
   ]
  },
  {
   "cell_type": "code",
   "execution_count": 12,
   "id": "5e2fe98f",
   "metadata": {},
   "outputs": [],
   "source": [
    "# columns selection\n",
    "x1_col = cols_num_alias[2]\n",
    "x2_col = cols_num_alias[3]\n",
    "# collect data\n",
    "df = data[[x1_col, x2_col]]\n",
    "data1 = df[x1_col].values\n",
    "data2 = df[x2_col].values"
   ]
  },
  {
   "cell_type": "code",
   "execution_count": 13,
   "id": "9f50f74e",
   "metadata": {},
   "outputs": [
    {
     "name": "stdout",
     "output_type": "stream",
     "text": [
      "stat=0.938, p=0.00000\n",
      "Probably dependent\n"
     ]
    }
   ],
   "source": [
    "# Example of the Spearman's Rank Correlation Test\n",
    "from scipy.stats import spearmanr\n",
    "\n",
    "stat, p = spearmanr(data1, data2)\n",
    "print('stat=%.3f, p=%.5f' % (stat, p))\n",
    "if p > 0.05:\n",
    "    print('Probably independent')\n",
    "else:\n",
    "    print('Probably dependent')"
   ]
  },
  {
   "cell_type": "code",
   "execution_count": 15,
   "id": "dffa51be",
   "metadata": {},
   "outputs": [
    {
     "name": "stdout",
     "output_type": "stream",
     "text": [
      "stat=0.807, p=0.00000\n",
      "Probably dependent\n"
     ]
    }
   ],
   "source": [
    "# Example of the Kendall's Rank Correlation Test\n",
    "from scipy.stats import kendalltau\n",
    "stat, p = kendalltau(data1, data2)\n",
    "print('stat=%.3f, p=%.5f' % (stat, p))\n",
    "if p > 0.05:\n",
    "    print('Probably independent')\n",
    "else:\n",
    "    print('Probably dependent')"
   ]
  },
  {
   "cell_type": "code",
   "execution_count": 16,
   "id": "2342bc8b",
   "metadata": {},
   "outputs": [
    {
     "data": {
      "text/plain": [
       "<AxesSubplot:xlabel='n2', ylabel='n3'>"
      ]
     },
     "execution_count": 16,
     "metadata": {},
     "output_type": "execute_result"
    },
    {
     "data": {
      "image/png": "[encoded data removed]",
      "text/plain": [
       "<Figure size 432x288 with 1 Axes>"
      ]
     },
     "metadata": {
      "needs_background": "light"
     },
     "output_type": "display_data"
    }
   ],
   "source": [
    "df.plot(kind = 'scatter', x = x1_col, y = x2_col)"
   ]
  },
  {
   "cell_type": "markdown",
   "id": "c08b2271",
   "metadata": {},
   "source": [
    "# IDENTIFICACION DE HETEROGENEIDAD (non-parametric test for non-paired samples)\n",
    "\n",
    "## Kruskal-Wallis H Test\n",
    "\n",
    "Tests whether the distributions of **two or more** independent samples are equal or not.\n",
    "\n",
    "### Assumptions\n",
    "\n",
    "- Observations in each sample are independent and identically distributed (iid).\n",
    "- Observations in each sample can be ranked.\n",
    "\n",
    "### Interpretation\n",
    "\n",
    "- H0: the distributions of all samples are equal.\n",
    "- H1: the distributions of one or more samples are not equal.\n"
   ]
  },
  {
   "cell_type": "code",
   "execution_count": 44,
   "id": "42350c1b",
   "metadata": {},
   "outputs": [],
   "source": [
    "def test_kruskal2(data1, data2):\n",
    "    from scipy.stats import kruskal\n",
    "    stat, p = kruskal(data1, data2)\n",
    "    print('stat=%.3f, p=%.3f' % (stat, p))\n",
    "    if p > 0.05:\n",
    "        print('Probably the same distribution')\n",
    "    else:\n",
    "        print('Probably different distributions')\n",
    "        \n",
    "def test_kruskal3(data1, data2, data3):\n",
    "    from scipy.stats import kruskal\n",
    "    stat, p = kruskal(data1, data2, data3)\n",
    "    print('stat=%.3f, p=%.3f' % (stat, p))\n",
    "    if p > 0.05:\n",
    "        print('Probably the same distribution')\n",
    "    else:\n",
    "        print('Probably different distributions')"
   ]
  },
  {
   "cell_type": "markdown",
   "id": "fca6c9f1",
   "metadata": {},
   "source": [
    "### prueba 1: deberia identificarse heterogeneidad"
   ]
  },
  {
   "cell_type": "code",
   "execution_count": 40,
   "id": "fc3d2ad0",
   "metadata": {},
   "outputs": [],
   "source": [
    "col_num = dcols_num_name_to_alias['petal length (cm)']\n",
    "col_cat = dcols_cat_name_to_alias['class']\n",
    "\n",
    "v1 = data[data[col_cat] == 'setosa'][col_num].values\n",
    "v2 = data[data[col_cat] == 'versicolor'][col_num].values\n",
    "v3 = data[data[col_cat] == 'virginica'][col_num].values"
   ]
  },
  {
   "cell_type": "code",
   "execution_count": 41,
   "id": "1acc3a34",
   "metadata": {},
   "outputs": [
    {
     "name": "stdout",
     "output_type": "stream",
     "text": [
      "stat=74.699, p=0.000\n",
      "Probably different distributions\n"
     ]
    }
   ],
   "source": [
    "test_kruskal2(v1, v2)"
   ]
  },
  {
   "cell_type": "code",
   "execution_count": 42,
   "id": "86d76a8a",
   "metadata": {},
   "outputs": [
    {
     "name": "stdout",
     "output_type": "stream",
     "text": [
      "stat=74.694, p=0.000\n",
      "Probably different distributions\n"
     ]
    }
   ],
   "source": [
    "test_kruskal2(v1, v3)"
   ]
  },
  {
   "cell_type": "code",
   "execution_count": 43,
   "id": "16c0f840",
   "metadata": {},
   "outputs": [
    {
     "name": "stdout",
     "output_type": "stream",
     "text": [
      "stat=69.206, p=0.000\n",
      "Probably different distributions\n"
     ]
    }
   ],
   "source": [
    "test_kruskal2(v2, v3)"
   ]
  },
  {
   "cell_type": "code",
   "execution_count": 45,
   "id": "0a4df470",
   "metadata": {},
   "outputs": [
    {
     "name": "stdout",
     "output_type": "stream",
     "text": [
      "stat=130.411, p=0.000\n",
      "Probably different distributions\n"
     ]
    }
   ],
   "source": [
    "test_kruskal3(v1, v2, v3)"
   ]
  },
  {
   "cell_type": "markdown",
   "id": "bea85885",
   "metadata": {},
   "source": [
    "### prueba 2: no deberia identificarse heterogeneidad"
   ]
  },
  {
   "cell_type": "code",
   "execution_count": 50,
   "id": "cf7ce8ec",
   "metadata": {},
   "outputs": [
    {
     "data": {
      "text/plain": [
       "((600,), (400,))"
      ]
     },
     "execution_count": 50,
     "metadata": {},
     "output_type": "execute_result"
    }
   ],
   "source": [
    "mu = 0; sigma = .1\n",
    "v = np.random.normal(mu, sigma, 1000)\n",
    "v1 = v[:600]\n",
    "v2 = v[600:]\n",
    "v1.shape, v2.shape"
   ]
  },
  {
   "cell_type": "code",
   "execution_count": 51,
   "id": "27b39038",
   "metadata": {},
   "outputs": [
    {
     "name": "stdout",
     "output_type": "stream",
     "text": [
      "stat=0.621, p=0.431\n",
      "Probably the same distribution\n"
     ]
    }
   ],
   "source": [
    "test_kruskal2(v1, v2)"
   ]
  },
  {
   "cell_type": "markdown",
   "id": "economic-bonus",
   "metadata": {},
   "source": [
    "# TEST IF SAME DISTRIBUTION (non-parametric test for paired samples)\n",
    "\n",
    "## Wilcoxon Signed-Rank Test\n",
    "\n",
    "Tests whether the distributions of two paired samples are equal or not.\n",
    "\n",
    "### Assumptions\n",
    "\n",
    "- Observations in each sample are independent and identically distributed (iid).\n",
    "- Observations in each sample can be ranked.\n",
    "- Observations across each sample are paired.\n",
    "\n",
    "### Interpretation\n",
    "\n",
    "- H0: the distributions of both samples are equal.\n",
    "- H1: the distributions of both samples are not equal.\n",
    "\n",
    "### References\n",
    "\n",
    "- [MLMastery: 17 Statistical Hypothesis Tests in Python (Cheat Sheet)](https://machinelearningmastery.com/statistical-hypothesis-tests-in-python-cheat-sheet/)"
   ]
  },
  {
   "cell_type": "code",
   "execution_count": 17,
   "id": "2dd12693",
   "metadata": {},
   "outputs": [],
   "source": [
    "# Example of the Wilcoxon Signed-Rank Test\n",
    "def test_wilcoxon(data1:np.array, data2:np.array):\n",
    "    from scipy.stats import wilcoxon\n",
    "    stat, p = wilcoxon(data1, data2)\n",
    "    print('stat=%.5f, p=%.5f' % (stat, p))\n",
    "    if p > 0.05:\n",
    "        print('Probably the same distribution')\n",
    "    else:\n",
    "        print('Probably different distributions')"
   ]
  },
  {
   "cell_type": "markdown",
   "id": "induced-oasis",
   "metadata": {},
   "source": [
    "### prueba 1: 2 samples de una misma distribucion normal (homegeneidad)"
   ]
  },
  {
   "cell_type": "code",
   "execution_count": 28,
   "id": "authorized-bankruptcy",
   "metadata": {},
   "outputs": [],
   "source": [
    "mu = 0; sigma = .1\n",
    "v1 = np.random.normal(mu, sigma, 100)\n",
    "v2 = np.random.normal(mu, sigma, 100)"
   ]
  },
  {
   "cell_type": "code",
   "execution_count": 29,
   "id": "guilty-aurora",
   "metadata": {},
   "outputs": [
    {
     "name": "stdout",
     "output_type": "stream",
     "text": [
      "stat=2310.00000, p=0.45976\n",
      "Probably the same distribution\n"
     ]
    }
   ],
   "source": [
    "test_wilcoxon(v1, v2)"
   ]
  },
  {
   "cell_type": "markdown",
   "id": "antique-final",
   "metadata": {},
   "source": [
    "### prueba 2: 2 samples de dos distribuciones normales muy parecidas pero no iguales (heterogeneidad)"
   ]
  },
  {
   "cell_type": "code",
   "execution_count": 30,
   "id": "rocky-hearts",
   "metadata": {},
   "outputs": [],
   "source": [
    "mu1 = 0; sigma1 = .1\n",
    "mu2 = 0.05; sigma2 = .1\n",
    "v1 = np.random.normal(mu1, sigma1, 1000)\n",
    "v2 = np.random.normal(mu2, sigma2, 1000)"
   ]
  },
  {
   "cell_type": "code",
   "execution_count": 31,
   "id": "enabling-school",
   "metadata": {},
   "outputs": [
    {
     "name": "stdout",
     "output_type": "stream",
     "text": [
      "stat=141390.00000, p=0.00000\n",
      "Probably different distributions\n"
     ]
    }
   ],
   "source": [
    "test_wilcoxon(v1, v2)"
   ]
  },
  {
   "cell_type": "markdown",
   "id": "cf80bcfe",
   "metadata": {},
   "source": [
    "# Decission Tree for automatic analysis\n",
    "\n",
    "https://scikit-learn.org/stable/modules/tree.html#tree"
   ]
  },
  {
   "cell_type": "code",
   "execution_count": 65,
   "id": "5a646b0a",
   "metadata": {},
   "outputs": [],
   "source": [
    "from sklearn.tree import DecisionTreeClassifier as Tree\n",
    "from sklearn import tree"
   ]
  },
  {
   "cell_type": "code",
   "execution_count": 16,
   "id": "49ef86e5",
   "metadata": {},
   "outputs": [],
   "source": [
    "# data selection\n",
    "X = data[cols_num_alias].values\n",
    "y = data[cols_cat_alias].values.ravel()"
   ]
  },
  {
   "cell_type": "code",
   "execution_count": 55,
   "id": "cfbfbf9f",
   "metadata": {},
   "outputs": [
    {
     "data": {
      "text/plain": [
       "DecisionTreeClassifier(class_weight=None, criterion='gini', max_depth=4,\n",
       "            max_features=None, max_leaf_nodes=None,\n",
       "            min_impurity_decrease=0.0, min_impurity_split=None,\n",
       "            min_samples_leaf=0.1, min_samples_split=2,\n",
       "            min_weight_fraction_leaf=0.0, presort=False, random_state=42,\n",
       "            splitter='best')"
      ]
     },
     "execution_count": 55,
     "metadata": {},
     "output_type": "execute_result"
    }
   ],
   "source": [
    "clf = Tree(max_depth =4, random_state = 42, min_samples_leaf = 0.1, criterion = \"gini\")\n",
    "clf.fit(X, y)"
   ]
  },
  {
   "cell_type": "code",
   "execution_count": 56,
   "id": "077b8395",
   "metadata": {},
   "outputs": [
    {
     "data": {
      "text/plain": [
       "'c0'"
      ]
     },
     "execution_count": 56,
     "metadata": {},
     "output_type": "execute_result"
    }
   ],
   "source": [
    "cols_cat_alias[0]"
   ]
  },
  {
   "cell_type": "code",
   "execution_count": 62,
   "id": "b21b0948",
   "metadata": {},
   "outputs": [],
   "source": [
    "dot_data = tree.export_graphviz(clf, out_file=None, \n",
    "                                feature_names=cols_num, \n",
    "                                class_names=dataset.target_names,\n",
    "                                filled=True)"
   ]
  },
  {
   "cell_type": "code",
   "execution_count": 63,
   "id": "4a6a0b14",
   "metadata": {},
   "outputs": [
    {
     "data": {
      "image/svg+xml": [
       "<?xml version=\"1.0\" encoding=\"UTF-8\" standalone=\"no\"?>\n",
       "<!DOCTYPE svg PUBLIC \"-//W3C//DTD SVG 1.1//EN\"\n",
       " \"http://www.w3.org/Graphics/SVG/1.1/DTD/svg11.dtd\">\n",
       "<!-- Generated by graphviz version 2.40.1 (20161225.0304)\n",
       " -->\n",
       "<!-- Title: Tree Pages: 1 -->\n",
       "<svg width=\"541pt\" height=\"433pt\"\n",
       " viewBox=\"0.00 0.00 541.00 433.00\" xmlns=\"http://www.w3.org/2000/svg\" xmlns:xlink=\"http://www.w3.org/1999/xlink\">\n",
       "<g id=\"graph0\" class=\"graph\" transform=\"scale(1 1) rotate(0) translate(4 429)\">\n",
       "<title>Tree</title>\n",
       "<polygon fill=\"#ffffff\" stroke=\"transparent\" points=\"-4,4 -4,-429 537,-429 537,4 -4,4\"/>\n",
       "<!-- 0 -->\n",
       "<g id=\"node1\" class=\"node\">\n",
       "<title>0</title>\n",
       "<polygon fill=\"transparent\" stroke=\"#000000\" points=\"270,-425 111,-425 111,-342 270,-342 270,-425\"/>\n",
       "<text text-anchor=\"middle\" x=\"190.5\" y=\"-409.8\" font-family=\"Times,serif\" font-size=\"14.00\" fill=\"#000000\">petal length (cm) &lt;= 2.45</text>\n",
       "<text text-anchor=\"middle\" x=\"190.5\" y=\"-394.8\" font-family=\"Times,serif\" font-size=\"14.00\" fill=\"#000000\">gini = 0.667</text>\n",
       "<text text-anchor=\"middle\" x=\"190.5\" y=\"-379.8\" font-family=\"Times,serif\" font-size=\"14.00\" fill=\"#000000\">samples = 150</text>\n",
       "<text text-anchor=\"middle\" x=\"190.5\" y=\"-364.8\" font-family=\"Times,serif\" font-size=\"14.00\" fill=\"#000000\">value = [50, 50, 50]</text>\n",
       "<text text-anchor=\"middle\" x=\"190.5\" y=\"-349.8\" font-family=\"Times,serif\" font-size=\"14.00\" fill=\"#000000\">class = setosa</text>\n",
       "</g>\n",
       "<!-- 1 -->\n",
       "<g id=\"node2\" class=\"node\">\n",
       "<title>1</title>\n",
       "<polygon fill=\"#e58139\" stroke=\"#000000\" points=\"171,-298.5 58,-298.5 58,-230.5 171,-230.5 171,-298.5\"/>\n",
       "<text text-anchor=\"middle\" x=\"114.5\" y=\"-283.3\" font-family=\"Times,serif\" font-size=\"14.00\" fill=\"#000000\">gini = 0.0</text>\n",
       "<text text-anchor=\"middle\" x=\"114.5\" y=\"-268.3\" font-family=\"Times,serif\" font-size=\"14.00\" fill=\"#000000\">samples = 50</text>\n",
       "<text text-anchor=\"middle\" x=\"114.5\" y=\"-253.3\" font-family=\"Times,serif\" font-size=\"14.00\" fill=\"#000000\">value = [50, 0, 0]</text>\n",
       "<text text-anchor=\"middle\" x=\"114.5\" y=\"-238.3\" font-family=\"Times,serif\" font-size=\"14.00\" fill=\"#000000\">class = setosa</text>\n",
       "</g>\n",
       "<!-- 0&#45;&gt;1 -->\n",
       "<g id=\"edge1\" class=\"edge\">\n",
       "<title>0&#45;&gt;1</title>\n",
       "<path fill=\"none\" stroke=\"#000000\" d=\"M163.9189,-341.8796C156.826,-330.7735 149.1479,-318.7513 142.0063,-307.5691\"/>\n",
       "<polygon fill=\"#000000\" stroke=\"#000000\" points=\"144.7477,-305.3589 136.4154,-298.8149 138.8482,-309.1267 144.7477,-305.3589\"/>\n",
       "<text text-anchor=\"middle\" x=\"131.0319\" y=\"-319.5284\" font-family=\"Times,serif\" font-size=\"14.00\" fill=\"#000000\">True</text>\n",
       "</g>\n",
       "<!-- 2 -->\n",
       "<g id=\"node3\" class=\"node\">\n",
       "<title>2</title>\n",
       "<polygon fill=\"transparent\" stroke=\"#000000\" points=\"345.5,-306 189.5,-306 189.5,-223 345.5,-223 345.5,-306\"/>\n",
       "<text text-anchor=\"middle\" x=\"267.5\" y=\"-290.8\" font-family=\"Times,serif\" font-size=\"14.00\" fill=\"#000000\">petal width (cm) &lt;= 1.75</text>\n",
       "<text text-anchor=\"middle\" x=\"267.5\" y=\"-275.8\" font-family=\"Times,serif\" font-size=\"14.00\" fill=\"#000000\">gini = 0.5</text>\n",
       "<text text-anchor=\"middle\" x=\"267.5\" y=\"-260.8\" font-family=\"Times,serif\" font-size=\"14.00\" fill=\"#000000\">samples = 100</text>\n",
       "<text text-anchor=\"middle\" x=\"267.5\" y=\"-245.8\" font-family=\"Times,serif\" font-size=\"14.00\" fill=\"#000000\">value = [0, 50, 50]</text>\n",
       "<text text-anchor=\"middle\" x=\"267.5\" y=\"-230.8\" font-family=\"Times,serif\" font-size=\"14.00\" fill=\"#000000\">class = versicolor</text>\n",
       "</g>\n",
       "<!-- 0&#45;&gt;2 -->\n",
       "<g id=\"edge2\" class=\"edge\">\n",
       "<title>0&#45;&gt;2</title>\n",
       "<path fill=\"none\" stroke=\"#000000\" d=\"M217.4309,-341.8796C223.0837,-333.1434 229.1033,-323.8404 234.9366,-314.8253\"/>\n",
       "<polygon fill=\"#000000\" stroke=\"#000000\" points=\"237.9601,-316.5952 240.4542,-306.2981 232.0831,-312.7924 237.9601,-316.5952\"/>\n",
       "<text text-anchor=\"middle\" x=\"245.6924\" y=\"-327.0431\" font-family=\"Times,serif\" font-size=\"14.00\" fill=\"#000000\">False</text>\n",
       "</g>\n",
       "<!-- 3 -->\n",
       "<g id=\"node4\" class=\"node\">\n",
       "<title>3</title>\n",
       "<polygon fill=\"#39e581\" fill-opacity=\"0.898039\" stroke=\"#000000\" points=\"258,-187 99,-187 99,-104 258,-104 258,-187\"/>\n",
       "<text text-anchor=\"middle\" x=\"178.5\" y=\"-171.8\" font-family=\"Times,serif\" font-size=\"14.00\" fill=\"#000000\">petal length (cm) &lt;= 4.45</text>\n",
       "<text text-anchor=\"middle\" x=\"178.5\" y=\"-156.8\" font-family=\"Times,serif\" font-size=\"14.00\" fill=\"#000000\">gini = 0.168</text>\n",
       "<text text-anchor=\"middle\" x=\"178.5\" y=\"-141.8\" font-family=\"Times,serif\" font-size=\"14.00\" fill=\"#000000\">samples = 54</text>\n",
       "<text text-anchor=\"middle\" x=\"178.5\" y=\"-126.8\" font-family=\"Times,serif\" font-size=\"14.00\" fill=\"#000000\">value = [0, 49, 5]</text>\n",
       "<text text-anchor=\"middle\" x=\"178.5\" y=\"-111.8\" font-family=\"Times,serif\" font-size=\"14.00\" fill=\"#000000\">class = versicolor</text>\n",
       "</g>\n",
       "<!-- 2&#45;&gt;3 -->\n",
       "<g id=\"edge3\" class=\"edge\">\n",
       "<title>2&#45;&gt;3</title>\n",
       "<path fill=\"none\" stroke=\"#000000\" d=\"M236.3721,-222.8796C229.771,-214.0534 222.7371,-204.6485 215.9298,-195.5466\"/>\n",
       "<polygon fill=\"#000000\" stroke=\"#000000\" points=\"218.5528,-193.2099 209.7607,-187.2981 212.9472,-197.4024 218.5528,-193.2099\"/>\n",
       "</g>\n",
       "<!-- 6 -->\n",
       "<g id=\"node7\" class=\"node\">\n",
       "<title>6</title>\n",
       "<polygon fill=\"#8139e5\" fill-opacity=\"0.976471\" stroke=\"#000000\" points=\"437,-187 276,-187 276,-104 437,-104 437,-187\"/>\n",
       "<text text-anchor=\"middle\" x=\"356.5\" y=\"-171.8\" font-family=\"Times,serif\" font-size=\"14.00\" fill=\"#000000\">sepal length (cm) &lt;= 6.35</text>\n",
       "<text text-anchor=\"middle\" x=\"356.5\" y=\"-156.8\" font-family=\"Times,serif\" font-size=\"14.00\" fill=\"#000000\">gini = 0.043</text>\n",
       "<text text-anchor=\"middle\" x=\"356.5\" y=\"-141.8\" font-family=\"Times,serif\" font-size=\"14.00\" fill=\"#000000\">samples = 46</text>\n",
       "<text text-anchor=\"middle\" x=\"356.5\" y=\"-126.8\" font-family=\"Times,serif\" font-size=\"14.00\" fill=\"#000000\">value = [0, 1, 45]</text>\n",
       "<text text-anchor=\"middle\" x=\"356.5\" y=\"-111.8\" font-family=\"Times,serif\" font-size=\"14.00\" fill=\"#000000\">class = virginica</text>\n",
       "</g>\n",
       "<!-- 2&#45;&gt;6 -->\n",
       "<g id=\"edge6\" class=\"edge\">\n",
       "<title>2&#45;&gt;6</title>\n",
       "<path fill=\"none\" stroke=\"#000000\" d=\"M298.6279,-222.8796C305.229,-214.0534 312.2629,-204.6485 319.0702,-195.5466\"/>\n",
       "<polygon fill=\"#000000\" stroke=\"#000000\" points=\"322.0528,-197.4024 325.2393,-187.2981 316.4472,-193.2099 322.0528,-197.4024\"/>\n",
       "</g>\n",
       "<!-- 4 -->\n",
       "<g id=\"node5\" class=\"node\">\n",
       "<title>4</title>\n",
       "<polygon fill=\"#39e581\" stroke=\"#000000\" points=\"115,-68 0,-68 0,0 115,0 115,-68\"/>\n",
       "<text text-anchor=\"middle\" x=\"57.5\" y=\"-52.8\" font-family=\"Times,serif\" font-size=\"14.00\" fill=\"#000000\">gini = 0.0</text>\n",
       "<text text-anchor=\"middle\" x=\"57.5\" y=\"-37.8\" font-family=\"Times,serif\" font-size=\"14.00\" fill=\"#000000\">samples = 29</text>\n",
       "<text text-anchor=\"middle\" x=\"57.5\" y=\"-22.8\" font-family=\"Times,serif\" font-size=\"14.00\" fill=\"#000000\">value = [0, 29, 0]</text>\n",
       "<text text-anchor=\"middle\" x=\"57.5\" y=\"-7.8\" font-family=\"Times,serif\" font-size=\"14.00\" fill=\"#000000\">class = versicolor</text>\n",
       "</g>\n",
       "<!-- 3&#45;&gt;4 -->\n",
       "<g id=\"edge4\" class=\"edge\">\n",
       "<title>3&#45;&gt;4</title>\n",
       "<path fill=\"none\" stroke=\"#000000\" d=\"M133.4441,-103.9815C123.2709,-94.607 112.4733,-84.6572 102.3102,-75.2921\"/>\n",
       "<polygon fill=\"#000000\" stroke=\"#000000\" points=\"104.4087,-72.4663 94.683,-68.2637 99.6651,-77.6141 104.4087,-72.4663\"/>\n",
       "</g>\n",
       "<!-- 5 -->\n",
       "<g id=\"node6\" class=\"node\">\n",
       "<title>5</title>\n",
       "<polygon fill=\"#39e581\" fill-opacity=\"0.749020\" stroke=\"#000000\" points=\"248,-68 133,-68 133,0 248,0 248,-68\"/>\n",
       "<text text-anchor=\"middle\" x=\"190.5\" y=\"-52.8\" font-family=\"Times,serif\" font-size=\"14.00\" fill=\"#000000\">gini = 0.32</text>\n",
       "<text text-anchor=\"middle\" x=\"190.5\" y=\"-37.8\" font-family=\"Times,serif\" font-size=\"14.00\" fill=\"#000000\">samples = 25</text>\n",
       "<text text-anchor=\"middle\" x=\"190.5\" y=\"-22.8\" font-family=\"Times,serif\" font-size=\"14.00\" fill=\"#000000\">value = [0, 20, 5]</text>\n",
       "<text text-anchor=\"middle\" x=\"190.5\" y=\"-7.8\" font-family=\"Times,serif\" font-size=\"14.00\" fill=\"#000000\">class = versicolor</text>\n",
       "</g>\n",
       "<!-- 3&#45;&gt;5 -->\n",
       "<g id=\"edge5\" class=\"edge\">\n",
       "<title>3&#45;&gt;5</title>\n",
       "<path fill=\"none\" stroke=\"#000000\" d=\"M182.9684,-103.9815C183.8685,-95.618 184.8179,-86.7965 185.7279,-78.3409\"/>\n",
       "<polygon fill=\"#000000\" stroke=\"#000000\" points=\"189.2222,-78.5808 186.8124,-68.2637 182.2624,-77.8317 189.2222,-78.5808\"/>\n",
       "</g>\n",
       "<!-- 7 -->\n",
       "<g id=\"node8\" class=\"node\">\n",
       "<title>7</title>\n",
       "<polygon fill=\"#8139e5\" fill-opacity=\"0.933333\" stroke=\"#000000\" points=\"402,-68 289,-68 289,0 402,0 402,-68\"/>\n",
       "<text text-anchor=\"middle\" x=\"345.5\" y=\"-52.8\" font-family=\"Times,serif\" font-size=\"14.00\" fill=\"#000000\">gini = 0.117</text>\n",
       "<text text-anchor=\"middle\" x=\"345.5\" y=\"-37.8\" font-family=\"Times,serif\" font-size=\"14.00\" fill=\"#000000\">samples = 16</text>\n",
       "<text text-anchor=\"middle\" x=\"345.5\" y=\"-22.8\" font-family=\"Times,serif\" font-size=\"14.00\" fill=\"#000000\">value = [0, 1, 15]</text>\n",
       "<text text-anchor=\"middle\" x=\"345.5\" y=\"-7.8\" font-family=\"Times,serif\" font-size=\"14.00\" fill=\"#000000\">class = virginica</text>\n",
       "</g>\n",
       "<!-- 6&#45;&gt;7 -->\n",
       "<g id=\"edge7\" class=\"edge\">\n",
       "<title>6&#45;&gt;7</title>\n",
       "<path fill=\"none\" stroke=\"#000000\" d=\"M352.404,-103.9815C351.5789,-95.618 350.7086,-86.7965 349.8744,-78.3409\"/>\n",
       "<polygon fill=\"#000000\" stroke=\"#000000\" points=\"353.3452,-77.8717 348.8803,-68.2637 346.3791,-78.559 353.3452,-77.8717\"/>\n",
       "</g>\n",
       "<!-- 8 -->\n",
       "<g id=\"node9\" class=\"node\">\n",
       "<title>8</title>\n",
       "<polygon fill=\"#8139e5\" stroke=\"#000000\" points=\"533,-68 420,-68 420,0 533,0 533,-68\"/>\n",
       "<text text-anchor=\"middle\" x=\"476.5\" y=\"-52.8\" font-family=\"Times,serif\" font-size=\"14.00\" fill=\"#000000\">gini = 0.0</text>\n",
       "<text text-anchor=\"middle\" x=\"476.5\" y=\"-37.8\" font-family=\"Times,serif\" font-size=\"14.00\" fill=\"#000000\">samples = 30</text>\n",
       "<text text-anchor=\"middle\" x=\"476.5\" y=\"-22.8\" font-family=\"Times,serif\" font-size=\"14.00\" fill=\"#000000\">value = [0, 0, 30]</text>\n",
       "<text text-anchor=\"middle\" x=\"476.5\" y=\"-7.8\" font-family=\"Times,serif\" font-size=\"14.00\" fill=\"#000000\">class = virginica</text>\n",
       "</g>\n",
       "<!-- 6&#45;&gt;8 -->\n",
       "<g id=\"edge8\" class=\"edge\">\n",
       "<title>6&#45;&gt;8</title>\n",
       "<path fill=\"none\" stroke=\"#000000\" d=\"M401.1836,-103.9815C411.2727,-94.607 421.981,-84.6572 432.0601,-75.2921\"/>\n",
       "<polygon fill=\"#000000\" stroke=\"#000000\" points=\"434.6809,-77.6346 439.6243,-68.2637 429.9161,-72.5065 434.6809,-77.6346\"/>\n",
       "</g>\n",
       "</g>\n",
       "</svg>\n"
      ],
      "text/plain": [
       "<graphviz.files.Source at 0x7fe3fd2afd30>"
      ]
     },
     "execution_count": 63,
     "metadata": {},
     "output_type": "execute_result"
    }
   ],
   "source": [
    "import graphviz\n",
    "# Draw graph\n",
    "graph = graphviz.Source(dot_data, format=\"png\") \n",
    "graph"
   ]
  },
  {
   "cell_type": "code",
   "execution_count": null,
   "id": "8182e3d9",
   "metadata": {},
   "outputs": [],
   "source": []
  },
  {
   "cell_type": "code",
   "execution_count": null,
   "id": "16e320f7",
   "metadata": {},
   "outputs": [],
   "source": []
  }
 ],
 "metadata": {
  "kernelspec": {
   "display_name": "analysis",
   "language": "python",
   "name": "analysis"
  },
  "language_info": {
   "codemirror_mode": {
    "name": "ipython",
    "version": 3
   },
   "file_extension": ".py",
   "mimetype": "text/x-python",
   "name": "python",
   "nbconvert_exporter": "python",
   "pygments_lexer": "ipython3",
   "version": "3.7.0"
  }
 },
 "nbformat": 4,
 "nbformat_minor": 5
}
