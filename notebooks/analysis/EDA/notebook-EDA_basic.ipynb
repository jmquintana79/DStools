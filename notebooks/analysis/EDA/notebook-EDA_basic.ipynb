{
 "cells": [
  {
   "cell_type": "markdown",
   "id": "invalid-imaging",
   "metadata": {},
   "source": [
    "# EDA: basic\n",
    "\n",
    "\n",
    "### References\n",
    "\n",
    "- [MLMastery: 17 Statistical Hypothesis Tests in Python (Cheat Sheet)](https://machinelearningmastery.com/statistical-hypothesis-tests-in-python-cheat-sheet/)\n",
    "- [How to Use Statistical Significance Tests to Interpret Machine Learning Results](https://machinelearningmastery.com/use-statistical-significance-tests-interpret-machine-learning-results/)\n",
    "- [p-values problemas fail for too large samles](https://www.semanticscholar.org/paper/Research-Commentary-Too-Big-to-Fail%3A-Large-Samples-Lin-Lucas/7241c748932deb734fff1681e951e50be0853a39?p2df)"
   ]
  },
  {
   "cell_type": "code",
   "execution_count": 1,
   "id": "plain-pickup",
   "metadata": {},
   "outputs": [],
   "source": [
    "%matplotlib inline\n",
    "import warnings\n",
    "warnings.filterwarnings('ignore')\n",
    "from sklearn.datasets import load_iris\n",
    "import pandas as pd\n",
    "import numpy as np\n",
    "from scipy.stats import kurtosis\n",
    "from scipy.stats import skew"
   ]
  },
  {
   "cell_type": "markdown",
   "id": "looking-thesaurus",
   "metadata": {},
   "source": [
    "## load data"
   ]
  },
  {
   "cell_type": "code",
   "execution_count": 2,
   "id": "reduced-grade",
   "metadata": {},
   "outputs": [],
   "source": [
    "# load dataset\n",
    "dataset = load_iris()\n",
    "dataset.keys()\n",
    "# dataset to df\n",
    "data = pd.DataFrame(dataset.data, columns = dataset.feature_names)\n",
    "data['class'] = dataset.target\n",
    "dclass = dict()\n",
    "for i, ic in enumerate(dataset.target_names):\n",
    "    dclass[i] = ic\n",
    "data['class'] = data['class'].map(dclass)"
   ]
  },
  {
   "cell_type": "markdown",
   "id": "chinese-colorado",
   "metadata": {},
   "source": [
    "## df format"
   ]
  },
  {
   "cell_type": "code",
   "execution_count": 3,
   "id": "another-beijing",
   "metadata": {},
   "outputs": [],
   "source": [
    "# check what columns are NUMERICAL or CATEGORICAL\n",
    "cols_num = data.select_dtypes(include=['float64', 'int64']).columns.values  # numerical columns\n",
    "cols_cat = data.select_dtypes(include=['object']).columns.values            # categorical columns\n",
    "# columns name converters: numerical\n",
    "dcols_num_name_to_alias = dict()\n",
    "dcols_num_alias_to_name = dict()\n",
    "for i, ic in enumerate(cols_num):\n",
    "    dcols_num_name_to_alias[ic] = 'n{}'.format(i)\n",
    "    dcols_num_alias_to_name['n{}'.format(i)] = ic\n",
    "# columns name converters: categorical\n",
    "dcols_cat_name_to_alias = dict()\n",
    "dcols_cat_alias_to_name = dict()\n",
    "for i, ic in enumerate(cols_cat):\n",
    "    dcols_cat_name_to_alias[ic] = 'c{}'.format(i)\n",
    "    dcols_cat_alias_to_name['c{}'.format(i)] = ic\n",
    "# rename columns\n",
    "data.rename(columns = dcols_num_name_to_alias, inplace = True)\n",
    "data.rename(columns = dcols_cat_name_to_alias, inplace = True)\n",
    "# list of alias\n",
    "cols_num_alias = list(dcols_num_name_to_alias.values())\n",
    "cols_cat_alias = list(dcols_cat_name_to_alias.values())"
   ]
  },
  {
   "cell_type": "markdown",
   "id": "stuck-polyester",
   "metadata": {},
   "source": [
    "# descriptive analysis"
   ]
  },
  {
   "cell_type": "markdown",
   "id": "unlikely-founder",
   "metadata": {},
   "source": [
    "### numerical"
   ]
  },
  {
   "cell_type": "code",
   "execution_count": 4,
   "id": "ignored-proof",
   "metadata": {},
   "outputs": [
    {
     "data": {
      "text/html": [
       "<div>\n",
       "<style scoped>\n",
       "    .dataframe tbody tr th:only-of-type {\n",
       "        vertical-align: middle;\n",
       "    }\n",
       "\n",
       "    .dataframe tbody tr th {\n",
       "        vertical-align: top;\n",
       "    }\n",
       "\n",
       "    .dataframe thead th {\n",
       "        text-align: right;\n",
       "    }\n",
       "</style>\n",
       "<table border=\"1\" class=\"dataframe\">\n",
       "  <thead>\n",
       "    <tr style=\"text-align: right;\">\n",
       "      <th></th>\n",
       "      <th>count</th>\n",
       "      <th>mean</th>\n",
       "      <th>std</th>\n",
       "      <th>min</th>\n",
       "      <th>5%</th>\n",
       "      <th>25%</th>\n",
       "      <th>50%</th>\n",
       "      <th>75%</th>\n",
       "      <th>95%</th>\n",
       "      <th>max</th>\n",
       "      <th>%nan</th>\n",
       "      <th>kurtosis</th>\n",
       "      <th>skew</th>\n",
       "    </tr>\n",
       "  </thead>\n",
       "  <tbody>\n",
       "    <tr>\n",
       "      <th>sepal length (cm)</th>\n",
       "      <td>150.0</td>\n",
       "      <td>5.843333</td>\n",
       "      <td>0.828066</td>\n",
       "      <td>4.3</td>\n",
       "      <td>4.600</td>\n",
       "      <td>5.1</td>\n",
       "      <td>5.80</td>\n",
       "      <td>6.4</td>\n",
       "      <td>7.255</td>\n",
       "      <td>7.9</td>\n",
       "      <td>0.0</td>\n",
       "      <td>-0.573568</td>\n",
       "      <td>0.311753</td>\n",
       "    </tr>\n",
       "    <tr>\n",
       "      <th>sepal width (cm)</th>\n",
       "      <td>150.0</td>\n",
       "      <td>3.057333</td>\n",
       "      <td>0.435866</td>\n",
       "      <td>2.0</td>\n",
       "      <td>2.345</td>\n",
       "      <td>2.8</td>\n",
       "      <td>3.00</td>\n",
       "      <td>3.3</td>\n",
       "      <td>3.800</td>\n",
       "      <td>4.4</td>\n",
       "      <td>0.0</td>\n",
       "      <td>0.180976</td>\n",
       "      <td>0.315767</td>\n",
       "    </tr>\n",
       "    <tr>\n",
       "      <th>petal length (cm)</th>\n",
       "      <td>150.0</td>\n",
       "      <td>3.758000</td>\n",
       "      <td>1.765298</td>\n",
       "      <td>1.0</td>\n",
       "      <td>1.300</td>\n",
       "      <td>1.6</td>\n",
       "      <td>4.35</td>\n",
       "      <td>5.1</td>\n",
       "      <td>6.100</td>\n",
       "      <td>6.9</td>\n",
       "      <td>0.0</td>\n",
       "      <td>-1.395536</td>\n",
       "      <td>-0.272128</td>\n",
       "    </tr>\n",
       "    <tr>\n",
       "      <th>petal width (cm)</th>\n",
       "      <td>150.0</td>\n",
       "      <td>1.199333</td>\n",
       "      <td>0.762238</td>\n",
       "      <td>0.1</td>\n",
       "      <td>0.200</td>\n",
       "      <td>0.3</td>\n",
       "      <td>1.30</td>\n",
       "      <td>1.8</td>\n",
       "      <td>2.300</td>\n",
       "      <td>2.5</td>\n",
       "      <td>0.0</td>\n",
       "      <td>-1.336067</td>\n",
       "      <td>-0.101934</td>\n",
       "    </tr>\n",
       "  </tbody>\n",
       "</table>\n",
       "</div>"
      ],
      "text/plain": [
       "                   count      mean       std  min     5%  25%   50%  75%  \\\n",
       "sepal length (cm)  150.0  5.843333  0.828066  4.3  4.600  5.1  5.80  6.4   \n",
       "sepal width (cm)   150.0  3.057333  0.435866  2.0  2.345  2.8  3.00  3.3   \n",
       "petal length (cm)  150.0  3.758000  1.765298  1.0  1.300  1.6  4.35  5.1   \n",
       "petal width (cm)   150.0  1.199333  0.762238  0.1  0.200  0.3  1.30  1.8   \n",
       "\n",
       "                     95%  max  %nan  kurtosis      skew  \n",
       "sepal length (cm)  7.255  7.9   0.0 -0.573568  0.311753  \n",
       "sepal width (cm)   3.800  4.4   0.0  0.180976  0.315767  \n",
       "petal length (cm)  6.100  6.9   0.0 -1.395536 -0.272128  \n",
       "petal width (cm)   2.300  2.5   0.0 -1.336067 -0.101934  "
      ]
     },
     "execution_count": 4,
     "metadata": {},
     "output_type": "execute_result"
    }
   ],
   "source": [
    "# describe\n",
    "dfn = data[cols_num_alias].describe(include = 'all', percentiles = [.05, .25, .5, .75, .95]).T\n",
    "# add percent of nan values\n",
    "dfn['%nan'] = (data[cols_num_alias].isnull().sum()*100 / len(data)).values\n",
    "# kurtosis\n",
    "dfn['kurtosis'] = kurtosis(data[cols_num_alias])\n",
    "# skew\n",
    "dfn['skew'] = skew(data[cols_num_alias])\n",
    "# rename index\n",
    "dfn.index = dfn.index.map(dcols_num_alias_to_name)\n",
    "dfn"
   ]
  },
  {
   "cell_type": "markdown",
   "id": "aerial-following",
   "metadata": {},
   "source": [
    "### categorical"
   ]
  },
  {
   "cell_type": "code",
   "execution_count": 5,
   "id": "liable-count",
   "metadata": {},
   "outputs": [],
   "source": [
    "# describe\n",
    "dfc = data[cols_cat_alias].describe(include = 'all').T[['count', 'unique']]\n",
    "# add percent of nan values\n",
    "dfc['%nan'] = (data[cols_cat_alias].isnull().sum()*100 / len(data)).values"
   ]
  },
  {
   "cell_type": "code",
   "execution_count": 6,
   "id": "offensive-sweden",
   "metadata": {},
   "outputs": [
    {
     "data": {
      "text/html": [
       "<div>\n",
       "<style scoped>\n",
       "    .dataframe tbody tr th:only-of-type {\n",
       "        vertical-align: middle;\n",
       "    }\n",
       "\n",
       "    .dataframe tbody tr th {\n",
       "        vertical-align: top;\n",
       "    }\n",
       "\n",
       "    .dataframe thead th {\n",
       "        text-align: right;\n",
       "    }\n",
       "</style>\n",
       "<table border=\"1\" class=\"dataframe\">\n",
       "  <thead>\n",
       "    <tr style=\"text-align: right;\">\n",
       "      <th></th>\n",
       "      <th>count</th>\n",
       "      <th>unique</th>\n",
       "      <th>%nan</th>\n",
       "      <th>value0</th>\n",
       "      <th>value1</th>\n",
       "      <th>value2</th>\n",
       "      <th>value3</th>\n",
       "      <th>value4</th>\n",
       "      <th>%value0</th>\n",
       "      <th>%value1</th>\n",
       "      <th>%value2</th>\n",
       "      <th>%value3</th>\n",
       "      <th>%value4</th>\n",
       "    </tr>\n",
       "    <tr>\n",
       "      <th>var</th>\n",
       "      <th></th>\n",
       "      <th></th>\n",
       "      <th></th>\n",
       "      <th></th>\n",
       "      <th></th>\n",
       "      <th></th>\n",
       "      <th></th>\n",
       "      <th></th>\n",
       "      <th></th>\n",
       "      <th></th>\n",
       "      <th></th>\n",
       "      <th></th>\n",
       "      <th></th>\n",
       "    </tr>\n",
       "  </thead>\n",
       "  <tbody>\n",
       "    <tr>\n",
       "      <th>class</th>\n",
       "      <td>150</td>\n",
       "      <td>3</td>\n",
       "      <td>0.0</td>\n",
       "      <td>virginica</td>\n",
       "      <td>setosa</td>\n",
       "      <td>versicolor</td>\n",
       "      <td>NaN</td>\n",
       "      <td>NaN</td>\n",
       "      <td>33.333333</td>\n",
       "      <td>33.333333</td>\n",
       "      <td>33.333333</td>\n",
       "      <td>NaN</td>\n",
       "      <td>NaN</td>\n",
       "    </tr>\n",
       "  </tbody>\n",
       "</table>\n",
       "</div>"
      ],
      "text/plain": [
       "      count unique  %nan     value0  value1      value2  value3  value4  \\\n",
       "var                                                                       \n",
       "class   150      3   0.0  virginica  setosa  versicolor     NaN     NaN   \n",
       "\n",
       "         %value0    %value1    %value2  %value3  %value4  \n",
       "var                                                       \n",
       "class  33.333333  33.333333  33.333333      NaN      NaN  "
      ]
     },
     "execution_count": 6,
     "metadata": {},
     "output_type": "execute_result"
    }
   ],
   "source": [
    "## add categories percenets\n",
    "\n",
    "# maximum number of categories to be showed\n",
    "max_size_cats = 5\n",
    "# set columns\n",
    "col_temp = ['var'] + ['value{}'.format(i) for i in range(max_size_cats)] + ['%value{}'.format(i) for i in range(max_size_cats)]\n",
    "# initialize\n",
    "values_temp = list()\n",
    "# loop of variables\n",
    "for col in cols_cat_alias:\n",
    "    # count categories\n",
    "    temp = data[col].value_counts(normalize=True,sort=True,ascending=False)*100.\n",
    "    # collect values and names\n",
    "    c = temp.index.values\n",
    "    v = temp.values\n",
    "    # resize\n",
    "    if len(v) > max_size_cats:\n",
    "        v = np.append(v[:max_size_cats-1], np.sum(v[-(max_size_cats):]))\n",
    "        c = np.append(c[:max_size_cats-1], 'others')\n",
    "    else:\n",
    "        v = np.pad(v,(0, max_size_cats-len(v)), 'constant', constant_values=np.nan)\n",
    "        c = np.pad(c,(0, max_size_cats-len(c)), 'constant', constant_values=np.nan)\n",
    "    # append    \n",
    "    values_temp.append([col] + list(np.append(c,v)))\n",
    "# add new information\n",
    "dfc = pd.concat([dfc, pd.DataFrame(values_temp, columns = col_temp).set_index('var')], axis = 1)\n",
    "# rename index\n",
    "dfc.index = dfc.index.map(dcols_cat_alias_to_name)\n",
    "dfc"
   ]
  },
  {
   "cell_type": "markdown",
   "id": "e09de9c9",
   "metadata": {},
   "source": [
    "# TEST DE NORMALIDAD\n",
    "\n",
    "## hapiro-Wilk Test / D’Agostino’s K^2 Test / nderson-Darling Test \n",
    "\n",
    "Tests whether a data sample has a Gaussian distribution.\n",
    "\n",
    "### Assumptions\n",
    "\n",
    "- Observations in each sample are independent and identically distributed (iid).\n",
    "\n",
    "### Interpretation\n",
    "\n",
    "- H0: the sample has a Gaussian distribution.\n",
    "- H1: the sample does not have a Gaussian distribution.\n"
   ]
  },
  {
   "cell_type": "code",
   "execution_count": 8,
   "id": "e5b1ff95",
   "metadata": {},
   "outputs": [],
   "source": [
    "def test_shapiro(data):\n",
    "    from scipy.stats import shapiro\n",
    "    stat, p = shapiro(data)\n",
    "    print('stat=%.3f, p=%.3f' % (stat, p))\n",
    "    if p > 0.05:\n",
    "        print('Probably Gaussian')\n",
    "    else:\n",
    "        print('Probably not Gaussian')"
   ]
  },
  {
   "cell_type": "code",
   "execution_count": 10,
   "id": "0a397182",
   "metadata": {},
   "outputs": [],
   "source": [
    "def test_k2(data):\n",
    "    from scipy.stats import normaltest\n",
    "    stat, p = normaltest(data)\n",
    "    print('stat=%.3f, p=%.3f' % (stat, p))\n",
    "    if p > 0.05:\n",
    "        print('Probably Gaussian')\n",
    "    else:\n",
    "        print('Probably not Gaussian')"
   ]
  },
  {
   "cell_type": "code",
   "execution_count": 12,
   "id": "84bc1a85",
   "metadata": {},
   "outputs": [],
   "source": [
    "def test_anderson(data):\n",
    "    from scipy.stats import anderson\n",
    "    result = anderson(data)\n",
    "    print('stat=%.3f' % (result.statistic))\n",
    "    for i in range(len(result.critical_values)):\n",
    "        sl, cv = result.significance_level[i], result.critical_values[i]\n",
    "        if result.statistic < cv:\n",
    "            print('Probably Gaussian at the %.1f%% level' % (sl))\n",
    "        else:\n",
    "            print('Probably not Gaussian at the %.1f%% level' % (sl))"
   ]
  },
  {
   "cell_type": "markdown",
   "id": "7d709a5b",
   "metadata": {},
   "source": [
    "## prueba 1: caso de si normalidad"
   ]
  },
  {
   "cell_type": "code",
   "execution_count": 7,
   "id": "714ee030",
   "metadata": {},
   "outputs": [],
   "source": [
    "mu = 0; sigma = .1\n",
    "v = np.random.normal(mu, sigma, 1000)"
   ]
  },
  {
   "cell_type": "code",
   "execution_count": 9,
   "id": "2f728f2a",
   "metadata": {},
   "outputs": [
    {
     "name": "stdout",
     "output_type": "stream",
     "text": [
      "stat=0.999, p=0.803\n",
      "Probably Gaussian\n"
     ]
    }
   ],
   "source": [
    "test_shapiro(v)"
   ]
  },
  {
   "cell_type": "code",
   "execution_count": 11,
   "id": "f91c2c61",
   "metadata": {},
   "outputs": [
    {
     "name": "stdout",
     "output_type": "stream",
     "text": [
      "stat=0.079, p=0.961\n",
      "Probably Gaussian\n"
     ]
    }
   ],
   "source": [
    "test_k2(v)"
   ]
  },
  {
   "cell_type": "code",
   "execution_count": 13,
   "id": "fae2a6b9",
   "metadata": {},
   "outputs": [
    {
     "name": "stdout",
     "output_type": "stream",
     "text": [
      "stat=0.220\n",
      "Probably Gaussian at the 15.0% level\n",
      "Probably Gaussian at the 10.0% level\n",
      "Probably Gaussian at the 5.0% level\n",
      "Probably Gaussian at the 2.5% level\n",
      "Probably Gaussian at the 1.0% level\n"
     ]
    }
   ],
   "source": [
    "test_anderson(v)"
   ]
  },
  {
   "cell_type": "markdown",
   "id": "72114e11",
   "metadata": {},
   "source": [
    "## prueba 2: caso de no normalidad"
   ]
  },
  {
   "cell_type": "code",
   "execution_count": 31,
   "id": "2e666da0",
   "metadata": {},
   "outputs": [
    {
     "data": {
      "image/png": "[encoded data removed]",
      "text/plain": [
       "<Figure size 432x288 with 1 Axes>"
      ]
     },
     "metadata": {
      "needs_background": "light"
     },
     "output_type": "display_data"
    }
   ],
   "source": [
    "mu1 = 0; sigma1 = .1\n",
    "mu2 = 0.5; sigma2 = .05\n",
    "v = np.array(list(np.random.normal(mu1, sigma1, 1000)) + list(np.random.normal(mu2, sigma2, 1000)))\n",
    "# plot\n",
    "import matplotlib.pyplot as plt\n",
    "fig, ax = plt.subplots()\n",
    "ax.hist(v)\n",
    "plt.show()"
   ]
  },
  {
   "cell_type": "code",
   "execution_count": 32,
   "id": "0db86f59",
   "metadata": {},
   "outputs": [
    {
     "name": "stdout",
     "output_type": "stream",
     "text": [
      "stat=0.853, p=0.000\n",
      "Probably not Gaussian\n"
     ]
    }
   ],
   "source": [
    "test_shapiro(v)"
   ]
  },
  {
   "cell_type": "code",
   "execution_count": 33,
   "id": "b921d852",
   "metadata": {},
   "outputs": [
    {
     "name": "stdout",
     "output_type": "stream",
     "text": [
      "stat=6.784, p=0.034\n",
      "Probably not Gaussian\n"
     ]
    }
   ],
   "source": [
    "test_k2(v)"
   ]
  },
  {
   "cell_type": "code",
   "execution_count": 34,
   "id": "e9b707dd",
   "metadata": {},
   "outputs": [
    {
     "name": "stdout",
     "output_type": "stream",
     "text": [
      "stat=130.568\n",
      "Probably not Gaussian at the 15.0% level\n",
      "Probably not Gaussian at the 10.0% level\n",
      "Probably not Gaussian at the 5.0% level\n",
      "Probably not Gaussian at the 2.5% level\n",
      "Probably not Gaussian at the 1.0% level\n"
     ]
    }
   ],
   "source": [
    "test_anderson(v)"
   ]
  },
  {
   "cell_type": "markdown",
   "id": "a5774097",
   "metadata": {},
   "source": [
    "# TESTEAR variable numerica es RANDOM UNIFORM \n",
    "\n",
    "Basado en **Kolmogorov-Smirnov (2 samples)** para ver si la variable tiene una distribucion igual a una distribucion uniforme artificial."
   ]
  },
  {
   "cell_type": "code",
   "execution_count": 189,
   "id": "8e9cf6d9",
   "metadata": {},
   "outputs": [],
   "source": [
    "def test_ks2(data1, data2):\n",
    "    from scipy.stats import ks_2samp\n",
    "    stat, p = ks_2samp(data1, data2)\n",
    "    print('stat=%.3f, p=%.3f' % (stat, p))\n",
    "    if p > 0.05:\n",
    "        print('Probably the same distribution')\n",
    "    else:\n",
    "        print('Probably different distributions')\n",
    "        \n",
    "def test_uniform_num(data):\n",
    "    from scipy.stats import uniform, ks_2samp\n",
    "    dismin=np.amin(data)\n",
    "    dismax=np.amax(data)\n",
    "    T=uniform(dismin,dismax-dismin).rvs(data.shape[0])\n",
    "    stat, p = ks_2samp(data, T)\n",
    "    print('stat=%.3f, p=%.3f' % (stat, p))\n",
    "    if p > 0.05:\n",
    "        print('Probably is Uniform')\n",
    "    else:\n",
    "        print('Probably is not Uniform') "
   ]
  },
  {
   "cell_type": "markdown",
   "id": "5f74c0dc",
   "metadata": {},
   "source": [
    "### prueba 1: si es uniforme"
   ]
  },
  {
   "cell_type": "code",
   "execution_count": 368,
   "id": "3d13a310",
   "metadata": {},
   "outputs": [],
   "source": [
    "v = np.array([np.random.uniform() for i in range(1000)])"
   ]
  },
  {
   "cell_type": "code",
   "execution_count": 369,
   "id": "545ddb25",
   "metadata": {},
   "outputs": [
    {
     "name": "stdout",
     "output_type": "stream",
     "text": [
      "stat=0.053, p=0.117\n",
      "Probably is Uniform\n"
     ]
    }
   ],
   "source": [
    "test_uniform_num(v)"
   ]
  },
  {
   "cell_type": "markdown",
   "id": "9fbdc8ce",
   "metadata": {},
   "source": [
    "### prueba 2: no es uniforme"
   ]
  },
  {
   "cell_type": "code",
   "execution_count": 370,
   "id": "b417d6a1",
   "metadata": {},
   "outputs": [],
   "source": [
    "mu = 0; sigma = .1\n",
    "v = np.random.normal(mu, sigma, 1000)"
   ]
  },
  {
   "cell_type": "code",
   "execution_count": 371,
   "id": "7d18b6de",
   "metadata": {},
   "outputs": [
    {
     "name": "stdout",
     "output_type": "stream",
     "text": [
      "stat=0.260, p=0.000\n",
      "Probably is not Uniform\n"
     ]
    }
   ],
   "source": [
    "test_uniform_num(v)"
   ]
  },
  {
   "cell_type": "markdown",
   "id": "6fb98f6c",
   "metadata": {},
   "source": [
    "# TESTEAR variable categorica es RANDOM UNIFORM \n",
    "\n",
    "He usado un **Kolmogorov-Smirnov (2 samples)** entre el sample y su correspondiente uniforme despues de transformar las categorias en valores numericos.\n",
    "\n",
    "> NOTA: Introduje una validacion para samples demasiado grandes, pues en estos casos se vuelve demasiado fino. de esta manera le doy algo de margen para considerar que no es Uniforme."
   ]
  },
  {
   "cell_type": "code",
   "execution_count": 652,
   "id": "fc9c9c56",
   "metadata": {},
   "outputs": [],
   "source": [
    "def test_uniform_cat(data):\n",
    "    from scipy.stats import ks_2samp\n",
    "    # number of categories\n",
    "    cats = np.unique(data)\n",
    "    # resize if data is too large\n",
    "    if len(data)>1000 and len(cats)*1000 < len(data):\n",
    "        data = np.random.choice(data, size = len(cats)*1000)    \n",
    "    # create artificial data with uniform distribution\n",
    "    data_uniform = np.random.choice(cats, size = len(data), p = np.ones(len(cats)) / len(cats))\n",
    "    # cat to num of input data\n",
    "    temp = list()\n",
    "    for ii, ic in enumerate(cats):\n",
    "        temp += list(np.ones(len(data[data==ic])) * ii)\n",
    "    data_modif = np.array(temp)\n",
    "    # cat to num of artificial data\n",
    "    temp = list()\n",
    "    for ii, ic in enumerate(cats):\n",
    "        temp += list(np.ones(len(data_uniform[data_uniform==ic])) * ii)\n",
    "    data_uniform_modif = np.array(temp)\n",
    "    # test\n",
    "    stat, p = ks_2samp(data, data_uniform)\n",
    "    print('stat=%.3f, p=%.3f' % (stat, p))\n",
    "    if p > 0.05:\n",
    "        print('Probably is Uniform')\n",
    "    else:\n",
    "        print('Probably is not Uniform')     "
   ]
  },
  {
   "cell_type": "markdown",
   "id": "a680e0a0",
   "metadata": {},
   "source": [
    "### prueba 1: si es uniforme"
   ]
  },
  {
   "cell_type": "code",
   "execution_count": 657,
   "id": "b2166246",
   "metadata": {},
   "outputs": [
    {
     "name": "stdout",
     "output_type": "stream",
     "text": [
      "stat=0.018, p=0.712\n",
      "Probably is Uniform\n"
     ]
    }
   ],
   "source": [
    "v = np.random.choice(np.array(['1', '2', '3']), size = 10000, p = [0.33, 0.33, 0.34])\n",
    "test_uniform_cat(v)"
   ]
  },
  {
   "cell_type": "markdown",
   "id": "e29e2d1f",
   "metadata": {},
   "source": [
    "### prueba 2: no es uniforme"
   ]
  },
  {
   "cell_type": "code",
   "execution_count": 654,
   "id": "59248f0c",
   "metadata": {},
   "outputs": [
    {
     "name": "stdout",
     "output_type": "stream",
     "text": [
      "stat=0.094, p=0.000\n",
      "Probably is not Uniform\n"
     ]
    }
   ],
   "source": [
    "v = np.random.choice(np.array(['1', '2', '3']), size = 100000, p = [0.25, 0.5, 0.25])\n",
    "test_uniform_cat(v)"
   ]
  },
  {
   "cell_type": "markdown",
   "id": "macro-stereo",
   "metadata": {},
   "source": [
    "# MONOTONIC RELATIONSHIP (non-parametric tests)\n",
    "\n",
    "Tests whether two samples have a monotonic relationship.\n",
    "\n",
    "## Spearman's / Kendall's Rank Correlation Test\n",
    "\n",
    "### Assumptions\n",
    "\n",
    "- Observations in each sample are independent and identically distributed (iid).\n",
    "- Observations in each sample can be ranked.\n",
    "\n",
    "### Interpretation\n",
    "\n",
    "- H0: the two samples are independent.\n",
    "- H1: there is a dependency between the samples."
   ]
  },
  {
   "cell_type": "code",
   "execution_count": 12,
   "id": "5e2fe98f",
   "metadata": {},
   "outputs": [],
   "source": [
    "# columns selection\n",
    "x1_col = cols_num_alias[2]\n",
    "x2_col = cols_num_alias[3]\n",
    "# collect data\n",
    "df = data[[x1_col, x2_col]]\n",
    "data1 = df[x1_col].values\n",
    "data2 = df[x2_col].values"
   ]
  },
  {
   "cell_type": "code",
   "execution_count": 13,
   "id": "9f50f74e",
   "metadata": {},
   "outputs": [
    {
     "name": "stdout",
     "output_type": "stream",
     "text": [
      "stat=0.938, p=0.00000\n",
      "Probably dependent\n"
     ]
    }
   ],
   "source": [
    "# Example of the Spearman's Rank Correlation Test\n",
    "from scipy.stats import spearmanr\n",
    "\n",
    "stat, p = spearmanr(data1, data2)\n",
    "print('stat=%.3f, p=%.5f' % (stat, p))\n",
    "if p > 0.05:\n",
    "    print('Probably independent')\n",
    "else:\n",
    "    print('Probably dependent')"
   ]
  },
  {
   "cell_type": "code",
   "execution_count": 15,
   "id": "dffa51be",
   "metadata": {},
   "outputs": [
    {
     "name": "stdout",
     "output_type": "stream",
     "text": [
      "stat=0.807, p=0.00000\n",
      "Probably dependent\n"
     ]
    }
   ],
   "source": [
    "# Example of the Kendall's Rank Correlation Test\n",
    "from scipy.stats import kendalltau\n",
    "stat, p = kendalltau(data1, data2)\n",
    "print('stat=%.3f, p=%.5f' % (stat, p))\n",
    "if p > 0.05:\n",
    "    print('Probably independent')\n",
    "else:\n",
    "    print('Probably dependent')"
   ]
  },
  {
   "cell_type": "code",
   "execution_count": 16,
   "id": "2342bc8b",
   "metadata": {},
   "outputs": [
    {
     "data": {
      "text/plain": [
       "<AxesSubplot:xlabel='n2', ylabel='n3'>"
      ]
     },
     "execution_count": 16,
     "metadata": {},
     "output_type": "execute_result"
    },
    {
     "data": {
      "image/png": "[encoded data removed]",
      "text/plain": [
       "<Figure size 432x288 with 1 Axes>"
      ]
     },
     "metadata": {
      "needs_background": "light"
     },
     "output_type": "display_data"
    }
   ],
   "source": [
    "df.plot(kind = 'scatter', x = x1_col, y = x2_col)"
   ]
  },
  {
   "cell_type": "markdown",
   "id": "c08b2271",
   "metadata": {},
   "source": [
    "# IDENTIFICACION DE HETEROGENEIDAD (non-parametric test for non-paired samples)\n",
    "\n",
    "## Kruskal-Wallis H Test\n",
    "\n",
    "Tests whether the distributions of **two or more** independent samples are equal or not.\n",
    "\n",
    "### Assumptions\n",
    "\n",
    "- Observations in each sample are independent and identically distributed (iid).\n",
    "- Observations in each sample can be ranked.\n",
    "\n",
    "### Interpretation\n",
    "\n",
    "- H0: the distributions of all samples are equal.\n",
    "- H1: the distributions of one or more samples are not equal.\n"
   ]
  },
  {
   "cell_type": "code",
   "execution_count": 44,
   "id": "42350c1b",
   "metadata": {},
   "outputs": [],
   "source": [
    "def test_kruskal2(data1, data2):\n",
    "    from scipy.stats import kruskal\n",
    "    stat, p = kruskal(data1, data2)\n",
    "    print('stat=%.3f, p=%.3f' % (stat, p))\n",
    "    if p > 0.05:\n",
    "        print('Probably the same distribution')\n",
    "    else:\n",
    "        print('Probably different distributions')\n",
    "        \n",
    "def test_kruskal3(data1, data2, data3):\n",
    "    from scipy.stats import kruskal\n",
    "    stat, p = kruskal(data1, data2, data3)\n",
    "    print('stat=%.3f, p=%.3f' % (stat, p))\n",
    "    if p > 0.05:\n",
    "        print('Probably the same distribution')\n",
    "    else:\n",
    "        print('Probably different distributions')"
   ]
  },
  {
   "cell_type": "markdown",
   "id": "fca6c9f1",
   "metadata": {},
   "source": [
    "### prueba 1: deberia identificarse heterogeneidad"
   ]
  },
  {
   "cell_type": "code",
   "execution_count": 40,
   "id": "fc3d2ad0",
   "metadata": {},
   "outputs": [],
   "source": [
    "col_num = dcols_num_name_to_alias['petal length (cm)']\n",
    "col_cat = dcols_cat_name_to_alias['class']\n",
    "\n",
    "v1 = data[data[col_cat] == 'setosa'][col_num].values\n",
    "v2 = data[data[col_cat] == 'versicolor'][col_num].values\n",
    "v3 = data[data[col_cat] == 'virginica'][col_num].values"
   ]
  },
  {
   "cell_type": "code",
   "execution_count": 41,
   "id": "1acc3a34",
   "metadata": {},
   "outputs": [
    {
     "name": "stdout",
     "output_type": "stream",
     "text": [
      "stat=74.699, p=0.000\n",
      "Probably different distributions\n"
     ]
    }
   ],
   "source": [
    "test_kruskal2(v1, v2)"
   ]
  },
  {
   "cell_type": "code",
   "execution_count": 42,
   "id": "86d76a8a",
   "metadata": {},
   "outputs": [
    {
     "name": "stdout",
     "output_type": "stream",
     "text": [
      "stat=74.694, p=0.000\n",
      "Probably different distributions\n"
     ]
    }
   ],
   "source": [
    "test_kruskal2(v1, v3)"
   ]
  },
  {
   "cell_type": "code",
   "execution_count": 43,
   "id": "16c0f840",
   "metadata": {},
   "outputs": [
    {
     "name": "stdout",
     "output_type": "stream",
     "text": [
      "stat=69.206, p=0.000\n",
      "Probably different distributions\n"
     ]
    }
   ],
   "source": [
    "test_kruskal2(v2, v3)"
   ]
  },
  {
   "cell_type": "code",
   "execution_count": 45,
   "id": "0a4df470",
   "metadata": {},
   "outputs": [
    {
     "name": "stdout",
     "output_type": "stream",
     "text": [
      "stat=130.411, p=0.000\n",
      "Probably different distributions\n"
     ]
    }
   ],
   "source": [
    "test_kruskal3(v1, v2, v3)"
   ]
  },
  {
   "cell_type": "markdown",
   "id": "bea85885",
   "metadata": {},
   "source": [
    "### prueba 2: no deberia identificarse heterogeneidad"
   ]
  },
  {
   "cell_type": "code",
   "execution_count": 50,
   "id": "cf7ce8ec",
   "metadata": {},
   "outputs": [
    {
     "data": {
      "text/plain": [
       "((600,), (400,))"
      ]
     },
     "execution_count": 50,
     "metadata": {},
     "output_type": "execute_result"
    }
   ],
   "source": [
    "mu = 0; sigma = .1\n",
    "v = np.random.normal(mu, sigma, 1000)\n",
    "v1 = v[:600]\n",
    "v2 = v[600:]\n",
    "v1.shape, v2.shape"
   ]
  },
  {
   "cell_type": "code",
   "execution_count": 51,
   "id": "27b39038",
   "metadata": {},
   "outputs": [
    {
     "name": "stdout",
     "output_type": "stream",
     "text": [
      "stat=0.621, p=0.431\n",
      "Probably the same distribution\n"
     ]
    }
   ],
   "source": [
    "test_kruskal2(v1, v2)"
   ]
  },
  {
   "cell_type": "markdown",
   "id": "economic-bonus",
   "metadata": {},
   "source": [
    "# TEST IF SAME DISTRIBUTION (non-parametric test for paired samples)\n",
    "\n",
    "## Wilcoxon Signed-Rank Test\n",
    "\n",
    "Tests whether the distributions of two paired samples are equal or not.\n",
    "\n",
    "### Assumptions\n",
    "\n",
    "- Observations in each sample are independent and identically distributed (iid).\n",
    "- Observations in each sample can be ranked.\n",
    "- Observations across each sample are paired.\n",
    "\n",
    "### Interpretation\n",
    "\n",
    "- H0: the distributions of both samples are equal.\n",
    "- H1: the distributions of both samples are not equal.\n"
   ]
  },
  {
   "cell_type": "code",
   "execution_count": 17,
   "id": "2dd12693",
   "metadata": {},
   "outputs": [],
   "source": [
    "# Example of the Wilcoxon Signed-Rank Test\n",
    "def test_wilcoxon(data1:np.array, data2:np.array):\n",
    "    from scipy.stats import wilcoxon\n",
    "    stat, p = wilcoxon(data1, data2)\n",
    "    print('stat=%.5f, p=%.5f' % (stat, p))\n",
    "    if p > 0.05:\n",
    "        print('Probably the same distribution')\n",
    "    else:\n",
    "        print('Probably different distributions')"
   ]
  },
  {
   "cell_type": "markdown",
   "id": "induced-oasis",
   "metadata": {},
   "source": [
    "### prueba 1: 2 samples de una misma distribucion normal (homegeneidad)"
   ]
  },
  {
   "cell_type": "code",
   "execution_count": 28,
   "id": "authorized-bankruptcy",
   "metadata": {},
   "outputs": [],
   "source": [
    "mu = 0; sigma = .1\n",
    "v1 = np.random.normal(mu, sigma, 100)\n",
    "v2 = np.random.normal(mu, sigma, 100)"
   ]
  },
  {
   "cell_type": "code",
   "execution_count": 29,
   "id": "guilty-aurora",
   "metadata": {},
   "outputs": [
    {
     "name": "stdout",
     "output_type": "stream",
     "text": [
      "stat=2310.00000, p=0.45976\n",
      "Probably the same distribution\n"
     ]
    }
   ],
   "source": [
    "test_wilcoxon(v1, v2)"
   ]
  },
  {
   "cell_type": "markdown",
   "id": "antique-final",
   "metadata": {},
   "source": [
    "### prueba 2: 2 samples de dos distribuciones normales muy parecidas pero no iguales (heterogeneidad)"
   ]
  },
  {
   "cell_type": "code",
   "execution_count": 30,
   "id": "rocky-hearts",
   "metadata": {},
   "outputs": [],
   "source": [
    "mu1 = 0; sigma1 = .1\n",
    "mu2 = 0.05; sigma2 = .1\n",
    "v1 = np.random.normal(mu1, sigma1, 1000)\n",
    "v2 = np.random.normal(mu2, sigma2, 1000)"
   ]
  },
  {
   "cell_type": "code",
   "execution_count": 31,
   "id": "enabling-school",
   "metadata": {},
   "outputs": [
    {
     "name": "stdout",
     "output_type": "stream",
     "text": [
      "stat=141390.00000, p=0.00000\n",
      "Probably different distributions\n"
     ]
    }
   ],
   "source": [
    "test_wilcoxon(v1, v2)"
   ]
  },
  {
   "cell_type": "code",
   "execution_count": null,
   "id": "8182e3d9",
   "metadata": {},
   "outputs": [],
   "source": []
  },
  {
   "cell_type": "code",
   "execution_count": null,
   "id": "16e320f7",
   "metadata": {},
   "outputs": [],
   "source": []
  }
 ],
 "metadata": {
  "kernelspec": {
   "display_name": "analysis",
   "language": "python",
   "name": "analysis"
  },
  "language_info": {
   "codemirror_mode": {
    "name": "ipython",
    "version": 3
   },
   "file_extension": ".py",
   "mimetype": "text/x-python",
   "name": "python",
   "nbconvert_exporter": "python",
   "pygments_lexer": "ipython3",
   "version": "3.7.0"
  }
 },
 "nbformat": 4,
 "nbformat_minor": 5
}
