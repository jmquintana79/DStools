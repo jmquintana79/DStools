{
 "cells": [
  {
   "attachments": {},
   "cell_type": "markdown",
   "metadata": {},
   "source": [
    "# Conditional Entropy\n",
    "\n",
    "### References\n",
    "\n",
    "- [DataScience - StackExchange: Conditional entropy calculation in python, H(Y|X)](https://datascience.stackexchange.com/questions/58565/conditional-entropy-calculation-in-python-hyx)"
   ]
  },
  {
   "cell_type": "code",
   "execution_count": 7,
   "metadata": {},
   "outputs": [],
   "source": [
    "import pandas as pd\n",
    "import numpy as np"
   ]
  },
  {
   "attachments": {},
   "cell_type": "markdown",
   "metadata": {},
   "source": [
    "### data"
   ]
  },
  {
   "cell_type": "code",
   "execution_count": 2,
   "metadata": {},
   "outputs": [],
   "source": [
    "attrNms = [\"x1\", \"x2\", \"x3\", \"x4\", \"x5\"]\n",
    "data = pd.DataFrame(\n",
    "    [\n",
    "        [1, 0, 1, 1, 1],\n",
    "        [1, 1, 0, 0, 1],\n",
    "        [0, 1, 1, 1, 1],\n",
    "        [1, 0, 1, 0, 1],\n",
    "        [1, 0, 0, 1, 1],\n",
    "        [0, 0, 1, 1, 1],\n",
    "        [1, 1, 1, 1, 1],\n",
    "        [1, 0, 0, 1, 1],\n",
    "        [0, 1, 0, 0, 1],\n",
    "        [0, 0, 0, 1, 1],\n",
    "    ],\n",
    "    columns=attrNms,\n",
    ")\n",
    "data[\"y\"] = [1, 1, 1, 0, 0, 1, 1, 1, 0, 0]"
   ]
  },
  {
   "attachments": {},
   "cell_type": "markdown",
   "metadata": {},
   "source": [
    "### estimation"
   ]
  },
  {
   "cell_type": "code",
   "execution_count": 8,
   "metadata": {},
   "outputs": [],
   "source": [
    "##Entropy\n",
    "def entropy(Y):\n",
    "    \"\"\"\n",
    "    Also known as Shanon Entropy\n",
    "    Reference: https://en.wikipedia.org/wiki/Entropy_(information_theory)\n",
    "    \"\"\"\n",
    "    unique, count = np.unique(Y, return_counts=True, axis=0)\n",
    "    prob = count/len(Y)\n",
    "    en = np.sum((-1)*prob*np.log2(prob))\n",
    "    return en\n",
    "\n",
    "\n",
    "#Joint Entropy\n",
    "def jEntropy(Y,X):\n",
    "    \"\"\"\n",
    "    H(Y;X)\n",
    "    Reference: https://en.wikipedia.org/wiki/Joint_entropy\n",
    "    \"\"\"\n",
    "    YX = np.c_[Y,X]\n",
    "    return entropy(YX)\n",
    "\n",
    "#Conditional Entropy\n",
    "def cEntropy(Y, X):\n",
    "    \"\"\"\n",
    "    conditional entropy = Joint Entropy - Entropy of X\n",
    "    H(Y|X) = H(Y;X) - H(X)\n",
    "    Reference: https://en.wikipedia.org/wiki/Conditional_entropy\n",
    "    \"\"\"\n",
    "    return jEntropy(Y, X) - entropy(X)\n",
    "\n",
    "\n",
    "#Information Gain\n",
    "def gain(Y, X):\n",
    "    \"\"\"\n",
    "    Information Gain, I(Y;X) = H(Y) - H(Y|X)\n",
    "    Reference: https://en.wikipedia.org/wiki/Information_gain_in_decision_trees#Formal_definition\n",
    "    \"\"\"\n",
    "    return entropy(Y) - cEntropy(Y,X)"
   ]
  },
  {
   "cell_type": "code",
   "execution_count": 16,
   "metadata": {},
   "outputs": [],
   "source": [
    "y = data[\"y\"].values\n",
    "X = data[attrNms].values"
   ]
  },
  {
   "cell_type": "code",
   "execution_count": 17,
   "metadata": {},
   "outputs": [
    {
     "data": {
      "text/plain": [
       "(0.9709505944546686, 0.20000000000000018, 0.7709505944546684)"
      ]
     },
     "execution_count": 17,
     "metadata": {},
     "output_type": "execute_result"
    }
   ],
   "source": [
    "entropy(y), cEntropy(y,X), gain(y, X)"
   ]
  },
  {
   "cell_type": "code",
   "execution_count": null,
   "metadata": {},
   "outputs": [],
   "source": []
  }
 ],
 "metadata": {
  "kernelspec": {
   "display_name": "analysis",
   "language": "python",
   "name": "analysis"
  },
  "language_info": {
   "codemirror_mode": {
    "name": "ipython",
    "version": 3
   },
   "file_extension": ".py",
   "mimetype": "text/x-python",
   "name": "python",
   "nbconvert_exporter": "python",
   "pygments_lexer": "ipython3",
   "version": "3.7.0"
  },
  "orig_nbformat": 4
 },
 "nbformat": 4,
 "nbformat_minor": 2
}
