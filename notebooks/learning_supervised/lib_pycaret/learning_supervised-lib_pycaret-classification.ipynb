{
 "cells": [
  {
   "attachments": {},
   "cell_type": "markdown",
   "metadata": {},
   "source": [
    "# Supervised Learning with PyCaret - Classification\n",
    "\n",
    "### References:\n",
    "- [PyCaret Doc - Classification](https://pycaret.readthedocs.io/en/latest/api/classification.html)\n",
    "- [PyCaret Official - Quickstart](https://pycaret.gitbook.io/docs/get-started/quickstart#classification)\n",
    "- [TowardsDataScience - A Complete Data Analysis Workflow in Python PyCaret](https://towardsdatascience.com/a-complete-data-analysis-workflow-in-python-pycaret-9a13c0fa51d4)"
   ]
  },
  {
   "cell_type": "code",
   "execution_count": 1,
   "metadata": {},
   "outputs": [
    {
     "data": {
      "text/plain": [
       "'2.3.10'"
      ]
     },
     "execution_count": 1,
     "metadata": {},
     "output_type": "execute_result"
    }
   ],
   "source": [
    "import pycaret as pct\n",
    "pct.__version__"
   ]
  },
  {
   "cell_type": "code",
   "execution_count": 2,
   "metadata": {},
   "outputs": [],
   "source": [
    "%matplotlib inline\n",
    "import seaborn\n",
    "from pycaret.classification import *"
   ]
  },
  {
   "attachments": {},
   "cell_type": "markdown",
   "metadata": {},
   "source": [
    "## Load Data"
   ]
  },
  {
   "cell_type": "code",
   "execution_count": 3,
   "metadata": {},
   "outputs": [
    {
     "name": "stdout",
     "output_type": "stream",
     "text": [
      "<class 'pandas.core.frame.DataFrame'>\n",
      "RangeIndex: 891 entries, 0 to 890\n",
      "Data columns (total 14 columns):\n",
      " #   Column       Non-Null Count  Dtype   \n",
      "---  ------       --------------  -----   \n",
      " 0   pclass       891 non-null    int64   \n",
      " 1   sex          891 non-null    object  \n",
      " 2   age          714 non-null    float64 \n",
      " 3   sibsp        891 non-null    int64   \n",
      " 4   parch        891 non-null    int64   \n",
      " 5   fare         891 non-null    float64 \n",
      " 6   embarked     889 non-null    object  \n",
      " 7   class        891 non-null    category\n",
      " 8   who          891 non-null    object  \n",
      " 9   adult_male   891 non-null    bool    \n",
      " 10  deck         203 non-null    category\n",
      " 11  embark_town  889 non-null    object  \n",
      " 12  alive        891 non-null    object  \n",
      " 13  alone        891 non-null    bool    \n",
      "dtypes: bool(2), category(2), float64(2), int64(3), object(5)\n",
      "memory usage: 73.7+ KB\n"
     ]
    }
   ],
   "source": [
    "\n",
    "data = seaborn.load_dataset('titanic')\n",
    "data.drop('survived', axis = 1, inplace = True)\n",
    "data.info()"
   ]
  },
  {
   "cell_type": "code",
   "execution_count": 4,
   "metadata": {},
   "outputs": [],
   "source": [
    "train = data.sample(frac=0.95, random_state=42)\n",
    "test = data.drop(train.index)\n",
    "train.reset_index(inplace=True, drop=True)\n",
    "test.reset_index(inplace=True, drop=True)"
   ]
  },
  {
   "attachments": {},
   "cell_type": "markdown",
   "metadata": {},
   "source": [
    "## Setup"
   ]
  },
  {
   "cell_type": "code",
   "execution_count": 5,
   "metadata": {},
   "outputs": [
    {
     "data": {
      "text/html": [
       "<style type=\"text/css\">\n",
       "#T_6ce86_row5_col1, #T_6ce86_row44_col1 {\n",
       "  background-color: lightgreen;\n",
       "}\n",
       "</style>\n",
       "<table id=\"T_6ce86\">\n",
       "  <thead>\n",
       "    <tr>\n",
       "      <th class=\"blank level0\" >&nbsp;</th>\n",
       "      <th id=\"T_6ce86_level0_col0\" class=\"col_heading level0 col0\" >Description</th>\n",
       "      <th id=\"T_6ce86_level0_col1\" class=\"col_heading level0 col1\" >Value</th>\n",
       "    </tr>\n",
       "  </thead>\n",
       "  <tbody>\n",
       "    <tr>\n",
       "      <th id=\"T_6ce86_level0_row0\" class=\"row_heading level0 row0\" >0</th>\n",
       "      <td id=\"T_6ce86_row0_col0\" class=\"data row0 col0\" >session_id</td>\n",
       "      <td id=\"T_6ce86_row0_col1\" class=\"data row0 col1\" >123</td>\n",
       "    </tr>\n",
       "    <tr>\n",
       "      <th id=\"T_6ce86_level0_row1\" class=\"row_heading level0 row1\" >1</th>\n",
       "      <td id=\"T_6ce86_row1_col0\" class=\"data row1 col0\" >Target</td>\n",
       "      <td id=\"T_6ce86_row1_col1\" class=\"data row1 col1\" >alive</td>\n",
       "    </tr>\n",
       "    <tr>\n",
       "      <th id=\"T_6ce86_level0_row2\" class=\"row_heading level0 row2\" >2</th>\n",
       "      <td id=\"T_6ce86_row2_col0\" class=\"data row2 col0\" >Target Type</td>\n",
       "      <td id=\"T_6ce86_row2_col1\" class=\"data row2 col1\" >Binary</td>\n",
       "    </tr>\n",
       "    <tr>\n",
       "      <th id=\"T_6ce86_level0_row3\" class=\"row_heading level0 row3\" >3</th>\n",
       "      <td id=\"T_6ce86_row3_col0\" class=\"data row3 col0\" >Label Encoded</td>\n",
       "      <td id=\"T_6ce86_row3_col1\" class=\"data row3 col1\" >no: 0, yes: 1</td>\n",
       "    </tr>\n",
       "    <tr>\n",
       "      <th id=\"T_6ce86_level0_row4\" class=\"row_heading level0 row4\" >4</th>\n",
       "      <td id=\"T_6ce86_row4_col0\" class=\"data row4 col0\" >Original Data</td>\n",
       "      <td id=\"T_6ce86_row4_col1\" class=\"data row4 col1\" >(846, 14)</td>\n",
       "    </tr>\n",
       "    <tr>\n",
       "      <th id=\"T_6ce86_level0_row5\" class=\"row_heading level0 row5\" >5</th>\n",
       "      <td id=\"T_6ce86_row5_col0\" class=\"data row5 col0\" >Missing Values</td>\n",
       "      <td id=\"T_6ce86_row5_col1\" class=\"data row5 col1\" >True</td>\n",
       "    </tr>\n",
       "    <tr>\n",
       "      <th id=\"T_6ce86_level0_row6\" class=\"row_heading level0 row6\" >6</th>\n",
       "      <td id=\"T_6ce86_row6_col0\" class=\"data row6 col0\" >Numeric Features</td>\n",
       "      <td id=\"T_6ce86_row6_col1\" class=\"data row6 col1\" >2</td>\n",
       "    </tr>\n",
       "    <tr>\n",
       "      <th id=\"T_6ce86_level0_row7\" class=\"row_heading level0 row7\" >7</th>\n",
       "      <td id=\"T_6ce86_row7_col0\" class=\"data row7 col0\" >Categorical Features</td>\n",
       "      <td id=\"T_6ce86_row7_col1\" class=\"data row7 col1\" >11</td>\n",
       "    </tr>\n",
       "    <tr>\n",
       "      <th id=\"T_6ce86_level0_row8\" class=\"row_heading level0 row8\" >8</th>\n",
       "      <td id=\"T_6ce86_row8_col0\" class=\"data row8 col0\" >Ordinal Features</td>\n",
       "      <td id=\"T_6ce86_row8_col1\" class=\"data row8 col1\" >False</td>\n",
       "    </tr>\n",
       "    <tr>\n",
       "      <th id=\"T_6ce86_level0_row9\" class=\"row_heading level0 row9\" >9</th>\n",
       "      <td id=\"T_6ce86_row9_col0\" class=\"data row9 col0\" >High Cardinality Features</td>\n",
       "      <td id=\"T_6ce86_row9_col1\" class=\"data row9 col1\" >False</td>\n",
       "    </tr>\n",
       "    <tr>\n",
       "      <th id=\"T_6ce86_level0_row10\" class=\"row_heading level0 row10\" >10</th>\n",
       "      <td id=\"T_6ce86_row10_col0\" class=\"data row10 col0\" >High Cardinality Method</td>\n",
       "      <td id=\"T_6ce86_row10_col1\" class=\"data row10 col1\" >None</td>\n",
       "    </tr>\n",
       "    <tr>\n",
       "      <th id=\"T_6ce86_level0_row11\" class=\"row_heading level0 row11\" >11</th>\n",
       "      <td id=\"T_6ce86_row11_col0\" class=\"data row11 col0\" >Transformed Train Set</td>\n",
       "      <td id=\"T_6ce86_row11_col1\" class=\"data row11 col1\" >(592, 33)</td>\n",
       "    </tr>\n",
       "    <tr>\n",
       "      <th id=\"T_6ce86_level0_row12\" class=\"row_heading level0 row12\" >12</th>\n",
       "      <td id=\"T_6ce86_row12_col0\" class=\"data row12 col0\" >Transformed Test Set</td>\n",
       "      <td id=\"T_6ce86_row12_col1\" class=\"data row12 col1\" >(254, 33)</td>\n",
       "    </tr>\n",
       "    <tr>\n",
       "      <th id=\"T_6ce86_level0_row13\" class=\"row_heading level0 row13\" >13</th>\n",
       "      <td id=\"T_6ce86_row13_col0\" class=\"data row13 col0\" >Shuffle Train-Test</td>\n",
       "      <td id=\"T_6ce86_row13_col1\" class=\"data row13 col1\" >True</td>\n",
       "    </tr>\n",
       "    <tr>\n",
       "      <th id=\"T_6ce86_level0_row14\" class=\"row_heading level0 row14\" >14</th>\n",
       "      <td id=\"T_6ce86_row14_col0\" class=\"data row14 col0\" >Stratify Train-Test</td>\n",
       "      <td id=\"T_6ce86_row14_col1\" class=\"data row14 col1\" >False</td>\n",
       "    </tr>\n",
       "    <tr>\n",
       "      <th id=\"T_6ce86_level0_row15\" class=\"row_heading level0 row15\" >15</th>\n",
       "      <td id=\"T_6ce86_row15_col0\" class=\"data row15 col0\" >Fold Generator</td>\n",
       "      <td id=\"T_6ce86_row15_col1\" class=\"data row15 col1\" >StratifiedKFold</td>\n",
       "    </tr>\n",
       "    <tr>\n",
       "      <th id=\"T_6ce86_level0_row16\" class=\"row_heading level0 row16\" >16</th>\n",
       "      <td id=\"T_6ce86_row16_col0\" class=\"data row16 col0\" >Fold Number</td>\n",
       "      <td id=\"T_6ce86_row16_col1\" class=\"data row16 col1\" >10</td>\n",
       "    </tr>\n",
       "    <tr>\n",
       "      <th id=\"T_6ce86_level0_row17\" class=\"row_heading level0 row17\" >17</th>\n",
       "      <td id=\"T_6ce86_row17_col0\" class=\"data row17 col0\" >CPU Jobs</td>\n",
       "      <td id=\"T_6ce86_row17_col1\" class=\"data row17 col1\" >-1</td>\n",
       "    </tr>\n",
       "    <tr>\n",
       "      <th id=\"T_6ce86_level0_row18\" class=\"row_heading level0 row18\" >18</th>\n",
       "      <td id=\"T_6ce86_row18_col0\" class=\"data row18 col0\" >Use GPU</td>\n",
       "      <td id=\"T_6ce86_row18_col1\" class=\"data row18 col1\" >False</td>\n",
       "    </tr>\n",
       "    <tr>\n",
       "      <th id=\"T_6ce86_level0_row19\" class=\"row_heading level0 row19\" >19</th>\n",
       "      <td id=\"T_6ce86_row19_col0\" class=\"data row19 col0\" >Log Experiment</td>\n",
       "      <td id=\"T_6ce86_row19_col1\" class=\"data row19 col1\" >False</td>\n",
       "    </tr>\n",
       "    <tr>\n",
       "      <th id=\"T_6ce86_level0_row20\" class=\"row_heading level0 row20\" >20</th>\n",
       "      <td id=\"T_6ce86_row20_col0\" class=\"data row20 col0\" >Experiment Name</td>\n",
       "      <td id=\"T_6ce86_row20_col1\" class=\"data row20 col1\" >clf-default-name</td>\n",
       "    </tr>\n",
       "    <tr>\n",
       "      <th id=\"T_6ce86_level0_row21\" class=\"row_heading level0 row21\" >21</th>\n",
       "      <td id=\"T_6ce86_row21_col0\" class=\"data row21 col0\" >USI</td>\n",
       "      <td id=\"T_6ce86_row21_col1\" class=\"data row21 col1\" >33b3</td>\n",
       "    </tr>\n",
       "    <tr>\n",
       "      <th id=\"T_6ce86_level0_row22\" class=\"row_heading level0 row22\" >22</th>\n",
       "      <td id=\"T_6ce86_row22_col0\" class=\"data row22 col0\" >Imputation Type</td>\n",
       "      <td id=\"T_6ce86_row22_col1\" class=\"data row22 col1\" >simple</td>\n",
       "    </tr>\n",
       "    <tr>\n",
       "      <th id=\"T_6ce86_level0_row23\" class=\"row_heading level0 row23\" >23</th>\n",
       "      <td id=\"T_6ce86_row23_col0\" class=\"data row23 col0\" >Iterative Imputation Iteration</td>\n",
       "      <td id=\"T_6ce86_row23_col1\" class=\"data row23 col1\" >None</td>\n",
       "    </tr>\n",
       "    <tr>\n",
       "      <th id=\"T_6ce86_level0_row24\" class=\"row_heading level0 row24\" >24</th>\n",
       "      <td id=\"T_6ce86_row24_col0\" class=\"data row24 col0\" >Numeric Imputer</td>\n",
       "      <td id=\"T_6ce86_row24_col1\" class=\"data row24 col1\" >mean</td>\n",
       "    </tr>\n",
       "    <tr>\n",
       "      <th id=\"T_6ce86_level0_row25\" class=\"row_heading level0 row25\" >25</th>\n",
       "      <td id=\"T_6ce86_row25_col0\" class=\"data row25 col0\" >Iterative Imputation Numeric Model</td>\n",
       "      <td id=\"T_6ce86_row25_col1\" class=\"data row25 col1\" >None</td>\n",
       "    </tr>\n",
       "    <tr>\n",
       "      <th id=\"T_6ce86_level0_row26\" class=\"row_heading level0 row26\" >26</th>\n",
       "      <td id=\"T_6ce86_row26_col0\" class=\"data row26 col0\" >Categorical Imputer</td>\n",
       "      <td id=\"T_6ce86_row26_col1\" class=\"data row26 col1\" >constant</td>\n",
       "    </tr>\n",
       "    <tr>\n",
       "      <th id=\"T_6ce86_level0_row27\" class=\"row_heading level0 row27\" >27</th>\n",
       "      <td id=\"T_6ce86_row27_col0\" class=\"data row27 col0\" >Iterative Imputation Categorical Model</td>\n",
       "      <td id=\"T_6ce86_row27_col1\" class=\"data row27 col1\" >None</td>\n",
       "    </tr>\n",
       "    <tr>\n",
       "      <th id=\"T_6ce86_level0_row28\" class=\"row_heading level0 row28\" >28</th>\n",
       "      <td id=\"T_6ce86_row28_col0\" class=\"data row28 col0\" >Unknown Categoricals Handling</td>\n",
       "      <td id=\"T_6ce86_row28_col1\" class=\"data row28 col1\" >least_frequent</td>\n",
       "    </tr>\n",
       "    <tr>\n",
       "      <th id=\"T_6ce86_level0_row29\" class=\"row_heading level0 row29\" >29</th>\n",
       "      <td id=\"T_6ce86_row29_col0\" class=\"data row29 col0\" >Normalize</td>\n",
       "      <td id=\"T_6ce86_row29_col1\" class=\"data row29 col1\" >False</td>\n",
       "    </tr>\n",
       "    <tr>\n",
       "      <th id=\"T_6ce86_level0_row30\" class=\"row_heading level0 row30\" >30</th>\n",
       "      <td id=\"T_6ce86_row30_col0\" class=\"data row30 col0\" >Normalize Method</td>\n",
       "      <td id=\"T_6ce86_row30_col1\" class=\"data row30 col1\" >None</td>\n",
       "    </tr>\n",
       "    <tr>\n",
       "      <th id=\"T_6ce86_level0_row31\" class=\"row_heading level0 row31\" >31</th>\n",
       "      <td id=\"T_6ce86_row31_col0\" class=\"data row31 col0\" >Transformation</td>\n",
       "      <td id=\"T_6ce86_row31_col1\" class=\"data row31 col1\" >False</td>\n",
       "    </tr>\n",
       "    <tr>\n",
       "      <th id=\"T_6ce86_level0_row32\" class=\"row_heading level0 row32\" >32</th>\n",
       "      <td id=\"T_6ce86_row32_col0\" class=\"data row32 col0\" >Transformation Method</td>\n",
       "      <td id=\"T_6ce86_row32_col1\" class=\"data row32 col1\" >None</td>\n",
       "    </tr>\n",
       "    <tr>\n",
       "      <th id=\"T_6ce86_level0_row33\" class=\"row_heading level0 row33\" >33</th>\n",
       "      <td id=\"T_6ce86_row33_col0\" class=\"data row33 col0\" >PCA</td>\n",
       "      <td id=\"T_6ce86_row33_col1\" class=\"data row33 col1\" >False</td>\n",
       "    </tr>\n",
       "    <tr>\n",
       "      <th id=\"T_6ce86_level0_row34\" class=\"row_heading level0 row34\" >34</th>\n",
       "      <td id=\"T_6ce86_row34_col0\" class=\"data row34 col0\" >PCA Method</td>\n",
       "      <td id=\"T_6ce86_row34_col1\" class=\"data row34 col1\" >None</td>\n",
       "    </tr>\n",
       "    <tr>\n",
       "      <th id=\"T_6ce86_level0_row35\" class=\"row_heading level0 row35\" >35</th>\n",
       "      <td id=\"T_6ce86_row35_col0\" class=\"data row35 col0\" >PCA Components</td>\n",
       "      <td id=\"T_6ce86_row35_col1\" class=\"data row35 col1\" >None</td>\n",
       "    </tr>\n",
       "    <tr>\n",
       "      <th id=\"T_6ce86_level0_row36\" class=\"row_heading level0 row36\" >36</th>\n",
       "      <td id=\"T_6ce86_row36_col0\" class=\"data row36 col0\" >Ignore Low Variance</td>\n",
       "      <td id=\"T_6ce86_row36_col1\" class=\"data row36 col1\" >False</td>\n",
       "    </tr>\n",
       "    <tr>\n",
       "      <th id=\"T_6ce86_level0_row37\" class=\"row_heading level0 row37\" >37</th>\n",
       "      <td id=\"T_6ce86_row37_col0\" class=\"data row37 col0\" >Combine Rare Levels</td>\n",
       "      <td id=\"T_6ce86_row37_col1\" class=\"data row37 col1\" >False</td>\n",
       "    </tr>\n",
       "    <tr>\n",
       "      <th id=\"T_6ce86_level0_row38\" class=\"row_heading level0 row38\" >38</th>\n",
       "      <td id=\"T_6ce86_row38_col0\" class=\"data row38 col0\" >Rare Level Threshold</td>\n",
       "      <td id=\"T_6ce86_row38_col1\" class=\"data row38 col1\" >None</td>\n",
       "    </tr>\n",
       "    <tr>\n",
       "      <th id=\"T_6ce86_level0_row39\" class=\"row_heading level0 row39\" >39</th>\n",
       "      <td id=\"T_6ce86_row39_col0\" class=\"data row39 col0\" >Numeric Binning</td>\n",
       "      <td id=\"T_6ce86_row39_col1\" class=\"data row39 col1\" >False</td>\n",
       "    </tr>\n",
       "    <tr>\n",
       "      <th id=\"T_6ce86_level0_row40\" class=\"row_heading level0 row40\" >40</th>\n",
       "      <td id=\"T_6ce86_row40_col0\" class=\"data row40 col0\" >Remove Outliers</td>\n",
       "      <td id=\"T_6ce86_row40_col1\" class=\"data row40 col1\" >False</td>\n",
       "    </tr>\n",
       "    <tr>\n",
       "      <th id=\"T_6ce86_level0_row41\" class=\"row_heading level0 row41\" >41</th>\n",
       "      <td id=\"T_6ce86_row41_col0\" class=\"data row41 col0\" >Outliers Threshold</td>\n",
       "      <td id=\"T_6ce86_row41_col1\" class=\"data row41 col1\" >None</td>\n",
       "    </tr>\n",
       "    <tr>\n",
       "      <th id=\"T_6ce86_level0_row42\" class=\"row_heading level0 row42\" >42</th>\n",
       "      <td id=\"T_6ce86_row42_col0\" class=\"data row42 col0\" >Remove Multicollinearity</td>\n",
       "      <td id=\"T_6ce86_row42_col1\" class=\"data row42 col1\" >False</td>\n",
       "    </tr>\n",
       "    <tr>\n",
       "      <th id=\"T_6ce86_level0_row43\" class=\"row_heading level0 row43\" >43</th>\n",
       "      <td id=\"T_6ce86_row43_col0\" class=\"data row43 col0\" >Multicollinearity Threshold</td>\n",
       "      <td id=\"T_6ce86_row43_col1\" class=\"data row43 col1\" >None</td>\n",
       "    </tr>\n",
       "    <tr>\n",
       "      <th id=\"T_6ce86_level0_row44\" class=\"row_heading level0 row44\" >44</th>\n",
       "      <td id=\"T_6ce86_row44_col0\" class=\"data row44 col0\" >Remove Perfect Collinearity</td>\n",
       "      <td id=\"T_6ce86_row44_col1\" class=\"data row44 col1\" >True</td>\n",
       "    </tr>\n",
       "    <tr>\n",
       "      <th id=\"T_6ce86_level0_row45\" class=\"row_heading level0 row45\" >45</th>\n",
       "      <td id=\"T_6ce86_row45_col0\" class=\"data row45 col0\" >Clustering</td>\n",
       "      <td id=\"T_6ce86_row45_col1\" class=\"data row45 col1\" >False</td>\n",
       "    </tr>\n",
       "    <tr>\n",
       "      <th id=\"T_6ce86_level0_row46\" class=\"row_heading level0 row46\" >46</th>\n",
       "      <td id=\"T_6ce86_row46_col0\" class=\"data row46 col0\" >Clustering Iteration</td>\n",
       "      <td id=\"T_6ce86_row46_col1\" class=\"data row46 col1\" >None</td>\n",
       "    </tr>\n",
       "    <tr>\n",
       "      <th id=\"T_6ce86_level0_row47\" class=\"row_heading level0 row47\" >47</th>\n",
       "      <td id=\"T_6ce86_row47_col0\" class=\"data row47 col0\" >Polynomial Features</td>\n",
       "      <td id=\"T_6ce86_row47_col1\" class=\"data row47 col1\" >False</td>\n",
       "    </tr>\n",
       "    <tr>\n",
       "      <th id=\"T_6ce86_level0_row48\" class=\"row_heading level0 row48\" >48</th>\n",
       "      <td id=\"T_6ce86_row48_col0\" class=\"data row48 col0\" >Polynomial Degree</td>\n",
       "      <td id=\"T_6ce86_row48_col1\" class=\"data row48 col1\" >None</td>\n",
       "    </tr>\n",
       "    <tr>\n",
       "      <th id=\"T_6ce86_level0_row49\" class=\"row_heading level0 row49\" >49</th>\n",
       "      <td id=\"T_6ce86_row49_col0\" class=\"data row49 col0\" >Trignometry Features</td>\n",
       "      <td id=\"T_6ce86_row49_col1\" class=\"data row49 col1\" >False</td>\n",
       "    </tr>\n",
       "    <tr>\n",
       "      <th id=\"T_6ce86_level0_row50\" class=\"row_heading level0 row50\" >50</th>\n",
       "      <td id=\"T_6ce86_row50_col0\" class=\"data row50 col0\" >Polynomial Threshold</td>\n",
       "      <td id=\"T_6ce86_row50_col1\" class=\"data row50 col1\" >None</td>\n",
       "    </tr>\n",
       "    <tr>\n",
       "      <th id=\"T_6ce86_level0_row51\" class=\"row_heading level0 row51\" >51</th>\n",
       "      <td id=\"T_6ce86_row51_col0\" class=\"data row51 col0\" >Group Features</td>\n",
       "      <td id=\"T_6ce86_row51_col1\" class=\"data row51 col1\" >False</td>\n",
       "    </tr>\n",
       "    <tr>\n",
       "      <th id=\"T_6ce86_level0_row52\" class=\"row_heading level0 row52\" >52</th>\n",
       "      <td id=\"T_6ce86_row52_col0\" class=\"data row52 col0\" >Feature Selection</td>\n",
       "      <td id=\"T_6ce86_row52_col1\" class=\"data row52 col1\" >False</td>\n",
       "    </tr>\n",
       "    <tr>\n",
       "      <th id=\"T_6ce86_level0_row53\" class=\"row_heading level0 row53\" >53</th>\n",
       "      <td id=\"T_6ce86_row53_col0\" class=\"data row53 col0\" >Feature Selection Method</td>\n",
       "      <td id=\"T_6ce86_row53_col1\" class=\"data row53 col1\" >classic</td>\n",
       "    </tr>\n",
       "    <tr>\n",
       "      <th id=\"T_6ce86_level0_row54\" class=\"row_heading level0 row54\" >54</th>\n",
       "      <td id=\"T_6ce86_row54_col0\" class=\"data row54 col0\" >Features Selection Threshold</td>\n",
       "      <td id=\"T_6ce86_row54_col1\" class=\"data row54 col1\" >None</td>\n",
       "    </tr>\n",
       "    <tr>\n",
       "      <th id=\"T_6ce86_level0_row55\" class=\"row_heading level0 row55\" >55</th>\n",
       "      <td id=\"T_6ce86_row55_col0\" class=\"data row55 col0\" >Feature Interaction</td>\n",
       "      <td id=\"T_6ce86_row55_col1\" class=\"data row55 col1\" >False</td>\n",
       "    </tr>\n",
       "    <tr>\n",
       "      <th id=\"T_6ce86_level0_row56\" class=\"row_heading level0 row56\" >56</th>\n",
       "      <td id=\"T_6ce86_row56_col0\" class=\"data row56 col0\" >Feature Ratio</td>\n",
       "      <td id=\"T_6ce86_row56_col1\" class=\"data row56 col1\" >False</td>\n",
       "    </tr>\n",
       "    <tr>\n",
       "      <th id=\"T_6ce86_level0_row57\" class=\"row_heading level0 row57\" >57</th>\n",
       "      <td id=\"T_6ce86_row57_col0\" class=\"data row57 col0\" >Interaction Threshold</td>\n",
       "      <td id=\"T_6ce86_row57_col1\" class=\"data row57 col1\" >None</td>\n",
       "    </tr>\n",
       "    <tr>\n",
       "      <th id=\"T_6ce86_level0_row58\" class=\"row_heading level0 row58\" >58</th>\n",
       "      <td id=\"T_6ce86_row58_col0\" class=\"data row58 col0\" >Fix Imbalance</td>\n",
       "      <td id=\"T_6ce86_row58_col1\" class=\"data row58 col1\" >False</td>\n",
       "    </tr>\n",
       "    <tr>\n",
       "      <th id=\"T_6ce86_level0_row59\" class=\"row_heading level0 row59\" >59</th>\n",
       "      <td id=\"T_6ce86_row59_col0\" class=\"data row59 col0\" >Fix Imbalance Method</td>\n",
       "      <td id=\"T_6ce86_row59_col1\" class=\"data row59 col1\" >SMOTE</td>\n",
       "    </tr>\n",
       "  </tbody>\n",
       "</table>\n"
      ],
      "text/plain": [
       "<pandas.io.formats.style.Styler at 0x7fb49d3be040>"
      ]
     },
     "metadata": {},
     "output_type": "display_data"
    }
   ],
   "source": [
    "clf = setup(\n",
    "    data=train, \n",
    "    target='alive',\n",
    "    session_id=123\n",
    ")\n",
    "   "
   ]
  },
  {
   "attachments": {},
   "cell_type": "markdown",
   "metadata": {},
   "source": [
    "## Compare Models"
   ]
  },
  {
   "cell_type": "code",
   "execution_count": 6,
   "metadata": {},
   "outputs": [
    {
     "data": {
      "text/html": [
       "<style type=\"text/css\">\n",
       "#T_0a434 th {\n",
       "  text-align: left;\n",
       "}\n",
       "#T_0a434_row0_col0, #T_0a434_row0_col2, #T_0a434_row0_col3, #T_0a434_row0_col5, #T_0a434_row0_col6, #T_0a434_row1_col0, #T_0a434_row1_col1, #T_0a434_row1_col2, #T_0a434_row1_col3, #T_0a434_row1_col4, #T_0a434_row1_col7, #T_0a434_row2_col0, #T_0a434_row2_col1, #T_0a434_row2_col2, #T_0a434_row2_col3, #T_0a434_row2_col4, #T_0a434_row2_col5, #T_0a434_row2_col6, #T_0a434_row2_col7, #T_0a434_row3_col0, #T_0a434_row3_col1, #T_0a434_row3_col3, #T_0a434_row3_col4, #T_0a434_row3_col5, #T_0a434_row3_col6, #T_0a434_row3_col7, #T_0a434_row4_col0, #T_0a434_row4_col1, #T_0a434_row4_col2, #T_0a434_row4_col3, #T_0a434_row4_col4, #T_0a434_row4_col5, #T_0a434_row4_col6, #T_0a434_row4_col7, #T_0a434_row5_col0, #T_0a434_row5_col1, #T_0a434_row5_col2, #T_0a434_row5_col3, #T_0a434_row5_col4, #T_0a434_row5_col5, #T_0a434_row5_col6, #T_0a434_row5_col7, #T_0a434_row6_col0, #T_0a434_row6_col1, #T_0a434_row6_col2, #T_0a434_row6_col3, #T_0a434_row6_col4, #T_0a434_row6_col5, #T_0a434_row6_col6, #T_0a434_row6_col7, #T_0a434_row7_col0, #T_0a434_row7_col1, #T_0a434_row7_col2, #T_0a434_row7_col3, #T_0a434_row7_col4, #T_0a434_row7_col5, #T_0a434_row7_col6, #T_0a434_row7_col7, #T_0a434_row8_col0, #T_0a434_row8_col1, #T_0a434_row8_col2, #T_0a434_row8_col3, #T_0a434_row8_col4, #T_0a434_row8_col5, #T_0a434_row8_col6, #T_0a434_row8_col7, #T_0a434_row9_col0, #T_0a434_row9_col1, #T_0a434_row9_col2, #T_0a434_row9_col3, #T_0a434_row9_col4, #T_0a434_row9_col5, #T_0a434_row9_col6, #T_0a434_row9_col7, #T_0a434_row10_col0, #T_0a434_row10_col1, #T_0a434_row10_col2, #T_0a434_row10_col3, #T_0a434_row10_col4, #T_0a434_row10_col5, #T_0a434_row10_col6, #T_0a434_row10_col7, #T_0a434_row11_col0, #T_0a434_row11_col1, #T_0a434_row11_col2, #T_0a434_row11_col3, #T_0a434_row11_col4, #T_0a434_row11_col5, #T_0a434_row11_col6, #T_0a434_row11_col7, #T_0a434_row12_col0, #T_0a434_row12_col1, #T_0a434_row12_col2, #T_0a434_row12_col3, #T_0a434_row12_col4, #T_0a434_row12_col5, #T_0a434_row12_col6, #T_0a434_row12_col7, #T_0a434_row13_col0, #T_0a434_row13_col1, #T_0a434_row13_col2, #T_0a434_row13_col4, #T_0a434_row13_col5, #T_0a434_row13_col6, #T_0a434_row13_col7 {\n",
       "  text-align: left;\n",
       "}\n",
       "#T_0a434_row0_col1, #T_0a434_row0_col4, #T_0a434_row0_col7, #T_0a434_row1_col5, #T_0a434_row1_col6, #T_0a434_row3_col2, #T_0a434_row13_col3 {\n",
       "  text-align: left;\n",
       "  background-color: yellow;\n",
       "}\n",
       "#T_0a434_row0_col8, #T_0a434_row1_col8, #T_0a434_row2_col8, #T_0a434_row3_col8, #T_0a434_row4_col8, #T_0a434_row5_col8, #T_0a434_row6_col8, #T_0a434_row7_col8, #T_0a434_row9_col8, #T_0a434_row10_col8, #T_0a434_row12_col8, #T_0a434_row13_col8 {\n",
       "  text-align: left;\n",
       "  background-color: lightgrey;\n",
       "}\n",
       "#T_0a434_row8_col8, #T_0a434_row11_col8 {\n",
       "  text-align: left;\n",
       "  background-color: yellow;\n",
       "  background-color: lightgrey;\n",
       "}\n",
       "</style>\n",
       "<table id=\"T_0a434\">\n",
       "  <thead>\n",
       "    <tr>\n",
       "      <th class=\"blank level0\" >&nbsp;</th>\n",
       "      <th id=\"T_0a434_level0_col0\" class=\"col_heading level0 col0\" >Model</th>\n",
       "      <th id=\"T_0a434_level0_col1\" class=\"col_heading level0 col1\" >Accuracy</th>\n",
       "      <th id=\"T_0a434_level0_col2\" class=\"col_heading level0 col2\" >AUC</th>\n",
       "      <th id=\"T_0a434_level0_col3\" class=\"col_heading level0 col3\" >Recall</th>\n",
       "      <th id=\"T_0a434_level0_col4\" class=\"col_heading level0 col4\" >Prec.</th>\n",
       "      <th id=\"T_0a434_level0_col5\" class=\"col_heading level0 col5\" >F1</th>\n",
       "      <th id=\"T_0a434_level0_col6\" class=\"col_heading level0 col6\" >Kappa</th>\n",
       "      <th id=\"T_0a434_level0_col7\" class=\"col_heading level0 col7\" >MCC</th>\n",
       "      <th id=\"T_0a434_level0_col8\" class=\"col_heading level0 col8\" >TT (Sec)</th>\n",
       "    </tr>\n",
       "  </thead>\n",
       "  <tbody>\n",
       "    <tr>\n",
       "      <th id=\"T_0a434_level0_row0\" class=\"row_heading level0 row0\" >gbc</th>\n",
       "      <td id=\"T_0a434_row0_col0\" class=\"data row0 col0\" >Gradient Boosting Classifier</td>\n",
       "      <td id=\"T_0a434_row0_col1\" class=\"data row0 col1\" >0.8362</td>\n",
       "      <td id=\"T_0a434_row0_col2\" class=\"data row0 col2\" >0.8437</td>\n",
       "      <td id=\"T_0a434_row0_col3\" class=\"data row0 col3\" >0.6907</td>\n",
       "      <td id=\"T_0a434_row0_col4\" class=\"data row0 col4\" >0.8515</td>\n",
       "      <td id=\"T_0a434_row0_col5\" class=\"data row0 col5\" >0.7589</td>\n",
       "      <td id=\"T_0a434_row0_col6\" class=\"data row0 col6\" >0.6381</td>\n",
       "      <td id=\"T_0a434_row0_col7\" class=\"data row0 col7\" >0.6488</td>\n",
       "      <td id=\"T_0a434_row0_col8\" class=\"data row0 col8\" >0.0330</td>\n",
       "    </tr>\n",
       "    <tr>\n",
       "      <th id=\"T_0a434_level0_row1\" class=\"row_heading level0 row1\" >lda</th>\n",
       "      <td id=\"T_0a434_row1_col0\" class=\"data row1 col0\" >Linear Discriminant Analysis</td>\n",
       "      <td id=\"T_0a434_row1_col1\" class=\"data row1 col1\" >0.8327</td>\n",
       "      <td id=\"T_0a434_row1_col2\" class=\"data row1 col2\" >0.8639</td>\n",
       "      <td id=\"T_0a434_row1_col3\" class=\"data row1 col3\" >0.7528</td>\n",
       "      <td id=\"T_0a434_row1_col4\" class=\"data row1 col4\" >0.7990</td>\n",
       "      <td id=\"T_0a434_row1_col5\" class=\"data row1 col5\" >0.7736</td>\n",
       "      <td id=\"T_0a434_row1_col6\" class=\"data row1 col6\" >0.6413</td>\n",
       "      <td id=\"T_0a434_row1_col7\" class=\"data row1 col7\" >0.6436</td>\n",
       "      <td id=\"T_0a434_row1_col8\" class=\"data row1 col8\" >0.0060</td>\n",
       "    </tr>\n",
       "    <tr>\n",
       "      <th id=\"T_0a434_level0_row2\" class=\"row_heading level0 row2\" >ridge</th>\n",
       "      <td id=\"T_0a434_row2_col0\" class=\"data row2 col0\" >Ridge Classifier</td>\n",
       "      <td id=\"T_0a434_row2_col1\" class=\"data row2 col1\" >0.8310</td>\n",
       "      <td id=\"T_0a434_row2_col2\" class=\"data row2 col2\" >0.0000</td>\n",
       "      <td id=\"T_0a434_row2_col3\" class=\"data row2 col3\" >0.7528</td>\n",
       "      <td id=\"T_0a434_row2_col4\" class=\"data row2 col4\" >0.7948</td>\n",
       "      <td id=\"T_0a434_row2_col5\" class=\"data row2 col5\" >0.7715</td>\n",
       "      <td id=\"T_0a434_row2_col6\" class=\"data row2 col6\" >0.6379</td>\n",
       "      <td id=\"T_0a434_row2_col7\" class=\"data row2 col7\" >0.6401</td>\n",
       "      <td id=\"T_0a434_row2_col8\" class=\"data row2 col8\" >0.0070</td>\n",
       "    </tr>\n",
       "    <tr>\n",
       "      <th id=\"T_0a434_level0_row3\" class=\"row_heading level0 row3\" >lr</th>\n",
       "      <td id=\"T_0a434_row3_col0\" class=\"data row3 col0\" >Logistic Regression</td>\n",
       "      <td id=\"T_0a434_row3_col1\" class=\"data row3 col1\" >0.8226</td>\n",
       "      <td id=\"T_0a434_row3_col2\" class=\"data row3 col2\" >0.8676</td>\n",
       "      <td id=\"T_0a434_row3_col3\" class=\"data row3 col3\" >0.7439</td>\n",
       "      <td id=\"T_0a434_row3_col4\" class=\"data row3 col4\" >0.7834</td>\n",
       "      <td id=\"T_0a434_row3_col5\" class=\"data row3 col5\" >0.7607</td>\n",
       "      <td id=\"T_0a434_row3_col6\" class=\"data row3 col6\" >0.6203</td>\n",
       "      <td id=\"T_0a434_row3_col7\" class=\"data row3 col7\" >0.6232</td>\n",
       "      <td id=\"T_0a434_row3_col8\" class=\"data row3 col8\" >0.8750</td>\n",
       "    </tr>\n",
       "    <tr>\n",
       "      <th id=\"T_0a434_level0_row4\" class=\"row_heading level0 row4\" >lightgbm</th>\n",
       "      <td id=\"T_0a434_row4_col0\" class=\"data row4 col0\" >Light Gradient Boosting Machine</td>\n",
       "      <td id=\"T_0a434_row4_col1\" class=\"data row4 col1\" >0.8158</td>\n",
       "      <td id=\"T_0a434_row4_col2\" class=\"data row4 col2\" >0.8595</td>\n",
       "      <td id=\"T_0a434_row4_col3\" class=\"data row4 col3\" >0.7125</td>\n",
       "      <td id=\"T_0a434_row4_col4\" class=\"data row4 col4\" >0.7857</td>\n",
       "      <td id=\"T_0a434_row4_col5\" class=\"data row4 col5\" >0.7447</td>\n",
       "      <td id=\"T_0a434_row4_col6\" class=\"data row4 col6\" >0.6017</td>\n",
       "      <td id=\"T_0a434_row4_col7\" class=\"data row4 col7\" >0.6056</td>\n",
       "      <td id=\"T_0a434_row4_col8\" class=\"data row4 col8\" >0.0200</td>\n",
       "    </tr>\n",
       "    <tr>\n",
       "      <th id=\"T_0a434_level0_row5\" class=\"row_heading level0 row5\" >rf</th>\n",
       "      <td id=\"T_0a434_row5_col0\" class=\"data row5 col0\" >Random Forest Classifier</td>\n",
       "      <td id=\"T_0a434_row5_col1\" class=\"data row5 col1\" >0.8058</td>\n",
       "      <td id=\"T_0a434_row5_col2\" class=\"data row5 col2\" >0.8548</td>\n",
       "      <td id=\"T_0a434_row5_col3\" class=\"data row5 col3\" >0.7085</td>\n",
       "      <td id=\"T_0a434_row5_col4\" class=\"data row5 col4\" >0.7701</td>\n",
       "      <td id=\"T_0a434_row5_col5\" class=\"data row5 col5\" >0.7360</td>\n",
       "      <td id=\"T_0a434_row5_col6\" class=\"data row5 col6\" >0.5830</td>\n",
       "      <td id=\"T_0a434_row5_col7\" class=\"data row5 col7\" >0.5859</td>\n",
       "      <td id=\"T_0a434_row5_col8\" class=\"data row5 col8\" >0.0980</td>\n",
       "    </tr>\n",
       "    <tr>\n",
       "      <th id=\"T_0a434_level0_row6\" class=\"row_heading level0 row6\" >ada</th>\n",
       "      <td id=\"T_0a434_row6_col0\" class=\"data row6 col0\" >Ada Boost Classifier</td>\n",
       "      <td id=\"T_0a434_row6_col1\" class=\"data row6 col1\" >0.8057</td>\n",
       "      <td id=\"T_0a434_row6_col2\" class=\"data row6 col2\" >0.8454</td>\n",
       "      <td id=\"T_0a434_row6_col3\" class=\"data row6 col3\" >0.7439</td>\n",
       "      <td id=\"T_0a434_row6_col4\" class=\"data row6 col4\" >0.7481</td>\n",
       "      <td id=\"T_0a434_row6_col5\" class=\"data row6 col5\" >0.7448</td>\n",
       "      <td id=\"T_0a434_row6_col6\" class=\"data row6 col6\" >0.5882</td>\n",
       "      <td id=\"T_0a434_row6_col7\" class=\"data row6 col7\" >0.5894</td>\n",
       "      <td id=\"T_0a434_row6_col8\" class=\"data row6 col8\" >0.0310</td>\n",
       "    </tr>\n",
       "    <tr>\n",
       "      <th id=\"T_0a434_level0_row7\" class=\"row_heading level0 row7\" >et</th>\n",
       "      <td id=\"T_0a434_row7_col0\" class=\"data row7 col0\" >Extra Trees Classifier</td>\n",
       "      <td id=\"T_0a434_row7_col1\" class=\"data row7 col1\" >0.7805</td>\n",
       "      <td id=\"T_0a434_row7_col2\" class=\"data row7 col2\" >0.8229</td>\n",
       "      <td id=\"T_0a434_row7_col3\" class=\"data row7 col3\" >0.6905</td>\n",
       "      <td id=\"T_0a434_row7_col4\" class=\"data row7 col4\" >0.7308</td>\n",
       "      <td id=\"T_0a434_row7_col5\" class=\"data row7 col5\" >0.7059</td>\n",
       "      <td id=\"T_0a434_row7_col6\" class=\"data row7 col6\" >0.5314</td>\n",
       "      <td id=\"T_0a434_row7_col7\" class=\"data row7 col7\" >0.5357</td>\n",
       "      <td id=\"T_0a434_row7_col8\" class=\"data row7 col8\" >0.0810</td>\n",
       "    </tr>\n",
       "    <tr>\n",
       "      <th id=\"T_0a434_level0_row8\" class=\"row_heading level0 row8\" >dt</th>\n",
       "      <td id=\"T_0a434_row8_col0\" class=\"data row8 col0\" >Decision Tree Classifier</td>\n",
       "      <td id=\"T_0a434_row8_col1\" class=\"data row8 col1\" >0.7634</td>\n",
       "      <td id=\"T_0a434_row8_col2\" class=\"data row8 col2\" >0.7509</td>\n",
       "      <td id=\"T_0a434_row8_col3\" class=\"data row8 col3\" >0.7083</td>\n",
       "      <td id=\"T_0a434_row8_col4\" class=\"data row8 col4\" >0.6902</td>\n",
       "      <td id=\"T_0a434_row8_col5\" class=\"data row8 col5\" >0.6975</td>\n",
       "      <td id=\"T_0a434_row8_col6\" class=\"data row8 col6\" >0.5036</td>\n",
       "      <td id=\"T_0a434_row8_col7\" class=\"data row8 col7\" >0.5052</td>\n",
       "      <td id=\"T_0a434_row8_col8\" class=\"data row8 col8\" >0.0050</td>\n",
       "    </tr>\n",
       "    <tr>\n",
       "      <th id=\"T_0a434_level0_row9\" class=\"row_heading level0 row9\" >svm</th>\n",
       "      <td id=\"T_0a434_row9_col0\" class=\"data row9 col0\" >SVM - Linear Kernel</td>\n",
       "      <td id=\"T_0a434_row9_col1\" class=\"data row9 col1\" >0.7128</td>\n",
       "      <td id=\"T_0a434_row9_col2\" class=\"data row9 col2\" >0.0000</td>\n",
       "      <td id=\"T_0a434_row9_col3\" class=\"data row9 col3\" >0.5326</td>\n",
       "      <td id=\"T_0a434_row9_col4\" class=\"data row9 col4\" >0.6535</td>\n",
       "      <td id=\"T_0a434_row9_col5\" class=\"data row9 col5\" >0.5628</td>\n",
       "      <td id=\"T_0a434_row9_col6\" class=\"data row9 col6\" >0.3638</td>\n",
       "      <td id=\"T_0a434_row9_col7\" class=\"data row9 col7\" >0.3812</td>\n",
       "      <td id=\"T_0a434_row9_col8\" class=\"data row9 col8\" >0.0080</td>\n",
       "    </tr>\n",
       "    <tr>\n",
       "      <th id=\"T_0a434_level0_row10\" class=\"row_heading level0 row10\" >knn</th>\n",
       "      <td id=\"T_0a434_row10_col0\" class=\"data row10 col0\" >K Neighbors Classifier</td>\n",
       "      <td id=\"T_0a434_row10_col1\" class=\"data row10 col1\" >0.7027</td>\n",
       "      <td id=\"T_0a434_row10_col2\" class=\"data row10 col2\" >0.7228</td>\n",
       "      <td id=\"T_0a434_row10_col3\" class=\"data row10 col3\" >0.5251</td>\n",
       "      <td id=\"T_0a434_row10_col4\" class=\"data row10 col4\" >0.6309</td>\n",
       "      <td id=\"T_0a434_row10_col5\" class=\"data row10 col5\" >0.5679</td>\n",
       "      <td id=\"T_0a434_row10_col6\" class=\"data row10 col6\" >0.3460</td>\n",
       "      <td id=\"T_0a434_row10_col7\" class=\"data row10 col7\" >0.3525</td>\n",
       "      <td id=\"T_0a434_row10_col8\" class=\"data row10 col8\" >0.0150</td>\n",
       "    </tr>\n",
       "    <tr>\n",
       "      <th id=\"T_0a434_level0_row11\" class=\"row_heading level0 row11\" >dummy</th>\n",
       "      <td id=\"T_0a434_row11_col0\" class=\"data row11 col0\" >Dummy Classifier</td>\n",
       "      <td id=\"T_0a434_row11_col1\" class=\"data row11 col1\" >0.6182</td>\n",
       "      <td id=\"T_0a434_row11_col2\" class=\"data row11 col2\" >0.5000</td>\n",
       "      <td id=\"T_0a434_row11_col3\" class=\"data row11 col3\" >0.0000</td>\n",
       "      <td id=\"T_0a434_row11_col4\" class=\"data row11 col4\" >0.0000</td>\n",
       "      <td id=\"T_0a434_row11_col5\" class=\"data row11 col5\" >0.0000</td>\n",
       "      <td id=\"T_0a434_row11_col6\" class=\"data row11 col6\" >0.0000</td>\n",
       "      <td id=\"T_0a434_row11_col7\" class=\"data row11 col7\" >0.0000</td>\n",
       "      <td id=\"T_0a434_row11_col8\" class=\"data row11 col8\" >0.0050</td>\n",
       "    </tr>\n",
       "    <tr>\n",
       "      <th id=\"T_0a434_level0_row12\" class=\"row_heading level0 row12\" >qda</th>\n",
       "      <td id=\"T_0a434_row12_col0\" class=\"data row12 col0\" >Quadratic Discriminant Analysis</td>\n",
       "      <td id=\"T_0a434_row12_col1\" class=\"data row12 col1\" >0.5151</td>\n",
       "      <td id=\"T_0a434_row12_col2\" class=\"data row12 col2\" >0.5584</td>\n",
       "      <td id=\"T_0a434_row12_col3\" class=\"data row12 col3\" >0.7433</td>\n",
       "      <td id=\"T_0a434_row12_col4\" class=\"data row12 col4\" >0.4282</td>\n",
       "      <td id=\"T_0a434_row12_col5\" class=\"data row12 col5\" >0.5386</td>\n",
       "      <td id=\"T_0a434_row12_col6\" class=\"data row12 col6\" >0.1046</td>\n",
       "      <td id=\"T_0a434_row12_col7\" class=\"data row12 col7\" >0.1221</td>\n",
       "      <td id=\"T_0a434_row12_col8\" class=\"data row12 col8\" >0.0080</td>\n",
       "    </tr>\n",
       "    <tr>\n",
       "      <th id=\"T_0a434_level0_row13\" class=\"row_heading level0 row13\" >nb</th>\n",
       "      <td id=\"T_0a434_row13_col0\" class=\"data row13 col0\" >Naive Bayes</td>\n",
       "      <td id=\"T_0a434_row13_col1\" class=\"data row13 col1\" >0.4139</td>\n",
       "      <td id=\"T_0a434_row13_col2\" class=\"data row13 col2\" >0.7962</td>\n",
       "      <td id=\"T_0a434_row13_col3\" class=\"data row13 col3\" >0.9735</td>\n",
       "      <td id=\"T_0a434_row13_col4\" class=\"data row13 col4\" >0.3923</td>\n",
       "      <td id=\"T_0a434_row13_col5\" class=\"data row13 col5\" >0.5591</td>\n",
       "      <td id=\"T_0a434_row13_col6\" class=\"data row13 col6\" >0.0326</td>\n",
       "      <td id=\"T_0a434_row13_col7\" class=\"data row13 col7\" >0.0854</td>\n",
       "      <td id=\"T_0a434_row13_col8\" class=\"data row13 col8\" >0.0060</td>\n",
       "    </tr>\n",
       "  </tbody>\n",
       "</table>\n"
      ],
      "text/plain": [
       "<pandas.io.formats.style.Styler at 0x7fb49472af70>"
      ]
     },
     "metadata": {},
     "output_type": "display_data"
    },
    {
     "data": {
      "text/plain": [
       "GradientBoostingClassifier(ccp_alpha=0.0, criterion='friedman_mse', init=None,\n",
       "                           learning_rate=0.1, loss='deviance', max_depth=3,\n",
       "                           max_features=None, max_leaf_nodes=None,\n",
       "                           min_impurity_decrease=0.0, min_impurity_split=None,\n",
       "                           min_samples_leaf=1, min_samples_split=2,\n",
       "                           min_weight_fraction_leaf=0.0, n_estimators=100,\n",
       "                           n_iter_no_change=None, presort='deprecated',\n",
       "                           random_state=123, subsample=1.0, tol=0.0001,\n",
       "                           validation_fraction=0.1, verbose=0,\n",
       "                           warm_start=False)"
      ]
     },
     "execution_count": 6,
     "metadata": {},
     "output_type": "execute_result"
    }
   ],
   "source": [
    "best = compare_models()\n",
    "best"
   ]
  },
  {
   "cell_type": "code",
   "execution_count": 7,
   "metadata": {},
   "outputs": [
    {
     "data": {
      "application/vnd.jupyter.widget-view+json": {
       "model_id": "301b6c3b74c2445da6bc9d760c62b04b",
       "version_major": 2,
       "version_minor": 0
      },
      "text/plain": [
       "interactive(children=(ToggleButtons(description='Plot Type:', icons=('',), options=(('Hyperparameters', 'param…"
      ]
     },
     "metadata": {},
     "output_type": "display_data"
    }
   ],
   "source": [
    "evaluate_model(best)"
   ]
  },
  {
   "attachments": {},
   "cell_type": "markdown",
   "metadata": {},
   "source": [
    "### Predictions\n",
    "This function predicts the Label and the Score (probability of predicted class) columns using a trained model. When data is None, it predicts label and score on the test set (created during the setup function)."
   ]
  },
  {
   "cell_type": "code",
   "execution_count": 17,
   "metadata": {},
   "outputs": [
    {
     "data": {
      "text/html": [
       "<style type=\"text/css\">\n",
       "</style>\n",
       "<table id=\"T_59800\">\n",
       "  <thead>\n",
       "    <tr>\n",
       "      <th class=\"blank level0\" >&nbsp;</th>\n",
       "      <th id=\"T_59800_level0_col0\" class=\"col_heading level0 col0\" >Model</th>\n",
       "      <th id=\"T_59800_level0_col1\" class=\"col_heading level0 col1\" >Accuracy</th>\n",
       "      <th id=\"T_59800_level0_col2\" class=\"col_heading level0 col2\" >AUC</th>\n",
       "      <th id=\"T_59800_level0_col3\" class=\"col_heading level0 col3\" >Recall</th>\n",
       "      <th id=\"T_59800_level0_col4\" class=\"col_heading level0 col4\" >Prec.</th>\n",
       "      <th id=\"T_59800_level0_col5\" class=\"col_heading level0 col5\" >F1</th>\n",
       "      <th id=\"T_59800_level0_col6\" class=\"col_heading level0 col6\" >Kappa</th>\n",
       "      <th id=\"T_59800_level0_col7\" class=\"col_heading level0 col7\" >MCC</th>\n",
       "    </tr>\n",
       "  </thead>\n",
       "  <tbody>\n",
       "    <tr>\n",
       "      <th id=\"T_59800_level0_row0\" class=\"row_heading level0 row0\" >0</th>\n",
       "      <td id=\"T_59800_row0_col0\" class=\"data row0 col0\" >Gradient Boosting Classifier</td>\n",
       "      <td id=\"T_59800_row0_col1\" class=\"data row0 col1\" >0.7795</td>\n",
       "      <td id=\"T_59800_row0_col2\" class=\"data row0 col2\" >0.8194</td>\n",
       "      <td id=\"T_59800_row0_col3\" class=\"data row0 col3\" >0.5810</td>\n",
       "      <td id=\"T_59800_row0_col4\" class=\"data row0 col4\" >0.8356</td>\n",
       "      <td id=\"T_59800_row0_col5\" class=\"data row0 col5\" >0.6854</td>\n",
       "      <td id=\"T_59800_row0_col6\" class=\"data row0 col6\" >0.5240</td>\n",
       "      <td id=\"T_59800_row0_col7\" class=\"data row0 col7\" >0.5445</td>\n",
       "    </tr>\n",
       "  </tbody>\n",
       "</table>\n"
      ],
      "text/plain": [
       "<pandas.io.formats.style.Styler at 0x7fb4947107c0>"
      ]
     },
     "metadata": {},
     "output_type": "display_data"
    },
    {
     "data": {
      "text/plain": [
       "alive  Label\n",
       "no     no       137\n",
       "       yes       12\n",
       "yes    no        44\n",
       "       yes       61\n",
       "Name: Score, dtype: int64"
      ]
     },
     "execution_count": 17,
     "metadata": {},
     "output_type": "execute_result"
    }
   ],
   "source": [
    "\n",
    "predictions_validation = predict_model(best)\n",
    "predictions_validation.groupby(['alive','Label'])['Score'].count()"
   ]
  },
  {
   "cell_type": "code",
   "execution_count": 9,
   "metadata": {},
   "outputs": [
    {
     "data": {
      "text/html": [
       "<style type=\"text/css\">\n",
       "</style>\n",
       "<table id=\"T_3fdaf\">\n",
       "  <thead>\n",
       "    <tr>\n",
       "      <th class=\"blank level0\" >&nbsp;</th>\n",
       "      <th id=\"T_3fdaf_level0_col0\" class=\"col_heading level0 col0\" >Model</th>\n",
       "      <th id=\"T_3fdaf_level0_col1\" class=\"col_heading level0 col1\" >Accuracy</th>\n",
       "      <th id=\"T_3fdaf_level0_col2\" class=\"col_heading level0 col2\" >AUC</th>\n",
       "      <th id=\"T_3fdaf_level0_col3\" class=\"col_heading level0 col3\" >Recall</th>\n",
       "      <th id=\"T_3fdaf_level0_col4\" class=\"col_heading level0 col4\" >Prec.</th>\n",
       "      <th id=\"T_3fdaf_level0_col5\" class=\"col_heading level0 col5\" >F1</th>\n",
       "      <th id=\"T_3fdaf_level0_col6\" class=\"col_heading level0 col6\" >Kappa</th>\n",
       "      <th id=\"T_3fdaf_level0_col7\" class=\"col_heading level0 col7\" >MCC</th>\n",
       "    </tr>\n",
       "  </thead>\n",
       "  <tbody>\n",
       "    <tr>\n",
       "      <th id=\"T_3fdaf_level0_row0\" class=\"row_heading level0 row0\" >0</th>\n",
       "      <td id=\"T_3fdaf_row0_col0\" class=\"data row0 col0\" >Gradient Boosting Classifier</td>\n",
       "      <td id=\"T_3fdaf_row0_col1\" class=\"data row0 col1\" >0</td>\n",
       "      <td id=\"T_3fdaf_row0_col2\" class=\"data row0 col2\" >0.9412</td>\n",
       "      <td id=\"T_3fdaf_row0_col3\" class=\"data row0 col3\" >0</td>\n",
       "      <td id=\"T_3fdaf_row0_col4\" class=\"data row0 col4\" >0</td>\n",
       "      <td id=\"T_3fdaf_row0_col5\" class=\"data row0 col5\" >0</td>\n",
       "      <td id=\"T_3fdaf_row0_col6\" class=\"data row0 col6\" >0</td>\n",
       "      <td id=\"T_3fdaf_row0_col7\" class=\"data row0 col7\" >0</td>\n",
       "    </tr>\n",
       "  </tbody>\n",
       "</table>\n"
      ],
      "text/plain": [
       "<pandas.io.formats.style.Styler at 0x7fb49647c0d0>"
      ]
     },
     "metadata": {},
     "output_type": "display_data"
    },
    {
     "data": {
      "text/plain": [
       "alive  Label\n",
       "no     no       33\n",
       "       yes       1\n",
       "yes    no        3\n",
       "       yes       8\n",
       "Name: Score, dtype: int64"
      ]
     },
     "execution_count": 9,
     "metadata": {},
     "output_type": "execute_result"
    }
   ],
   "source": [
    "\n",
    "predictions = predict_model(best, data=test)\n",
    "predictions.groupby(['alive','Label'])['Score'].count()"
   ]
  },
  {
   "attachments": {},
   "cell_type": "markdown",
   "metadata": {},
   "source": [
    "### Hyperparameters tuning"
   ]
  },
  {
   "cell_type": "code",
   "execution_count": 10,
   "metadata": {},
   "outputs": [
    {
     "data": {
      "text/html": [
       "<style type=\"text/css\">\n",
       "#T_dc273_row10_col0, #T_dc273_row10_col1, #T_dc273_row10_col2, #T_dc273_row10_col3, #T_dc273_row10_col4, #T_dc273_row10_col5, #T_dc273_row10_col6 {\n",
       "  background: yellow;\n",
       "}\n",
       "</style>\n",
       "<table id=\"T_dc273\">\n",
       "  <thead>\n",
       "    <tr>\n",
       "      <th class=\"blank level0\" >&nbsp;</th>\n",
       "      <th id=\"T_dc273_level0_col0\" class=\"col_heading level0 col0\" >Accuracy</th>\n",
       "      <th id=\"T_dc273_level0_col1\" class=\"col_heading level0 col1\" >AUC</th>\n",
       "      <th id=\"T_dc273_level0_col2\" class=\"col_heading level0 col2\" >Recall</th>\n",
       "      <th id=\"T_dc273_level0_col3\" class=\"col_heading level0 col3\" >Prec.</th>\n",
       "      <th id=\"T_dc273_level0_col4\" class=\"col_heading level0 col4\" >F1</th>\n",
       "      <th id=\"T_dc273_level0_col5\" class=\"col_heading level0 col5\" >Kappa</th>\n",
       "      <th id=\"T_dc273_level0_col6\" class=\"col_heading level0 col6\" >MCC</th>\n",
       "    </tr>\n",
       "    <tr>\n",
       "      <th class=\"index_name level0\" >Fold</th>\n",
       "      <th class=\"blank col0\" >&nbsp;</th>\n",
       "      <th class=\"blank col1\" >&nbsp;</th>\n",
       "      <th class=\"blank col2\" >&nbsp;</th>\n",
       "      <th class=\"blank col3\" >&nbsp;</th>\n",
       "      <th class=\"blank col4\" >&nbsp;</th>\n",
       "      <th class=\"blank col5\" >&nbsp;</th>\n",
       "      <th class=\"blank col6\" >&nbsp;</th>\n",
       "    </tr>\n",
       "  </thead>\n",
       "  <tbody>\n",
       "    <tr>\n",
       "      <th id=\"T_dc273_level0_row0\" class=\"row_heading level0 row0\" >0</th>\n",
       "      <td id=\"T_dc273_row0_col0\" class=\"data row0 col0\" >0.9000</td>\n",
       "      <td id=\"T_dc273_row0_col1\" class=\"data row0 col1\" >0.8813</td>\n",
       "      <td id=\"T_dc273_row0_col2\" class=\"data row0 col2\" >0.7391</td>\n",
       "      <td id=\"T_dc273_row0_col3\" class=\"data row0 col3\" >1.0000</td>\n",
       "      <td id=\"T_dc273_row0_col4\" class=\"data row0 col4\" >0.8500</td>\n",
       "      <td id=\"T_dc273_row0_col5\" class=\"data row0 col5\" >0.7775</td>\n",
       "      <td id=\"T_dc273_row0_col6\" class=\"data row0 col6\" >0.7975</td>\n",
       "    </tr>\n",
       "    <tr>\n",
       "      <th id=\"T_dc273_level0_row1\" class=\"row_heading level0 row1\" >1</th>\n",
       "      <td id=\"T_dc273_row1_col0\" class=\"data row1 col0\" >0.8500</td>\n",
       "      <td id=\"T_dc273_row1_col1\" class=\"data row1 col1\" >0.8919</td>\n",
       "      <td id=\"T_dc273_row1_col2\" class=\"data row1 col2\" >0.6522</td>\n",
       "      <td id=\"T_dc273_row1_col3\" class=\"data row1 col3\" >0.9375</td>\n",
       "      <td id=\"T_dc273_row1_col4\" class=\"data row1 col4\" >0.7692</td>\n",
       "      <td id=\"T_dc273_row1_col5\" class=\"data row1 col5\" >0.6633</td>\n",
       "      <td id=\"T_dc273_row1_col6\" class=\"data row1 col6\" >0.6873</td>\n",
       "    </tr>\n",
       "    <tr>\n",
       "      <th id=\"T_dc273_level0_row2\" class=\"row_heading level0 row2\" >2</th>\n",
       "      <td id=\"T_dc273_row2_col0\" class=\"data row2 col0\" >0.8305</td>\n",
       "      <td id=\"T_dc273_row2_col1\" class=\"data row2 col1\" >0.8391</td>\n",
       "      <td id=\"T_dc273_row2_col2\" class=\"data row2 col2\" >0.6364</td>\n",
       "      <td id=\"T_dc273_row2_col3\" class=\"data row2 col3\" >0.8750</td>\n",
       "      <td id=\"T_dc273_row2_col4\" class=\"data row2 col4\" >0.7368</td>\n",
       "      <td id=\"T_dc273_row2_col5\" class=\"data row2 col5\" >0.6164</td>\n",
       "      <td id=\"T_dc273_row2_col6\" class=\"data row2 col6\" >0.6334</td>\n",
       "    </tr>\n",
       "    <tr>\n",
       "      <th id=\"T_dc273_level0_row3\" class=\"row_heading level0 row3\" >3</th>\n",
       "      <td id=\"T_dc273_row3_col0\" class=\"data row3 col0\" >0.8136</td>\n",
       "      <td id=\"T_dc273_row3_col1\" class=\"data row3 col1\" >0.8636</td>\n",
       "      <td id=\"T_dc273_row3_col2\" class=\"data row3 col2\" >0.6364</td>\n",
       "      <td id=\"T_dc273_row3_col3\" class=\"data row3 col3\" >0.8235</td>\n",
       "      <td id=\"T_dc273_row3_col4\" class=\"data row3 col4\" >0.7179</td>\n",
       "      <td id=\"T_dc273_row3_col5\" class=\"data row3 col5\" >0.5821</td>\n",
       "      <td id=\"T_dc273_row3_col6\" class=\"data row3 col6\" >0.5929</td>\n",
       "    </tr>\n",
       "    <tr>\n",
       "      <th id=\"T_dc273_level0_row4\" class=\"row_heading level0 row4\" >4</th>\n",
       "      <td id=\"T_dc273_row4_col0\" class=\"data row4 col0\" >0.8475</td>\n",
       "      <td id=\"T_dc273_row4_col1\" class=\"data row4 col1\" >0.8857</td>\n",
       "      <td id=\"T_dc273_row4_col2\" class=\"data row4 col2\" >0.6364</td>\n",
       "      <td id=\"T_dc273_row4_col3\" class=\"data row4 col3\" >0.9333</td>\n",
       "      <td id=\"T_dc273_row4_col4\" class=\"data row4 col4\" >0.7568</td>\n",
       "      <td id=\"T_dc273_row4_col5\" class=\"data row4 col5\" >0.6513</td>\n",
       "      <td id=\"T_dc273_row4_col6\" class=\"data row4 col6\" >0.6767</td>\n",
       "    </tr>\n",
       "    <tr>\n",
       "      <th id=\"T_dc273_level0_row5\" class=\"row_heading level0 row5\" >5</th>\n",
       "      <td id=\"T_dc273_row5_col0\" class=\"data row5 col0\" >0.9492</td>\n",
       "      <td id=\"T_dc273_row5_col1\" class=\"data row5 col1\" >0.9373</td>\n",
       "      <td id=\"T_dc273_row5_col2\" class=\"data row5 col2\" >0.9091</td>\n",
       "      <td id=\"T_dc273_row5_col3\" class=\"data row5 col3\" >0.9524</td>\n",
       "      <td id=\"T_dc273_row5_col4\" class=\"data row5 col4\" >0.9302</td>\n",
       "      <td id=\"T_dc273_row5_col5\" class=\"data row5 col5\" >0.8903</td>\n",
       "      <td id=\"T_dc273_row5_col6\" class=\"data row5 col6\" >0.8909</td>\n",
       "    </tr>\n",
       "    <tr>\n",
       "      <th id=\"T_dc273_level0_row6\" class=\"row_heading level0 row6\" >6</th>\n",
       "      <td id=\"T_dc273_row6_col0\" class=\"data row6 col0\" >0.8644</td>\n",
       "      <td id=\"T_dc273_row6_col1\" class=\"data row6 col1\" >0.8732</td>\n",
       "      <td id=\"T_dc273_row6_col2\" class=\"data row6 col2\" >0.7391</td>\n",
       "      <td id=\"T_dc273_row6_col3\" class=\"data row6 col3\" >0.8947</td>\n",
       "      <td id=\"T_dc273_row6_col4\" class=\"data row6 col4\" >0.8095</td>\n",
       "      <td id=\"T_dc273_row6_col5\" class=\"data row6 col5\" >0.7057</td>\n",
       "      <td id=\"T_dc273_row6_col6\" class=\"data row6 col6\" >0.7135</td>\n",
       "    </tr>\n",
       "    <tr>\n",
       "      <th id=\"T_dc273_level0_row7\" class=\"row_heading level0 row7\" >7</th>\n",
       "      <td id=\"T_dc273_row7_col0\" class=\"data row7 col0\" >0.7797</td>\n",
       "      <td id=\"T_dc273_row7_col1\" class=\"data row7 col1\" >0.8877</td>\n",
       "      <td id=\"T_dc273_row7_col2\" class=\"data row7 col2\" >0.6087</td>\n",
       "      <td id=\"T_dc273_row7_col3\" class=\"data row7 col3\" >0.7778</td>\n",
       "      <td id=\"T_dc273_row7_col4\" class=\"data row7 col4\" >0.6829</td>\n",
       "      <td id=\"T_dc273_row7_col5\" class=\"data row7 col5\" >0.5179</td>\n",
       "      <td id=\"T_dc273_row7_col6\" class=\"data row7 col6\" >0.5271</td>\n",
       "    </tr>\n",
       "    <tr>\n",
       "      <th id=\"T_dc273_level0_row8\" class=\"row_heading level0 row8\" >8</th>\n",
       "      <td id=\"T_dc273_row8_col0\" class=\"data row8 col0\" >0.7797</td>\n",
       "      <td id=\"T_dc273_row8_col1\" class=\"data row8 col1\" >0.7029</td>\n",
       "      <td id=\"T_dc273_row8_col2\" class=\"data row8 col2\" >0.5217</td>\n",
       "      <td id=\"T_dc273_row8_col3\" class=\"data row8 col3\" >0.8571</td>\n",
       "      <td id=\"T_dc273_row8_col4\" class=\"data row8 col4\" >0.6486</td>\n",
       "      <td id=\"T_dc273_row8_col5\" class=\"data row8 col5\" >0.5016</td>\n",
       "      <td id=\"T_dc273_row8_col6\" class=\"data row8 col6\" >0.5344</td>\n",
       "    </tr>\n",
       "    <tr>\n",
       "      <th id=\"T_dc273_level0_row9\" class=\"row_heading level0 row9\" >9</th>\n",
       "      <td id=\"T_dc273_row9_col0\" class=\"data row9 col0\" >0.8814</td>\n",
       "      <td id=\"T_dc273_row9_col1\" class=\"data row9 col1\" >0.8810</td>\n",
       "      <td id=\"T_dc273_row9_col2\" class=\"data row9 col2\" >0.6957</td>\n",
       "      <td id=\"T_dc273_row9_col3\" class=\"data row9 col3\" >1.0000</td>\n",
       "      <td id=\"T_dc273_row9_col4\" class=\"data row9 col4\" >0.8205</td>\n",
       "      <td id=\"T_dc273_row9_col5\" class=\"data row9 col5\" >0.7361</td>\n",
       "      <td id=\"T_dc273_row9_col6\" class=\"data row9 col6\" >0.7632</td>\n",
       "    </tr>\n",
       "    <tr>\n",
       "      <th id=\"T_dc273_level0_row10\" class=\"row_heading level0 row10\" >Mean</th>\n",
       "      <td id=\"T_dc273_row10_col0\" class=\"data row10 col0\" >0.8496</td>\n",
       "      <td id=\"T_dc273_row10_col1\" class=\"data row10 col1\" >0.8644</td>\n",
       "      <td id=\"T_dc273_row10_col2\" class=\"data row10 col2\" >0.6775</td>\n",
       "      <td id=\"T_dc273_row10_col3\" class=\"data row10 col3\" >0.9051</td>\n",
       "      <td id=\"T_dc273_row10_col4\" class=\"data row10 col4\" >0.7723</td>\n",
       "      <td id=\"T_dc273_row10_col5\" class=\"data row10 col5\" >0.6642</td>\n",
       "      <td id=\"T_dc273_row10_col6\" class=\"data row10 col6\" >0.6817</td>\n",
       "    </tr>\n",
       "    <tr>\n",
       "      <th id=\"T_dc273_level0_row11\" class=\"row_heading level0 row11\" >Std</th>\n",
       "      <td id=\"T_dc273_row11_col0\" class=\"data row11 col0\" >0.0501</td>\n",
       "      <td id=\"T_dc273_row11_col1\" class=\"data row11 col1\" >0.0587</td>\n",
       "      <td id=\"T_dc273_row11_col2\" class=\"data row11 col2\" >0.0981</td>\n",
       "      <td id=\"T_dc273_row11_col3\" class=\"data row11 col3\" >0.0695</td>\n",
       "      <td id=\"T_dc273_row11_col4\" class=\"data row11 col4\" >0.0790</td>\n",
       "      <td id=\"T_dc273_row11_col5\" class=\"data row11 col5\" >0.1131</td>\n",
       "      <td id=\"T_dc273_row11_col6\" class=\"data row11 col6\" >0.1099</td>\n",
       "    </tr>\n",
       "  </tbody>\n",
       "</table>\n"
      ],
      "text/plain": [
       "<pandas.io.formats.style.Styler at 0x7fb49c78e8b0>"
      ]
     },
     "metadata": {},
     "output_type": "display_data"
    }
   ],
   "source": [
    "best_tuned = tune_model(best, optimize='AUC')"
   ]
  },
  {
   "cell_type": "code",
   "execution_count": 11,
   "metadata": {},
   "outputs": [
    {
     "data": {
      "text/html": [
       "<style type=\"text/css\">\n",
       "</style>\n",
       "<table id=\"T_2e95d\">\n",
       "  <thead>\n",
       "    <tr>\n",
       "      <th class=\"blank level0\" >&nbsp;</th>\n",
       "      <th id=\"T_2e95d_level0_col0\" class=\"col_heading level0 col0\" >Model</th>\n",
       "      <th id=\"T_2e95d_level0_col1\" class=\"col_heading level0 col1\" >Accuracy</th>\n",
       "      <th id=\"T_2e95d_level0_col2\" class=\"col_heading level0 col2\" >AUC</th>\n",
       "      <th id=\"T_2e95d_level0_col3\" class=\"col_heading level0 col3\" >Recall</th>\n",
       "      <th id=\"T_2e95d_level0_col4\" class=\"col_heading level0 col4\" >Prec.</th>\n",
       "      <th id=\"T_2e95d_level0_col5\" class=\"col_heading level0 col5\" >F1</th>\n",
       "      <th id=\"T_2e95d_level0_col6\" class=\"col_heading level0 col6\" >Kappa</th>\n",
       "      <th id=\"T_2e95d_level0_col7\" class=\"col_heading level0 col7\" >MCC</th>\n",
       "    </tr>\n",
       "  </thead>\n",
       "  <tbody>\n",
       "    <tr>\n",
       "      <th id=\"T_2e95d_level0_row0\" class=\"row_heading level0 row0\" >0</th>\n",
       "      <td id=\"T_2e95d_row0_col0\" class=\"data row0 col0\" >Gradient Boosting Classifier</td>\n",
       "      <td id=\"T_2e95d_row0_col1\" class=\"data row0 col1\" >0</td>\n",
       "      <td id=\"T_2e95d_row0_col2\" class=\"data row0 col2\" >0.9572</td>\n",
       "      <td id=\"T_2e95d_row0_col3\" class=\"data row0 col3\" >0</td>\n",
       "      <td id=\"T_2e95d_row0_col4\" class=\"data row0 col4\" >0</td>\n",
       "      <td id=\"T_2e95d_row0_col5\" class=\"data row0 col5\" >0</td>\n",
       "      <td id=\"T_2e95d_row0_col6\" class=\"data row0 col6\" >0</td>\n",
       "      <td id=\"T_2e95d_row0_col7\" class=\"data row0 col7\" >0</td>\n",
       "    </tr>\n",
       "  </tbody>\n",
       "</table>\n"
      ],
      "text/plain": [
       "<pandas.io.formats.style.Styler at 0x7fb49c7860a0>"
      ]
     },
     "metadata": {},
     "output_type": "display_data"
    },
    {
     "data": {
      "text/plain": [
       "alive  Label\n",
       "no     no       34\n",
       "yes    no        4\n",
       "       yes       7\n",
       "Name: Score, dtype: int64"
      ]
     },
     "execution_count": 11,
     "metadata": {},
     "output_type": "execute_result"
    }
   ],
   "source": [
    "predictions = predict_model(best_tuned, data=test)\n",
    "predictions.groupby(['alive','Label'])['Score'].count()"
   ]
  },
  {
   "cell_type": "code",
   "execution_count": 12,
   "metadata": {},
   "outputs": [
    {
     "data": {
      "image/png": "[encoded data removed]",
      "text/plain": [
       "<Figure size 800x550 with 1 Axes>"
      ]
     },
     "metadata": {},
     "output_type": "display_data"
    }
   ],
   "source": [
    "plot_model(best_tuned)"
   ]
  },
  {
   "cell_type": "code",
   "execution_count": 13,
   "metadata": {},
   "outputs": [
    {
     "data": {
      "image/png": "[encoded data removed]",
      "text/plain": [
       "<Figure size 800x550 with 1 Axes>"
      ]
     },
     "metadata": {},
     "output_type": "display_data"
    }
   ],
   "source": [
    "\n",
    "plot_model(best_tuned, plot = 'confusion_matrix')"
   ]
  },
  {
   "cell_type": "code",
   "execution_count": 14,
   "metadata": {},
   "outputs": [
    {
     "data": {
      "image/png": "[encoded data removed]",
      "text/plain": [
       "<Figure size 800x500 with 1 Axes>"
      ]
     },
     "metadata": {},
     "output_type": "display_data"
    }
   ],
   "source": [
    "plot_model(best_tuned, plot='feature')"
   ]
  },
  {
   "cell_type": "code",
   "execution_count": 15,
   "metadata": {},
   "outputs": [
    {
     "data": {
      "application/vnd.jupyter.widget-view+json": {
       "model_id": "637892fd02bd466c970718e381e8eeb1",
       "version_major": 2,
       "version_minor": 0
      },
      "text/plain": [
       "interactive(children=(ToggleButtons(description='Plot Type:', icons=('',), options=(('Hyperparameters', 'param…"
      ]
     },
     "metadata": {},
     "output_type": "display_data"
    }
   ],
   "source": [
    "evaluate_model(best_tuned)"
   ]
  },
  {
   "cell_type": "code",
   "execution_count": 16,
   "metadata": {},
   "outputs": [
    {
     "ename": "TypeError",
     "evalue": "This function only supports tree based models for binary classification: lightgbm, dt, rf, et.",
     "output_type": "error",
     "traceback": [
      "\u001b[0;31m---------------------------------------------------------------------------\u001b[0m",
      "\u001b[0;31mTypeError\u001b[0m                                 Traceback (most recent call last)",
      "Cell \u001b[0;32mIn[16], line 2\u001b[0m\n\u001b[1;32m      1\u001b[0m \u001b[39m# Interpret the model using SHAP values\u001b[39;00m\n\u001b[0;32m----> 2\u001b[0m interpret_model(best_tuned)\n",
      "File \u001b[0;32m~/miniconda3/envs/pycaret/lib/python3.8/site-packages/pycaret/classification.py:1865\u001b[0m, in \u001b[0;36minterpret_model\u001b[0;34m(estimator, plot, feature, observation, use_train_data, X_new_sample, y_new_sample, save, **kwargs)\u001b[0m\n\u001b[1;32m   1776\u001b[0m \u001b[39mdef\u001b[39;00m \u001b[39minterpret_model\u001b[39m(\n\u001b[1;32m   1777\u001b[0m     estimator,\n\u001b[1;32m   1778\u001b[0m     plot: \u001b[39mstr\u001b[39m \u001b[39m=\u001b[39m \u001b[39m\"\u001b[39m\u001b[39msummary\u001b[39m\u001b[39m\"\u001b[39m,\n\u001b[0;32m   (...)\u001b[0m\n\u001b[1;32m   1785\u001b[0m     \u001b[39m*\u001b[39m\u001b[39m*\u001b[39mkwargs,\n\u001b[1;32m   1786\u001b[0m ):\n\u001b[1;32m   1788\u001b[0m \u001b[39m    \u001b[39m\u001b[39m\"\"\"\u001b[39;00m\n\u001b[1;32m   1789\u001b[0m \u001b[39m    This function analyzes the predictions generated from a trained model. Most plots\u001b[39;00m\n\u001b[1;32m   1790\u001b[0m \u001b[39m    in this function are implemented based on the SHAP (SHapley Additive exPlanations).\u001b[39;00m\n\u001b[0;32m   (...)\u001b[0m\n\u001b[1;32m   1862\u001b[0m \n\u001b[1;32m   1863\u001b[0m \u001b[39m    \"\"\"\u001b[39;00m\n\u001b[0;32m-> 1865\u001b[0m     \u001b[39mreturn\u001b[39;00m pycaret\u001b[39m.\u001b[39;49minternal\u001b[39m.\u001b[39;49mtabular\u001b[39m.\u001b[39;49minterpret_model(\n\u001b[1;32m   1866\u001b[0m         estimator\u001b[39m=\u001b[39;49mestimator,\n\u001b[1;32m   1867\u001b[0m         plot\u001b[39m=\u001b[39;49mplot,\n\u001b[1;32m   1868\u001b[0m         feature\u001b[39m=\u001b[39;49mfeature,\n\u001b[1;32m   1869\u001b[0m         observation\u001b[39m=\u001b[39;49mobservation,\n\u001b[1;32m   1870\u001b[0m         use_train_data\u001b[39m=\u001b[39;49muse_train_data,\n\u001b[1;32m   1871\u001b[0m         X_new_sample\u001b[39m=\u001b[39;49mX_new_sample,\n\u001b[1;32m   1872\u001b[0m         y_new_sample\u001b[39m=\u001b[39;49my_new_sample,\n\u001b[1;32m   1873\u001b[0m         save\u001b[39m=\u001b[39;49msave,\n\u001b[1;32m   1874\u001b[0m         \u001b[39m*\u001b[39;49m\u001b[39m*\u001b[39;49mkwargs,\n\u001b[1;32m   1875\u001b[0m     )\n",
      "File \u001b[0;32m~/miniconda3/envs/pycaret/lib/python3.8/site-packages/pycaret/internal/tabular.py:7998\u001b[0m, in \u001b[0;36minterpret_model\u001b[0;34m(estimator, plot, feature, observation, use_train_data, X_new_sample, y_new_sample, save, **kwargs)\u001b[0m\n\u001b[1;32m   7993\u001b[0m shap_models_ids \u001b[39m=\u001b[39m \u001b[39mset\u001b[39m(shap_models\u001b[39m.\u001b[39mkeys())\n\u001b[1;32m   7995\u001b[0m \u001b[39mif\u001b[39;00m plot \u001b[39min\u001b[39;00m [\u001b[39m\"\u001b[39m\u001b[39msummary\u001b[39m\u001b[39m\"\u001b[39m, \u001b[39m\"\u001b[39m\u001b[39mcorrelation\u001b[39m\u001b[39m\"\u001b[39m, \u001b[39m\"\u001b[39m\u001b[39mreason\u001b[39m\u001b[39m\"\u001b[39m] \u001b[39mand\u001b[39;00m (\n\u001b[1;32m   7996\u001b[0m     model_id \u001b[39mnot\u001b[39;00m \u001b[39min\u001b[39;00m shap_models_ids\n\u001b[1;32m   7997\u001b[0m ):\n\u001b[0;32m-> 7998\u001b[0m     \u001b[39mraise\u001b[39;00m \u001b[39mTypeError\u001b[39;00m(\n\u001b[1;32m   7999\u001b[0m         \u001b[39mf\u001b[39m\u001b[39m\"\u001b[39m\u001b[39mThis function only supports tree based models for binary classification: \u001b[39m\u001b[39m{\u001b[39;00m\u001b[39m'\u001b[39m\u001b[39m, \u001b[39m\u001b[39m'\u001b[39m\u001b[39m.\u001b[39mjoin(shap_models_ids)\u001b[39m}\u001b[39;00m\u001b[39m.\u001b[39m\u001b[39m\"\u001b[39m\n\u001b[1;32m   8000\u001b[0m     )\n\u001b[1;32m   8002\u001b[0m \u001b[39m# plot type\u001b[39;00m\n\u001b[1;32m   8003\u001b[0m allowed_types \u001b[39m=\u001b[39m [\u001b[39m\"\u001b[39m\u001b[39msummary\u001b[39m\u001b[39m\"\u001b[39m, \u001b[39m\"\u001b[39m\u001b[39mcorrelation\u001b[39m\u001b[39m\"\u001b[39m, \u001b[39m\"\u001b[39m\u001b[39mreason\u001b[39m\u001b[39m\"\u001b[39m, \u001b[39m\"\u001b[39m\u001b[39mpdp\u001b[39m\u001b[39m\"\u001b[39m, \u001b[39m\"\u001b[39m\u001b[39mmsa\u001b[39m\u001b[39m\"\u001b[39m, \u001b[39m\"\u001b[39m\u001b[39mpfi\u001b[39m\u001b[39m\"\u001b[39m]\n",
      "\u001b[0;31mTypeError\u001b[0m: This function only supports tree based models for binary classification: lightgbm, dt, rf, et."
     ]
    }
   ],
   "source": [
    "# Interpret the model using SHAP values\n",
    "interpret_model(best_tuned)"
   ]
  },
  {
   "cell_type": "code",
   "execution_count": null,
   "metadata": {},
   "outputs": [
    {
     "data": {
      "text/plain": [
       "GradientBoostingClassifier(ccp_alpha=0.0, criterion='friedman_mse', init=None,\n",
       "                           learning_rate=0.01, loss='deviance', max_depth=7,\n",
       "                           max_features='sqrt', max_leaf_nodes=None,\n",
       "                           min_impurity_decrease=0.05, min_impurity_split=None,\n",
       "                           min_samples_leaf=2, min_samples_split=2,\n",
       "                           min_weight_fraction_leaf=0.0, n_estimators=140,\n",
       "                           n_iter_no_change=None, presort='deprecated',\n",
       "                           random_state=123, subsample=0.35, tol=0.0001,\n",
       "                           validation_fraction=0.1, verbose=0,\n",
       "                           warm_start=False)"
      ]
     },
     "execution_count": 39,
     "metadata": {},
     "output_type": "execute_result"
    }
   ],
   "source": [
    "# Finalize the model\n",
    "finalize_model(best_tuned)"
   ]
  },
  {
   "cell_type": "code",
   "execution_count": 18,
   "metadata": {},
   "outputs": [
    {
     "name": "stdout",
     "output_type": "stream",
     "text": [
      "Transformation Pipeline and Model Successfully Saved\n"
     ]
    },
    {
     "data": {
      "text/plain": [
       "(Pipeline(memory=None,\n",
       "          steps=[('dtypes',\n",
       "                  DataTypes_Auto_infer(categorical_features=[],\n",
       "                                       display_types=True, features_todrop=[],\n",
       "                                       id_columns=[],\n",
       "                                       ml_usecase='classification',\n",
       "                                       numerical_features=[], target='alive',\n",
       "                                       time_features=[])),\n",
       "                 ('imputer',\n",
       "                  Simple_Imputer(categorical_strategy='not_available',\n",
       "                                 fill_value_categorical=None,\n",
       "                                 fill_value_numerical=None,\n",
       "                                 numeric_strate...\n",
       "                                             learning_rate=0.01, loss='deviance',\n",
       "                                             max_depth=7, max_features='sqrt',\n",
       "                                             max_leaf_nodes=None,\n",
       "                                             min_impurity_decrease=0.05,\n",
       "                                             min_impurity_split=None,\n",
       "                                             min_samples_leaf=2,\n",
       "                                             min_samples_split=2,\n",
       "                                             min_weight_fraction_leaf=0.0,\n",
       "                                             n_estimators=140,\n",
       "                                             n_iter_no_change=None,\n",
       "                                             presort='deprecated',\n",
       "                                             random_state=123, subsample=0.35,\n",
       "                                             tol=0.0001, validation_fraction=0.1,\n",
       "                                             verbose=0, warm_start=False)]],\n",
       "          verbose=False),\n",
       " 'best_tuned_today.pkl')"
      ]
     },
     "execution_count": 18,
     "metadata": {},
     "output_type": "execute_result"
    }
   ],
   "source": [
    "# Save the model\n",
    "str_today = 'today'\n",
    "save_model(best_tuned, f'best_tuned_{str_today}')"
   ]
  },
  {
   "cell_type": "code",
   "execution_count": null,
   "metadata": {},
   "outputs": [],
   "source": []
  }
 ],
 "metadata": {
  "kernelspec": {
   "display_name": "pycaret",
   "language": "python",
   "name": "python3"
  },
  "language_info": {
   "codemirror_mode": {
    "name": "ipython",
    "version": 3
   },
   "file_extension": ".py",
   "mimetype": "text/x-python",
   "name": "python",
   "nbconvert_exporter": "python",
   "pygments_lexer": "ipython3",
   "version": "3.8.15 (default, Nov 24 2022, 09:04:07) \n[Clang 14.0.6 ]"
  },
  "orig_nbformat": 4,
  "vscode": {
   "interpreter": {
    "hash": "138c5020f3bb13d0df2d0aaaa1673e8ac6a2d7368c183a5c807de4eb9a453ad2"
   }
  }
 },
 "nbformat": 4,
 "nbformat_minor": 2
}
