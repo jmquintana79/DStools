{
 "cells": [
  {
   "cell_type": "markdown",
   "id": "c390b2d6-a53e-4076-8b54-1eb5ec2b70f6",
   "metadata": {},
   "source": [
    "# notebook-interpretability-SHAP\n",
    "\n",
    "Lo que quiero hacer aqui es probar esta libreria usando alguno de los ejemplos de los notebooks sobre lightgb."
   ]
  },
  {
   "cell_type": "code",
   "execution_count": null,
   "id": "4075e57f-94e8-4724-ae68-91977c11533b",
   "metadata": {},
   "outputs": [],
   "source": []
  }
 ],
 "metadata": {
  "kernelspec": {
   "display_name": "analysis",
   "language": "python",
   "name": "analysis"
  },
  "language_info": {
   "codemirror_mode": {
    "name": "ipython",
    "version": 3
   },
   "file_extension": ".py",
   "mimetype": "text/x-python",
   "name": "python",
   "nbconvert_exporter": "python",
   "pygments_lexer": "ipython3",
   "version": "3.7.0"
  }
 },
 "nbformat": 4,
 "nbformat_minor": 5
}
