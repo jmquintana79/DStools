{
 "cells": [
  {
   "cell_type": "markdown",
   "metadata": {},
   "source": [
    "## CREATE DATASET\n",
    "\n",
    "It is a simple tool to format a dataset to be uploaded in my GitHub account."
   ]
  },
  {
   "cell_type": "code",
   "execution_count": 2,
   "metadata": {},
   "outputs": [],
   "source": [
    "import os\n",
    "import pandas as pd\n",
    "import numpy as np"
   ]
  },
  {
   "cell_type": "markdown",
   "metadata": {},
   "source": [
    "### arguments"
   ]
  },
  {
   "cell_type": "code",
   "execution_count": 3,
   "metadata": {},
   "outputs": [],
   "source": [
    "path_input = 'raw.solar.csv'\n",
    "path_output = 'dataset.solar.csv'\n",
    "delcols = ['logy']"
   ]
  },
  {
   "cell_type": "markdown",
   "metadata": {},
   "source": [
    "### read and prepare"
   ]
  },
  {
   "cell_type": "code",
   "execution_count": 7,
   "metadata": {},
   "outputs": [
    {
     "name": "stdout",
     "output_type": "stream",
     "text": [
      "period: 2013-01-01 10:00:00 --> 2015-12-31 23:00:00\n",
      "<class 'pandas.core.frame.DataFrame'>\n",
      "DatetimeIndex: 26029 entries, 2013-01-01 10:00:00 to 2015-12-31 23:00:00\n",
      "Data columns (total 27 columns):\n",
      "hforecast       26029 non-null int64\n",
      "VGRD267         26029 non-null float64\n",
      "UGRD267         26029 non-null float64\n",
      "LCDC267         26029 non-null float64\n",
      "MCDC267         26029 non-null float64\n",
      "HCDC267         26029 non-null float64\n",
      "TCDC267         26029 non-null float64\n",
      "PRES267         26029 non-null float64\n",
      "RH267           26029 non-null float64\n",
      "TMP267          26029 non-null float64\n",
      "APCP267         26029 non-null float64\n",
      "HWS267          26029 non-null float64\n",
      "cLCDC267        26029 non-null int64\n",
      "cMCDC267        26029 non-null int64\n",
      "cHCDC267        26029 non-null int64\n",
      "cTCDC267        26029 non-null int64\n",
      "logAPCP267      26029 non-null float64\n",
      "cAPCP267        26029 non-null object\n",
      "year            26029 non-null int64\n",
      "month           26029 non-null int64\n",
      "hour            26029 non-null int64\n",
      "doy             26029 non-null int64\n",
      "y               26029 non-null float64\n",
      "cy              26029 non-null float64\n",
      "DSWRF267        26029 non-null float64\n",
      "diffAPCP267     26029 non-null float64\n",
      "diffDSWRF267    26029 non-null float64\n",
      "dtypes: float64(17), int64(9), object(1)\n",
      "memory usage: 5.6+ MB\n"
     ]
    }
   ],
   "source": [
    "# read\n",
    "data = pd.read_csv(path_input, index_col='dt')\n",
    "data.index = pd.to_datetime(data.index)\n",
    "# filter columns\n",
    "data.drop(delcols, axis=1, inplace=True)\n",
    "# filter rows\n",
    "data = data.dropna()\n",
    "# display result\n",
    "ldt = data.index.tolist()\n",
    "print('period: %s --> %s'%(ldt[0], ldt[-1]))\n",
    "data.info()"
   ]
  },
  {
   "cell_type": "markdown",
   "metadata": {},
   "source": [
    "### save"
   ]
  },
  {
   "cell_type": "code",
   "execution_count": 8,
   "metadata": {},
   "outputs": [],
   "source": [
    "data.to_csv(path_output, index=True)"
   ]
  },
  {
   "cell_type": "code",
   "execution_count": null,
   "metadata": {},
   "outputs": [],
   "source": []
  }
 ],
 "metadata": {
  "kernelspec": {
   "display_name": "Python 3",
   "language": "python",
   "name": "python3"
  },
  "language_info": {
   "codemirror_mode": {
    "name": "ipython",
    "version": 3
   },
   "file_extension": ".py",
   "mimetype": "text/x-python",
   "name": "python",
   "nbconvert_exporter": "python",
   "pygments_lexer": "ipython3",
   "version": "3.6.0"
  }
 },
 "nbformat": 4,
 "nbformat_minor": 2
}
