{
 "cells": [
  {
   "cell_type": "markdown",
   "metadata": {},
   "source": [
    "# Features Selection: Scikit Learn\n",
    "\n",
    "Collection of features selection techniques provided by Scikit Learn:"
   ]
  },
  {
   "cell_type": "code",
   "execution_count": 4,
   "metadata": {},
   "outputs": [],
   "source": [
    "%matplotlib inline\n",
    "import sys\n",
    "sys.path.append('../../')  \n",
    "from tools.reader import csv2df as reader\n",
    "from preprocessing.transformation import launch_numerical as transformer\n",
    "from preprocessing.scalers import normalization\n",
    "from tools.columns import num2cal\n",
    "from models.metrics import metrics_regression\n",
    "import pandas as pd\n",
    "import numpy as np\n",
    "from sklearn.model_selection import train_test_split\n",
    "import copy"
   ]
  },
  {
   "cell_type": "markdown",
   "metadata": {},
   "source": [
    "### arguments"
   ]
  },
  {
   "cell_type": "code",
   "execution_count": 5,
   "metadata": {},
   "outputs": [],
   "source": [
    "path_input = '../../../datasets/dataset.solar.csv'\n",
    "ncv = 5\n",
    "njobs = -1"
   ]
  },
  {
   "cell_type": "markdown",
   "metadata": {},
   "source": [
    "### load data"
   ]
  },
  {
   "cell_type": "code",
   "execution_count": 26,
   "metadata": {},
   "outputs": [
    {
     "name": "stdout",
     "output_type": "stream",
     "text": [
      "shape (25211, 14)\n",
      "period: 2013-01-01 09:00:00 - 2016-01-02 11:00:00\n",
      "X: ['hforecast', 'VGRD267', 'UGRD267', 'LCDC267', 'MCDC267', 'HCDC267', 'TCDC267', 'PRES267', 'RH267', 'TMP267', 'APCP267', 'doy', 'hour']\n",
      "y: ['y']\n"
     ]
    }
   ],
   "source": [
    "# read\n",
    "ddt = {'lcol':['dt'], 'sformat': '%Y-%m-%d %H:%M:%S'}\n",
    "data, dcol = reader(path_input, lindex = ['dt'], ltarget = ['ghi'], ddt = ddt)\n",
    "# filter (only hforecast = 0 - 23h)\n",
    "data = data[data.hforecast<24]\n",
    "# display\n",
    "print('shape',data.shape)\n",
    "print('period: %s - %s'%(data.index.tolist()[0], data.index.tolist()[-1]))\n",
    "print('X: %s'%dcol['lx'])\n",
    "print('y: %s'%dcol['ly'])"
   ]
  },
  {
   "cell_type": "markdown",
   "metadata": {},
   "source": [
    "### pre-processing"
   ]
  },
  {
   "cell_type": "code",
   "execution_count": 10,
   "metadata": {},
   "outputs": [],
   "source": [
    "# X\n",
    "X = transformer(data[dcol['lx']])\n",
    "# y\n",
    "#scaler = normalization.Scaler()\n",
    "#y = scaler.fit_transform(data[dcol['ly']]).ravel()\n",
    "y = transformer(data[dcol['ly']]).ravel()"
   ]
  },
  {
   "cell_type": "code",
   "execution_count": 11,
   "metadata": {},
   "outputs": [],
   "source": [
    "# y: numerical to categorical\n",
    "nlabels = 10\n",
    "lbins = list(np.linspace(np.min(data.y.values), np.max(data.y.values), num=nlabels+1))\n",
    "llabels = list(range(nlabels))\n",
    "cy = np.array(num2cal(data, 'y', lbins, llabels)['cy'].values)"
   ]
  },
  {
   "cell_type": "code",
   "execution_count": 12,
   "metadata": {},
   "outputs": [],
   "source": [
    "# create samples\n",
    "X_train, X_test, y_train, y_test =\\\n",
    "    train_test_split(X, y, test_size=0.3, random_state=0)\n",
    "X_train, X_test, cy_train, cy_test =\\\n",
    "    train_test_split(X, cy, test_size=0.3, random_state=0, stratify=cy)"
   ]
  },
  {
   "cell_type": "markdown",
   "metadata": {},
   "source": [
    "## ElasticNet (Regression)"
   ]
  },
  {
   "cell_type": "code",
   "execution_count": 13,
   "metadata": {},
   "outputs": [
    {
     "name": "stdout",
     "output_type": "stream",
     "text": [
      "- Optimal alpha: 1.34677358\n",
      "- Optimal l1_ratio: 0.000\n",
      "- Number of iterations 8\n"
     ]
    },
    {
     "data": {
      "image/png": "[encoded data removed]",
      "text/plain": [
       "<matplotlib.figure.Figure at 0x7fb7b2a0a518>"
      ]
     },
     "metadata": {
      "needs_background": "light"
     },
     "output_type": "display_data"
    }
   ],
   "source": [
    "from sklearn.linear_model import ElasticNetCV\n",
    "\n",
    "# regressor: ElasticNetCV (for tuning hyperparameters)\n",
    "estimatorcv = ElasticNetCV(l1_ratio=[.0001, .001 , .1, .5, .7, .9, .95, 1], eps=0.001, n_alphas=100, fit_intercept=True, \n",
    "                        normalize=False, precompute='auto', max_iter=5000, tol=0.0001, cv=ncv, \n",
    "                        copy_X=True, verbose=0, n_jobs=njobs, positive=False, random_state=None, selection='cyclic')\n",
    "estimatorcv.fit(X_train, y_train)\n",
    "print('- Optimal alpha: %.8f'%estimatorcv.alpha_)\n",
    "print('- Optimal l1_ratio: %.3f'%estimatorcv.l1_ratio_)\n",
    "print('- Number of iterations %d'%estimatorcv.n_iter_)\n",
    "# plot features importance\n",
    "import matplotlib.pyplot as plt\n",
    "dfw = pd.DataFrame(np.c_[dcol['lx'],np.array(estimatorcv.coef_)], columns = ['colname','weights']).sort_values(['weights'], ascending=[0]).set_index('colname')\n",
    "dfw['weights'] = dfw['weights'].astype('float')\n",
    "dfw.plot(kind='bar',title='ElasticNetCV: Features Importance')\n",
    "plt.show()"
   ]
  },
  {
   "cell_type": "markdown",
   "metadata": {},
   "source": [
    "## Sequential feature selection algorithms (Classification)"
   ]
  },
  {
   "cell_type": "code",
   "execution_count": 14,
   "metadata": {},
   "outputs": [],
   "source": [
    "from sklearn.base import clone\n",
    "from itertools import combinations\n",
    "import numpy as np\n",
    "from sklearn.metrics import accuracy_score\n",
    "from sklearn.model_selection import train_test_split\n",
    "\n",
    "\n",
    "class SBS():\n",
    "    def __init__(self, estimator, k_features, scoring=accuracy_score,\n",
    "                 test_size=0.25, random_state=1):\n",
    "        self.scoring = scoring\n",
    "        self.estimator = clone(estimator)\n",
    "        self.k_features = k_features\n",
    "        self.test_size = test_size\n",
    "        self.random_state = random_state\n",
    "\n",
    "    def fit(self, X, y):\n",
    "        \n",
    "        X_train, X_test, y_train, y_test = \\\n",
    "            train_test_split(X, y, test_size=self.test_size,\n",
    "                             random_state=self.random_state)\n",
    "\n",
    "        dim = X_train.shape[1]\n",
    "        self.indices_ = tuple(range(dim))\n",
    "        self.subsets_ = [self.indices_]\n",
    "        score = self._calc_score(X_train, y_train, \n",
    "                                 X_test, y_test, self.indices_)\n",
    "        self.scores_ = [score]\n",
    "\n",
    "        while dim > self.k_features:\n",
    "            scores = []\n",
    "            subsets = []\n",
    "\n",
    "            for p in combinations(self.indices_, r=dim - 1):\n",
    "                score = self._calc_score(X_train, y_train, \n",
    "                                         X_test, y_test, p)\n",
    "                scores.append(score)\n",
    "                subsets.append(p)\n",
    "\n",
    "            best = np.argmax(scores)\n",
    "            self.indices_ = subsets[best]\n",
    "            self.subsets_.append(self.indices_)\n",
    "            dim -= 1\n",
    "\n",
    "            self.scores_.append(scores[best])\n",
    "        self.k_score_ = self.scores_[-1]\n",
    "\n",
    "        return self\n",
    "\n",
    "    def transform(self, X):\n",
    "        return X[:, self.indices_]\n",
    "\n",
    "    def _calc_score(self, X_train, y_train, X_test, y_test, indices):\n",
    "        self.estimator.fit(X_train[:, indices], y_train)\n",
    "        y_pred = self.estimator.predict(X_test[:, indices])\n",
    "        score = self.scoring(y_test, y_pred)\n",
    "        return score"
   ]
  },
  {
   "cell_type": "code",
   "execution_count": 15,
   "metadata": {},
   "outputs": [
    {
     "data": {
      "image/png": "[encoded data removed]",
      "text/plain": [
       "<matplotlib.figure.Figure at 0x7fb7b2add898>"
      ]
     },
     "metadata": {
      "needs_background": "light"
     },
     "output_type": "display_data"
    }
   ],
   "source": [
    "import matplotlib.pyplot as plt\n",
    "from sklearn.neighbors import KNeighborsClassifier\n",
    "\n",
    "knn = KNeighborsClassifier(n_neighbors=5)\n",
    "\n",
    "# selecting features\n",
    "sbs = SBS(knn, k_features=1)\n",
    "sbs.fit(X, cy)\n",
    "\n",
    "# plotting performance of feature subsets\n",
    "k_feat = [len(k) for k in sbs.subsets_]\n",
    "\n",
    "plt.plot(k_feat, sbs.scores_, marker='o')\n",
    "#plt.ylim([0.7, 1.02])\n",
    "plt.ylabel('Accuracy')\n",
    "plt.xlabel('Number of features')\n",
    "plt.grid()\n",
    "plt.tight_layout()\n",
    "plt.show()"
   ]
  },
  {
   "cell_type": "code",
   "execution_count": 16,
   "metadata": {},
   "outputs": [
    {
     "name": "stdout",
     "output_type": "stream",
     "text": [
      "Index(['hforecast', 'APCP267', 'doy'], dtype='object')\n"
     ]
    }
   ],
   "source": [
    "k3 = list(sbs.subsets_[10])\n",
    "print(data[dcol['lx']].columns[:][k3])"
   ]
  },
  {
   "cell_type": "code",
   "execution_count": 17,
   "metadata": {},
   "outputs": [
    {
     "name": "stdout",
     "output_type": "stream",
     "text": [
      "Training accuracy: 0.756842522808\n",
      "Test accuracy: 0.682178741407\n"
     ]
    }
   ],
   "source": [
    "knn.fit(X_train, cy_train)\n",
    "print('Training accuracy:', knn.score(X_train, cy_train))\n",
    "print('Test accuracy:', knn.score(X_test, cy_test))"
   ]
  },
  {
   "cell_type": "code",
   "execution_count": 18,
   "metadata": {},
   "outputs": [
    {
     "name": "stdout",
     "output_type": "stream",
     "text": [
      "Training accuracy: 0.858049526832\n",
      "Test accuracy: 0.813590692755\n"
     ]
    }
   ],
   "source": [
    "knn.fit(X_train[:, k3], cy_train)\n",
    "print('Training accuracy:', knn.score(X_train[:, k3], cy_train))\n",
    "print('Test accuracy:', knn.score(X_test[:, k3], cy_test))"
   ]
  },
  {
   "cell_type": "markdown",
   "metadata": {},
   "source": [
    "## Assessing feature importance with Random Forests (Classification)"
   ]
  },
  {
   "cell_type": "code",
   "execution_count": 19,
   "metadata": {},
   "outputs": [
    {
     "name": "stdout",
     "output_type": "stream",
     "text": [
      " 1) hforecast                      0.207625\n",
      " 2) hour                           0.174742\n",
      " 3) doy                            0.105917\n",
      " 4) TMP267                         0.078163\n",
      " 5) RH267                          0.068527\n",
      " 6) VGRD267                        0.066126\n",
      " 7) PRES267                        0.061606\n",
      " 8) UGRD267                        0.058540\n",
      " 9) TCDC267                        0.041683\n",
      "10) APCP267                        0.040330\n",
      "11) MCDC267                        0.035679\n",
      "12) HCDC267                        0.031383\n",
      "13) LCDC267                        0.029680\n"
     ]
    },
    {
     "data": {
      "image/png": "[encoded data removed]",
      "text/plain": [
       "<matplotlib.figure.Figure at 0x7fb7b1d876d8>"
      ]
     },
     "metadata": {
      "needs_background": "light"
     },
     "output_type": "display_data"
    }
   ],
   "source": [
    "from sklearn.ensemble import RandomForestClassifier\n",
    "\n",
    "feat_labels = data[dcol['lx']].columns\n",
    "\n",
    "forest = RandomForestClassifier(n_estimators=500,\n",
    "                                random_state=1, n_jobs = -1)\n",
    "\n",
    "forest.fit(X_train, cy_train)\n",
    "importances = forest.feature_importances_\n",
    "\n",
    "indices = np.argsort(importances)[::-1]\n",
    "\n",
    "for f in range(X_train.shape[1]):\n",
    "    print(\"%2d) %-*s %f\" % (f + 1, 30, \n",
    "                            feat_labels[indices[f]], \n",
    "                            importances[indices[f]]))\n",
    "\n",
    "plt.title('Feature Importance')\n",
    "plt.bar(range(X_train.shape[1]), \n",
    "        importances[indices],\n",
    "        align='center')\n",
    "\n",
    "plt.xticks(range(X_train.shape[1]), \n",
    "           feat_labels[indices], rotation=90)\n",
    "plt.xlim([-1, X_train.shape[1]])\n",
    "plt.tight_layout()\n",
    "#plt.savefig('images/04_09.png', dpi=300)\n",
    "plt.show()"
   ]
  },
  {
   "cell_type": "markdown",
   "metadata": {},
   "source": [
    "## Assessing feature importance with Random Forests (Regression)"
   ]
  },
  {
   "cell_type": "code",
   "execution_count": 20,
   "metadata": {},
   "outputs": [
    {
     "name": "stdout",
     "output_type": "stream",
     "text": [
      " 1) UGRD267                        0.120429\n",
      " 2) PRES267                        0.117334\n",
      " 3) VGRD267                        0.116609\n",
      " 4) RH267                          0.115512\n",
      " 5) TMP267                         0.110175\n",
      " 6) doy                            0.070331\n",
      " 7) TCDC267                        0.059857\n",
      " 8) MCDC267                        0.051971\n",
      " 9) HCDC267                        0.050433\n",
      "10) hour                           0.049712\n",
      "11) APCP267                        0.047615\n",
      "12) hforecast                      0.047493\n",
      "13) LCDC267                        0.042529\n"
     ]
    },
    {
     "data": {
      "image/png": "[encoded data removed]",
      "text/plain": [
       "<matplotlib.figure.Figure at 0x7fb7d91700b8>"
      ]
     },
     "metadata": {
      "needs_background": "light"
     },
     "output_type": "display_data"
    }
   ],
   "source": [
    "from sklearn.ensemble import RandomForestRegressor\n",
    "\n",
    "feat_labels = data[dcol['lx']].columns\n",
    "\n",
    "forest = RandomForestRegressor(n_estimators=500,\n",
    "                                random_state=1, n_jobs = -1)\n",
    "\n",
    "forest.fit(X_train, y_train)\n",
    "importances = forest.feature_importances_\n",
    "\n",
    "indices = np.argsort(importances)[::-1]\n",
    "\n",
    "for f in range(X_train.shape[1]):\n",
    "    print(\"%2d) %-*s %f\" % (f + 1, 30, \n",
    "                            feat_labels[indices[f]], \n",
    "                            importances[indices[f]]))\n",
    "\n",
    "plt.title('Feature Importance')\n",
    "plt.bar(range(X_train.shape[1]), \n",
    "        importances[indices],\n",
    "        align='center')\n",
    "\n",
    "plt.xticks(range(X_train.shape[1]), \n",
    "           feat_labels[indices], rotation=90)\n",
    "plt.xlim([-1, X_train.shape[1]])\n",
    "plt.tight_layout()\n",
    "#plt.savefig('images/04_09.png', dpi=300)\n",
    "plt.show()"
   ]
  },
  {
   "cell_type": "markdown",
   "metadata": {},
   "source": [
    "## Using theBuilt-in XGBoost Feature Importance Plot (Classification)"
   ]
  },
  {
   "cell_type": "code",
   "execution_count": 21,
   "metadata": {},
   "outputs": [
    {
     "data": {
      "image/png": "[encoded data removed]",
      "text/plain": [
       "<matplotlib.figure.Figure at 0x7fb7a56f9da0>"
      ]
     },
     "metadata": {
      "needs_background": "light"
     },
     "output_type": "display_data"
    },
    {
     "name": "stdout",
     "output_type": "stream",
     "text": [
      "      colname            importance\n",
      "id                                 \n",
      "12       hour   0.23571883141994476\n",
      "11        doy   0.22658738493919373\n",
      "0   hforecast   0.20917391777038574\n",
      "9      TMP267   0.08727967739105225\n",
      "8       RH267  0.049904439598321915\n",
      "10    APCP267    0.0428965799510479\n",
      "1     VGRD267  0.036738160997629166\n",
      "7     PRES267  0.036525800824165344\n",
      "2     UGRD267  0.026969632133841515\n",
      "4     MCDC267  0.019961776211857796\n",
      "6     TCDC267   0.01677638478577137\n",
      "5     HCDC267  0.006158419884741306\n",
      "3     LCDC267  0.005308982916176319\n"
     ]
    }
   ],
   "source": [
    "from xgboost import XGBClassifier\n",
    "from xgboost import plot_importance\n",
    "from matplotlib import pyplot\n",
    "# fit model no training data\n",
    "model = XGBClassifier()\n",
    "model.fit(X_train, cy_train)\n",
    "# plot feature importance\n",
    "plot_importance(model)\n",
    "pyplot.show()\n",
    "# importance df\n",
    "dfimportance = pd.DataFrame(np.c_[np.arange(len(dcol['lx'])),np.array(dcol['lx']),model.feature_importances_],columns=['id','colname','importance']).set_index('id').sort_values(['importance'], ascending=[0])\n",
    "print(dfimportance)"
   ]
  },
  {
   "cell_type": "code",
   "execution_count": 22,
   "metadata": {},
   "outputs": [
    {
     "name": "stdout",
     "output_type": "stream",
     "text": [
      "Training accuracy: 0.781265937553\n",
      "Test accuracy: 0.767451084082\n"
     ]
    }
   ],
   "source": [
    "model.fit(X_train, cy_train)\n",
    "print('Training accuracy:', model.score(X_train, cy_train))\n",
    "print('Test accuracy:', model.score(X_test, cy_test))"
   ]
  },
  {
   "cell_type": "code",
   "execution_count": 23,
   "metadata": {},
   "outputs": [
    {
     "data": {
      "text/plain": [
       "<matplotlib.axes._subplots.AxesSubplot at 0x7fb7b297df60>"
      ]
     },
     "execution_count": 23,
     "metadata": {},
     "output_type": "execute_result"
    },
    {
     "data": {
      "image/png": "[encoded data removed]",
      "text/plain": [
       "<matplotlib.figure.Figure at 0x7fb7a5676d68>"
      ]
     },
     "metadata": {
      "needs_background": "light"
     },
     "output_type": "display_data"
    }
   ],
   "source": [
    "## LEARNING CURVE\n",
    "lindex = [int(i) for i in dfimportance.index.tolist()]\n",
    "lacc_train = list()\n",
    "lacc_test = list()\n",
    "for ii in list(range(1,len(lindex)+1,1)):\n",
    "    model.fit(X_train[:,lindex[:ii]], cy_train)\n",
    "    lacc_train.append(model.score(X_train[:,lindex[:ii]], cy_train))\n",
    "    lacc_test.append(model.score(X_test[:,lindex[:ii]], cy_test))\n",
    "dfacc = pd.DataFrame(list(zip(list(range(1,len(lindex)+1,1)), lacc_train, lacc_test)), columns = ['num_feat','acc_train','acc_test']).set_index('num_feat')\n",
    "dfacc.plot(title=\"Learning Curve\")"
   ]
  },
  {
   "cell_type": "markdown",
   "metadata": {},
   "source": [
    "## Using theBuilt-in XGBoost Feature Importance Plot (Regression)"
   ]
  },
  {
   "cell_type": "code",
   "execution_count": 24,
   "metadata": {},
   "outputs": [
    {
     "data": {
      "image/png": "[encoded data removed]",
      "text/plain": [
       "<matplotlib.figure.Figure at 0x7fb7a5669fd0>"
      ]
     },
     "metadata": {
      "needs_background": "light"
     },
     "output_type": "display_data"
    },
    {
     "name": "stdout",
     "output_type": "stream",
     "text": [
      "      colname            importance\n",
      "id                                 \n",
      "7     PRES267   0.13762810826301575\n",
      "9      TMP267   0.13177159428596497\n",
      "2     UGRD267   0.11859443783760071\n",
      "1     VGRD267   0.10688140243291855\n",
      "8       RH267   0.10395314544439316\n",
      "11        doy   0.10395314544439316\n",
      "4     MCDC267   0.05710102617740631\n",
      "5     HCDC267   0.05124450847506523\n",
      "10    APCP267   0.04245973750948906\n",
      "12       hour  0.040995609015226364\n",
      "0   hforecast  0.035139091312885284\n",
      "3     LCDC267  0.035139091312885284\n",
      "6     TCDC267  0.035139091312885284\n"
     ]
    }
   ],
   "source": [
    "from xgboost import XGBRegressor\n",
    "from xgboost import plot_importance\n",
    "from matplotlib import pyplot\n",
    "# fit model no training data\n",
    "model = XGBRegressor()\n",
    "model.fit(X_train, y_train)\n",
    "# plot feature importance\n",
    "plot_importance(model)\n",
    "pyplot.show()\n",
    "# importance df\n",
    "dfimportance = pd.DataFrame(np.c_[np.arange(len(dcol['lx'])),np.array(dcol['lx']),model.feature_importances_],columns=['id','colname','importance']).set_index('id').sort_values(['importance'], ascending=[0])\n",
    "print(dfimportance)"
   ]
  },
  {
   "cell_type": "code",
   "execution_count": 25,
   "metadata": {},
   "outputs": [
    {
     "data": {
      "text/plain": [
       "<matplotlib.axes._subplots.AxesSubplot at 0x7fb7a56875f8>"
      ]
     },
     "execution_count": 25,
     "metadata": {},
     "output_type": "execute_result"
    },
    {
     "data": {
      "image/png": "[encoded data removed]",
      "text/plain": [
       "<matplotlib.figure.Figure at 0x7fb7a4ecedd8>"
      ]
     },
     "metadata": {
      "needs_background": "light"
     },
     "output_type": "display_data"
    }
   ],
   "source": [
    "## LEARNING CURVE\n",
    "lindex = [int(i) for i in dfimportance.index.tolist()]\n",
    "lacc_train = list()\n",
    "lacc_test = list()\n",
    "for ii in list(range(1,len(lindex)+1,1)):\n",
    "    model.fit(X_train[:,lindex[:ii]], y_train)\n",
    "    lacc_train.append(model.score(X_train[:,lindex[:ii]], y_train))\n",
    "    lacc_test.append(model.score(X_test[:,lindex[:ii]], y_test))\n",
    "dfacc = pd.DataFrame(list(zip(list(range(1,len(lindex)+1,1)), lacc_train, lacc_test)), columns = ['num_feat','acc_train','acc_test']).set_index('num_feat')\n",
    "dfacc.plot(title=\"Learning Curve\")"
   ]
  },
  {
   "cell_type": "code",
   "execution_count": null,
   "metadata": {},
   "outputs": [],
   "source": []
  }
 ],
 "metadata": {
  "kernelspec": {
   "display_name": "Python 3",
   "language": "python",
   "name": "python3"
  },
  "language_info": {
   "codemirror_mode": {
    "name": "ipython",
    "version": 3
   },
   "file_extension": ".py",
   "mimetype": "text/x-python",
   "name": "python",
   "nbconvert_exporter": "python",
   "pygments_lexer": "ipython3",
   "version": "3.6.0"
  }
 },
 "nbformat": 4,
 "nbformat_minor": 2
}
