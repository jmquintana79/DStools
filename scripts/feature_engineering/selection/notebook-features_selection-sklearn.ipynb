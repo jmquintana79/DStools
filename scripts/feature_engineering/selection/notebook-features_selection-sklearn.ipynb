{
 "cells": [
  {
   "cell_type": "markdown",
   "metadata": {},
   "source": [
    "# Features Selection: Scikit Learn\n",
    "\n",
    "Collection of features selection techniques provided by Scikit Learn:"
   ]
  },
  {
   "cell_type": "code",
   "execution_count": 4,
   "metadata": {},
   "outputs": [],
   "source": [
    "%matplotlib inline\n",
    "import sys\n",
    "sys.path.append('../../')  \n",
    "from tools.reader import csv2df as reader, get_dcol\n",
    "from preprocessing.preparation import full as preprocess\n",
    "from preprocessing.scalers import normalization\n",
    "from tools.columns import num2cal\n",
    "from models.metrics import metrics_regression\n",
    "import pandas as pd\n",
    "import numpy as np\n",
    "from sklearn.model_selection import train_test_split\n",
    "import copy"
   ]
  },
  {
   "cell_type": "markdown",
   "metadata": {},
   "source": [
    "### arguments"
   ]
  },
  {
   "cell_type": "code",
   "execution_count": 5,
   "metadata": {},
   "outputs": [],
   "source": [
    "path_input = '../../../datasets/dataset.solar.csv'\n",
    "ncv = 5\n",
    "njobs = -1\n",
    "delcols = ['hforecast', 'year', 'month']"
   ]
  },
  {
   "cell_type": "markdown",
   "metadata": {},
   "source": [
    "### load data"
   ]
  },
  {
   "cell_type": "code",
   "execution_count": 8,
   "metadata": {},
   "outputs": [
    {
     "name": "stdout",
     "output_type": "stream",
     "text": [
      "Period: 2012-01-01 00:00:00 - 2015-12-31 23:00:00\n",
      "<class 'pandas.core.frame.DataFrame'>\n",
      "DatetimeIndex: 34775 entries, 2012-01-01 00:00:00 to 2015-12-31 23:00:00\n",
      "Data columns (total 21 columns):\n",
      "VGRD267       34775 non-null float64\n",
      "UGRD267       34775 non-null float64\n",
      "LCDC267       34775 non-null float64\n",
      "MCDC267       34775 non-null float64\n",
      "HCDC267       34775 non-null float64\n",
      "TCDC267       34775 non-null float64\n",
      "PRES267       34775 non-null float64\n",
      "RH267         34775 non-null float64\n",
      "TMP267        34775 non-null float64\n",
      "APCP267       34775 non-null float64\n",
      "HWS267        34775 non-null float64\n",
      "cLCDC267      34775 non-null int64\n",
      "cMCDC267      34775 non-null int64\n",
      "cHCDC267      34775 non-null int64\n",
      "cTCDC267      34775 non-null int64\n",
      "logAPCP267    34775 non-null float64\n",
      "cAPCP267      34775 non-null category\n",
      "hour          34775 non-null int64\n",
      "doy           34775 non-null int64\n",
      "y             34775 non-null float64\n",
      "cy            34775 non-null int64\n",
      "dtypes: category(1), float64(13), int64(7)\n",
      "memory usage: 5.6 MB\n"
     ]
    }
   ],
   "source": [
    "# read\n",
    "ddt = {'lcol':['dt'], 'sformat': '%Y-%m-%d %H:%M:%S'}\n",
    "data, dcol = reader(path_input, lindex = ['dt'], ltarget = ['y','cy'], ddt = ddt)\n",
    "# filter (only hforecast = 0 - 23h)\n",
    "data = data[data.hforecast<24]\n",
    "# filter columns\n",
    "data.drop(delcols, axis=1, inplace=True)\n",
    "dcol = get_dcol(data,ltarget = ['y', 'cy'])\n",
    "# display\n",
    "print('Period: %s - %s'%(data.index.tolist()[0], data.index.tolist()[-1]))\n",
    "data.info()"
   ]
  },
  {
   "cell_type": "markdown",
   "metadata": {},
   "source": [
    "### pre-processing"
   ]
  },
  {
   "cell_type": "code",
   "execution_count": 9,
   "metadata": {},
   "outputs": [],
   "source": [
    "# get list of column names\n",
    "lcolx = dcol['lx']\n",
    "lcolx_cat = dcol['lc_cat'].copy()\n",
    "lcolx_num = lcolx.copy()\n",
    "for ic in lcolx_cat:\n",
    "    lcolx_num.remove(ic)"
   ]
  },
  {
   "cell_type": "code",
   "execution_count": 10,
   "metadata": {},
   "outputs": [],
   "source": [
    "# X pre-processing\n",
    "X = preprocess(data[lcolx_num + lcolx_cat])\n",
    "# new columns\n",
    "lcolx_new = lcolx_num + pd.get_dummies(data[lcolx_cat], prefix_sep='_', drop_first=True).columns.tolist()"
   ]
  },
  {
   "cell_type": "code",
   "execution_count": 11,
   "metadata": {},
   "outputs": [],
   "source": [
    "# y pre-processing\n",
    "scaler = normalization.Scaler()\n",
    "y = scaler.fit_transform(data[['y']]).ravel()\n",
    "cy = data['cy'].values\n",
    "#y = transformer(data['y']).ravel()"
   ]
  },
  {
   "cell_type": "code",
   "execution_count": 12,
   "metadata": {},
   "outputs": [],
   "source": [
    "# create samples\n",
    "X_train, X_test, y_train, y_test =\\\n",
    "    train_test_split(X, y, test_size=0.3, random_state=0)\n",
    "X_train, X_test, cy_train, cy_test =\\\n",
    "    train_test_split(X, cy, test_size=0.3, random_state=0, stratify=cy)"
   ]
  },
  {
   "cell_type": "markdown",
   "metadata": {},
   "source": [
    "### Linear relationship X-y"
   ]
  },
  {
   "cell_type": "code",
   "execution_count": 15,
   "metadata": {},
   "outputs": [
    {
     "name": "stdout",
     "output_type": "stream",
     "text": [
      "Linear Correlation X-y:\n"
     ]
    },
    {
     "data": {
      "text/plain": [
       "y                     1.000000\n",
       "cy                    0.979106\n",
       "TMP267                0.172390\n",
       "VGRD267               0.095713\n",
       "cAPCP267_soft rain    0.067444\n",
       "PRES267               0.011755\n",
       "hour                 -0.032759\n",
       "UGRD267              -0.038456\n",
       "doy                  -0.043953\n",
       "HWS267               -0.097280\n",
       "APCP267              -0.101514\n",
       "cAPCP267_rain        -0.108051\n",
       "logAPCP267           -0.120483\n",
       "cLCDC267             -0.132808\n",
       "LCDC267              -0.133938\n",
       "cHCDC267             -0.166206\n",
       "HCDC267              -0.167128\n",
       "cTCDC267             -0.232094\n",
       "TCDC267              -0.233046\n",
       "cMCDC267             -0.268070\n",
       "MCDC267              -0.271011\n",
       "RH267                -0.336699\n",
       "Name: y, dtype: float64"
      ]
     },
     "execution_count": 15,
     "metadata": {},
     "output_type": "execute_result"
    }
   ],
   "source": [
    "# lineal\n",
    "corr_matrix = pd.get_dummies(data,columns = lcolx_cat, drop_first = True).corr()\n",
    "print('Linear Correlation X-y:')\n",
    "corr_matrix[\"y\"].sort_values(ascending=False)"
   ]
  },
  {
   "cell_type": "markdown",
   "metadata": {},
   "source": [
    "### Linear relationship X(with crossed values)-y"
   ]
  },
  {
   "cell_type": "code",
   "execution_count": 13,
   "metadata": {},
   "outputs": [],
   "source": [
    "## get polynomial features\n",
    "from sklearn.preprocessing import PolynomialFeatures\n",
    "poly = PolynomialFeatures(degree=2, interaction_only=True, include_bias=True)\n",
    "apoly = poly.fit_transform(data[lcolx_num])\n",
    "\n",
    "## get features names\n",
    "lcol_polyaux = poly.get_feature_names()\n",
    "# build column names\n",
    "dcolx_num = {'1':'bias'}\n",
    "for ii, ic in enumerate(lcolx_num):\n",
    "    dcolx_num['x%s'%ii] = ic\n",
    "lcolx_poly = [dcolx_num[ic] if not ' ' in ic else '_'.join([dcolx_num[iii] for iii in ic.split(' ')]) for ic in lcol_polyaux]\n",
    "\n",
    "## store in df and concat with y\n",
    "DATAP = pd.DataFrame(np.c_[apoly,data[dcol['ly']]], columns = lcolx_poly + dcol['ly'])"
   ]
  },
  {
   "cell_type": "code",
   "execution_count": 14,
   "metadata": {},
   "outputs": [
    {
     "data": {
      "text/plain": [
       "y                     1.000000\n",
       "cy                    0.979106\n",
       "PRES267_TMP267        0.173337\n",
       "TMP267                0.172390\n",
       "VGRD267_PRES267       0.095943\n",
       "VGRD267               0.095713\n",
       "VGRD267_RH267         0.085944\n",
       "VGRD267_MCDC267       0.082387\n",
       "VGRD267_cMCDC267      0.082375\n",
       "TMP267_doy            0.080991\n",
       "VGRD267_doy           0.078632\n",
       "VGRD267_TMP267        0.074616\n",
       "VGRD267_HWS267        0.074468\n",
       "VGRD267_TCDC267       0.070572\n",
       "VGRD267_cTCDC267      0.070292\n",
       "VGRD267_LCDC267       0.063631\n",
       "VGRD267_cLCDC267      0.063074\n",
       "TMP267_hour           0.060919\n",
       "VGRD267_hour          0.056951\n",
       "TMP267_HWS267         0.052764\n",
       "VGRD267_logAPCP267    0.036749\n",
       "VGRD267_UGRD267       0.032166\n",
       "VGRD267_HCDC267       0.030300\n",
       "VGRD267_cHCDC267      0.029693\n",
       "VGRD267_APCP267       0.023491\n",
       "PRES267               0.011755\n",
       "UGRD267_APCP267       0.011198\n",
       "UGRD267_cLCDC267      0.002713\n",
       "UGRD267_LCDC267       0.002671\n",
       "RH267_TMP267          0.000980\n",
       "                        ...   \n",
       "RH267_HWS267         -0.205310\n",
       "TMP267_cMCDC267      -0.213997\n",
       "MCDC267_TMP267       -0.216622\n",
       "HWS267_cMCDC267      -0.218773\n",
       "MCDC267_HWS267       -0.220468\n",
       "cMCDC267_hour        -0.220582\n",
       "TCDC267_cTCDC267     -0.221291\n",
       "MCDC267_hour         -0.222714\n",
       "cMCDC267_doy         -0.224817\n",
       "MCDC267_doy          -0.226813\n",
       "MCDC267_cMCDC267     -0.231804\n",
       "cTCDC267             -0.232094\n",
       "PRES267_cTCDC267     -0.232316\n",
       "TCDC267              -0.233046\n",
       "TCDC267_PRES267      -0.233277\n",
       "cMCDC267_cTCDC267    -0.247914\n",
       "TCDC267_cMCDC267     -0.248455\n",
       "MCDC267_cTCDC267     -0.249371\n",
       "MCDC267_TCDC267      -0.249998\n",
       "RH267_cTCDC267       -0.251001\n",
       "TCDC267_RH267        -0.251939\n",
       "RH267_cMCDC267       -0.266717\n",
       "cMCDC267             -0.268070\n",
       "PRES267_cMCDC267     -0.268193\n",
       "MCDC267_RH267        -0.269370\n",
       "MCDC267              -0.271011\n",
       "MCDC267_PRES267      -0.271136\n",
       "RH267                -0.336699\n",
       "PRES267_RH267        -0.338263\n",
       "bias                       NaN\n",
       "Name: y, Length: 174, dtype: float64"
      ]
     },
     "execution_count": 14,
     "metadata": {},
     "output_type": "execute_result"
    }
   ],
   "source": [
    "# lineal\n",
    "corr_matrix = DATAP.corr()\n",
    "corr_matrix[\"y\"].sort_values(ascending=False)"
   ]
  },
  {
   "cell_type": "markdown",
   "metadata": {},
   "source": [
    "### Non-Linear relationship X-y"
   ]
  },
  {
   "cell_type": "code",
   "execution_count": null,
   "metadata": {},
   "outputs": [],
   "source": []
  },
  {
   "cell_type": "code",
   "execution_count": null,
   "metadata": {},
   "outputs": [],
   "source": []
  },
  {
   "cell_type": "markdown",
   "metadata": {},
   "source": [
    "## ElasticNet (Regression)"
   ]
  },
  {
   "cell_type": "code",
   "execution_count": 8,
   "metadata": {},
   "outputs": [
    {
     "name": "stdout",
     "output_type": "stream",
     "text": [
      "- Optimal alpha: 0.01826546\n",
      "- Optimal l1_ratio: 0.100\n",
      "- Number of iterations 9\n"
     ]
    },
    {
     "data": {
      "image/png": "[encoded data removed]",
      "text/plain": [
       "<matplotlib.figure.Figure at 0x7fed6d7856d8>"
      ]
     },
     "metadata": {
      "needs_background": "light"
     },
     "output_type": "display_data"
    }
   ],
   "source": [
    "from sklearn.linear_model import ElasticNetCV\n",
    "\n",
    "# regressor: ElasticNetCV (for tuning hyperparameters)\n",
    "estimatorcv = ElasticNetCV(l1_ratio=[.0001, .001 , .1, .5, .7, .9, .95, 1], eps=0.001, n_alphas=100, fit_intercept=True, \n",
    "                        normalize=False, precompute='auto', max_iter=5000, tol=0.0001, cv=ncv, \n",
    "                        copy_X=True, verbose=0, n_jobs=njobs, positive=False, random_state=None, selection='cyclic')\n",
    "estimatorcv.fit(X_train, y_train)\n",
    "print('- Optimal alpha: %.8f'%estimatorcv.alpha_)\n",
    "print('- Optimal l1_ratio: %.3f'%estimatorcv.l1_ratio_)\n",
    "print('- Number of iterations %d'%estimatorcv.n_iter_)\n",
    "# plot features importance\n",
    "import matplotlib.pyplot as plt\n",
    "dfw = pd.DataFrame(np.c_[lcolx_new,np.array(estimatorcv.coef_)], columns = ['colname','weights']).sort_values(['weights'], ascending=[0]).set_index('colname')\n",
    "dfw['weights'] = dfw['weights'].astype('float')\n",
    "dfw.plot(kind='bar',title='ElasticNetCV: Features Importance')\n",
    "plt.show()"
   ]
  },
  {
   "cell_type": "markdown",
   "metadata": {},
   "source": [
    "## Sequential feature selection algorithms (Classification)"
   ]
  },
  {
   "cell_type": "code",
   "execution_count": 9,
   "metadata": {},
   "outputs": [],
   "source": [
    "from sklearn.base import clone\n",
    "from itertools import combinations\n",
    "import numpy as np\n",
    "from sklearn.metrics import accuracy_score\n",
    "from sklearn.model_selection import train_test_split\n",
    "\n",
    "\n",
    "class SBS():\n",
    "    def __init__(self, estimator, k_features, scoring=accuracy_score,\n",
    "                 test_size=0.25, random_state=1):\n",
    "        self.scoring = scoring\n",
    "        self.estimator = clone(estimator)\n",
    "        self.k_features = k_features\n",
    "        self.test_size = test_size\n",
    "        self.random_state = random_state\n",
    "\n",
    "    def fit(self, X, y):\n",
    "        \n",
    "        X_train, X_test, y_train, y_test = \\\n",
    "            train_test_split(X, y, test_size=self.test_size,\n",
    "                             random_state=self.random_state)\n",
    "\n",
    "        dim = X_train.shape[1]\n",
    "        self.indices_ = tuple(range(dim))\n",
    "        self.subsets_ = [self.indices_]\n",
    "        score = self._calc_score(X_train, y_train, \n",
    "                                 X_test, y_test, self.indices_)\n",
    "        self.scores_ = [score]\n",
    "\n",
    "        while dim > self.k_features:\n",
    "            scores = []\n",
    "            subsets = []\n",
    "\n",
    "            for p in combinations(self.indices_, r=dim - 1):\n",
    "                score = self._calc_score(X_train, y_train, \n",
    "                                         X_test, y_test, p)\n",
    "                scores.append(score)\n",
    "                subsets.append(p)\n",
    "\n",
    "            best = np.argmax(scores)\n",
    "            self.indices_ = subsets[best]\n",
    "            self.subsets_.append(self.indices_)\n",
    "            dim -= 1\n",
    "\n",
    "            self.scores_.append(scores[best])\n",
    "        self.k_score_ = self.scores_[-1]\n",
    "\n",
    "        return self\n",
    "\n",
    "    def transform(self, X):\n",
    "        return X[:, self.indices_]\n",
    "\n",
    "    def _calc_score(self, X_train, y_train, X_test, y_test, indices):\n",
    "        self.estimator.fit(X_train[:, indices], y_train)\n",
    "        y_pred = self.estimator.predict(X_test[:, indices])\n",
    "        score = self.scoring(y_test, y_pred)\n",
    "        return score"
   ]
  },
  {
   "cell_type": "code",
   "execution_count": 13,
   "metadata": {},
   "outputs": [
    {
     "data": {
      "image/png": "[encoded data removed]",
      "text/plain": [
       "<matplotlib.figure.Figure at 0x7fed6d726fd0>"
      ]
     },
     "metadata": {
      "needs_background": "light"
     },
     "output_type": "display_data"
    }
   ],
   "source": [
    "import matplotlib.pyplot as plt\n",
    "from sklearn.neighbors import KNeighborsClassifier\n",
    "\n",
    "knn = KNeighborsClassifier(n_neighbors=5)\n",
    "\n",
    "# selecting features\n",
    "sbs = SBS(knn, k_features=1)\n",
    "sbs.fit(X, cy)\n",
    "\n",
    "# plotting performance of feature subsets\n",
    "k_feat = [len(k) for k in sbs.subsets_]\n",
    "\n",
    "plt.plot(k_feat, sbs.scores_, marker='o')\n",
    "#plt.ylim([0.7, 1.02])\n",
    "plt.ylabel('Accuracy')\n",
    "plt.xlabel('Number of features')\n",
    "plt.grid()\n",
    "plt.tight_layout()\n",
    "plt.show()"
   ]
  },
  {
   "cell_type": "code",
   "execution_count": 19,
   "metadata": {},
   "outputs": [
    {
     "name": "stdout",
     "output_type": "stream",
     "text": [
      "['hforecast' 'MCDC267' 'HCDC267' 'hour' 'doy']\n"
     ]
    }
   ],
   "source": [
    "k3 = list(sbs.subsets_[18])\n",
    "print(np.array(lcolx_new)[:][k3])"
   ]
  },
  {
   "cell_type": "code",
   "execution_count": 20,
   "metadata": {},
   "outputs": [
    {
     "name": "stdout",
     "output_type": "stream",
     "text": [
      "Training accuracy: 0.843603648016\n",
      "Test accuracy: 0.777532828525\n"
     ]
    }
   ],
   "source": [
    "knn.fit(X_train, cy_train)\n",
    "print('Training accuracy:', knn.score(X_train, cy_train))\n",
    "print('Test accuracy:', knn.score(X_test, cy_test))"
   ]
  },
  {
   "cell_type": "code",
   "execution_count": 21,
   "metadata": {},
   "outputs": [
    {
     "name": "stdout",
     "output_type": "stream",
     "text": [
      "Training accuracy: 0.888217894996\n",
      "Test accuracy: 0.842998178856\n"
     ]
    }
   ],
   "source": [
    "knn.fit(X_train[:, k3], cy_train)\n",
    "print('Training accuracy:', knn.score(X_train[:, k3], cy_train))\n",
    "print('Test accuracy:', knn.score(X_test[:, k3], cy_test))"
   ]
  },
  {
   "cell_type": "markdown",
   "metadata": {},
   "source": [
    "## Assessing feature importance with Random Forests (Classification)"
   ]
  },
  {
   "cell_type": "code",
   "execution_count": 22,
   "metadata": {},
   "outputs": [
    {
     "name": "stdout",
     "output_type": "stream",
     "text": [
      " 1) hforecast                      0.205670\n",
      " 2) hour                           0.199834\n",
      " 3) RH267                          0.063220\n",
      " 4) TMP267                         0.058633\n",
      " 5) doy                            0.055619\n",
      " 6) VGRD267                        0.042861\n",
      " 7) HWS267                         0.040308\n",
      " 8) UGRD267                        0.039767\n",
      " 9) PRES267                        0.038037\n",
      "10) MCDC267                        0.035243\n",
      "11) TCDC267                        0.032950\n",
      "12) month                          0.031174\n",
      "13) HCDC267                        0.023027\n",
      "14) APCP267                        0.020773\n",
      "15) logAPCP267                     0.020393\n",
      "16) LCDC267                        0.018245\n",
      "17) cMCDC267                       0.017693\n",
      "18) year                           0.015435\n",
      "19) cTCDC267                       0.014259\n",
      "20) cHCDC267                       0.011201\n",
      "21) cLCDC267                       0.008288\n",
      "22) cAPCP267_soft rain             0.004399\n",
      "23) cAPCP267_rain                  0.002971\n"
     ]
    },
    {
     "data": {
      "image/png": "[encoded data removed]",
      "text/plain": [
       "<matplotlib.figure.Figure at 0x7fed615fc518>"
      ]
     },
     "metadata": {
      "needs_background": "light"
     },
     "output_type": "display_data"
    }
   ],
   "source": [
    "from sklearn.ensemble import RandomForestClassifier\n",
    "\n",
    "feat_labels = np.array(lcolx_new)\n",
    "\n",
    "forest = RandomForestClassifier(n_estimators=500,\n",
    "                                random_state=1, n_jobs = -1)\n",
    "\n",
    "forest.fit(X_train, cy_train)\n",
    "importances = forest.feature_importances_\n",
    "\n",
    "indices = np.argsort(importances)[::-1]\n",
    "\n",
    "for f in range(X_train.shape[1]):\n",
    "    print(\"%2d) %-*s %f\" % (f + 1, 30, \n",
    "                            feat_labels[indices[f]], \n",
    "                            importances[indices[f]]))\n",
    "\n",
    "plt.title('Feature Importance')\n",
    "plt.bar(range(X_train.shape[1]), \n",
    "        importances[indices],\n",
    "        align='center')\n",
    "\n",
    "plt.xticks(range(X_train.shape[1]), \n",
    "           feat_labels[indices], rotation=90)\n",
    "plt.xlim([-1, X_train.shape[1]])\n",
    "plt.tight_layout()\n",
    "#plt.savefig('images/04_09.png', dpi=300)\n",
    "plt.show()"
   ]
  },
  {
   "cell_type": "markdown",
   "metadata": {},
   "source": [
    "## Assessing feature importance with Random Forests (Regression)"
   ]
  },
  {
   "cell_type": "code",
   "execution_count": 23,
   "metadata": {},
   "outputs": [
    {
     "name": "stdout",
     "output_type": "stream",
     "text": [
      " 1) UGRD267                        0.106370\n",
      " 2) RH267                          0.103410\n",
      " 3) PRES267                        0.102683\n",
      " 4) TMP267                         0.097877\n",
      " 5) HWS267                         0.086810\n",
      " 6) VGRD267                        0.086466\n",
      " 7) doy                            0.058515\n",
      " 8) TCDC267                        0.049793\n",
      " 9) MCDC267                        0.043415\n",
      "10) hour                           0.040477\n",
      "11) HCDC267                        0.039873\n",
      "12) hforecast                      0.038087\n",
      "13) LCDC267                        0.035117\n",
      "14) APCP267                        0.024056\n",
      "15) logAPCP267                     0.023890\n",
      "16) year                           0.018240\n",
      "17) month                          0.010760\n",
      "18) cHCDC267                       0.007427\n",
      "19) cTCDC267                       0.007245\n",
      "20) cMCDC267                       0.006662\n",
      "21) cLCDC267                       0.006204\n",
      "22) cAPCP267_soft rain             0.005065\n",
      "23) cAPCP267_rain                  0.001557\n"
     ]
    },
    {
     "data": {
      "image/png": "[encoded data removed]",
      "text/plain": [
       "<matplotlib.figure.Figure at 0x7fed61cfc5f8>"
      ]
     },
     "metadata": {
      "needs_background": "light"
     },
     "output_type": "display_data"
    }
   ],
   "source": [
    "from sklearn.ensemble import RandomForestRegressor\n",
    "\n",
    "feat_labels = np.array(lcolx_new)\n",
    "\n",
    "forest = RandomForestRegressor(n_estimators=500,\n",
    "                                random_state=1, n_jobs = -1)\n",
    "\n",
    "forest.fit(X_train, y_train)\n",
    "importances = forest.feature_importances_\n",
    "\n",
    "indices = np.argsort(importances)[::-1]\n",
    "\n",
    "for f in range(X_train.shape[1]):\n",
    "    print(\"%2d) %-*s %f\" % (f + 1, 30, \n",
    "                            feat_labels[indices[f]], \n",
    "                            importances[indices[f]]))\n",
    "\n",
    "plt.title('Feature Importance')\n",
    "plt.bar(range(X_train.shape[1]), \n",
    "        importances[indices],\n",
    "        align='center')\n",
    "\n",
    "plt.xticks(range(X_train.shape[1]), \n",
    "           feat_labels[indices], rotation=90)\n",
    "plt.xlim([-1, X_train.shape[1]])\n",
    "plt.tight_layout()\n",
    "#plt.savefig('images/04_09.png', dpi=300)\n",
    "plt.show()"
   ]
  },
  {
   "cell_type": "markdown",
   "metadata": {},
   "source": [
    "## Using theBuilt-in XGBoost Feature Importance Plot (Classification)"
   ]
  },
  {
   "cell_type": "code",
   "execution_count": 24,
   "metadata": {},
   "outputs": [
    {
     "data": {
      "image/png": "[encoded data removed]",
      "text/plain": [
       "<matplotlib.figure.Figure at 0x7fed60c0bfd0>"
      ]
     },
     "metadata": {
      "needs_background": "light"
     },
     "output_type": "display_data"
    },
    {
     "name": "stdout",
     "output_type": "stream",
     "text": [
      "               colname            importance\n",
      "id                                          \n",
      "0            hforecast    0.3675177991390228\n",
      "20                 doy   0.17496860027313232\n",
      "19                hour    0.0954374223947525\n",
      "9               TMP267   0.07408957928419113\n",
      "4              MCDC267  0.061532020568847656\n",
      "5              HCDC267   0.04813729599118233\n",
      "8                RH267    0.0468815416097641\n",
      "6              TCDC267  0.045207198709249496\n",
      "1              VGRD267   0.02344077080488205\n",
      "10             APCP267   0.01716199330985546\n",
      "11              HWS267  0.012557555921375751\n",
      "7              PRES267  0.008790289051830769\n",
      "3              LCDC267  0.008371703326702118\n",
      "17                year  0.006278777960687876\n",
      "18               month  0.006278777960687876\n",
      "2              UGRD267  0.003348681377246976\n",
      "12            cLCDC267                   0.0\n",
      "13            cMCDC267                   0.0\n",
      "14            cHCDC267                   0.0\n",
      "15            cTCDC267                   0.0\n",
      "16          logAPCP267                   0.0\n",
      "21       cAPCP267_rain                   0.0\n",
      "22  cAPCP267_soft rain                   0.0\n"
     ]
    }
   ],
   "source": [
    "from xgboost import XGBClassifier\n",
    "from xgboost import plot_importance\n",
    "from matplotlib import pyplot\n",
    "# fit model no training data\n",
    "model = XGBClassifier()\n",
    "model.fit(X_train, cy_train)\n",
    "# plot feature importance\n",
    "plot_importance(model)\n",
    "pyplot.show()\n",
    "# importance df\n",
    "dfimportance = pd.DataFrame(np.c_[np.arange(len(lcolx_new)),np.array(lcolx_new),model.feature_importances_],columns=['id','colname','importance']).set_index('id').sort_values(['importance'], ascending=[0])\n",
    "print(dfimportance)"
   ]
  },
  {
   "cell_type": "code",
   "execution_count": 25,
   "metadata": {},
   "outputs": [
    {
     "name": "stdout",
     "output_type": "stream",
     "text": [
      "Training accuracy: 0.845986361022\n",
      "Test accuracy: 0.831592063644\n"
     ]
    }
   ],
   "source": [
    "model.fit(X_train, cy_train)\n",
    "print('Training accuracy:', model.score(X_train, cy_train))\n",
    "print('Test accuracy:', model.score(X_test, cy_test))"
   ]
  },
  {
   "cell_type": "code",
   "execution_count": 26,
   "metadata": {},
   "outputs": [
    {
     "data": {
      "text/plain": [
       "<matplotlib.axes._subplots.AxesSubplot at 0x7fed60d6d908>"
      ]
     },
     "execution_count": 26,
     "metadata": {},
     "output_type": "execute_result"
    },
    {
     "data": {
      "image/png": "[encoded data removed]",
      "text/plain": [
       "<matplotlib.figure.Figure at 0x7fed60ca1198>"
      ]
     },
     "metadata": {
      "needs_background": "light"
     },
     "output_type": "display_data"
    }
   ],
   "source": [
    "## LEARNING CURVE\n",
    "lindex = [int(i) for i in dfimportance.index.tolist()]\n",
    "lacc_train = list()\n",
    "lacc_test = list()\n",
    "for ii in list(range(1,len(lindex)+1,1)):\n",
    "    model.fit(X_train[:,lindex[:ii]], cy_train)\n",
    "    lacc_train.append(model.score(X_train[:,lindex[:ii]], cy_train))\n",
    "    lacc_test.append(model.score(X_test[:,lindex[:ii]], cy_test))\n",
    "dfacc = pd.DataFrame(list(zip(list(range(1,len(lindex)+1,1)), lacc_train, lacc_test)), columns = ['num_feat','acc_train','acc_test']).set_index('num_feat')\n",
    "dfacc.plot(title=\"Learning Curve\")"
   ]
  },
  {
   "cell_type": "markdown",
   "metadata": {},
   "source": [
    "## Using theBuilt-in XGBoost Feature Importance Plot (Regression)"
   ]
  },
  {
   "cell_type": "code",
   "execution_count": 27,
   "metadata": {},
   "outputs": [
    {
     "data": {
      "image/png": "[encoded data removed]",
      "text/plain": [
       "<matplotlib.figure.Figure at 0x7fed9908b908>"
      ]
     },
     "metadata": {
      "needs_background": "light"
     },
     "output_type": "display_data"
    },
    {
     "name": "stdout",
     "output_type": "stream",
     "text": [
      "               colname            importance\n",
      "id                                          \n",
      "2              UGRD267   0.15532544255256653\n",
      "8                RH267    0.1124260351061821\n",
      "1              VGRD267   0.10946745425462723\n",
      "11              HWS267   0.10059171915054321\n",
      "9               TMP267   0.09911242872476578\n",
      "7              PRES267   0.07840237021446228\n",
      "20                 doy   0.05325443670153618\n",
      "0            hforecast   0.04881656914949417\n",
      "10             APCP267    0.0458579882979393\n",
      "4              MCDC267   0.03994082659482956\n",
      "6              TCDC267   0.03254437819123268\n",
      "3              LCDC267  0.031065089628100395\n",
      "5              HCDC267  0.028106508776545525\n",
      "19                hour  0.025147929787635803\n",
      "17                year   0.01923076994717121\n",
      "18               month   0.01479289960116148\n",
      "22  cAPCP267_soft rain  0.005917159840464592\n",
      "12            cLCDC267                   0.0\n",
      "13            cMCDC267                   0.0\n",
      "14            cHCDC267                   0.0\n",
      "15            cTCDC267                   0.0\n",
      "16          logAPCP267                   0.0\n",
      "21       cAPCP267_rain                   0.0\n"
     ]
    }
   ],
   "source": [
    "from xgboost import XGBRegressor\n",
    "from xgboost import plot_importance\n",
    "from matplotlib import pyplot\n",
    "# fit model no training data\n",
    "model = XGBRegressor()\n",
    "model.fit(X_train, y_train)\n",
    "# plot feature importance\n",
    "plot_importance(model)\n",
    "pyplot.show()\n",
    "# importance df\n",
    "dfimportance = pd.DataFrame(np.c_[np.arange(len(lcolx_new)),np.array(lcolx_new),model.feature_importances_],columns=['id','colname','importance']).set_index('id').sort_values(['importance'], ascending=[0])\n",
    "print(dfimportance)"
   ]
  },
  {
   "cell_type": "code",
   "execution_count": 28,
   "metadata": {},
   "outputs": [
    {
     "data": {
      "text/plain": [
       "<matplotlib.axes._subplots.AxesSubplot at 0x7fed61d38b00>"
      ]
     },
     "execution_count": 28,
     "metadata": {},
     "output_type": "execute_result"
    },
    {
     "data": {
      "image/png": "[encoded data removed]",
      "text/plain": [
       "<matplotlib.figure.Figure at 0x7fed60bcb0b8>"
      ]
     },
     "metadata": {
      "needs_background": "light"
     },
     "output_type": "display_data"
    }
   ],
   "source": [
    "## LEARNING CURVE\n",
    "lindex = [int(i) for i in dfimportance.index.tolist()]\n",
    "lacc_train = list()\n",
    "lacc_test = list()\n",
    "for ii in list(range(1,len(lindex)+1,1)):\n",
    "    model.fit(X_train[:,lindex[:ii]], y_train)\n",
    "    lacc_train.append(model.score(X_train[:,lindex[:ii]], y_train))\n",
    "    lacc_test.append(model.score(X_test[:,lindex[:ii]], y_test))\n",
    "dfacc = pd.DataFrame(list(zip(list(range(1,len(lindex)+1,1)), lacc_train, lacc_test)), columns = ['num_feat','acc_train','acc_test']).set_index('num_feat')\n",
    "dfacc.plot(title=\"Learning Curve\")"
   ]
  },
  {
   "cell_type": "code",
   "execution_count": null,
   "metadata": {},
   "outputs": [],
   "source": []
  }
 ],
 "metadata": {
  "kernelspec": {
   "display_name": "Python 3",
   "language": "python",
   "name": "python3"
  },
  "language_info": {
   "codemirror_mode": {
    "name": "ipython",
    "version": 3
   },
   "file_extension": ".py",
   "mimetype": "text/x-python",
   "name": "python",
   "nbconvert_exporter": "python",
   "pygments_lexer": "ipython3",
   "version": "3.6.0"
  }
 },
 "nbformat": 4,
 "nbformat_minor": 2
}
